{
 "cells": [
  {
   "cell_type": "markdown",
   "id": "0aea5203",
   "metadata": {},
   "source": [
    "# Total dynamical O-information"
   ]
  },
  {
   "cell_type": "markdown",
   "id": "3494610e",
   "metadata": {},
   "source": [
    "## Index\n",
    "\n",
    "1. [Functions](#functions)\n",
    "1. [Load and binarize data](#load_binar_data)\n",
    "1. [Triplets](#triplets)\n",
    "    1. [Total dynamical O-information](#total_dyn_triplets)\n",
    "    1. [Results](#results_triplets)\n",
    "        1. [Violin plot](#violin_plot_triplets)\n",
    "        1. [Scatter plot](#scatter_plot_triplets)\n",
    "        1. [Dataframe](#dataframe_triplets)\n",
    "        1. [Summary](#summary_triplets)\n",
    "        1. [A posteriori](#a_posteriori_triplets)\n",
    "    1. [O-information](#o_info_triplets)\n",
    "        1. [Results](#results_o_info_triplets)\n",
    "1. [Quadriplets](#quadriplets)\n",
    "    1. [Total dynamical O-information](#total_dyn_quadriplets)\n",
    "    1. [Results](#results_quadriplets)\n",
    "        1. [Violin plot](#violin_plot_quadriplets)\n",
    "        1. [Scatter plot](#scatter_plot_quadriplets)\n",
    "        1. [Dataframe](#dataframe_quadriplets)\n",
    "        1. [Summary](#summary_quadriplets)\n",
    "        1. [A posteriori](#a_posteriori_quadriplets)\n",
    "1. [Comparison Triplets vs Quadriplets](#comparison_triplets_quadriplets)"
   ]
  },
  {
   "cell_type": "markdown",
   "id": "38a05309",
   "metadata": {},
   "source": [
    "<a name=\"functions\"></a>\n",
    "## Functions"
   ]
  },
  {
   "cell_type": "code",
   "execution_count": 1,
   "id": "db257800",
   "metadata": {},
   "outputs": [],
   "source": [
    "import numpy as np\n",
    "import pandas as pd\n",
    "import matplotlib.pyplot as plt\n",
    "import matplotlib.patches as mpatches\n",
    "from itertools import combinations\n",
    "from tqdm.auto import tqdm\n",
    "import random\n",
    "import pickle\n",
    "from scipy.stats import spearmanr, entropy\n",
    "import rbo\n",
    "\n",
    "from ho_info_metrics.metrics import *\n",
    "from ho_info_metrics.processing import *\n",
    "from ho_info_metrics.utils import *"
   ]
  },
  {
   "cell_type": "code",
   "execution_count": 2,
   "id": "544f8f8c",
   "metadata": {},
   "outputs": [],
   "source": [
    "def read_txt(filepath):\n",
    "    \"\"\"Reads the file and converts it into a pandas DataFrame\"\"\"\n",
    "    data = []\n",
    "\n",
    "    with open(filepath, \"r\") as file:\n",
    "        for line in file:\n",
    "            row = [float(value) for value in line.strip().split()]\n",
    "            data.append(row)\n",
    "\n",
    "    return pd.DataFrame(data)"
   ]
  },
  {
   "cell_type": "code",
   "execution_count": 3,
   "id": "bb97808d",
   "metadata": {},
   "outputs": [],
   "source": [
    "def binarize_df_mean(input_df):\n",
    "    \"\"\"Compute the average of each column and replaces the DataFrame\n",
    "    values with 0 if they are below the average and 1 otherwise\"\"\"\n",
    "\n",
    "    column_means = input_df.mean()  # mean for each column\n",
    "\n",
    "    # New DataFrame with all zeros\n",
    "    binary_df = pd.DataFrame(0, index=input_df.index, columns=input_df.columns)\n",
    "\n",
    "    binary_df[input_df >= column_means] = 1\n",
    "\n",
    "    return binary_df"
   ]
  },
  {
   "cell_type": "code",
   "execution_count": 4,
   "id": "f65f71ca",
   "metadata": {},
   "outputs": [],
   "source": [
    "def get_do_infos(df_original, df_AR, df_PR, random_triplets):\n",
    "    \"\"\"Compute the total dynamic O-information for the random_triplets for all\n",
    "    three DataFrames, the original and the two randomised ones\"\"\"\n",
    "\n",
    "    # Compute the do-info for the original dataset\n",
    "    do_info_original = []\n",
    "    bar_length = len(random_triplets)\n",
    "    with tqdm(total=bar_length) as pbar:\n",
    "        pbar.set_description(\"Original\")\n",
    "        for i in range(len(random_triplets)):\n",
    "            X1 = df_original[random_triplets[i][0]].values\n",
    "            X2 = df_original[random_triplets[i][1]].values\n",
    "            X3 = df_original[random_triplets[i][2]].values\n",
    "            X = np.vstack((X1, X2, X3))\n",
    "            do_info_original.append(o_information_lagged_all(X, estimator=\"cat_ent\"))\n",
    "            pbar.update(1)\n",
    "\n",
    "    # Compute the do-info for the AR dataset\n",
    "    do_info_AR = []\n",
    "    bar_length = len(random_triplets)\n",
    "    with tqdm(total=bar_length) as pbar:\n",
    "        pbar.set_description(\"AR\")\n",
    "        for i in range(len(random_triplets)):\n",
    "            X1 = df_AR[random_triplets[i][0]].values\n",
    "            X2 = df_AR[random_triplets[i][1]].values\n",
    "            X3 = df_AR[random_triplets[i][2]].values\n",
    "            X = np.vstack((X1, X2, X3))\n",
    "            do_info_AR.append(o_information_lagged_all(X, estimator=\"cat_ent\"))\n",
    "            pbar.update(1)\n",
    "\n",
    "    # Compute the do-info for the PR dataset\n",
    "    do_info_PR = []\n",
    "    bar_length = len(random_triplets)\n",
    "    with tqdm(total=bar_length) as pbar:\n",
    "        pbar.set_description(\"PR\")\n",
    "        for i in range(len(random_triplets)):\n",
    "            X1 = df_PR[random_triplets[i][0]].values\n",
    "            X2 = df_PR[random_triplets[i][1]].values\n",
    "            X3 = df_PR[random_triplets[i][2]].values\n",
    "            X = np.vstack((X1, X2, X3))\n",
    "            do_info_PR.append(o_information_lagged_all(X, estimator=\"cat_ent\"))\n",
    "            pbar.update(1)\n",
    "\n",
    "    return do_info_original, do_info_AR, do_info_PR"
   ]
  },
  {
   "cell_type": "code",
   "execution_count": 5,
   "id": "a8dd8e52",
   "metadata": {},
   "outputs": [],
   "source": [
    "def get_o_infos(df_original, df_AR, df_PR, random_triplets):\n",
    "    \"\"\"Compute the O-information for the random_triplets for all\n",
    "    three DataFrames, the original and the two randomised ones\"\"\"\n",
    "\n",
    "    # Compute the do-info for the original dataset\n",
    "    o_info_original = []\n",
    "    bar_length = len(random_triplets)\n",
    "    with tqdm(total=bar_length) as pbar:\n",
    "        pbar.set_description(\"Original\")\n",
    "        for i in range(len(random_triplets)):\n",
    "            X1 = df_original[random_triplets[i][0]].values\n",
    "            X2 = df_original[random_triplets[i][1]].values\n",
    "            X3 = df_original[random_triplets[i][2]].values\n",
    "            X = np.vstack((X1, X2, X3))\n",
    "            o_info_original.append(o_information_boot(X, estimator=\"cat_ent\"))\n",
    "            pbar.update(1)\n",
    "\n",
    "    # Compute the do-info for the AR dataset\n",
    "    o_info_AR = []\n",
    "    bar_length = len(random_triplets)\n",
    "    with tqdm(total=bar_length) as pbar:\n",
    "        pbar.set_description(\"AR\")\n",
    "        for i in range(len(random_triplets)):\n",
    "            X1 = df_AR[random_triplets[i][0]].values\n",
    "            X2 = df_AR[random_triplets[i][1]].values\n",
    "            X3 = df_AR[random_triplets[i][2]].values\n",
    "            X = np.vstack((X1, X2, X3))\n",
    "            o_info_AR.append(o_information_boot(X, estimator=\"cat_ent\"))\n",
    "            pbar.update(1)\n",
    "\n",
    "    # Compute the do-info for the PR dataset\n",
    "    o_info_PR = []\n",
    "    bar_length = len(random_triplets)\n",
    "    with tqdm(total=bar_length) as pbar:\n",
    "        pbar.set_description(\"PR\")\n",
    "        for i in range(len(random_triplets)):\n",
    "            X1 = df_PR[random_triplets[i][0]].values\n",
    "            X2 = df_PR[random_triplets[i][1]].values\n",
    "            X3 = df_PR[random_triplets[i][2]].values\n",
    "            X = np.vstack((X1, X2, X3))\n",
    "            o_info_PR.append(o_information_boot(X, estimator=\"cat_ent\"))\n",
    "            pbar.update(1)\n",
    "\n",
    "    return o_info_original, o_info_AR, o_info_PR"
   ]
  },
  {
   "cell_type": "code",
   "execution_count": 6,
   "id": "4136e9f3",
   "metadata": {},
   "outputs": [],
   "source": [
    "def np_load_triplets(subject):\n",
    "    \"\"\"Load all the info of a subject (original, AR and PR for exam 0 and 1)\n",
    "    and returns two list with those info, one for the original data and the other for the modified\"\"\"\n",
    "\n",
    "    doinfo_original_exam_0 = np.load(\n",
    "        f\"./results/brain_results/triplets/do_info/subject_{subject}_doinfo_original_exam_0.npy\"\n",
    "    )\n",
    "    doinfo_AR_exam_0 = np.load(\n",
    "        f\"./results/brain_results/triplets/do_info/subject_{subject}_doinfo_AR_exam_0.npy\"\n",
    "    )\n",
    "    doinfo_PR_exam_0 = np.load(\n",
    "        f\"./results/brain_results/triplets/do_info/subject_{subject}_doinfo_PR_exam_0.npy\"\n",
    "    )\n",
    "    doinfo_original_exam_1 = np.load(\n",
    "        f\"./results/brain_results/triplets/do_info/subject_{subject}_doinfo_original_exam_1.npy\"\n",
    "    )\n",
    "    doinfo_AR_exam_1 = np.load(\n",
    "        f\"./results/brain_results/triplets/do_info/subject_{subject}_doinfo_AR_exam_1.npy\"\n",
    "    )\n",
    "    doinfo_PR_exam_1 = np.load(\n",
    "        f\"./results/brain_results/triplets/do_info/subject_{subject}_doinfo_PR_exam_1.npy\"\n",
    "    )\n",
    "\n",
    "    original = [doinfo_original_exam_0, doinfo_original_exam_1]\n",
    "    modified = [doinfo_AR_exam_0, doinfo_PR_exam_0, doinfo_AR_exam_1, doinfo_PR_exam_1]\n",
    "\n",
    "    return original, modified"
   ]
  },
  {
   "cell_type": "code",
   "execution_count": 7,
   "id": "b14a76b2",
   "metadata": {},
   "outputs": [],
   "source": [
    "def np_load_o_info_triplets(subject):\n",
    "    \"\"\"Load all the info of a subject (original, AR and PR for exam 0 and 1)\n",
    "    and returns two list with those info, one for the original data and the other for the modified\"\"\"\n",
    "\n",
    "    oinfo_original_exam_0 = np.load(\n",
    "        f\"./results/brain_results/triplets/o_info/metrics/subject_{subject}_original_exam_0.npy\"\n",
    "    )\n",
    "    oinfo_AR_exam_0 = np.load(\n",
    "        f\"./results/brain_results/triplets/o_info/metrics/subject_{subject}_AR_exam_0.npy\"\n",
    "    )\n",
    "    oinfo_PR_exam_0 = np.load(\n",
    "        f\"./results/brain_results/triplets/o_info/metrics/subject_{subject}_PR_exam_0.npy\"\n",
    "    )\n",
    "    oinfo_original_exam_1 = np.load(\n",
    "        f\"./results/brain_results/triplets/o_info/metrics/subject_{subject}_original_exam_1.npy\"\n",
    "    )\n",
    "    oinfo_AR_exam_1 = np.load(\n",
    "        f\"./results/brain_results/triplets/o_info/metrics/subject_{subject}_AR_exam_1.npy\"\n",
    "    )\n",
    "    oinfo_PR_exam_1 = np.load(\n",
    "        f\"./results/brain_results/triplets/o_info/metrics/subject_{subject}_PR_exam_1.npy\"\n",
    "    )\n",
    "\n",
    "    original = [oinfo_original_exam_0, oinfo_original_exam_1]\n",
    "    modified = [oinfo_AR_exam_0, oinfo_PR_exam_0, oinfo_AR_exam_1, oinfo_PR_exam_1]\n",
    "\n",
    "    return original, modified"
   ]
  },
  {
   "cell_type": "code",
   "execution_count": 8,
   "id": "fd355997",
   "metadata": {},
   "outputs": [],
   "source": [
    "def np_load_quadriplets(subject):\n",
    "    \"\"\"Load all the info of a subject (original, AR and PR for exam 0 and 1)\n",
    "    and returns two list with those info, one for the original data and the other for the modified\"\"\"\n",
    "\n",
    "    doinfo_original_exam_0 = np.load(\n",
    "        f\"./results/brain_results/quadriplets/do_info/subject_{subject}_doinfo_original_exam_0.npy\"\n",
    "    )\n",
    "    doinfo_AR_exam_0 = np.load(\n",
    "        f\"./results/brain_results/quadriplets/do_info/subject_{subject}_doinfo_AR_exam_0.npy\"\n",
    "    )\n",
    "    doinfo_PR_exam_0 = np.load(\n",
    "        f\"./results/brain_results/quadriplets/do_info/subject_{subject}_doinfo_PR_exam_0.npy\"\n",
    "    )\n",
    "    doinfo_original_exam_1 = np.load(\n",
    "        f\"./results/brain_results/quadriplets/do_info/subject_{subject}_doinfo_original_exam_1.npy\"\n",
    "    )\n",
    "    doinfo_AR_exam_1 = np.load(\n",
    "        f\"./results/brain_results/quadriplets/do_info/subject_{subject}_doinfo_AR_exam_1.npy\"\n",
    "    )\n",
    "    doinfo_PR_exam_1 = np.load(\n",
    "        f\"./results/brain_results/quadriplets/do_info/subject_{subject}_doinfo_PR_exam_1.npy\"\n",
    "    )\n",
    "\n",
    "    original = [doinfo_original_exam_0, doinfo_original_exam_1]\n",
    "    modified = [doinfo_AR_exam_0, doinfo_PR_exam_0, doinfo_AR_exam_1, doinfo_PR_exam_1]\n",
    "\n",
    "    return original, modified"
   ]
  },
  {
   "cell_type": "code",
   "execution_count": 9,
   "id": "5bdfab72",
   "metadata": {},
   "outputs": [],
   "source": [
    "def max_bins(array1, array2, array3):\n",
    "    \"\"\"Return the maximum number of bins so that there is at least one value inside each interval\"\"\"\n",
    "    \n",
    "    bins = 1\n",
    "    cond = True\n",
    "\n",
    "    while cond:\n",
    "        bins += 1\n",
    "        array1_hist, _ = np.histogram(array1, bins=bins)\n",
    "        array2_hist, _ = np.histogram(array2, bins=bins)\n",
    "        array3_hist, _ = np.histogram(array3, bins=bins)\n",
    "\n",
    "        if np.isin(0, array1_hist):\n",
    "            cond = False\n",
    "\n",
    "        elif np.isin(0, array2_hist):\n",
    "            cond = False\n",
    "\n",
    "        elif np.isin(0, array3_hist):\n",
    "            cond = False\n",
    "            \n",
    "    return bins - 1"
   ]
  },
  {
   "cell_type": "code",
   "execution_count": 10,
   "id": "1e1ee7a5",
   "metadata": {},
   "outputs": [],
   "source": [
    "def JS_div(array1, array2):\n",
    "    \"\"\"Compute the J-S divergence of two array\"\"\"\n",
    "    \n",
    "    array1_sort = np.sort(array1)\n",
    "    array2_sort = np.sort(array2)\n",
    "\n",
    "    array1_normalized = array1_sort / np.sum(array1_sort)\n",
    "    array2_normalized = array2_sort / np.sum(array2_sort)\n",
    "\n",
    "    average = (array1_normalized + array2_normalized) / 2\n",
    "    average_sort = np.sort(average)\n",
    "    \n",
    "    bins = max_bins(array1_normalized, array2_normalized, average_sort)\n",
    "    \n",
    "    array1_hist, _ = np.histogram(array1_normalized, bins=bins)\n",
    "    array2_hist, _ = np.histogram(array2_normalized, bins=bins)\n",
    "    average_hist, _ = np.histogram(average_sort, bins=bins)\n",
    "    \n",
    "    kl_array1 = entropy(array1_hist, average_hist)\n",
    "    kl_array2 = entropy(array2_hist, average_hist)\n",
    " \n",
    "    return np.sum(kl_array1 + kl_array2) / 2"
   ]
  },
  {
   "cell_type": "markdown",
   "id": "12079d3b",
   "metadata": {},
   "source": [
    "<a name=\"load_binar_data\"></a>\n",
    "## Load and binarize data"
   ]
  },
  {
   "cell_type": "markdown",
   "id": "72d3eadf",
   "metadata": {},
   "source": [
    "I binarize on the mean, as done [here](https://www.pnas.org/doi/10.1073/pnas.2300888120).  \n",
    "Could it be that, since there are many fluctuations, binaryising on a time window is more effective? No, I've tested it."
   ]
  },
  {
   "cell_type": "code",
   "execution_count": 11,
   "id": "6bb83a9e",
   "metadata": {},
   "outputs": [],
   "source": [
    "# subjects = [100307, 100408, 101107, 101309, 101915, 103111, 103414, 103818, 105014, 105115, 106016, 108828, 110411, 111312, 111716, 113619, 113922, 114419, 115320, 116524, 117122, 118528, 118730, 118932, 120111, 122317, 122620, 123117, 123925, 124422, 125525, 126325, 127630, 127933, 128127, 128632, 129028, 130013, 130316, 131217, 131722, 133019, 133928, 135225, 135932, 136833, 138534, 139637, 140925, 144832, 146432, 147737, 148335, 148840, 149337, 149539, 149741, 151223, 151526, 151627, 153025, 154734, 156637, 159340, 160123, 161731, 162733, 163129, 176542, 178950, 188347, 189450, 190031, 192540, 196750, 198451, 199655, 201111, 208226, 211417, 211720, 212318, 214423, 221319, 239944, 245333, 280739, 298051, 366446, 397760, 414229, 499566, 654754, 672756, 751348, 756055, 792564, 856766]\n",
    "\n",
    "subjects = [100307, 100408, 101107, 101309, 101915, 103111, 103414, 103818, 105014, 105115]"
   ]
  },
  {
   "cell_type": "code",
   "execution_count": 12,
   "id": "cf221546",
   "metadata": {},
   "outputs": [],
   "source": [
    "# Dictionary where the key is the name of the variable and the value is the DataFrame\n",
    "df_all_original_0 = {}\n",
    "df_all_AR_0 = {}\n",
    "df_all_PR_0 = {}\n",
    "\n",
    "df_all_original_1 = {}\n",
    "df_all_AR_1 = {}\n",
    "df_all_PR_1 = {}\n",
    "\n",
    "for subject in subjects:\n",
    "    variable_name = f\"df_{subject}_original_0\"\n",
    "    non_binar = read_txt(f\"data/Brain_data/TimeSeriesAAL/Subj_{subject}_AAL89_Exam0_TS_HCP.txt\")\n",
    "    df_all_original_0[variable_name] = binarize_df_mean(non_binar)\n",
    "\n",
    "    variable_name = f\"df_{subject}_AR_0\"\n",
    "    non_binar = read_txt(f\"data/Brain_data/null_models/Subj_{subject}_AAL89_Exam0_TS_HCP_AR.txt\")\n",
    "    df_all_AR_0[variable_name] = binarize_df_mean(non_binar)\n",
    "\n",
    "    variable_name = f\"df_{subject}_PR_0\"\n",
    "    non_binar = read_txt(f\"data/Brain_data/null_models/Subj_{subject}_AAL89_Exam0_TS_HCP_PR.txt\")\n",
    "    df_all_PR_0[variable_name] = binarize_df_mean(non_binar)\n",
    "\n",
    "    variable_name = f\"df_{subject}_original_1\"\n",
    "    non_binar = read_txt(f\"data/Brain_data/TimeSeriesAAL/Subj_{subject}_AAL89_Exam1_TS_HCP.txt\")\n",
    "    df_all_original_1[variable_name] = binarize_df_mean(non_binar)\n",
    "\n",
    "    variable_name = f\"df_{subject}_AR_1\"\n",
    "    non_binar = read_txt(f\"data/Brain_data/null_models/Subj_{subject}_AAL89_Exam1_TS_HCP_AR.txt\")\n",
    "    df_all_AR_1[variable_name] = binarize_df_mean(non_binar)\n",
    "\n",
    "    variable_name = f\"df_{subject}_PR_1\"\n",
    "    non_binar = read_txt(f\"data/Brain_data/null_models/Subj_{subject}_AAL89_Exam1_TS_HCP_PR.txt\")\n",
    "    df_all_PR_1[variable_name] = binarize_df_mean(non_binar)"
   ]
  },
  {
   "cell_type": "code",
   "execution_count": 13,
   "id": "ab9acc61",
   "metadata": {},
   "outputs": [
    {
     "data": {
      "text/html": [
       "<div>\n",
       "<style scoped>\n",
       "    .dataframe tbody tr th:only-of-type {\n",
       "        vertical-align: middle;\n",
       "    }\n",
       "\n",
       "    .dataframe tbody tr th {\n",
       "        vertical-align: top;\n",
       "    }\n",
       "\n",
       "    .dataframe thead th {\n",
       "        text-align: right;\n",
       "    }\n",
       "</style>\n",
       "<table border=\"1\" class=\"dataframe\">\n",
       "  <thead>\n",
       "    <tr style=\"text-align: right;\">\n",
       "      <th></th>\n",
       "      <th>0</th>\n",
       "      <th>1</th>\n",
       "      <th>2</th>\n",
       "      <th>3</th>\n",
       "      <th>4</th>\n",
       "      <th>5</th>\n",
       "      <th>6</th>\n",
       "      <th>7</th>\n",
       "      <th>8</th>\n",
       "      <th>9</th>\n",
       "      <th>...</th>\n",
       "      <th>79</th>\n",
       "      <th>80</th>\n",
       "      <th>81</th>\n",
       "      <th>82</th>\n",
       "      <th>83</th>\n",
       "      <th>84</th>\n",
       "      <th>85</th>\n",
       "      <th>86</th>\n",
       "      <th>87</th>\n",
       "      <th>88</th>\n",
       "    </tr>\n",
       "  </thead>\n",
       "  <tbody>\n",
       "    <tr>\n",
       "      <th>0</th>\n",
       "      <td>1</td>\n",
       "      <td>1</td>\n",
       "      <td>1</td>\n",
       "      <td>1</td>\n",
       "      <td>1</td>\n",
       "      <td>1</td>\n",
       "      <td>1</td>\n",
       "      <td>1</td>\n",
       "      <td>1</td>\n",
       "      <td>1</td>\n",
       "      <td>...</td>\n",
       "      <td>1</td>\n",
       "      <td>1</td>\n",
       "      <td>1</td>\n",
       "      <td>1</td>\n",
       "      <td>1</td>\n",
       "      <td>1</td>\n",
       "      <td>1</td>\n",
       "      <td>1</td>\n",
       "      <td>1</td>\n",
       "      <td>1</td>\n",
       "    </tr>\n",
       "    <tr>\n",
       "      <th>1</th>\n",
       "      <td>1</td>\n",
       "      <td>1</td>\n",
       "      <td>1</td>\n",
       "      <td>1</td>\n",
       "      <td>1</td>\n",
       "      <td>1</td>\n",
       "      <td>1</td>\n",
       "      <td>1</td>\n",
       "      <td>1</td>\n",
       "      <td>1</td>\n",
       "      <td>...</td>\n",
       "      <td>1</td>\n",
       "      <td>1</td>\n",
       "      <td>1</td>\n",
       "      <td>1</td>\n",
       "      <td>1</td>\n",
       "      <td>1</td>\n",
       "      <td>1</td>\n",
       "      <td>1</td>\n",
       "      <td>1</td>\n",
       "      <td>1</td>\n",
       "    </tr>\n",
       "    <tr>\n",
       "      <th>2</th>\n",
       "      <td>1</td>\n",
       "      <td>1</td>\n",
       "      <td>1</td>\n",
       "      <td>1</td>\n",
       "      <td>1</td>\n",
       "      <td>1</td>\n",
       "      <td>1</td>\n",
       "      <td>1</td>\n",
       "      <td>1</td>\n",
       "      <td>1</td>\n",
       "      <td>...</td>\n",
       "      <td>1</td>\n",
       "      <td>1</td>\n",
       "      <td>0</td>\n",
       "      <td>1</td>\n",
       "      <td>1</td>\n",
       "      <td>1</td>\n",
       "      <td>1</td>\n",
       "      <td>1</td>\n",
       "      <td>1</td>\n",
       "      <td>1</td>\n",
       "    </tr>\n",
       "    <tr>\n",
       "      <th>3</th>\n",
       "      <td>1</td>\n",
       "      <td>0</td>\n",
       "      <td>1</td>\n",
       "      <td>1</td>\n",
       "      <td>1</td>\n",
       "      <td>1</td>\n",
       "      <td>1</td>\n",
       "      <td>1</td>\n",
       "      <td>1</td>\n",
       "      <td>1</td>\n",
       "      <td>...</td>\n",
       "      <td>0</td>\n",
       "      <td>1</td>\n",
       "      <td>0</td>\n",
       "      <td>1</td>\n",
       "      <td>1</td>\n",
       "      <td>1</td>\n",
       "      <td>1</td>\n",
       "      <td>1</td>\n",
       "      <td>1</td>\n",
       "      <td>0</td>\n",
       "    </tr>\n",
       "    <tr>\n",
       "      <th>4</th>\n",
       "      <td>0</td>\n",
       "      <td>0</td>\n",
       "      <td>1</td>\n",
       "      <td>1</td>\n",
       "      <td>1</td>\n",
       "      <td>1</td>\n",
       "      <td>1</td>\n",
       "      <td>1</td>\n",
       "      <td>1</td>\n",
       "      <td>1</td>\n",
       "      <td>...</td>\n",
       "      <td>0</td>\n",
       "      <td>0</td>\n",
       "      <td>0</td>\n",
       "      <td>0</td>\n",
       "      <td>1</td>\n",
       "      <td>1</td>\n",
       "      <td>1</td>\n",
       "      <td>1</td>\n",
       "      <td>1</td>\n",
       "      <td>0</td>\n",
       "    </tr>\n",
       "    <tr>\n",
       "      <th>...</th>\n",
       "      <td>...</td>\n",
       "      <td>...</td>\n",
       "      <td>...</td>\n",
       "      <td>...</td>\n",
       "      <td>...</td>\n",
       "      <td>...</td>\n",
       "      <td>...</td>\n",
       "      <td>...</td>\n",
       "      <td>...</td>\n",
       "      <td>...</td>\n",
       "      <td>...</td>\n",
       "      <td>...</td>\n",
       "      <td>...</td>\n",
       "      <td>...</td>\n",
       "      <td>...</td>\n",
       "      <td>...</td>\n",
       "      <td>...</td>\n",
       "      <td>...</td>\n",
       "      <td>...</td>\n",
       "      <td>...</td>\n",
       "      <td>...</td>\n",
       "    </tr>\n",
       "    <tr>\n",
       "      <th>1195</th>\n",
       "      <td>1</td>\n",
       "      <td>1</td>\n",
       "      <td>1</td>\n",
       "      <td>0</td>\n",
       "      <td>0</td>\n",
       "      <td>0</td>\n",
       "      <td>1</td>\n",
       "      <td>1</td>\n",
       "      <td>1</td>\n",
       "      <td>1</td>\n",
       "      <td>...</td>\n",
       "      <td>0</td>\n",
       "      <td>0</td>\n",
       "      <td>0</td>\n",
       "      <td>1</td>\n",
       "      <td>1</td>\n",
       "      <td>1</td>\n",
       "      <td>1</td>\n",
       "      <td>1</td>\n",
       "      <td>1</td>\n",
       "      <td>0</td>\n",
       "    </tr>\n",
       "    <tr>\n",
       "      <th>1196</th>\n",
       "      <td>1</td>\n",
       "      <td>1</td>\n",
       "      <td>1</td>\n",
       "      <td>1</td>\n",
       "      <td>1</td>\n",
       "      <td>0</td>\n",
       "      <td>1</td>\n",
       "      <td>1</td>\n",
       "      <td>1</td>\n",
       "      <td>1</td>\n",
       "      <td>...</td>\n",
       "      <td>0</td>\n",
       "      <td>0</td>\n",
       "      <td>1</td>\n",
       "      <td>0</td>\n",
       "      <td>1</td>\n",
       "      <td>1</td>\n",
       "      <td>0</td>\n",
       "      <td>1</td>\n",
       "      <td>0</td>\n",
       "      <td>1</td>\n",
       "    </tr>\n",
       "    <tr>\n",
       "      <th>1197</th>\n",
       "      <td>1</td>\n",
       "      <td>1</td>\n",
       "      <td>1</td>\n",
       "      <td>1</td>\n",
       "      <td>0</td>\n",
       "      <td>0</td>\n",
       "      <td>1</td>\n",
       "      <td>1</td>\n",
       "      <td>1</td>\n",
       "      <td>1</td>\n",
       "      <td>...</td>\n",
       "      <td>0</td>\n",
       "      <td>1</td>\n",
       "      <td>0</td>\n",
       "      <td>1</td>\n",
       "      <td>1</td>\n",
       "      <td>1</td>\n",
       "      <td>0</td>\n",
       "      <td>1</td>\n",
       "      <td>0</td>\n",
       "      <td>1</td>\n",
       "    </tr>\n",
       "    <tr>\n",
       "      <th>1198</th>\n",
       "      <td>1</td>\n",
       "      <td>1</td>\n",
       "      <td>1</td>\n",
       "      <td>1</td>\n",
       "      <td>0</td>\n",
       "      <td>1</td>\n",
       "      <td>0</td>\n",
       "      <td>1</td>\n",
       "      <td>1</td>\n",
       "      <td>0</td>\n",
       "      <td>...</td>\n",
       "      <td>0</td>\n",
       "      <td>0</td>\n",
       "      <td>0</td>\n",
       "      <td>0</td>\n",
       "      <td>1</td>\n",
       "      <td>1</td>\n",
       "      <td>0</td>\n",
       "      <td>1</td>\n",
       "      <td>0</td>\n",
       "      <td>0</td>\n",
       "    </tr>\n",
       "    <tr>\n",
       "      <th>1199</th>\n",
       "      <td>1</td>\n",
       "      <td>0</td>\n",
       "      <td>0</td>\n",
       "      <td>1</td>\n",
       "      <td>1</td>\n",
       "      <td>1</td>\n",
       "      <td>0</td>\n",
       "      <td>1</td>\n",
       "      <td>1</td>\n",
       "      <td>1</td>\n",
       "      <td>...</td>\n",
       "      <td>0</td>\n",
       "      <td>0</td>\n",
       "      <td>0</td>\n",
       "      <td>0</td>\n",
       "      <td>1</td>\n",
       "      <td>0</td>\n",
       "      <td>0</td>\n",
       "      <td>0</td>\n",
       "      <td>0</td>\n",
       "      <td>0</td>\n",
       "    </tr>\n",
       "  </tbody>\n",
       "</table>\n",
       "<p>1200 rows × 89 columns</p>\n",
       "</div>"
      ],
      "text/plain": [
       "      0   1   2   3   4   5   6   7   8   9   ...  79  80  81  82  83  84  85  \\\n",
       "0      1   1   1   1   1   1   1   1   1   1  ...   1   1   1   1   1   1   1   \n",
       "1      1   1   1   1   1   1   1   1   1   1  ...   1   1   1   1   1   1   1   \n",
       "2      1   1   1   1   1   1   1   1   1   1  ...   1   1   0   1   1   1   1   \n",
       "3      1   0   1   1   1   1   1   1   1   1  ...   0   1   0   1   1   1   1   \n",
       "4      0   0   1   1   1   1   1   1   1   1  ...   0   0   0   0   1   1   1   \n",
       "...   ..  ..  ..  ..  ..  ..  ..  ..  ..  ..  ...  ..  ..  ..  ..  ..  ..  ..   \n",
       "1195   1   1   1   0   0   0   1   1   1   1  ...   0   0   0   1   1   1   1   \n",
       "1196   1   1   1   1   1   0   1   1   1   1  ...   0   0   1   0   1   1   0   \n",
       "1197   1   1   1   1   0   0   1   1   1   1  ...   0   1   0   1   1   1   0   \n",
       "1198   1   1   1   1   0   1   0   1   1   0  ...   0   0   0   0   1   1   0   \n",
       "1199   1   0   0   1   1   1   0   1   1   1  ...   0   0   0   0   1   0   0   \n",
       "\n",
       "      86  87  88  \n",
       "0      1   1   1  \n",
       "1      1   1   1  \n",
       "2      1   1   1  \n",
       "3      1   1   0  \n",
       "4      1   1   0  \n",
       "...   ..  ..  ..  \n",
       "1195   1   1   0  \n",
       "1196   1   0   1  \n",
       "1197   1   0   1  \n",
       "1198   1   0   0  \n",
       "1199   0   0   0  \n",
       "\n",
       "[1200 rows x 89 columns]"
      ]
     },
     "execution_count": 13,
     "metadata": {},
     "output_type": "execute_result"
    }
   ],
   "source": [
    "df_all_original_0[f\"df_{subjects[0]}_original_0\"]"
   ]
  },
  {
   "cell_type": "markdown",
   "id": "47e21d67",
   "metadata": {},
   "source": [
    "<a name=\"triplets\"></a>\n",
    "## Triplets"
   ]
  },
  {
   "cell_type": "markdown",
   "id": "716c54db",
   "metadata": {},
   "source": [
    "<a name=\"total_dyn_triplets\"></a>\n",
    "### Total dynamical O-information"
   ]
  },
  {
   "cell_type": "markdown",
   "id": "c7d614e5",
   "metadata": {},
   "source": [
    "For each DataFrame I calculate the total dynamic O-information of n_tripl triplets; each triplet consists of three random points among the 89."
   ]
  },
  {
   "cell_type": "code",
   "execution_count": null,
   "id": "f2db0781",
   "metadata": {},
   "outputs": [],
   "source": [
    "# DO NOT RUN IF YOU ALREADY HAVE THE TRIPLETS\n",
    "\n",
    "# From all possible combinations of 3 columns, I randomly extract n_tripl non-repeating triplets\n",
    "n_tripl = 5000  # max 113564\n",
    "\n",
    "\n",
    "triplets = list(\n",
    "    combinations(df_all_original_0[f\"df_{subjects[0]}_original_0\"].columns, 3)\n",
    ")\n",
    "random_triplets = random.sample(triplets, n_tripl)\n",
    "\n",
    "# Save the variables with pickle\n",
    "with open(\"results/brain_results/triplets/triplets.pkl\", \"wb\") as file:\n",
    "    pickle.dump((n_tripl, random_triplets), file)\n",
    "\n",
    "# If I want to load the variables, I have to do:\n",
    "# with open(\"results/brain_results/triplets/triplets.pkl\", \"rb\") as file:\n",
    "#    n_tripl, random_triplets = pickle.load(file)"
   ]
  },
  {
   "cell_type": "code",
   "execution_count": null,
   "id": "cd580647",
   "metadata": {
    "scrolled": true
   },
   "outputs": [],
   "source": [
    "# DO NOT RUN IF YOU ALREADY HAVE THE DATA\n",
    "\n",
    "doinfo_all_original_0 = {}\n",
    "doinfo_all_AR_0 = {}\n",
    "doinfo_all_PR_0 = {}\n",
    "\n",
    "doinfo_all_original_1 = {}\n",
    "doinfo_all_AR_1 = {}\n",
    "doinfo_all_PR_1 = {}\n",
    "\n",
    "for subject in subjects:\n",
    "    (\n",
    "        doinfo_all_original_0[f\"df_{subject}_original_0\"],\n",
    "        doinfo_all_AR_0[f\"df_{subject}_AR_0\"],\n",
    "        doinfo_all_PR_0[f\"df_{subject}_PR_0\"],\n",
    "    ) = get_do_infos(\n",
    "        df_all_original_0[f\"df_{subject}_original_0\"],\n",
    "        df_all_AR_0[f\"df_{subject}_AR_0\"],\n",
    "        df_all_PR_0[f\"df_{subject}_PR_0\"],\n",
    "        random_triplets,\n",
    "    )\n",
    "\n",
    "    (\n",
    "        doinfo_all_original_1[f\"df_{subject}_original_1\"],\n",
    "        doinfo_all_AR_1[f\"df_{subject}_AR_1\"],\n",
    "        doinfo_all_PR_1[f\"df_{subject}_PR_1\"],\n",
    "    ) = get_do_infos(\n",
    "        df_all_original_1[f\"df_{subject}_original_1\"],\n",
    "        df_all_AR_1[f\"df_{subject}_AR_1\"],\n",
    "        df_all_PR_1[f\"df_{subject}_PR_1\"],\n",
    "        random_triplets,\n",
    "    )\n",
    "\n",
    "    np.save(\n",
    "        f\"./results/brain_results/triplets/do_info/subject_{subject}_doinfo_original_exam_0.npy\",\n",
    "        doinfo_all_original_0[f\"df_{subject}_original_0\"],\n",
    "    )\n",
    "\n",
    "    np.save(\n",
    "        f\"./results/brain_results/triplets/do_info/subject_{subject}_doinfo_AR_exam_0.npy\",\n",
    "        doinfo_all_AR_0[f\"df_{subject}_AR_0\"],\n",
    "    )\n",
    "\n",
    "    np.save(\n",
    "        f\"./results/brain_results/triplets/do_info/subject_{subject}_doinfo_PR_exam_0.npy\",\n",
    "        doinfo_all_PR_0[f\"df_{subject}_PR_0\"],\n",
    "    )\n",
    "\n",
    "    np.save(\n",
    "        f\"./results/brain_results/triplets/do_info/subject_{subject}_doinfo_original_exam_1.npy\",\n",
    "        doinfo_all_original_1[f\"df_{subject}_original_1\"],\n",
    "    )\n",
    "\n",
    "    np.save(\n",
    "        f\"./results/brain_results/triplets/do_info/subject_{subject}_doinfo_AR_exam_1.npy\",\n",
    "        doinfo_all_AR_1[f\"df_{subject}_AR_1\"],\n",
    "    )\n",
    "\n",
    "    np.save(\n",
    "        f\"./results/brain_results/triplets/do_info/subject_{subject}_doinfo_PR_exam_1.npy\",\n",
    "        doinfo_all_PR_1[f\"df_{subject}_PR_1\"],\n",
    "    )"
   ]
  },
  {
   "cell_type": "markdown",
   "id": "674d1f42",
   "metadata": {},
   "source": [
    "<a name=\"results_triplets\"></a>\n",
    "### Results "
   ]
  },
  {
   "cell_type": "markdown",
   "id": "673b4c1c",
   "metadata": {},
   "source": [
    "<a name=\"violin_plot_triplets\"></a>\n",
    "#### Violin plot"
   ]
  },
  {
   "cell_type": "code",
   "execution_count": null,
   "id": "6aefa7b7",
   "metadata": {
    "scrolled": true
   },
   "outputs": [],
   "source": [
    "# DO NOT RUN IF YOU ALREADY HAVE THE VIOLIN PLOTS\n",
    "\n",
    "titles = [\n",
    "    \"Original - AR (0)\",\n",
    "    \"Original - PR (0)\",\n",
    "    \"Original - AR (1)\",\n",
    "    \"Original - PR (1)\",\n",
    "]\n",
    "\n",
    "for subject in subjects:\n",
    "    original, modified = np_load_triplets(subject)\n",
    "\n",
    "    fig, axs = plt.subplots(2, 2, figsize=(30, 35))\n",
    "\n",
    "    for i in range(4):\n",
    "        row = i // 2\n",
    "        col = i % 2\n",
    "        parts = axs[row, col].violinplot(original[row], showextrema=False)\n",
    "        for pc in parts[\"bodies\"]:\n",
    "            pc.set_facecolor(\"tab:blue\")\n",
    "            pc.set_edgecolor(\"black\")\n",
    "            pc.set_alpha(0.5)\n",
    "\n",
    "        parts = axs[row, col].violinplot(modified[i], showextrema=False)\n",
    "        for pc in parts[\"bodies\"]:\n",
    "            pc.set_facecolor(\"tab:orange\")\n",
    "            pc.set_edgecolor(\"black\")\n",
    "            pc.set_alpha(0.5)\n",
    "\n",
    "        axs[row, col].set_title(titles[i], size=35)\n",
    "        axs[row, col].set_ylabel(r\"$d\\Omega_3^{tot.}$\", size=45)\n",
    "        axs[row, col].legend(\n",
    "            handles=[\n",
    "                mpatches.Patch(color=\"tab:blue\", label=\"Original\", alpha=0.5),\n",
    "                mpatches.Patch(color=\"tab:orange\", label=\"Modified\", alpha=0.5),\n",
    "            ],\n",
    "            fontsize=40,\n",
    "        )\n",
    "\n",
    "        axs[row, col].tick_params(axis=\"both\", labelsize=25)\n",
    "\n",
    "    plt.tight_layout()  # add spaces between subplots\n",
    "    suptit = str(f\"Subject {subject}\")\n",
    "    fig.suptitle(suptit, size=45)\n",
    "    plt.tight_layout(rect=[0, 0.03, 1, 0.97])\n",
    "\n",
    "    plt.savefig(\n",
    "        f\"./results/brain_results/triplets/images/violin/violin_subject_{subject}.pdf\",\n",
    "        dpi=600,\n",
    "        bbox_inches=\"tight\",\n",
    "    )\n",
    "\n",
    "    plt.show()"
   ]
  },
  {
   "cell_type": "markdown",
   "id": "4c71ae6a",
   "metadata": {},
   "source": [
    "<a name=\"scatter_plot_triplets\"></a>\n",
    "#### Scatter plot"
   ]
  },
  {
   "cell_type": "code",
   "execution_count": null,
   "id": "43b9a718",
   "metadata": {},
   "outputs": [],
   "source": [
    "# DO NOT RUN IF YOU ALREADY HAVE THE SCATTER PLOTS\n",
    "\n",
    "for subject in subjects:\n",
    "    original, modified = np_load_triplets(subject)\n",
    "\n",
    "    fig, axs = plt.subplots(2, 2, figsize=(30, 30))\n",
    "    for i in range(4):\n",
    "        row = i // 2\n",
    "        col = i % 2\n",
    "\n",
    "        axs[row, col].scatter(original[row], modified[i], marker=\".\", s=500)\n",
    "        axs[row, col].set_title(titles[i], size=35)\n",
    "        axs[row, col].set_xlabel(r\"$d\\Omega_3^{tot. orig.}$\", size=45)\n",
    "        axs[row, col].set_ylabel(r\"$d\\Omega_3^{tot. mod.}$\", size=45)\n",
    "\n",
    "        # Bisector\n",
    "        x_values = np.linspace(min(original[row]), max(original[row]), 100)\n",
    "        axs[row, col].plot(x_values, x_values, color=\"red\", linewidth=3)\n",
    "\n",
    "        # Point (0, 0)\n",
    "        axs[row, col].scatter(0, 0, color=\"green\", marker=\".\", s=1800)\n",
    "\n",
    "        axs[row, col].tick_params(axis=\"both\", labelsize=25)\n",
    "\n",
    "    plt.tight_layout()\n",
    "    suptit = str(f\"Subject {subject}\")\n",
    "    fig.suptitle(suptit, size=45)\n",
    "    plt.tight_layout(rect=[0, 0.03, 1, 0.97])\n",
    "\n",
    "    plt.savefig(\n",
    "        f\"./results/brain_results/triplets/images/scatter/scatter_subject_{subject}.pdf\",\n",
    "        dpi=600,\n",
    "        bbox_inches=\"tight\",\n",
    "    )\n",
    "\n",
    "    plt.show()"
   ]
  },
  {
   "cell_type": "markdown",
   "id": "57a6bb8d",
   "metadata": {},
   "source": [
    "<a name=\"dataframe_triplets\"></a>\n",
    "#### Dataframe"
   ]
  },
  {
   "cell_type": "markdown",
   "id": "05fc967a",
   "metadata": {},
   "source": [
    "I summarize all the results in a dataframe, containing the J-S divergence for the two distributions, the Pearson/Spearman correlation coefficient and the RBO for queue comparison.\n",
    "  \n",
    "For the queue comparison I sort the total dynamical O-info values (in ascending order for synergy and descending order for redundancy) and compare whether there are common triplets in the queue of the original and randomised series. I use [RBO](https://github.com/changyaochen/rbo) to make the comparison."
   ]
  },
  {
   "cell_type": "code",
   "execution_count": 10,
   "id": "3114b98e",
   "metadata": {},
   "outputs": [],
   "source": [
    "df_triplets = pd.DataFrame(\n",
    "    columns=[\n",
    "        \"J-S div (O-AR, 0)\",\n",
    "        \"J-S div (O-PR, 0)\",\n",
    "        \"J-S div (O-AR, 1)\",\n",
    "        \"J-S div (O-PR, 1)\",\n",
    "        \"Pearson (O-AR, 0)\",\n",
    "        \"Pearson (O-PR, 0)\",\n",
    "        \"Pearson (O-AR, 1)\",\n",
    "        \"Pearson (O-PR, 1)\",\n",
    "        \"Spearman (O-AR, 0)\",\n",
    "        \"p-value (O-AR, 0)\",\n",
    "        \"Spearman (O-PR, 0)\",\n",
    "        \"p-value (O-PR, 0)\",\n",
    "        \"Spearman (O-AR, 1)\",\n",
    "        \"p-value (O-AR, 1)\",\n",
    "        \"Spearman (O-PR, 1)\",\n",
    "        \"p-value (O-PR, 1)\",\n",
    "        \"RBO (O-AR, 0, red)\",\n",
    "        \"RBO (O-PR, 0, red)\",\n",
    "        \"RBO (O-AR, 1, red)\",\n",
    "        \"RBO (O-PR, 1, red)\",\n",
    "        \"RBO (O-AR, 0, syn)\",\n",
    "        \"RBO (O-PR, 0, syn)\",\n",
    "        \"RBO (O-AR, 1, syn)\",\n",
    "        \"RBO (O-PR, 1, syn)\",\n",
    "    ]\n",
    ")"
   ]
  },
  {
   "cell_type": "code",
   "execution_count": null,
   "id": "992b64c8",
   "metadata": {},
   "outputs": [],
   "source": [
    "# DO NOT RUN IF YOU ALREADY HAVE THE DATAFRAME\n",
    "\n",
    "for subject in subjects:\n",
    "    original, modified = np_load_triplets(subject)\n",
    "\n",
    "    # Compute the J-S divergence\n",
    "    df_triplets.at[subject, \"J-S div (O-AR, 0)\"] = JS_div(original[0], modified[0])\n",
    "    df_triplets.at[subject, \"J-S div (O-PR, 0)\"] = JS_div(original[0], modified[1])\n",
    "    df_triplets.at[subject, \"J-S div (O-AR, 1)\"] = JS_div(original[1], modified[2])\n",
    "    df_triplets.at[subject, \"J-S div (O-PR, 1)\"] = JS_div(original[1], modified[3])\n",
    "\n",
    "    # Compute the Pearson coefficient\n",
    "    df_triplets.at[subject, \"Pearson (O-AR, 0)\"] = np.corrcoef(\n",
    "        original[0], modified[0]\n",
    "    )[0, 1]\n",
    "    df_triplets.at[subject, \"Pearson (O-PR, 0)\"] = np.corrcoef(\n",
    "        original[0], modified[1]\n",
    "    )[0, 1]\n",
    "    df_triplets.at[subject, \"Pearson (O-AR, 1)\"] = np.corrcoef(\n",
    "        original[1], modified[2]\n",
    "    )[0, 1]\n",
    "    df_triplets.at[subject, \"Pearson (O-PR, 1)\"] = np.corrcoef(\n",
    "        original[1], modified[3]\n",
    "    )[0, 1]\n",
    "\n",
    "    # Compute the Spearman coefficient\n",
    "    spearman_coefficient, p_value = spearmanr(original[0], modified[0])\n",
    "    df_triplets.at[subject, \"Spearman (O-AR, 0)\"] = spearman_coefficient\n",
    "    df_triplets.at[subject, \"p-value (O-AR, 0)\"] = p_value\n",
    "    spearman_coefficient, p_value = spearmanr(original[0], modified[1])\n",
    "    df_triplets.at[subject, \"Spearman (O-PR, 0)\"] = spearman_coefficient\n",
    "    df_triplets.at[subject, \"p-value (O-PR, 0)\"] = p_value\n",
    "    spearman_coefficient, p_value = spearmanr(original[1], modified[2])\n",
    "    df_triplets.at[subject, \"Spearman (O-AR, 1)\"] = spearman_coefficient\n",
    "    df_triplets.at[subject, \"p-value (O-AR, 1)\"] = p_value\n",
    "    spearman_coefficient, p_value = spearmanr(original[1], modified[3])\n",
    "    df_triplets.at[subject, \"Spearman (O-PR, 1)\"] = spearman_coefficient\n",
    "    df_triplets.at[subject, \"p-value (O-PR, 1)\"] = p_value\n",
    "\n",
    "    # Compute the RBO\n",
    "    # Indices from the bigger to the smaller (for RBO redundancy)\n",
    "    red_original_0, red_original_1, red_AR_0, red_PR_0, red_AR_1, red_PR_1 = (\n",
    "        np.argsort(-original[0]),\n",
    "        np.argsort(-original[1]),\n",
    "        np.argsort(-modified[0]),\n",
    "        np.argsort(-modified[1]),\n",
    "        np.argsort(-modified[2]),\n",
    "        np.argsort(-modified[3]),\n",
    "    )\n",
    "\n",
    "    # Indices from the smaller to the bigger (for RBO synergy)\n",
    "    syn_original_0, syn_original_1, syn_AR_0, syn_PR_0, syn_AR_1, syn_PR_1 = (\n",
    "        np.argsort(original[0]),\n",
    "        np.argsort(original[1]),\n",
    "        np.argsort(modified[0]),\n",
    "        np.argsort(modified[1]),\n",
    "        np.argsort(modified[2]),\n",
    "        np.argsort(modified[3]),\n",
    "    )\n",
    "\n",
    "    df_triplets.at[subject, \"RBO (O-AR, 0, red)\"] = rbo.RankingSimilarity(\n",
    "        red_original_0, red_AR_0\n",
    "    ).rbo()\n",
    "    df_triplets.at[subject, \"RBO (O-PR, 0, red)\"] = rbo.RankingSimilarity(\n",
    "        red_original_0, red_PR_0\n",
    "    ).rbo()\n",
    "    df_triplets.at[subject, \"RBO (O-AR, 1, red)\"] = rbo.RankingSimilarity(\n",
    "        red_original_1, red_AR_1\n",
    "    ).rbo()\n",
    "    df_triplets.at[subject, \"RBO (O-PR, 1, red)\"] = rbo.RankingSimilarity(\n",
    "        red_original_1, red_PR_1\n",
    "    ).rbo()\n",
    "\n",
    "    df_triplets.at[subject, \"RBO (O-AR, 0, syn)\"] = rbo.RankingSimilarity(\n",
    "        syn_original_0, syn_AR_0\n",
    "    ).rbo()\n",
    "    df_triplets.at[subject, \"RBO (O-PR, 0, syn)\"] = rbo.RankingSimilarity(\n",
    "        syn_original_0, syn_PR_0\n",
    "    ).rbo()\n",
    "    df_triplets.at[subject, \"RBO (O-AR, 1, syn)\"] = rbo.RankingSimilarity(\n",
    "        syn_original_1, syn_AR_1\n",
    "    ).rbo()\n",
    "    df_triplets.at[subject, \"RBO (O-PR, 1, syn)\"] = rbo.RankingSimilarity(\n",
    "        syn_original_1, syn_PR_1\n",
    "    ).rbo()\n",
    "\n",
    "\n",
    "df_triplets.to_csv(\"./results/brain_results/triplets/result_triplets.csv\", index=True)"
   ]
  },
  {
   "cell_type": "markdown",
   "id": "61cbbaff",
   "metadata": {},
   "source": [
    "<a name=\"summary_triplets\"></a>\n",
    "#### Summary"
   ]
  },
  {
   "cell_type": "code",
   "execution_count": 11,
   "id": "d0098f80",
   "metadata": {},
   "outputs": [],
   "source": [
    "df_triplets = pd.read_csv(\"./results/brain_results/triplets/result_triplets.csv\", index_col=0)"
   ]
  },
  {
   "cell_type": "code",
   "execution_count": 12,
   "id": "44f654bf",
   "metadata": {},
   "outputs": [
    {
     "data": {
      "text/html": [
       "<div>\n",
       "<style scoped>\n",
       "    .dataframe tbody tr th:only-of-type {\n",
       "        vertical-align: middle;\n",
       "    }\n",
       "\n",
       "    .dataframe tbody tr th {\n",
       "        vertical-align: top;\n",
       "    }\n",
       "\n",
       "    .dataframe thead th {\n",
       "        text-align: right;\n",
       "    }\n",
       "</style>\n",
       "<table border=\"1\" class=\"dataframe\">\n",
       "  <thead>\n",
       "    <tr style=\"text-align: right;\">\n",
       "      <th></th>\n",
       "      <th>J-S div (O-AR, 0)</th>\n",
       "      <th>J-S div (O-PR, 0)</th>\n",
       "      <th>J-S div (O-AR, 1)</th>\n",
       "      <th>J-S div (O-PR, 1)</th>\n",
       "      <th>Pearson (O-AR, 0)</th>\n",
       "      <th>Pearson (O-PR, 0)</th>\n",
       "      <th>Pearson (O-AR, 1)</th>\n",
       "      <th>Pearson (O-PR, 1)</th>\n",
       "      <th>Spearman (O-AR, 0)</th>\n",
       "      <th>p-value (O-AR, 0)</th>\n",
       "      <th>...</th>\n",
       "      <th>Spearman (O-PR, 1)</th>\n",
       "      <th>p-value (O-PR, 1)</th>\n",
       "      <th>RBO (O-AR, 0, red)</th>\n",
       "      <th>RBO (O-PR, 0, red)</th>\n",
       "      <th>RBO (O-AR, 1, red)</th>\n",
       "      <th>RBO (O-PR, 1, red)</th>\n",
       "      <th>RBO (O-AR, 0, syn)</th>\n",
       "      <th>RBO (O-PR, 0, syn)</th>\n",
       "      <th>RBO (O-AR, 1, syn)</th>\n",
       "      <th>RBO (O-PR, 1, syn)</th>\n",
       "    </tr>\n",
       "  </thead>\n",
       "  <tbody>\n",
       "    <tr>\n",
       "      <th>100307</th>\n",
       "      <td>0.056264</td>\n",
       "      <td>0.060166</td>\n",
       "      <td>0.028092</td>\n",
       "      <td>0.007994</td>\n",
       "      <td>0.812842</td>\n",
       "      <td>0.812485</td>\n",
       "      <td>0.773781</td>\n",
       "      <td>0.793756</td>\n",
       "      <td>0.773777</td>\n",
       "      <td>0.0</td>\n",
       "      <td>...</td>\n",
       "      <td>0.765359</td>\n",
       "      <td>0.0</td>\n",
       "      <td>0.795108</td>\n",
       "      <td>0.794724</td>\n",
       "      <td>0.773637</td>\n",
       "      <td>0.782362</td>\n",
       "      <td>0.713340</td>\n",
       "      <td>0.708228</td>\n",
       "      <td>0.711900</td>\n",
       "      <td>0.735501</td>\n",
       "    </tr>\n",
       "    <tr>\n",
       "      <th>100408</th>\n",
       "      <td>0.009452</td>\n",
       "      <td>0.041540</td>\n",
       "      <td>0.064179</td>\n",
       "      <td>0.039847</td>\n",
       "      <td>0.893281</td>\n",
       "      <td>0.887285</td>\n",
       "      <td>0.779853</td>\n",
       "      <td>0.773710</td>\n",
       "      <td>0.901690</td>\n",
       "      <td>0.0</td>\n",
       "      <td>...</td>\n",
       "      <td>0.746004</td>\n",
       "      <td>0.0</td>\n",
       "      <td>0.829934</td>\n",
       "      <td>0.823009</td>\n",
       "      <td>0.777906</td>\n",
       "      <td>0.776234</td>\n",
       "      <td>0.813391</td>\n",
       "      <td>0.817356</td>\n",
       "      <td>0.716003</td>\n",
       "      <td>0.717214</td>\n",
       "    </tr>\n",
       "    <tr>\n",
       "      <th>101107</th>\n",
       "      <td>0.014521</td>\n",
       "      <td>0.021006</td>\n",
       "      <td>0.008950</td>\n",
       "      <td>0.007577</td>\n",
       "      <td>0.617949</td>\n",
       "      <td>0.710192</td>\n",
       "      <td>0.733063</td>\n",
       "      <td>0.722485</td>\n",
       "      <td>0.627128</td>\n",
       "      <td>0.0</td>\n",
       "      <td>...</td>\n",
       "      <td>0.717529</td>\n",
       "      <td>0.0</td>\n",
       "      <td>0.686255</td>\n",
       "      <td>0.725813</td>\n",
       "      <td>0.716354</td>\n",
       "      <td>0.711926</td>\n",
       "      <td>0.704424</td>\n",
       "      <td>0.743402</td>\n",
       "      <td>0.765167</td>\n",
       "      <td>0.761938</td>\n",
       "    </tr>\n",
       "    <tr>\n",
       "      <th>101309</th>\n",
       "      <td>0.034530</td>\n",
       "      <td>0.010269</td>\n",
       "      <td>0.049721</td>\n",
       "      <td>0.022505</td>\n",
       "      <td>0.804640</td>\n",
       "      <td>0.841700</td>\n",
       "      <td>0.789057</td>\n",
       "      <td>0.825692</td>\n",
       "      <td>0.799985</td>\n",
       "      <td>0.0</td>\n",
       "      <td>...</td>\n",
       "      <td>0.748332</td>\n",
       "      <td>0.0</td>\n",
       "      <td>0.791666</td>\n",
       "      <td>0.809325</td>\n",
       "      <td>0.778078</td>\n",
       "      <td>0.798995</td>\n",
       "      <td>0.750952</td>\n",
       "      <td>0.783371</td>\n",
       "      <td>0.680077</td>\n",
       "      <td>0.709833</td>\n",
       "    </tr>\n",
       "    <tr>\n",
       "      <th>101915</th>\n",
       "      <td>0.019229</td>\n",
       "      <td>0.002610</td>\n",
       "      <td>1.669124</td>\n",
       "      <td>2.157251</td>\n",
       "      <td>0.850784</td>\n",
       "      <td>0.859894</td>\n",
       "      <td>0.693808</td>\n",
       "      <td>0.684756</td>\n",
       "      <td>0.851696</td>\n",
       "      <td>0.0</td>\n",
       "      <td>...</td>\n",
       "      <td>0.587886</td>\n",
       "      <td>0.0</td>\n",
       "      <td>0.811821</td>\n",
       "      <td>0.818901</td>\n",
       "      <td>0.735395</td>\n",
       "      <td>0.735626</td>\n",
       "      <td>0.798544</td>\n",
       "      <td>0.800226</td>\n",
       "      <td>0.655310</td>\n",
       "      <td>0.645640</td>\n",
       "    </tr>\n",
       "    <tr>\n",
       "      <th>...</th>\n",
       "      <td>...</td>\n",
       "      <td>...</td>\n",
       "      <td>...</td>\n",
       "      <td>...</td>\n",
       "      <td>...</td>\n",
       "      <td>...</td>\n",
       "      <td>...</td>\n",
       "      <td>...</td>\n",
       "      <td>...</td>\n",
       "      <td>...</td>\n",
       "      <td>...</td>\n",
       "      <td>...</td>\n",
       "      <td>...</td>\n",
       "      <td>...</td>\n",
       "      <td>...</td>\n",
       "      <td>...</td>\n",
       "      <td>...</td>\n",
       "      <td>...</td>\n",
       "      <td>...</td>\n",
       "      <td>...</td>\n",
       "      <td>...</td>\n",
       "    </tr>\n",
       "    <tr>\n",
       "      <th>672756</th>\n",
       "      <td>0.027878</td>\n",
       "      <td>0.104447</td>\n",
       "      <td>0.039763</td>\n",
       "      <td>0.002102</td>\n",
       "      <td>0.717125</td>\n",
       "      <td>0.754812</td>\n",
       "      <td>0.743774</td>\n",
       "      <td>0.788186</td>\n",
       "      <td>0.691325</td>\n",
       "      <td>0.0</td>\n",
       "      <td>...</td>\n",
       "      <td>0.772645</td>\n",
       "      <td>0.0</td>\n",
       "      <td>0.748858</td>\n",
       "      <td>0.768172</td>\n",
       "      <td>0.759752</td>\n",
       "      <td>0.781093</td>\n",
       "      <td>0.691377</td>\n",
       "      <td>0.714094</td>\n",
       "      <td>0.707675</td>\n",
       "      <td>0.732578</td>\n",
       "    </tr>\n",
       "    <tr>\n",
       "      <th>751348</th>\n",
       "      <td>0.022886</td>\n",
       "      <td>0.004289</td>\n",
       "      <td>0.085135</td>\n",
       "      <td>0.193249</td>\n",
       "      <td>0.795503</td>\n",
       "      <td>0.837189</td>\n",
       "      <td>0.811527</td>\n",
       "      <td>0.828239</td>\n",
       "      <td>0.803958</td>\n",
       "      <td>0.0</td>\n",
       "      <td>...</td>\n",
       "      <td>0.815561</td>\n",
       "      <td>0.0</td>\n",
       "      <td>0.778918</td>\n",
       "      <td>0.800351</td>\n",
       "      <td>0.790817</td>\n",
       "      <td>0.802966</td>\n",
       "      <td>0.769035</td>\n",
       "      <td>0.788344</td>\n",
       "      <td>0.747865</td>\n",
       "      <td>0.758708</td>\n",
       "    </tr>\n",
       "    <tr>\n",
       "      <th>756055</th>\n",
       "      <td>0.121701</td>\n",
       "      <td>0.057223</td>\n",
       "      <td>0.075746</td>\n",
       "      <td>0.035671</td>\n",
       "      <td>0.731878</td>\n",
       "      <td>0.778255</td>\n",
       "      <td>0.824309</td>\n",
       "      <td>0.845955</td>\n",
       "      <td>0.686850</td>\n",
       "      <td>0.0</td>\n",
       "      <td>...</td>\n",
       "      <td>0.777732</td>\n",
       "      <td>0.0</td>\n",
       "      <td>0.752548</td>\n",
       "      <td>0.774445</td>\n",
       "      <td>0.796546</td>\n",
       "      <td>0.811031</td>\n",
       "      <td>0.699078</td>\n",
       "      <td>0.709417</td>\n",
       "      <td>0.706635</td>\n",
       "      <td>0.721852</td>\n",
       "    </tr>\n",
       "    <tr>\n",
       "      <th>792564</th>\n",
       "      <td>0.111015</td>\n",
       "      <td>0.070264</td>\n",
       "      <td>0.041019</td>\n",
       "      <td>0.043271</td>\n",
       "      <td>0.730640</td>\n",
       "      <td>0.735344</td>\n",
       "      <td>0.817310</td>\n",
       "      <td>0.831409</td>\n",
       "      <td>0.715479</td>\n",
       "      <td>0.0</td>\n",
       "      <td>...</td>\n",
       "      <td>0.826013</td>\n",
       "      <td>0.0</td>\n",
       "      <td>0.756399</td>\n",
       "      <td>0.755230</td>\n",
       "      <td>0.787627</td>\n",
       "      <td>0.801578</td>\n",
       "      <td>0.697218</td>\n",
       "      <td>0.693670</td>\n",
       "      <td>0.791700</td>\n",
       "      <td>0.783705</td>\n",
       "    </tr>\n",
       "    <tr>\n",
       "      <th>856766</th>\n",
       "      <td>0.003834</td>\n",
       "      <td>2.373576</td>\n",
       "      <td>3.296449</td>\n",
       "      <td>0.114216</td>\n",
       "      <td>0.653735</td>\n",
       "      <td>0.696727</td>\n",
       "      <td>0.766727</td>\n",
       "      <td>0.737553</td>\n",
       "      <td>0.513530</td>\n",
       "      <td>0.0</td>\n",
       "      <td>...</td>\n",
       "      <td>0.619663</td>\n",
       "      <td>0.0</td>\n",
       "      <td>0.709450</td>\n",
       "      <td>0.734220</td>\n",
       "      <td>0.763702</td>\n",
       "      <td>0.755755</td>\n",
       "      <td>0.624417</td>\n",
       "      <td>0.642225</td>\n",
       "      <td>0.678594</td>\n",
       "      <td>0.661423</td>\n",
       "    </tr>\n",
       "  </tbody>\n",
       "</table>\n",
       "<p>98 rows × 24 columns</p>\n",
       "</div>"
      ],
      "text/plain": [
       "        J-S div (O-AR, 0)  J-S div (O-PR, 0)  J-S div (O-AR, 1)  \\\n",
       "100307           0.056264           0.060166           0.028092   \n",
       "100408           0.009452           0.041540           0.064179   \n",
       "101107           0.014521           0.021006           0.008950   \n",
       "101309           0.034530           0.010269           0.049721   \n",
       "101915           0.019229           0.002610           1.669124   \n",
       "...                   ...                ...                ...   \n",
       "672756           0.027878           0.104447           0.039763   \n",
       "751348           0.022886           0.004289           0.085135   \n",
       "756055           0.121701           0.057223           0.075746   \n",
       "792564           0.111015           0.070264           0.041019   \n",
       "856766           0.003834           2.373576           3.296449   \n",
       "\n",
       "        J-S div (O-PR, 1)  Pearson (O-AR, 0)  Pearson (O-PR, 0)  \\\n",
       "100307           0.007994           0.812842           0.812485   \n",
       "100408           0.039847           0.893281           0.887285   \n",
       "101107           0.007577           0.617949           0.710192   \n",
       "101309           0.022505           0.804640           0.841700   \n",
       "101915           2.157251           0.850784           0.859894   \n",
       "...                   ...                ...                ...   \n",
       "672756           0.002102           0.717125           0.754812   \n",
       "751348           0.193249           0.795503           0.837189   \n",
       "756055           0.035671           0.731878           0.778255   \n",
       "792564           0.043271           0.730640           0.735344   \n",
       "856766           0.114216           0.653735           0.696727   \n",
       "\n",
       "        Pearson (O-AR, 1)  Pearson (O-PR, 1)  Spearman (O-AR, 0)  \\\n",
       "100307           0.773781           0.793756            0.773777   \n",
       "100408           0.779853           0.773710            0.901690   \n",
       "101107           0.733063           0.722485            0.627128   \n",
       "101309           0.789057           0.825692            0.799985   \n",
       "101915           0.693808           0.684756            0.851696   \n",
       "...                   ...                ...                 ...   \n",
       "672756           0.743774           0.788186            0.691325   \n",
       "751348           0.811527           0.828239            0.803958   \n",
       "756055           0.824309           0.845955            0.686850   \n",
       "792564           0.817310           0.831409            0.715479   \n",
       "856766           0.766727           0.737553            0.513530   \n",
       "\n",
       "        p-value (O-AR, 0)  ...  Spearman (O-PR, 1)  p-value (O-PR, 1)  \\\n",
       "100307                0.0  ...            0.765359                0.0   \n",
       "100408                0.0  ...            0.746004                0.0   \n",
       "101107                0.0  ...            0.717529                0.0   \n",
       "101309                0.0  ...            0.748332                0.0   \n",
       "101915                0.0  ...            0.587886                0.0   \n",
       "...                   ...  ...                 ...                ...   \n",
       "672756                0.0  ...            0.772645                0.0   \n",
       "751348                0.0  ...            0.815561                0.0   \n",
       "756055                0.0  ...            0.777732                0.0   \n",
       "792564                0.0  ...            0.826013                0.0   \n",
       "856766                0.0  ...            0.619663                0.0   \n",
       "\n",
       "        RBO (O-AR, 0, red)  RBO (O-PR, 0, red)  RBO (O-AR, 1, red)  \\\n",
       "100307            0.795108            0.794724            0.773637   \n",
       "100408            0.829934            0.823009            0.777906   \n",
       "101107            0.686255            0.725813            0.716354   \n",
       "101309            0.791666            0.809325            0.778078   \n",
       "101915            0.811821            0.818901            0.735395   \n",
       "...                    ...                 ...                 ...   \n",
       "672756            0.748858            0.768172            0.759752   \n",
       "751348            0.778918            0.800351            0.790817   \n",
       "756055            0.752548            0.774445            0.796546   \n",
       "792564            0.756399            0.755230            0.787627   \n",
       "856766            0.709450            0.734220            0.763702   \n",
       "\n",
       "        RBO (O-PR, 1, red)  RBO (O-AR, 0, syn)  RBO (O-PR, 0, syn)  \\\n",
       "100307            0.782362            0.713340            0.708228   \n",
       "100408            0.776234            0.813391            0.817356   \n",
       "101107            0.711926            0.704424            0.743402   \n",
       "101309            0.798995            0.750952            0.783371   \n",
       "101915            0.735626            0.798544            0.800226   \n",
       "...                    ...                 ...                 ...   \n",
       "672756            0.781093            0.691377            0.714094   \n",
       "751348            0.802966            0.769035            0.788344   \n",
       "756055            0.811031            0.699078            0.709417   \n",
       "792564            0.801578            0.697218            0.693670   \n",
       "856766            0.755755            0.624417            0.642225   \n",
       "\n",
       "        RBO (O-AR, 1, syn)  RBO (O-PR, 1, syn)  \n",
       "100307            0.711900            0.735501  \n",
       "100408            0.716003            0.717214  \n",
       "101107            0.765167            0.761938  \n",
       "101309            0.680077            0.709833  \n",
       "101915            0.655310            0.645640  \n",
       "...                    ...                 ...  \n",
       "672756            0.707675            0.732578  \n",
       "751348            0.747865            0.758708  \n",
       "756055            0.706635            0.721852  \n",
       "792564            0.791700            0.783705  \n",
       "856766            0.678594            0.661423  \n",
       "\n",
       "[98 rows x 24 columns]"
      ]
     },
     "execution_count": 12,
     "metadata": {},
     "output_type": "execute_result"
    }
   ],
   "source": [
    "df_triplets"
   ]
  },
  {
   "cell_type": "markdown",
   "id": "cc316cba",
   "metadata": {},
   "source": [
    "We look to see if any subjects show significant differences."
   ]
  },
  {
   "cell_type": "code",
   "execution_count": 13,
   "id": "17c40b8c",
   "metadata": {},
   "outputs": [],
   "source": [
    "threshold_JS = 0.4\n",
    "threshold_Pearson = 0.6\n",
    "threshold_Spearman = 0.6\n",
    "threshold_RBO = 0.6\n",
    "\n",
    "dict_subjects_triplets = {subject: 0 for subject in subjects}"
   ]
  },
  {
   "cell_type": "code",
   "execution_count": null,
   "id": "aaa943e5",
   "metadata": {},
   "outputs": [],
   "source": [
    "# DO NOT RUN IF YOU ALREADY HAVE THE DICTIONARY\n",
    "\n",
    "for subject, row in df_triplets.iterrows():\n",
    "    for column in df_triplets.columns:\n",
    "        if \"J-S div\" in column:\n",
    "            if row[column] > threshold_JS:\n",
    "                dict_subjects_triplets[subject] += 1\n",
    "\n",
    "        elif \"Pearson\" in column:\n",
    "            if row[column] < threshold_Pearson:\n",
    "                dict_subjects_triplets[subject] += 1\n",
    "\n",
    "        elif \"Spearman\" in column:\n",
    "            if row[column] < threshold_Spearman:\n",
    "                dict_subjects_triplets[subject] += 1\n",
    "\n",
    "        elif \"RBO\" in column:\n",
    "            if row[column] < threshold_RBO:\n",
    "                dict_subjects_triplets[subject] += 1"
   ]
  },
  {
   "cell_type": "code",
   "execution_count": null,
   "id": "c08d01c7",
   "metadata": {},
   "outputs": [],
   "source": [
    "# DO NOT RUN IF YOU ALREADY HAVE THE DICTIONARY\n",
    "\n",
    "with open(\"./results/brain_results/triplets/dict_subjects_triplets.pickle\", \"wb\") as file:\n",
    "    pickle.dump(dict_subjects_triplets, file)"
   ]
  },
  {
   "cell_type": "code",
   "execution_count": 14,
   "id": "f735475b",
   "metadata": {},
   "outputs": [],
   "source": [
    "with open(\"./results/brain_results/triplets/dict_subjects_triplets.pickle\", \"rb\") as file:\n",
    "    dict_subjects_triplets = pickle.load(file)"
   ]
  },
  {
   "cell_type": "code",
   "execution_count": 15,
   "id": "7a0ce898",
   "metadata": {},
   "outputs": [],
   "source": [
    "threshold_subjects = 10  # max 20\n",
    "interesting_subjects_triplets = {}\n",
    "\n",
    "for subject in subjects:\n",
    "    if dict_subjects_triplets[subject] >= threshold_subjects:\n",
    "        interesting_subjects_triplets[subject] = dict_subjects_triplets[subject]"
   ]
  },
  {
   "cell_type": "code",
   "execution_count": 16,
   "id": "7457f38e",
   "metadata": {},
   "outputs": [
    {
     "name": "stdout",
     "output_type": "stream",
     "text": [
      "Subjects showing notable differences in triplets\n",
      "{123117: 12, 148335: 11, 239944: 11}\n"
     ]
    }
   ],
   "source": [
    "interesting_subjects_triplets = dict(\n",
    "    sorted(interesting_subjects_triplets.items(), key=lambda x: x[1], reverse=True)\n",
    ")\n",
    "\n",
    "print(\"Subjects showing notable differences in triplets\")\n",
    "print(interesting_subjects_triplets)"
   ]
  },
  {
   "cell_type": "markdown",
   "id": "48cdeaff",
   "metadata": {},
   "source": [
    "To resume, let's plot every column of the dataframe, highlighting notable subjects"
   ]
  },
  {
   "cell_type": "code",
   "execution_count": null,
   "id": "5015c6f4",
   "metadata": {
    "scrolled": true
   },
   "outputs": [],
   "source": [
    "for column in df_triplets.columns:\n",
    "    if \"p-value\" not in column:\n",
    "#        anomaly = False\n",
    "        plt.figure()\n",
    "        for index, row in df_triplets.iterrows():\n",
    "            if index in interesting_subjects_triplets:\n",
    "                plt.scatter(index, row[column], color=\"orange\")\n",
    "#                anomaly = True\n",
    "            else:\n",
    "                plt.scatter(index, row[column], color=\"blue\")\n",
    "        plt.title(column)\n",
    "        plt.xlabel(\"Subject\")\n",
    "        plt.ylabel(\"Value\")\n",
    "#        if anomaly:\n",
    "        plt.legend([\"Anomaly\", \"Standard\"], prop={\"size\": 12})\n",
    "#        else:\n",
    "#            plt.legend([\"Standard\"], prop={\"size\": 12})\n",
    "\n",
    "        plt.savefig(\n",
    "            f\"./results/brain_results/triplets/images/summary/summary_{column}.pdf\",\n",
    "            dpi=600,\n",
    "            bbox_inches=\"tight\",\n",
    "        )\n",
    "\n",
    "        plt.show()"
   ]
  },
  {
   "cell_type": "markdown",
   "id": "de25c78b",
   "metadata": {},
   "source": [
    "<a name=\"a_posteriori_triplets\"></a>\n",
    "#### A posteriori"
   ]
  },
  {
   "cell_type": "markdown",
   "id": "8c133025",
   "metadata": {},
   "source": [
    "Let's see if there are any columns that are particularly good at identifying outliers."
   ]
  },
  {
   "cell_type": "code",
   "execution_count": 17,
   "id": "5764535c",
   "metadata": {},
   "outputs": [
    {
     "data": {
      "text/plain": [
       "{'J-S div (O-AR, 0)': 9,\n",
       " 'J-S div (O-PR, 0)': 8,\n",
       " 'J-S div (O-AR, 1)': 13,\n",
       " 'J-S div (O-PR, 1)': 9,\n",
       " 'Pearson (O-AR, 0)': 6,\n",
       " 'Pearson (O-PR, 0)': 4,\n",
       " 'Pearson (O-AR, 1)': 9,\n",
       " 'Pearson (O-PR, 1)': 7,\n",
       " 'Spearman (O-AR, 0)': 24,\n",
       " 'Spearman (O-PR, 0)': 21,\n",
       " 'Spearman (O-AR, 1)': 30,\n",
       " 'Spearman (O-PR, 1)': 24,\n",
       " 'RBO (O-AR, 0, red)': 0,\n",
       " 'RBO (O-PR, 0, red)': 0,\n",
       " 'RBO (O-AR, 1, red)': 0,\n",
       " 'RBO (O-PR, 1, red)': 0,\n",
       " 'RBO (O-AR, 0, syn)': 4,\n",
       " 'RBO (O-PR, 0, syn)': 4,\n",
       " 'RBO (O-AR, 1, syn)': 11,\n",
       " 'RBO (O-PR, 1, syn)': 8}"
      ]
     },
     "execution_count": 17,
     "metadata": {},
     "output_type": "execute_result"
    }
   ],
   "source": [
    "dict_columns_triplets = {column: 0 for column in df_triplets.columns if not column.startswith('p-value')}\n",
    "\n",
    "for subject, row in df_triplets.iterrows():\n",
    "    for column in df_triplets.columns:\n",
    "        if \"J-S div\" in column:\n",
    "            if row[column] > threshold_JS:\n",
    "                dict_columns_triplets[column] += 1\n",
    "\n",
    "        elif \"Pearson\" in column:\n",
    "            if row[column] < threshold_Pearson:\n",
    "                dict_columns_triplets[column] += 1\n",
    "\n",
    "        elif \"Spearman\" in column:\n",
    "            if row[column] < threshold_Spearman:\n",
    "                dict_columns_triplets[column] += 1\n",
    "\n",
    "        elif \"RBO\" in column:\n",
    "            if row[column] < threshold_RBO:\n",
    "                dict_columns_triplets[column] += 1\n",
    "\n",
    "dict_columns_triplets"
   ]
  },
  {
   "cell_type": "markdown",
   "id": "0b27dc66",
   "metadata": {},
   "source": [
    "Let's see if there are columns in which at least a quarter of the subjects exceed the threshold"
   ]
  },
  {
   "cell_type": "code",
   "execution_count": 23,
   "id": "2c27aadb",
   "metadata": {},
   "outputs": [
    {
     "data": {
      "text/plain": [
       "{'Spearman (O-AR, 1)': 30}"
      ]
     },
     "execution_count": 23,
     "metadata": {},
     "output_type": "execute_result"
    }
   ],
   "source": [
    "threshold_columns = len(subjects) / 4\n",
    "interesting_columns_triplets = {}\n",
    "\n",
    "for column in dict_columns_triplets.keys():\n",
    "    if dict_columns_triplets[column] >= threshold_columns:\n",
    "        interesting_columns_triplets[column] = dict_columns_triplets[column]\n",
    "\n",
    "interesting_columns_triplets"
   ]
  },
  {
   "cell_type": "markdown",
   "id": "6eefbf02",
   "metadata": {},
   "source": [
    "<a name=\"o_info_triplets\"></a>\n",
    "### O-information"
   ]
  },
  {
   "cell_type": "code",
   "execution_count": 14,
   "id": "234e53de",
   "metadata": {},
   "outputs": [],
   "source": [
    "# DO NOT RUN IF YOU ALREADY HAVE THE TRIPLETS\n",
    "\n",
    "# From all possible combinations of 3 columns, I randomly extract n_tripl non-repeating triplets\n",
    "n_tripl = 1000  # max 113564\n",
    "\n",
    "\n",
    "triplets = list(\n",
    "    combinations(df_all_original_0[f\"df_{subjects[0]}_original_0\"].columns, 3)\n",
    ")\n",
    "random_triplets = random.sample(triplets, n_tripl)\n",
    "\n",
    "# Save the variables with pickle\n",
    "with open(\"results/brain_results/triplets/o_info/triplets_o_info.pkl\", \"wb\") as file:\n",
    "    pickle.dump((n_tripl, random_triplets), file)\n",
    "\n",
    "# If I want to load the variables, I have to do:\n",
    "# with open(\"results/brain_results/triplets/triplets_o_info.pkl\", \"rb\") as file:\n",
    "#    n_tripl, random_triplets = pickle.load(file)"
   ]
  },
  {
   "cell_type": "code",
   "execution_count": 15,
   "id": "197893e7",
   "metadata": {
    "scrolled": true
   },
   "outputs": [
    {
     "data": {
      "application/vnd.jupyter.widget-view+json": {
       "model_id": "aaad5c7a6f224300ac895c34bb881d36",
       "version_major": 2,
       "version_minor": 0
      },
      "text/plain": [
       "  0%|          | 0/1000 [00:00<?, ?it/s]"
      ]
     },
     "metadata": {},
     "output_type": "display_data"
    },
    {
     "data": {
      "application/vnd.jupyter.widget-view+json": {
       "model_id": "73beb203b21646eea6102c669e65e7b4",
       "version_major": 2,
       "version_minor": 0
      },
      "text/plain": [
       "  0%|          | 0/1000 [00:00<?, ?it/s]"
      ]
     },
     "metadata": {},
     "output_type": "display_data"
    },
    {
     "data": {
      "application/vnd.jupyter.widget-view+json": {
       "model_id": "2f6756cdee1f49e8b1c5f15570853b6b",
       "version_major": 2,
       "version_minor": 0
      },
      "text/plain": [
       "  0%|          | 0/1000 [00:00<?, ?it/s]"
      ]
     },
     "metadata": {},
     "output_type": "display_data"
    },
    {
     "data": {
      "application/vnd.jupyter.widget-view+json": {
       "model_id": "c15ec00bf35940ff9561268251228801",
       "version_major": 2,
       "version_minor": 0
      },
      "text/plain": [
       "  0%|          | 0/1000 [00:00<?, ?it/s]"
      ]
     },
     "metadata": {},
     "output_type": "display_data"
    },
    {
     "data": {
      "application/vnd.jupyter.widget-view+json": {
       "model_id": "679dac9b260e469980de4a7f35dde35a",
       "version_major": 2,
       "version_minor": 0
      },
      "text/plain": [
       "  0%|          | 0/1000 [00:00<?, ?it/s]"
      ]
     },
     "metadata": {},
     "output_type": "display_data"
    },
    {
     "data": {
      "application/vnd.jupyter.widget-view+json": {
       "model_id": "3417398c1663488ca118f5cabdad8f60",
       "version_major": 2,
       "version_minor": 0
      },
      "text/plain": [
       "  0%|          | 0/1000 [00:00<?, ?it/s]"
      ]
     },
     "metadata": {},
     "output_type": "display_data"
    },
    {
     "data": {
      "application/vnd.jupyter.widget-view+json": {
       "model_id": "9d2cf841897f43948f7352afb607ea51",
       "version_major": 2,
       "version_minor": 0
      },
      "text/plain": [
       "  0%|          | 0/1000 [00:00<?, ?it/s]"
      ]
     },
     "metadata": {},
     "output_type": "display_data"
    },
    {
     "data": {
      "application/vnd.jupyter.widget-view+json": {
       "model_id": "1a13fa4071394291a0fdea41424edded",
       "version_major": 2,
       "version_minor": 0
      },
      "text/plain": [
       "  0%|          | 0/1000 [00:00<?, ?it/s]"
      ]
     },
     "metadata": {},
     "output_type": "display_data"
    },
    {
     "data": {
      "application/vnd.jupyter.widget-view+json": {
       "model_id": "f256097045cf48ddb5012692a0c9f518",
       "version_major": 2,
       "version_minor": 0
      },
      "text/plain": [
       "  0%|          | 0/1000 [00:00<?, ?it/s]"
      ]
     },
     "metadata": {},
     "output_type": "display_data"
    },
    {
     "data": {
      "application/vnd.jupyter.widget-view+json": {
       "model_id": "be9f15c054e3489aae1f1988232251e4",
       "version_major": 2,
       "version_minor": 0
      },
      "text/plain": [
       "  0%|          | 0/1000 [00:00<?, ?it/s]"
      ]
     },
     "metadata": {},
     "output_type": "display_data"
    },
    {
     "data": {
      "application/vnd.jupyter.widget-view+json": {
       "model_id": "fd448cdd71694340b51c53c3f865aad3",
       "version_major": 2,
       "version_minor": 0
      },
      "text/plain": [
       "  0%|          | 0/1000 [00:00<?, ?it/s]"
      ]
     },
     "metadata": {},
     "output_type": "display_data"
    },
    {
     "data": {
      "application/vnd.jupyter.widget-view+json": {
       "model_id": "6e4fba92432a4380b5a8d4962ceaf5c1",
       "version_major": 2,
       "version_minor": 0
      },
      "text/plain": [
       "  0%|          | 0/1000 [00:00<?, ?it/s]"
      ]
     },
     "metadata": {},
     "output_type": "display_data"
    },
    {
     "data": {
      "application/vnd.jupyter.widget-view+json": {
       "model_id": "c2c15710e40c45c89f37735ef54d1e9b",
       "version_major": 2,
       "version_minor": 0
      },
      "text/plain": [
       "  0%|          | 0/1000 [00:00<?, ?it/s]"
      ]
     },
     "metadata": {},
     "output_type": "display_data"
    },
    {
     "data": {
      "application/vnd.jupyter.widget-view+json": {
       "model_id": "4265d84976ab4779b8fdaaa48635dad7",
       "version_major": 2,
       "version_minor": 0
      },
      "text/plain": [
       "  0%|          | 0/1000 [00:00<?, ?it/s]"
      ]
     },
     "metadata": {},
     "output_type": "display_data"
    },
    {
     "data": {
      "application/vnd.jupyter.widget-view+json": {
       "model_id": "73619cbcb2364e03a8ff4fadf1dff356",
       "version_major": 2,
       "version_minor": 0
      },
      "text/plain": [
       "  0%|          | 0/1000 [00:00<?, ?it/s]"
      ]
     },
     "metadata": {},
     "output_type": "display_data"
    },
    {
     "data": {
      "application/vnd.jupyter.widget-view+json": {
       "model_id": "dbdca5efca5c42a3a8965085f550bb3d",
       "version_major": 2,
       "version_minor": 0
      },
      "text/plain": [
       "  0%|          | 0/1000 [00:00<?, ?it/s]"
      ]
     },
     "metadata": {},
     "output_type": "display_data"
    },
    {
     "data": {
      "application/vnd.jupyter.widget-view+json": {
       "model_id": "857f96f7a96c42c9a6701dafd7187688",
       "version_major": 2,
       "version_minor": 0
      },
      "text/plain": [
       "  0%|          | 0/1000 [00:00<?, ?it/s]"
      ]
     },
     "metadata": {},
     "output_type": "display_data"
    },
    {
     "data": {
      "application/vnd.jupyter.widget-view+json": {
       "model_id": "8539500dbd444a19b76a01fb2b1c7045",
       "version_major": 2,
       "version_minor": 0
      },
      "text/plain": [
       "  0%|          | 0/1000 [00:00<?, ?it/s]"
      ]
     },
     "metadata": {},
     "output_type": "display_data"
    },
    {
     "data": {
      "application/vnd.jupyter.widget-view+json": {
       "model_id": "37f49e46bb5247b784f88f4477ea974f",
       "version_major": 2,
       "version_minor": 0
      },
      "text/plain": [
       "  0%|          | 0/1000 [00:00<?, ?it/s]"
      ]
     },
     "metadata": {},
     "output_type": "display_data"
    },
    {
     "data": {
      "application/vnd.jupyter.widget-view+json": {
       "model_id": "3c48840c152a48cbbc5665ed8cae960b",
       "version_major": 2,
       "version_minor": 0
      },
      "text/plain": [
       "  0%|          | 0/1000 [00:00<?, ?it/s]"
      ]
     },
     "metadata": {},
     "output_type": "display_data"
    },
    {
     "data": {
      "application/vnd.jupyter.widget-view+json": {
       "model_id": "5a5e7842c8b64132b872666526f53275",
       "version_major": 2,
       "version_minor": 0
      },
      "text/plain": [
       "  0%|          | 0/1000 [00:00<?, ?it/s]"
      ]
     },
     "metadata": {},
     "output_type": "display_data"
    },
    {
     "data": {
      "application/vnd.jupyter.widget-view+json": {
       "model_id": "2e9abbad5e804cf5bb73aea35872d079",
       "version_major": 2,
       "version_minor": 0
      },
      "text/plain": [
       "  0%|          | 0/1000 [00:00<?, ?it/s]"
      ]
     },
     "metadata": {},
     "output_type": "display_data"
    },
    {
     "data": {
      "application/vnd.jupyter.widget-view+json": {
       "model_id": "b69197571b4546c599b47b55179ac65c",
       "version_major": 2,
       "version_minor": 0
      },
      "text/plain": [
       "  0%|          | 0/1000 [00:00<?, ?it/s]"
      ]
     },
     "metadata": {},
     "output_type": "display_data"
    },
    {
     "data": {
      "application/vnd.jupyter.widget-view+json": {
       "model_id": "1ab199da5bf34d6ea07c622b086e96a0",
       "version_major": 2,
       "version_minor": 0
      },
      "text/plain": [
       "  0%|          | 0/1000 [00:00<?, ?it/s]"
      ]
     },
     "metadata": {},
     "output_type": "display_data"
    },
    {
     "data": {
      "application/vnd.jupyter.widget-view+json": {
       "model_id": "690b242bbd2b4c39850727ac73348a65",
       "version_major": 2,
       "version_minor": 0
      },
      "text/plain": [
       "  0%|          | 0/1000 [00:00<?, ?it/s]"
      ]
     },
     "metadata": {},
     "output_type": "display_data"
    },
    {
     "data": {
      "application/vnd.jupyter.widget-view+json": {
       "model_id": "fd34f1d1738f408e8a1384c85a6a0f27",
       "version_major": 2,
       "version_minor": 0
      },
      "text/plain": [
       "  0%|          | 0/1000 [00:00<?, ?it/s]"
      ]
     },
     "metadata": {},
     "output_type": "display_data"
    },
    {
     "data": {
      "application/vnd.jupyter.widget-view+json": {
       "model_id": "46d9e7900cce4b29bcfc9d3d69fff074",
       "version_major": 2,
       "version_minor": 0
      },
      "text/plain": [
       "  0%|          | 0/1000 [00:00<?, ?it/s]"
      ]
     },
     "metadata": {},
     "output_type": "display_data"
    },
    {
     "data": {
      "application/vnd.jupyter.widget-view+json": {
       "model_id": "be22a62bd96e4a5fa11f78dd1669d0cb",
       "version_major": 2,
       "version_minor": 0
      },
      "text/plain": [
       "  0%|          | 0/1000 [00:00<?, ?it/s]"
      ]
     },
     "metadata": {},
     "output_type": "display_data"
    },
    {
     "data": {
      "application/vnd.jupyter.widget-view+json": {
       "model_id": "c0e36ab5afb04a22b2cb3779aa80b32b",
       "version_major": 2,
       "version_minor": 0
      },
      "text/plain": [
       "  0%|          | 0/1000 [00:00<?, ?it/s]"
      ]
     },
     "metadata": {},
     "output_type": "display_data"
    },
    {
     "data": {
      "application/vnd.jupyter.widget-view+json": {
       "model_id": "9e45a78024434bb8a7b5fef38e80a5ec",
       "version_major": 2,
       "version_minor": 0
      },
      "text/plain": [
       "  0%|          | 0/1000 [00:00<?, ?it/s]"
      ]
     },
     "metadata": {},
     "output_type": "display_data"
    },
    {
     "data": {
      "application/vnd.jupyter.widget-view+json": {
       "model_id": "0fab4271c6134f0c85391653db589bb7",
       "version_major": 2,
       "version_minor": 0
      },
      "text/plain": [
       "  0%|          | 0/1000 [00:00<?, ?it/s]"
      ]
     },
     "metadata": {},
     "output_type": "display_data"
    },
    {
     "data": {
      "application/vnd.jupyter.widget-view+json": {
       "model_id": "a7c92ef422ba4ec0920028a35c6472b5",
       "version_major": 2,
       "version_minor": 0
      },
      "text/plain": [
       "  0%|          | 0/1000 [00:00<?, ?it/s]"
      ]
     },
     "metadata": {},
     "output_type": "display_data"
    },
    {
     "data": {
      "application/vnd.jupyter.widget-view+json": {
       "model_id": "ed87c8ba836746599e21c5f2e1505d18",
       "version_major": 2,
       "version_minor": 0
      },
      "text/plain": [
       "  0%|          | 0/1000 [00:00<?, ?it/s]"
      ]
     },
     "metadata": {},
     "output_type": "display_data"
    },
    {
     "data": {
      "application/vnd.jupyter.widget-view+json": {
       "model_id": "be563681b94d44c3a63d8009db44592c",
       "version_major": 2,
       "version_minor": 0
      },
      "text/plain": [
       "  0%|          | 0/1000 [00:00<?, ?it/s]"
      ]
     },
     "metadata": {},
     "output_type": "display_data"
    },
    {
     "data": {
      "application/vnd.jupyter.widget-view+json": {
       "model_id": "a92bb3b9d74049818f2bdd719efe9282",
       "version_major": 2,
       "version_minor": 0
      },
      "text/plain": [
       "  0%|          | 0/1000 [00:00<?, ?it/s]"
      ]
     },
     "metadata": {},
     "output_type": "display_data"
    },
    {
     "data": {
      "application/vnd.jupyter.widget-view+json": {
       "model_id": "a73fd1c8fd3c41f38eb33db142fc063e",
       "version_major": 2,
       "version_minor": 0
      },
      "text/plain": [
       "  0%|          | 0/1000 [00:00<?, ?it/s]"
      ]
     },
     "metadata": {},
     "output_type": "display_data"
    },
    {
     "data": {
      "application/vnd.jupyter.widget-view+json": {
       "model_id": "a92f17e9c4124921aac30648c5e4d63e",
       "version_major": 2,
       "version_minor": 0
      },
      "text/plain": [
       "  0%|          | 0/1000 [00:00<?, ?it/s]"
      ]
     },
     "metadata": {},
     "output_type": "display_data"
    },
    {
     "data": {
      "application/vnd.jupyter.widget-view+json": {
       "model_id": "e2007104eab8415bb566be38d19e3d37",
       "version_major": 2,
       "version_minor": 0
      },
      "text/plain": [
       "  0%|          | 0/1000 [00:00<?, ?it/s]"
      ]
     },
     "metadata": {},
     "output_type": "display_data"
    },
    {
     "data": {
      "application/vnd.jupyter.widget-view+json": {
       "model_id": "20c4c390d54b41b1b71b708ca30b7411",
       "version_major": 2,
       "version_minor": 0
      },
      "text/plain": [
       "  0%|          | 0/1000 [00:00<?, ?it/s]"
      ]
     },
     "metadata": {},
     "output_type": "display_data"
    },
    {
     "data": {
      "application/vnd.jupyter.widget-view+json": {
       "model_id": "e6e769447f834899ab7a83c2753891ce",
       "version_major": 2,
       "version_minor": 0
      },
      "text/plain": [
       "  0%|          | 0/1000 [00:00<?, ?it/s]"
      ]
     },
     "metadata": {},
     "output_type": "display_data"
    },
    {
     "data": {
      "application/vnd.jupyter.widget-view+json": {
       "model_id": "46a14274e3314471b5dc7cfd334bc8d0",
       "version_major": 2,
       "version_minor": 0
      },
      "text/plain": [
       "  0%|          | 0/1000 [00:00<?, ?it/s]"
      ]
     },
     "metadata": {},
     "output_type": "display_data"
    },
    {
     "data": {
      "application/vnd.jupyter.widget-view+json": {
       "model_id": "d04906eab2264ba7926b817c4db14cfe",
       "version_major": 2,
       "version_minor": 0
      },
      "text/plain": [
       "  0%|          | 0/1000 [00:00<?, ?it/s]"
      ]
     },
     "metadata": {},
     "output_type": "display_data"
    },
    {
     "data": {
      "application/vnd.jupyter.widget-view+json": {
       "model_id": "6c1390a1157e4a5ca5a30b36e4b2408e",
       "version_major": 2,
       "version_minor": 0
      },
      "text/plain": [
       "  0%|          | 0/1000 [00:00<?, ?it/s]"
      ]
     },
     "metadata": {},
     "output_type": "display_data"
    },
    {
     "data": {
      "application/vnd.jupyter.widget-view+json": {
       "model_id": "f2ae705332024eefa5b21ca2c63d1ad0",
       "version_major": 2,
       "version_minor": 0
      },
      "text/plain": [
       "  0%|          | 0/1000 [00:00<?, ?it/s]"
      ]
     },
     "metadata": {},
     "output_type": "display_data"
    },
    {
     "data": {
      "application/vnd.jupyter.widget-view+json": {
       "model_id": "79e235f4b201435db70b66c0a1515712",
       "version_major": 2,
       "version_minor": 0
      },
      "text/plain": [
       "  0%|          | 0/1000 [00:00<?, ?it/s]"
      ]
     },
     "metadata": {},
     "output_type": "display_data"
    },
    {
     "data": {
      "application/vnd.jupyter.widget-view+json": {
       "model_id": "7fa51edb18e3459099bb8568de2a26fe",
       "version_major": 2,
       "version_minor": 0
      },
      "text/plain": [
       "  0%|          | 0/1000 [00:00<?, ?it/s]"
      ]
     },
     "metadata": {},
     "output_type": "display_data"
    },
    {
     "data": {
      "application/vnd.jupyter.widget-view+json": {
       "model_id": "b91c7ac3f7db4d27b435d577271bcf89",
       "version_major": 2,
       "version_minor": 0
      },
      "text/plain": [
       "  0%|          | 0/1000 [00:00<?, ?it/s]"
      ]
     },
     "metadata": {},
     "output_type": "display_data"
    },
    {
     "data": {
      "application/vnd.jupyter.widget-view+json": {
       "model_id": "b5fb69734b224db7b230876c68b17811",
       "version_major": 2,
       "version_minor": 0
      },
      "text/plain": [
       "  0%|          | 0/1000 [00:00<?, ?it/s]"
      ]
     },
     "metadata": {},
     "output_type": "display_data"
    },
    {
     "data": {
      "application/vnd.jupyter.widget-view+json": {
       "model_id": "2ad5f31134364744b15ea7b1784d5790",
       "version_major": 2,
       "version_minor": 0
      },
      "text/plain": [
       "  0%|          | 0/1000 [00:00<?, ?it/s]"
      ]
     },
     "metadata": {},
     "output_type": "display_data"
    },
    {
     "data": {
      "application/vnd.jupyter.widget-view+json": {
       "model_id": "8ae52905405b4ebbafd9848a14a6e7f9",
       "version_major": 2,
       "version_minor": 0
      },
      "text/plain": [
       "  0%|          | 0/1000 [00:00<?, ?it/s]"
      ]
     },
     "metadata": {},
     "output_type": "display_data"
    },
    {
     "data": {
      "application/vnd.jupyter.widget-view+json": {
       "model_id": "b515de69d5c641238df34abf4c2fd5fd",
       "version_major": 2,
       "version_minor": 0
      },
      "text/plain": [
       "  0%|          | 0/1000 [00:00<?, ?it/s]"
      ]
     },
     "metadata": {},
     "output_type": "display_data"
    },
    {
     "data": {
      "application/vnd.jupyter.widget-view+json": {
       "model_id": "696c45a577664c91af70f2ff50004c27",
       "version_major": 2,
       "version_minor": 0
      },
      "text/plain": [
       "  0%|          | 0/1000 [00:00<?, ?it/s]"
      ]
     },
     "metadata": {},
     "output_type": "display_data"
    },
    {
     "data": {
      "application/vnd.jupyter.widget-view+json": {
       "model_id": "c4a55cf6b1734a7a9970058e21ff497e",
       "version_major": 2,
       "version_minor": 0
      },
      "text/plain": [
       "  0%|          | 0/1000 [00:00<?, ?it/s]"
      ]
     },
     "metadata": {},
     "output_type": "display_data"
    },
    {
     "data": {
      "application/vnd.jupyter.widget-view+json": {
       "model_id": "c5e71ef8465840e8acff5da5a1fc30f4",
       "version_major": 2,
       "version_minor": 0
      },
      "text/plain": [
       "  0%|          | 0/1000 [00:00<?, ?it/s]"
      ]
     },
     "metadata": {},
     "output_type": "display_data"
    },
    {
     "data": {
      "application/vnd.jupyter.widget-view+json": {
       "model_id": "8af6305693b34ca894606ed15b39208e",
       "version_major": 2,
       "version_minor": 0
      },
      "text/plain": [
       "  0%|          | 0/1000 [00:00<?, ?it/s]"
      ]
     },
     "metadata": {},
     "output_type": "display_data"
    },
    {
     "data": {
      "application/vnd.jupyter.widget-view+json": {
       "model_id": "482fc6e23f904f6c8120f88c9e01db6c",
       "version_major": 2,
       "version_minor": 0
      },
      "text/plain": [
       "  0%|          | 0/1000 [00:00<?, ?it/s]"
      ]
     },
     "metadata": {},
     "output_type": "display_data"
    },
    {
     "data": {
      "application/vnd.jupyter.widget-view+json": {
       "model_id": "d88235f8bdac46fca0a989843d987828",
       "version_major": 2,
       "version_minor": 0
      },
      "text/plain": [
       "  0%|          | 0/1000 [00:00<?, ?it/s]"
      ]
     },
     "metadata": {},
     "output_type": "display_data"
    },
    {
     "data": {
      "application/vnd.jupyter.widget-view+json": {
       "model_id": "9e875bd33fff4e6683f2e127167c5469",
       "version_major": 2,
       "version_minor": 0
      },
      "text/plain": [
       "  0%|          | 0/1000 [00:00<?, ?it/s]"
      ]
     },
     "metadata": {},
     "output_type": "display_data"
    },
    {
     "data": {
      "application/vnd.jupyter.widget-view+json": {
       "model_id": "6fa027a781f84e0c9132f3d40d8ea196",
       "version_major": 2,
       "version_minor": 0
      },
      "text/plain": [
       "  0%|          | 0/1000 [00:00<?, ?it/s]"
      ]
     },
     "metadata": {},
     "output_type": "display_data"
    },
    {
     "data": {
      "application/vnd.jupyter.widget-view+json": {
       "model_id": "271591a6abe34db190c5b02f2b340b72",
       "version_major": 2,
       "version_minor": 0
      },
      "text/plain": [
       "  0%|          | 0/1000 [00:00<?, ?it/s]"
      ]
     },
     "metadata": {},
     "output_type": "display_data"
    }
   ],
   "source": [
    "# DO NOT RUN IF YOU ALREADY HAVE THE DATA\n",
    "\n",
    "oinfo_all_original_0 = {}\n",
    "oinfo_all_AR_0 = {}\n",
    "oinfo_all_PR_0 = {}\n",
    "\n",
    "oinfo_all_original_1 = {}\n",
    "oinfo_all_AR_1 = {}\n",
    "oinfo_all_PR_1 = {}\n",
    "\n",
    "for subject in subjects:\n",
    "    (\n",
    "        oinfo_all_original_0[f\"df_{subject}_original_0\"],\n",
    "        oinfo_all_AR_0[f\"df_{subject}_AR_0\"],\n",
    "        oinfo_all_PR_0[f\"df_{subject}_PR_0\"],\n",
    "    ) = get_o_infos(\n",
    "        df_all_original_0[f\"df_{subject}_original_0\"],\n",
    "        df_all_AR_0[f\"df_{subject}_AR_0\"],\n",
    "        df_all_PR_0[f\"df_{subject}_PR_0\"],\n",
    "        random_triplets,\n",
    "    )\n",
    "\n",
    "    (\n",
    "        oinfo_all_original_1[f\"df_{subject}_original_1\"],\n",
    "        oinfo_all_AR_1[f\"df_{subject}_AR_1\"],\n",
    "        oinfo_all_PR_1[f\"df_{subject}_PR_1\"],\n",
    "    ) = get_o_infos(\n",
    "        df_all_original_1[f\"df_{subject}_original_1\"],\n",
    "        df_all_AR_1[f\"df_{subject}_AR_1\"],\n",
    "        df_all_PR_1[f\"df_{subject}_PR_1\"],\n",
    "        random_triplets,\n",
    "    )\n",
    "\n",
    "    np.save(\n",
    "        f\"./results/brain_results/triplets/o_info/metrics/subject_{subject}_original_exam_0.npy\",\n",
    "        oinfo_all_original_0[f\"df_{subject}_original_0\"],\n",
    "    )\n",
    "\n",
    "    np.save(\n",
    "        f\"./results/brain_results/triplets/o_info/metrics/subject_{subject}_AR_exam_0.npy\",\n",
    "        oinfo_all_AR_0[f\"df_{subject}_AR_0\"],\n",
    "    )\n",
    "\n",
    "    np.save(\n",
    "        f\"./results/brain_results/triplets/o_info/metrics/subject_{subject}_PR_exam_0.npy\",\n",
    "        oinfo_all_PR_0[f\"df_{subject}_PR_0\"],\n",
    "    )\n",
    "\n",
    "    np.save(\n",
    "        f\"./results/brain_results/triplets/o_info/metrics/subject_{subject}_original_exam_1.npy\",\n",
    "        oinfo_all_original_1[f\"df_{subject}_original_1\"],\n",
    "    )\n",
    "\n",
    "    np.save(\n",
    "        f\"./results/brain_results/triplets/o_info/metrics/subject_{subject}_AR_exam_1.npy\",\n",
    "        oinfo_all_AR_1[f\"df_{subject}_AR_1\"],\n",
    "    )\n",
    "\n",
    "    np.save(\n",
    "        f\"./results/brain_results/triplets/o_info/metrics/subject_{subject}_PR_exam_1.npy\",\n",
    "        oinfo_all_PR_1[f\"df_{subject}_PR_1\"],\n",
    "    )"
   ]
  },
  {
   "cell_type": "markdown",
   "id": "18e9acf6",
   "metadata": {},
   "source": [
    "<a name=\"results_o_info_triplets\"></a>\n",
    "#### Results"
   ]
  },
  {
   "cell_type": "code",
   "execution_count": 16,
   "id": "27bab65e",
   "metadata": {},
   "outputs": [],
   "source": [
    "df_triplets = pd.DataFrame(\n",
    "    columns=[\n",
    "        \"J-S div (O-AR, 0)\",\n",
    "        \"J-S div (O-PR, 0)\",\n",
    "        \"J-S div (O-AR, 1)\",\n",
    "        \"J-S div (O-PR, 1)\",\n",
    "        \"Pearson (O-AR, 0)\",\n",
    "        \"Pearson (O-PR, 0)\",\n",
    "        \"Pearson (O-AR, 1)\",\n",
    "        \"Pearson (O-PR, 1)\",\n",
    "        \"Spearman (O-AR, 0)\",\n",
    "        \"p-value (O-AR, 0)\",\n",
    "        \"Spearman (O-PR, 0)\",\n",
    "        \"p-value (O-PR, 0)\",\n",
    "        \"Spearman (O-AR, 1)\",\n",
    "        \"p-value (O-AR, 1)\",\n",
    "        \"Spearman (O-PR, 1)\",\n",
    "        \"p-value (O-PR, 1)\",\n",
    "        \"RBO (O-AR, 0, red)\",\n",
    "        \"RBO (O-PR, 0, red)\",\n",
    "        \"RBO (O-AR, 1, red)\",\n",
    "        \"RBO (O-PR, 1, red)\",\n",
    "        \"RBO (O-AR, 0, syn)\",\n",
    "        \"RBO (O-PR, 0, syn)\",\n",
    "        \"RBO (O-AR, 1, syn)\",\n",
    "        \"RBO (O-PR, 1, syn)\",\n",
    "    ]\n",
    ")"
   ]
  },
  {
   "cell_type": "code",
   "execution_count": 17,
   "id": "e55c0c6d",
   "metadata": {},
   "outputs": [],
   "source": [
    "# DO NOT RUN IF YOU ALREADY HAVE THE DATAFRAME\n",
    "\n",
    "for subject in subjects:\n",
    "    original, modified = np_load_o_info_triplets(subject)\n",
    "\n",
    "    # Compute the J-S divergence\n",
    "    df_triplets.at[subject, \"J-S div (O-AR, 0)\"] = JS_div(original[0], modified[0])\n",
    "    df_triplets.at[subject, \"J-S div (O-PR, 0)\"] = JS_div(original[0], modified[1])\n",
    "    df_triplets.at[subject, \"J-S div (O-AR, 1)\"] = JS_div(original[1], modified[2])\n",
    "    df_triplets.at[subject, \"J-S div (O-PR, 1)\"] = JS_div(original[1], modified[3])\n",
    "\n",
    "    # Compute the Pearson coefficient\n",
    "    df_triplets.at[subject, \"Pearson (O-AR, 0)\"] = np.corrcoef(\n",
    "        original[0], modified[0]\n",
    "    )[0, 1]\n",
    "    df_triplets.at[subject, \"Pearson (O-PR, 0)\"] = np.corrcoef(\n",
    "        original[0], modified[1]\n",
    "    )[0, 1]\n",
    "    df_triplets.at[subject, \"Pearson (O-AR, 1)\"] = np.corrcoef(\n",
    "        original[1], modified[2]\n",
    "    )[0, 1]\n",
    "    df_triplets.at[subject, \"Pearson (O-PR, 1)\"] = np.corrcoef(\n",
    "        original[1], modified[3]\n",
    "    )[0, 1]\n",
    "\n",
    "    # Compute the Spearman coefficient\n",
    "    spearman_coefficient, p_value = spearmanr(original[0], modified[0])\n",
    "    df_triplets.at[subject, \"Spearman (O-AR, 0)\"] = spearman_coefficient\n",
    "    df_triplets.at[subject, \"p-value (O-AR, 0)\"] = p_value\n",
    "    spearman_coefficient, p_value = spearmanr(original[0], modified[1])\n",
    "    df_triplets.at[subject, \"Spearman (O-PR, 0)\"] = spearman_coefficient\n",
    "    df_triplets.at[subject, \"p-value (O-PR, 0)\"] = p_value\n",
    "    spearman_coefficient, p_value = spearmanr(original[1], modified[2])\n",
    "    df_triplets.at[subject, \"Spearman (O-AR, 1)\"] = spearman_coefficient\n",
    "    df_triplets.at[subject, \"p-value (O-AR, 1)\"] = p_value\n",
    "    spearman_coefficient, p_value = spearmanr(original[1], modified[3])\n",
    "    df_triplets.at[subject, \"Spearman (O-PR, 1)\"] = spearman_coefficient\n",
    "    df_triplets.at[subject, \"p-value (O-PR, 1)\"] = p_value\n",
    "\n",
    "    # Compute the RBO\n",
    "    # Indices from the bigger to the smaller (for RBO redundancy)\n",
    "    red_original_0, red_original_1, red_AR_0, red_PR_0, red_AR_1, red_PR_1 = (\n",
    "        np.argsort(-original[0]),\n",
    "        np.argsort(-original[1]),\n",
    "        np.argsort(-modified[0]),\n",
    "        np.argsort(-modified[1]),\n",
    "        np.argsort(-modified[2]),\n",
    "        np.argsort(-modified[3]),\n",
    "    )\n",
    "\n",
    "    # Indices from the smaller to the bigger (for RBO synergy)\n",
    "    syn_original_0, syn_original_1, syn_AR_0, syn_PR_0, syn_AR_1, syn_PR_1 = (\n",
    "        np.argsort(original[0]),\n",
    "        np.argsort(original[1]),\n",
    "        np.argsort(modified[0]),\n",
    "        np.argsort(modified[1]),\n",
    "        np.argsort(modified[2]),\n",
    "        np.argsort(modified[3]),\n",
    "    )\n",
    "\n",
    "    df_triplets.at[subject, \"RBO (O-AR, 0, red)\"] = rbo.RankingSimilarity(\n",
    "        red_original_0, red_AR_0\n",
    "    ).rbo()\n",
    "    df_triplets.at[subject, \"RBO (O-PR, 0, red)\"] = rbo.RankingSimilarity(\n",
    "        red_original_0, red_PR_0\n",
    "    ).rbo()\n",
    "    df_triplets.at[subject, \"RBO (O-AR, 1, red)\"] = rbo.RankingSimilarity(\n",
    "        red_original_1, red_AR_1\n",
    "    ).rbo()\n",
    "    df_triplets.at[subject, \"RBO (O-PR, 1, red)\"] = rbo.RankingSimilarity(\n",
    "        red_original_1, red_PR_1\n",
    "    ).rbo()\n",
    "\n",
    "    df_triplets.at[subject, \"RBO (O-AR, 0, syn)\"] = rbo.RankingSimilarity(\n",
    "        syn_original_0, syn_AR_0\n",
    "    ).rbo()\n",
    "    df_triplets.at[subject, \"RBO (O-PR, 0, syn)\"] = rbo.RankingSimilarity(\n",
    "        syn_original_0, syn_PR_0\n",
    "    ).rbo()\n",
    "    df_triplets.at[subject, \"RBO (O-AR, 1, syn)\"] = rbo.RankingSimilarity(\n",
    "        syn_original_1, syn_AR_1\n",
    "    ).rbo()\n",
    "    df_triplets.at[subject, \"RBO (O-PR, 1, syn)\"] = rbo.RankingSimilarity(\n",
    "        syn_original_1, syn_PR_1\n",
    "    ).rbo()\n",
    "\n",
    "\n",
    "df_triplets.to_csv(\n",
    "    \"./results/brain_results/triplets/o_info/dataframe_results_triplets.csv\", index=True\n",
    ")"
   ]
  },
  {
   "cell_type": "code",
   "execution_count": 18,
   "id": "38d71181",
   "metadata": {},
   "outputs": [
    {
     "data": {
      "text/html": [
       "<div>\n",
       "<style scoped>\n",
       "    .dataframe tbody tr th:only-of-type {\n",
       "        vertical-align: middle;\n",
       "    }\n",
       "\n",
       "    .dataframe tbody tr th {\n",
       "        vertical-align: top;\n",
       "    }\n",
       "\n",
       "    .dataframe thead th {\n",
       "        text-align: right;\n",
       "    }\n",
       "</style>\n",
       "<table border=\"1\" class=\"dataframe\">\n",
       "  <thead>\n",
       "    <tr style=\"text-align: right;\">\n",
       "      <th></th>\n",
       "      <th>J-S div (O-AR, 0)</th>\n",
       "      <th>J-S div (O-PR, 0)</th>\n",
       "      <th>J-S div (O-AR, 1)</th>\n",
       "      <th>J-S div (O-PR, 1)</th>\n",
       "      <th>Pearson (O-AR, 0)</th>\n",
       "      <th>Pearson (O-PR, 0)</th>\n",
       "      <th>Pearson (O-AR, 1)</th>\n",
       "      <th>Pearson (O-PR, 1)</th>\n",
       "      <th>Spearman (O-AR, 0)</th>\n",
       "      <th>p-value (O-AR, 0)</th>\n",
       "      <th>...</th>\n",
       "      <th>Spearman (O-PR, 1)</th>\n",
       "      <th>p-value (O-PR, 1)</th>\n",
       "      <th>RBO (O-AR, 0, red)</th>\n",
       "      <th>RBO (O-PR, 0, red)</th>\n",
       "      <th>RBO (O-AR, 1, red)</th>\n",
       "      <th>RBO (O-PR, 1, red)</th>\n",
       "      <th>RBO (O-AR, 0, syn)</th>\n",
       "      <th>RBO (O-PR, 0, syn)</th>\n",
       "      <th>RBO (O-AR, 1, syn)</th>\n",
       "      <th>RBO (O-PR, 1, syn)</th>\n",
       "    </tr>\n",
       "  </thead>\n",
       "  <tbody>\n",
       "    <tr>\n",
       "      <th>100307</th>\n",
       "      <td>0.001439</td>\n",
       "      <td>0.004645</td>\n",
       "      <td>0.006253</td>\n",
       "      <td>0.009648</td>\n",
       "      <td>0.921541</td>\n",
       "      <td>0.939230</td>\n",
       "      <td>0.928742</td>\n",
       "      <td>0.923842</td>\n",
       "      <td>0.913794</td>\n",
       "      <td>0.000000e+00</td>\n",
       "      <td>...</td>\n",
       "      <td>0.930799</td>\n",
       "      <td>0.000000e+00</td>\n",
       "      <td>0.868801</td>\n",
       "      <td>0.880493</td>\n",
       "      <td>0.872413</td>\n",
       "      <td>0.870570</td>\n",
       "      <td>0.808123</td>\n",
       "      <td>0.808370</td>\n",
       "      <td>0.832871</td>\n",
       "      <td>0.855318</td>\n",
       "    </tr>\n",
       "    <tr>\n",
       "      <th>100408</th>\n",
       "      <td>0.000618</td>\n",
       "      <td>0.003086</td>\n",
       "      <td>0.029174</td>\n",
       "      <td>0.015306</td>\n",
       "      <td>0.981277</td>\n",
       "      <td>0.976369</td>\n",
       "      <td>0.941099</td>\n",
       "      <td>0.944284</td>\n",
       "      <td>0.979918</td>\n",
       "      <td>0.000000e+00</td>\n",
       "      <td>...</td>\n",
       "      <td>0.943508</td>\n",
       "      <td>0.000000e+00</td>\n",
       "      <td>0.928674</td>\n",
       "      <td>0.921817</td>\n",
       "      <td>0.889785</td>\n",
       "      <td>0.891167</td>\n",
       "      <td>0.904433</td>\n",
       "      <td>0.908257</td>\n",
       "      <td>0.857936</td>\n",
       "      <td>0.858775</td>\n",
       "    </tr>\n",
       "    <tr>\n",
       "      <th>101107</th>\n",
       "      <td>0.010108</td>\n",
       "      <td>0.014406</td>\n",
       "      <td>0.008663</td>\n",
       "      <td>0.008471</td>\n",
       "      <td>0.858000</td>\n",
       "      <td>0.891218</td>\n",
       "      <td>0.923315</td>\n",
       "      <td>0.919142</td>\n",
       "      <td>0.864144</td>\n",
       "      <td>6.940911e-300</td>\n",
       "      <td>...</td>\n",
       "      <td>0.923466</td>\n",
       "      <td>0.000000e+00</td>\n",
       "      <td>0.812777</td>\n",
       "      <td>0.833411</td>\n",
       "      <td>0.852412</td>\n",
       "      <td>0.852078</td>\n",
       "      <td>0.826332</td>\n",
       "      <td>0.860704</td>\n",
       "      <td>0.857794</td>\n",
       "      <td>0.857433</td>\n",
       "    </tr>\n",
       "    <tr>\n",
       "      <th>101309</th>\n",
       "      <td>0.043038</td>\n",
       "      <td>0.132381</td>\n",
       "      <td>0.007461</td>\n",
       "      <td>0.004590</td>\n",
       "      <td>0.926293</td>\n",
       "      <td>0.938779</td>\n",
       "      <td>0.923664</td>\n",
       "      <td>0.939464</td>\n",
       "      <td>0.924949</td>\n",
       "      <td>0.000000e+00</td>\n",
       "      <td>...</td>\n",
       "      <td>0.910791</td>\n",
       "      <td>0.000000e+00</td>\n",
       "      <td>0.870858</td>\n",
       "      <td>0.882781</td>\n",
       "      <td>0.861438</td>\n",
       "      <td>0.884536</td>\n",
       "      <td>0.829977</td>\n",
       "      <td>0.869804</td>\n",
       "      <td>0.766554</td>\n",
       "      <td>0.804683</td>\n",
       "    </tr>\n",
       "    <tr>\n",
       "      <th>101915</th>\n",
       "      <td>0.002831</td>\n",
       "      <td>0.004696</td>\n",
       "      <td>1.304122</td>\n",
       "      <td>1.722809</td>\n",
       "      <td>0.960177</td>\n",
       "      <td>0.969320</td>\n",
       "      <td>0.906758</td>\n",
       "      <td>0.926365</td>\n",
       "      <td>0.954083</td>\n",
       "      <td>0.000000e+00</td>\n",
       "      <td>...</td>\n",
       "      <td>0.887835</td>\n",
       "      <td>0.000000e+00</td>\n",
       "      <td>0.902038</td>\n",
       "      <td>0.913816</td>\n",
       "      <td>0.849119</td>\n",
       "      <td>0.863114</td>\n",
       "      <td>0.883056</td>\n",
       "      <td>0.900522</td>\n",
       "      <td>0.778272</td>\n",
       "      <td>0.789769</td>\n",
       "    </tr>\n",
       "    <tr>\n",
       "      <th>103111</th>\n",
       "      <td>0.787494</td>\n",
       "      <td>0.007002</td>\n",
       "      <td>0.003968</td>\n",
       "      <td>0.099662</td>\n",
       "      <td>0.936974</td>\n",
       "      <td>0.940625</td>\n",
       "      <td>0.907312</td>\n",
       "      <td>0.942010</td>\n",
       "      <td>0.887307</td>\n",
       "      <td>0.000000e+00</td>\n",
       "      <td>...</td>\n",
       "      <td>0.765453</td>\n",
       "      <td>2.777113e-193</td>\n",
       "      <td>0.868715</td>\n",
       "      <td>0.882302</td>\n",
       "      <td>0.825045</td>\n",
       "      <td>0.850012</td>\n",
       "      <td>0.781540</td>\n",
       "      <td>0.812943</td>\n",
       "      <td>0.724235</td>\n",
       "      <td>0.751776</td>\n",
       "    </tr>\n",
       "    <tr>\n",
       "      <th>103414</th>\n",
       "      <td>0.006085</td>\n",
       "      <td>0.149464</td>\n",
       "      <td>0.004211</td>\n",
       "      <td>0.003379</td>\n",
       "      <td>0.872512</td>\n",
       "      <td>0.900770</td>\n",
       "      <td>0.863311</td>\n",
       "      <td>0.919959</td>\n",
       "      <td>0.801210</td>\n",
       "      <td>8.386874e-225</td>\n",
       "      <td>...</td>\n",
       "      <td>0.841963</td>\n",
       "      <td>1.078470e-269</td>\n",
       "      <td>0.829547</td>\n",
       "      <td>0.838226</td>\n",
       "      <td>0.817893</td>\n",
       "      <td>0.859402</td>\n",
       "      <td>0.739985</td>\n",
       "      <td>0.753617</td>\n",
       "      <td>0.736638</td>\n",
       "      <td>0.769332</td>\n",
       "    </tr>\n",
       "    <tr>\n",
       "      <th>103818</th>\n",
       "      <td>0.005971</td>\n",
       "      <td>0.006185</td>\n",
       "      <td>0.232065</td>\n",
       "      <td>0.169578</td>\n",
       "      <td>0.962856</td>\n",
       "      <td>0.975226</td>\n",
       "      <td>0.915541</td>\n",
       "      <td>0.929647</td>\n",
       "      <td>0.955359</td>\n",
       "      <td>0.000000e+00</td>\n",
       "      <td>...</td>\n",
       "      <td>0.910335</td>\n",
       "      <td>0.000000e+00</td>\n",
       "      <td>0.905295</td>\n",
       "      <td>0.920229</td>\n",
       "      <td>0.856526</td>\n",
       "      <td>0.874281</td>\n",
       "      <td>0.867131</td>\n",
       "      <td>0.880848</td>\n",
       "      <td>0.804968</td>\n",
       "      <td>0.835626</td>\n",
       "    </tr>\n",
       "    <tr>\n",
       "      <th>105014</th>\n",
       "      <td>0.659318</td>\n",
       "      <td>0.148671</td>\n",
       "      <td>0.002476</td>\n",
       "      <td>0.001028</td>\n",
       "      <td>0.900683</td>\n",
       "      <td>0.912324</td>\n",
       "      <td>0.903324</td>\n",
       "      <td>0.943314</td>\n",
       "      <td>0.819409</td>\n",
       "      <td>1.930488e-243</td>\n",
       "      <td>...</td>\n",
       "      <td>0.828570</td>\n",
       "      <td>1.222482e-253</td>\n",
       "      <td>0.841179</td>\n",
       "      <td>0.848631</td>\n",
       "      <td>0.820780</td>\n",
       "      <td>0.857063</td>\n",
       "      <td>0.766171</td>\n",
       "      <td>0.780954</td>\n",
       "      <td>0.720238</td>\n",
       "      <td>0.758014</td>\n",
       "    </tr>\n",
       "    <tr>\n",
       "      <th>105115</th>\n",
       "      <td>0.010554</td>\n",
       "      <td>0.015547</td>\n",
       "      <td>0.157436</td>\n",
       "      <td>0.011745</td>\n",
       "      <td>0.863201</td>\n",
       "      <td>0.930819</td>\n",
       "      <td>0.884435</td>\n",
       "      <td>0.932290</td>\n",
       "      <td>0.841018</td>\n",
       "      <td>1.637357e-268</td>\n",
       "      <td>...</td>\n",
       "      <td>0.891256</td>\n",
       "      <td>0.000000e+00</td>\n",
       "      <td>0.824212</td>\n",
       "      <td>0.875237</td>\n",
       "      <td>0.848816</td>\n",
       "      <td>0.873020</td>\n",
       "      <td>0.767462</td>\n",
       "      <td>0.828021</td>\n",
       "      <td>0.756646</td>\n",
       "      <td>0.794366</td>\n",
       "    </tr>\n",
       "  </tbody>\n",
       "</table>\n",
       "<p>10 rows × 24 columns</p>\n",
       "</div>"
      ],
      "text/plain": [
       "        J-S div (O-AR, 0)  J-S div (O-PR, 0)  J-S div (O-AR, 1)  \\\n",
       "100307           0.001439           0.004645           0.006253   \n",
       "100408           0.000618           0.003086           0.029174   \n",
       "101107           0.010108           0.014406           0.008663   \n",
       "101309           0.043038           0.132381           0.007461   \n",
       "101915           0.002831           0.004696           1.304122   \n",
       "103111           0.787494           0.007002           0.003968   \n",
       "103414           0.006085           0.149464           0.004211   \n",
       "103818           0.005971           0.006185           0.232065   \n",
       "105014           0.659318           0.148671           0.002476   \n",
       "105115           0.010554           0.015547           0.157436   \n",
       "\n",
       "        J-S div (O-PR, 1)  Pearson (O-AR, 0)  Pearson (O-PR, 0)  \\\n",
       "100307           0.009648           0.921541           0.939230   \n",
       "100408           0.015306           0.981277           0.976369   \n",
       "101107           0.008471           0.858000           0.891218   \n",
       "101309           0.004590           0.926293           0.938779   \n",
       "101915           1.722809           0.960177           0.969320   \n",
       "103111           0.099662           0.936974           0.940625   \n",
       "103414           0.003379           0.872512           0.900770   \n",
       "103818           0.169578           0.962856           0.975226   \n",
       "105014           0.001028           0.900683           0.912324   \n",
       "105115           0.011745           0.863201           0.930819   \n",
       "\n",
       "        Pearson (O-AR, 1)  Pearson (O-PR, 1)  Spearman (O-AR, 0)  \\\n",
       "100307           0.928742           0.923842            0.913794   \n",
       "100408           0.941099           0.944284            0.979918   \n",
       "101107           0.923315           0.919142            0.864144   \n",
       "101309           0.923664           0.939464            0.924949   \n",
       "101915           0.906758           0.926365            0.954083   \n",
       "103111           0.907312           0.942010            0.887307   \n",
       "103414           0.863311           0.919959            0.801210   \n",
       "103818           0.915541           0.929647            0.955359   \n",
       "105014           0.903324           0.943314            0.819409   \n",
       "105115           0.884435           0.932290            0.841018   \n",
       "\n",
       "        p-value (O-AR, 0)  ...  Spearman (O-PR, 1)  p-value (O-PR, 1)  \\\n",
       "100307       0.000000e+00  ...            0.930799       0.000000e+00   \n",
       "100408       0.000000e+00  ...            0.943508       0.000000e+00   \n",
       "101107      6.940911e-300  ...            0.923466       0.000000e+00   \n",
       "101309       0.000000e+00  ...            0.910791       0.000000e+00   \n",
       "101915       0.000000e+00  ...            0.887835       0.000000e+00   \n",
       "103111       0.000000e+00  ...            0.765453      2.777113e-193   \n",
       "103414      8.386874e-225  ...            0.841963      1.078470e-269   \n",
       "103818       0.000000e+00  ...            0.910335       0.000000e+00   \n",
       "105014      1.930488e-243  ...            0.828570      1.222482e-253   \n",
       "105115      1.637357e-268  ...            0.891256       0.000000e+00   \n",
       "\n",
       "        RBO (O-AR, 0, red)  RBO (O-PR, 0, red)  RBO (O-AR, 1, red)  \\\n",
       "100307            0.868801            0.880493            0.872413   \n",
       "100408            0.928674            0.921817            0.889785   \n",
       "101107            0.812777            0.833411            0.852412   \n",
       "101309            0.870858            0.882781            0.861438   \n",
       "101915            0.902038            0.913816            0.849119   \n",
       "103111            0.868715            0.882302            0.825045   \n",
       "103414            0.829547            0.838226            0.817893   \n",
       "103818            0.905295            0.920229            0.856526   \n",
       "105014            0.841179            0.848631            0.820780   \n",
       "105115            0.824212            0.875237            0.848816   \n",
       "\n",
       "        RBO (O-PR, 1, red)  RBO (O-AR, 0, syn)  RBO (O-PR, 0, syn)  \\\n",
       "100307            0.870570            0.808123            0.808370   \n",
       "100408            0.891167            0.904433            0.908257   \n",
       "101107            0.852078            0.826332            0.860704   \n",
       "101309            0.884536            0.829977            0.869804   \n",
       "101915            0.863114            0.883056            0.900522   \n",
       "103111            0.850012            0.781540            0.812943   \n",
       "103414            0.859402            0.739985            0.753617   \n",
       "103818            0.874281            0.867131            0.880848   \n",
       "105014            0.857063            0.766171            0.780954   \n",
       "105115            0.873020            0.767462            0.828021   \n",
       "\n",
       "        RBO (O-AR, 1, syn)  RBO (O-PR, 1, syn)  \n",
       "100307            0.832871            0.855318  \n",
       "100408            0.857936            0.858775  \n",
       "101107            0.857794            0.857433  \n",
       "101309            0.766554            0.804683  \n",
       "101915            0.778272            0.789769  \n",
       "103111            0.724235            0.751776  \n",
       "103414            0.736638            0.769332  \n",
       "103818            0.804968            0.835626  \n",
       "105014            0.720238            0.758014  \n",
       "105115            0.756646            0.794366  \n",
       "\n",
       "[10 rows x 24 columns]"
      ]
     },
     "execution_count": 18,
     "metadata": {},
     "output_type": "execute_result"
    }
   ],
   "source": [
    "df_triplets = pd.read_csv(\n",
    "    \"./results/brain_results/triplets/o_info/dataframe_results_triplets.csv\",\n",
    "    index_col=0,\n",
    ")\n",
    "df_triplets"
   ]
  },
  {
   "cell_type": "code",
   "execution_count": 19,
   "id": "6da96ecf",
   "metadata": {},
   "outputs": [],
   "source": [
    "threshold_JS = 0.4\n",
    "threshold_Pearson = 0.6\n",
    "threshold_Spearman = 0.6\n",
    "threshold_RBO = 0.6\n",
    "\n",
    "dict_subjects_triplets = {subject: 0 for subject in subjects}\n",
    "\n",
    "for subject, row in df_triplets.iterrows():\n",
    "    for column in df_triplets.columns:\n",
    "        if \"J-S div\" in column:\n",
    "            if row[column] > threshold_JS:\n",
    "                dict_subjects_triplets[subject] += 1\n",
    "\n",
    "        elif \"Pearson\" in column:\n",
    "            if row[column] < threshold_Pearson:\n",
    "                dict_subjects_triplets[subject] += 1\n",
    "\n",
    "        elif \"Spearman\" in column:\n",
    "            if row[column] < threshold_Spearman:\n",
    "                dict_subjects_triplets[subject] += 1\n",
    "\n",
    "        elif \"RBO\" in column:\n",
    "            if row[column] < threshold_RBO:\n",
    "                dict_subjects_triplets[subject] += 1"
   ]
  },
  {
   "cell_type": "code",
   "execution_count": 20,
   "id": "9eb4e72f",
   "metadata": {},
   "outputs": [],
   "source": [
    "threshold_subjects = 10  # max 20\n",
    "interesting_subjects_triplets = {}\n",
    "\n",
    "for subject in subjects:\n",
    "    if dict_subjects_triplets[subject] >= threshold_subjects:\n",
    "        interesting_subjects_triplets[subject] = dict_subjects_triplets[subject]"
   ]
  },
  {
   "cell_type": "code",
   "execution_count": 21,
   "id": "91d8ad2a",
   "metadata": {},
   "outputs": [
    {
     "name": "stdout",
     "output_type": "stream",
     "text": [
      "Subjects showing notable differences in triplets\n",
      "{}\n"
     ]
    }
   ],
   "source": [
    "interesting_subjects_triplets = dict(\n",
    "    sorted(interesting_subjects_triplets.items(), key=lambda x: x[1], reverse=True)\n",
    ")\n",
    "\n",
    "print(\"Subjects showing notable differences in triplets\")\n",
    "print(interesting_subjects_triplets)"
   ]
  },
  {
   "cell_type": "code",
   "execution_count": 22,
   "id": "293674cb",
   "metadata": {},
   "outputs": [
    {
     "data": {
      "text/plain": [
       "{'J-S div (O-AR, 0)': 2,\n",
       " 'J-S div (O-PR, 0)': 0,\n",
       " 'J-S div (O-AR, 1)': 1,\n",
       " 'J-S div (O-PR, 1)': 1,\n",
       " 'Pearson (O-AR, 0)': 0,\n",
       " 'Pearson (O-PR, 0)': 0,\n",
       " 'Pearson (O-AR, 1)': 0,\n",
       " 'Pearson (O-PR, 1)': 0,\n",
       " 'Spearman (O-AR, 0)': 0,\n",
       " 'Spearman (O-PR, 0)': 0,\n",
       " 'Spearman (O-AR, 1)': 0,\n",
       " 'Spearman (O-PR, 1)': 0,\n",
       " 'RBO (O-AR, 0, red)': 0,\n",
       " 'RBO (O-PR, 0, red)': 0,\n",
       " 'RBO (O-AR, 1, red)': 0,\n",
       " 'RBO (O-PR, 1, red)': 0,\n",
       " 'RBO (O-AR, 0, syn)': 0,\n",
       " 'RBO (O-PR, 0, syn)': 0,\n",
       " 'RBO (O-AR, 1, syn)': 0,\n",
       " 'RBO (O-PR, 1, syn)': 0}"
      ]
     },
     "execution_count": 22,
     "metadata": {},
     "output_type": "execute_result"
    }
   ],
   "source": [
    "dict_columns_triplets = {column: 0 for column in df_triplets.columns if not column.startswith('p-value')}\n",
    "\n",
    "for subject, row in df_triplets.iterrows():\n",
    "    for column in df_triplets.columns:\n",
    "        if \"J-S div\" in column:\n",
    "            if row[column] > threshold_JS:\n",
    "                dict_columns_triplets[column] += 1\n",
    "\n",
    "        elif \"Pearson\" in column:\n",
    "            if row[column] < threshold_Pearson:\n",
    "                dict_columns_triplets[column] += 1\n",
    "\n",
    "        elif \"Spearman\" in column:\n",
    "            if row[column] < threshold_Spearman:\n",
    "                dict_columns_triplets[column] += 1\n",
    "\n",
    "        elif \"RBO\" in column:\n",
    "            if row[column] < threshold_RBO:\n",
    "                dict_columns_triplets[column] += 1\n",
    "\n",
    "dict_columns_triplets"
   ]
  },
  {
   "cell_type": "markdown",
   "id": "ad6e0e90",
   "metadata": {},
   "source": [
    "<a name=\"quadriplets\"></a>\n",
    "## Quadriplets"
   ]
  },
  {
   "cell_type": "markdown",
   "id": "2b722d67",
   "metadata": {},
   "source": [
    "<a name=\"total_dyn_quadriplets\"></a>\n",
    "### Total dynamical O-information"
   ]
  },
  {
   "cell_type": "code",
   "execution_count": null,
   "id": "c59691ba",
   "metadata": {},
   "outputs": [],
   "source": [
    "# DO NOT RUN IF YOU ALREADY HAVE THE QUADRIPLETS\n",
    "\n",
    "# From all possible combinations of 4 columns, I randomly extract n_quadr non-repeating quadriplets\n",
    "n_quadr = 5  # max 2441626\n",
    "\n",
    "\n",
    "quadriplets = list(\n",
    "    combinations(df_all_original_0[f\"df_{subjects[0]}_original_0\"].columns, 4)\n",
    ")\n",
    "random_quadriplets = random.sample(quadriplets, n_quadr)\n",
    "\n",
    "# Save the variables with pickle\n",
    "with open(\"results/brain_results/quadriplets/quadriplets.pkl\", \"wb\") as file:\n",
    "    pickle.dump((n_quadr, random_quadriplets), file)\n",
    "\n",
    "# If I want to load the variables, I have to do:\n",
    "# with open(\"results/brain_results/quadriplets/quadriplets.pkl\", \"rb\") as file:\n",
    "#    n_quadr, random_quadriplets = pickle.load(file)"
   ]
  },
  {
   "cell_type": "code",
   "execution_count": null,
   "id": "881abd5b",
   "metadata": {
    "scrolled": true
   },
   "outputs": [],
   "source": [
    "# DO NOT RUN IF YOU ALREADY HAVE THE DATA\n",
    "\n",
    "doinfo_all_original_0 = {}\n",
    "doinfo_all_AR_0 = {}\n",
    "doinfo_all_PR_0 = {}\n",
    "\n",
    "doinfo_all_original_1 = {}\n",
    "doinfo_all_AR_1 = {}\n",
    "doinfo_all_PR_1 = {}\n",
    "\n",
    "for subject in subjects:\n",
    "    (\n",
    "        doinfo_all_original_0[f\"df_{subject}_original_0\"],\n",
    "        doinfo_all_AR_0[f\"df_{subject}_AR_0\"],\n",
    "        doinfo_all_PR_0[f\"df_{subject}_PR_0\"],\n",
    "    ) = get_do_infos(\n",
    "        df_all_original_0[f\"df_{subject}_original_0\"],\n",
    "        df_all_AR_0[f\"df_{subject}_AR_0\"],\n",
    "        df_all_PR_0[f\"df_{subject}_PR_0\"],\n",
    "        random_quadriplets,\n",
    "    )\n",
    "\n",
    "    (\n",
    "        doinfo_all_original_1[f\"df_{subject}_original_1\"],\n",
    "        doinfo_all_AR_1[f\"df_{subject}_AR_1\"],\n",
    "        doinfo_all_PR_1[f\"df_{subject}_PR_1\"],\n",
    "    ) = get_do_infos(\n",
    "        df_all_original_1[f\"df_{subject}_original_1\"],\n",
    "        df_all_AR_1[f\"df_{subject}_AR_1\"],\n",
    "        df_all_PR_1[f\"df_{subject}_PR_1\"],\n",
    "        random_quadriplets,\n",
    "    )\n",
    "\n",
    "    np.save(\n",
    "        f\"./results/brain_results/quadriplets/do_info/subject_{subject}_doinfo_original_exam_0.npy\",\n",
    "        doinfo_all_original_0[f\"df_{subject}_original_0\"],\n",
    "    )\n",
    "\n",
    "    np.save(\n",
    "        f\"./results/brain_results/quadriplets/do_info/subject_{subject}_doinfo_AR_exam_0.npy\",\n",
    "        doinfo_all_AR_0[f\"df_{subject}_AR_0\"],\n",
    "    )\n",
    "\n",
    "    np.save(\n",
    "        f\"./results/brain_results/quadriplets/do_info/subject_{subject}_doinfo_PR_exam_0.npy\",\n",
    "        doinfo_all_PR_0[f\"df_{subject}_PR_0\"],\n",
    "    )\n",
    "\n",
    "    np.save(\n",
    "        f\"./results/brain_results/quadriplets/do_info/subject_{subject}_doinfo_original_exam_1.npy\",\n",
    "        doinfo_all_original_1[f\"df_{subject}_original_1\"],\n",
    "    )\n",
    "\n",
    "    np.save(\n",
    "        f\"./results/brain_results/quadriplets/do_info/subject_{subject}_doinfo_AR_exam_1.npy\",\n",
    "        doinfo_all_AR_1[f\"df_{subject}_AR_1\"],\n",
    "    )\n",
    "\n",
    "    np.save(\n",
    "        f\"./results/brain_results/quadriplets/do_info/subject_{subject}_doinfo_PR_exam_1.npy\",\n",
    "        doinfo_all_PR_1[f\"df_{subject}_PR_1\"],\n",
    "    )"
   ]
  },
  {
   "cell_type": "markdown",
   "id": "8dc0a575",
   "metadata": {},
   "source": [
    "<a name=\"results_quadriplets\"></a>\n",
    "### Results "
   ]
  },
  {
   "cell_type": "markdown",
   "id": "cd9df314",
   "metadata": {},
   "source": [
    "<a name=\"violin_plot_quadriplets\"></a>\n",
    "#### Violin plot"
   ]
  },
  {
   "cell_type": "code",
   "execution_count": null,
   "id": "18e07aa8",
   "metadata": {},
   "outputs": [],
   "source": [
    "titles = [\n",
    "    \"Original - AR (0)\",\n",
    "    \"Original - PR (0)\",\n",
    "    \"Original - AR (1)\",\n",
    "    \"Original - PR (1)\",\n",
    "]"
   ]
  },
  {
   "cell_type": "code",
   "execution_count": null,
   "id": "bc760206",
   "metadata": {},
   "outputs": [],
   "source": [
    "# DO NOT RUN IF YOU ALREADY HAVE THE VIOLIN PLOTS\n",
    "\n",
    "for subject in subjects:\n",
    "    original, modified = np_load_quadriplets(subject)\n",
    "\n",
    "    fig, axs = plt.subplots(2, 2, figsize=(30, 35))\n",
    "    for i in range(4):\n",
    "        row = i // 2\n",
    "        col = i % 2\n",
    "        parts = axs[row, col].violinplot(original[row], showextrema=False)\n",
    "        for pc in parts[\"bodies\"]:\n",
    "            pc.set_facecolor(\"tab:blue\")\n",
    "            pc.set_edgecolor(\"black\")\n",
    "            pc.set_alpha(0.5)\n",
    "\n",
    "        parts = axs[row, col].violinplot(modified[i], showextrema=False)\n",
    "        for pc in parts[\"bodies\"]:\n",
    "            pc.set_facecolor(\"tab:orange\")\n",
    "            pc.set_edgecolor(\"black\")\n",
    "            pc.set_alpha(0.5)\n",
    "\n",
    "        axs[row, col].set_title(titles[i], size=35)\n",
    "        axs[row, col].set_ylabel(r\"$d\\Omega_3^{tot.}$\", size=45)\n",
    "        axs[row, col].legend(\n",
    "            handles=[\n",
    "                mpatches.Patch(color=\"tab:blue\", label=\"Original\", alpha=0.5),\n",
    "                mpatches.Patch(color=\"tab:orange\", label=\"Modified\", alpha=0.5),\n",
    "            ],\n",
    "            fontsize=40,\n",
    "        )\n",
    "\n",
    "        axs[row, col].tick_params(axis=\"both\", labelsize=25)\n",
    "\n",
    "    plt.tight_layout()  # add spaces between subplots\n",
    "    suptit = str(f\"Subject {subject}\")\n",
    "    fig.suptitle(suptit, size=45)\n",
    "    plt.tight_layout(rect=[0, 0.03, 1, 0.97])\n",
    "\n",
    "    plt.savefig(\n",
    "        f\"./results/brain_results/quadriplets/images/violin/violin_subject_{subject}.pdf\",\n",
    "        dpi=600,\n",
    "        bbox_inches=\"tight\",\n",
    "    )\n",
    "\n",
    "    plt.show()"
   ]
  },
  {
   "cell_type": "markdown",
   "id": "7e842696",
   "metadata": {},
   "source": [
    "<a name=\"scatter_plot_quadriplets\"></a>\n",
    "#### Scatter plot"
   ]
  },
  {
   "cell_type": "code",
   "execution_count": null,
   "id": "a825a473",
   "metadata": {},
   "outputs": [],
   "source": [
    "# DO NOT RUN IF YOU ALREADY HAVE THE SCATTER PLOTS\n",
    "\n",
    "for subject in subjects:\n",
    "    original, modified = np_load_quadriplets(subject)\n",
    "\n",
    "    fig, axs = plt.subplots(2, 2, figsize=(30, 30))\n",
    "    for i in range(4):\n",
    "        row = i // 2\n",
    "        col = i % 2\n",
    "\n",
    "        axs[row, col].scatter(original[row], modified[i], marker=\".\", s=500)\n",
    "        axs[row, col].set_title(titles[i], size=35)\n",
    "        axs[row, col].set_xlabel(r\"$d\\Omega_3^{tot. orig.}$\", size=45)\n",
    "        axs[row, col].set_ylabel(r\"$d\\Omega_3^{tot. mod.}$\", size=45)\n",
    "\n",
    "        # Bisector\n",
    "        x_values = np.linspace(min(original[row]), max(original[row]), 100)\n",
    "        axs[row, col].plot(x_values, x_values, color=\"red\", linewidth=3)\n",
    "\n",
    "        # Point (0, 0)\n",
    "        axs[row, col].scatter(0, 0, color=\"green\", marker=\".\", s=1800)\n",
    "\n",
    "        axs[row, col].tick_params(axis=\"both\", labelsize=25)\n",
    "\n",
    "    plt.tight_layout()\n",
    "    suptit = str(f\"Subject {subject}\")\n",
    "    fig.suptitle(suptit, size=45)\n",
    "    plt.tight_layout(rect=[0, 0.03, 1, 0.97])\n",
    "\n",
    "    plt.savefig(\n",
    "        f\"./results/brain_results/quadriplets/images/scatter/scatter_subject_{subject}.pdf\",\n",
    "        dpi=600,\n",
    "        bbox_inches=\"tight\",\n",
    "    )\n",
    "\n",
    "    plt.show()"
   ]
  },
  {
   "cell_type": "markdown",
   "id": "774fa9b5",
   "metadata": {},
   "source": [
    "<a name=\"dataframe_quadriplets\"></a>\n",
    "#### Dataframe"
   ]
  },
  {
   "cell_type": "code",
   "execution_count": null,
   "id": "17d2cb56",
   "metadata": {},
   "outputs": [],
   "source": [
    "df_quadriplets = pd.DataFrame(\n",
    "    columns=[\n",
    "        \"J-S div (O-AR, 0)\",\n",
    "        \"J-S div (O-PR, 0)\",\n",
    "        \"J-S div (O-AR, 1)\",\n",
    "        \"J-S div (O-PR, 1)\",\n",
    "        \"Pearson (O-AR, 0)\",\n",
    "        \"Pearson (O-PR, 0)\",\n",
    "        \"Pearson (O-AR, 1)\",\n",
    "        \"Pearson (O-PR, 1)\",\n",
    "        \"Spearman (O-AR, 0)\",\n",
    "        \"p-value (O-AR, 0)\",\n",
    "        \"Spearman (O-PR, 0)\",\n",
    "        \"p-value (O-PR, 0)\",\n",
    "        \"Spearman (O-AR, 1)\",\n",
    "        \"p-value (O-AR, 1)\",\n",
    "        \"Spearman (O-PR, 1)\",\n",
    "        \"p-value (O-PR, 1)\",\n",
    "        \"RBO (O-AR, 0, red)\",\n",
    "        \"RBO (O-PR, 0, red)\",\n",
    "        \"RBO (O-AR, 1, red)\",\n",
    "        \"RBO (O-PR, 1, red)\",\n",
    "        \"RBO (O-AR, 0, syn)\",\n",
    "        \"RBO (O-PR, 0, syn)\",\n",
    "        \"RBO (O-AR, 1, syn)\",\n",
    "        \"RBO (O-PR, 1, syn)\",\n",
    "    ]\n",
    ")"
   ]
  },
  {
   "cell_type": "code",
   "execution_count": null,
   "id": "8eb980aa",
   "metadata": {},
   "outputs": [],
   "source": [
    "# DO NOT RUN IF YOU ALREADY HAVE THE DATAFRAME\n",
    "\n",
    "for subject in subjects:\n",
    "    original, modified = np_load_quadriplets(subject)\n",
    "\n",
    "    # Compute the J-S divergence\n",
    "    df_quadriplets.at[subject, \"J-S div (O-AR, 0)\"] = JS_div(original[0], modified[0])\n",
    "    df_quadriplets.at[subject, \"J-S div (O-PR, 0)\"] = JS_div(original[0], modified[1])\n",
    "    df_quadriplets.at[subject, \"J-S div (O-AR, 1)\"] = JS_div(original[1], modified[2])\n",
    "    df_quadriplets.at[subject, \"J-S div (O-PR, 1)\"] = JS_div(original[1], modified[3])\n",
    "\n",
    "    # Compute the Pearson coefficient\n",
    "    df_quadriplets.at[subject, \"Pearson (O-AR, 0)\"] = np.corrcoef(\n",
    "        original[0], modified[0]\n",
    "    )[0, 1]\n",
    "    df_quadriplets.at[subject, \"Pearson (O-PR, 0)\"] = np.corrcoef(\n",
    "        original[0], modified[1]\n",
    "    )[0, 1]\n",
    "    df_quadriplets.at[subject, \"Pearson (O-AR, 1)\"] = np.corrcoef(\n",
    "        original[1], modified[2]\n",
    "    )[0, 1]\n",
    "    df_quadriplets.at[subject, \"Pearson (O-PR, 1)\"] = np.corrcoef(\n",
    "        original[1], modified[3]\n",
    "    )[0, 1]\n",
    "\n",
    "    # Compute the Spearman coefficient\n",
    "    spearman_coefficient, p_value = spearmanr(original[0], modified[0])\n",
    "    df_quadriplets.at[subject, \"Spearman (O-AR, 0)\"] = spearman_coefficient\n",
    "    df_quadriplets.at[subject, \"p-value (O-AR, 0)\"] = p_value\n",
    "    spearman_coefficient, p_value = spearmanr(original[0], modified[1])\n",
    "    df_quadriplets.at[subject, \"Spearman (O-PR, 0)\"] = spearman_coefficient\n",
    "    df_quadriplets.at[subject, \"p-value (O-PR, 0)\"] = p_value\n",
    "    spearman_coefficient, p_value = spearmanr(original[1], modified[2])\n",
    "    df_quadriplets.at[subject, \"Spearman (O-AR, 1)\"] = spearman_coefficient\n",
    "    df_quadriplets.at[subject, \"p-value (O-AR, 1)\"] = p_value\n",
    "    spearman_coefficient, p_value = spearmanr(original[1], modified[3])\n",
    "    df_quadriplets.at[subject, \"Spearman (O-PR, 1)\"] = spearman_coefficient\n",
    "    df_quadriplets.at[subject, \"p-value (O-PR, 1)\"] = p_value\n",
    "\n",
    "    # Compute the RBO\n",
    "    # Indices from the bigger to the smaller (for RBO redundancy)\n",
    "    red_original_0, red_original_1, red_AR_0, red_PR_0, red_AR_1, red_PR_1 = (\n",
    "        np.argsort(-original[0]),\n",
    "        np.argsort(-original[1]),\n",
    "        np.argsort(-modified[0]),\n",
    "        np.argsort(-modified[1]),\n",
    "        np.argsort(-modified[2]),\n",
    "        np.argsort(-modified[3]),\n",
    "    )\n",
    "\n",
    "    # Indices from the smaller to the bigger (for RBO synergy)\n",
    "    syn_original_0, syn_original_1, syn_AR_0, syn_PR_0, syn_AR_1, syn_PR_1 = (\n",
    "        np.argsort(original[0]),\n",
    "        np.argsort(original[1]),\n",
    "        np.argsort(modified[0]),\n",
    "        np.argsort(modified[1]),\n",
    "        np.argsort(modified[2]),\n",
    "        np.argsort(modified[3]),\n",
    "    )\n",
    "\n",
    "    df_quadriplets.at[subject, \"RBO (O-AR, 0, red)\"] = rbo.RankingSimilarity(\n",
    "        red_original_0, red_AR_0\n",
    "    ).rbo()\n",
    "    df_quadriplets.at[subject, \"RBO (O-PR, 0, red)\"] = rbo.RankingSimilarity(\n",
    "        red_original_0, red_PR_0\n",
    "    ).rbo()\n",
    "    df_quadriplets.at[subject, \"RBO (O-AR, 1, red)\"] = rbo.RankingSimilarity(\n",
    "        red_original_1, red_AR_1\n",
    "    ).rbo()\n",
    "    df_quadriplets.at[subject, \"RBO (O-PR, 1, red)\"] = rbo.RankingSimilarity(\n",
    "        red_original_1, red_PR_1\n",
    "    ).rbo()\n",
    "\n",
    "    df_quadriplets.at[subject, \"RBO (O-AR, 0, syn)\"] = rbo.RankingSimilarity(\n",
    "        syn_original_0, syn_AR_0\n",
    "    ).rbo()\n",
    "    df_quadriplets.at[subject, \"RBO (O-PR, 0, syn)\"] = rbo.RankingSimilarity(\n",
    "        syn_original_0, syn_PR_0\n",
    "    ).rbo()\n",
    "    df_quadriplets.at[subject, \"RBO (O-AR, 1, syn)\"] = rbo.RankingSimilarity(\n",
    "        syn_original_1, syn_AR_1\n",
    "    ).rbo()\n",
    "    df_quadriplets.at[subject, \"RBO (O-PR, 1, syn)\"] = rbo.RankingSimilarity(\n",
    "        syn_original_1, syn_PR_1\n",
    "    ).rbo()"
   ]
  },
  {
   "cell_type": "code",
   "execution_count": null,
   "id": "57e2308d",
   "metadata": {},
   "outputs": [],
   "source": [
    "# DO NOT RUN IF YOU ALREADY HAVE THE DATAFRAME\n",
    "\n",
    "df_quadriplets.to_csv(\"./results/brain_results/quadriplets/result_quadriplets.csv\", index=True)"
   ]
  },
  {
   "cell_type": "markdown",
   "id": "2be7cf1b",
   "metadata": {},
   "source": [
    "<a name=\"summary_quadriplets\"></a>\n",
    "#### Summary"
   ]
  },
  {
   "cell_type": "code",
   "execution_count": null,
   "id": "041aca28",
   "metadata": {},
   "outputs": [],
   "source": [
    "df_quadriplets = pd.read_csv(\n",
    "    \"./results/brain_results/quadriplets/result_quadriplets.csv\", index_col=0\n",
    ")"
   ]
  },
  {
   "cell_type": "code",
   "execution_count": null,
   "id": "cc9e9414",
   "metadata": {},
   "outputs": [],
   "source": [
    "df_quadriplets"
   ]
  },
  {
   "cell_type": "code",
   "execution_count": null,
   "id": "754d1523",
   "metadata": {},
   "outputs": [],
   "source": [
    "threshold_JS = 0.4\n",
    "threshold_Pearson = 0.6\n",
    "threshold_Spearman = 0.6\n",
    "threshold_RBO = 0.6\n",
    "\n",
    "dict_subjects_quadriplets = {subject: 0 for subject in subjects}"
   ]
  },
  {
   "cell_type": "code",
   "execution_count": null,
   "id": "36fd20ae",
   "metadata": {},
   "outputs": [],
   "source": [
    "# DO NOT RUN IF YOU ALREADY HAVE THE DICTIONARY\n",
    "\n",
    "for subject, row in df_quadriplets.iterrows():\n",
    "    for column in df_quadriplets.columns:\n",
    "        if \"J-S div\" in column:\n",
    "            if row[column] > threshold_JS:\n",
    "                dict_subjects_quadriplets[subject] += 1\n",
    "\n",
    "        elif \"Pearson\" in column:\n",
    "            if row[column] < threshold_Pearson:\n",
    "                dict_subjects_quadriplets[subject] += 1\n",
    "\n",
    "        elif \"Spearman\" in column:\n",
    "            if row[column] < threshold_Spearman:\n",
    "                dict_subjects_quadriplets[subject] += 1\n",
    "\n",
    "        elif \"RBO\" in column:\n",
    "            if row[column] < threshold_RBO:\n",
    "                dict_subjects_quadriplets[subject] += 1"
   ]
  },
  {
   "cell_type": "code",
   "execution_count": null,
   "id": "18f8f38e",
   "metadata": {},
   "outputs": [],
   "source": [
    "# DO NOT RUN IF YOU ALREADY HAVE THE DICTIONARY\n",
    "\n",
    "with open(\"./results/brain_results/quadriplets/dict_subjects_quadriplets.pickle\", \"wb\") as file:\n",
    "    pickle.dump(dict_subjects_quadriplets, file)"
   ]
  },
  {
   "cell_type": "code",
   "execution_count": null,
   "id": "11977672",
   "metadata": {},
   "outputs": [],
   "source": [
    "with open(\"./results/brain_results/quadriplets/dict_subjects_quadriplets.pickle\", \"rb\") as file:\n",
    "    dict_subjects_quadriplets = pickle.load(file)"
   ]
  },
  {
   "cell_type": "code",
   "execution_count": null,
   "id": "aefb1b50",
   "metadata": {},
   "outputs": [],
   "source": [
    "threshold_subjects = 12  # max 20\n",
    "interesting_subjects_quadriplets = {}\n",
    "\n",
    "for subject in subjects:\n",
    "    if dict_subjects_quadriplets[subject] >= threshold_subjects:\n",
    "        interesting_subjects_quadriplets[subject] = dict_subjects_quadriplets[subject]"
   ]
  },
  {
   "cell_type": "code",
   "execution_count": null,
   "id": "b7e7d767",
   "metadata": {},
   "outputs": [],
   "source": [
    "interesting_subjects_quadriplets = dict(\n",
    "    sorted(interesting_subjects_quadriplets.items(), key=lambda x: x[1], reverse=True)\n",
    ")\n",
    "\n",
    "print(\"Subjects showing notable differences in quadriplets\")\n",
    "print(interesting_subjects_quadriplets)"
   ]
  },
  {
   "cell_type": "code",
   "execution_count": null,
   "id": "48ea8e17",
   "metadata": {
    "scrolled": true
   },
   "outputs": [],
   "source": [
    "for column in df_quadriplets.columns:\n",
    "    if \"p-value\" not in column:\n",
    "        plt.figure()\n",
    "        anomaly = False\n",
    "        for index, row in df_quadriplets.iterrows():\n",
    "            if index in interesting_subjects_quadriplets:\n",
    "                plt.scatter(index, row[column], color=\"orange\")\n",
    "                anomaly = True\n",
    "            else:\n",
    "                plt.scatter(index, row[column], color=\"blue\")\n",
    "        plt.title(column)\n",
    "        plt.xlabel(\"Subject\")\n",
    "        plt.ylabel(\"Value\")\n",
    "        if anomaly:\n",
    "            plt.legend([\"Anomaly\", \"Standard\"], prop={\"size\": 12})\n",
    "        else:\n",
    "            plt.legend([\"Standard\"], prop={\"size\": 12})\n",
    "\n",
    "        plt.savefig(\n",
    "            f\"./results/brain_results/quadriplets/images/summary/summary_{column}.pdf\",\n",
    "            dpi=600,\n",
    "            bbox_inches=\"tight\",\n",
    "        )\n",
    "\n",
    "        plt.show()"
   ]
  },
  {
   "cell_type": "markdown",
   "id": "2628223a",
   "metadata": {},
   "source": [
    "<a name=\"a_posteriori_quadriplets\"></a>\n",
    "#### A posteriori"
   ]
  },
  {
   "cell_type": "code",
   "execution_count": null,
   "id": "856712ee",
   "metadata": {},
   "outputs": [],
   "source": [
    "dict_columns_quadriplets = {column: 0 for column in df_quadriplets.columns if not column.startswith('p-value')}\n",
    "\n",
    "for subject, row in df_quadriplets.iterrows():\n",
    "    for column in df_quadriplets.columns:\n",
    "        if \"J-S div\" in column:\n",
    "            if row[column] > threshold_JS:\n",
    "                dict_columns_quadriplets[column] += 1\n",
    "\n",
    "        elif \"Pearson\" in column:\n",
    "            if row[column] < threshold_Pearson:\n",
    "                dict_columns_quadriplets[column] += 1\n",
    "\n",
    "        elif \"Spearman\" in column:\n",
    "            if row[column] < threshold_Spearman:\n",
    "                dict_columns_quadriplets[column] += 1\n",
    "\n",
    "        elif \"RBO\" in column:\n",
    "            if row[column] < threshold_RBO:\n",
    "                dict_columns_quadriplets[column] += 1\n",
    "\n",
    "dict_columns_quadriplets"
   ]
  },
  {
   "cell_type": "code",
   "execution_count": null,
   "id": "7c9c7455",
   "metadata": {},
   "outputs": [],
   "source": [
    "threshold_columns = len(subjects) / 3\n",
    "interesting_columns_quadriplets = {}\n",
    "\n",
    "for column in df_quadriplets.columns:\n",
    "    if dict_columns_quadriplets[column] >= threshold_columns:\n",
    "        interesting_columns_quadriplets[column] = dict_columns_quadriplets[column]\n",
    "\n",
    "interesting_columns_quadriplets"
   ]
  },
  {
   "cell_type": "markdown",
   "id": "146276ec",
   "metadata": {},
   "source": [
    "<a name=\"comparison_triplets_quadriplets\"></a>\n",
    "## Comparison Triplets vs Quadriplets"
   ]
  },
  {
   "cell_type": "markdown",
   "id": "f6bf71ae",
   "metadata": {},
   "source": [
    "Are there any subject that interesting_subjects_triplets and interesting_subjects_quadriplets have in common?"
   ]
  },
  {
   "cell_type": "code",
   "execution_count": null,
   "id": "40f75efa",
   "metadata": {},
   "outputs": [],
   "source": [
    "common_subjects = set(interesting_subjects_triplets.keys()) & set(\n",
    "    interesting_subjects_quadriplets.keys()\n",
    ")\n",
    "\n",
    "if len(common_subjects) > 0:\n",
    "    print(\"Dictionaries have subjects in common:\")\n",
    "    for key in common_subjects:\n",
    "        print(key)\n",
    "else:\n",
    "    print(\"Dictionaries do not have subjects in common.\")"
   ]
  },
  {
   "cell_type": "markdown",
   "id": "1114a9c7",
   "metadata": {},
   "source": [
    "Are there any column that interesting_columns_triplets and interesting_columns_quadriplets have in common?"
   ]
  },
  {
   "cell_type": "code",
   "execution_count": null,
   "id": "d97d2540",
   "metadata": {},
   "outputs": [],
   "source": [
    "common_columns = set(interesting_columns_triplets.keys()) & set(\n",
    "    interesting_columns_quadriplets.keys()\n",
    ")\n",
    "\n",
    "if len(common_columns) > 0:\n",
    "    print(\"Dictionaries have columns in common:\")\n",
    "    for key in common_columns:\n",
    "        print(key)\n",
    "else:\n",
    "    print(\"Dictionaries do not have columns in common.\")"
   ]
  },
  {
   "cell_type": "markdown",
   "id": "04ce6947",
   "metadata": {},
   "source": [
    "<a name=\"o_info\"></a>\n",
    "## O-information"
   ]
  },
  {
   "cell_type": "code",
   "execution_count": null,
   "id": "425d828a",
   "metadata": {},
   "outputs": [],
   "source": []
  }
 ],
 "metadata": {
  "kernelspec": {
   "display_name": "Python 3 (ipykernel)",
   "language": "python",
   "name": "python3"
  },
  "language_info": {
   "codemirror_mode": {
    "name": "ipython",
    "version": 3
   },
   "file_extension": ".py",
   "mimetype": "text/x-python",
   "name": "python",
   "nbconvert_exporter": "python",
   "pygments_lexer": "ipython3",
   "version": "3.10.9"
  }
 },
 "nbformat": 4,
 "nbformat_minor": 5
}
