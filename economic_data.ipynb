{
 "cells": [
  {
   "cell_type": "markdown",
   "metadata": {},
   "source": [
    "# Total dynamical O-information"
   ]
  },
  {
   "cell_type": "markdown",
   "metadata": {},
   "source": [
    "Add bootstrapping, gaussian sampling and all possible triplets (not only 35)"
   ]
  },
  {
   "cell_type": "markdown",
   "metadata": {},
   "source": [
    "# TO-DO: bottstr farlo su tutte le triplette, nella guassiana mantenere anche covarianza e farla anche per matrice"
   ]
  },
  {
   "cell_type": "markdown",
   "metadata": {},
   "source": [
    "## Index\n",
    "\n",
    "1. [Functions](#functions)\n",
    "1. [Load and binarize data](#load_binar_data)\n",
    "    1. [Gaussian randomization](#load_binar_data_gaussian)\n",
    "1. [Full length](#full_length)\n",
    "    1. [Thomas' work](#thomas_work_full)\n",
    "    1. [3 vs 1-2](#3_vs_1-2_full)\n",
    "        1. [J-S divergence](#J-S_divergence_full)\n",
    "    1. [3 vs 1-1-1](#3_vs_1-1-1_full)\n",
    "1. [Half length](#half_length)\n",
    "    1. [Thomas' work](#thomas_work_half)\n",
    "    1. [3 vs 1-2](#3_vs_1-2_half)\n",
    "        1. [J-S divergence](#J-S_divergence_half)\n",
    "    1. [3 vs 1-1-1](#3_vs_1-1-1_half)\n",
    "1. [Comparison different lengths](#comparison_lengths)\n",
    "    1. [Comparison full-half](#comparison_f_h)\n",
    "    1. [Creation dataset](#creation_dataset)\n",
    "        1. [Comparison Industrials](#comparison_industrials)\n",
    "        1. [Comparison Basic Materials](#comparison_basic_materials)\n",
    "        1. [Comparison Financials](#comparison_financials)\n",
    "        1. [Comparison Consumer Services](#comparison_consumer_services)\n",
    "        1. [Comparison Health Care](#comparison_health_care)\n",
    "        1. [Comparison Utilities](#comparison_utilities)\n",
    "        1. [Comparison Oil & Gas](#comparison_oil_gas)\n",
    "        1. [Comparison Consumer Goods](#comparison_consumer_goods)\n",
    "1. [Heatmaps](#heatmaps)\n",
    "    1. [Matrix](#matrix)\n",
    "    1. [Divided by year](#divided_year)\n",
    "        1. [Same sector](#year_same_sector)\n",
    "    1. [Divided by two years](#divided_two_years)\n",
    "    1. [Divided by three years](#divided_three_years)\n",
    "1. [O-information](#o_info)\n",
    "    1. [3 in Sector A](#o_info_3)\n",
    "        1. [Matrix](#o_info_3_matrix)\n",
    "        1. [One year](#o_info_3_one_year)\n",
    "        1. [Two years](#o_info_3_two_years)\n",
    "        1. [Three years](#o_info_3_three_years)\n",
    "    1. [2 in Sector A and 1 in Sector B](#o_info_2_1)\n",
    "        1. [Matrix](#o_info_2_1_matrix)\n",
    "        1. [One year](#o_info_2_1_one_year)\n",
    "        1. [Two years](#o_info_2_1_two_years)\n",
    "        1. [Three years](#o_info_2_1_three_years)\n",
    "    1. [1 in Sector A, 1 in Sector B and 1 in Sector C](#o_info_1_1_1)\n",
    "        1. [Matrix](#o_info_1_1_1_matrix)\n",
    "            1. [Bootstrapping](#o_info_1_1_1_matrix_bootstrapping)\n",
    "            1. [Probability density function](#o_info_1_1_1_matrix_pdf)\n",
    "            1. [Gaussian distribution](#o_info_1_1_1_matrix_gaussian)\n",
    "            1. [All number of triplets](#o_info_1_1_1_matrix_all_triplets)\n",
    "        1. [One year](#o_info_1_1_1_one_year)\n",
    "            1. [Gaussian distribution](#o_info_1_1_1_one_year_gaussian)\n",
    "            1. [All number of triplets](#o_info_1_1_1_one_year_all_triplets)\n",
    "        1. [Two years](#o_info_1_1_1_two_years)\n",
    "        1. [Three years](#o_info_1_1_1_three_years)"
   ]
  },
  {
   "cell_type": "markdown",
   "metadata": {},
   "source": [
    "<a name=\"functions\"></a>\n",
    "## Functions"
   ]
  },
  {
   "cell_type": "code",
   "execution_count": null,
   "metadata": {},
   "outputs": [],
   "source": [
    "import numpy as np\n",
    "import pandas as pd\n",
    "import seaborn as sns\n",
    "import matplotlib.pyplot as plt\n",
    "from itertools import combinations, product\n",
    "from tqdm.auto import tqdm\n",
    "import matplotlib.patches as mpatches\n",
    "import pickle\n",
    "from scipy.special import kl_div\n",
    "from scipy.stats import entropy\n",
    "\n",
    "from ho_info_metrics.metrics import *\n",
    "from ho_info_metrics.utils import *"
   ]
  },
  {
   "cell_type": "code",
   "execution_count": null,
   "metadata": {},
   "outputs": [],
   "source": [
    "def binarize_df(df, window_size):\n",
    "    df = df.drop(columns=[\"Date\"])\n",
    "    for col in df.columns:\n",
    "        if col != \"Date\":\n",
    "            col_values = df[col].values\n",
    "            binarized_values = []\n",
    "            for i in range(len(col_values)):\n",
    "                window_start = max(0, i - window_size + 1)\n",
    "                window_mean = col_values[window_start : i + 1].mean()\n",
    "                binarized_values.append(1 if col_values[i] > window_mean else 0)\n",
    "            df[col] = binarized_values\n",
    "    return df"
   ]
  },
  {
   "cell_type": "code",
   "execution_count": null,
   "metadata": {},
   "outputs": [],
   "source": [
    "def get_do_infos(target_sector, binarized_financial_ts):\n",
    "\n",
    "    print(\">>>\", target_sector)\n",
    "    target_stocks = list(\n",
    "        stock_names[stock_names[\"Sector\"] == target_sector][\"Stock name\"]\n",
    "    )  # tutti gli stock name il cui settore sia il target\n",
    "    print(len(target_stocks))\n",
    "    other_stocks = list(\n",
    "        stock_names[stock_names[\"Sector\"] != target_sector][\"Stock name\"]\n",
    "    )\n",
    "    print(len(other_stocks))\n",
    "\n",
    "    same_sector_triplets = list(combinations(target_stocks, 3))\n",
    "    print(len(same_sector_triplets))\n",
    "    different_sector_triplets = []\n",
    "    while len(different_sector_triplets) != len(same_sector_triplets):\n",
    "        triplet = []\n",
    "        triplet.append(np.random.choice(target_stocks))\n",
    "        triplet.append(np.random.choice(other_stocks))\n",
    "        triplet.append(np.random.choice(other_stocks))\n",
    "        different_sector_triplets.append(triplet)\n",
    "    print(len(different_sector_triplets))\n",
    "\n",
    "    doinfo_same_sector = []\n",
    "    doinfo_different_sector = []\n",
    "    bar_length = len(same_sector_triplets)\n",
    "    with tqdm(total=bar_length) as pbar:\n",
    "        pbar.set_description(\"Same sector triplets\")\n",
    "        for i in range(len(same_sector_triplets)):\n",
    "            X1 = binarized_financial_ts[same_sector_triplets[i][0]].values\n",
    "            X2 = binarized_financial_ts[same_sector_triplets[i][1]].values\n",
    "            X3 = binarized_financial_ts[same_sector_triplets[i][2]].values\n",
    "            X = np.vstack((X1, X2, X3))\n",
    "            doinfo_same_sector.append(\n",
    "                o_information_lagged_all(X, estimator=\"cat_ent\")\n",
    "            )  # calcola la total dynamical o_information della tripletta\n",
    "            pbar.update(1)\n",
    "\n",
    "    bar_length = len(different_sector_triplets)\n",
    "    with tqdm(total=bar_length) as pbar:\n",
    "        for i in range(len(different_sector_triplets)):\n",
    "            X1 = binarized_financial_ts[different_sector_triplets[i][0]].values\n",
    "            X2 = binarized_financial_ts[different_sector_triplets[i][1]].values\n",
    "            X3 = binarized_financial_ts[different_sector_triplets[i][2]].values\n",
    "            X = np.vstack((X1, X2, X3))\n",
    "            doinfo_different_sector.append(\n",
    "                o_information_lagged_all(X, estimator=\"cat_ent\")\n",
    "            )\n",
    "            pbar.update(1)\n",
    "\n",
    "    return (\n",
    "        doinfo_same_sector,\n",
    "        doinfo_different_sector,\n",
    "    )  # ogni termine ritorna un array con la total dynamical o_information per ogni tripletta"
   ]
  },
  {
   "cell_type": "code",
   "execution_count": null,
   "metadata": {},
   "outputs": [],
   "source": [
    "def get_do_infos_same(target_sector, binarized_ts):\n",
    "    \"\"\"Get the total dynamical o_information for the triplets of the target sector\"\"\"\n",
    "\n",
    "    print(\">>>\", target_sector)\n",
    "\n",
    "    target_stocks = list(\n",
    "        stock_names[stock_names[\"Sector\"] == target_sector][\"Stock name\"]\n",
    "    )  # tutti gli stock name il cui settore sia il target\n",
    "    print(\"Length target_stocks:\", len(target_stocks))\n",
    "\n",
    "    # Having removed the Technology sector, each sector can now offer 35 triplets\n",
    "    same_sector_triplets = list(combinations(target_stocks, 3))[:35]\n",
    "    print(\"Length triplets same sector:\", len(same_sector_triplets))\n",
    "\n",
    "    doinfo_one_sector = []\n",
    "    bar_length = len(same_sector_triplets)\n",
    "    with tqdm(total=bar_length) as pbar:\n",
    "        pbar.set_description(\"Same sector\")\n",
    "        for i in range(len(same_sector_triplets)):\n",
    "            X1 = binarized_ts[same_sector_triplets[i][0]].values\n",
    "            X2 = binarized_ts[same_sector_triplets[i][1]].values\n",
    "            X3 = binarized_ts[same_sector_triplets[i][2]].values\n",
    "            X = np.vstack((X1, X2, X3))\n",
    "            doinfo_one_sector.append(\n",
    "                o_information_lagged_all(X, estimator=\"cat_ent\")\n",
    "            )  # calcola la total dynamical o_information della tripletta\n",
    "            pbar.update(1)\n",
    "\n",
    "    return doinfo_one_sector"
   ]
  },
  {
   "cell_type": "code",
   "execution_count": null,
   "metadata": {},
   "outputs": [],
   "source": [
    "def get_o_infos_same(target_sector, binarized_ts, total= False):\n",
    "    \"\"\"Get the O-information for the triplets of the target sector\"\"\"\n",
    "    \n",
    "    print(\">>>\", target_sector)\n",
    "\n",
    "    target_stocks = list(\n",
    "        stock_names[stock_names[\"Sector\"] == target_sector][\"Stock name\"]\n",
    "    )  # tutti gli stock name il cui settore sia il target\n",
    "    print(\"Length target_stocks:\", len(target_stocks))\n",
    "    \n",
    "    if total:\n",
    "        same_sector_triplets = list(combinations(target_stocks, 3))\n",
    "    else:\n",
    "        # Having removed the Technology sector, each sector can now offer 35 triplets\n",
    "        same_sector_triplets = list(combinations(target_stocks, 3))[:35]\n",
    "    print(\"Length triplets same sector:\", len(same_sector_triplets))\n",
    "    \n",
    "    oinfo_one_sector = []\n",
    "    bar_length = len(same_sector_triplets)\n",
    "    with tqdm(total=bar_length) as pbar:\n",
    "        pbar.set_description(\"Same sector\")\n",
    "        for i in range(len(same_sector_triplets)):\n",
    "            X1 = binarized_ts[same_sector_triplets[i][0]].values\n",
    "            X2 = binarized_ts[same_sector_triplets[i][1]].values\n",
    "            X3 = binarized_ts[same_sector_triplets[i][2]].values\n",
    "            X = np.vstack((X1, X2, X3))\n",
    "            oinfo_one_sector.append(\n",
    "                o_information_boot(X, estimator=\"cat_ent\")\n",
    "            )  # calcola la O-information della tripletta\n",
    "            pbar.update(1)\n",
    "\n",
    "    return oinfo_one_sector"
   ]
  },
  {
   "cell_type": "code",
   "execution_count": null,
   "metadata": {},
   "outputs": [],
   "source": [
    "def get_do_infos_two_different(target_sector, another_sector, binarized_ts, total=False):\n",
    "    \"\"\"Get the total dynamical o_information for the triplets\n",
    "    composed of one node in the target_sector and two in the another_sector\"\"\"\n",
    "\n",
    "    print(\">>>\", target_sector, \"-\", another_sector)\n",
    "\n",
    "    target_stocks = list(\n",
    "        stock_names[stock_names[\"Sector\"] == target_sector][\"Stock name\"]\n",
    "    )\n",
    "    another_stocks = list(\n",
    "        stock_names[stock_names[\"Sector\"] == another_sector][\"Stock name\"]\n",
    "    )\n",
    "    print(\"Length another_stocks:\", len(another_stocks))\n",
    "\n",
    "    if total:\n",
    "        another_sector_triplets = []\n",
    "        for target in target_stocks:\n",
    "            for combo in combinations(another_stocks, 2):\n",
    "                another_sector_triplets.append((target, combo[0], combo[1]))\n",
    "        print(\"Length triplets two sectors:\", len(another_sector_triplets))\n",
    "    else:\n",
    "        # Having removed the Technology sector, each sector can now offer 35 triplets\n",
    "        num_triplets = 35\n",
    "        another_sector_triplets = []\n",
    "        while len(another_sector_triplets) != num_triplets:\n",
    "            triplet = []\n",
    "            triplet.append(np.random.choice(target_stocks))\n",
    "            triplet.append(np.random.choice(another_stocks))\n",
    "            triplet.append(np.random.choice(another_stocks))\n",
    "            another_sector_triplets.append(triplet)\n",
    "        print(\"Length triplets two sectors:\", len(another_sector_triplets))\n",
    "\n",
    "    doinfo_two_sectors = []\n",
    "    bar_length = len(another_sector_triplets)\n",
    "    with tqdm(total=bar_length) as pbar:\n",
    "        pbar.set_description(\"Two sectors\")\n",
    "        for i in range(len(another_sector_triplets)):\n",
    "            X1 = binarized_ts[another_sector_triplets[i][0]].values\n",
    "            X2 = binarized_ts[another_sector_triplets[i][1]].values\n",
    "            X3 = binarized_ts[another_sector_triplets[i][2]].values\n",
    "            X = np.vstack((X1, X2, X3))\n",
    "            doinfo_two_sectors.append(o_information_lagged_all(X, estimator=\"cat_ent\"))\n",
    "            pbar.update(1)\n",
    "\n",
    "    return doinfo_two_sectors"
   ]
  },
  {
   "cell_type": "code",
   "execution_count": null,
   "metadata": {},
   "outputs": [],
   "source": [
    "def get_o_infos_two_different(target_sector, another_sector, binarized_ts, total=False):\n",
    "    \"\"\"Get the O-information for the triplets composed of one\n",
    "    node in the target_sector and two in the another_sector\"\"\"\n",
    "\n",
    "    print(\">>>\", target_sector, \"-\", another_sector)\n",
    "\n",
    "    target_stocks = list(\n",
    "        stock_names[stock_names[\"Sector\"] == target_sector][\"Stock name\"]\n",
    "    )\n",
    "    another_stocks = list(\n",
    "        stock_names[stock_names[\"Sector\"] == another_sector][\"Stock name\"]\n",
    "    )\n",
    "    print(\"Length another_stocks:\", len(another_stocks))\n",
    "\n",
    "    if total:\n",
    "        another_sector_triplets = []\n",
    "        for target in target_stocks:\n",
    "            for combo in combinations(another_stocks, 2):\n",
    "                another_sector_triplets.append((target, combo[0], combo[1]))\n",
    "        print(\"Length triplets two sectors:\", len(another_sector_triplets))\n",
    "    \n",
    "    else:\n",
    "        # Having removed the Technology sector, each sector can now offer 35 triplets\n",
    "        another_sector_triplets = []\n",
    "        while len(another_sector_triplets) != 35:\n",
    "            triplet = []\n",
    "            triplet.append(np.random.choice(target_stocks))\n",
    "            triplet.append(np.random.choice(another_stocks))\n",
    "            triplet.append(np.random.choice(another_stocks))\n",
    "            another_sector_triplets.append(triplet)\n",
    "        print(\"Length triplets two sectors:\", len(another_sector_triplets))\n",
    "\n",
    "    oinfo_two_sectors = []\n",
    "    bar_length = len(another_sector_triplets)\n",
    "    with tqdm(total=bar_length) as pbar:\n",
    "        pbar.set_description(\"Two sectors\")\n",
    "        for i in range(len(another_sector_triplets)):\n",
    "            X1 = binarized_ts[another_sector_triplets[i][0]].values\n",
    "            X2 = binarized_ts[another_sector_triplets[i][1]].values\n",
    "            X3 = binarized_ts[another_sector_triplets[i][2]].values\n",
    "            X = np.vstack((X1, X2, X3))\n",
    "            oinfo_two_sectors.append(o_information_boot(X, estimator=\"cat_ent\"))\n",
    "            pbar.update(1)\n",
    "\n",
    "    return oinfo_two_sectors"
   ]
  },
  {
   "cell_type": "code",
   "execution_count": null,
   "metadata": {},
   "outputs": [],
   "source": [
    "def get_do_infos_three_different(\n",
    "    target_sector, sector1, sector2, binarized_ts\n",
    "):\n",
    "    \"\"\"Get the total dynamical o_information for the triplets\n",
    "    composed of three nodes in three different sectors\"\"\"\n",
    "\n",
    "    print(\">>>\", target_sector, \"-\", sector1, \"-\", sector2)\n",
    "\n",
    "    target_stocks = list(\n",
    "        stock_names[stock_names[\"Sector\"] == target_sector][\"Stock name\"]\n",
    "    )\n",
    "    stocks1 = list(stock_names[stock_names[\"Sector\"] == sector1][\"Stock name\"])\n",
    "    print(\"Length sector1:\", len(stocks1))\n",
    "    stocks2 = list(stock_names[stock_names[\"Sector\"] == sector2][\"Stock name\"])\n",
    "    print(\"Length sector2:\", len(stocks2))\n",
    "\n",
    "    # Having removed the Technology sector, each sector can now offer 35 triplets\n",
    "    three_sectors_triplets = []\n",
    "    while len(three_sectors_triplets) != 35:\n",
    "        triplet = []\n",
    "        triplet.append(np.random.choice(target_stocks))\n",
    "        triplet.append(np.random.choice(stocks1))\n",
    "        triplet.append(np.random.choice(stocks2))\n",
    "        three_sectors_triplets.append(triplet)\n",
    "    print(\"Length triplets three sectors:\", len(three_sectors_triplets))\n",
    "\n",
    "    doinfo_three_sectors = []\n",
    "    bar_length = len(three_sectors_triplets)\n",
    "    with tqdm(total=bar_length) as pbar:\n",
    "        pbar.set_description(\"Three sectors\")\n",
    "        for i in range(len(three_sectors_triplets)):\n",
    "            X1 = binarized_ts[three_sectors_triplets[i][0]].values\n",
    "            X2 = binarized_ts[three_sectors_triplets[i][1]].values\n",
    "            X3 = binarized_ts[three_sectors_triplets[i][2]].values\n",
    "            X = np.vstack((X1, X2, X3))\n",
    "            doinfo_three_sectors.append(\n",
    "                o_information_lagged_all(X, estimator=\"cat_ent\")\n",
    "            )\n",
    "            pbar.update(1)\n",
    "\n",
    "    return doinfo_three_sectors"
   ]
  },
  {
   "cell_type": "code",
   "execution_count": null,
   "metadata": {},
   "outputs": [],
   "source": [
    "def get_o_infos_three_different(\n",
    "    target_sector, sector1, sector2, binarized_ts, total=False\n",
    "):\n",
    "    \"\"\"Get the O-information for the triplets\n",
    "    composed of three nodes in three different sectors\"\"\"\n",
    "\n",
    "    print(\">>>\", target_sector, \"-\", sector1, \"-\", sector2)\n",
    "\n",
    "    target_stocks = list(\n",
    "        stock_names[stock_names[\"Sector\"] == target_sector][\"Stock name\"]\n",
    "    )\n",
    "    stocks1 = list(stock_names[stock_names[\"Sector\"] == sector1][\"Stock name\"])\n",
    "    print(\"Length sector1:\", len(stocks1))\n",
    "    stocks2 = list(stock_names[stock_names[\"Sector\"] == sector2][\"Stock name\"])\n",
    "    print(\"Length sector2:\", len(stocks2))\n",
    "\n",
    "    if total:\n",
    "        three_sectors_triplets = []\n",
    "        for combo in product(target_stocks, stocks1, stocks2):\n",
    "            three_sectors_triplets.append(combo)\n",
    "        print(\"Length triplets three sectors:\", len(three_sectors_triplets))\n",
    "\n",
    "    else:\n",
    "        # Having removed the Technology sector, each sector can now offer 35 triplets\n",
    "        three_sectors_triplets = []\n",
    "        while len(three_sectors_triplets) != 35:\n",
    "            triplet = []\n",
    "            triplet.append(np.random.choice(target_stocks))\n",
    "            triplet.append(np.random.choice(stocks1))\n",
    "            triplet.append(np.random.choice(stocks2))\n",
    "            three_sectors_triplets.append(triplet)\n",
    "        print(\"Length triplets three sectors:\", len(three_sectors_triplets))\n",
    "\n",
    "    oinfo_three_sectors = []\n",
    "    bar_length = len(three_sectors_triplets)\n",
    "    with tqdm(total=bar_length) as pbar:\n",
    "        pbar.set_description(\"Three sectors\")\n",
    "        for i in range(len(three_sectors_triplets)):\n",
    "            X1 = binarized_ts[three_sectors_triplets[i][0]].values\n",
    "            X2 = binarized_ts[three_sectors_triplets[i][1]].values\n",
    "            X3 = binarized_ts[three_sectors_triplets[i][2]].values\n",
    "            X = np.vstack((X1, X2, X3))\n",
    "            oinfo_three_sectors.append(\n",
    "                o_information_boot(X, estimator=\"cat_ent\")\n",
    "            )\n",
    "            pbar.update(1)\n",
    "\n",
    "    return oinfo_three_sectors"
   ]
  },
  {
   "cell_type": "code",
   "execution_count": null,
   "metadata": {},
   "outputs": [],
   "source": [
    "def max_bins(array1, array2, array3):\n",
    "    \"\"\"Return the maximum number of bins so that there is at least one value inside each interval\"\"\"\n",
    "    \n",
    "    bins = 1\n",
    "    cond = True\n",
    "\n",
    "    while cond:\n",
    "        bins += 1\n",
    "        array1_hist, _ = np.histogram(array1, bins=bins)\n",
    "        array2_hist, _ = np.histogram(array2, bins=bins)\n",
    "        array3_hist, _ = np.histogram(array3, bins=bins)\n",
    "\n",
    "        if np.isin(0, array1_hist):\n",
    "            cond = False\n",
    "\n",
    "        elif np.isin(0, array2_hist):\n",
    "            cond = False\n",
    "\n",
    "        elif np.isin(0, array3_hist):\n",
    "            cond = False\n",
    "            \n",
    "    return bins - 1"
   ]
  },
  {
   "cell_type": "code",
   "execution_count": null,
   "metadata": {},
   "outputs": [],
   "source": [
    "def JS_div(array1, array2):\n",
    "    \"\"\"Compute the J-S divergence of two array\"\"\"\n",
    "    \n",
    "    array1_sort = np.sort(array1)\n",
    "    array2_sort = np.sort(array2)\n",
    "\n",
    "    array1_normalized = array1_sort / np.sum(array1_sort)\n",
    "    array2_normalized = array2_sort / np.sum(array2_sort)\n",
    "\n",
    "    average = (array1_normalized + array2_normalized) / 2\n",
    "    average_sort = np.sort(average)\n",
    "    \n",
    "    bins = max_bins(array1_normalized, array2_normalized, average_sort)\n",
    "    \n",
    "    array1_hist, _ = np.histogram(array1_normalized, bins=bins)\n",
    "    array2_hist, _ = np.histogram(array2_normalized, bins=bins)\n",
    "    average_hist, _ = np.histogram(average_sort, bins=bins)\n",
    "    \n",
    "    kl_array1 = entropy(array1_hist, average_hist)\n",
    "    kl_array2 = entropy(array2_hist, average_hist)\n",
    " \n",
    "    return np.sum(kl_array1 + kl_array2) / 2"
   ]
  },
  {
   "cell_type": "code",
   "execution_count": null,
   "metadata": {},
   "outputs": [],
   "source": [
    "def gaussian_random_numbers(dataframe, column):\n",
    "    \"\"\"Given a dataframe and a column, the function return a list of numbers extracted \n",
    "    from a gaussian distribution with the same mean and variance as the original column\"\"\"\n",
    "    \n",
    "    if column not in dataframe.columns:\n",
    "        return None\n",
    "\n",
    "    mean = dataframe[column].mean()\n",
    "    variance = dataframe[column].var()\n",
    "\n",
    "    random_numbers = np.random.normal(loc=mean, scale=np.sqrt(variance), size=len(dataframe))\n",
    "\n",
    "    return random_numbers.tolist()"
   ]
  },
  {
   "cell_type": "markdown",
   "metadata": {},
   "source": [
    "<a name=\"load_binar_data\"></a>\n",
    "## Load and binarize data"
   ]
  },
  {
   "cell_type": "code",
   "execution_count": null,
   "metadata": {},
   "outputs": [],
   "source": [
    "financial_ts = pd.read_csv(\n",
    "    \"data/Economic_data/NYSE_119stocks_2000Jan_2021June_withdates.csv\"\n",
    ")\n",
    "stock_names = pd.read_csv(\n",
    "    \"data/Economic_data/list_stocknames.txt\",\n",
    "    sep=\", \",\n",
    "    names=[\"Index\", \"Stock name\", \"Sector\"],\n",
    ")"
   ]
  },
  {
   "cell_type": "code",
   "execution_count": null,
   "metadata": {},
   "outputs": [],
   "source": [
    "financial_ts"
   ]
  },
  {
   "cell_type": "code",
   "execution_count": null,
   "metadata": {},
   "outputs": [],
   "source": [
    "stock_names"
   ]
  },
  {
   "cell_type": "code",
   "execution_count": null,
   "metadata": {},
   "outputs": [],
   "source": [
    "tw = 7  # time window, originalmente era 2\n",
    "binarized_financial_ts = binarize_df(financial_ts, tw)"
   ]
  },
  {
   "cell_type": "code",
   "execution_count": null,
   "metadata": {},
   "outputs": [],
   "source": [
    "binarized_financial_ts"
   ]
  },
  {
   "cell_type": "code",
   "execution_count": null,
   "metadata": {},
   "outputs": [],
   "source": [
    "sectors = list(stock_names[\"Sector\"].unique())\n",
    "sectors"
   ]
  },
  {
   "cell_type": "markdown",
   "metadata": {},
   "source": [
    "<a name=\"load_binar_data_gaussian\"></a>\n",
    "### Gaussian randomization"
   ]
  },
  {
   "cell_type": "code",
   "execution_count": null,
   "metadata": {},
   "outputs": [],
   "source": [
    "media_colonne = financial_ts.iloc[:, 1:].mean()\n",
    "covarianza = financial_ts.iloc[:, 1:].cov()"
   ]
  },
  {
   "cell_type": "code",
   "execution_count": null,
   "metadata": {},
   "outputs": [],
   "source": [
    "num_campioni = len(financial_ts)\n",
    "valori_generati = np.random.multivariate_normal(media_colonne, covarianza, num_campioni)"
   ]
  },
  {
   "cell_type": "code",
   "execution_count": null,
   "metadata": {},
   "outputs": [],
   "source": [
    "financial_ts_gauss = pd.DataFrame(valori_generati, columns=financial_ts.iloc[:, 1:].columns)\n",
    "financial_ts_gauss.insert(0, financial_ts.columns[0], financial_ts[financial_ts.columns[0]])"
   ]
  },
  {
   "cell_type": "code",
   "execution_count": null,
   "metadata": {},
   "outputs": [],
   "source": [
    "financial_ts_gauss"
   ]
  },
  {
   "cell_type": "code",
   "execution_count": null,
   "metadata": {},
   "outputs": [],
   "source": [
    "tw = 7  # time window, originalmente era 2\n",
    "binarized_financial_ts_gauss = binarize_df(financial_ts_gauss, tw)"
   ]
  },
  {
   "cell_type": "code",
   "execution_count": null,
   "metadata": {},
   "outputs": [],
   "source": [
    "binarized_financial_ts_gauss"
   ]
  },
  {
   "cell_type": "markdown",
   "metadata": {},
   "source": [
    "<a name=\"full_length\"></a>\n",
    "## Full length\n",
    "\n",
    "We consider the full length of the time series."
   ]
  },
  {
   "cell_type": "markdown",
   "metadata": {},
   "source": [
    "<a name=\"thomas_work_full\"></a>\n",
    "### Thomas' work"
   ]
  },
  {
   "cell_type": "markdown",
   "metadata": {},
   "source": [
    "Each sector contains the maximun number of triplets, so the number of triplets is not constant."
   ]
  },
  {
   "cell_type": "code",
   "execution_count": null,
   "metadata": {
    "code_folding": [],
    "scrolled": true
   },
   "outputs": [],
   "source": [
    "# DO NOT RUN IF YOU ALREADY HAVE THE DATA\n",
    "\n",
    "for i in range(len(sectors)):\n",
    "    doinfo_same_sector, doinfo_different_sector = get_do_infos(\n",
    "        sectors[i], binarized_financial_ts\n",
    "    )\n",
    "\n",
    "    np.save(\n",
    "        f\"./results/economic_results/full/do_info/doinfo_same_sector_{sectors[i]}_tw_{tw}.npy\",\n",
    "        doinfo_same_sector,\n",
    "    )\n",
    "\n",
    "    np.save(\n",
    "        f\"./results/economic_results/full/do_info/doinfo_different_sector_{sectors[i]}_tw_{tw}.npy\",\n",
    "        doinfo_different_sector,\n",
    "    )"
   ]
  },
  {
   "cell_type": "code",
   "execution_count": null,
   "metadata": {},
   "outputs": [],
   "source": [
    "# DO NOT RUN IF YOU ALREADY HAVE THE VIOLIN PLOT\n",
    "\n",
    "fig, axs = plt.subplots(3, 3, figsize=(40, 40))\n",
    "for i in range(len(sectors)):\n",
    "    row = i // 3\n",
    "    col = i % 3\n",
    "    doinfo_same_sector = np.load(\n",
    "        f\"./results/economic_results/full/do_info/doinfo_same_sector_{sectors[i]}_tw_{tw}.npy\"\n",
    "    )\n",
    "    doinfo_different_sector = np.load(\n",
    "        f\"./results/economic_results/full/do_info/doinfo_different_sector_{sectors[i]}_tw_{tw}.npy\"\n",
    "    )\n",
    "    parts = axs[row, col].violinplot(doinfo_same_sector, showextrema=False)\n",
    "    for pc in parts[\"bodies\"]:\n",
    "        pc.set_facecolor(\"tab:blue\")\n",
    "        pc.set_edgecolor(\"black\")\n",
    "        pc.set_alpha(0.5)\n",
    "    parts = axs[row, col].violinplot(doinfo_different_sector, showextrema=False)\n",
    "    for pc in parts[\"bodies\"]:\n",
    "        pc.set_facecolor(\"tab:orange\")\n",
    "        pc.set_edgecolor(\"black\")\n",
    "        pc.set_alpha(0.5)\n",
    "    axs[row, col].set_title(sectors[i], size=35)\n",
    "    axs[row, col].set_ylabel(r\"$d\\Omega_3^{tot.}$\", size=37)\n",
    "    axs[row, col].tick_params(axis=\"both\", labelsize=18)\n",
    "    axs[row, col].legend(\n",
    "        handles=[\n",
    "            mpatches.Patch(color=\"tab:blue\", label=\"Same sector\", alpha=0.4),\n",
    "            mpatches.Patch(color=\"tab:orange\", label=\"Different sector\", alpha=0.4),\n",
    "        ],\n",
    "        fontsize=30,\n",
    "    )\n",
    "\n",
    "\n",
    "plt.savefig(\n",
    "    f\"./results/economic_results/full/images/doinfo_random_sectors_tw_{tw}.pdf\",\n",
    "    dpi=600,\n",
    "    bbox_inches=\"tight\",\n",
    ")"
   ]
  },
  {
   "cell_type": "markdown",
   "metadata": {},
   "source": [
    "<a name=\"3_vs_1-2_full\"></a>\n",
    "### 3 vs 1-2"
   ]
  },
  {
   "cell_type": "markdown",
   "metadata": {},
   "source": [
    "In previous work, a triplet from the same sector was compared with a triplet in which one node is from the target sector and the other two are randomly selected from other sectors. Now I would like to compare the triplet from the same sector with a more carefully chosen triplet (1 from the target sector and the other two from tho different chosen sectors).\n",
    "  \n",
    "To ensure that the number of triplets is always the same I take 35, which is the maximum number that all sectors can offer."
   ]
  },
  {
   "cell_type": "code",
   "execution_count": null,
   "metadata": {},
   "outputs": [],
   "source": [
    "target_sector = \"Technology\"\n",
    "list(stock_names[stock_names[\"Sector\"] == target_sector][\"Stock name\"])"
   ]
  },
  {
   "cell_type": "code",
   "execution_count": null,
   "metadata": {},
   "outputs": [],
   "source": [
    "# I am deleting the data for the Techonolgy sector because there are only a few\n",
    "binarized_financial_ts = binarized_financial_ts.drop(\n",
    "    columns=[\"CACI\", \"CIEN\", \"DBD\", \"DDD\"]\n",
    ")"
   ]
  },
  {
   "cell_type": "code",
   "execution_count": null,
   "metadata": {},
   "outputs": [],
   "source": [
    "# Usa il metodo .isin() per creare una maschera booleana\n",
    "maschera = stock_names[\"Stock name\"].isin([\"CACI\", \"CIEN\", \"DBD\", \"DDD\"])\n",
    "\n",
    "# Usa la maschera per selezionare solo le righe che non soddisfano la condizione\n",
    "stock_names = stock_names[~maschera]"
   ]
  },
  {
   "cell_type": "code",
   "execution_count": null,
   "metadata": {},
   "outputs": [],
   "source": [
    "sectors = sectors[:-1]\n",
    "sectors"
   ]
  },
  {
   "cell_type": "code",
   "execution_count": null,
   "metadata": {
    "scrolled": true
   },
   "outputs": [],
   "source": [
    "# DO NOT RUN IF YOU ALREADY HAVE THE DATA\n",
    "\n",
    "for target in sectors:\n",
    "    other_sectors = [sector for sector in sectors if sector != target]\n",
    "    for i, sector in enumerate(other_sectors):\n",
    "\n",
    "        if i == 0:\n",
    "            doinfo_one_sector = get_do_infos_same(target, binarized_financial_ts)\n",
    "            np.save(\n",
    "                f\"./results/economic_results/full/do_info/doinfo_one_sector_{target}_tw_{tw}.npy\",\n",
    "                doinfo_one_sector,\n",
    "            )\n",
    "\n",
    "        doinfo_two_sectors = get_do_infos_two_different(\n",
    "            target, sector, binarized_financial_ts\n",
    "        )\n",
    "        np.save(\n",
    "            f\"./results/economic_results/full/do_info/doinfo_two_sectors_{target}_{sector}_tw_{tw}.npy\",\n",
    "            doinfo_two_sectors,\n",
    "        )"
   ]
  },
  {
   "cell_type": "code",
   "execution_count": null,
   "metadata": {},
   "outputs": [],
   "source": [
    "# DO NOT RUN IF YOU ALREADY HAVE THE VIOLIN PLOTS\n",
    "\n",
    "for target in sectors:\n",
    "    other_sectors = [sector for sector in sectors if sector != target]\n",
    "    fig, axs = plt.subplots(3, 3, figsize=(40, 40))\n",
    "    for i, sector in enumerate(other_sectors):\n",
    "        row = i // 3\n",
    "        col = i % 3\n",
    "        doinfo_one_sector = np.load(\n",
    "            f\"./results/economic_results/full/do_info/doinfo_one_sector_{target}_tw_{tw}.npy\"\n",
    "        )\n",
    "        doinfo_two_sectors = np.load(\n",
    "            f\"./results/economic_results/full/do_info/doinfo_two_sectors_{target}_{sector}_tw_{tw}.npy\"\n",
    "        )\n",
    "        parts = axs[row, col].violinplot(doinfo_one_sector, showextrema=False)\n",
    "        for pc in parts[\"bodies\"]:\n",
    "            pc.set_facecolor(\"tab:blue\")\n",
    "            pc.set_edgecolor(\"black\")\n",
    "            pc.set_alpha(0.5)\n",
    "        parts = axs[row, col].violinplot(doinfo_two_sectors, showextrema=False)\n",
    "        for pc in parts[\"bodies\"]:\n",
    "            pc.set_facecolor(\"tab:orange\")\n",
    "            pc.set_edgecolor(\"black\")\n",
    "            pc.set_alpha(0.5)\n",
    "        title = str(target + \" - \" + sector)\n",
    "        axs[row, col].set_title(title, size=35)\n",
    "        axs[row, col].set_ylabel(r\"$d\\Omega_3^{tot.}$\", size=40)\n",
    "        axs[row, col].tick_params(axis=\"both\", labelsize=18)\n",
    "        label1 = str(\"3 in \" + target)\n",
    "        label2 = str(\"1 in \" + target + \", 2 in \" + sector)\n",
    "        axs[row, col].legend(\n",
    "            handles=[\n",
    "                mpatches.Patch(color=\"tab:blue\", label=label1, alpha=0.4),\n",
    "                mpatches.Patch(color=\"tab:orange\", label=label2, alpha=0.4),\n",
    "            ],\n",
    "            fontsize=25,\n",
    "        )\n",
    "\n",
    "    plt.savefig(\n",
    "        f\"./results/economic_results/full/images/two_sectors/doinfo_two_sectors_{target}_tw_{tw}.pdf\",\n",
    "        dpi=600,\n",
    "        bbox_inches=\"tight\",\n",
    "    )"
   ]
  },
  {
   "cell_type": "markdown",
   "metadata": {},
   "source": [
    "<a name=\"J-S_divergence_full\"></a>\n",
    "#### J-S divergence"
   ]
  },
  {
   "cell_type": "markdown",
   "metadata": {},
   "source": [
    "Let's summarize the difference between the two distributions into a single number, so we can make a comparison."
   ]
  },
  {
   "cell_type": "code",
   "execution_count": null,
   "metadata": {},
   "outputs": [],
   "source": [
    "# The row index indicates the target sector, the column index the other sector\n",
    "df_full = pd.DataFrame(\n",
    "    columns=[\n",
    "        \"Industrials\",\n",
    "        \"Basic Materials\",\n",
    "        \"Financials\",\n",
    "        \"Consumer Services\",\n",
    "        \"Health Care\",\n",
    "        \"Utilities\",\n",
    "        \"Oil & Gas\",\n",
    "        \"Consumer Goods\",\n",
    "    ]\n",
    ")"
   ]
  },
  {
   "cell_type": "code",
   "execution_count": null,
   "metadata": {},
   "outputs": [],
   "source": [
    "# DO NOT RUN IF YOU ALREADY HAVE THE DATAFRAME\n",
    "\n",
    "for target in sectors:\n",
    "    other_sectors = [sector for sector in sectors if sector != target]\n",
    "\n",
    "    for i, sector in enumerate(other_sectors):\n",
    "        doinfo_one_sector = np.load(\n",
    "            f\"./results/economic_results/full/do_info/doinfo_one_sector_{target}_tw_{tw}.npy\"\n",
    "        )\n",
    "        doinfo_two_sectors = np.load(\n",
    "            f\"./results/economic_results/full/do_info/doinfo_two_sectors_{target}_{sector}_tw_{tw}.npy\"\n",
    "        )\n",
    "\n",
    "        df_full.at[target, sector] = JS_div(doinfo_one_sector, doinfo_two_sectors)"
   ]
  },
  {
   "cell_type": "code",
   "execution_count": null,
   "metadata": {},
   "outputs": [],
   "source": [
    "# DO NOT RUN IF YOU ALREADY HAVE THE DATAFRAME\n",
    "\n",
    "df_full.to_csv(\"./results/economic_results/full/result_full.csv\", index=True)\n",
    "df_full"
   ]
  },
  {
   "cell_type": "markdown",
   "metadata": {},
   "source": [
    "<a name=\"3_vs_1-1-1_full\"></a>\n",
    "### 3 vs 1-1-1"
   ]
  },
  {
   "cell_type": "markdown",
   "metadata": {},
   "source": [
    "The triplet from the same sector is compared with a triplet in which each element came from a different sector (one must be the target sector).\n",
    "  \n",
    "To ensure that the number of triplets is always the same I take 35, which is the maximum number that all sectors can offer."
   ]
  },
  {
   "cell_type": "code",
   "execution_count": null,
   "metadata": {
    "scrolled": true
   },
   "outputs": [],
   "source": [
    "# DO NOT RUN IF YOU ALREADY HAVE THE DATA\n",
    "\n",
    "for target in sectors:\n",
    "    other_sectors = [sector for sector in sectors if sector != target]\n",
    "\n",
    "    for i, sector1 in enumerate(other_sectors):\n",
    "        other_sectors2 = [sector for sector in other_sectors if sector != sector1]\n",
    "        for j, sector2 in enumerate(other_sectors2):\n",
    "\n",
    "            doinfo_three_sectors = get_do_infos_three_different(\n",
    "                target, sector1, sector2, binarized_financial_ts\n",
    "            )\n",
    "            np.save(\n",
    "                f\"./results/economic_results/full/do_info/doinfo_three_sectors_{target}_{sector1}_{sector2}_tw_{tw}.npy\",\n",
    "                doinfo_three_sectors,\n",
    "            )"
   ]
  },
  {
   "cell_type": "code",
   "execution_count": null,
   "metadata": {},
   "outputs": [],
   "source": [
    "# DO NOT RUN IF YOU ALREADY HAVE THE VIOLIN PLOTS\n",
    "\n",
    "for target1 in sectors:\n",
    "    for target2 in [sector for sector in sectors if sector != target1]:\n",
    "        other_sectors = [\n",
    "            sector for sector in sectors if sector != target1 and sector != target2\n",
    "        ]\n",
    "\n",
    "        fig, axs = plt.subplots(3, 2, figsize=(40, 40))\n",
    "        for i, sector in enumerate(other_sectors):\n",
    "            row = i // 2\n",
    "            col = i % 2\n",
    "            doinfo_one_sector = np.load(\n",
    "                f\"./results/economic_results/full/do_info/doinfo_one_sector_{target1}_tw_{tw}.npy\"\n",
    "            )\n",
    "            doinfo_three_sectors = np.load(\n",
    "                f\"./results/economic_results/full/do_info/doinfo_three_sectors_{target1}_{target2}_{sector}_tw_{tw}.npy\"\n",
    "            )\n",
    "            parts = axs[row, col].violinplot(doinfo_one_sector, showextrema=False)\n",
    "            for pc in parts[\"bodies\"]:\n",
    "                pc.set_facecolor(\"tab:blue\")\n",
    "                pc.set_edgecolor(\"black\")\n",
    "                pc.set_alpha(0.5)\n",
    "            parts = axs[row, col].violinplot(doinfo_three_sectors, showextrema=False)\n",
    "            for pc in parts[\"bodies\"]:\n",
    "                pc.set_facecolor(\"tab:orange\")\n",
    "                pc.set_edgecolor(\"black\")\n",
    "                pc.set_alpha(0.5)\n",
    "            title = str(target1 + \" - \" + target2 + \" - \" + sector)\n",
    "            axs[row, col].set_title(title, size=40)\n",
    "            axs[row, col].set_ylabel(r\"$d\\Omega_3^{tot.}$\", size=45)\n",
    "            axs[row, col].tick_params(axis=\"both\", labelsize=25)\n",
    "            label1 = str(\"3 in \" + target1)\n",
    "            label2 = str(\"1 in \" + target1 + \", 1 in \" + target2 + \", 1 in \" + sector)\n",
    "            axs[row, col].legend(\n",
    "                handles=[\n",
    "                    mpatches.Patch(color=\"tab:blue\", label=label1, alpha=0.5),\n",
    "                    mpatches.Patch(color=\"tab:orange\", label=label2, alpha=0.5),\n",
    "                ],\n",
    "                fontsize=25,\n",
    "            )\n",
    "\n",
    "        plt.savefig(\n",
    "            f\"./results/economic_results/full/images/three_sectors/doinfo_three_sectors_{target1}_{target2}_tw_{tw}.pdf\",\n",
    "            dpi=600,\n",
    "            bbox_inches=\"tight\",\n",
    "        )"
   ]
  },
  {
   "cell_type": "markdown",
   "metadata": {},
   "source": [
    "<a name=\"half_length\"></a>\n",
    "## Half length"
   ]
  },
  {
   "cell_type": "markdown",
   "metadata": {},
   "source": [
    "I only take half time series, to see if the differences between the distributions decrease."
   ]
  },
  {
   "cell_type": "code",
   "execution_count": null,
   "metadata": {},
   "outputs": [],
   "source": [
    "half_length = int(len(binarized_financial_ts) / 2)\n",
    "binarized_financial_ts_half = binarized_financial_ts[:half_length]\n",
    "binarized_financial_ts_half"
   ]
  },
  {
   "cell_type": "markdown",
   "metadata": {},
   "source": [
    "<a name=\"thomas_work_half\"></a>\n",
    "### Thomas' work"
   ]
  },
  {
   "cell_type": "code",
   "execution_count": null,
   "metadata": {
    "scrolled": true
   },
   "outputs": [],
   "source": [
    "# DO NOT RUN IF YOU ALREADY HAVE THE DATA\n",
    "\n",
    "for i in range(len(sectors)):\n",
    "    doinfo_same_sector, doinfo_different_sector = get_do_infos(\n",
    "        sectors[i], binarized_financial_ts_half\n",
    "    )\n",
    "\n",
    "    np.save(\n",
    "        f\"./results/economic_results/half/do_info/doinfo_same_sector_{sectors[i]}_tw_{tw}.npy\",\n",
    "        doinfo_same_sector,\n",
    "    )\n",
    "\n",
    "    np.save(\n",
    "        f\"./results/economic_results/half/do_info/doinfo_different_sector_{sectors[i]}_tw_{tw}.npy\",\n",
    "        doinfo_different_sector,\n",
    "    )"
   ]
  },
  {
   "cell_type": "code",
   "execution_count": null,
   "metadata": {},
   "outputs": [],
   "source": [
    "# DO NOT RUN IF YOU ALREADY HAVE THE VIOLIN PLOT\n",
    "\n",
    "fig, axs = plt.subplots(3, 3, figsize=(40, 40))\n",
    "for i in range(len(sectors)):\n",
    "    row = i // 3\n",
    "    col = i % 3\n",
    "    doinfo_same_sector = np.load(\n",
    "        f\"./results/economic_results/half/do_info/doinfo_same_sector_{sectors[i]}_tw_{tw}.npy\"\n",
    "    )\n",
    "    doinfo_different_sector = np.load(\n",
    "        f\"./results/economic_results/half/do_info/doinfo_different_sector_{sectors[i]}_tw_{tw}.npy\"\n",
    "    )\n",
    "    parts = axs[row, col].violinplot(doinfo_same_sector, showextrema=False)\n",
    "    for pc in parts[\"bodies\"]:\n",
    "        pc.set_facecolor(\"tab:blue\")\n",
    "        pc.set_edgecolor(\"black\")\n",
    "        pc.set_alpha(0.5)\n",
    "    parts = axs[row, col].violinplot(doinfo_different_sector, showextrema=False)\n",
    "    for pc in parts[\"bodies\"]:\n",
    "        pc.set_facecolor(\"tab:orange\")\n",
    "        pc.set_edgecolor(\"black\")\n",
    "        pc.set_alpha(0.5)\n",
    "    axs[row, col].set_title(sectors[i], size=35)\n",
    "    axs[row, col].set_ylabel(r\"$d\\Omega_3^{tot.}$\", size=37)\n",
    "    axs[row, col].tick_params(axis=\"both\", labelsize=18)\n",
    "    axs[row, col].legend(\n",
    "        handles=[\n",
    "            mpatches.Patch(color=\"tab:blue\", label=\"Same sector\", alpha=0.4),\n",
    "            mpatches.Patch(color=\"tab:orange\", label=\"Different sector\", alpha=0.4),\n",
    "        ],\n",
    "        fontsize=30,\n",
    "    )\n",
    "\n",
    "\n",
    "plt.savefig(\n",
    "    f\"./results/economic_results/half/images/doinfo_random_sectors_tw_{tw}.pdf\",\n",
    "    dpi=600,\n",
    "    bbox_inches=\"tight\",\n",
    ")"
   ]
  },
  {
   "cell_type": "markdown",
   "metadata": {},
   "source": [
    "<a name=\"3_vs_1-2_half\"></a>\n",
    "### 3 vs 1-2\n",
    "\n",
    "!!!! Run the initial part of the full 3 vs 1-2 first, so as to eliminate the stocks relating to technology"
   ]
  },
  {
   "cell_type": "code",
   "execution_count": null,
   "metadata": {
    "scrolled": true
   },
   "outputs": [],
   "source": [
    "# DO NOT RUN IF YOU ALREADY HAVE THE DATA\n",
    "\n",
    "for target in sectors:\n",
    "    other_sectors = [sector for sector in sectors if sector != target]\n",
    "    for i, sector in enumerate(other_sectors):\n",
    "\n",
    "        if i == 0:\n",
    "            doinfo_one_sector = get_do_infos_same(target, binarized_financial_ts_half)\n",
    "            np.save(\n",
    "                f\"./results/economic_results/half/do_info/doinfo_one_sector_{target}_tw_{tw}.npy\",\n",
    "                doinfo_one_sector,\n",
    "            )\n",
    "\n",
    "        doinfo_two_sectors = get_do_infos_two_different(\n",
    "            target, sector, binarized_financial_ts_half\n",
    "        )\n",
    "        np.save(\n",
    "            f\"./results/economic_results/half/do_info/doinfo_two_sectors_{target}_{sector}_tw_{tw}.npy\",\n",
    "            doinfo_two_sectors,\n",
    "        )"
   ]
  },
  {
   "cell_type": "code",
   "execution_count": null,
   "metadata": {},
   "outputs": [],
   "source": [
    "# DO NOT RUN IF YOU ALREADY HAVE THE VIOLIN PLOTS\n",
    "\n",
    "for target in sectors:\n",
    "    other_sectors = [sector for sector in sectors if sector != target]\n",
    "    fig, axs = plt.subplots(3, 3, figsize=(40, 40))\n",
    "    for i, sector in enumerate(other_sectors):\n",
    "        row = i // 3\n",
    "        col = i % 3\n",
    "        doinfo_one_sector = np.load(\n",
    "            f\"./results/economic_results/half/do_info/doinfo_one_sector_{target}_tw_{tw}.npy\"\n",
    "        )\n",
    "        doinfo_two_sectors = np.load(\n",
    "            f\"./results/economic_results/half/do_info/doinfo_two_sectors_{target}_{sector}_tw_{tw}.npy\"\n",
    "        )\n",
    "        parts = axs[row, col].violinplot(doinfo_one_sector, showextrema=False)\n",
    "        for pc in parts[\"bodies\"]:\n",
    "            pc.set_facecolor(\"tab:blue\")\n",
    "            pc.set_edgecolor(\"black\")\n",
    "            pc.set_alpha(0.5)\n",
    "        parts = axs[row, col].violinplot(doinfo_two_sectors, showextrema=False)\n",
    "        for pc in parts[\"bodies\"]:\n",
    "            pc.set_facecolor(\"tab:orange\")\n",
    "            pc.set_edgecolor(\"black\")\n",
    "            pc.set_alpha(0.5)\n",
    "        title = str(target + \" - \" + sector)\n",
    "        axs[row, col].set_title(title, size=35)\n",
    "        axs[row, col].set_ylabel(r\"$d\\Omega_3^{tot.}$\", size=40)\n",
    "        axs[row, col].tick_params(axis=\"both\", labelsize=18)\n",
    "        label1 = str(\"3 in \" + target)\n",
    "        label2 = str(\"1 in \" + target + \", 2 in \" + sector)\n",
    "        axs[row, col].legend(\n",
    "            handles=[\n",
    "                mpatches.Patch(color=\"tab:blue\", label=label1, alpha=0.4),\n",
    "                mpatches.Patch(color=\"tab:orange\", label=label2, alpha=0.4),\n",
    "            ],\n",
    "            fontsize=25,\n",
    "        )\n",
    "\n",
    "    plt.savefig(\n",
    "        f\"./results/economic_results/half/images/two_sectors/doinfo_two_sectors_{target}_tw_{tw}.pdf\",\n",
    "        dpi=600,\n",
    "        bbox_inches=\"tight\",\n",
    "    )"
   ]
  },
  {
   "cell_type": "markdown",
   "metadata": {},
   "source": [
    "<a name=\"J-S_divergence_half\"></a>\n",
    "#### J-S divergence"
   ]
  },
  {
   "cell_type": "code",
   "execution_count": null,
   "metadata": {},
   "outputs": [],
   "source": [
    "# The row index indicates the target sector, the column index the other sector\n",
    "df_half = pd.DataFrame(\n",
    "    columns=[\n",
    "        \"Industrials\",\n",
    "        \"Basic Materials\",\n",
    "        \"Financials\",\n",
    "        \"Consumer Services\",\n",
    "        \"Health Care\",\n",
    "        \"Utilities\",\n",
    "        \"Oil & Gas\",\n",
    "        \"Consumer Goods\",\n",
    "    ]\n",
    ")"
   ]
  },
  {
   "cell_type": "code",
   "execution_count": null,
   "metadata": {},
   "outputs": [],
   "source": [
    "# DO NOT RUN IF YOU ALREADY HAVE THE DATAFRAME\n",
    "\n",
    "for target in sectors:\n",
    "    other_sectors = [sector for sector in sectors if sector != target]\n",
    "\n",
    "    for i, sector in enumerate(other_sectors):\n",
    "        doinfo_one_sector = np.load(\n",
    "            f\"./results/economic_results/half/do_info/doinfo_one_sector_{target}_tw_{tw}.npy\"\n",
    "        )\n",
    "        doinfo_two_sectors = np.load(\n",
    "            f\"./results/economic_results/half/do_info/doinfo_two_sectors_{target}_{sector}_tw_{tw}.npy\"\n",
    "        )\n",
    "\n",
    "        df_half.at[target, sector] = JS_div(doinfo_one_sector, doinfo_two_sectors)"
   ]
  },
  {
   "cell_type": "code",
   "execution_count": null,
   "metadata": {},
   "outputs": [],
   "source": [
    "# DO NOT RUN IF YOU ALREADY HAVE THE DATAFRAME\n",
    "\n",
    "df_half.to_csv(\"./results/economic_results/half/result_full.csv\", index=True)\n",
    "df_half"
   ]
  },
  {
   "cell_type": "markdown",
   "metadata": {},
   "source": [
    "<a name=\"3_vs_1-1-1_half\"></a>\n",
    "### 3 vs 1-1-1"
   ]
  },
  {
   "cell_type": "code",
   "execution_count": null,
   "metadata": {},
   "outputs": [],
   "source": [
    "# DO NOT RUN IF YOU ALREADY HAVE THE DATA\n",
    "\n",
    "for target in sectors:\n",
    "    other_sectors = [sector for sector in sectors if sector != target]\n",
    "\n",
    "    for i, sector1 in enumerate(other_sectors):\n",
    "        other_sectors2 = [sector for sector in other_sectors if sector != sector1]\n",
    "        for j, sector2 in enumerate(other_sectors2):\n",
    "\n",
    "            doinfo_three_sectors = get_do_infos_three_different(\n",
    "                target, sector1, sector2, binarized_financial_ts_half\n",
    "            )\n",
    "            np.save(\n",
    "                f\"./results/economic_results/half/do_info/doinfo_three_sectors_{target}_{sector1}_{sector2}_tw_{tw}.npy\",\n",
    "                doinfo_three_sectors,\n",
    "            )"
   ]
  },
  {
   "cell_type": "code",
   "execution_count": null,
   "metadata": {},
   "outputs": [],
   "source": [
    "# DO NOT RUN IF YOU ALREADY HAVE THE VIOLIN PLOTS\n",
    "\n",
    "for target1 in sectors:\n",
    "    for target2 in [sector for sector in sectors if sector != target1]:\n",
    "        other_sectors = [\n",
    "            sector for sector in sectors if sector != target1 and sector != target2\n",
    "        ]\n",
    "\n",
    "        fig, axs = plt.subplots(3, 2, figsize=(40, 40))\n",
    "        for i, sector in enumerate(other_sectors):\n",
    "            row = i // 2\n",
    "            col = i % 2\n",
    "            doinfo_one_sector = np.load(\n",
    "                f\"./results/economic_results/half/do_info/doinfo_one_sector_{target1}_tw_{tw}.npy\"\n",
    "            )\n",
    "            doinfo_three_sectors = np.load(\n",
    "                f\"./results/economic_results/half/do_info/doinfo_three_sectors_{target1}_{target2}_{sector}_tw_{tw}.npy\"\n",
    "            )\n",
    "            parts = axs[row, col].violinplot(doinfo_one_sector, showextrema=False)\n",
    "            for pc in parts[\"bodies\"]:\n",
    "                pc.set_facecolor(\"tab:blue\")\n",
    "                pc.set_edgecolor(\"black\")\n",
    "                pc.set_alpha(0.5)\n",
    "            parts = axs[row, col].violinplot(doinfo_three_sectors, showextrema=False)\n",
    "            for pc in parts[\"bodies\"]:\n",
    "                pc.set_facecolor(\"tab:orange\")\n",
    "                pc.set_edgecolor(\"black\")\n",
    "                pc.set_alpha(0.5)\n",
    "            title = str(target1 + \" - \" + target2 + \" - \" + sector)\n",
    "            axs[row, col].set_title(title, size=40)\n",
    "            axs[row, col].set_ylabel(r\"$d\\Omega_3^{tot.}$\", size=45)\n",
    "            axs[row, col].tick_params(axis=\"both\", labelsize=25)\n",
    "            label1 = str(\"3 in \" + target1)\n",
    "            label2 = str(\"1 in \" + target1 + \", 1 in \" + target2 + \", 1 in \" + sector)\n",
    "            axs[row, col].legend(\n",
    "                handles=[\n",
    "                    mpatches.Patch(color=\"tab:blue\", label=label1, alpha=0.5),\n",
    "                    mpatches.Patch(color=\"tab:orange\", label=label2, alpha=0.5),\n",
    "                ],\n",
    "                fontsize=25,\n",
    "            )\n",
    "\n",
    "        plt.savefig(\n",
    "            f\"./results/economic_results/half/images/three_sectors/doinfo_three_sectors_{target1}_{target2}_tw_{tw}.pdf\",\n",
    "            dpi=600,\n",
    "            bbox_inches=\"tight\",\n",
    "        )"
   ]
  },
  {
   "cell_type": "markdown",
   "metadata": {},
   "source": [
    "<a name=\"comparison_lengths\"></a>\n",
    "## Comparison different lengths"
   ]
  },
  {
   "cell_type": "markdown",
   "metadata": {},
   "source": [
    "<a name=\"comparison_f_h\"></a>\n",
    "### Comparison full-half"
   ]
  },
  {
   "cell_type": "markdown",
   "metadata": {},
   "source": [
    "In this section I compare the results obtained considering the entire length with those obtained considering only half of it. In each plot a target is considered; on the y-axis there is the JS-divergence (for full length) between the distributions in which the triplet is all in the target and in which one point is in the target and the other two in another sector. On the x axis there is the similar quantity but for half the length."
   ]
  },
  {
   "cell_type": "code",
   "execution_count": null,
   "metadata": {},
   "outputs": [],
   "source": [
    "df_full = pd.read_csv(\"./results/economic_results/full/result_full.csv\", index_col=0)\n",
    "df_half = pd.read_csv(\"./results/economic_results/half/result_full.csv\", index_col=0)"
   ]
  },
  {
   "cell_type": "code",
   "execution_count": null,
   "metadata": {},
   "outputs": [],
   "source": [
    "df_full"
   ]
  },
  {
   "cell_type": "code",
   "execution_count": null,
   "metadata": {},
   "outputs": [],
   "source": [
    "df_half"
   ]
  },
  {
   "cell_type": "code",
   "execution_count": null,
   "metadata": {},
   "outputs": [],
   "source": [
    "name_rows = df_full.index.tolist()\n",
    "name_columns = df_full.columns.tolist()"
   ]
  },
  {
   "cell_type": "code",
   "execution_count": null,
   "metadata": {},
   "outputs": [],
   "source": [
    "# DO NOT RUN IF YOU ALREADY HAVE THE SCATTER PLOTS\n",
    "\n",
    "for row in name_rows:\n",
    "    columns = [column for column in name_columns if column != row]\n",
    "\n",
    "    x = [df_half.loc[row, column] for column in columns]\n",
    "    y = [df_full.loc[row, column] for column in columns]\n",
    "    \n",
    "    x_values = np.linspace(min(x), max(x), 100)\n",
    "    plt.plot(x_values, x_values, color=\"red\", linewidth=1.5)\n",
    "\n",
    "    plt.scatter(x, y)\n",
    "    plt.xlabel(\"JS-div half length\")\n",
    "    plt.ylabel(\"JS-div full length\")\n",
    "    plt.title(f\"Plot for target = {row}\")\n",
    "    plt.savefig(\n",
    "        f\"./results/economic_results/comparison/images/JS_div_two_sectors_target_{row}.pdf\",\n",
    "        dpi=600,\n",
    "        bbox_inches=\"tight\",\n",
    "    )\n",
    "    plt.show()"
   ]
  },
  {
   "cell_type": "code",
   "execution_count": null,
   "metadata": {},
   "outputs": [],
   "source": [
    "above_bisector = []\n",
    "below_bisector = []\n",
    "\n",
    "for row in name_rows:\n",
    "    above_count = 0\n",
    "    columns = [column for column in name_columns if column != row]\n",
    "\n",
    "    x = [df_half.loc[row, column] for column in columns]\n",
    "    y = [df_full.loc[row, column] for column in columns]\n",
    "    \n",
    "    for i in range(len(x)):\n",
    "        if x[i] < y[i]:\n",
    "            above_count += 1\n",
    "            \n",
    "    above_bisector.append(above_count)\n",
    "    below_bisector.append(len(x) - above_count)\n",
    "    \n",
    "\n",
    "df_comparison = pd.DataFrame(\n",
    "    [above_bisector, below_bisector], index=[\"+\", \"-\"], columns=name_columns\n",
    ")\n",
    "\n",
    "df_comparison"
   ]
  },
  {
   "cell_type": "markdown",
   "metadata": {},
   "source": [
    "<a name=\"creation_dataset\"></a>\n",
    "### Creation dataset"
   ]
  },
  {
   "cell_type": "markdown",
   "metadata": {},
   "source": [
    "I consider the performance of the JS-div as the length of the TS varies."
   ]
  },
  {
   "cell_type": "markdown",
   "metadata": {},
   "source": [
    "Full length"
   ]
  },
  {
   "cell_type": "code",
   "execution_count": null,
   "metadata": {},
   "outputs": [],
   "source": [
    "# DO NOT RUN IF YOU ALREADY HAVE THE DATA\n",
    "\n",
    "length = len(binarized_financial_ts)\n",
    "\n",
    "for target in sectors:\n",
    "    other_sectors = [sector for sector in sectors if sector != target]\n",
    "\n",
    "    for i, sector in enumerate(other_sectors):\n",
    "        doinfo_one_sector = np.load(\n",
    "            f\"./results/economic_results/full/do_info/doinfo_one_sector_{target}_tw_{tw}.npy\"\n",
    "        )\n",
    "        np.save(\n",
    "            f\"./results/economic_results/comparison/do_info/one_sector_{target}_length_{length}.npy\",\n",
    "            doinfo_one_sector,\n",
    "        )\n",
    "\n",
    "        doinfo_two_sectors = np.load(\n",
    "            f\"./results/economic_results/full/do_info/doinfo_two_sectors_{target}_{sector}_tw_{tw}.npy\"\n",
    "        )\n",
    "        np.save(\n",
    "            f\"./results/economic_results/comparison/do_info/two_sectors_{target}_{sector}_length_{length}.npy\",\n",
    "            doinfo_two_sectors,\n",
    "        )"
   ]
  },
  {
   "cell_type": "markdown",
   "metadata": {},
   "source": [
    "Half length"
   ]
  },
  {
   "cell_type": "code",
   "execution_count": null,
   "metadata": {},
   "outputs": [],
   "source": [
    "# DO NOT RUN IF YOU ALREADY HAVE THE DATA\n",
    "\n",
    "length = int(len(binarized_financial_ts) / 2)\n",
    "\n",
    "for target in sectors:\n",
    "    other_sectors = [sector for sector in sectors if sector != target]\n",
    "\n",
    "    for i, sector in enumerate(other_sectors):\n",
    "        doinfo_one_sector = np.load(\n",
    "            f\"./results/economic_results/half/do_info/doinfo_one_sector_{target}_tw_{tw}.npy\"\n",
    "        )\n",
    "        np.save(\n",
    "            f\"./results/economic_results/comparison/do_info/one_sector_{target}_length_{length}.npy\",\n",
    "            doinfo_one_sector,\n",
    "        )\n",
    "\n",
    "        doinfo_two_sectors = np.load(\n",
    "            f\"./results/economic_results/half/do_info/doinfo_two_sectors_{target}_{sector}_tw_{tw}.npy\"\n",
    "        )\n",
    "        np.save(\n",
    "            f\"./results/economic_results/comparison/do_info/two_sectors_{target}_{sector}_length_{length}.npy\",\n",
    "            doinfo_two_sectors,\n",
    "        )"
   ]
  },
  {
   "cell_type": "markdown",
   "metadata": {},
   "source": [
    "Other lengths"
   ]
  },
  {
   "cell_type": "code",
   "execution_count": null,
   "metadata": {
    "scrolled": true
   },
   "outputs": [],
   "source": [
    "# DO NOT RUN IF YOU ALREADY HAVE THE DATA\n",
    "\n",
    "lengths = [540, 1080, 1620, 2160, 3240, 3780, 4320, 4860]\n",
    "\n",
    "for length in lengths:\n",
    "    for target in sectors:\n",
    "        other_sectors = [sector for sector in sectors if sector != target]\n",
    "        for i, sector in enumerate(other_sectors):\n",
    "\n",
    "            if i == 0:\n",
    "                doinfo_one_sector = get_do_infos_same(\n",
    "                    target, binarized_financial_ts[:length]\n",
    "                )\n",
    "                np.save(\n",
    "                    f\"./results/economic_results/comparison/do_info/one_sector_{target}_length_{length}.npy\",\n",
    "                    doinfo_one_sector,\n",
    "                )\n",
    "\n",
    "            doinfo_two_sectors = get_do_infos_two_different(\n",
    "                target, sector, binarized_financial_ts[:length]\n",
    "            )\n",
    "            np.save(\n",
    "                f\"./results/economic_results/comparison/do_info/two_sectors_{target}_{sector}_length_{length}.npy\",\n",
    "                doinfo_two_sectors,\n",
    "            )"
   ]
  },
  {
   "cell_type": "markdown",
   "metadata": {},
   "source": [
    "<a name=\"comparison_industrials\"></a>\n",
    "#### Comparison Industrials"
   ]
  },
  {
   "cell_type": "code",
   "execution_count": null,
   "metadata": {},
   "outputs": [],
   "source": [
    "df_industrials = pd.DataFrame(\n",
    "    columns=[\n",
    "        \"Basic Materials\",\n",
    "        \"Financials\",\n",
    "        \"Consumer Services\",\n",
    "        \"Health Care\",\n",
    "        \"Utilities\",\n",
    "        \"Oil & Gas\",\n",
    "        \"Consumer Goods\",\n",
    "    ]\n",
    ")"
   ]
  },
  {
   "cell_type": "code",
   "execution_count": null,
   "metadata": {},
   "outputs": [],
   "source": [
    "lengths = [\n",
    "    int(len(binarized_financial_ts) * i)\n",
    "    for i in np.linspace(0.1, 1, 10)\n",
    "]"
   ]
  },
  {
   "cell_type": "code",
   "execution_count": null,
   "metadata": {},
   "outputs": [],
   "source": [
    "# DO NOT RUN IF YOU ALREADY HAVE THE DATAFRAME\n",
    "\n",
    "for length in lengths:\n",
    "    for target in [\"Industrials\"]:\n",
    "        other_sectors = [sector for sector in sectors if sector != target]\n",
    "\n",
    "        for i, sector in enumerate(other_sectors):\n",
    "            doinfo_one_sector = np.load(\n",
    "                f\"./results/economic_results/comparison/do_info/one_sector_{target}_length_{length}.npy\"\n",
    "            )\n",
    "            doinfo_two_sectors = np.load(\n",
    "                f\"./results/economic_results/comparison/do_info/two_sectors_{target}_{sector}_length_{length}.npy\"\n",
    "            )\n",
    "\n",
    "            df_industrials.at[length, sector] = JS_div(doinfo_one_sector, doinfo_two_sectors)\n",
    "            \n",
    "df_industrials.to_csv(\"./results/economic_results/comparison/length_Industrials.csv\", index=True)"
   ]
  },
  {
   "cell_type": "code",
   "execution_count": null,
   "metadata": {},
   "outputs": [],
   "source": [
    "df_industrials = pd.read_csv(\"./results/economic_results/comparison/length_Industrials.csv\", index_col=0)\n",
    "df_industrials"
   ]
  },
  {
   "cell_type": "code",
   "execution_count": null,
   "metadata": {},
   "outputs": [],
   "source": [
    "# DO NOT RUN IF YOU ALREADY HAVE THE PLOT\n",
    "\n",
    "num_rows = len(df_industrials.columns)\n",
    "num_cols = 1\n",
    "\n",
    "fig, axs = plt.subplots(num_rows, num_cols, figsize=(10, 25))\n",
    "\n",
    "for i, column in enumerate(df_industrials.columns):\n",
    "    label = str(f\"{column}\")\n",
    "    axs[i].scatter(df_industrials.index, df_industrials[column], label=label)\n",
    "\n",
    "    axs[i].legend(fontsize=13)\n",
    "    axs[i].set_ylabel(\"JS-div\", fontsize=14)\n",
    "\n",
    "    if i == num_rows - 1:\n",
    "        axs[i].set_xlabel(\"Length\", fontsize=14)\n",
    "\n",
    "fig.suptitle(\"Industrials\", fontsize=22)\n",
    "plt.subplots_adjust(top=0.96)\n",
    "\n",
    "plt.savefig(\n",
    "    f\"./results/economic_results/comparison/images/JS_div_different_lengths_Industrials.pdf\",\n",
    "    dpi=600,\n",
    "    bbox_inches=\"tight\",\n",
    ")\n",
    "\n",
    "plt.show()"
   ]
  },
  {
   "cell_type": "markdown",
   "metadata": {},
   "source": [
    "<a name=\"comparison_basic_materials\"></a>\n",
    "#### Comparison Basic Materials"
   ]
  },
  {
   "cell_type": "code",
   "execution_count": null,
   "metadata": {},
   "outputs": [],
   "source": [
    "df__basic_materials = pd.DataFrame(\n",
    "    columns=[\n",
    "        \"Industrials\",\n",
    "        \"Financials\",\n",
    "        \"Consumer Services\",\n",
    "        \"Health Care\",\n",
    "        \"Utilities\",\n",
    "        \"Oil & Gas\",\n",
    "        \"Consumer Goods\",\n",
    "    ]\n",
    ")"
   ]
  },
  {
   "cell_type": "code",
   "execution_count": null,
   "metadata": {},
   "outputs": [],
   "source": [
    "# DO NOT RUN IF YOU ALREADY HAVE THE DATAFRAME\n",
    "\n",
    "for length in lengths:\n",
    "    for target in [\"Basic Materials\"]:\n",
    "        other_sectors = [sector for sector in sectors if sector != target]\n",
    "\n",
    "        for i, sector in enumerate(other_sectors):\n",
    "            doinfo_one_sector = np.load(\n",
    "                f\"./results/economic_results/comparison/do_info/one_sector_{target}_length_{length}.npy\"\n",
    "            )\n",
    "            doinfo_two_sectors = np.load(\n",
    "                f\"./results/economic_results/comparison/do_info/two_sectors_{target}_{sector}_length_{length}.npy\"\n",
    "            )\n",
    "\n",
    "            df__basic_materials.at[length, sector] = JS_div(doinfo_one_sector, doinfo_two_sectors)\n",
    "            \n",
    "df__basic_materials.to_csv(\"./results/economic_results/comparison/length_Basic_Materials.csv\", index=True)"
   ]
  },
  {
   "cell_type": "code",
   "execution_count": null,
   "metadata": {},
   "outputs": [],
   "source": [
    "df__basic_materials = pd.read_csv(\"./results/economic_results/comparison/length_Basic_Materials.csv\", index_col=0)\n",
    "df__basic_materials"
   ]
  },
  {
   "cell_type": "code",
   "execution_count": null,
   "metadata": {},
   "outputs": [],
   "source": [
    "# DO NOT RUN IF YOU ALREADY HAVE THE PLOT\n",
    "\n",
    "num_rows = len(df__basic_materials.columns)\n",
    "num_cols = 1\n",
    "\n",
    "fig, axs = plt.subplots(num_rows, num_cols, figsize=(10, 25))\n",
    "\n",
    "for i, column in enumerate(df__basic_materials.columns):\n",
    "    label = str(f\"{column}\")\n",
    "    axs[i].scatter(df__basic_materials.index, df__basic_materials[column], label=label)\n",
    "\n",
    "    axs[i].legend(fontsize=13)\n",
    "    axs[i].set_ylabel(\"JS-div\", fontsize=14)\n",
    "\n",
    "    if i == num_rows - 1:\n",
    "        axs[i].set_xlabel(\"Length\", fontsize=14)\n",
    "\n",
    "fig.suptitle(\"Basic Materials\", fontsize=22)\n",
    "plt.subplots_adjust(top=0.96)\n",
    "\n",
    "plt.savefig(\n",
    "    f\"./results/economic_results/comparison/images/JS_div_different_lengths_Basic_Materials.pdf\",\n",
    "    dpi=600,\n",
    "    bbox_inches=\"tight\",\n",
    ")\n",
    "\n",
    "plt.show()"
   ]
  },
  {
   "cell_type": "markdown",
   "metadata": {},
   "source": [
    "<a name=\"comparison_financials\"></a>\n",
    "#### Comparison Financials"
   ]
  },
  {
   "cell_type": "code",
   "execution_count": null,
   "metadata": {},
   "outputs": [],
   "source": [
    "df_financials = pd.DataFrame(\n",
    "    columns=[\n",
    "        \"Industrials\",\n",
    "        \"Basic Materials\",\n",
    "        \"Consumer Services\",\n",
    "        \"Health Care\",\n",
    "        \"Utilities\",\n",
    "        \"Oil & Gas\",\n",
    "        \"Consumer Goods\",\n",
    "    ]\n",
    ")"
   ]
  },
  {
   "cell_type": "code",
   "execution_count": null,
   "metadata": {},
   "outputs": [],
   "source": [
    "# DO NOT RUN IF YOU ALREADY HAVE THE DATAFRAME\n",
    "\n",
    "for length in lengths:\n",
    "    for target in [\"Financials\"]:\n",
    "        other_sectors = [sector for sector in sectors if sector != target]\n",
    "\n",
    "        for i, sector in enumerate(other_sectors):\n",
    "            doinfo_one_sector = np.load(\n",
    "                f\"./results/economic_results/comparison/do_info/one_sector_{target}_length_{length}.npy\"\n",
    "            )\n",
    "            doinfo_two_sectors = np.load(\n",
    "                f\"./results/economic_results/comparison/do_info/two_sectors_{target}_{sector}_length_{length}.npy\"\n",
    "            )\n",
    "\n",
    "            df_financials.at[length, sector] = JS_div(doinfo_one_sector, doinfo_two_sectors)\n",
    "\n",
    "df_financials.to_csv(\"./results/economic_results/comparison/length_Financial.csv\", index=True)"
   ]
  },
  {
   "cell_type": "code",
   "execution_count": null,
   "metadata": {
    "scrolled": false
   },
   "outputs": [],
   "source": [
    "df_financials = pd.read_csv(\"./results/economic_results/comparison/length_Financial.csv\", index_col=0)\n",
    "df_financials"
   ]
  },
  {
   "cell_type": "code",
   "execution_count": null,
   "metadata": {
    "scrolled": true
   },
   "outputs": [],
   "source": [
    "# DO NOT RUN IF YOU ALREADY HAVE THE PLOT\n",
    "\n",
    "num_rows = len(df_financials.columns)\n",
    "num_cols = 1\n",
    "\n",
    "fig, axs = plt.subplots(num_rows, num_cols, figsize=(10, 25))\n",
    "\n",
    "for i, column in enumerate(df_financials.columns):\n",
    "    label = str(f\"{column}\")\n",
    "    axs[i].scatter(df_financials.index, df_financials[column], label=label)\n",
    "\n",
    "    axs[i].legend(fontsize=13)\n",
    "    axs[i].set_ylabel(\"JS-div\", fontsize=14)\n",
    "\n",
    "    if i == num_rows - 1:\n",
    "        axs[i].set_xlabel(\"Length\", fontsize=14)\n",
    "\n",
    "fig.suptitle(\"Financials\", fontsize=22)\n",
    "plt.subplots_adjust(top=0.96)\n",
    "\n",
    "plt.savefig(\n",
    "    f\"./results/economic_results/comparison/images/JS_div_different_lengths_Financials.pdf\",\n",
    "    dpi=600,\n",
    "    bbox_inches=\"tight\",\n",
    ")\n",
    "\n",
    "plt.show()"
   ]
  },
  {
   "cell_type": "markdown",
   "metadata": {},
   "source": [
    "<a name=\"comparison_consumer_services\"></a>\n",
    "#### Comparison Consumer Services"
   ]
  },
  {
   "cell_type": "code",
   "execution_count": null,
   "metadata": {},
   "outputs": [],
   "source": [
    "df_consumer_services = pd.DataFrame(\n",
    "    columns=[\n",
    "        \"Industrials\",\n",
    "        \"Basic Materials\",\n",
    "        \"Financials\",\n",
    "        \"Health Care\",\n",
    "        \"Utilities\",\n",
    "        \"Oil & Gas\",\n",
    "        \"Consumer Goods\",\n",
    "    ]\n",
    ")"
   ]
  },
  {
   "cell_type": "code",
   "execution_count": null,
   "metadata": {},
   "outputs": [],
   "source": [
    "# DO NOT RUN IF YOU ALREADY HAVE THE DATAFRAME\n",
    "\n",
    "for length in lengths:\n",
    "    for target in [\"Consumer Services\"]:\n",
    "        other_sectors = [sector for sector in sectors if sector != target]\n",
    "\n",
    "        for i, sector in enumerate(other_sectors):\n",
    "            doinfo_one_sector = np.load(\n",
    "                f\"./results/economic_results/comparison/do_info/one_sector_{target}_length_{length}.npy\"\n",
    "            )\n",
    "            doinfo_two_sectors = np.load(\n",
    "                f\"./results/economic_results/comparison/do_info/two_sectors_{target}_{sector}_length_{length}.npy\"\n",
    "            )\n",
    "\n",
    "            df_consumer_services.at[length, sector] = JS_div(doinfo_one_sector, doinfo_two_sectors)\n",
    "            \n",
    "df_consumer_services.to_csv(\"./results/economic_results/comparison/length_Consumer_Services.csv\", index=True)"
   ]
  },
  {
   "cell_type": "code",
   "execution_count": null,
   "metadata": {},
   "outputs": [],
   "source": [
    "df_consumer_services = pd.read_csv(\"./results/economic_results/comparison/length_Consumer_Services.csv\", index_col=0)\n",
    "df_consumer_services"
   ]
  },
  {
   "cell_type": "code",
   "execution_count": null,
   "metadata": {},
   "outputs": [],
   "source": [
    "# DO NOT RUN IF YOU ALREADY HAVE THE PLOT\n",
    "\n",
    "num_rows = len(df_consumer_services.columns)\n",
    "num_cols = 1\n",
    "\n",
    "fig, axs = plt.subplots(num_rows, num_cols, figsize=(10, 25))\n",
    "\n",
    "for i, column in enumerate(df_consumer_services.columns):\n",
    "    label = str(f\"{column}\")\n",
    "    axs[i].scatter(df_consumer_services.index, df_consumer_services[column], label=label)\n",
    "\n",
    "    axs[i].legend(fontsize=13)\n",
    "    axs[i].set_ylabel(\"JS-div\", fontsize=14)\n",
    "\n",
    "    if i == num_rows - 1:\n",
    "        axs[i].set_xlabel(\"Length\", fontsize=14)\n",
    "\n",
    "fig.suptitle(\"Consumer Services\", fontsize=22)\n",
    "plt.subplots_adjust(top=0.96)\n",
    "\n",
    "plt.savefig(\n",
    "    f\"./results/economic_results/comparison/images/JS_div_different_lengths_Consumer_Services.pdf\",\n",
    "    dpi=600,\n",
    "    bbox_inches=\"tight\",\n",
    ")\n",
    "\n",
    "plt.show()"
   ]
  },
  {
   "cell_type": "markdown",
   "metadata": {},
   "source": [
    "<a name=\"comparison_health_care\"></a>\n",
    "#### Comparison Health Care"
   ]
  },
  {
   "cell_type": "code",
   "execution_count": null,
   "metadata": {},
   "outputs": [],
   "source": [
    "df_health_care = pd.DataFrame(\n",
    "    columns=[\n",
    "        \"Industrials\",\n",
    "        \"Basic Materials\",\n",
    "        \"Financials\",\n",
    "        \"Consumer Services\",\n",
    "        \"Utilities\",\n",
    "        \"Oil & Gas\",\n",
    "        \"Consumer Goods\",\n",
    "    ]\n",
    ")"
   ]
  },
  {
   "cell_type": "code",
   "execution_count": null,
   "metadata": {},
   "outputs": [],
   "source": [
    "# DO NOT RUN IF YOU ALREADY HAVE THE DATAFRAME\n",
    "\n",
    "for length in lengths:\n",
    "    for target in [\"Health Care\"]:\n",
    "        other_sectors = [sector for sector in sectors if sector != target]\n",
    "\n",
    "        for i, sector in enumerate(other_sectors):\n",
    "            doinfo_one_sector = np.load(\n",
    "                f\"./results/economic_results/comparison/do_info/one_sector_{target}_length_{length}.npy\"\n",
    "            )\n",
    "            doinfo_two_sectors = np.load(\n",
    "                f\"./results/economic_results/comparison/do_info/two_sectors_{target}_{sector}_length_{length}.npy\"\n",
    "            )\n",
    "\n",
    "            df_health_care.at[length, sector] = JS_div(doinfo_one_sector, doinfo_two_sectors)\n",
    "            \n",
    "df_health_care.to_csv(\"./results/economic_results/comparison/length_Health_Care.csv\", index=True)"
   ]
  },
  {
   "cell_type": "code",
   "execution_count": null,
   "metadata": {},
   "outputs": [],
   "source": [
    "df_health_care = pd.read_csv(\"./results/economic_results/comparison/length_Health_Care.csv\", index_col=0)\n",
    "df_health_care"
   ]
  },
  {
   "cell_type": "code",
   "execution_count": null,
   "metadata": {},
   "outputs": [],
   "source": [
    "# DO NOT RUN IF YOU ALREADY HAVE THE PLOT\n",
    "\n",
    "num_rows = len(df_health_care.columns)\n",
    "num_cols = 1\n",
    "\n",
    "fig, axs = plt.subplots(num_rows, num_cols, figsize=(10, 25))\n",
    "\n",
    "for i, column in enumerate(df_health_care.columns):\n",
    "    label = str(f\"{column}\")\n",
    "    axs[i].scatter(df_health_care.index, df_health_care[column], label=label)\n",
    "\n",
    "    axs[i].legend(fontsize=13)\n",
    "    axs[i].set_ylabel(\"JS-div\", fontsize=14)\n",
    "\n",
    "    if i == num_rows - 1:\n",
    "        axs[i].set_xlabel(\"Length\", fontsize=14)\n",
    "\n",
    "fig.suptitle(\"Health Care\", fontsize=22)\n",
    "plt.subplots_adjust(top=0.96)\n",
    "\n",
    "plt.savefig(\n",
    "    f\"./results/economic_results/comparison/images/JS_div_different_lengths_Health_Care.pdf\",\n",
    "    dpi=600,\n",
    "    bbox_inches=\"tight\",\n",
    ")\n",
    "\n",
    "plt.show()"
   ]
  },
  {
   "cell_type": "markdown",
   "metadata": {},
   "source": [
    "<a name=\"comparison_utilities\"></a>\n",
    "#### Comparison Utilities"
   ]
  },
  {
   "cell_type": "code",
   "execution_count": null,
   "metadata": {},
   "outputs": [],
   "source": [
    "df_utilities = pd.DataFrame(\n",
    "    columns=[\n",
    "        \"Industrials\",\n",
    "        \"Basic Materials\",\n",
    "        \"Financials\",\n",
    "        \"Consumer Services\",\n",
    "        \"Health Care\",\n",
    "        \"Oil & Gas\",\n",
    "        \"Consumer Goods\",\n",
    "    ]\n",
    ")"
   ]
  },
  {
   "cell_type": "code",
   "execution_count": null,
   "metadata": {},
   "outputs": [],
   "source": [
    "# DO NOT RUN IF YOU ALREADY HAVE THE DATAFRAME\n",
    "\n",
    "for length in lengths:\n",
    "    for target in [\"Utilities\"]:\n",
    "        other_sectors = [sector for sector in sectors if sector != target]\n",
    "\n",
    "        for i, sector in enumerate(other_sectors):\n",
    "            doinfo_one_sector = np.load(\n",
    "                f\"./results/economic_results/comparison/do_info/one_sector_{target}_length_{length}.npy\"\n",
    "            )\n",
    "            doinfo_two_sectors = np.load(\n",
    "                f\"./results/economic_results/comparison/do_info/two_sectors_{target}_{sector}_length_{length}.npy\"\n",
    "            )\n",
    "\n",
    "            df_utilities.at[length, sector] = JS_div(doinfo_one_sector, doinfo_two_sectors)\n",
    "            \n",
    "df_utilities.to_csv(\"./results/economic_results/comparison/length_Utilities.csv\", index=True)"
   ]
  },
  {
   "cell_type": "code",
   "execution_count": null,
   "metadata": {},
   "outputs": [],
   "source": [
    "df_utilities = pd.read_csv(\"./results/economic_results/comparison/length_Utilities.csv\", index_col=0)\n",
    "df_utilities"
   ]
  },
  {
   "cell_type": "code",
   "execution_count": null,
   "metadata": {},
   "outputs": [],
   "source": [
    "# DO NOT RUN IF YOU ALREADY HAVE THE PLOT\n",
    "\n",
    "num_rows = len(df_utilities.columns)\n",
    "num_cols = 1\n",
    "\n",
    "fig, axs = plt.subplots(num_rows, num_cols, figsize=(10, 25))\n",
    "\n",
    "for i, column in enumerate(df_utilities.columns):\n",
    "    label = str(f\"{column}\")\n",
    "    axs[i].scatter(df_utilities.index, df_utilities[column], label=label)\n",
    "\n",
    "    axs[i].legend(fontsize=13)\n",
    "    axs[i].set_ylabel(\"JS-div\", fontsize=14)\n",
    "\n",
    "    if i == num_rows - 1:\n",
    "        axs[i].set_xlabel(\"Length\", fontsize=14)\n",
    "\n",
    "fig.suptitle(\"Utilities\", fontsize=22)\n",
    "plt.subplots_adjust(top=0.96)\n",
    "\n",
    "plt.savefig(\n",
    "    f\"./results/economic_results/comparison/images/JS_div_different_lengths_Utilities.pdf\",\n",
    "    dpi=600,\n",
    "    bbox_inches=\"tight\",\n",
    ")\n",
    "\n",
    "plt.show()"
   ]
  },
  {
   "cell_type": "markdown",
   "metadata": {},
   "source": [
    "<a name=\"comparison_oil_gas\"></a>\n",
    "#### Comparison Oil & Gas"
   ]
  },
  {
   "cell_type": "code",
   "execution_count": null,
   "metadata": {},
   "outputs": [],
   "source": [
    "df_oil_gas = pd.DataFrame(\n",
    "    columns=[\n",
    "        \"Industrials\",\n",
    "        \"Basic Materials\",\n",
    "        \"Financials\",\n",
    "        \"Consumer Services\",\n",
    "        \"Health Care\",\n",
    "        \"Utilities\",\n",
    "        \"Consumer Goods\",\n",
    "    ]\n",
    ")"
   ]
  },
  {
   "cell_type": "code",
   "execution_count": null,
   "metadata": {},
   "outputs": [],
   "source": [
    "# DO NOT RUN IF YOU ALREADY HAVE THE DATAFRAME\n",
    "\n",
    "for length in lengths:\n",
    "    for target in [\"Oil & Gas\"]:\n",
    "        other_sectors = [sector for sector in sectors if sector != target]\n",
    "\n",
    "        for i, sector in enumerate(other_sectors):\n",
    "            doinfo_one_sector = np.load(\n",
    "                f\"./results/economic_results/comparison/do_info/one_sector_{target}_length_{length}.npy\"\n",
    "            )\n",
    "            doinfo_two_sectors = np.load(\n",
    "                f\"./results/economic_results/comparison/do_info/two_sectors_{target}_{sector}_length_{length}.npy\"\n",
    "            )\n",
    "\n",
    "            df_oil_gas.at[length, sector] = JS_div(doinfo_one_sector, doinfo_two_sectors)\n",
    "            \n",
    "df_oil_gas.to_csv(\"./results/economic_results/comparison/length_Oil_Gas.csv\", index=True)"
   ]
  },
  {
   "cell_type": "code",
   "execution_count": null,
   "metadata": {},
   "outputs": [],
   "source": [
    "df_oil_gas = pd.read_csv(\"./results/economic_results/comparison/length_Oil_Gas.csv\", index_col=0)\n",
    "df_oil_gas"
   ]
  },
  {
   "cell_type": "code",
   "execution_count": null,
   "metadata": {},
   "outputs": [],
   "source": [
    "# DO NOT RUN IF YOU ALREADY HAVE THE PLOT\n",
    "\n",
    "num_rows = len(df_oil_gas.columns)\n",
    "num_cols = 1\n",
    "\n",
    "fig, axs = plt.subplots(num_rows, num_cols, figsize=(10, 25))\n",
    "\n",
    "for i, column in enumerate(df_oil_gas.columns):\n",
    "    label = str(f\"{column}\")\n",
    "    axs[i].scatter(df_oil_gas.index, df_oil_gas[column], label=label)\n",
    "\n",
    "    axs[i].legend(fontsize=13)\n",
    "    axs[i].set_ylabel(\"JS-div\", fontsize=14)\n",
    "\n",
    "    if i == num_rows - 1:\n",
    "        axs[i].set_xlabel(\"Length\", fontsize=14)\n",
    "\n",
    "fig.suptitle(\"Oil & Gas\", fontsize=22)\n",
    "plt.subplots_adjust(top=0.96)\n",
    "\n",
    "plt.savefig(\n",
    "    f\"./results/economic_results/comparison/images/JS_div_different_lengths_Oil_Gas.pdf\",\n",
    "    dpi=600,\n",
    "    bbox_inches=\"tight\",\n",
    ")\n",
    "\n",
    "plt.show()"
   ]
  },
  {
   "cell_type": "markdown",
   "metadata": {},
   "source": [
    "<a name=\"comparison_consumer_goods\"></a>\n",
    "#### Comparison Consumer Goods"
   ]
  },
  {
   "cell_type": "code",
   "execution_count": null,
   "metadata": {},
   "outputs": [],
   "source": [
    "df_consumer_goods = pd.DataFrame(\n",
    "    columns=[\n",
    "        \"Industrials\",\n",
    "        \"Basic Materials\",\n",
    "        \"Financials\",\n",
    "        \"Consumer Services\",\n",
    "        \"Health Care\",\n",
    "        \"Utilities\",\n",
    "        \"Oil & Gas\",\n",
    "    ]\n",
    ")"
   ]
  },
  {
   "cell_type": "code",
   "execution_count": null,
   "metadata": {},
   "outputs": [],
   "source": [
    "# DO NOT RUN IF YOU ALREADY HAVE THE DATAFRAME\n",
    "\n",
    "for length in lengths:\n",
    "    for target in [\"Consumer Goods\"]:\n",
    "        other_sectors = [sector for sector in sectors if sector != target]\n",
    "\n",
    "        for i, sector in enumerate(other_sectors):\n",
    "            doinfo_one_sector = np.load(\n",
    "                f\"./results/economic_results/comparison/do_info/one_sector_{target}_length_{length}.npy\"\n",
    "            )\n",
    "            doinfo_two_sectors = np.load(\n",
    "                f\"./results/economic_results/comparison/do_info/two_sectors_{target}_{sector}_length_{length}.npy\"\n",
    "            )\n",
    "\n",
    "            df_consumer_goods.at[length, sector] = JS_div(doinfo_one_sector, doinfo_two_sectors)\n",
    "            \n",
    "df_consumer_goods.to_csv(\"./results/economic_results/comparison/length_Consumer_Goods.csv\", index=True)"
   ]
  },
  {
   "cell_type": "code",
   "execution_count": null,
   "metadata": {},
   "outputs": [],
   "source": [
    "df_consumer_goods = pd.read_csv(\"./results/economic_results/comparison/length_Consumer_Goods.csv\", index_col=0)\n",
    "df_consumer_goods"
   ]
  },
  {
   "cell_type": "code",
   "execution_count": null,
   "metadata": {},
   "outputs": [],
   "source": [
    "# DO NOT RUN IF YOU ALREADY HAVE THE PLOT\n",
    "\n",
    "num_rows = len(df_consumer_goods.columns)\n",
    "num_cols = 1\n",
    "\n",
    "fig, axs = plt.subplots(num_rows, num_cols, figsize=(10, 25))\n",
    "\n",
    "for i, column in enumerate(df_consumer_goods.columns):\n",
    "    label = str(f\"{column}\")\n",
    "    axs[i].scatter(df_consumer_goods.index, df_consumer_goods[column], label=label)\n",
    "\n",
    "    axs[i].legend(fontsize=13)\n",
    "    axs[i].set_ylabel(\"JS-div\", fontsize=14)\n",
    "\n",
    "    if i == num_rows - 1:\n",
    "        axs[i].set_xlabel(\"Length\", fontsize=14)\n",
    "\n",
    "fig.suptitle(\"Consumer Goods\", fontsize=22)\n",
    "plt.subplots_adjust(top=0.96)\n",
    "\n",
    "plt.savefig(\n",
    "    f\"./results/economic_results/comparison/images/JS_div_different_lengths_Consumer_Goods.pdf\",\n",
    "    dpi=600,\n",
    "    bbox_inches=\"tight\",\n",
    ")\n",
    "\n",
    "plt.show()"
   ]
  },
  {
   "cell_type": "markdown",
   "metadata": {},
   "source": [
    "<a name=\"heatmaps\"></a>\n",
    "## Heatmaps"
   ]
  },
  {
   "cell_type": "markdown",
   "metadata": {},
   "source": [
    "<a name=\"matrix\"></a>\n",
    "### Matrix"
   ]
  },
  {
   "cell_type": "markdown",
   "metadata": {},
   "source": [
    "2 in the source and 1 in the target"
   ]
  },
  {
   "cell_type": "code",
   "execution_count": null,
   "metadata": {},
   "outputs": [],
   "source": [
    "df_matrix_all = pd.DataFrame(\n",
    "    columns=[\n",
    "        \"Industrials\",\n",
    "        \"Basic Materials\",\n",
    "        \"Financials\",\n",
    "        \"Consumer Services\",\n",
    "        \"Health Care\",\n",
    "        \"Utilities\",\n",
    "        \"Oil & Gas\",\n",
    "        \"Consumer Goods\",\n",
    "    ]\n",
    ")"
   ]
  },
  {
   "cell_type": "code",
   "execution_count": null,
   "metadata": {},
   "outputs": [],
   "source": [
    "# DO NOT RUN IF YOU ALREADY HAVE THE DATAFRAME\n",
    "\n",
    "for target in sectors:\n",
    "    for i, sector in enumerate(sectors):\n",
    "        if target == sector:\n",
    "            doinfo_one_sector = np.load(\n",
    "                f\"./results/economic_results/full/do_info/doinfo_one_sector_{target}_tw_{tw}.npy\"\n",
    "            )\n",
    "            df_matrix_all.at[target, sector] = np.mean(doinfo_one_sector)\n",
    "        else:\n",
    "            doinfo_two_sectors = np.load(\n",
    "                f\"./results/economic_results/full/do_info/doinfo_two_sectors_{target}_{sector}_tw_{tw}.npy\"\n",
    "            )\n",
    "            df_matrix_all.at[target, sector] = np.mean(doinfo_two_sectors)\n",
    "            \n",
    "\n",
    "            \n",
    "df_matrix_all.to_csv(\"./results/economic_results/comparison/matrix_2_1_all.csv\", index=True)"
   ]
  },
  {
   "cell_type": "code",
   "execution_count": null,
   "metadata": {},
   "outputs": [],
   "source": [
    "df_matrix_all = pd.read_csv(\"./results/economic_results/comparison/matrix_2_1_all.csv\", index_col=0)\n",
    "df_matrix_all"
   ]
  },
  {
   "cell_type": "code",
   "execution_count": null,
   "metadata": {},
   "outputs": [],
   "source": [
    "sns.heatmap(df_matrix_all)\n",
    "\n",
    "plt.xlabel(\"Source\")\n",
    "plt.ylabel(\"Target\")\n",
    "\n",
    "plt.savefig(\n",
    "    f\"./results/economic_results/comparison/images/heatmap_matrix_all.pdf\",\n",
    "    dpi=600,\n",
    "    bbox_inches=\"tight\",\n",
    ")\n",
    "\n",
    "plt.show()"
   ]
  },
  {
   "cell_type": "markdown",
   "metadata": {},
   "source": [
    "Let's now consider only the 3 more synergistic/redundant for each distribution"
   ]
  },
  {
   "cell_type": "code",
   "execution_count": null,
   "metadata": {},
   "outputs": [],
   "source": [
    "df_matrix_red, df_matrix_syn = df_matrix_all.copy(), df_matrix_all.copy()"
   ]
  },
  {
   "cell_type": "code",
   "execution_count": null,
   "metadata": {},
   "outputs": [],
   "source": [
    "# DO NOT RUN IF YOU ALREADY HAVE THE DATAFRAME\n",
    "\n",
    "for target in sectors:\n",
    "    for i, sector in enumerate(sectors):\n",
    "        if target == sector:\n",
    "            doinfo_one_sector = np.load(\n",
    "                f\"./results/economic_results/full/do_info/doinfo_one_sector_{target}_tw_{tw}.npy\"\n",
    "            )\n",
    "            df_matrix_red.at[target, sector] = np.mean(np.sort(doinfo_one_sector)[-3:])\n",
    "        else:\n",
    "            doinfo_two_sectors = np.load(\n",
    "                f\"./results/economic_results/full/do_info/doinfo_two_sectors_{target}_{sector}_tw_{tw}.npy\"\n",
    "            )\n",
    "            df_matrix_red.at[target, sector] = np.mean(np.sort(doinfo_two_sectors)[-3:])\n",
    "            \n",
    "\n",
    "            \n",
    "df_matrix_red.to_csv(\"./results/economic_results/comparison/matrix_2_1_red.csv\", index=True)"
   ]
  },
  {
   "cell_type": "code",
   "execution_count": null,
   "metadata": {},
   "outputs": [],
   "source": [
    "# DO NOT RUN IF YOU ALREADY HAVE THE DATAFRAME\n",
    "\n",
    "for target in sectors:\n",
    "    for i, sector in enumerate(sectors):\n",
    "        if target == sector:\n",
    "            doinfo_one_sector = np.load(\n",
    "                f\"./results/economic_results/full/do_info/doinfo_one_sector_{target}_tw_{tw}.npy\"\n",
    "            )\n",
    "            df_matrix_syn.at[target, sector] = np.mean(np.sort(doinfo_one_sector)[:3])\n",
    "        else:\n",
    "            doinfo_two_sectors = np.load(\n",
    "                f\"./results/economic_results/full/do_info/doinfo_two_sectors_{target}_{sector}_tw_{tw}.npy\"\n",
    "            )\n",
    "            df_matrix_syn.at[target, sector] = np.mean(np.sort(doinfo_two_sectors)[:3])\n",
    "            \n",
    "\n",
    "            \n",
    "df_matrix_syn.to_csv(\"./results/economic_results/comparison/matrix_2_1_syn.csv\", index=True)"
   ]
  },
  {
   "cell_type": "code",
   "execution_count": null,
   "metadata": {},
   "outputs": [],
   "source": [
    "df_matrix_red = pd.read_csv(\"./results/economic_results/comparison/matrix_2_1_red.csv\", index_col=0)"
   ]
  },
  {
   "cell_type": "code",
   "execution_count": null,
   "metadata": {},
   "outputs": [],
   "source": [
    "sns.heatmap(df_matrix_red)\n",
    "\n",
    "plt.xlabel(\"Source\")\n",
    "plt.ylabel(\"Target\")\n",
    "\n",
    "plt.savefig(\n",
    "    f\"./results/economic_results/comparison/images/heatmap_matrix_red.pdf\",\n",
    "    dpi=600,\n",
    "    bbox_inches=\"tight\",\n",
    ")\n",
    "\n",
    "plt.show()"
   ]
  },
  {
   "cell_type": "code",
   "execution_count": null,
   "metadata": {},
   "outputs": [],
   "source": [
    "df_matrix_syn = pd.read_csv(\"./results/economic_results/comparison/matrix_2_1_syn.csv\", index_col=0)"
   ]
  },
  {
   "cell_type": "code",
   "execution_count": null,
   "metadata": {},
   "outputs": [],
   "source": [
    "sns.heatmap(df_matrix_syn)\n",
    "\n",
    "plt.xlabel(\"Source\")\n",
    "plt.ylabel(\"Target\")\n",
    "\n",
    "plt.savefig(\n",
    "    f\"./results/economic_results/comparison/images/heatmap_matrix_syn.pdf\",\n",
    "    dpi=600,\n",
    "    bbox_inches=\"tight\",\n",
    ")\n",
    "\n",
    "plt.show()"
   ]
  },
  {
   "cell_type": "markdown",
   "metadata": {},
   "source": [
    "1 in target1, 1 in target2 and 1 in source"
   ]
  },
  {
   "cell_type": "code",
   "execution_count": null,
   "metadata": {},
   "outputs": [],
   "source": [
    "# DO NOT RUN IF YOU ALREADY HAVE THE DATAFRAMES\n",
    "\n",
    "for target1 in sectors:\n",
    "    df_matrix = pd.DataFrame(\n",
    "        columns=[\n",
    "            \"Industrials\",\n",
    "            \"Basic Materials\",\n",
    "            \"Financials\",\n",
    "            \"Consumer Services\",\n",
    "            \"Health Care\",\n",
    "            \"Utilities\",\n",
    "            \"Oil & Gas\",\n",
    "            \"Consumer Goods\",\n",
    "        ]\n",
    "    )\n",
    "    for target2 in sectors:\n",
    "        for source in sectors:\n",
    "\n",
    "            if target2 == target1 and source == target1:\n",
    "                doinfo_one_sector = np.load(\n",
    "                    f\"./results/economic_results/full/do_info/doinfo_one_sector_{target2}_tw_{tw}.npy\"\n",
    "                )\n",
    "                df_matrix.at[target2, source] = np.mean(doinfo_one_sector)\n",
    "\n",
    "            elif target2 == target1 and source != target1:\n",
    "                doinfo_two_sectors = np.load(\n",
    "                    f\"./results/economic_results/full/do_info/doinfo_two_sectors_{source}_{target2}_tw_{tw}.npy\"\n",
    "                )\n",
    "                df_matrix.at[target2, source] = np.mean(doinfo_two_sectors)\n",
    "\n",
    "            elif target2 != target1 and source == target1:\n",
    "                doinfo_two_sectors = np.load(\n",
    "                    f\"./results/economic_results/full/do_info/doinfo_two_sectors_{target2}_{source}_tw_{tw}.npy\"\n",
    "                )\n",
    "                df_matrix.at[target2, source] = np.mean(doinfo_two_sectors)\n",
    "\n",
    "            elif target2 != target1 and source == target2:\n",
    "                doinfo_two_sectors = np.load(\n",
    "                    f\"./results/economic_results/full/do_info/doinfo_two_sectors_{target1}_{target2}_tw_{tw}.npy\"\n",
    "                )\n",
    "                df_matrix.at[target2, source] = np.mean(doinfo_two_sectors)\n",
    "\n",
    "            elif target2 != target1 and source != target2:\n",
    "                doinfo_three_sectors = np.load(\n",
    "                    f\"./results/economic_results/full/do_info/doinfo_three_sectors_{target1}_{target2}_{source}_tw_{tw}.npy\"\n",
    "                )\n",
    "                df_matrix.at[target2, source] = np.mean(doinfo_three_sectors)\n",
    "\n",
    "        df_matrix.to_csv(f\"./results/economic_results/comparison/matrix_1_1_1_{target1}.csv\", index=True)"
   ]
  },
  {
   "cell_type": "code",
   "execution_count": null,
   "metadata": {},
   "outputs": [],
   "source": [
    "df_industrials = pd.read_csv(\"./results/economic_results/comparison/matrix_1_1_1_Industrials.csv\", index_col=0)\n",
    "df_basic_materials = pd.read_csv(\"./results/economic_results/comparison/matrix_1_1_1_Basic Materials.csv\", index_col=0)\n",
    "df_financials = pd.read_csv(\"./results/economic_results/comparison/matrix_1_1_1_Financials.csv\", index_col=0)\n",
    "df_consumer_services = pd.read_csv(\"./results/economic_results/comparison/matrix_1_1_1_Consumer Services.csv\", index_col=0)\n",
    "df_health_care = pd.read_csv(\"./results/economic_results/comparison/matrix_1_1_1_Health Care.csv\", index_col=0)\n",
    "df_utilities = pd.read_csv(\"./results/economic_results/comparison/matrix_1_1_1_Utilities.csv\", index_col=0)\n",
    "df_oil_gas = pd.read_csv(\"./results/economic_results/comparison/matrix_1_1_1_Oil & Gas.csv\", index_col=0)\n",
    "df_consumer_goods = pd.read_csv(\"./results/economic_results/comparison/matrix_1_1_1_Consumer Goods.csv\", index_col=0)\n",
    "\n",
    "diz_matrix = {\n",
    "    \"Industrials\": df_industrials,\n",
    "    \"Basic Materials\": df_basic_materials,\n",
    "    \"Financials\": df_financials,\n",
    "    \"Consumer Services\": df_consumer_services,\n",
    "    \"Health Care\": df_health_care,\n",
    "    \"Utilities\": df_utilities,\n",
    "    \"Oil & Gas\": df_oil_gas,\n",
    "    \"Consumer Goods\": df_consumer_goods,\n",
    "}"
   ]
  },
  {
   "cell_type": "code",
   "execution_count": null,
   "metadata": {},
   "outputs": [],
   "source": [
    "for sector in sectors:\n",
    "    sns.heatmap(diz_matrix[sector])\n",
    "    \n",
    "    plt.xlabel(\"Source\")\n",
    "    plt.ylabel(\"Target\")\n",
    "    plt.title(f\"1 in {sector}, 1 in Target, 1 in Source\")\n",
    "    \n",
    "    plt.savefig(\n",
    "        f\"./results/economic_results/comparison/images/heatmap_matrix_{sector}.pdf\",\n",
    "        dpi=600,\n",
    "        bbox_inches=\"tight\",\n",
    "    )\n",
    "    \n",
    "    plt.show()"
   ]
  },
  {
   "cell_type": "markdown",
   "metadata": {},
   "source": [
    "<a name=\"divided_year\"></a>\n",
    "### Divided by year"
   ]
  },
  {
   "cell_type": "markdown",
   "metadata": {},
   "source": [
    "Load data"
   ]
  },
  {
   "cell_type": "code",
   "execution_count": null,
   "metadata": {},
   "outputs": [],
   "source": [
    "# I am deleting the data for the Techonolgy sector because there are only a few\n",
    "financial_ts = financial_ts.drop(\n",
    "    columns=[\"CACI\", \"CIEN\", \"DBD\", \"DDD\"]\n",
    ")"
   ]
  },
  {
   "cell_type": "code",
   "execution_count": null,
   "metadata": {},
   "outputs": [],
   "source": [
    "financial_ts[\"Date\"] = pd.to_datetime(financial_ts[\"Date\"])\n",
    "\n",
    "years = financial_ts[\"Date\"].dt.year.unique()[1:]\n",
    "\n",
    "diz_years = {}\n",
    "\n",
    "for year in years:\n",
    "    df_year = financial_ts[financial_ts[\"Date\"].dt.year == year]\n",
    "\n",
    "    diz_years[year] = df_year"
   ]
  },
  {
   "cell_type": "code",
   "execution_count": null,
   "metadata": {},
   "outputs": [],
   "source": [
    "diz_years[2000]"
   ]
  },
  {
   "cell_type": "code",
   "execution_count": null,
   "metadata": {},
   "outputs": [],
   "source": [
    "tw = 7\n",
    "diz_years_bin = {}\n",
    "    \n",
    "for year in years:\n",
    "    diz_years_bin[year] = binarize_df(diz_years[year], tw)"
   ]
  },
  {
   "cell_type": "code",
   "execution_count": null,
   "metadata": {},
   "outputs": [],
   "source": [
    "diz_years_bin[2000]"
   ]
  },
  {
   "cell_type": "code",
   "execution_count": null,
   "metadata": {
    "scrolled": true
   },
   "outputs": [],
   "source": [
    "# DO NOT RUN IF YOU ALREADY HAVE THE DATA\n",
    "\n",
    "for year in years:\n",
    "    for target in sectors:\n",
    "        other_sectors = [sector for sector in sectors if sector != target]\n",
    "        for i, sector in enumerate(other_sectors):\n",
    "\n",
    "            if i == 0:\n",
    "                doinfo_one_sector = get_do_infos_same(target, diz_years_bin[year])\n",
    "                np.save(\n",
    "                    f\"./results/economic_results/comparison/do_info/years/one_year/one_sector_{target}_year_{year}.npy\",\n",
    "                    doinfo_one_sector,\n",
    "                )\n",
    "\n",
    "            doinfo_two_sectors = get_do_infos_two_different(\n",
    "                target, sector, diz_years_bin[year]\n",
    "            )\n",
    "            np.save(\n",
    "                f\"./results/economic_results/comparison/do_info/years/one_year/two_sectors_{target}_{sector}_year_{year}.npy\",\n",
    "                doinfo_two_sectors,\n",
    "            )"
   ]
  },
  {
   "cell_type": "code",
   "execution_count": null,
   "metadata": {},
   "outputs": [],
   "source": [
    "# DO NOT RUN IF YOU ALREADY HAVE THE DATAFRAMES\n",
    "\n",
    "for target in sectors:\n",
    "    df_one_year = pd.DataFrame(columns=years)\n",
    "\n",
    "    for year in years:\n",
    "        for sector in sectors:\n",
    "\n",
    "            if target == sector:\n",
    "                doinfo_one_sector = np.load(\n",
    "                    f\"./results/economic_results/comparison/do_info/years/one_year/one_sector_{target}_year_{year}.npy\"\n",
    "                )\n",
    "                df_one_year.at[sector, year] = np.mean(doinfo_one_sector)\n",
    "            else:\n",
    "                doinfo_two_sectors = np.load(\n",
    "                    f\"./results/economic_results/comparison/do_info/years/one_year/two_sectors_{target}_{sector}_year_{year}.npy\"\n",
    "                )\n",
    "                df_one_year.at[sector, year] = np.mean(doinfo_two_sectors)\n",
    "\n",
    "    df_one_year.to_csv(\n",
    "        f\"./results/economic_results/comparison/one_year_{target}.csv\", index=True\n",
    "    )"
   ]
  },
  {
   "cell_type": "code",
   "execution_count": null,
   "metadata": {},
   "outputs": [],
   "source": [
    "df_industrials = pd.read_csv(\"./results/economic_results/comparison/one_year_Industrials.csv\", index_col=0)\n",
    "df_basic_materials = pd.read_csv(\"./results/economic_results/comparison/one_year_Basic Materials.csv\", index_col=0)\n",
    "df_financials = pd.read_csv(\"./results/economic_results/comparison/one_year_Financials.csv\", index_col=0)\n",
    "df_consumer_services = pd.read_csv(\"./results/economic_results/comparison/one_year_Consumer Services.csv\", index_col=0)\n",
    "df_health_care = pd.read_csv(\"./results/economic_results/comparison/one_year_Health Care.csv\", index_col=0)\n",
    "df_utilities = pd.read_csv(\"./results/economic_results/comparison/one_year_Utilities.csv\", index_col=0)\n",
    "df_oil_gas = pd.read_csv(\"./results/economic_results/comparison/one_year_Oil & Gas.csv\", index_col=0)\n",
    "df_consumer_goods = pd.read_csv(\"./results/economic_results/comparison/one_year_Consumer Goods.csv\", index_col=0)"
   ]
  },
  {
   "cell_type": "code",
   "execution_count": null,
   "metadata": {},
   "outputs": [],
   "source": [
    "df_years_all_sectors = {\n",
    "    \"Industrials\": df_industrials,\n",
    "    \"Basic Materials\": df_basic_materials,\n",
    "    \"Financials\": df_financials,\n",
    "    \"Consumer Services\": df_consumer_services,\n",
    "    \"Health Care\": df_health_care,\n",
    "    \"Utilities\": df_utilities,\n",
    "    \"Oil & Gas\": df_oil_gas,\n",
    "    \"Consumer Goods\": df_consumer_goods,\n",
    "}"
   ]
  },
  {
   "cell_type": "code",
   "execution_count": null,
   "metadata": {
    "scrolled": true
   },
   "outputs": [],
   "source": [
    "# DO NOT RUN IF YOU ALREADY HAVE THE HEATMAPS\n",
    "\n",
    "for sector in sectors:\n",
    "    sns.heatmap(df_years_all_sectors[sector])\n",
    "\n",
    "    plt.xlabel(\"Year\")\n",
    "    plt.ylabel(\"Source\")\n",
    "    plt.title(f\"1 in {sector}, 2 in source\")\n",
    "\n",
    "    plt.savefig(\n",
    "        f\"./results/economic_results/comparison/images/heatmap_one_year_{sector}.pdf\",\n",
    "        dpi=600,\n",
    "        bbox_inches=\"tight\",\n",
    "    )\n",
    "\n",
    "    plt.show()"
   ]
  },
  {
   "cell_type": "code",
   "execution_count": null,
   "metadata": {},
   "outputs": [],
   "source": [
    "print(\"Anno 2000:\", len(diz_years_bin[2000]))\n",
    "print(\"Anno 2021:\", len(diz_years_bin[2021]))"
   ]
  },
  {
   "cell_type": "markdown",
   "metadata": {},
   "source": [
    "Let's eliminate the year 2021, to see if any patterns emerge"
   ]
  },
  {
   "cell_type": "code",
   "execution_count": null,
   "metadata": {},
   "outputs": [],
   "source": [
    "df_years_all_sectors_no_2021 = {}\n",
    "\n",
    "for sector in sectors:\n",
    "    df = df_years_all_sectors[sector]\n",
    "    df_no_2021 = df.iloc[:, :-1]\n",
    "    df_years_all_sectors_no_2021[sector] = df_no_2021"
   ]
  },
  {
   "cell_type": "code",
   "execution_count": null,
   "metadata": {
    "scrolled": true
   },
   "outputs": [],
   "source": [
    "# DO NOT RUN IF YOU ALREADY HAVE THE HEATMAPS\n",
    "\n",
    "for sector in sectors:\n",
    "    sns.heatmap(df_years_all_sectors_no_2021[sector])\n",
    "\n",
    "    plt.xlabel(\"Year\")\n",
    "    plt.ylabel(\"Source\")\n",
    "    plt.title(f\"1 in {sector}, 2 in source (no 2021)\")\n",
    "\n",
    "    plt.savefig(\n",
    "        f\"./results/economic_results/comparison/images/heatmap_one_year_{sector}_no_2021.pdf\",\n",
    "        dpi=600,\n",
    "        bbox_inches=\"tight\",\n",
    "    )\n",
    "\n",
    "    plt.show()"
   ]
  },
  {
   "cell_type": "markdown",
   "metadata": {},
   "source": [
    "<a name=\"year_same_sector\"></a>\n",
    "#### Same sector"
   ]
  },
  {
   "cell_type": "markdown",
   "metadata": {},
   "source": [
    "Let's now plot all three elements in the same sector"
   ]
  },
  {
   "cell_type": "code",
   "execution_count": null,
   "metadata": {},
   "outputs": [],
   "source": [
    "years = df_years_all_sectors_no_2021[\"Industrials\"].columns\n",
    "df_years_same_sector_no_2021 = pd.DataFrame(columns=years)"
   ]
  },
  {
   "cell_type": "code",
   "execution_count": null,
   "metadata": {},
   "outputs": [],
   "source": [
    "for sector in sectors:\n",
    "    for year in years:\n",
    "        df_years_same_sector_no_2021.at[sector, year] = df_years_all_sectors_no_2021[\n",
    "            sector\n",
    "        ].at[sector, year]\n",
    "        \n",
    "df_years_same_sector_no_2021.to_csv(\n",
    "    \"./results/economic_results/comparison/one_year_same_sector_no_2021.csv\", index=True\n",
    ")"
   ]
  },
  {
   "cell_type": "code",
   "execution_count": null,
   "metadata": {},
   "outputs": [],
   "source": [
    "df_years_same_sector_no_2021 = pd.read_csv(\n",
    "    \"./results/economic_results/comparison/one_year_same_sector_no_2021.csv\", index_col=0\n",
    ")"
   ]
  },
  {
   "cell_type": "code",
   "execution_count": null,
   "metadata": {
    "scrolled": false
   },
   "outputs": [],
   "source": [
    "sns.heatmap(df_years_same_sector_no_2021)\n",
    "\n",
    "plt.xlabel(\"Year\")\n",
    "plt.ylabel(\"Target\")\n",
    "plt.title(\"All 3 in Target\")\n",
    "\n",
    "plt.savefig(\n",
    "    f\"./results/economic_results/comparison/images/heatmap_one_year_same_sector_no_2021.pdf\",\n",
    "    dpi=600,\n",
    "    bbox_inches=\"tight\",\n",
    ")\n",
    "\n",
    "plt.show()"
   ]
  },
  {
   "cell_type": "markdown",
   "metadata": {},
   "source": [
    "Let's make the average only on the three more synergistic/redundant"
   ]
  },
  {
   "cell_type": "code",
   "execution_count": null,
   "metadata": {},
   "outputs": [],
   "source": [
    "# DO NOT RUN IF YOU ALREADY HAVE THE DATAFRAMES\n",
    "\n",
    "df_one_year_red = pd.DataFrame(columns=years)\n",
    "df_one_year_syn = pd.DataFrame(columns=years)\n",
    "\n",
    "for target in sectors:\n",
    "    for year in years:\n",
    "        doinfo_one_sector = np.load(\n",
    "            f\"./results/economic_results/comparison/do_info/years/one_year/one_sector_{target}_year_{year}.npy\"\n",
    "        )\n",
    "        df_one_year_red.at[target, year] = np.mean(np.sort(doinfo_one_sector)[-3:])\n",
    "        df_one_year_syn.at[target, year] = np.mean(np.sort(doinfo_one_sector)[:3])\n",
    "\n",
    "df_one_year_red.to_csv(\n",
    "    \"./results/economic_results/comparison/one_year_same_sector_no_2021_red.csv\", index=True\n",
    ")\n",
    "df_one_year_syn.to_csv(\n",
    "    \"./results/economic_results/comparison/one_year_same_sector_no_2021_syn.csv\", index=True\n",
    ")"
   ]
  },
  {
   "cell_type": "code",
   "execution_count": null,
   "metadata": {},
   "outputs": [],
   "source": [
    "df_one_year_red = pd.read_csv(\n",
    "    \"./results/economic_results/comparison/one_year_same_sector_no_2021_red.csv\",\n",
    "    index_col=0,\n",
    ")\n",
    "df_one_year_syn = pd.read_csv(\n",
    "    \"./results/economic_results/comparison/one_year_same_sector_no_2021_syn.csv\",\n",
    "    index_col=0,\n",
    ")"
   ]
  },
  {
   "cell_type": "code",
   "execution_count": null,
   "metadata": {},
   "outputs": [],
   "source": [
    "sns.heatmap(df_one_year_red)\n",
    "\n",
    "plt.xlabel(\"Year\")\n",
    "plt.ylabel(\"Target\")\n",
    "plt.title(\"All 3 in Target (3 most redundant)\")\n",
    "\n",
    "plt.savefig(\n",
    "    f\"./results/economic_results/comparison/images/heatmap_one_year_same_sector_no_2021_red.pdf\",\n",
    "    dpi=600,\n",
    "    bbox_inches=\"tight\",\n",
    ")\n",
    "\n",
    "plt.show()"
   ]
  },
  {
   "cell_type": "code",
   "execution_count": null,
   "metadata": {},
   "outputs": [],
   "source": [
    "sns.heatmap(df_one_year_syn)\n",
    "\n",
    "plt.xlabel(\"Year\")\n",
    "plt.ylabel(\"Target\")\n",
    "plt.title(\"All 3 in Target (3 most synergistic)\")\n",
    "\n",
    "plt.savefig(\n",
    "    f\"./results/economic_results/comparison/images/heatmap_one_year_same_sector_no_2021_syn.pdf\",\n",
    "    dpi=600,\n",
    "    bbox_inches=\"tight\",\n",
    ")\n",
    "\n",
    "plt.show()"
   ]
  },
  {
   "cell_type": "markdown",
   "metadata": {},
   "source": [
    "<a name=\"divided_two_years\"></a>\n",
    "### Divided by two years"
   ]
  },
  {
   "cell_type": "code",
   "execution_count": null,
   "metadata": {},
   "outputs": [],
   "source": [
    "financial_ts[\"Date\"] = pd.to_datetime(financial_ts[\"Date\"])\n",
    "\n",
    "# I remove 1999\n",
    "years = financial_ts[\"Date\"].dt.year.unique()[1:]\n",
    "\n",
    "diz_years = {}\n",
    "\n",
    "for year in years:\n",
    "    df_year = financial_ts[financial_ts[\"Date\"].dt.year == year]\n",
    "    diz_years[year] = df_year\n",
    "    \n",
    "diz_two_years = {}\n",
    "\n",
    "for i in range(0, len(years), 2):\n",
    "    start_year = years[i]\n",
    "    end_year = years[i + 1]\n",
    "    combined_key = f\"{start_year}_{end_year}\"\n",
    "    \n",
    "    combined_df = pd.concat([diz_years[start_year], diz_years[end_year]])\n",
    "    \n",
    "    diz_two_years[combined_key] = combined_df"
   ]
  },
  {
   "cell_type": "code",
   "execution_count": null,
   "metadata": {},
   "outputs": [],
   "source": [
    "diz_two_years[\"2000_2001\"]"
   ]
  },
  {
   "cell_type": "code",
   "execution_count": null,
   "metadata": {},
   "outputs": [],
   "source": [
    "tw = 7\n",
    "diz_two_years_bin = {}\n",
    "    \n",
    "for year in diz_two_years.keys():\n",
    "    diz_two_years_bin[year] = binarize_df(diz_two_years[year], tw)"
   ]
  },
  {
   "cell_type": "code",
   "execution_count": null,
   "metadata": {},
   "outputs": [],
   "source": [
    "diz_two_years_bin[\"2000_2001\"]"
   ]
  },
  {
   "cell_type": "code",
   "execution_count": null,
   "metadata": {
    "scrolled": true
   },
   "outputs": [],
   "source": [
    "# DO NOT RUN IF YOU ALREADY HAVE THE DATA\n",
    "\n",
    "for year in diz_two_years.keys():\n",
    "    for target in sectors:\n",
    "        other_sectors = [sector for sector in sectors if sector != target]\n",
    "        for i, sector in enumerate(other_sectors):\n",
    "\n",
    "            if i == 0:\n",
    "                doinfo_one_sector = get_do_infos_same(target, diz_two_years_bin[year])\n",
    "                np.save(\n",
    "                    f\"./results/economic_results/comparison/do_info/years/two_years/one_sector_{target}_years_{year}.npy\",\n",
    "                    doinfo_one_sector,\n",
    "                )\n",
    "\n",
    "            doinfo_two_sectors = get_do_infos_two_different(\n",
    "                target, sector, diz_two_years_bin[year]\n",
    "            )\n",
    "            np.save(\n",
    "                f\"./results/economic_results/comparison/do_info/years/two_years/two_sectors_{target}_{sector}_years_{year}.npy\",\n",
    "                doinfo_two_sectors,\n",
    "            )"
   ]
  },
  {
   "cell_type": "code",
   "execution_count": null,
   "metadata": {},
   "outputs": [],
   "source": [
    "# DO NOT RUN IF YOU ALREADY HAVE THE DATAFRAMES\n",
    "\n",
    "years = diz_two_years.keys()\n",
    "for target in sectors:\n",
    "    df_two_years = pd.DataFrame(columns=years)\n",
    "\n",
    "    for year in years:\n",
    "        for sector in sectors:\n",
    "\n",
    "            if target == sector:\n",
    "                doinfo_one_sector = np.load(\n",
    "                    f\"./results/economic_results/comparison/do_info/years/two_years/one_sector_{target}_years_{year}.npy\"\n",
    "                )\n",
    "                df_two_years.at[sector, year] = np.mean(doinfo_one_sector)\n",
    "            else:\n",
    "                doinfo_two_sectors = np.load(\n",
    "                    f\"./results/economic_results/comparison/do_info/years/two_years/two_sectors_{target}_{sector}_years_{year}.npy\"\n",
    "                )\n",
    "                df_two_years.at[sector, year] = np.mean(doinfo_two_sectors)\n",
    "\n",
    "    df_two_years.to_csv(\n",
    "        f\"./results/economic_results/comparison/two_years_{target}.csv\", index=True\n",
    "    )"
   ]
  },
  {
   "cell_type": "code",
   "execution_count": null,
   "metadata": {},
   "outputs": [],
   "source": [
    "df_industrials = pd.read_csv(\"./results/economic_results/comparison/two_years_Industrials.csv\", index_col=0)\n",
    "df_basic_materials = pd.read_csv(\"./results/economic_results/comparison/two_years_Basic Materials.csv\", index_col=0)\n",
    "df_financials = pd.read_csv(\"./results/economic_results/comparison/two_years_Financials.csv\", index_col=0)\n",
    "df_consumer_services = pd.read_csv(\"./results/economic_results/comparison/two_years_Consumer Services.csv\", index_col=0)\n",
    "df_health_care = pd.read_csv(\"./results/economic_results/comparison/two_years_Health Care.csv\", index_col=0)\n",
    "df_utilities = pd.read_csv(\"./results/economic_results/comparison/two_years_Utilities.csv\", index_col=0)\n",
    "df_oil_gas = pd.read_csv(\"./results/economic_results/comparison/two_years_Oil & Gas.csv\", index_col=0)\n",
    "df_consumer_goods = pd.read_csv(\"./results/economic_results/comparison/two_years_Consumer Goods.csv\", index_col=0)"
   ]
  },
  {
   "cell_type": "code",
   "execution_count": null,
   "metadata": {},
   "outputs": [],
   "source": [
    "df_two_years_all_sectors = {\n",
    "    \"Industrials\": df_industrials,\n",
    "    \"Basic Materials\": df_basic_materials,\n",
    "    \"Financials\": df_financials,\n",
    "    \"Consumer Services\": df_consumer_services,\n",
    "    \"Health Care\": df_health_care,\n",
    "    \"Utilities\": df_utilities,\n",
    "    \"Oil & Gas\": df_oil_gas,\n",
    "    \"Consumer Goods\": df_consumer_goods,\n",
    "}"
   ]
  },
  {
   "cell_type": "code",
   "execution_count": null,
   "metadata": {},
   "outputs": [],
   "source": [
    "# DO NOT RUN IF YOU ALREADY HAVE THE HEATMAPS\n",
    "\n",
    "for sector in sectors:\n",
    "    sns.heatmap(df_two_years_all_sectors[sector])\n",
    "\n",
    "    plt.xlabel(\"Year\")\n",
    "    plt.ylabel(\"Source\")\n",
    "    plt.title(f\"1 in {sector}, 2 in source\")\n",
    "\n",
    "    plt.savefig(\n",
    "        f\"./results/economic_results/comparison/images/heatmap_two_years_{sector}.pdf\",\n",
    "        dpi=600,\n",
    "        bbox_inches=\"tight\",\n",
    "    )\n",
    "\n",
    "    plt.show()"
   ]
  },
  {
   "cell_type": "markdown",
   "metadata": {},
   "source": [
    "<a name=\"divided_three_years\"></a>\n",
    "### Divided by three years"
   ]
  },
  {
   "cell_type": "code",
   "execution_count": null,
   "metadata": {},
   "outputs": [],
   "source": [
    "financial_ts[\"Date\"] = pd.to_datetime(financial_ts[\"Date\"])\n",
    "\n",
    "# I remove 1999 and 2021\n",
    "years = financial_ts[\"Date\"].dt.year.unique()[1:-1]\n",
    "\n",
    "diz_years = {}\n",
    "\n",
    "for year in years:\n",
    "    df_year = financial_ts[financial_ts[\"Date\"].dt.year == year]\n",
    "    diz_years[year] = df_year\n",
    "    \n",
    "diz_three_years = {}\n",
    "\n",
    "for i in range(0, len(years), 3):\n",
    "    if i + 2 < len(years):\n",
    "        start_year = years[i]\n",
    "        mid_year = years[i + 1]\n",
    "        end_year = years[i + 2]\n",
    "        combined_key = f\"{start_year}_{mid_year}_{end_year}\"\n",
    "\n",
    "        combined_df = pd.concat([diz_years[start_year], diz_years[mid_year], diz_years[end_year]])\n",
    "\n",
    "        diz_three_years[combined_key] = combined_df"
   ]
  },
  {
   "cell_type": "code",
   "execution_count": null,
   "metadata": {},
   "outputs": [],
   "source": [
    "diz_three_years[\"2000_2001_2002\"]"
   ]
  },
  {
   "cell_type": "code",
   "execution_count": null,
   "metadata": {},
   "outputs": [],
   "source": [
    "tw = 7\n",
    "diz_three_years_bin = {}\n",
    "    \n",
    "for year in diz_three_years.keys():\n",
    "    diz_three_years_bin[year] = binarize_df(diz_three_years[year], tw)"
   ]
  },
  {
   "cell_type": "code",
   "execution_count": null,
   "metadata": {},
   "outputs": [],
   "source": [
    "diz_three_years_bin[\"2000_2001_2002\"]"
   ]
  },
  {
   "cell_type": "code",
   "execution_count": null,
   "metadata": {
    "scrolled": true
   },
   "outputs": [],
   "source": [
    "# DO NOT RUN IF YOU ALREADY HAVE THE DATA\n",
    "\n",
    "for year in diz_three_years_bin.keys():\n",
    "    for target in sectors:\n",
    "        other_sectors = [sector for sector in sectors if sector != target]\n",
    "        for i, sector in enumerate(other_sectors):\n",
    "\n",
    "            if i == 0:\n",
    "                doinfo_one_sector = get_do_infos_same(target, diz_three_years_bin[year])\n",
    "                np.save(\n",
    "                    f\"./results/economic_results/comparison/do_info/years/three_years/one_sector_{target}_years_{year}.npy\",\n",
    "                    doinfo_one_sector,\n",
    "                )\n",
    "\n",
    "            doinfo_two_sectors = get_do_infos_two_different(\n",
    "                target, sector, diz_three_years_bin[year]\n",
    "            )\n",
    "            np.save(\n",
    "                f\"./results/economic_results/comparison/do_info/years/three_years/two_sectors_{target}_{sector}_years_{year}.npy\",\n",
    "                doinfo_two_sectors,\n",
    "            )"
   ]
  },
  {
   "cell_type": "code",
   "execution_count": null,
   "metadata": {},
   "outputs": [],
   "source": [
    "# DO NOT RUN IF YOU ALREADY HAVE THE DATAFRAMES\n",
    "\n",
    "years = diz_three_years_bin.keys()\n",
    "for target in sectors:\n",
    "    df_three_years = pd.DataFrame(columns=years)\n",
    "\n",
    "    for year in years:\n",
    "        for sector in sectors:\n",
    "\n",
    "            if target == sector:\n",
    "                doinfo_one_sector = np.load(\n",
    "                    f\"./results/economic_results/comparison/do_info/years/three_years/one_sector_{target}_years_{year}.npy\"\n",
    "                )\n",
    "                df_three_years.at[sector, year] = np.mean(doinfo_one_sector)\n",
    "            else:\n",
    "                doinfo_two_sectors = np.load(\n",
    "                    f\"./results/economic_results/comparison/do_info/years/three_years/two_sectors_{target}_{sector}_years_{year}.npy\"\n",
    "                )\n",
    "                df_three_years.at[sector, year] = np.mean(doinfo_two_sectors)\n",
    "\n",
    "    df_three_years.to_csv(\n",
    "        f\"./results/economic_results/comparison/three_years_{target}.csv\", index=True\n",
    "    )"
   ]
  },
  {
   "cell_type": "code",
   "execution_count": null,
   "metadata": {},
   "outputs": [],
   "source": [
    "df_industrials = pd.read_csv(\"./results/economic_results/comparison/three_years_Industrials.csv\", index_col=0)\n",
    "df_basic_materials = pd.read_csv(\"./results/economic_results/comparison/three_years_Basic Materials.csv\", index_col=0)\n",
    "df_financials = pd.read_csv(\"./results/economic_results/comparison/three_years_Financials.csv\", index_col=0)\n",
    "df_consumer_services = pd.read_csv(\"./results/economic_results/comparison/three_years_Consumer Services.csv\", index_col=0)\n",
    "df_health_care = pd.read_csv(\"./results/economic_results/comparison/three_years_Health Care.csv\", index_col=0)\n",
    "df_utilities = pd.read_csv(\"./results/economic_results/comparison/three_years_Utilities.csv\", index_col=0)\n",
    "df_oil_gas = pd.read_csv(\"./results/economic_results/comparison/three_years_Oil & Gas.csv\", index_col=0)\n",
    "df_consumer_goods = pd.read_csv(\"./results/economic_results/comparison/three_years_Consumer Goods.csv\", index_col=0)"
   ]
  },
  {
   "cell_type": "code",
   "execution_count": null,
   "metadata": {},
   "outputs": [],
   "source": [
    "df_three_years_all_sectors = {\n",
    "    \"Industrials\": df_industrials,\n",
    "    \"Basic Materials\": df_basic_materials,\n",
    "    \"Financials\": df_financials,\n",
    "    \"Consumer Services\": df_consumer_services,\n",
    "    \"Health Care\": df_health_care,\n",
    "    \"Utilities\": df_utilities,\n",
    "    \"Oil & Gas\": df_oil_gas,\n",
    "    \"Consumer Goods\": df_consumer_goods,\n",
    "}"
   ]
  },
  {
   "cell_type": "code",
   "execution_count": null,
   "metadata": {},
   "outputs": [],
   "source": [
    "# DO NOT RUN IF YOU ALREADY HAVE THE HEATMAPS\n",
    "\n",
    "for sector in sectors:\n",
    "    sns.heatmap(df_three_years_all_sectors[sector])\n",
    "\n",
    "    plt.xlabel(\"Year\")\n",
    "    plt.ylabel(\"Source\")\n",
    "    plt.title(f\"1 in {sector}, 2 in source\")\n",
    "\n",
    "    plt.savefig(\n",
    "        f\"./results/economic_results/comparison/images/heatmap_three_years_{sector}.pdf\",\n",
    "        dpi=600,\n",
    "        bbox_inches=\"tight\",\n",
    "    )\n",
    "\n",
    "    plt.show()"
   ]
  },
  {
   "cell_type": "markdown",
   "metadata": {},
   "source": [
    "<a name=\"o_info\"></a>\n",
    "## O-information"
   ]
  },
  {
   "cell_type": "code",
   "execution_count": null,
   "metadata": {},
   "outputs": [],
   "source": [
    "sectors = [\n",
    "    \"Industrials\",\n",
    "    \"Basic Materials\",\n",
    "    \"Financials\",\n",
    "    \"Consumer Services\",\n",
    "    \"Health Care\",\n",
    "    \"Utilities\",\n",
    "    \"Oil & Gas\",\n",
    "    \"Consumer Goods\",\n",
    "]"
   ]
  },
  {
   "cell_type": "code",
   "execution_count": null,
   "metadata": {},
   "outputs": [],
   "source": [
    "# I am deleting the data for the Techonolgy sector because there are only a few\n",
    "financial_ts = financial_ts.drop(\n",
    "    columns=[\"CACI\", \"CIEN\", \"DBD\", \"DDD\"]\n",
    ")\n",
    "financial_ts_gauss = financial_ts_gauss.drop(\n",
    "    columns=[\"CACI\", \"CIEN\", \"DBD\", \"DDD\"]\n",
    ")"
   ]
  },
  {
   "cell_type": "code",
   "execution_count": null,
   "metadata": {},
   "outputs": [],
   "source": [
    "binarized_financial_ts = binarized_financial_ts.drop(\n",
    "    columns=[\"CACI\", \"CIEN\", \"DBD\", \"DDD\"]\n",
    ")\n",
    "binarized_financial_ts_gauss = binarized_financial_ts_gauss.drop(\n",
    "    columns=[\"CACI\", \"CIEN\", \"DBD\", \"DDD\"]\n",
    ")"
   ]
  },
  {
   "cell_type": "markdown",
   "metadata": {},
   "source": [
    "<a name=\"o_info_3\"></a>\n",
    "### 3 in Sector A"
   ]
  },
  {
   "cell_type": "markdown",
   "metadata": {},
   "source": [
    "<a name=\"o_info_3_matrix\"></a>\n",
    "#### Matrix"
   ]
  },
  {
   "cell_type": "code",
   "execution_count": null,
   "metadata": {},
   "outputs": [],
   "source": [
    "df_matrix_all = pd.DataFrame(\n",
    "    columns=[\n",
    "        \"Industrials\",\n",
    "        \"Basic Materials\",\n",
    "        \"Financials\",\n",
    "        \"Consumer Services\",\n",
    "        \"Health Care\",\n",
    "        \"Utilities\",\n",
    "        \"Oil & Gas\",\n",
    "        \"Consumer Goods\",\n",
    "    ]\n",
    ")"
   ]
  },
  {
   "cell_type": "code",
   "execution_count": null,
   "metadata": {
    "scrolled": true
   },
   "outputs": [],
   "source": [
    "# DO NOT RUN IF YOU ALREADY HAVE THE DATA\n",
    "\n",
    "for target in sectors:\n",
    "    oinfo_one_sector = get_o_infos_same(target, binarized_financial_ts)\n",
    "    np.save(\n",
    "        f\"./results/economic_results/o_info/metrics/3/all/one_sector_{target}.npy\",\n",
    "        oinfo_one_sector,\n",
    "    )"
   ]
  },
  {
   "cell_type": "code",
   "execution_count": null,
   "metadata": {},
   "outputs": [],
   "source": [
    "# DO NOT RUN IF YOU ALREADY HAVE THE DATAFRAME\n",
    "\n",
    "for target in sectors:\n",
    "    oinfo_one_sector = np.load(\n",
    "        f\"./results/economic_results/o_info/metrics/3/all/one_sector_{target}.npy\"\n",
    "    )\n",
    "    df_matrix_all.at[\"\", target] = np.mean(oinfo_one_sector)\n",
    "\n",
    "\n",
    "df_matrix_all.to_csv(\n",
    "    \"./results/economic_results/o_info/dataframes/3/all/matrix.csv\",\n",
    "    index=True,\n",
    ")"
   ]
  },
  {
   "cell_type": "code",
   "execution_count": null,
   "metadata": {},
   "outputs": [],
   "source": [
    "df_matrix_all = pd.read_csv(\n",
    "    \"./results/economic_results/o_info/dataframes/3/all/matrix.csv\",\n",
    "    index_col=0,\n",
    ")"
   ]
  },
  {
   "cell_type": "code",
   "execution_count": null,
   "metadata": {},
   "outputs": [],
   "source": [
    "sns.heatmap(df_matrix_all)\n",
    "\n",
    "plt.xlabel(\"Target\")\n",
    "plt.ylabel(\"mean O-info\")\n",
    "\n",
    "plt.savefig(\n",
    "    f\"./results/economic_results/o_info/images/3/all/heatmap_matrix.pdf\",\n",
    "    dpi=600,\n",
    "    bbox_inches=\"tight\",\n",
    ")\n",
    "\n",
    "plt.show()"
   ]
  },
  {
   "cell_type": "markdown",
   "metadata": {},
   "source": [
    "<a name=\"o_info_3_one_year\"></a>\n",
    "#### One year"
   ]
  },
  {
   "cell_type": "code",
   "execution_count": null,
   "metadata": {},
   "outputs": [],
   "source": [
    "financial_ts[\"Date\"] = pd.to_datetime(financial_ts[\"Date\"])\n",
    "\n",
    "years = financial_ts[\"Date\"].dt.year.unique()[1:]\n",
    "\n",
    "diz_years = {}\n",
    "\n",
    "for year in years:\n",
    "    df_year = financial_ts[financial_ts[\"Date\"].dt.year == year]\n",
    "\n",
    "    diz_years[year] = df_year"
   ]
  },
  {
   "cell_type": "code",
   "execution_count": null,
   "metadata": {},
   "outputs": [],
   "source": [
    "tw = 7\n",
    "diz_years_bin = {}\n",
    "    \n",
    "for year in years:\n",
    "    diz_years_bin[year] = binarize_df(diz_years[year], tw)"
   ]
  },
  {
   "cell_type": "code",
   "execution_count": null,
   "metadata": {
    "scrolled": true
   },
   "outputs": [],
   "source": [
    "# DO NOT RUN IF YOU ALREADY HAVE THE DATA\n",
    "\n",
    "for year in years:\n",
    "    for target in sectors:\n",
    "        oinfo_one_sector = get_o_infos_same(target, diz_years_bin[year])\n",
    "        np.save(\n",
    "            f\"./results/economic_results/o_info/metrics/3/one_year/one_sector_{target}_year_{year}.npy\",\n",
    "            oinfo_one_sector,\n",
    "        )"
   ]
  },
  {
   "cell_type": "code",
   "execution_count": null,
   "metadata": {},
   "outputs": [],
   "source": [
    "# DO NOT RUN IF YOU ALREADY HAVE THE DATAFRAMES\n",
    "\n",
    "df_one_year = pd.DataFrame(columns=years)\n",
    "for target in sectors:\n",
    "    for year in years:\n",
    "        oinfo_one_sector = np.load(\n",
    "            f\"./results/economic_results/o_info/metrics/3/one_year/one_sector_{target}_year_{year}.npy\"\n",
    "        )\n",
    "        df_one_year.at[target, year] = np.mean(oinfo_one_sector)\n",
    "\n",
    "df_one_year.to_csv(\n",
    "    f\"./results/economic_results/o_info/dataframes/3/one_year/dataframe.csv\",\n",
    "    index=True,\n",
    ")"
   ]
  },
  {
   "cell_type": "code",
   "execution_count": null,
   "metadata": {},
   "outputs": [],
   "source": [
    "df_one_year = pd.read_csv(\n",
    "    \"./results/economic_results/o_info/dataframes/3/one_year/dataframe.csv\",\n",
    "    index_col=0,\n",
    ")"
   ]
  },
  {
   "cell_type": "code",
   "execution_count": null,
   "metadata": {},
   "outputs": [],
   "source": [
    "# DO NOT RUN IF YOU ALREADY HAVE THE HEATMAP\n",
    "\n",
    "sns.heatmap(df_one_year)\n",
    "\n",
    "plt.axvline(x=1.5, color=\"yellow\", linestyle=\"--\", label=\"twin towers\")\n",
    "plt.axvline(x=8.5, color=\"blue\", linestyle=\"--\", label=\"financial crisis\")\n",
    "plt.axvline(x=9.5, color=\"green\", linestyle=\"--\", label=\"Obama president\")\n",
    "plt.axvline(x=17.5, color=\"brown\", linestyle=\"--\", label=\"Trump president\")\n",
    "plt.axvline(x=19.5, color=\"pink\", linestyle=\"--\", label=\"covid-19\")\n",
    "plt.axvline(x=21.5, color=\"cyan\", linestyle=\"--\", label=\"Biden president\")\n",
    "\n",
    "plt.xlabel(\"Year\")\n",
    "plt.ylabel(\"Source\")\n",
    "plt.title(\"3 in source (O-info)\")\n",
    "\n",
    "# plt.legend()\n",
    "\n",
    "plt.savefig(\n",
    "    f\"./results/economic_results/o_info/images/3/one_year/heatmap.pdf\",\n",
    "    dpi=600,\n",
    "    bbox_inches=\"tight\",\n",
    ")\n",
    "\n",
    "plt.show()"
   ]
  },
  {
   "cell_type": "markdown",
   "metadata": {},
   "source": [
    "<a name=\"o_info_3_two_years\"></a>\n",
    "#### Two years"
   ]
  },
  {
   "cell_type": "code",
   "execution_count": null,
   "metadata": {},
   "outputs": [],
   "source": [
    "# I remove 1999\n",
    "years = financial_ts[\"Date\"].dt.year.unique()[1:]\n",
    "\n",
    "diz_years = {}\n",
    "\n",
    "for year in years:\n",
    "    df_year = financial_ts[financial_ts[\"Date\"].dt.year == year]\n",
    "    diz_years[year] = df_year\n",
    "    \n",
    "diz_two_years = {}\n",
    "\n",
    "for i in range(0, len(years), 2):\n",
    "    start_year = years[i]\n",
    "    end_year = years[i + 1]\n",
    "    combined_key = f\"{start_year}_{end_year}\"\n",
    "    \n",
    "    combined_df = pd.concat([diz_years[start_year], diz_years[end_year]])\n",
    "    \n",
    "    diz_two_years[combined_key] = combined_df"
   ]
  },
  {
   "cell_type": "code",
   "execution_count": null,
   "metadata": {},
   "outputs": [],
   "source": [
    "tw = 7\n",
    "diz_two_years_bin = {}\n",
    "    \n",
    "for year in diz_two_years.keys():\n",
    "    diz_two_years_bin[year] = binarize_df(diz_two_years[year], tw)"
   ]
  },
  {
   "cell_type": "code",
   "execution_count": null,
   "metadata": {
    "scrolled": true
   },
   "outputs": [],
   "source": [
    "# DO NOT RUN IF YOU ALREADY HAVE THE DATA\n",
    "\n",
    "for year in diz_two_years.keys():\n",
    "    for target in sectors:\n",
    "        oinfo_one_sector = get_o_infos_same(target, diz_two_years_bin[year])\n",
    "        np.save(\n",
    "            f\"./results/economic_results/o_info/metrics/3/two_years/one_sector_{target}_years_{year}.npy\",\n",
    "            oinfo_one_sector,\n",
    "        )"
   ]
  },
  {
   "cell_type": "code",
   "execution_count": null,
   "metadata": {},
   "outputs": [],
   "source": [
    "# DO NOT RUN IF YOU ALREADY HAVE THE DATAFRAME\n",
    "\n",
    "years = diz_two_years.keys()\n",
    "df_two_years = pd.DataFrame(columns=years)\n",
    "\n",
    "for target in sectors:\n",
    "    for year in years:\n",
    "        oinfo_one_sector = np.load(\n",
    "            f\"./results/economic_results/o_info/metrics/3/two_years/one_sector_{target}_years_{year}.npy\"\n",
    "        )\n",
    "        df_two_years.at[target, year] = np.mean(oinfo_one_sector)\n",
    "\n",
    "df_two_years.to_csv(\n",
    "    f\"./results/economic_results/o_info/dataframes/3/two_years/dataframe.csv\",\n",
    "    index=True,\n",
    ")"
   ]
  },
  {
   "cell_type": "code",
   "execution_count": null,
   "metadata": {},
   "outputs": [],
   "source": [
    "df_two_years = pd.read_csv(\n",
    "    \"./results/economic_results/o_info/dataframes/3/two_years/dataframe.csv\",\n",
    "    index_col=0,\n",
    ")"
   ]
  },
  {
   "cell_type": "code",
   "execution_count": null,
   "metadata": {},
   "outputs": [],
   "source": [
    "# DO NOT RUN IF YOU ALREADY HAVE THE HEATMAP\n",
    "\n",
    "sns.heatmap(df_two_years)\n",
    "\n",
    "plt.xlabel(\"Year\")\n",
    "plt.ylabel(\"Source\")\n",
    "plt.title(\"3 in source (O-info)\")\n",
    "\n",
    "plt.savefig(\n",
    "    f\"./results/economic_results/o_info/images/3/two_years/heatmap.pdf\",\n",
    "    dpi=600,\n",
    "    bbox_inches=\"tight\",\n",
    ")\n",
    "\n",
    "plt.show()"
   ]
  },
  {
   "cell_type": "markdown",
   "metadata": {},
   "source": [
    "<a name=\"o_info_3_three_years\"></a>\n",
    "#### Three years"
   ]
  },
  {
   "cell_type": "code",
   "execution_count": null,
   "metadata": {},
   "outputs": [],
   "source": [
    "# I remove 1999 and 2021\n",
    "years = financial_ts[\"Date\"].dt.year.unique()[1:-1]\n",
    "\n",
    "diz_years = {}\n",
    "\n",
    "for year in years:\n",
    "    df_year = financial_ts[financial_ts[\"Date\"].dt.year == year]\n",
    "    diz_years[year] = df_year\n",
    "    \n",
    "diz_three_years = {}\n",
    "\n",
    "for i in range(0, len(years), 3):\n",
    "    if i + 2 < len(years):\n",
    "        start_year = years[i]\n",
    "        mid_year = years[i + 1]\n",
    "        end_year = years[i + 2]\n",
    "        combined_key = f\"{start_year}_{mid_year}_{end_year}\"\n",
    "\n",
    "        combined_df = pd.concat([diz_years[start_year], diz_years[mid_year], diz_years[end_year]])\n",
    "\n",
    "        diz_three_years[combined_key] = combined_df"
   ]
  },
  {
   "cell_type": "code",
   "execution_count": null,
   "metadata": {},
   "outputs": [],
   "source": [
    "tw = 7\n",
    "diz_three_years_bin = {}\n",
    "    \n",
    "for year in diz_three_years.keys():\n",
    "    diz_three_years_bin[year] = binarize_df(diz_three_years[year], tw)"
   ]
  },
  {
   "cell_type": "code",
   "execution_count": null,
   "metadata": {},
   "outputs": [],
   "source": [
    "# DO NOT RUN IF YOU ALREADY HAVE THE DATA\n",
    "\n",
    "for year in diz_three_years_bin.keys():\n",
    "    for target in sectors:\n",
    "        oinfo_one_sector = get_o_infos_same(target, diz_three_years_bin[year])\n",
    "        np.save(\n",
    "            f\"./results/economic_results/o_info/metrics/3/three_years/one_sector_{target}_years_{year}.npy\",\n",
    "            oinfo_one_sector,\n",
    "        )"
   ]
  },
  {
   "cell_type": "code",
   "execution_count": null,
   "metadata": {},
   "outputs": [],
   "source": [
    "# DO NOT RUN IF YOU ALREADY HAVE THE DATAFRAME\n",
    "\n",
    "years = diz_three_years_bin.keys()\n",
    "df_three_years = pd.DataFrame(columns=years)\n",
    "\n",
    "for target in sectors:\n",
    "    for year in years:\n",
    "        oinfo_one_sector = np.load(\n",
    "            f\"./results/economic_results/o_info/metrics/3/three_years/one_sector_{target}_years_{year}.npy\"\n",
    "        )\n",
    "        df_three_years.at[target, year] = np.mean(oinfo_one_sector)\n",
    "\n",
    "df_three_years.to_csv(\n",
    "    f\"./results/economic_results/o_info/dataframes/3/three_years/dataframe.csv\",\n",
    "    index=True,\n",
    ")"
   ]
  },
  {
   "cell_type": "code",
   "execution_count": null,
   "metadata": {},
   "outputs": [],
   "source": [
    "df_three_years = pd.read_csv(\n",
    "    \"./results/economic_results/o_info/dataframes/3/three_years/dataframe.csv\",\n",
    "    index_col=0,\n",
    ")"
   ]
  },
  {
   "cell_type": "code",
   "execution_count": null,
   "metadata": {},
   "outputs": [],
   "source": [
    "# DO NOT RUN IF YOU ALREADY HAVE THE HEATMAPS\n",
    "sns.heatmap(df_three_years)\n",
    "\n",
    "plt.xlabel(\"Year\")\n",
    "plt.ylabel(\"Source\")\n",
    "plt.title(\"3 in source (O-info)\")\n",
    "\n",
    "plt.savefig(\n",
    "    f\"./results/economic_results/o_info/images/3/three_years/heatmap.pdf\",\n",
    "    dpi=600,\n",
    "    bbox_inches=\"tight\",\n",
    ")\n",
    "\n",
    "plt.show()"
   ]
  },
  {
   "cell_type": "markdown",
   "metadata": {},
   "source": [
    "<a name=\"o_info_2_1\"></a>\n",
    "### 2 in Sector A and 1 in Sector B"
   ]
  },
  {
   "cell_type": "markdown",
   "metadata": {},
   "source": [
    "<a name=\"o_info_2_1_matrix\"></a>\n",
    "#### Matrix"
   ]
  },
  {
   "cell_type": "code",
   "execution_count": null,
   "metadata": {
    "scrolled": true
   },
   "outputs": [],
   "source": [
    "# DO NOT RUN IF YOU ALREADY HAVE THE DATA\n",
    "\n",
    "for target in sectors:\n",
    "    other_sectors = [sector for sector in sectors if sector != target]\n",
    "    for i, sector in enumerate(other_sectors):\n",
    "        \n",
    "        oinfo_two_sectors = get_o_infos_two_different(\n",
    "            target, sector, binarized_financial_ts\n",
    "        )\n",
    "        np.save(\n",
    "            f\"./results/economic_results/o_info/metrics/2_1/all/one_sector_{target}_two_sector_{sector}.npy\",\n",
    "            oinfo_two_sectors,\n",
    "        )"
   ]
  },
  {
   "cell_type": "code",
   "execution_count": null,
   "metadata": {},
   "outputs": [],
   "source": [
    "df_matrix_all = pd.DataFrame(\n",
    "    columns=[\n",
    "        \"Industrials\",\n",
    "        \"Basic Materials\",\n",
    "        \"Financials\",\n",
    "        \"Consumer Services\",\n",
    "        \"Health Care\",\n",
    "        \"Utilities\",\n",
    "        \"Oil & Gas\",\n",
    "        \"Consumer Goods\",\n",
    "    ]\n",
    ")"
   ]
  },
  {
   "cell_type": "code",
   "execution_count": null,
   "metadata": {},
   "outputs": [],
   "source": [
    "# DO NOT RUN IF YOU ALREADY HAVE THE DATAFRAME\n",
    "\n",
    "for target in sectors:\n",
    "    for i, sector in enumerate(sectors):\n",
    "        if target == sector:\n",
    "            oinfo_one_sector = np.load(\n",
    "                f\"./results/economic_results/o_info/metrics/3/all/one_sector_{target}.npy\"\n",
    "            )\n",
    "            df_matrix_all.at[target, sector] = np.mean(oinfo_one_sector)\n",
    "        else:\n",
    "            oinfo_two_sectors = np.load(\n",
    "                f\"./results/economic_results/o_info/metrics/2_1/all/one_sector_{target}_two_sector_{sector}.npy\"\n",
    "            )\n",
    "            df_matrix_all.at[target, sector] = np.mean(oinfo_two_sectors)\n",
    "\n",
    "\n",
    "df_matrix_all.to_csv(\n",
    "    \"./results/economic_results/o_info/dataframes/2_1/all/matrix.csv\",\n",
    "    index=True,\n",
    ")"
   ]
  },
  {
   "cell_type": "code",
   "execution_count": null,
   "metadata": {},
   "outputs": [],
   "source": [
    "df_matrix_all = pd.read_csv(\n",
    "    \"./results/economic_results/o_info/dataframes/2_1/all/matrix.csv\",\n",
    "    index_col=0,\n",
    ")"
   ]
  },
  {
   "cell_type": "code",
   "execution_count": null,
   "metadata": {},
   "outputs": [],
   "source": [
    "sns.heatmap(df_matrix_all)\n",
    "\n",
    "plt.xlabel(\"Source\")\n",
    "plt.ylabel(\"Target\")\n",
    "\n",
    "plt.savefig(\n",
    "    f\"./results/economic_results/o_info/images/2_1/all/heatmap_matrix.pdf\",\n",
    "    dpi=600,\n",
    "    bbox_inches=\"tight\",\n",
    ")\n",
    "\n",
    "plt.show()"
   ]
  },
  {
   "cell_type": "markdown",
   "metadata": {},
   "source": [
    "<a name=\"o_info_2_1_one_year\"></a>\n",
    "#### One year"
   ]
  },
  {
   "cell_type": "code",
   "execution_count": null,
   "metadata": {},
   "outputs": [],
   "source": [
    "financial_ts[\"Date\"] = pd.to_datetime(financial_ts[\"Date\"])\n",
    "\n",
    "years = financial_ts[\"Date\"].dt.year.unique()[1:]\n",
    "\n",
    "diz_years = {}\n",
    "\n",
    "for year in years:\n",
    "    df_year = financial_ts[financial_ts[\"Date\"].dt.year == year]\n",
    "\n",
    "    diz_years[year] = df_year"
   ]
  },
  {
   "cell_type": "code",
   "execution_count": null,
   "metadata": {},
   "outputs": [],
   "source": [
    "tw = 7\n",
    "diz_years_bin = {}\n",
    "    \n",
    "for year in years:\n",
    "    diz_years_bin[year] = binarize_df(diz_years[year], tw)"
   ]
  },
  {
   "cell_type": "code",
   "execution_count": null,
   "metadata": {
    "scrolled": true
   },
   "outputs": [],
   "source": [
    "# DO NOT RUN IF YOU ALREADY HAVE THE DATA\n",
    "\n",
    "for year in years:\n",
    "    for target in sectors:\n",
    "        other_sectors = [sector for sector in sectors if sector != target]\n",
    "        for i, sector in enumerate(other_sectors):\n",
    "\n",
    "            oinfo_two_sectors = get_o_infos_two_different(\n",
    "                target, sector, diz_years_bin[year]\n",
    "            )\n",
    "            np.save(\n",
    "                f\"./results/economic_results/o_info/metrics/2_1/one_year/one_sector_{target}_two_sector_{sector}_year_{year}.npy\",\n",
    "                oinfo_two_sectors,\n",
    "            )"
   ]
  },
  {
   "cell_type": "code",
   "execution_count": null,
   "metadata": {},
   "outputs": [],
   "source": [
    "# DO NOT RUN IF YOU ALREADY HAVE THE DATAFRAMES\n",
    "\n",
    "for target in sectors:\n",
    "    df_one_year = pd.DataFrame(columns=years)\n",
    "\n",
    "    for year in years:\n",
    "        for sector in sectors:\n",
    "\n",
    "            if target == sector:\n",
    "                oinfo_one_sector = np.load(\n",
    "                    f\"./results/economic_results/o_info/metrics/3/one_year/one_sector_{target}_year_{year}.npy\"\n",
    "                )\n",
    "                df_one_year.at[sector, year] = np.mean(oinfo_one_sector)\n",
    "            else:\n",
    "                oinfo_two_sectors = np.load(\n",
    "                    f\"./results/economic_results/o_info/metrics/2_1/one_year/one_sector_{target}_two_sector_{sector}_year_{year}.npy\"\n",
    "                )\n",
    "                df_one_year.at[sector, year] = np.mean(oinfo_two_sectors)\n",
    "\n",
    "    df_one_year.to_csv(\n",
    "        f\"./results/economic_results/o_info/dataframes/2_1/one_year/dataframe_{target}.csv\", index=True\n",
    "    )"
   ]
  },
  {
   "cell_type": "code",
   "execution_count": null,
   "metadata": {},
   "outputs": [],
   "source": [
    "df_industrials = pd.read_csv(\n",
    "    \"./results/economic_results/o_info/dataframes/2_1/one_year/dataframe_Industrials.csv\",\n",
    "    index_col=0,\n",
    ")\n",
    "df_basic_materials = pd.read_csv(\n",
    "    \"./results/economic_results/o_info/dataframes/2_1/one_year/dataframe_Basic Materials.csv\",\n",
    "    index_col=0,\n",
    ")\n",
    "df_financials = pd.read_csv(\n",
    "    \"./results/economic_results/o_info/dataframes/2_1/one_year/dataframe_Financials.csv\",\n",
    "    index_col=0,\n",
    ")\n",
    "df_consumer_services = pd.read_csv(\n",
    "    \"./results/economic_results/o_info/dataframes/2_1/one_year/dataframe_Consumer Services.csv\",\n",
    "    index_col=0,\n",
    ")\n",
    "df_health_care = pd.read_csv(\n",
    "    \"./results/economic_results/o_info/dataframes/2_1/one_year/dataframe_Health Care.csv\",\n",
    "    index_col=0,\n",
    ")\n",
    "df_utilities = pd.read_csv(\n",
    "    \"./results/economic_results/o_info/dataframes/2_1/one_year/dataframe_Utilities.csv\",\n",
    "    index_col=0,\n",
    ")\n",
    "df_oil_gas = pd.read_csv(\n",
    "    \"./results/economic_results/o_info/dataframes/2_1/one_year/dataframe_Oil & Gas.csv\",\n",
    "    index_col=0,\n",
    ")\n",
    "df_consumer_goods = pd.read_csv(\n",
    "    \"./results/economic_results/o_info/dataframes/2_1/one_year/dataframe_Consumer Goods.csv\",\n",
    "    index_col=0,\n",
    ")\n",
    "\n",
    "df_one_year_all_sectors = {\n",
    "    \"Industrials\": df_industrials,\n",
    "    \"Basic Materials\": df_basic_materials,\n",
    "    \"Financials\": df_financials,\n",
    "    \"Consumer Services\": df_consumer_services,\n",
    "    \"Health Care\": df_health_care,\n",
    "    \"Utilities\": df_utilities,\n",
    "    \"Oil & Gas\": df_oil_gas,\n",
    "    \"Consumer Goods\": df_consumer_goods,\n",
    "}"
   ]
  },
  {
   "cell_type": "code",
   "execution_count": null,
   "metadata": {
    "scrolled": true
   },
   "outputs": [],
   "source": [
    "# DO NOT RUN IF YOU ALREADY HAVE THE HEATMAPS\n",
    "\n",
    "for sector in sectors:\n",
    "    sns.heatmap(df_one_year_all_sectors[sector])\n",
    "    \n",
    "    plt.axvline(x=1.5, color=\"yellow\", linestyle=\"--\", label=\"twin towers\")\n",
    "    plt.axvline(x=8.5, color=\"blue\", linestyle=\"--\", label=\"financial crisis\")\n",
    "    plt.axvline(x=9.5, color=\"green\", linestyle=\"--\", label=\"Obama president\")\n",
    "    plt.axvline(x=17.5, color=\"brown\", linestyle=\"--\", label=\"Trump president\")\n",
    "    plt.axvline(x=19.5, color=\"pink\", linestyle=\"--\", label=\"covid-19\")\n",
    "    plt.axvline(x=21.5, color=\"cyan\", linestyle=\"--\", label=\"Biden president\")\n",
    "\n",
    "    plt.xlabel(\"Year\")\n",
    "    plt.ylabel(\"Source\")\n",
    "    plt.title(f\"1 in {sector}, 2 in source (O-info)\")\n",
    "\n",
    "#    plt.legend()\n",
    "\n",
    "    plt.savefig(\n",
    "        f\"./results/economic_results/o_info/images/2_1/one_year/heatmap_{sector}.pdf\",\n",
    "        dpi=600,\n",
    "        bbox_inches=\"tight\",\n",
    "    )\n",
    "\n",
    "    plt.show()"
   ]
  },
  {
   "cell_type": "markdown",
   "metadata": {},
   "source": [
    "<a name=\"o_info_2_1_two_years\"></a>\n",
    "#### Two years"
   ]
  },
  {
   "cell_type": "code",
   "execution_count": null,
   "metadata": {},
   "outputs": [],
   "source": [
    "# I remove 1999\n",
    "years = financial_ts[\"Date\"].dt.year.unique()[1:]\n",
    "\n",
    "diz_years = {}\n",
    "\n",
    "for year in years:\n",
    "    df_year = financial_ts[financial_ts[\"Date\"].dt.year == year]\n",
    "    diz_years[year] = df_year\n",
    "    \n",
    "diz_two_years = {}\n",
    "\n",
    "for i in range(0, len(years), 2):\n",
    "    start_year = years[i]\n",
    "    end_year = years[i + 1]\n",
    "    combined_key = f\"{start_year}_{end_year}\"\n",
    "    \n",
    "    combined_df = pd.concat([diz_years[start_year], diz_years[end_year]])\n",
    "    \n",
    "    diz_two_years[combined_key] = combined_df"
   ]
  },
  {
   "cell_type": "code",
   "execution_count": null,
   "metadata": {},
   "outputs": [],
   "source": [
    "tw = 7\n",
    "diz_two_years_bin = {}\n",
    "    \n",
    "for year in diz_two_years.keys():\n",
    "    diz_two_years_bin[year] = binarize_df(diz_two_years[year], tw)"
   ]
  },
  {
   "cell_type": "code",
   "execution_count": null,
   "metadata": {
    "scrolled": true
   },
   "outputs": [],
   "source": [
    "# DO NOT RUN IF YOU ALREADY HAVE THE DATA\n",
    "\n",
    "for year in diz_two_years.keys():\n",
    "    for target in sectors:\n",
    "        other_sectors = [sector for sector in sectors if sector != target]\n",
    "        for i, sector in enumerate(other_sectors):\n",
    "\n",
    "            oinfo_two_sectors = get_o_infos_two_different(\n",
    "                target, sector, diz_two_years_bin[year]\n",
    "            )\n",
    "            np.save(\n",
    "                f\"./results/economic_results/o_info/metrics/2_1/two_years/one_sector_{target}_two_sector_{sector}_years_{year}.npy\",\n",
    "                oinfo_two_sectors,\n",
    "            )"
   ]
  },
  {
   "cell_type": "code",
   "execution_count": null,
   "metadata": {},
   "outputs": [],
   "source": [
    "# DO NOT RUN IF YOU ALREADY HAVE THE DATAFRAMES\n",
    "\n",
    "years = diz_two_years.keys()\n",
    "for target in sectors:\n",
    "    df_two_years = pd.DataFrame(columns=years)\n",
    "\n",
    "    for year in years:\n",
    "        for sector in sectors:\n",
    "\n",
    "            if target == sector:\n",
    "                oinfo_one_sector = np.load(\n",
    "                    f\"./results/economic_results/o_info/metrics/3/two_years/one_sector_{target}_years_{year}.npy\"\n",
    "                )\n",
    "                df_two_years.at[sector, year] = np.mean(oinfo_one_sector)\n",
    "            else:\n",
    "                oinfo_two_sectors = np.load(\n",
    "                    f\"./results/economic_results/o_info/metrics/2_1/two_years/one_sector_{target}_two_sector_{sector}_years_{year}.npy\"\n",
    "                )\n",
    "                df_two_years.at[sector, year] = np.mean(oinfo_two_sectors)\n",
    "\n",
    "    df_two_years.to_csv(\n",
    "        f\"./results/economic_results/o_info/dataframes/2_1/two_years/dataframe_{target}.csv\", index=True\n",
    "    )"
   ]
  },
  {
   "cell_type": "code",
   "execution_count": null,
   "metadata": {},
   "outputs": [],
   "source": [
    "df_industrials = pd.read_csv(\n",
    "    \"./results/economic_results/o_info/dataframes/2_1/two_years/dataframe_Industrials.csv\",\n",
    "    index_col=0,\n",
    ")\n",
    "df_basic_materials = pd.read_csv(\n",
    "    \"./results/economic_results/o_info/dataframes/2_1/two_years/dataframe_Basic Materials.csv\",\n",
    "    index_col=0,\n",
    ")\n",
    "df_financials = pd.read_csv(\n",
    "    \"./results/economic_results/o_info/dataframes/2_1/two_years/dataframe_Financials.csv\",\n",
    "    index_col=0,\n",
    ")\n",
    "df_consumer_services = pd.read_csv(\n",
    "    \"./results/economic_results/o_info/dataframes/2_1/two_years/dataframe_Consumer Services.csv\",\n",
    "    index_col=0,\n",
    ")\n",
    "df_health_care = pd.read_csv(\n",
    "    \"./results/economic_results/o_info/dataframes/2_1/two_years/dataframe_Health Care.csv\",\n",
    "    index_col=0,\n",
    ")\n",
    "df_utilities = pd.read_csv(\n",
    "    \"./results/economic_results/o_info/dataframes/2_1/two_years/dataframe_Utilities.csv\",\n",
    "    index_col=0,\n",
    ")\n",
    "df_oil_gas = pd.read_csv(\n",
    "    \"./results/economic_results/o_info/dataframes/2_1/two_years/dataframe_Oil & Gas.csv\",\n",
    "    index_col=0,\n",
    ")\n",
    "df_consumer_goods = pd.read_csv(\n",
    "    \"./results/economic_results/o_info/dataframes/2_1/two_years/dataframe_Consumer Goods.csv\",\n",
    "    index_col=0,\n",
    ")\n",
    "\n",
    "df_two_years_all_sectors = {\n",
    "    \"Industrials\": df_industrials,\n",
    "    \"Basic Materials\": df_basic_materials,\n",
    "    \"Financials\": df_financials,\n",
    "    \"Consumer Services\": df_consumer_services,\n",
    "    \"Health Care\": df_health_care,\n",
    "    \"Utilities\": df_utilities,\n",
    "    \"Oil & Gas\": df_oil_gas,\n",
    "    \"Consumer Goods\": df_consumer_goods,\n",
    "}"
   ]
  },
  {
   "cell_type": "code",
   "execution_count": null,
   "metadata": {
    "scrolled": true
   },
   "outputs": [],
   "source": [
    "# DO NOT RUN IF YOU ALREADY HAVE THE HEATMAPS\n",
    "\n",
    "for sector in sectors:\n",
    "    sns.heatmap(df_two_years_all_sectors[sector])\n",
    "\n",
    "    plt.xlabel(\"Year\")\n",
    "    plt.ylabel(\"Source\")\n",
    "    plt.title(f\"1 in {sector}, 2 in source (O-info)\")\n",
    "\n",
    "    plt.savefig(\n",
    "        f\"./results/economic_results/o_info/images/2_1/two_years/heatmap_{sector}.pdf\",\n",
    "        dpi=600,\n",
    "        bbox_inches=\"tight\",\n",
    "    )\n",
    "\n",
    "    plt.show()"
   ]
  },
  {
   "cell_type": "markdown",
   "metadata": {},
   "source": [
    "<a name=\"o_info_2_1_three_years\"></a>\n",
    "#### Three years"
   ]
  },
  {
   "cell_type": "code",
   "execution_count": null,
   "metadata": {},
   "outputs": [],
   "source": [
    "# I remove 1999 and 2021\n",
    "years = financial_ts[\"Date\"].dt.year.unique()[1:-1]\n",
    "\n",
    "diz_years = {}\n",
    "\n",
    "for year in years:\n",
    "    df_year = financial_ts[financial_ts[\"Date\"].dt.year == year]\n",
    "    diz_years[year] = df_year\n",
    "    \n",
    "diz_three_years = {}\n",
    "\n",
    "for i in range(0, len(years), 3):\n",
    "    if i + 2 < len(years):\n",
    "        start_year = years[i]\n",
    "        mid_year = years[i + 1]\n",
    "        end_year = years[i + 2]\n",
    "        combined_key = f\"{start_year}_{mid_year}_{end_year}\"\n",
    "\n",
    "        combined_df = pd.concat([diz_years[start_year], diz_years[mid_year], diz_years[end_year]])\n",
    "\n",
    "        diz_three_years[combined_key] = combined_df"
   ]
  },
  {
   "cell_type": "code",
   "execution_count": null,
   "metadata": {},
   "outputs": [],
   "source": [
    "tw = 7\n",
    "diz_three_years_bin = {}\n",
    "    \n",
    "for year in diz_three_years.keys():\n",
    "    diz_three_years_bin[year] = binarize_df(diz_three_years[year], tw)"
   ]
  },
  {
   "cell_type": "code",
   "execution_count": null,
   "metadata": {},
   "outputs": [],
   "source": [
    "# DO NOT RUN IF YOU ALREADY HAVE THE DATA\n",
    "\n",
    "for year in diz_three_years_bin.keys():\n",
    "    for target in sectors:\n",
    "        other_sectors = [sector for sector in sectors if sector != target]\n",
    "        for i, sector in enumerate(other_sectors):\n",
    "\n",
    "            oinfo_two_sectors = get_o_infos_two_different(\n",
    "                target, sector, diz_three_years_bin[year]\n",
    "            )\n",
    "            np.save(\n",
    "                f\"./results/economic_results/o_info/metrics/2_1/three_years/one_sector_{target}_two_sector_{sector}_years_{year}.npy\",\n",
    "                oinfo_two_sectors,\n",
    "            )"
   ]
  },
  {
   "cell_type": "code",
   "execution_count": null,
   "metadata": {},
   "outputs": [],
   "source": [
    "# DO NOT RUN IF YOU ALREADY HAVE THE DATAFRAMES\n",
    "\n",
    "years = diz_three_years_bin.keys()\n",
    "for target in sectors:\n",
    "    df_three_years = pd.DataFrame(columns=years)\n",
    "\n",
    "    for year in years:\n",
    "        for sector in sectors:\n",
    "\n",
    "            if target == sector:\n",
    "                oinfo_one_sector = np.load(\n",
    "                    f\"./results/economic_results/o_info/metrics/3/three_years/one_sector_{target}_years_{year}.npy\"\n",
    "                )\n",
    "                df_three_years.at[sector, year] = np.mean(oinfo_one_sector)\n",
    "            else:\n",
    "                oinfo_two_sectors = np.load(\n",
    "                    f\"./results/economic_results/o_info/metrics/2_1/three_years/one_sector_{target}_two_sector_{sector}_years_{year}.npy\"\n",
    "                )\n",
    "                df_three_years.at[sector, year] = np.mean(oinfo_two_sectors)\n",
    "\n",
    "    df_three_years.to_csv(\n",
    "        f\"./results/economic_results/o_info/dataframes/2_1/three_years/dataframe_{target}.csv\", index=True\n",
    "    )"
   ]
  },
  {
   "cell_type": "code",
   "execution_count": null,
   "metadata": {},
   "outputs": [],
   "source": [
    "df_industrials = pd.read_csv(\n",
    "    \"./results/economic_results/o_info/dataframes/2_1/three_years/dataframe_Industrials.csv\",\n",
    "    index_col=0,\n",
    ")\n",
    "df_basic_materials = pd.read_csv(\n",
    "    \"./results/economic_results/o_info/dataframes/2_1/three_years/dataframe_Basic Materials.csv\",\n",
    "    index_col=0,\n",
    ")\n",
    "df_financials = pd.read_csv(\n",
    "    \"./results/economic_results/o_info/dataframes/2_1/three_years/dataframe_Financials.csv\",\n",
    "    index_col=0,\n",
    ")\n",
    "df_consumer_services = pd.read_csv(\n",
    "    \"./results/economic_results/o_info/dataframes/2_1/three_years/dataframe_Consumer Services.csv\",\n",
    "    index_col=0,\n",
    ")\n",
    "df_health_care = pd.read_csv(\n",
    "    \"./results/economic_results/o_info/dataframes/2_1/three_years/dataframe_Health Care.csv\",\n",
    "    index_col=0,\n",
    ")\n",
    "df_utilities = pd.read_csv(\n",
    "    \"./results/economic_results/o_info/dataframes/2_1/three_years/dataframe_Utilities.csv\",\n",
    "    index_col=0,\n",
    ")\n",
    "df_oil_gas = pd.read_csv(\n",
    "    \"./results/economic_results/o_info/dataframes/2_1/three_years/dataframe_Oil & Gas.csv\",\n",
    "    index_col=0,\n",
    ")\n",
    "df_consumer_goods = pd.read_csv(\n",
    "    \"./results/economic_results/o_info/dataframes/2_1/three_years/dataframe_Consumer Goods.csv\",\n",
    "    index_col=0,\n",
    ")\n",
    "\n",
    "df_three_years_all_sectors = {\n",
    "    \"Industrials\": df_industrials,\n",
    "    \"Basic Materials\": df_basic_materials,\n",
    "    \"Financials\": df_financials,\n",
    "    \"Consumer Services\": df_consumer_services,\n",
    "    \"Health Care\": df_health_care,\n",
    "    \"Utilities\": df_utilities,\n",
    "    \"Oil & Gas\": df_oil_gas,\n",
    "    \"Consumer Goods\": df_consumer_goods,\n",
    "}"
   ]
  },
  {
   "cell_type": "code",
   "execution_count": null,
   "metadata": {
    "scrolled": true
   },
   "outputs": [],
   "source": [
    "# DO NOT RUN IF YOU ALREADY HAVE THE HEATMAPS\n",
    "\n",
    "for sector in sectors:\n",
    "    sns.heatmap(df_three_years_all_sectors[sector])\n",
    "\n",
    "    plt.xlabel(\"Year\")\n",
    "    plt.ylabel(\"Source\")\n",
    "    plt.title(f\"1 in {sector}, 2 in source (O-info)\")\n",
    "\n",
    "    plt.savefig(\n",
    "        f\"./results/economic_results/o_info/images/2_1/three_years/heatmap_{sector}.pdf\",\n",
    "        dpi=600,\n",
    "        bbox_inches=\"tight\",\n",
    "    )\n",
    "\n",
    "    plt.show()"
   ]
  },
  {
   "cell_type": "markdown",
   "metadata": {},
   "source": [
    "<a name=\"o_info_1_1_1\"></a>\n",
    "### 1 in Sector A, 1 in Sector B and 1 in Sector C"
   ]
  },
  {
   "cell_type": "markdown",
   "metadata": {},
   "source": [
    "<a name=\"o_info_1_1_1_matrix\"></a>\n",
    "#### Matrix"
   ]
  },
  {
   "cell_type": "code",
   "execution_count": null,
   "metadata": {
    "scrolled": true
   },
   "outputs": [],
   "source": [
    "# DO NOT RUN IF YOU ALREADY HAVE THE DATA\n",
    "\n",
    "for target in sectors:\n",
    "    other_sectors = [sector for sector in sectors if sector != target]\n",
    "    for sector1 in other_sectors:\n",
    "        other_sectors2 = [sector for sector in other_sectors if sector != sector1]\n",
    "        for sector2 in other_sectors2:\n",
    "\n",
    "            oinfo_three_sectors = get_o_infos_three_different(\n",
    "                target, sector1, sector2, binarized_financial_ts\n",
    "            )\n",
    "            np.save(\n",
    "                f\"./results/economic_results/o_info/metrics/1_1_1/all/one_sector_{target}_one_sector_{sector1}_one_sector_{sector2}.npy\",\n",
    "                oinfo_three_sectors,\n",
    "            )"
   ]
  },
  {
   "cell_type": "code",
   "execution_count": null,
   "metadata": {},
   "outputs": [],
   "source": [
    "# DO NOT RUN IF YOU ALREADY HAVE THE DATAFRAMES\n",
    "\n",
    "for target1 in sectors:\n",
    "    df_matrix = pd.DataFrame(\n",
    "        columns=[\n",
    "            \"Industrials\",\n",
    "            \"Basic Materials\",\n",
    "            \"Financials\",\n",
    "            \"Consumer Services\",\n",
    "            \"Health Care\",\n",
    "            \"Utilities\",\n",
    "            \"Oil & Gas\",\n",
    "            \"Consumer Goods\",\n",
    "        ]\n",
    "    )\n",
    "    for target2 in sectors:\n",
    "        for source in sectors:\n",
    "\n",
    "            if target2 == target1 and source == target1:\n",
    "                oinfo_one_sector = np.load(\n",
    "                    f\"./results/economic_results/o_info/metrics/3/all/one_sector_{target2}.npy\"\n",
    "                )\n",
    "                df_matrix.at[target2, source] = np.mean(oinfo_one_sector)\n",
    "\n",
    "            elif target2 == target1 and source != target1:\n",
    "                oinfo_two_sectors = np.load(\n",
    "                    f\"./results/economic_results/o_info/metrics/2_1/all/one_sector_{source}_two_sector_{target2}.npy\"\n",
    "                )\n",
    "                df_matrix.at[target2, source] = np.mean(oinfo_two_sectors)\n",
    "\n",
    "            elif target2 != target1 and source == target1:\n",
    "                oinfo_two_sectors = np.load(\n",
    "                    f\"./results/economic_results/o_info/metrics/2_1/all/one_sector_{target2}_two_sector_{source}.npy\"\n",
    "                )\n",
    "                df_matrix.at[target2, source] = np.mean(oinfo_two_sectors)\n",
    "\n",
    "            elif target2 != target1 and source == target2:\n",
    "                oinfo_two_sectors = np.load(\n",
    "                    f\"./results/economic_results/o_info/metrics/2_1/all/one_sector_{target1}_two_sector_{target2}.npy\"\n",
    "                )\n",
    "                df_matrix.at[target2, source] = np.mean(oinfo_two_sectors)\n",
    "\n",
    "            elif target2 != target1 and source != target2:\n",
    "                oinfo_three_sectors = np.load(\n",
    "                    f\"./results/economic_results/o_info/metrics/1_1_1/all/one_sector_{target1}_one_sector_{target2}_one_sector_{source}.npy\"\n",
    "                )\n",
    "                df_matrix.at[target2, source] = np.mean(oinfo_three_sectors)\n",
    "\n",
    "        df_matrix.to_csv(f\"./results/economic_results/o_info/dataframes/1_1_1/all/matrix_{target1}.csv\", index=True)"
   ]
  },
  {
   "cell_type": "code",
   "execution_count": null,
   "metadata": {},
   "outputs": [],
   "source": [
    "df_industrials = pd.read_csv(\"./results/economic_results/o_info/dataframes/1_1_1/all/matrix_Industrials.csv\", index_col=0)\n",
    "df_basic_materials = pd.read_csv(\"./results/economic_results/o_info/dataframes/1_1_1/all/matrix_Basic Materials.csv\", index_col=0)\n",
    "df_financials = pd.read_csv(\"./results/economic_results/o_info/dataframes/1_1_1/all/matrix_Financials.csv\", index_col=0)\n",
    "df_consumer_services = pd.read_csv(\"./results/economic_results/o_info/dataframes/1_1_1/all/matrix_Consumer Services.csv\", index_col=0)\n",
    "df_health_care = pd.read_csv(\"./results/economic_results/o_info/dataframes/1_1_1/all/matrix_Health Care.csv\", index_col=0)\n",
    "df_utilities = pd.read_csv(\"./results/economic_results/o_info/dataframes/1_1_1/all/matrix_Utilities.csv\", index_col=0)\n",
    "df_oil_gas = pd.read_csv(\"./results/economic_results/o_info/dataframes/1_1_1/all/matrix_Oil & Gas.csv\", index_col=0)\n",
    "df_consumer_goods = pd.read_csv(\"./results/economic_results/o_info/dataframes/1_1_1/all/matrix_Consumer Goods.csv\", index_col=0)\n",
    "\n",
    "diz_matrix = {\n",
    "    \"Industrials\": df_industrials,\n",
    "    \"Basic Materials\": df_basic_materials,\n",
    "    \"Financials\": df_financials,\n",
    "    \"Consumer Services\": df_consumer_services,\n",
    "    \"Health Care\": df_health_care,\n",
    "    \"Utilities\": df_utilities,\n",
    "    \"Oil & Gas\": df_oil_gas,\n",
    "    \"Consumer Goods\": df_consumer_goods,\n",
    "}"
   ]
  },
  {
   "cell_type": "code",
   "execution_count": null,
   "metadata": {
    "scrolled": true
   },
   "outputs": [],
   "source": [
    "for sector in sectors:\n",
    "    sns.heatmap(diz_matrix[sector])\n",
    "    \n",
    "    plt.xlabel(\"Source\")\n",
    "    plt.ylabel(\"Target\")\n",
    "    plt.title(f\"1 in {sector}, 1 in Target, 1 in Source\")\n",
    "    \n",
    "    plt.savefig(\n",
    "        f\"./results/economic_results/o_info/images/1_1_1/all/heatmap_matrix_{sector}.pdf\",\n",
    "        dpi=600,\n",
    "        bbox_inches=\"tight\",\n",
    "    )\n",
    "    \n",
    "    plt.show()"
   ]
  },
  {
   "cell_type": "code",
   "execution_count": null,
   "metadata": {},
   "outputs": [],
   "source": [
    "for sector in sectors:\n",
    "    target_stocks = list(\n",
    "        stock_names[stock_names[\"Sector\"] == sector][\"Stock name\"]\n",
    "    )\n",
    "    same_sector_triplets = list(combinations(target_stocks, 3))\n",
    "    print(f\"Total number of triplets in {sector}: {len(same_sector_triplets)}\")"
   ]
  },
  {
   "cell_type": "markdown",
   "metadata": {},
   "source": [
    "<a name=\"o_info_1_1_1_matrix_bootstrapping\"></a>\n",
    "#### Bootstrapping"
   ]
  },
  {
   "cell_type": "code",
   "execution_count": null,
   "metadata": {},
   "outputs": [],
   "source": [
    "# DO NOT RUN IF YOU ALREADY HAVE THE DATAFRAMES\n",
    "\n",
    "num_samples = 1000  # samples of the bootstrapping\n",
    "sample_size = 35\n",
    "\n",
    "for target1 in sectors:\n",
    "    df_variance = pd.DataFrame(\n",
    "        columns=[\n",
    "            \"Industrials\",\n",
    "            \"Basic Materials\",\n",
    "            \"Financials\",\n",
    "            \"Consumer Services\",\n",
    "            \"Health Care\",\n",
    "            \"Utilities\",\n",
    "            \"Oil & Gas\",\n",
    "            \"Consumer Goods\",\n",
    "        ]\n",
    "    )\n",
    "    for target2 in sectors:\n",
    "        for source in sectors:\n",
    "\n",
    "            if target2 == target1 and source == target1:\n",
    "                oinfo_one_sector = np.load(\n",
    "                    f\"./results/economic_results/o_info/metrics/3/all/one_sector_{target2}.npy\"\n",
    "                )\n",
    "                sample_means = []\n",
    "                for _ in range(num_samples):\n",
    "                    sample = np.random.choice(oinfo_one_sector, size=sample_size, replace=True)\n",
    "                    sample_mean = np.mean(sample)\n",
    "                    sample_means.append(sample_mean)\n",
    "                df_variance.at[target2, source] = np.var(sample_means)\n",
    "\n",
    "            elif target2 == target1 and source != target1:\n",
    "                oinfo_two_sectors = np.load(\n",
    "                    f\"./results/economic_results/o_info/metrics/2_1/all/one_sector_{source}_two_sector_{target2}.npy\"\n",
    "                )\n",
    "                sample_means = []\n",
    "                for _ in range(num_samples):\n",
    "                    sample = np.random.choice(oinfo_two_sectors, size=sample_size, replace=True)\n",
    "                    sample_mean = np.mean(sample)\n",
    "                    sample_means.append(sample_mean)\n",
    "                df_variance.at[target2, source] = np.var(sample_means)\n",
    "\n",
    "            elif target2 != target1 and source == target1:\n",
    "                oinfo_two_sectors = np.load(\n",
    "                    f\"./results/economic_results/o_info/metrics/2_1/all/one_sector_{target2}_two_sector_{source}.npy\"\n",
    "                )\n",
    "                sample_means = []\n",
    "                for _ in range(num_samples):\n",
    "                    sample = np.random.choice(oinfo_two_sectors, size=sample_size, replace=True)\n",
    "                    sample_mean = np.mean(sample)\n",
    "                    sample_means.append(sample_mean)\n",
    "                df_variance.at[target2, source] = np.var(sample_means)\n",
    "\n",
    "            elif target2 != target1 and source == target2:\n",
    "                oinfo_two_sectors = np.load(\n",
    "                    f\"./results/economic_results/o_info/metrics/2_1/all/one_sector_{target1}_two_sector_{target2}.npy\"\n",
    "                )\n",
    "                sample_means = []\n",
    "                for _ in range(num_samples):\n",
    "                    sample = np.random.choice(oinfo_two_sectors, size=sample_size, replace=True)\n",
    "                    sample_mean = np.mean(sample)\n",
    "                    sample_means.append(sample_mean)\n",
    "                df_variance.at[target2, source] = np.var(sample_means)\n",
    "\n",
    "            elif target2 != target1 and source != target2:\n",
    "                oinfo_three_sectors = np.load(\n",
    "                    f\"./results/economic_results/o_info/metrics/1_1_1/all/one_sector_{target1}_one_sector_{target2}_one_sector_{source}.npy\"\n",
    "                )\n",
    "                sample_means = []\n",
    "                for _ in range(num_samples):\n",
    "                    sample = np.random.choice(oinfo_three_sectors, size=sample_size, replace=True)\n",
    "                    sample_mean = np.mean(sample)\n",
    "                    sample_means.append(sample_mean)\n",
    "                df_variance.at[target2, source] = np.var(sample_means)\n",
    "\n",
    "        df_variance.to_csv(f\"./results/economic_results/o_info/dataframes/1_1_1/all/matrix_variance_{target1}.csv\", index=True)"
   ]
  },
  {
   "cell_type": "code",
   "execution_count": null,
   "metadata": {},
   "outputs": [],
   "source": [
    "df_variance"
   ]
  },
  {
   "cell_type": "code",
   "execution_count": null,
   "metadata": {},
   "outputs": [],
   "source": []
  },
  {
   "cell_type": "code",
   "execution_count": null,
   "metadata": {},
   "outputs": [],
   "source": []
  },
  {
   "cell_type": "code",
   "execution_count": null,
   "metadata": {},
   "outputs": [],
   "source": []
  },
  {
   "cell_type": "markdown",
   "metadata": {},
   "source": [
    "<a name=\"o_info_1_1_1_matrix_pdf\"></a>\n",
    "#### Probability density function"
   ]
  },
  {
   "cell_type": "code",
   "execution_count": null,
   "metadata": {},
   "outputs": [],
   "source": [
    "# DO NOT RUN IF YOU ALREADY HAVE THE DICTIONARY\n",
    "\n",
    "diz_pdf = {\n",
    "    \"Industrials\": None,\n",
    "    \"Basic Materials\": None,\n",
    "    \"Financials\": None,\n",
    "    \"Consumer Services\": None,\n",
    "    \"Health Care\": None,\n",
    "    \"Utilities\": None,\n",
    "    \"Oil & Gas\": None,\n",
    "    \"Consumer Goods\": None,\n",
    "}\n",
    "\n",
    "for target in sectors:\n",
    "    diz_sector = {\"3\": None, \"2_1\": None, \"1_1_1\": None}\n",
    "\n",
    "    for key in diz_sector.keys():\n",
    "        if key == \"3\":  # 3 in sector\n",
    "            # PER ORA I 35 VALORI LI TENGO TUTTI, VEDERE SE CONVIENE FARNE LA MEDIA\n",
    "            diz_sector[key] = list(\n",
    "                np.load(\n",
    "                    f\"./results/economic_results/o_info/metrics/3/all/one_sector_{target}.npy\"\n",
    "                )\n",
    "            )\n",
    "\n",
    "        elif key == \"2_1\":  # 2 in sector 1 in other\n",
    "            a = list()\n",
    "            other_sectors = [sector for sector in sectors if sector != target]\n",
    "            for source in other_sectors:\n",
    "                # PER ORA I 35 VALORI LI TENGO TUTTI, VEDERE SE CONVIENE FARNE LA MEDIA\n",
    "                b = list(\n",
    "                    np.load(\n",
    "                        f\"./results/economic_results/o_info/metrics/2_1/all/one_sector_{source}_two_sector_{target}.npy\"\n",
    "                    )\n",
    "                )\n",
    "                a.append(b)\n",
    "            diz_sector[key] = [item for sublist in a for item in sublist]\n",
    "\n",
    "        elif key == \"1_1_1\":\n",
    "            a = list()\n",
    "            other_sectors1 = [sector for sector in sectors if sector != target]\n",
    "            for source1 in other_sectors1:\n",
    "                other_sectors2 = [\n",
    "                    sector for sector in other_sectors1 if sector != source1\n",
    "                ]\n",
    "                for source2 in other_sectors2:\n",
    "                    # PER ORA I 35 VALORI LI TENGO TUTTI, VEDERE SE CONVIENE FARNE LA MEDIA\n",
    "                    b = list(\n",
    "                        np.load(\n",
    "                            f\"./results/economic_results/o_info/metrics/1_1_1/all/one_sector_{target}_one_sector_{source1}_one_sector_{source2}.npy\"\n",
    "                        )\n",
    "                    )\n",
    "                    a.append(b)\n",
    "            diz_sector[key] = [item for sublist in a for item in sublist]\n",
    "\n",
    "    diz_pdf[target] = diz_sector\n",
    "\n",
    "with open(\n",
    "    \"./results/economic_results/o_info/dataframes/1_1_1/all/dict_proba_density_function_all.pickle\",\n",
    "    \"wb\",\n",
    ") as file:\n",
    "    pickle.dump(diz_pdf, file)"
   ]
  },
  {
   "cell_type": "code",
   "execution_count": null,
   "metadata": {},
   "outputs": [],
   "source": [
    "with open(\n",
    "    \"./results/economic_results/o_info/dataframes/1_1_1/all/dict_proba_density_function_all.pickle\",\n",
    "    \"rb\",\n",
    ") as file:\n",
    "    diz_pdf = pickle.load(file)"
   ]
  },
  {
   "cell_type": "code",
   "execution_count": null,
   "metadata": {},
   "outputs": [],
   "source": [
    "for sector in sectors:\n",
    "    keys = list(diz_pdf[sector].keys())\n",
    "    data = [diz_pdf[sector][key] for key in keys]\n",
    "\n",
    "    plt.figure(figsize=(8, 6))\n",
    "    label = [f\"3 in {sector}\", f\"2 in {sector}\", f\"1 in {sector}\"]\n",
    "    plt.hist(data, bins=30, label=label)\n",
    "    plt.xlabel(\"O-information\", size=15)\n",
    "    plt.ylabel(\"Frequency\", size=15)\n",
    "    plt.tick_params(axis=\"both\", labelsize=12)\n",
    "    plt.title(f\"PDF of {sector}\", size=18)\n",
    "    plt.legend()\n",
    "\n",
    "    plt.savefig(\n",
    "        f\"./results/economic_results/o_info/images/1_1_1/all/PDF_all_{sector}.pdf\",\n",
    "        dpi=600,\n",
    "        bbox_inches=\"tight\",\n",
    "    )\n",
    "\n",
    "    plt.show()"
   ]
  },
  {
   "cell_type": "code",
   "execution_count": null,
   "metadata": {},
   "outputs": [],
   "source": [
    "# DO NOT RUN IF YOU ALREADY HAVE THE DICTIONARY\n",
    "\n",
    "diz_pdf = {\n",
    "    \"Industrials\": None,\n",
    "    \"Basic Materials\": None,\n",
    "    \"Financials\": None,\n",
    "    \"Consumer Services\": None,\n",
    "    \"Health Care\": None,\n",
    "    \"Utilities\": None,\n",
    "    \"Oil & Gas\": None,\n",
    "    \"Consumer Goods\": None,\n",
    "}\n",
    "\n",
    "for target in sectors:\n",
    "    diz_sector = {\"3\": None, \"2_1\": None, \"1_1_1\": None}\n",
    "\n",
    "    for key in diz_sector.keys():\n",
    "        if key == \"3\":  # 3 in sector\n",
    "            b = list(\n",
    "                np.load(\n",
    "                    f\"./results/economic_results/o_info/metrics/3/all/one_sector_{target}.npy\"\n",
    "                )\n",
    "            )\n",
    "            diz_sector[key] = np.mean(b)\n",
    "\n",
    "        elif key == \"2_1\":  # 2 in sector 1 in other\n",
    "            a = list()\n",
    "            other_sectors = [sector for sector in sectors if sector != target]\n",
    "            for source in other_sectors:\n",
    "                b = list(\n",
    "                    np.load(\n",
    "                        f\"./results/economic_results/o_info/metrics/2_1/all/one_sector_{source}_two_sector_{target}.npy\"\n",
    "                    )\n",
    "                )\n",
    "                a.append(np.mean(b))\n",
    "            diz_sector[key] = list(a)\n",
    "\n",
    "        elif key == \"1_1_1\":\n",
    "            a = list()\n",
    "            other_sectors1 = [sector for sector in sectors if sector != target]\n",
    "            for source1 in other_sectors1:\n",
    "                other_sectors2 = [\n",
    "                    sector for sector in other_sectors1 if sector != source1\n",
    "                ]\n",
    "                for source2 in other_sectors2:\n",
    "                    b = list(\n",
    "                        np.load(\n",
    "                            f\"./results/economic_results/o_info/metrics/1_1_1/all/one_sector_{target}_one_sector_{source1}_one_sector_{source2}.npy\"\n",
    "                        )\n",
    "                    )\n",
    "                    a.append(np.mean(b))\n",
    "            diz_sector[key] = list(a)\n",
    "\n",
    "    diz_pdf[target] = diz_sector\n",
    "\n",
    "with open(\n",
    "    \"./results/economic_results/o_info/dataframes/1_1_1/all/dict_proba_density_function_mean.pickle\",\n",
    "    \"wb\",\n",
    ") as file:\n",
    "    pickle.dump(diz_pdf, file)"
   ]
  },
  {
   "cell_type": "code",
   "execution_count": null,
   "metadata": {},
   "outputs": [],
   "source": [
    "with open(\n",
    "    \"./results/economic_results/o_info/dataframes/1_1_1/all/dict_proba_density_function_mean.pickle\",\n",
    "    \"rb\",\n",
    ") as file:\n",
    "    diz_pdf = pickle.load(file)"
   ]
  },
  {
   "cell_type": "code",
   "execution_count": null,
   "metadata": {},
   "outputs": [],
   "source": [
    "for sector in sectors:\n",
    "    keys = list(diz_pdf[sector].keys())\n",
    "    data = [diz_pdf[sector][key] for key in keys]\n",
    "\n",
    "    plt.figure(figsize=(8, 6))\n",
    "    label = [f\"3 in {sector}\", f\"2 in {sector}\", f\"1 in {sector}\"]\n",
    "    plt.hist(data, bins=20, label=label)\n",
    "    plt.xlabel(\"O-information\", size=15)\n",
    "    plt.ylabel(\"Frequency\", size=15)\n",
    "    plt.tick_params(axis=\"both\", labelsize=12)\n",
    "    plt.title(f\"PDF of {sector} (mean)\", size=18)\n",
    "    plt.legend()\n",
    "\n",
    "    plt.savefig(\n",
    "        f\"./results/economic_results/o_info/images/1_1_1/all/PDF_mean_{sector}.pdf\",\n",
    "        dpi=600,\n",
    "        bbox_inches=\"tight\",\n",
    "    )\n",
    "\n",
    "    plt.show()"
   ]
  },
  {
   "cell_type": "markdown",
   "metadata": {},
   "source": [
    "<a name=\"o_info_1_1_1_matrix_gaussian\"></a>\n",
    "#### Gaussian distribution"
   ]
  },
  {
   "cell_type": "code",
   "execution_count": null,
   "metadata": {
    "scrolled": true
   },
   "outputs": [],
   "source": [
    "# DO NOT RUN IF YOU ALREADY HAVE THE DATA\n",
    "\n",
    "for target in sectors:\n",
    "    oinfo_one_sector = get_o_infos_same(target, binarized_financial_ts_gauss)\n",
    "    np.save(\n",
    "        f\"./results/economic_results/o_info/metrics/3/all/gaussian/one_sector_{target}.npy\",\n",
    "        oinfo_one_sector,\n",
    "    )"
   ]
  },
  {
   "cell_type": "code",
   "execution_count": null,
   "metadata": {},
   "outputs": [],
   "source": [
    "# DO NOT RUN IF YOU ALREADY HAVE THE DATA\n",
    "\n",
    "for target in sectors:\n",
    "    other_sectors = [sector for sector in sectors if sector != target]\n",
    "    for i, sector in enumerate(other_sectors):\n",
    "        \n",
    "        oinfo_two_sectors = get_o_infos_two_different(\n",
    "            target, sector, binarized_financial_ts_gauss\n",
    "        )\n",
    "        np.save(\n",
    "            f\"./results/economic_results/o_info/metrics/2_1/all/gaussian/one_sector_{target}_two_sector_{sector}.npy\",\n",
    "            oinfo_two_sectors,\n",
    "        )"
   ]
  },
  {
   "cell_type": "code",
   "execution_count": null,
   "metadata": {
    "scrolled": true
   },
   "outputs": [],
   "source": [
    "# DO NOT RUN IF YOU ALREADY HAVE THE DATA\n",
    "\n",
    "for target in sectors:\n",
    "    other_sectors = [sector for sector in sectors if sector != target]\n",
    "    for sector1 in other_sectors:\n",
    "        other_sectors2 = [sector for sector in other_sectors if sector != sector1]\n",
    "        for sector2 in other_sectors2:\n",
    "\n",
    "            oinfo_three_sectors = get_o_infos_three_different(\n",
    "                target, sector1, sector2, binarized_financial_ts_gauss\n",
    "            )\n",
    "            np.save(\n",
    "                f\"./results/economic_results/o_info/metrics/1_1_1/all/gaussian/one_sector_{target}_one_sector_{sector1}_one_sector_{sector2}.npy\",\n",
    "                oinfo_three_sectors,\n",
    "            )"
   ]
  },
  {
   "cell_type": "code",
   "execution_count": null,
   "metadata": {},
   "outputs": [],
   "source": [
    "# DO NOT RUN IF YOU ALREADY HAVE THE DATAFRAMES\n",
    "\n",
    "for target1 in sectors:\n",
    "    df_matrix = pd.DataFrame(\n",
    "        columns=[\n",
    "            \"Industrials\",\n",
    "            \"Basic Materials\",\n",
    "            \"Financials\",\n",
    "            \"Consumer Services\",\n",
    "            \"Health Care\",\n",
    "            \"Utilities\",\n",
    "            \"Oil & Gas\",\n",
    "            \"Consumer Goods\",\n",
    "        ]\n",
    "    )\n",
    "    for target2 in sectors:\n",
    "        for source in sectors:\n",
    "\n",
    "            if target2 == target1 and source == target1:\n",
    "                oinfo_one_sector = np.load(\n",
    "                    f\"./results/economic_results/o_info/metrics/3/all/gaussian/one_sector_{target2}.npy\"\n",
    "                )\n",
    "                df_matrix.at[target2, source] = np.mean(oinfo_one_sector)\n",
    "\n",
    "            elif target2 == target1 and source != target1:\n",
    "                oinfo_two_sectors = np.load(\n",
    "                    f\"./results/economic_results/o_info/metrics/2_1/all/gaussian/one_sector_{source}_two_sector_{target2}.npy\"\n",
    "                )\n",
    "                df_matrix.at[target2, source] = np.mean(oinfo_two_sectors)\n",
    "\n",
    "            elif target2 != target1 and source == target1:\n",
    "                oinfo_two_sectors = np.load(\n",
    "                    f\"./results/economic_results/o_info/metrics/2_1/all/gaussian/one_sector_{target2}_two_sector_{source}.npy\"\n",
    "                )\n",
    "                df_matrix.at[target2, source] = np.mean(oinfo_two_sectors)\n",
    "\n",
    "            elif target2 != target1 and source == target2:\n",
    "                oinfo_two_sectors = np.load(\n",
    "                    f\"./results/economic_results/o_info/metrics/2_1/all/gaussian/one_sector_{target1}_two_sector_{target2}.npy\"\n",
    "                )\n",
    "                df_matrix.at[target2, source] = np.mean(oinfo_two_sectors)\n",
    "\n",
    "            elif target2 != target1 and source != target2:\n",
    "                oinfo_three_sectors = np.load(\n",
    "                    f\"./results/economic_results/o_info/metrics/1_1_1/all/gaussian/one_sector_{target1}_one_sector_{target2}_one_sector_{source}.npy\"\n",
    "                )\n",
    "                df_matrix.at[target2, source] = np.mean(oinfo_three_sectors)\n",
    "\n",
    "        df_matrix.to_csv(f\"./results/economic_results/o_info/dataframes/1_1_1/all/gaussian/matrix_{target1}.csv\", index=True)"
   ]
  },
  {
   "cell_type": "code",
   "execution_count": null,
   "metadata": {},
   "outputs": [],
   "source": [
    "df_industrials = pd.read_csv(\"./results/economic_results/o_info/dataframes/1_1_1/all/gaussian/matrix_Industrials.csv\", index_col=0)\n",
    "df_basic_materials = pd.read_csv(\"./results/economic_results/o_info/dataframes/1_1_1/all/gaussian/matrix_Basic Materials.csv\", index_col=0)\n",
    "df_financials = pd.read_csv(\"./results/economic_results/o_info/dataframes/1_1_1/all/gaussian/matrix_Financials.csv\", index_col=0)\n",
    "df_consumer_services = pd.read_csv(\"./results/economic_results/o_info/dataframes/1_1_1/all/gaussian/matrix_Consumer Services.csv\", index_col=0)\n",
    "df_health_care = pd.read_csv(\"./results/economic_results/o_info/dataframes/1_1_1/all/gaussian/matrix_Health Care.csv\", index_col=0)\n",
    "df_utilities = pd.read_csv(\"./results/economic_results/o_info/dataframes/1_1_1/all/gaussian/matrix_Utilities.csv\", index_col=0)\n",
    "df_oil_gas = pd.read_csv(\"./results/economic_results/o_info/dataframes/1_1_1/all/gaussian/matrix_Oil & Gas.csv\", index_col=0)\n",
    "df_consumer_goods = pd.read_csv(\"./results/economic_results/o_info/dataframes/1_1_1/all/gaussian/matrix_Consumer Goods.csv\", index_col=0)\n",
    "\n",
    "diz_matrix = {\n",
    "    \"Industrials\": df_industrials,\n",
    "    \"Basic Materials\": df_basic_materials,\n",
    "    \"Financials\": df_financials,\n",
    "    \"Consumer Services\": df_consumer_services,\n",
    "    \"Health Care\": df_health_care,\n",
    "    \"Utilities\": df_utilities,\n",
    "    \"Oil & Gas\": df_oil_gas,\n",
    "    \"Consumer Goods\": df_consumer_goods,\n",
    "}"
   ]
  },
  {
   "cell_type": "code",
   "execution_count": null,
   "metadata": {},
   "outputs": [],
   "source": [
    "for sector in sectors:\n",
    "    sns.heatmap(diz_matrix[sector])\n",
    "    \n",
    "    plt.xlabel(\"Source\")\n",
    "    plt.ylabel(\"Target\")\n",
    "    plt.title(f\"1 in {sector}, 1 in Target, 1 in Source\")\n",
    "    \n",
    "    plt.savefig(\n",
    "        f\"./results/economic_results/o_info/images/1_1_1/all/gaussian/heatmap_matrix_{sector}.pdf\",\n",
    "        dpi=600,\n",
    "        bbox_inches=\"tight\",\n",
    "    )\n",
    "    \n",
    "    plt.show()"
   ]
  },
  {
   "cell_type": "markdown",
   "metadata": {},
   "source": [
    "<a name=\"o_info_1_1_1_matrix_all_triplets\"></a>\n",
    "#### All number of triplets"
   ]
  },
  {
   "cell_type": "code",
   "execution_count": null,
   "metadata": {
    "scrolled": true
   },
   "outputs": [],
   "source": [
    "# DO NOT RUN IF YOU ALREADY HAVE THE DATA\n",
    "\n",
    "for target in sectors:\n",
    "    oinfo_one_sector = get_o_infos_same(target, binarized_financial_ts, total=True)\n",
    "    np.save(\n",
    "        f\"./results/economic_results/o_info/metrics/3/all/all_triplets/one_sector_{target}.npy\",\n",
    "        oinfo_one_sector,\n",
    "    )"
   ]
  },
  {
   "cell_type": "code",
   "execution_count": null,
   "metadata": {
    "scrolled": true
   },
   "outputs": [],
   "source": [
    "# DO NOT RUN IF YOU ALREADY HAVE THE DATA\n",
    "\n",
    "for target in sectors:\n",
    "    other_sectors = [sector for sector in sectors if sector != target]\n",
    "    for i, sector in enumerate(other_sectors):\n",
    "        \n",
    "        oinfo_two_sectors = get_o_infos_two_different(\n",
    "            target, sector, binarized_financial_ts, total=True\n",
    "        )\n",
    "        np.save(\n",
    "            f\"./results/economic_results/o_info/metrics/2_1/all/all_triplets/one_sector_{target}_two_sector_{sector}.npy\",\n",
    "            oinfo_two_sectors,\n",
    "        )"
   ]
  },
  {
   "cell_type": "code",
   "execution_count": null,
   "metadata": {
    "scrolled": true
   },
   "outputs": [],
   "source": [
    "# DO NOT RUN IF YOU ALREADY HAVE THE DATA\n",
    "\n",
    "for target in sectors:\n",
    "    other_sectors = [sector for sector in sectors if sector != target]\n",
    "    for sector1 in other_sectors:\n",
    "        other_sectors2 = [sector for sector in other_sectors if sector != sector1]\n",
    "        for sector2 in other_sectors2:\n",
    "\n",
    "            oinfo_three_sectors = get_o_infos_three_different(\n",
    "                target, sector1, sector2, binarized_financial_ts, total=True\n",
    "            )\n",
    "            np.save(\n",
    "                f\"./results/economic_results/o_info/metrics/1_1_1/all/all_triplets/one_sector_{target}_one_sector_{sector1}_one_sector_{sector2}.npy\",\n",
    "                oinfo_three_sectors,\n",
    "            )"
   ]
  },
  {
   "cell_type": "code",
   "execution_count": null,
   "metadata": {},
   "outputs": [],
   "source": [
    "# DO NOT RUN IF YOU ALREADY HAVE THE DATAFRAMES\n",
    "\n",
    "for target1 in sectors:\n",
    "    df_matrix = pd.DataFrame(\n",
    "        columns=[\n",
    "            \"Industrials\",\n",
    "            \"Basic Materials\",\n",
    "            \"Financials\",\n",
    "            \"Consumer Services\",\n",
    "            \"Health Care\",\n",
    "            \"Utilities\",\n",
    "            \"Oil & Gas\",\n",
    "            \"Consumer Goods\",\n",
    "        ]\n",
    "    )\n",
    "    for target2 in sectors:\n",
    "        for source in sectors:\n",
    "\n",
    "            if target2 == target1 and source == target1:\n",
    "                oinfo_one_sector = np.load(\n",
    "                    f\"./results/economic_results/o_info/metrics/3/all/all_triplets/one_sector_{target2}.npy\"\n",
    "                )\n",
    "                df_matrix.at[target2, source] = np.mean(oinfo_one_sector)\n",
    "\n",
    "            elif target2 == target1 and source != target1:\n",
    "                oinfo_two_sectors = np.load(\n",
    "                    f\"./results/economic_results/o_info/metrics/2_1/all/all_triplets/one_sector_{source}_two_sector_{target2}.npy\"\n",
    "                )\n",
    "                df_matrix.at[target2, source] = np.mean(oinfo_two_sectors)\n",
    "\n",
    "            elif target2 != target1 and source == target1:\n",
    "                oinfo_two_sectors = np.load(\n",
    "                    f\"./results/economic_results/o_info/metrics/2_1/all/all_triplets/one_sector_{target2}_two_sector_{source}.npy\"\n",
    "                )\n",
    "                df_matrix.at[target2, source] = np.mean(oinfo_two_sectors)\n",
    "\n",
    "            elif target2 != target1 and source == target2:\n",
    "                oinfo_two_sectors = np.load(\n",
    "                    f\"./results/economic_results/o_info/metrics/2_1/all/all_triplets/one_sector_{target1}_two_sector_{target2}.npy\"\n",
    "                )\n",
    "                df_matrix.at[target2, source] = np.mean(oinfo_two_sectors)\n",
    "\n",
    "            elif target2 != target1 and source != target2:\n",
    "                oinfo_three_sectors = np.load(\n",
    "                    f\"./results/economic_results/o_info/metrics/1_1_1/all/all_triplets/one_sector_{target1}_one_sector_{target2}_one_sector_{source}.npy\"\n",
    "                )\n",
    "                df_matrix.at[target2, source] = np.mean(oinfo_three_sectors)\n",
    "\n",
    "        df_matrix.to_csv(f\"./results/economic_results/o_info/dataframes/1_1_1/all/all_triplets/matrix_{target1}.csv\", index=True)"
   ]
  },
  {
   "cell_type": "code",
   "execution_count": null,
   "metadata": {},
   "outputs": [],
   "source": [
    "df_industrials = pd.read_csv(\"./results/economic_results/o_info/dataframes/1_1_1/all/all_triplets/matrix_Industrials.csv\", index_col=0)\n",
    "df_basic_materials = pd.read_csv(\"./results/economic_results/o_info/dataframes/1_1_1/all/all_triplets/matrix_Basic Materials.csv\", index_col=0)\n",
    "df_financials = pd.read_csv(\"./results/economic_results/o_info/dataframes/1_1_1/all/all_triplets/matrix_Financials.csv\", index_col=0)\n",
    "df_consumer_services = pd.read_csv(\"./results/economic_results/o_info/dataframes/1_1_1/all/all_triplets/matrix_Consumer Services.csv\", index_col=0)\n",
    "df_health_care = pd.read_csv(\"./results/economic_results/o_info/dataframes/1_1_1/all/all_triplets/matrix_Health Care.csv\", index_col=0)\n",
    "df_utilities = pd.read_csv(\"./results/economic_results/o_info/dataframes/1_1_1/all/all_triplets/matrix_Utilities.csv\", index_col=0)\n",
    "df_oil_gas = pd.read_csv(\"./results/economic_results/o_info/dataframes/1_1_1/all/all_triplets/matrix_Oil & Gas.csv\", index_col=0)\n",
    "df_consumer_goods = pd.read_csv(\"./results/economic_results/o_info/dataframes/1_1_1/all/all_triplets/matrix_Consumer Goods.csv\", index_col=0)\n",
    "\n",
    "diz_matrix = {\n",
    "    \"Industrials\": df_industrials,\n",
    "    \"Basic Materials\": df_basic_materials,\n",
    "    \"Financials\": df_financials,\n",
    "    \"Consumer Services\": df_consumer_services,\n",
    "    \"Health Care\": df_health_care,\n",
    "    \"Utilities\": df_utilities,\n",
    "    \"Oil & Gas\": df_oil_gas,\n",
    "    \"Consumer Goods\": df_consumer_goods,\n",
    "}"
   ]
  },
  {
   "cell_type": "code",
   "execution_count": null,
   "metadata": {},
   "outputs": [],
   "source": [
    "for sector in sectors:\n",
    "    sns.heatmap(diz_matrix[sector])\n",
    "    \n",
    "    plt.xlabel(\"Source\")\n",
    "    plt.ylabel(\"Target\")\n",
    "    plt.title(f\"1 in {sector}, 1 in Target, 1 in Source\")\n",
    "    \n",
    "    plt.savefig(\n",
    "        f\"./results/economic_results/o_info/images/1_1_1/all/all_triplets/heatmap_matrix_{sector}.pdf\",\n",
    "        dpi=600,\n",
    "        bbox_inches=\"tight\",\n",
    "    )\n",
    "    \n",
    "    plt.show()"
   ]
  },
  {
   "cell_type": "markdown",
   "metadata": {},
   "source": [
    "<a name=\"o_info_1_1_1_one_year\"></a>\n",
    "#### One year"
   ]
  },
  {
   "cell_type": "code",
   "execution_count": null,
   "metadata": {},
   "outputs": [],
   "source": [
    "financial_ts[\"Date\"] = pd.to_datetime(financial_ts[\"Date\"])\n",
    "years = financial_ts[\"Date\"].dt.year.unique()[1:]\n",
    "\n",
    "diz_years = {}\n",
    "\n",
    "for year in years:\n",
    "    df_year = financial_ts[financial_ts[\"Date\"].dt.year == year]\n",
    "    diz_years[year] = df_year"
   ]
  },
  {
   "cell_type": "code",
   "execution_count": null,
   "metadata": {},
   "outputs": [],
   "source": [
    "tw = 7\n",
    "diz_years_bin = {}\n",
    "    \n",
    "for year in years:\n",
    "    diz_years_bin[year] = binarize_df(diz_years[year], tw)"
   ]
  },
  {
   "cell_type": "code",
   "execution_count": null,
   "metadata": {},
   "outputs": [],
   "source": [
    "# DO NOT RUN IF YOU ALREADY HAVE THE DATA\n",
    "\n",
    "for year in years:\n",
    "    for target in sectors:\n",
    "        other_sectors = [sector for sector in sectors if sector != target]\n",
    "        for sector1 in other_sectors:\n",
    "            other_sectors2 = [sector for sector in other_sectors if sector != sector1]\n",
    "            for sector2 in other_sectors2:\n",
    "\n",
    "                oinfo_three_sectors = get_o_infos_three_different(\n",
    "                    target, sector1, sector2, diz_years_bin[year]\n",
    "                )\n",
    "                np.save(\n",
    "                    f\"./results/economic_results/o_info/metrics/1_1_1/one_year/one_sector_{target}_one_sector_{sector1}_one_sector_{sector2}_year_{year}.npy\",\n",
    "                    oinfo_three_sectors,\n",
    "                )"
   ]
  },
  {
   "cell_type": "code",
   "execution_count": null,
   "metadata": {},
   "outputs": [],
   "source": [
    "# DO NOT RUN IF YOU ALREADY HAVE THE DATAFRAMES\n",
    "\n",
    "for target1 in sectors:\n",
    "    for target2 in sectors:\n",
    "        df_one_year = pd.DataFrame(columns=years)\n",
    "        for year in years:\n",
    "            for source in sectors:\n",
    "\n",
    "                if target2 == target1 and source == target1:\n",
    "                    oinfo_one_sector = np.load(\n",
    "                        f\"./results/economic_results/o_info/metrics/3/one_year/one_sector_{target2}_year_{year}.npy\"\n",
    "                    )\n",
    "                    df_one_year.at[source, year] = np.mean(oinfo_one_sector)\n",
    "\n",
    "                elif target2 == target1 and source != target1:\n",
    "                    oinfo_two_sectors = np.load(\n",
    "                        f\"./results/economic_results/o_info/metrics/2_1/one_year/one_sector_{source}_two_sector_{target2}_year_{year}.npy\"\n",
    "                    )\n",
    "                    df_one_year.at[source, year] = np.mean(oinfo_two_sectors)\n",
    "\n",
    "                elif target2 != target1 and source == target1:\n",
    "                    oinfo_two_sectors = np.load(\n",
    "                        f\"./results/economic_results/o_info/metrics/2_1/one_year/one_sector_{target2}_two_sector_{source}_year_{year}.npy\"\n",
    "                    )\n",
    "                    df_one_year.at[source, year] = np.mean(oinfo_two_sectors)\n",
    "\n",
    "                elif target2 != target1 and source == target2:\n",
    "                    oinfo_two_sectors = np.load(\n",
    "                        f\"./results/economic_results/o_info/metrics/2_1/one_year/one_sector_{target1}_two_sector_{target2}_year_{year}.npy\"\n",
    "                    )\n",
    "                    df_one_year.at[source, year] = np.mean(oinfo_two_sectors)\n",
    "\n",
    "                elif target2 != target1 and source != target2:\n",
    "                    oinfo_three_sectors = np.load(\n",
    "                        f\"./results/economic_results/o_info/metrics/1_1_1/one_year/one_sector_{target1}_one_sector_{target2}_one_sector_{source}_year_{year}.npy\"\n",
    "                    )\n",
    "                    df_one_year.at[source, year] = np.mean(oinfo_three_sectors)\n",
    "\n",
    "        df_one_year.to_csv(\n",
    "            f\"./results/economic_results/o_info/dataframes/1_1_1/one_year/dataframe_{target1}_{target2}.csv\",\n",
    "            index=True,\n",
    "        )"
   ]
  },
  {
   "cell_type": "code",
   "execution_count": null,
   "metadata": {
    "scrolled": true
   },
   "outputs": [],
   "source": [
    "# DO NOT RUN IF YOU ALREADY HAVE THE HEATMAPS\n",
    "\n",
    "for target1 in sectors:\n",
    "    for target2 in sectors:\n",
    "\n",
    "        df = pd.read_csv(\n",
    "            f\"./results/economic_results/o_info/dataframes/1_1_1/one_year/dataframe_{target1}_{target2}.csv\",\n",
    "            index_col=0,\n",
    "        )\n",
    "\n",
    "        sns.heatmap(df)\n",
    "\n",
    "        plt.axvline(x=1.5, color=\"yellow\", linestyle=\"--\", label=\"twin towers\")\n",
    "        plt.axvline(x=8.5, color=\"blue\", linestyle=\"--\", label=\"financial crisis\")\n",
    "        plt.axvline(x=9.5, color=\"green\", linestyle=\"--\", label=\"Obama president\")\n",
    "        plt.axvline(x=17.5, color=\"brown\", linestyle=\"--\", label=\"Trump president\")\n",
    "        plt.axvline(x=11.5, color=\"darkorchid\", linestyle=\"--\", label=\"Crisi debito sovrano Europa / Quantitative easing USA\")\n",
    "        plt.axvline(x=19.5, color=\"pink\", linestyle=\"--\", label=\"covid-19\")\n",
    "        plt.axvline(x=21.5, color=\"cyan\", linestyle=\"--\", label=\"Biden president\")\n",
    "\n",
    "        plt.xlabel(\"Year\")\n",
    "        plt.ylabel(\"Source\")\n",
    "        plt.title(f\"1 in {target1}, 1 in {target2}, 1 in source (O-info)\")\n",
    "\n",
    "        # plt.legend()\n",
    "\n",
    "        plt.savefig(\n",
    "            f\"./results/economic_results/o_info/images/1_1_1/one_year/heatmap_{target1}_{target2}.pdf\",\n",
    "            dpi=600,\n",
    "            bbox_inches=\"tight\",\n",
    "        )\n",
    "\n",
    "        plt.show()"
   ]
  },
  {
   "cell_type": "markdown",
   "metadata": {},
   "source": [
    "<a name=\"o_info_1_1_1_one_year_gaussian\"></a>\n",
    "##### Gaussian distribution"
   ]
  },
  {
   "cell_type": "code",
   "execution_count": null,
   "metadata": {},
   "outputs": [],
   "source": [
    "financial_ts_gauss[\"Date\"] = pd.to_datetime(financial_ts_gauss[\"Date\"])\n",
    "years = financial_ts_gauss[\"Date\"].dt.year.unique()[1:]\n",
    "\n",
    "diz_years = {}\n",
    "\n",
    "for year in years:\n",
    "    df_year = financial_ts_gauss[financial_ts_gauss[\"Date\"].dt.year == year]\n",
    "    diz_years[year] = df_year"
   ]
  },
  {
   "cell_type": "code",
   "execution_count": null,
   "metadata": {},
   "outputs": [],
   "source": [
    "tw = 7\n",
    "diz_one_year_gaussian_bin = {}\n",
    "    \n",
    "for year in years:\n",
    "    diz_one_year_gaussian_bin[year] = binarize_df(diz_years[year], tw)"
   ]
  },
  {
   "cell_type": "code",
   "execution_count": null,
   "metadata": {
    "scrolled": true
   },
   "outputs": [],
   "source": [
    "# DO NOT RUN IF YOU ALREADY HAVE THE DATA\n",
    "\n",
    "# 3\n",
    "for year in years:\n",
    "    for target in sectors:\n",
    "        oinfo_one_sector = get_o_infos_same(target, diz_one_year_gaussian_bin[year])\n",
    "        np.save(\n",
    "            f\"./results/economic_results/o_info/metrics/3/one_year/gaussian/one_sector_{target}_year_{year}.npy\",\n",
    "            oinfo_one_sector,\n",
    "        )"
   ]
  },
  {
   "cell_type": "code",
   "execution_count": null,
   "metadata": {
    "scrolled": true
   },
   "outputs": [],
   "source": [
    "# DO NOT RUN IF YOU ALREADY HAVE THE DATA\n",
    "\n",
    "# 2 vs 1\n",
    "for year in years:\n",
    "    for target in sectors:\n",
    "        other_sectors = [sector for sector in sectors if sector != target]\n",
    "        for i, sector in enumerate(other_sectors):\n",
    "\n",
    "            oinfo_two_sectors = get_o_infos_two_different(\n",
    "                target, sector, diz_one_year_gaussian_bin[year]\n",
    "            )\n",
    "            np.save(\n",
    "                f\"./results/economic_results/o_info/metrics/2_1/one_year/gaussian/one_sector_{target}_two_sector_{sector}_year_{year}.npy\",\n",
    "                oinfo_two_sectors,\n",
    "            )"
   ]
  },
  {
   "cell_type": "code",
   "execution_count": null,
   "metadata": {},
   "outputs": [],
   "source": [
    "# DO NOT RUN IF YOU ALREADY HAVE THE DATA\n",
    "\n",
    "# 1 vs 1 vs 1\n",
    "for year in years:\n",
    "    for target in sectors:\n",
    "        other_sectors = [sector for sector in sectors if sector != target]\n",
    "        for sector1 in other_sectors:\n",
    "            other_sectors2 = [sector for sector in other_sectors if sector != sector1]\n",
    "            for sector2 in other_sectors2:\n",
    "\n",
    "                oinfo_three_sectors = get_o_infos_three_different(\n",
    "                    target, sector1, sector2, diz_one_year_gaussian_bin[year]\n",
    "                )\n",
    "                np.save(\n",
    "                    f\"./results/economic_results/o_info/metrics/1_1_1/one_year/gaussian/one_sector_{target}_one_sector_{sector1}_one_sector_{sector2}_year_{year}.npy\",\n",
    "                    oinfo_three_sectors,\n",
    "                )"
   ]
  },
  {
   "cell_type": "code",
   "execution_count": null,
   "metadata": {},
   "outputs": [],
   "source": [
    "# DO NOT RUN IF YOU ALREADY HAVE THE DATAFRAMES\n",
    "\n",
    "for target1 in sectors:\n",
    "    for target2 in sectors:\n",
    "        df_one_year = pd.DataFrame(columns=years)\n",
    "        for year in years:\n",
    "            for source in sectors:\n",
    "\n",
    "                if target2 == target1 and source == target1:\n",
    "                    oinfo_one_sector = np.load(\n",
    "                        f\"./results/economic_results/o_info/metrics/3/one_year/gaussian/one_sector_{target2}_year_{year}.npy\"\n",
    "                    )\n",
    "                    df_one_year.at[source, year] = np.mean(oinfo_one_sector)\n",
    "\n",
    "                elif target2 == target1 and source != target1:\n",
    "                    oinfo_two_sectors = np.load(\n",
    "                        f\"./results/economic_results/o_info/metrics/2_1/one_year/gaussian/one_sector_{source}_two_sector_{target2}_year_{year}.npy\"\n",
    "                    )\n",
    "                    df_one_year.at[source, year] = np.mean(oinfo_two_sectors)\n",
    "\n",
    "                elif target2 != target1 and source == target1:\n",
    "                    oinfo_two_sectors = np.load(\n",
    "                        f\"./results/economic_results/o_info/metrics/2_1/one_year/gaussian/one_sector_{target2}_two_sector_{source}_year_{year}.npy\"\n",
    "                    )\n",
    "                    df_one_year.at[source, year] = np.mean(oinfo_two_sectors)\n",
    "\n",
    "                elif target2 != target1 and source == target2:\n",
    "                    oinfo_two_sectors = np.load(\n",
    "                        f\"./results/economic_results/o_info/metrics/2_1/one_year/gaussian/one_sector_{target1}_two_sector_{target2}_year_{year}.npy\"\n",
    "                    )\n",
    "                    df_one_year.at[source, year] = np.mean(oinfo_two_sectors)\n",
    "\n",
    "                elif target2 != target1 and source != target2:\n",
    "                    oinfo_three_sectors = np.load(\n",
    "                        f\"./results/economic_results/o_info/metrics/1_1_1/one_year/gaussian/one_sector_{target1}_one_sector_{target2}_one_sector_{source}_year_{year}.npy\"\n",
    "                    )\n",
    "                    df_one_year.at[source, year] = np.mean(oinfo_three_sectors)\n",
    "\n",
    "        df_one_year.to_csv(\n",
    "            f\"./results/economic_results/o_info/dataframes/1_1_1/one_year/gaussian/dataframe_{target1}_{target2}.csv\",\n",
    "            index=True,\n",
    "        )"
   ]
  },
  {
   "cell_type": "code",
   "execution_count": null,
   "metadata": {},
   "outputs": [],
   "source": [
    "# DO NOT RUN IF YOU ALREADY HAVE THE HEATMAPS\n",
    "\n",
    "for target1 in sectors:\n",
    "    for target2 in sectors:\n",
    "\n",
    "        df = pd.read_csv(\n",
    "            f\"./results/economic_results/o_info/dataframes/1_1_1/one_year/gaussian/dataframe_{target1}_{target2}.csv\",\n",
    "            index_col=0,\n",
    "        )\n",
    "\n",
    "        sns.heatmap(df)\n",
    "\n",
    "        plt.axvline(x=1.5, color=\"yellow\", linestyle=\"--\", label=\"twin towers\")\n",
    "        plt.axvline(x=8.5, color=\"blue\", linestyle=\"--\", label=\"financial crisis\")\n",
    "        plt.axvline(x=9.5, color=\"green\", linestyle=\"--\", label=\"Obama president\")\n",
    "        plt.axvline(x=17.5, color=\"brown\", linestyle=\"--\", label=\"Trump president\")\n",
    "        plt.axvline(x=11.5, color=\"darkorchid\", linestyle=\"--\", label=\"Crisi debito sovrano Europa / Quantitative easing USA\")\n",
    "        plt.axvline(x=19.5, color=\"pink\", linestyle=\"--\", label=\"covid-19\")\n",
    "        plt.axvline(x=21.5, color=\"cyan\", linestyle=\"--\", label=\"Biden president\")\n",
    "\n",
    "        plt.xlabel(\"Year\")\n",
    "        plt.ylabel(\"Source\")\n",
    "        plt.title(f\"Gaussian: 1 in {target1}, 1 in {target2}, 1 in source (O-info)\")\n",
    "\n",
    "        # plt.legend()\n",
    "\n",
    "        plt.savefig(\n",
    "            f\"./results/economic_results/o_info/images/1_1_1/one_year/gaussian/heatmap_{target1}_{target2}.pdf\",\n",
    "            dpi=600,\n",
    "            bbox_inches=\"tight\",\n",
    "        )\n",
    "\n",
    "        plt.show()"
   ]
  },
  {
   "cell_type": "markdown",
   "metadata": {},
   "source": [
    "<a name=\"o_info_1_1_1_one_year_all_triplets\"></a>\n",
    "##### All number of triplets"
   ]
  },
  {
   "cell_type": "code",
   "execution_count": null,
   "metadata": {},
   "outputs": [],
   "source": [
    "financial_ts[\"Date\"] = pd.to_datetime(financial_ts[\"Date\"])\n",
    "\n",
    "years = financial_ts[\"Date\"].dt.year.unique()[1:]\n",
    "\n",
    "diz_years = {}\n",
    "\n",
    "for year in years:\n",
    "    df_year = financial_ts[financial_ts[\"Date\"].dt.year == year]\n",
    "\n",
    "    diz_years[year] = df_year"
   ]
  },
  {
   "cell_type": "code",
   "execution_count": null,
   "metadata": {},
   "outputs": [],
   "source": [
    "tw = 7\n",
    "diz_years_bin = {}\n",
    "    \n",
    "for year in years:\n",
    "    diz_years_bin[year] = binarize_df(diz_years[year], tw)"
   ]
  },
  {
   "cell_type": "code",
   "execution_count": null,
   "metadata": {},
   "outputs": [],
   "source": [
    "# DO NOT RUN IF YOU ALREADY HAVE THE DATA\n",
    "\n",
    "for year in years:\n",
    "    for target in sectors:\n",
    "        oinfo_one_sector = get_o_infos_same(target, diz_years_bin[year], total=True)\n",
    "        np.save(\n",
    "            f\"./results/economic_results/o_info/metrics/3/one_year/all_triplets/one_sector_{target}_year_{year}.npy\",\n",
    "            oinfo_one_sector,\n",
    "        )"
   ]
  },
  {
   "cell_type": "code",
   "execution_count": null,
   "metadata": {},
   "outputs": [],
   "source": [
    "# DO NOT RUN IF YOU ALREADY HAVE THE DATA\n",
    "\n",
    "for year in years:\n",
    "    for target in sectors:\n",
    "        other_sectors = [sector for sector in sectors if sector != target]\n",
    "        for i, sector in enumerate(other_sectors):\n",
    "\n",
    "            oinfo_two_sectors = get_o_infos_two_different(\n",
    "                target, sector, diz_years_bin[year], total=True\n",
    "            )\n",
    "            np.save(\n",
    "                f\"./results/economic_results/o_info/metrics/2_1/one_year/all_triplets/one_sector_{target}_two_sector_{sector}_year_{year}.npy\",\n",
    "                oinfo_two_sectors,\n",
    "            )"
   ]
  },
  {
   "cell_type": "code",
   "execution_count": null,
   "metadata": {
    "scrolled": true
   },
   "outputs": [],
   "source": [
    "# DO NOT RUN IF YOU ALREADY HAVE THE DATA\n",
    "\n",
    "for year in years:\n",
    "    for target in sectors:\n",
    "        other_sectors = [sector for sector in sectors if sector != target]\n",
    "        for sector1 in other_sectors:\n",
    "            other_sectors2 = [sector for sector in other_sectors if sector != sector1]\n",
    "            for sector2 in other_sectors2:\n",
    "\n",
    "                oinfo_three_sectors = get_o_infos_three_different(\n",
    "                    target, sector1, sector2, diz_years_bin[year], total=True\n",
    "                )\n",
    "                np.save(\n",
    "                    f\"./results/economic_results/o_info/metrics/1_1_1/one_year/all_triplets/one_sector_{target}_one_sector_{sector1}_one_sector_{sector2}_year_{year}.npy\",\n",
    "                    oinfo_three_sectors,\n",
    "                )"
   ]
  },
  {
   "cell_type": "code",
   "execution_count": null,
   "metadata": {},
   "outputs": [],
   "source": [
    "# DO NOT RUN IF YOU ALREADY HAVE THE DATAFRAMES\n",
    "\n",
    "for target1 in sectors:\n",
    "    for target2 in sectors:\n",
    "        df_one_year = pd.DataFrame(columns=years)\n",
    "        for year in years:\n",
    "            for source in sectors:\n",
    "\n",
    "                if target2 == target1 and source == target1:\n",
    "                    oinfo_one_sector = np.load(\n",
    "                        f\"./results/economic_results/o_info/metrics/3/one_year/all_triplets/one_sector_{target2}_year_{year}.npy\"\n",
    "                    )\n",
    "                    df_one_year.at[source, year] = np.mean(oinfo_one_sector)\n",
    "\n",
    "                elif target2 == target1 and source != target1:\n",
    "                    oinfo_two_sectors = np.load(\n",
    "                        f\"./results/economic_results/o_info/metrics/2_1/one_year/all_triplets/one_sector_{source}_two_sector_{target2}_year_{year}.npy\"\n",
    "                    )\n",
    "                    df_one_year.at[source, year] = np.mean(oinfo_two_sectors)\n",
    "\n",
    "                elif target2 != target1 and source == target1:\n",
    "                    oinfo_two_sectors = np.load(\n",
    "                        f\"./results/economic_results/o_info/metrics/2_1/one_year/all_triplets/one_sector_{target2}_two_sector_{source}_year_{year}.npy\"\n",
    "                    )\n",
    "                    df_one_year.at[source, year] = np.mean(oinfo_two_sectors)\n",
    "\n",
    "                elif target2 != target1 and source == target2:\n",
    "                    oinfo_two_sectors = np.load(\n",
    "                        f\"./results/economic_results/o_info/metrics/2_1/one_year/all_triplets/one_sector_{target1}_two_sector_{target2}_year_{year}.npy\"\n",
    "                    )\n",
    "                    df_one_year.at[source, year] = np.mean(oinfo_two_sectors)\n",
    "\n",
    "                elif target2 != target1 and source != target2:\n",
    "                    oinfo_three_sectors = np.load(\n",
    "                        f\"./results/economic_results/o_info/metrics/1_1_1/one_year/all_triplets/one_sector_{target1}_one_sector_{target2}_one_sector_{source}_year_{year}.npy\"\n",
    "                    )\n",
    "                    df_one_year.at[source, year] = np.mean(oinfo_three_sectors)\n",
    "\n",
    "        df_one_year.to_csv(\n",
    "            f\"./results/economic_results/o_info/dataframes/1_1_1/one_year/all_triplets/dataframe_{target1}_{target2}.csv\",\n",
    "            index=True,\n",
    "        )"
   ]
  },
  {
   "cell_type": "code",
   "execution_count": null,
   "metadata": {},
   "outputs": [],
   "source": [
    "# DO NOT RUN IF YOU ALREADY HAVE THE HEATMAPS\n",
    "\n",
    "for target1 in sectors:\n",
    "    for target2 in sectors:\n",
    "\n",
    "        df = pd.read_csv(\n",
    "            f\"./results/economic_results/o_info/dataframes/1_1_1/one_year/all_triplets/dataframe_{target1}_{target2}.csv\",\n",
    "            index_col=0,\n",
    "        )\n",
    "\n",
    "        sns.heatmap(df)\n",
    "\n",
    "        plt.axvline(x=1.5, color=\"yellow\", linestyle=\"--\", label=\"twin towers\")\n",
    "        plt.axvline(x=8.5, color=\"blue\", linestyle=\"--\", label=\"financial crisis\")\n",
    "        plt.axvline(x=9.5, color=\"green\", linestyle=\"--\", label=\"Obama president\")\n",
    "        plt.axvline(x=17.5, color=\"brown\", linestyle=\"--\", label=\"Trump president\")\n",
    "        plt.axvline(x=11.5, color=\"darkorchid\", linestyle=\"--\", label=\"Crisi debito sovrano Europa / Quantitative easing USA\")\n",
    "        plt.axvline(x=19.5, color=\"pink\", linestyle=\"--\", label=\"covid-19\")\n",
    "        plt.axvline(x=21.5, color=\"cyan\", linestyle=\"--\", label=\"Biden president\")\n",
    "\n",
    "        plt.xlabel(\"Year\")\n",
    "        plt.ylabel(\"Source\")\n",
    "        plt.title(f\"1 in {target1}, 1 in {target2}, 1 in source (O-info)\")\n",
    "\n",
    "        # plt.legend()\n",
    "\n",
    "        plt.savefig(\n",
    "            f\"./results/economic_results/o_info/images/1_1_1/one_year/all_triplets/heatmap_{target1}_{target2}.pdf\",\n",
    "            dpi=600,\n",
    "            bbox_inches=\"tight\",\n",
    "        )\n",
    "\n",
    "        plt.show()"
   ]
  },
  {
   "cell_type": "code",
   "execution_count": null,
   "metadata": {},
   "outputs": [],
   "source": []
  },
  {
   "cell_type": "code",
   "execution_count": null,
   "metadata": {},
   "outputs": [],
   "source": []
  },
  {
   "cell_type": "code",
   "execution_count": null,
   "metadata": {},
   "outputs": [],
   "source": []
  },
  {
   "cell_type": "markdown",
   "metadata": {},
   "source": [
    "<a name=\"o_info_1_1_1_two_years\"></a>\n",
    "#### Two years"
   ]
  },
  {
   "cell_type": "code",
   "execution_count": null,
   "metadata": {},
   "outputs": [],
   "source": [
    "# I remove 1999\n",
    "years = financial_ts[\"Date\"].dt.year.unique()[1:]\n",
    "\n",
    "diz_years = {}\n",
    "\n",
    "for year in years:\n",
    "    df_year = financial_ts[financial_ts[\"Date\"].dt.year == year]\n",
    "    diz_years[year] = df_year\n",
    "    \n",
    "diz_two_years = {}\n",
    "\n",
    "for i in range(0, len(years), 2):\n",
    "    start_year = years[i]\n",
    "    end_year = years[i + 1]\n",
    "    combined_key = f\"{start_year}_{end_year}\"\n",
    "    \n",
    "    combined_df = pd.concat([diz_years[start_year], diz_years[end_year]])\n",
    "    \n",
    "    diz_two_years[combined_key] = combined_df"
   ]
  },
  {
   "cell_type": "code",
   "execution_count": null,
   "metadata": {},
   "outputs": [],
   "source": [
    "tw = 7\n",
    "diz_two_years_bin = {}\n",
    "years = diz_two_years.keys()\n",
    "\n",
    "for year in years:\n",
    "    diz_two_years_bin[year] = binarize_df(diz_two_years[year], tw)"
   ]
  },
  {
   "cell_type": "code",
   "execution_count": null,
   "metadata": {},
   "outputs": [],
   "source": [
    "# DO NOT RUN IF YOU ALREADY HAVE THE DATA\n",
    "\n",
    "for year in years:\n",
    "    for target in sectors:\n",
    "        other_sectors = [sector for sector in sectors if sector != target]\n",
    "        for sector1 in other_sectors:\n",
    "            other_sectors2 = [sector for sector in other_sectors if sector != sector1]\n",
    "            for sector2 in other_sectors2:\n",
    "\n",
    "                oinfo_three_sectors = get_o_infos_three_different(\n",
    "                    target, sector1, sector2, diz_two_years_bin[year]\n",
    "                )\n",
    "                np.save(\n",
    "                    f\"./results/economic_results/o_info/metrics/1_1_1/two_years/one_sector_{target}_one_sector_{sector1}_one_sector_{sector2}_years_{year}.npy\",\n",
    "                    oinfo_three_sectors,\n",
    "                )"
   ]
  },
  {
   "cell_type": "code",
   "execution_count": null,
   "metadata": {},
   "outputs": [],
   "source": [
    "# DO NOT RUN IF YOU ALREADY HAVE THE DATAFRAMES\n",
    "\n",
    "for target1 in sectors:\n",
    "    for target2 in sectors:\n",
    "        df_two_years = pd.DataFrame(columns=years)\n",
    "        for year in years:\n",
    "            for source in sectors:\n",
    "\n",
    "                if target2 == target1 and source == target1:\n",
    "                    oinfo_one_sector = np.load(\n",
    "                        f\"./results/economic_results/o_info/metrics/3/two_years/one_sector_{target2}_years_{year}.npy\"\n",
    "                    )\n",
    "                    df_two_years.at[source, year] = np.mean(oinfo_one_sector)\n",
    "\n",
    "                elif target2 == target1 and source != target1:\n",
    "                    oinfo_two_sectors = np.load(\n",
    "                        f\"./results/economic_results/o_info/metrics/2_1/two_years/one_sector_{source}_two_sector_{target2}_years_{year}.npy\"\n",
    "                    )\n",
    "                    df_two_years.at[source, year] = np.mean(oinfo_two_sectors)\n",
    "\n",
    "                elif target2 != target1 and source == target1:\n",
    "                    oinfo_two_sectors = np.load(\n",
    "                        f\"./results/economic_results/o_info/metrics/2_1/two_years/one_sector_{target2}_two_sector_{source}_years_{year}.npy\"\n",
    "                    )\n",
    "                    df_two_years.at[source, year] = np.mean(oinfo_two_sectors)\n",
    "\n",
    "                elif target2 != target1 and source == target2:\n",
    "                    oinfo_two_sectors = np.load(\n",
    "                        f\"./results/economic_results/o_info/metrics/2_1/two_years/one_sector_{target1}_two_sector_{target2}_years_{year}.npy\"\n",
    "                    )\n",
    "                    df_two_years.at[source, year] = np.mean(oinfo_two_sectors)\n",
    "\n",
    "                elif target2 != target1 and source != target2:\n",
    "                    oinfo_three_sectors = np.load(\n",
    "                        f\"./results/economic_results/o_info/metrics/1_1_1/two_years/one_sector_{target1}_one_sector_{target2}_one_sector_{source}_years_{year}.npy\"\n",
    "                    )\n",
    "                    df_two_years.at[source, year] = np.mean(oinfo_three_sectors)\n",
    "\n",
    "        df_two_years.to_csv(\n",
    "            f\"./results/economic_results/o_info/dataframes/1_1_1/two_years/dataframe_{target1}_{target2}.csv\",\n",
    "            index=True,\n",
    "        )"
   ]
  },
  {
   "cell_type": "code",
   "execution_count": null,
   "metadata": {
    "scrolled": true
   },
   "outputs": [],
   "source": [
    "# DO NOT RUN IF YOU ALREADY HAVE THE HEATMAPS\n",
    "\n",
    "for target1 in sectors:\n",
    "    for target2 in sectors:\n",
    "\n",
    "        df = pd.read_csv(\n",
    "            f\"./results/economic_results/o_info/dataframes/1_1_1/two_years/dataframe_{target1}_{target2}.csv\",\n",
    "            index_col=0,\n",
    "        )\n",
    "\n",
    "        sns.heatmap(df)\n",
    "\n",
    "        plt.xlabel(\"Year\")\n",
    "        plt.ylabel(\"Source\")\n",
    "        plt.title(f\"1 in {target1}, 1 in {target2}, 1 in source (O-info)\")\n",
    "\n",
    "        # plt.legend()\n",
    "\n",
    "        plt.savefig(\n",
    "            f\"./results/economic_results/o_info/images/1_1_1/two_years/heatmap_{target1}_{target2}.pdf\",\n",
    "            dpi=600,\n",
    "            bbox_inches=\"tight\",\n",
    "        )\n",
    "\n",
    "        plt.show()"
   ]
  },
  {
   "cell_type": "markdown",
   "metadata": {},
   "source": [
    "<a name=\"o_info_1_1_1_three_years\"></a>\n",
    "#### Three years"
   ]
  },
  {
   "cell_type": "code",
   "execution_count": null,
   "metadata": {},
   "outputs": [],
   "source": [
    "# I remove 1999 and 2021\n",
    "years = financial_ts[\"Date\"].dt.year.unique()[1:-1]\n",
    "\n",
    "diz_years = {}\n",
    "\n",
    "for year in years:\n",
    "    df_year = financial_ts[financial_ts[\"Date\"].dt.year == year]\n",
    "    diz_years[year] = df_year\n",
    "    \n",
    "diz_three_years = {}\n",
    "\n",
    "for i in range(0, len(years), 3):\n",
    "    if i + 2 < len(years):\n",
    "        start_year = years[i]\n",
    "        mid_year = years[i + 1]\n",
    "        end_year = years[i + 2]\n",
    "        combined_key = f\"{start_year}_{mid_year}_{end_year}\"\n",
    "\n",
    "        combined_df = pd.concat([diz_years[start_year], diz_years[mid_year], diz_years[end_year]])\n",
    "\n",
    "        diz_three_years[combined_key] = combined_df"
   ]
  },
  {
   "cell_type": "code",
   "execution_count": null,
   "metadata": {},
   "outputs": [],
   "source": [
    "tw = 7\n",
    "diz_three_years_bin = {}\n",
    "years = diz_three_years.keys()\n",
    "    \n",
    "for year in years:\n",
    "    diz_three_years_bin[year] = binarize_df(diz_three_years[year], tw)"
   ]
  },
  {
   "cell_type": "code",
   "execution_count": null,
   "metadata": {},
   "outputs": [],
   "source": [
    "# DO NOT RUN IF YOU ALREADY HAVE THE DATA\n",
    "\n",
    "for year in years:\n",
    "    for target in sectors:\n",
    "        other_sectors = [sector for sector in sectors if sector != target]\n",
    "        for sector1 in other_sectors:\n",
    "            other_sectors2 = [sector for sector in other_sectors if sector != sector1]\n",
    "            for sector2 in other_sectors2:\n",
    "\n",
    "                oinfo_three_sectors = get_o_infos_three_different(\n",
    "                    target, sector1, sector2, diz_three_years_bin[year]\n",
    "                )\n",
    "                np.save(\n",
    "                    f\"./results/economic_results/o_info/metrics/1_1_1/three_years/one_sector_{target}_one_sector_{sector1}_one_sector_{sector2}_years_{year}.npy\",\n",
    "                    oinfo_three_sectors,\n",
    "                )"
   ]
  },
  {
   "cell_type": "code",
   "execution_count": null,
   "metadata": {},
   "outputs": [],
   "source": [
    "# DO NOT RUN IF YOU ALREADY HAVE THE DATAFRAMES\n",
    "\n",
    "for target1 in sectors:\n",
    "    for target2 in sectors:\n",
    "        df_three_years = pd.DataFrame(columns=years)\n",
    "        for year in years:\n",
    "            for source in sectors:\n",
    "\n",
    "                if target2 == target1 and source == target1:\n",
    "                    oinfo_one_sector = np.load(\n",
    "                        f\"./results/economic_results/o_info/metrics/3/three_years/one_sector_{target2}_years_{year}.npy\"\n",
    "                    )\n",
    "                    df_three_years.at[source, year] = np.mean(oinfo_one_sector)\n",
    "\n",
    "                elif target2 == target1 and source != target1:\n",
    "                    oinfo_two_sectors = np.load(\n",
    "                        f\"./results/economic_results/o_info/metrics/2_1/three_years/one_sector_{source}_two_sector_{target2}_years_{year}.npy\"\n",
    "                    )\n",
    "                    df_three_years.at[source, year] = np.mean(oinfo_two_sectors)\n",
    "\n",
    "                elif target2 != target1 and source == target1:\n",
    "                    oinfo_two_sectors = np.load(\n",
    "                        f\"./results/economic_results/o_info/metrics/2_1/three_years/one_sector_{target2}_two_sector_{source}_years_{year}.npy\"\n",
    "                    )\n",
    "                    df_three_years.at[source, year] = np.mean(oinfo_two_sectors)\n",
    "\n",
    "                elif target2 != target1 and source == target2:\n",
    "                    oinfo_two_sectors = np.load(\n",
    "                        f\"./results/economic_results/o_info/metrics/2_1/three_years/one_sector_{target1}_two_sector_{target2}_years_{year}.npy\"\n",
    "                    )\n",
    "                    df_three_years.at[source, year] = np.mean(oinfo_two_sectors)\n",
    "\n",
    "                elif target2 != target1 and source != target2:\n",
    "                    oinfo_three_sectors = np.load(\n",
    "                        f\"./results/economic_results/o_info/metrics/1_1_1/three_years/one_sector_{target1}_one_sector_{target2}_one_sector_{source}_years_{year}.npy\"\n",
    "                    )\n",
    "                    df_three_years.at[source, year] = np.mean(oinfo_three_sectors)\n",
    "\n",
    "        df_three_years.to_csv(\n",
    "            f\"./results/economic_results/o_info/dataframes/1_1_1/three_years/dataframe_{target1}_{target2}.csv\",\n",
    "            index=True,\n",
    "        )"
   ]
  },
  {
   "cell_type": "code",
   "execution_count": null,
   "metadata": {},
   "outputs": [],
   "source": [
    "# DO NOT RUN IF YOU ALREADY HAVE THE HEATMAPS\n",
    "\n",
    "for target1 in sectors:\n",
    "    for target2 in sectors:\n",
    "\n",
    "        df = pd.read_csv(\n",
    "            f\"./results/economic_results/o_info/dataframes/1_1_1/three_years/dataframe_{target1}_{target2}.csv\",\n",
    "            index_col=0,\n",
    "        )\n",
    "\n",
    "        sns.heatmap(df)\n",
    "\n",
    "        plt.xlabel(\"Year\")\n",
    "        plt.ylabel(\"Source\")\n",
    "        plt.title(f\"1 in {target1}, 1 in {target2}, 1 in source (O-info)\")\n",
    "\n",
    "        # plt.legend()\n",
    "\n",
    "        plt.savefig(\n",
    "            f\"./results/economic_results/o_info/images/1_1_1/three_years/heatmap_{target1}_{target2}.pdf\",\n",
    "            dpi=600,\n",
    "            bbox_inches=\"tight\",\n",
    "        )\n",
    "\n",
    "        plt.show()"
   ]
  },
  {
   "cell_type": "code",
   "execution_count": null,
   "metadata": {},
   "outputs": [],
   "source": []
  }
 ],
 "metadata": {
  "kernelspec": {
   "display_name": "Python 3 (ipykernel)",
   "language": "python",
   "name": "python3"
  },
  "language_info": {
   "codemirror_mode": {
    "name": "ipython",
    "version": 3
   },
   "file_extension": ".py",
   "mimetype": "text/x-python",
   "name": "python",
   "nbconvert_exporter": "python",
   "pygments_lexer": "ipython3",
   "version": "3.10.9"
  }
 },
 "nbformat": 4,
 "nbformat_minor": 2
}
