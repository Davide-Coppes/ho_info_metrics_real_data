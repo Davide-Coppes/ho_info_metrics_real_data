{
 "cells": [
  {
   "cell_type": "markdown",
   "metadata": {},
   "source": [
    "# Total dynamical O-information"
   ]
  },
  {
   "cell_type": "markdown",
   "metadata": {},
   "source": [
    "## Index\n",
    "\n",
    "1. [Functions](#functions)\n",
    "1. [Load and binarize data](#load_binar_data)\n",
    "1. [Full length](#full_length)\n",
    "    1. [Thomas' work](#thomas_work_full)\n",
    "    1. [3 vs 1-2](#3_vs_1-2_full)\n",
    "        1. [J-S divergence](#J-S_divergence_full)\n",
    "    1. [3 vs 1-1-1](#3_vs_1-1-1_full)\n",
    "1. [Half length](#half_length)\n",
    "    1. [Thomas' work](#thomas_work_half)\n",
    "    1. [3 vs 1-2](#3_vs_1-2_half)\n",
    "        1. [J-S divergence](#J-S_divergence_half)\n",
    "    1. [3 vs 1-1-1](#3_vs_1-1-1_half)\n",
    "1. [Comparison different lengths](#comparison_lengths)\n",
    "    1. [Comparison full-half](#comparison_f_h)\n",
    "    1. [Creation dataset](#creation_dataset)\n",
    "        1. [Comparison Industrials](#comparison_industrials)\n",
    "        1. [Comparison Basic Materials](#comparison_basic_materials)\n",
    "        1. [Comparison Financials](#comparison_financials)\n",
    "        1. [Comparison Consumer Services](#comparison_consumer_services)\n",
    "        1. [Comparison Health Care](#comparison_health_care)\n",
    "        1. [Comparison Utilities](#comparison_utilities)\n",
    "        1. [Comparison Oil & Gas](#comparison_oil_gas)\n",
    "        1. [Comparison Consumer Goods](#comparison_consumer_goods)"
   ]
  },
  {
   "cell_type": "markdown",
   "metadata": {},
   "source": [
    "<a name=\"functions\"></a>\n",
    "## Functions"
   ]
  },
  {
   "cell_type": "code",
   "execution_count": 1,
   "metadata": {},
   "outputs": [],
   "source": [
    "import numpy as np\n",
    "import pandas as pd\n",
    "import matplotlib.pyplot as plt\n",
    "from itertools import combinations\n",
    "from tqdm.auto import tqdm\n",
    "import matplotlib.patches as mpatches\n",
    "import pickle\n",
    "from scipy.special import kl_div\n",
    "from scipy.stats import entropy\n",
    "\n",
    "from ho_info_metrics.metrics import *\n",
    "from ho_info_metrics.utils import *"
   ]
  },
  {
   "cell_type": "code",
   "execution_count": 2,
   "metadata": {},
   "outputs": [],
   "source": [
    "def binarize_df(df, window_size):\n",
    "    df = df.drop(columns=[\"Date\"])\n",
    "    for col in df.columns:\n",
    "        if col != \"Date\":\n",
    "            col_values = df[col].values\n",
    "            binarized_values = []\n",
    "            for i in range(len(col_values)):\n",
    "                window_start = max(0, i - window_size + 1)\n",
    "                window_mean = col_values[window_start : i + 1].mean()\n",
    "                binarized_values.append(1 if col_values[i] > window_mean else 0)\n",
    "            df[col] = binarized_values\n",
    "    return df"
   ]
  },
  {
   "cell_type": "code",
   "execution_count": 3,
   "metadata": {},
   "outputs": [],
   "source": [
    "def get_do_infos(target_sector, binarized_financial_ts):\n",
    "\n",
    "    print(\">>>\", target_sector)\n",
    "    target_stocks = list(\n",
    "        stock_names[stock_names[\"Sector\"] == target_sector][\"Stock name\"]\n",
    "    )  # tutti gli stock name il cui settore sia il target\n",
    "    print(len(target_stocks))\n",
    "    other_stocks = list(\n",
    "        stock_names[stock_names[\"Sector\"] != target_sector][\"Stock name\"]\n",
    "    )\n",
    "    print(len(other_stocks))\n",
    "\n",
    "    same_sector_triplets = list(combinations(target_stocks, 3))\n",
    "    print(len(same_sector_triplets))\n",
    "    different_sector_triplets = []\n",
    "    while len(different_sector_triplets) != len(same_sector_triplets):\n",
    "        triplet = []\n",
    "        triplet.append(np.random.choice(target_stocks))\n",
    "        triplet.append(np.random.choice(other_stocks))\n",
    "        triplet.append(np.random.choice(other_stocks))\n",
    "        different_sector_triplets.append(triplet)\n",
    "    print(len(different_sector_triplets))\n",
    "\n",
    "    doinfo_same_sector = []\n",
    "    doinfo_different_sector = []\n",
    "    bar_length = len(same_sector_triplets)\n",
    "    with tqdm(total=bar_length) as pbar:\n",
    "        pbar.set_description(\"Same sector triplets\")\n",
    "        for i in range(len(same_sector_triplets)):\n",
    "            X1 = binarized_financial_ts[same_sector_triplets[i][0]].values\n",
    "            X2 = binarized_financial_ts[same_sector_triplets[i][1]].values\n",
    "            X3 = binarized_financial_ts[same_sector_triplets[i][2]].values\n",
    "            X = np.vstack((X1, X2, X3))\n",
    "            doinfo_same_sector.append(\n",
    "                o_information_lagged_all(X, estimator=\"cat_ent\")\n",
    "            )  # calcola la total dynamical o_information della tripletta\n",
    "            pbar.update(1)\n",
    "\n",
    "    bar_length = len(different_sector_triplets)\n",
    "    with tqdm(total=bar_length) as pbar:\n",
    "        for i in range(len(different_sector_triplets)):\n",
    "            X1 = binarized_financial_ts[different_sector_triplets[i][0]].values\n",
    "            X2 = binarized_financial_ts[different_sector_triplets[i][1]].values\n",
    "            X3 = binarized_financial_ts[different_sector_triplets[i][2]].values\n",
    "            X = np.vstack((X1, X2, X3))\n",
    "            doinfo_different_sector.append(\n",
    "                o_information_lagged_all(X, estimator=\"cat_ent\")\n",
    "            )\n",
    "            pbar.update(1)\n",
    "\n",
    "    return (\n",
    "        doinfo_same_sector,\n",
    "        doinfo_different_sector,\n",
    "    )  # ogni termine ritorna un array con la total dynamical o_information per ogni tripletta"
   ]
  },
  {
   "cell_type": "code",
   "execution_count": 4,
   "metadata": {},
   "outputs": [],
   "source": [
    "def get_do_infos_same(target_sector, binarized_financial_ts):\n",
    "    \"\"\"Get the total dynamical o_information for the triplets of the target sector\"\"\"\n",
    "\n",
    "    print(\">>>\", target_sector)\n",
    "\n",
    "    target_stocks = list(\n",
    "        stock_names[stock_names[\"Sector\"] == target_sector][\"Stock name\"]\n",
    "    )  # tutti gli stock name il cui settore sia il target\n",
    "    print(\"Length target_stocks:\", len(target_stocks))\n",
    "\n",
    "    # Having removed the Technology sector, each sector can now offer 35 triplets\n",
    "    same_sector_triplets = list(combinations(target_stocks, 3))[:35]\n",
    "    print(\"Length triplets same sector:\", len(same_sector_triplets))\n",
    "\n",
    "    doinfo_one_sector = []\n",
    "    bar_length = len(same_sector_triplets)\n",
    "    with tqdm(total=bar_length) as pbar:\n",
    "        pbar.set_description(\"Same sector\")\n",
    "        for i in range(len(same_sector_triplets)):\n",
    "            X1 = binarized_financial_ts[same_sector_triplets[i][0]].values\n",
    "            X2 = binarized_financial_ts[same_sector_triplets[i][1]].values\n",
    "            X3 = binarized_financial_ts[same_sector_triplets[i][2]].values\n",
    "            X = np.vstack((X1, X2, X3))\n",
    "            doinfo_one_sector.append(\n",
    "                o_information_lagged_all(X, estimator=\"cat_ent\")\n",
    "            )  # calcola la total dynamical o_information della tripletta\n",
    "            pbar.update(1)\n",
    "\n",
    "    return doinfo_one_sector"
   ]
  },
  {
   "cell_type": "code",
   "execution_count": 5,
   "metadata": {},
   "outputs": [],
   "source": [
    "def get_do_infos_two_different(target_sector, another_sector, binarized_financial_ts):\n",
    "    \"\"\"Get the total dynamical o_information for the triplets\n",
    "    composed of one node in the target_sector and two in the another_sector\"\"\"\n",
    "\n",
    "    print(\">>>\", target_sector, \"-\", another_sector)\n",
    "\n",
    "    target_stocks = list(\n",
    "        stock_names[stock_names[\"Sector\"] == target_sector][\"Stock name\"]\n",
    "    )\n",
    "    another_stocks = list(\n",
    "        stock_names[stock_names[\"Sector\"] == another_sector][\"Stock name\"]\n",
    "    )\n",
    "    print(\"Length another_stocks:\", len(another_stocks))\n",
    "\n",
    "    # Having removed the Technology sector, each sector can now offer 35 triplets\n",
    "    another_sector_triplets = []\n",
    "    while len(another_sector_triplets) != 35:\n",
    "        triplet = []\n",
    "        triplet.append(np.random.choice(target_stocks))\n",
    "        triplet.append(np.random.choice(another_stocks))\n",
    "        triplet.append(np.random.choice(another_stocks))\n",
    "        another_sector_triplets.append(triplet)\n",
    "    print(\"Length triplets two sectors:\", len(another_sector_triplets))\n",
    "\n",
    "    doinfo_two_sectors = []\n",
    "    bar_length = len(another_sector_triplets)\n",
    "    with tqdm(total=bar_length) as pbar:\n",
    "        pbar.set_description(\"Two sectors\")\n",
    "        for i in range(len(another_sector_triplets)):\n",
    "            X1 = binarized_financial_ts[another_sector_triplets[i][0]].values\n",
    "            X2 = binarized_financial_ts[another_sector_triplets[i][1]].values\n",
    "            X3 = binarized_financial_ts[another_sector_triplets[i][2]].values\n",
    "            X = np.vstack((X1, X2, X3))\n",
    "            doinfo_two_sectors.append(o_information_lagged_all(X, estimator=\"cat_ent\"))\n",
    "            pbar.update(1)\n",
    "\n",
    "    return doinfo_two_sectors"
   ]
  },
  {
   "cell_type": "code",
   "execution_count": 6,
   "metadata": {},
   "outputs": [],
   "source": [
    "def get_do_infos_three_different(\n",
    "    target_sector, sector1, sector2, binarized_financial_ts\n",
    "):\n",
    "    \"\"\"Get the total dynamical o_information for the triplets\n",
    "    composed of three nodes in three different sectors\"\"\"\n",
    "\n",
    "    print(\">>>\", target_sector, \"-\", sector1, \"-\", sector2)\n",
    "\n",
    "    target_stocks = list(\n",
    "        stock_names[stock_names[\"Sector\"] == target_sector][\"Stock name\"]\n",
    "    )\n",
    "    stocks1 = list(stock_names[stock_names[\"Sector\"] == sector1][\"Stock name\"])\n",
    "    print(\"Length sector1:\", len(stocks1))\n",
    "    stocks2 = list(stock_names[stock_names[\"Sector\"] == sector2][\"Stock name\"])\n",
    "    print(\"Length sector2:\", len(stocks2))\n",
    "\n",
    "    # Having removed the Technology sector, each sector can now offer 35 triplets\n",
    "    three_sectors_triplets = []\n",
    "    while len(three_sectors_triplets) != 35:\n",
    "        triplet = []\n",
    "        triplet.append(np.random.choice(target_stocks))\n",
    "        triplet.append(np.random.choice(stocks1))\n",
    "        triplet.append(np.random.choice(stocks2))\n",
    "        three_sectors_triplets.append(triplet)\n",
    "    print(\"Length triplets three sectors:\", len(three_sectors_triplets))\n",
    "\n",
    "    doinfo_three_sectors = []\n",
    "    bar_length = len(three_sectors_triplets)\n",
    "    with tqdm(total=bar_length) as pbar:\n",
    "        pbar.set_description(\"Three sectors\")\n",
    "        for i in range(len(three_sectors_triplets)):\n",
    "            X1 = binarized_financial_ts[three_sectors_triplets[i][0]].values\n",
    "            X2 = binarized_financial_ts[three_sectors_triplets[i][1]].values\n",
    "            X3 = binarized_financial_ts[three_sectors_triplets[i][2]].values\n",
    "            X = np.vstack((X1, X2, X3))\n",
    "            doinfo_three_sectors.append(\n",
    "                o_information_lagged_all(X, estimator=\"cat_ent\")\n",
    "            )\n",
    "            pbar.update(1)\n",
    "\n",
    "    return doinfo_three_sectors"
   ]
  },
  {
   "cell_type": "code",
   "execution_count": 7,
   "metadata": {},
   "outputs": [],
   "source": [
    "def max_bins(array1, array2, array3):\n",
    "    \"\"\"Return the maximum number of bins so that there is at least one value inside each interval\"\"\"\n",
    "    \n",
    "    bins = 1\n",
    "    cond = True\n",
    "\n",
    "    while cond:\n",
    "        bins += 1\n",
    "        array1_hist, _ = np.histogram(array1, bins=bins)\n",
    "        array2_hist, _ = np.histogram(array2, bins=bins)\n",
    "        array3_hist, _ = np.histogram(array3, bins=bins)\n",
    "\n",
    "        if np.isin(0, array1_hist):\n",
    "            cond = False\n",
    "\n",
    "        elif np.isin(0, array2_hist):\n",
    "            cond = False\n",
    "\n",
    "        elif np.isin(0, array3_hist):\n",
    "            cond = False\n",
    "            \n",
    "    return bins - 1"
   ]
  },
  {
   "cell_type": "code",
   "execution_count": 8,
   "metadata": {},
   "outputs": [],
   "source": [
    "def JS_div(array1, array2):\n",
    "    \"\"\"Compute the J-S divergence of two array\"\"\"\n",
    "    \n",
    "    array1_sort = np.sort(array1)\n",
    "    array2_sort = np.sort(array2)\n",
    "\n",
    "    array1_normalized = array1_sort / np.sum(array1_sort)\n",
    "    array2_normalized = array2_sort / np.sum(array2_sort)\n",
    "\n",
    "    average = (array1_normalized + array2_normalized) / 2\n",
    "    average_sort = np.sort(average)\n",
    "    \n",
    "    bins = max_bins(array1_normalized, array2_normalized, average_sort)\n",
    "    \n",
    "    array1_hist, _ = np.histogram(array1_normalized, bins=bins)\n",
    "    array2_hist, _ = np.histogram(array2_normalized, bins=bins)\n",
    "    average_hist, _ = np.histogram(average_sort, bins=bins)\n",
    "    \n",
    "    kl_array1 = entropy(array1_hist, average_hist)\n",
    "    kl_array2 = entropy(array2_hist, average_hist)\n",
    " \n",
    "    return np.sum(kl_array1 + kl_array2) / 2"
   ]
  },
  {
   "cell_type": "markdown",
   "metadata": {},
   "source": [
    "<a name=\"load_binar_data\"></a>\n",
    "## Load and binarize data"
   ]
  },
  {
   "cell_type": "code",
   "execution_count": 9,
   "metadata": {},
   "outputs": [
    {
     "name": "stderr",
     "output_type": "stream",
     "text": [
      "C:\\Users\\david\\AppData\\Local\\Temp\\ipykernel_10764\\1982450507.py:4: ParserWarning: Falling back to the 'python' engine because the 'c' engine does not support regex separators (separators > 1 char and different from '\\s+' are interpreted as regex); you can avoid this warning by specifying engine='python'.\n",
      "  stock_names = pd.read_csv(\n"
     ]
    }
   ],
   "source": [
    "financial_ts = pd.read_csv(\n",
    "    \"data/Economic_data/NYSE_119stocks_2000Jan_2021June_withdates.csv\"\n",
    ")\n",
    "stock_names = pd.read_csv(\n",
    "    \"data/Economic_data/list_stocknames.txt\",\n",
    "    sep=\", \",\n",
    "    names=[\"Index\", \"Stock name\", \"Sector\"],\n",
    ")"
   ]
  },
  {
   "cell_type": "code",
   "execution_count": 10,
   "metadata": {},
   "outputs": [
    {
     "data": {
      "text/html": [
       "<div>\n",
       "<style scoped>\n",
       "    .dataframe tbody tr th:only-of-type {\n",
       "        vertical-align: middle;\n",
       "    }\n",
       "\n",
       "    .dataframe tbody tr th {\n",
       "        vertical-align: top;\n",
       "    }\n",
       "\n",
       "    .dataframe thead th {\n",
       "        text-align: right;\n",
       "    }\n",
       "</style>\n",
       "<table border=\"1\" class=\"dataframe\">\n",
       "  <thead>\n",
       "    <tr style=\"text-align: right;\">\n",
       "      <th></th>\n",
       "      <th>Date</th>\n",
       "      <th>A</th>\n",
       "      <th>AA</th>\n",
       "      <th>AB</th>\n",
       "      <th>ABC</th>\n",
       "      <th>ABT</th>\n",
       "      <th>ADC</th>\n",
       "      <th>AEO</th>\n",
       "      <th>AEP</th>\n",
       "      <th>AES</th>\n",
       "      <th>...</th>\n",
       "      <th>DHI</th>\n",
       "      <th>DIN</th>\n",
       "      <th>DIS</th>\n",
       "      <th>DLX</th>\n",
       "      <th>DNP</th>\n",
       "      <th>DOV</th>\n",
       "      <th>DRE</th>\n",
       "      <th>DRI</th>\n",
       "      <th>DRQ</th>\n",
       "      <th>DSM</th>\n",
       "    </tr>\n",
       "  </thead>\n",
       "  <tbody>\n",
       "    <tr>\n",
       "      <th>0</th>\n",
       "      <td>1999-12-31 00:00:00</td>\n",
       "      <td>55.302216</td>\n",
       "      <td>99.724503</td>\n",
       "      <td>29.937500</td>\n",
       "      <td>3.796875</td>\n",
       "      <td>16.300713</td>\n",
       "      <td>14.250000</td>\n",
       "      <td>10.000000</td>\n",
       "      <td>32.125000</td>\n",
       "      <td>37.375000</td>\n",
       "      <td>...</td>\n",
       "      <td>3.805411</td>\n",
       "      <td>16.687500</td>\n",
       "      <td>28.855125</td>\n",
       "      <td>21.936281</td>\n",
       "      <td>8.3125</td>\n",
       "      <td>30.416479</td>\n",
       "      <td>19.500000</td>\n",
       "      <td>10.801292</td>\n",
       "      <td>15.187500</td>\n",
       "      <td>7.3750</td>\n",
       "    </tr>\n",
       "    <tr>\n",
       "      <th>1</th>\n",
       "      <td>2000-01-03 00:00:00</td>\n",
       "      <td>51.502148</td>\n",
       "      <td>97.246407</td>\n",
       "      <td>29.750000</td>\n",
       "      <td>3.890625</td>\n",
       "      <td>15.711531</td>\n",
       "      <td>13.937500</td>\n",
       "      <td>9.777778</td>\n",
       "      <td>31.437500</td>\n",
       "      <td>36.250000</td>\n",
       "      <td>...</td>\n",
       "      <td>3.650439</td>\n",
       "      <td>16.125000</td>\n",
       "      <td>29.471687</td>\n",
       "      <td>21.436594</td>\n",
       "      <td>8.3125</td>\n",
       "      <td>29.410976</td>\n",
       "      <td>19.000000</td>\n",
       "      <td>10.317096</td>\n",
       "      <td>15.125000</td>\n",
       "      <td>7.4375</td>\n",
       "    </tr>\n",
       "    <tr>\n",
       "      <th>2</th>\n",
       "      <td>2000-01-04 00:00:00</td>\n",
       "      <td>47.567955</td>\n",
       "      <td>97.696968</td>\n",
       "      <td>29.625000</td>\n",
       "      <td>3.625000</td>\n",
       "      <td>15.262630</td>\n",
       "      <td>13.562500</td>\n",
       "      <td>8.916667</td>\n",
       "      <td>31.812500</td>\n",
       "      <td>34.812500</td>\n",
       "      <td>...</td>\n",
       "      <td>3.512687</td>\n",
       "      <td>16.062500</td>\n",
       "      <td>31.198063</td>\n",
       "      <td>21.036844</td>\n",
       "      <td>8.5000</td>\n",
       "      <td>28.866327</td>\n",
       "      <td>18.875000</td>\n",
       "      <td>10.242604</td>\n",
       "      <td>15.000000</td>\n",
       "      <td>7.5000</td>\n",
       "    </tr>\n",
       "    <tr>\n",
       "      <th>3</th>\n",
       "      <td>2000-01-05 00:00:00</td>\n",
       "      <td>44.617310</td>\n",
       "      <td>103.329002</td>\n",
       "      <td>29.750000</td>\n",
       "      <td>3.906250</td>\n",
       "      <td>15.234574</td>\n",
       "      <td>13.312500</td>\n",
       "      <td>9.590278</td>\n",
       "      <td>33.000000</td>\n",
       "      <td>35.187500</td>\n",
       "      <td>...</td>\n",
       "      <td>3.564344</td>\n",
       "      <td>16.250000</td>\n",
       "      <td>32.492844</td>\n",
       "      <td>20.836969</td>\n",
       "      <td>8.8750</td>\n",
       "      <td>28.992016</td>\n",
       "      <td>18.937500</td>\n",
       "      <td>10.615063</td>\n",
       "      <td>14.843750</td>\n",
       "      <td>7.5625</td>\n",
       "    </tr>\n",
       "    <tr>\n",
       "      <th>4</th>\n",
       "      <td>2000-01-06 00:00:00</td>\n",
       "      <td>42.918453</td>\n",
       "      <td>101.977310</td>\n",
       "      <td>30.250000</td>\n",
       "      <td>4.203125</td>\n",
       "      <td>15.767643</td>\n",
       "      <td>13.562500</td>\n",
       "      <td>8.909722</td>\n",
       "      <td>33.187500</td>\n",
       "      <td>35.468750</td>\n",
       "      <td>...</td>\n",
       "      <td>3.374935</td>\n",
       "      <td>17.562500</td>\n",
       "      <td>31.198063</td>\n",
       "      <td>20.787001</td>\n",
       "      <td>9.0000</td>\n",
       "      <td>29.117704</td>\n",
       "      <td>19.375000</td>\n",
       "      <td>10.503325</td>\n",
       "      <td>14.500000</td>\n",
       "      <td>7.5625</td>\n",
       "    </tr>\n",
       "    <tr>\n",
       "      <th>...</th>\n",
       "      <td>...</td>\n",
       "      <td>...</td>\n",
       "      <td>...</td>\n",
       "      <td>...</td>\n",
       "      <td>...</td>\n",
       "      <td>...</td>\n",
       "      <td>...</td>\n",
       "      <td>...</td>\n",
       "      <td>...</td>\n",
       "      <td>...</td>\n",
       "      <td>...</td>\n",
       "      <td>...</td>\n",
       "      <td>...</td>\n",
       "      <td>...</td>\n",
       "      <td>...</td>\n",
       "      <td>...</td>\n",
       "      <td>...</td>\n",
       "      <td>...</td>\n",
       "      <td>...</td>\n",
       "      <td>...</td>\n",
       "      <td>...</td>\n",
       "    </tr>\n",
       "    <tr>\n",
       "      <th>5395</th>\n",
       "      <td>2021-06-11 00:00:00</td>\n",
       "      <td>143.529999</td>\n",
       "      <td>37.380001</td>\n",
       "      <td>45.900002</td>\n",
       "      <td>119.839996</td>\n",
       "      <td>109.910004</td>\n",
       "      <td>71.559998</td>\n",
       "      <td>34.320000</td>\n",
       "      <td>84.760002</td>\n",
       "      <td>25.879999</td>\n",
       "      <td>...</td>\n",
       "      <td>88.730003</td>\n",
       "      <td>92.830002</td>\n",
       "      <td>177.380005</td>\n",
       "      <td>47.619999</td>\n",
       "      <td>10.5400</td>\n",
       "      <td>151.759995</td>\n",
       "      <td>49.299999</td>\n",
       "      <td>139.110001</td>\n",
       "      <td>37.750000</td>\n",
       "      <td>8.1400</td>\n",
       "    </tr>\n",
       "    <tr>\n",
       "      <th>5396</th>\n",
       "      <td>2021-06-14 00:00:00</td>\n",
       "      <td>144.389999</td>\n",
       "      <td>36.950001</td>\n",
       "      <td>45.509998</td>\n",
       "      <td>118.730003</td>\n",
       "      <td>110.480003</td>\n",
       "      <td>72.169998</td>\n",
       "      <td>34.759998</td>\n",
       "      <td>85.129997</td>\n",
       "      <td>25.740000</td>\n",
       "      <td>...</td>\n",
       "      <td>87.980003</td>\n",
       "      <td>91.500000</td>\n",
       "      <td>178.179993</td>\n",
       "      <td>46.820000</td>\n",
       "      <td>10.6100</td>\n",
       "      <td>150.339996</td>\n",
       "      <td>49.500000</td>\n",
       "      <td>137.500000</td>\n",
       "      <td>37.880001</td>\n",
       "      <td>8.1600</td>\n",
       "    </tr>\n",
       "    <tr>\n",
       "      <th>5397</th>\n",
       "      <td>2021-06-15 00:00:00</td>\n",
       "      <td>144.619995</td>\n",
       "      <td>36.290001</td>\n",
       "      <td>45.349998</td>\n",
       "      <td>119.029999</td>\n",
       "      <td>110.410004</td>\n",
       "      <td>70.489998</td>\n",
       "      <td>34.209999</td>\n",
       "      <td>85.239998</td>\n",
       "      <td>26.059999</td>\n",
       "      <td>...</td>\n",
       "      <td>88.660004</td>\n",
       "      <td>90.940002</td>\n",
       "      <td>175.860001</td>\n",
       "      <td>46.779999</td>\n",
       "      <td>10.6100</td>\n",
       "      <td>151.369995</td>\n",
       "      <td>48.900002</td>\n",
       "      <td>136.710007</td>\n",
       "      <td>39.090000</td>\n",
       "      <td>8.1900</td>\n",
       "    </tr>\n",
       "    <tr>\n",
       "      <th>5398</th>\n",
       "      <td>2021-06-16 00:00:00</td>\n",
       "      <td>143.589996</td>\n",
       "      <td>35.360001</td>\n",
       "      <td>45.340000</td>\n",
       "      <td>118.360001</td>\n",
       "      <td>110.059998</td>\n",
       "      <td>70.320000</td>\n",
       "      <td>34.740002</td>\n",
       "      <td>84.400002</td>\n",
       "      <td>25.730000</td>\n",
       "      <td>...</td>\n",
       "      <td>87.330002</td>\n",
       "      <td>91.570000</td>\n",
       "      <td>174.660004</td>\n",
       "      <td>46.180000</td>\n",
       "      <td>10.5500</td>\n",
       "      <td>149.990005</td>\n",
       "      <td>48.119999</td>\n",
       "      <td>136.460007</td>\n",
       "      <td>39.720001</td>\n",
       "      <td>8.1500</td>\n",
       "    </tr>\n",
       "    <tr>\n",
       "      <th>5399</th>\n",
       "      <td>2021-06-17 00:00:00</td>\n",
       "      <td>146.919998</td>\n",
       "      <td>33.580002</td>\n",
       "      <td>44.650002</td>\n",
       "      <td>118.110001</td>\n",
       "      <td>111.629997</td>\n",
       "      <td>70.660004</td>\n",
       "      <td>34.099998</td>\n",
       "      <td>84.389999</td>\n",
       "      <td>26.070000</td>\n",
       "      <td>...</td>\n",
       "      <td>88.870003</td>\n",
       "      <td>88.639999</td>\n",
       "      <td>174.649994</td>\n",
       "      <td>43.759998</td>\n",
       "      <td>10.5700</td>\n",
       "      <td>145.759995</td>\n",
       "      <td>48.810001</td>\n",
       "      <td>131.910004</td>\n",
       "      <td>37.330002</td>\n",
       "      <td>8.2400</td>\n",
       "    </tr>\n",
       "  </tbody>\n",
       "</table>\n",
       "<p>5400 rows × 120 columns</p>\n",
       "</div>"
      ],
      "text/plain": [
       "                     Date           A          AA         AB         ABC  \\\n",
       "0     1999-12-31 00:00:00   55.302216   99.724503  29.937500    3.796875   \n",
       "1     2000-01-03 00:00:00   51.502148   97.246407  29.750000    3.890625   \n",
       "2     2000-01-04 00:00:00   47.567955   97.696968  29.625000    3.625000   \n",
       "3     2000-01-05 00:00:00   44.617310  103.329002  29.750000    3.906250   \n",
       "4     2000-01-06 00:00:00   42.918453  101.977310  30.250000    4.203125   \n",
       "...                   ...         ...         ...        ...         ...   \n",
       "5395  2021-06-11 00:00:00  143.529999   37.380001  45.900002  119.839996   \n",
       "5396  2021-06-14 00:00:00  144.389999   36.950001  45.509998  118.730003   \n",
       "5397  2021-06-15 00:00:00  144.619995   36.290001  45.349998  119.029999   \n",
       "5398  2021-06-16 00:00:00  143.589996   35.360001  45.340000  118.360001   \n",
       "5399  2021-06-17 00:00:00  146.919998   33.580002  44.650002  118.110001   \n",
       "\n",
       "             ABT        ADC        AEO        AEP        AES  ...        DHI  \\\n",
       "0      16.300713  14.250000  10.000000  32.125000  37.375000  ...   3.805411   \n",
       "1      15.711531  13.937500   9.777778  31.437500  36.250000  ...   3.650439   \n",
       "2      15.262630  13.562500   8.916667  31.812500  34.812500  ...   3.512687   \n",
       "3      15.234574  13.312500   9.590278  33.000000  35.187500  ...   3.564344   \n",
       "4      15.767643  13.562500   8.909722  33.187500  35.468750  ...   3.374935   \n",
       "...          ...        ...        ...        ...        ...  ...        ...   \n",
       "5395  109.910004  71.559998  34.320000  84.760002  25.879999  ...  88.730003   \n",
       "5396  110.480003  72.169998  34.759998  85.129997  25.740000  ...  87.980003   \n",
       "5397  110.410004  70.489998  34.209999  85.239998  26.059999  ...  88.660004   \n",
       "5398  110.059998  70.320000  34.740002  84.400002  25.730000  ...  87.330002   \n",
       "5399  111.629997  70.660004  34.099998  84.389999  26.070000  ...  88.870003   \n",
       "\n",
       "            DIN         DIS        DLX      DNP         DOV        DRE  \\\n",
       "0     16.687500   28.855125  21.936281   8.3125   30.416479  19.500000   \n",
       "1     16.125000   29.471687  21.436594   8.3125   29.410976  19.000000   \n",
       "2     16.062500   31.198063  21.036844   8.5000   28.866327  18.875000   \n",
       "3     16.250000   32.492844  20.836969   8.8750   28.992016  18.937500   \n",
       "4     17.562500   31.198063  20.787001   9.0000   29.117704  19.375000   \n",
       "...         ...         ...        ...      ...         ...        ...   \n",
       "5395  92.830002  177.380005  47.619999  10.5400  151.759995  49.299999   \n",
       "5396  91.500000  178.179993  46.820000  10.6100  150.339996  49.500000   \n",
       "5397  90.940002  175.860001  46.779999  10.6100  151.369995  48.900002   \n",
       "5398  91.570000  174.660004  46.180000  10.5500  149.990005  48.119999   \n",
       "5399  88.639999  174.649994  43.759998  10.5700  145.759995  48.810001   \n",
       "\n",
       "             DRI        DRQ     DSM  \n",
       "0      10.801292  15.187500  7.3750  \n",
       "1      10.317096  15.125000  7.4375  \n",
       "2      10.242604  15.000000  7.5000  \n",
       "3      10.615063  14.843750  7.5625  \n",
       "4      10.503325  14.500000  7.5625  \n",
       "...          ...        ...     ...  \n",
       "5395  139.110001  37.750000  8.1400  \n",
       "5396  137.500000  37.880001  8.1600  \n",
       "5397  136.710007  39.090000  8.1900  \n",
       "5398  136.460007  39.720001  8.1500  \n",
       "5399  131.910004  37.330002  8.2400  \n",
       "\n",
       "[5400 rows x 120 columns]"
      ]
     },
     "execution_count": 10,
     "metadata": {},
     "output_type": "execute_result"
    }
   ],
   "source": [
    "financial_ts"
   ]
  },
  {
   "cell_type": "code",
   "execution_count": 11,
   "metadata": {},
   "outputs": [
    {
     "data": {
      "text/html": [
       "<div>\n",
       "<style scoped>\n",
       "    .dataframe tbody tr th:only-of-type {\n",
       "        vertical-align: middle;\n",
       "    }\n",
       "\n",
       "    .dataframe tbody tr th {\n",
       "        vertical-align: top;\n",
       "    }\n",
       "\n",
       "    .dataframe thead th {\n",
       "        text-align: right;\n",
       "    }\n",
       "</style>\n",
       "<table border=\"1\" class=\"dataframe\">\n",
       "  <thead>\n",
       "    <tr style=\"text-align: right;\">\n",
       "      <th></th>\n",
       "      <th>Index</th>\n",
       "      <th>Stock name</th>\n",
       "      <th>Sector</th>\n",
       "    </tr>\n",
       "  </thead>\n",
       "  <tbody>\n",
       "    <tr>\n",
       "      <th>0</th>\n",
       "      <td>0</td>\n",
       "      <td>A</td>\n",
       "      <td>Industrials</td>\n",
       "    </tr>\n",
       "    <tr>\n",
       "      <th>1</th>\n",
       "      <td>1</td>\n",
       "      <td>AA</td>\n",
       "      <td>Basic Materials</td>\n",
       "    </tr>\n",
       "    <tr>\n",
       "      <th>2</th>\n",
       "      <td>2</td>\n",
       "      <td>AB</td>\n",
       "      <td>Financials</td>\n",
       "    </tr>\n",
       "    <tr>\n",
       "      <th>3</th>\n",
       "      <td>3</td>\n",
       "      <td>ABC</td>\n",
       "      <td>Consumer Services</td>\n",
       "    </tr>\n",
       "    <tr>\n",
       "      <th>4</th>\n",
       "      <td>4</td>\n",
       "      <td>ABT</td>\n",
       "      <td>Health Care</td>\n",
       "    </tr>\n",
       "    <tr>\n",
       "      <th>...</th>\n",
       "      <td>...</td>\n",
       "      <td>...</td>\n",
       "      <td>...</td>\n",
       "    </tr>\n",
       "    <tr>\n",
       "      <th>114</th>\n",
       "      <td>114</td>\n",
       "      <td>DOV</td>\n",
       "      <td>Industrials</td>\n",
       "    </tr>\n",
       "    <tr>\n",
       "      <th>115</th>\n",
       "      <td>115</td>\n",
       "      <td>DRE</td>\n",
       "      <td>Financials</td>\n",
       "    </tr>\n",
       "    <tr>\n",
       "      <th>116</th>\n",
       "      <td>116</td>\n",
       "      <td>DRI</td>\n",
       "      <td>Consumer Services</td>\n",
       "    </tr>\n",
       "    <tr>\n",
       "      <th>117</th>\n",
       "      <td>117</td>\n",
       "      <td>DRQ</td>\n",
       "      <td>Oil &amp; Gas</td>\n",
       "    </tr>\n",
       "    <tr>\n",
       "      <th>118</th>\n",
       "      <td>118</td>\n",
       "      <td>DSM</td>\n",
       "      <td>Financials</td>\n",
       "    </tr>\n",
       "  </tbody>\n",
       "</table>\n",
       "<p>119 rows × 3 columns</p>\n",
       "</div>"
      ],
      "text/plain": [
       "     Index Stock name             Sector\n",
       "0        0          A        Industrials\n",
       "1        1         AA    Basic Materials\n",
       "2        2         AB         Financials\n",
       "3        3        ABC  Consumer Services\n",
       "4        4        ABT        Health Care\n",
       "..     ...        ...                ...\n",
       "114    114        DOV        Industrials\n",
       "115    115        DRE         Financials\n",
       "116    116        DRI  Consumer Services\n",
       "117    117        DRQ          Oil & Gas\n",
       "118    118        DSM         Financials\n",
       "\n",
       "[119 rows x 3 columns]"
      ]
     },
     "execution_count": 11,
     "metadata": {},
     "output_type": "execute_result"
    }
   ],
   "source": [
    "stock_names"
   ]
  },
  {
   "cell_type": "code",
   "execution_count": 12,
   "metadata": {},
   "outputs": [],
   "source": [
    "tw = 7  # time window, originalmente era 2\n",
    "binarized_financial_ts = binarize_df(financial_ts, tw)"
   ]
  },
  {
   "cell_type": "code",
   "execution_count": 13,
   "metadata": {},
   "outputs": [
    {
     "data": {
      "text/html": [
       "<div>\n",
       "<style scoped>\n",
       "    .dataframe tbody tr th:only-of-type {\n",
       "        vertical-align: middle;\n",
       "    }\n",
       "\n",
       "    .dataframe tbody tr th {\n",
       "        vertical-align: top;\n",
       "    }\n",
       "\n",
       "    .dataframe thead th {\n",
       "        text-align: right;\n",
       "    }\n",
       "</style>\n",
       "<table border=\"1\" class=\"dataframe\">\n",
       "  <thead>\n",
       "    <tr style=\"text-align: right;\">\n",
       "      <th></th>\n",
       "      <th>A</th>\n",
       "      <th>AA</th>\n",
       "      <th>AB</th>\n",
       "      <th>ABC</th>\n",
       "      <th>ABT</th>\n",
       "      <th>ADC</th>\n",
       "      <th>AEO</th>\n",
       "      <th>AEP</th>\n",
       "      <th>AES</th>\n",
       "      <th>AFG</th>\n",
       "      <th>...</th>\n",
       "      <th>DHI</th>\n",
       "      <th>DIN</th>\n",
       "      <th>DIS</th>\n",
       "      <th>DLX</th>\n",
       "      <th>DNP</th>\n",
       "      <th>DOV</th>\n",
       "      <th>DRE</th>\n",
       "      <th>DRI</th>\n",
       "      <th>DRQ</th>\n",
       "      <th>DSM</th>\n",
       "    </tr>\n",
       "  </thead>\n",
       "  <tbody>\n",
       "    <tr>\n",
       "      <th>0</th>\n",
       "      <td>0</td>\n",
       "      <td>0</td>\n",
       "      <td>0</td>\n",
       "      <td>0</td>\n",
       "      <td>0</td>\n",
       "      <td>0</td>\n",
       "      <td>0</td>\n",
       "      <td>0</td>\n",
       "      <td>0</td>\n",
       "      <td>0</td>\n",
       "      <td>...</td>\n",
       "      <td>0</td>\n",
       "      <td>0</td>\n",
       "      <td>0</td>\n",
       "      <td>0</td>\n",
       "      <td>0</td>\n",
       "      <td>0</td>\n",
       "      <td>0</td>\n",
       "      <td>0</td>\n",
       "      <td>0</td>\n",
       "      <td>0</td>\n",
       "    </tr>\n",
       "    <tr>\n",
       "      <th>1</th>\n",
       "      <td>0</td>\n",
       "      <td>0</td>\n",
       "      <td>0</td>\n",
       "      <td>1</td>\n",
       "      <td>0</td>\n",
       "      <td>0</td>\n",
       "      <td>0</td>\n",
       "      <td>0</td>\n",
       "      <td>0</td>\n",
       "      <td>0</td>\n",
       "      <td>...</td>\n",
       "      <td>0</td>\n",
       "      <td>0</td>\n",
       "      <td>1</td>\n",
       "      <td>0</td>\n",
       "      <td>0</td>\n",
       "      <td>0</td>\n",
       "      <td>0</td>\n",
       "      <td>0</td>\n",
       "      <td>0</td>\n",
       "      <td>1</td>\n",
       "    </tr>\n",
       "    <tr>\n",
       "      <th>2</th>\n",
       "      <td>0</td>\n",
       "      <td>0</td>\n",
       "      <td>0</td>\n",
       "      <td>0</td>\n",
       "      <td>0</td>\n",
       "      <td>0</td>\n",
       "      <td>0</td>\n",
       "      <td>1</td>\n",
       "      <td>0</td>\n",
       "      <td>0</td>\n",
       "      <td>...</td>\n",
       "      <td>0</td>\n",
       "      <td>0</td>\n",
       "      <td>1</td>\n",
       "      <td>0</td>\n",
       "      <td>1</td>\n",
       "      <td>0</td>\n",
       "      <td>0</td>\n",
       "      <td>0</td>\n",
       "      <td>0</td>\n",
       "      <td>1</td>\n",
       "    </tr>\n",
       "    <tr>\n",
       "      <th>3</th>\n",
       "      <td>0</td>\n",
       "      <td>1</td>\n",
       "      <td>0</td>\n",
       "      <td>1</td>\n",
       "      <td>0</td>\n",
       "      <td>0</td>\n",
       "      <td>1</td>\n",
       "      <td>1</td>\n",
       "      <td>0</td>\n",
       "      <td>0</td>\n",
       "      <td>...</td>\n",
       "      <td>0</td>\n",
       "      <td>0</td>\n",
       "      <td>1</td>\n",
       "      <td>0</td>\n",
       "      <td>1</td>\n",
       "      <td>0</td>\n",
       "      <td>0</td>\n",
       "      <td>1</td>\n",
       "      <td>0</td>\n",
       "      <td>1</td>\n",
       "    </tr>\n",
       "    <tr>\n",
       "      <th>4</th>\n",
       "      <td>0</td>\n",
       "      <td>1</td>\n",
       "      <td>1</td>\n",
       "      <td>1</td>\n",
       "      <td>1</td>\n",
       "      <td>0</td>\n",
       "      <td>0</td>\n",
       "      <td>1</td>\n",
       "      <td>0</td>\n",
       "      <td>0</td>\n",
       "      <td>...</td>\n",
       "      <td>0</td>\n",
       "      <td>1</td>\n",
       "      <td>1</td>\n",
       "      <td>0</td>\n",
       "      <td>1</td>\n",
       "      <td>0</td>\n",
       "      <td>1</td>\n",
       "      <td>1</td>\n",
       "      <td>0</td>\n",
       "      <td>1</td>\n",
       "    </tr>\n",
       "    <tr>\n",
       "      <th>...</th>\n",
       "      <td>...</td>\n",
       "      <td>...</td>\n",
       "      <td>...</td>\n",
       "      <td>...</td>\n",
       "      <td>...</td>\n",
       "      <td>...</td>\n",
       "      <td>...</td>\n",
       "      <td>...</td>\n",
       "      <td>...</td>\n",
       "      <td>...</td>\n",
       "      <td>...</td>\n",
       "      <td>...</td>\n",
       "      <td>...</td>\n",
       "      <td>...</td>\n",
       "      <td>...</td>\n",
       "      <td>...</td>\n",
       "      <td>...</td>\n",
       "      <td>...</td>\n",
       "      <td>...</td>\n",
       "      <td>...</td>\n",
       "      <td>...</td>\n",
       "    </tr>\n",
       "    <tr>\n",
       "      <th>5395</th>\n",
       "      <td>1</td>\n",
       "      <td>0</td>\n",
       "      <td>1</td>\n",
       "      <td>1</td>\n",
       "      <td>1</td>\n",
       "      <td>0</td>\n",
       "      <td>1</td>\n",
       "      <td>0</td>\n",
       "      <td>1</td>\n",
       "      <td>0</td>\n",
       "      <td>...</td>\n",
       "      <td>0</td>\n",
       "      <td>0</td>\n",
       "      <td>1</td>\n",
       "      <td>1</td>\n",
       "      <td>1</td>\n",
       "      <td>1</td>\n",
       "      <td>1</td>\n",
       "      <td>1</td>\n",
       "      <td>1</td>\n",
       "      <td>0</td>\n",
       "    </tr>\n",
       "    <tr>\n",
       "      <th>5396</th>\n",
       "      <td>1</td>\n",
       "      <td>0</td>\n",
       "      <td>0</td>\n",
       "      <td>1</td>\n",
       "      <td>1</td>\n",
       "      <td>0</td>\n",
       "      <td>1</td>\n",
       "      <td>1</td>\n",
       "      <td>1</td>\n",
       "      <td>0</td>\n",
       "      <td>...</td>\n",
       "      <td>0</td>\n",
       "      <td>0</td>\n",
       "      <td>1</td>\n",
       "      <td>0</td>\n",
       "      <td>1</td>\n",
       "      <td>0</td>\n",
       "      <td>1</td>\n",
       "      <td>0</td>\n",
       "      <td>1</td>\n",
       "      <td>0</td>\n",
       "    </tr>\n",
       "    <tr>\n",
       "      <th>5397</th>\n",
       "      <td>1</td>\n",
       "      <td>0</td>\n",
       "      <td>0</td>\n",
       "      <td>1</td>\n",
       "      <td>1</td>\n",
       "      <td>0</td>\n",
       "      <td>1</td>\n",
       "      <td>1</td>\n",
       "      <td>1</td>\n",
       "      <td>1</td>\n",
       "      <td>...</td>\n",
       "      <td>0</td>\n",
       "      <td>0</td>\n",
       "      <td>0</td>\n",
       "      <td>0</td>\n",
       "      <td>1</td>\n",
       "      <td>1</td>\n",
       "      <td>0</td>\n",
       "      <td>0</td>\n",
       "      <td>1</td>\n",
       "      <td>1</td>\n",
       "    </tr>\n",
       "    <tr>\n",
       "      <th>5398</th>\n",
       "      <td>1</td>\n",
       "      <td>0</td>\n",
       "      <td>0</td>\n",
       "      <td>0</td>\n",
       "      <td>1</td>\n",
       "      <td>0</td>\n",
       "      <td>1</td>\n",
       "      <td>0</td>\n",
       "      <td>1</td>\n",
       "      <td>1</td>\n",
       "      <td>...</td>\n",
       "      <td>0</td>\n",
       "      <td>0</td>\n",
       "      <td>0</td>\n",
       "      <td>0</td>\n",
       "      <td>1</td>\n",
       "      <td>0</td>\n",
       "      <td>0</td>\n",
       "      <td>0</td>\n",
       "      <td>1</td>\n",
       "      <td>0</td>\n",
       "    </tr>\n",
       "    <tr>\n",
       "      <th>5399</th>\n",
       "      <td>1</td>\n",
       "      <td>0</td>\n",
       "      <td>0</td>\n",
       "      <td>0</td>\n",
       "      <td>1</td>\n",
       "      <td>0</td>\n",
       "      <td>0</td>\n",
       "      <td>0</td>\n",
       "      <td>1</td>\n",
       "      <td>0</td>\n",
       "      <td>...</td>\n",
       "      <td>1</td>\n",
       "      <td>0</td>\n",
       "      <td>0</td>\n",
       "      <td>0</td>\n",
       "      <td>1</td>\n",
       "      <td>0</td>\n",
       "      <td>0</td>\n",
       "      <td>0</td>\n",
       "      <td>0</td>\n",
       "      <td>1</td>\n",
       "    </tr>\n",
       "  </tbody>\n",
       "</table>\n",
       "<p>5400 rows × 119 columns</p>\n",
       "</div>"
      ],
      "text/plain": [
       "      A  AA  AB  ABC  ABT  ADC  AEO  AEP  AES  AFG  ...  DHI  DIN  DIS  DLX  \\\n",
       "0     0   0   0    0    0    0    0    0    0    0  ...    0    0    0    0   \n",
       "1     0   0   0    1    0    0    0    0    0    0  ...    0    0    1    0   \n",
       "2     0   0   0    0    0    0    0    1    0    0  ...    0    0    1    0   \n",
       "3     0   1   0    1    0    0    1    1    0    0  ...    0    0    1    0   \n",
       "4     0   1   1    1    1    0    0    1    0    0  ...    0    1    1    0   \n",
       "...  ..  ..  ..  ...  ...  ...  ...  ...  ...  ...  ...  ...  ...  ...  ...   \n",
       "5395  1   0   1    1    1    0    1    0    1    0  ...    0    0    1    1   \n",
       "5396  1   0   0    1    1    0    1    1    1    0  ...    0    0    1    0   \n",
       "5397  1   0   0    1    1    0    1    1    1    1  ...    0    0    0    0   \n",
       "5398  1   0   0    0    1    0    1    0    1    1  ...    0    0    0    0   \n",
       "5399  1   0   0    0    1    0    0    0    1    0  ...    1    0    0    0   \n",
       "\n",
       "      DNP  DOV  DRE  DRI  DRQ  DSM  \n",
       "0       0    0    0    0    0    0  \n",
       "1       0    0    0    0    0    1  \n",
       "2       1    0    0    0    0    1  \n",
       "3       1    0    0    1    0    1  \n",
       "4       1    0    1    1    0    1  \n",
       "...   ...  ...  ...  ...  ...  ...  \n",
       "5395    1    1    1    1    1    0  \n",
       "5396    1    0    1    0    1    0  \n",
       "5397    1    1    0    0    1    1  \n",
       "5398    1    0    0    0    1    0  \n",
       "5399    1    0    0    0    0    1  \n",
       "\n",
       "[5400 rows x 119 columns]"
      ]
     },
     "execution_count": 13,
     "metadata": {},
     "output_type": "execute_result"
    }
   ],
   "source": [
    "binarized_financial_ts"
   ]
  },
  {
   "cell_type": "code",
   "execution_count": 14,
   "metadata": {},
   "outputs": [
    {
     "data": {
      "text/plain": [
       "['Industrials',\n",
       " 'Basic Materials',\n",
       " 'Financials',\n",
       " 'Consumer Services',\n",
       " 'Health Care',\n",
       " 'Utilities',\n",
       " 'Oil & Gas',\n",
       " 'Consumer Goods',\n",
       " 'Technology']"
      ]
     },
     "execution_count": 14,
     "metadata": {},
     "output_type": "execute_result"
    }
   ],
   "source": [
    "sectors = list(stock_names[\"Sector\"].unique())\n",
    "sectors"
   ]
  },
  {
   "cell_type": "markdown",
   "metadata": {},
   "source": [
    "<a name=\"full_length\"></a>\n",
    "## Full length\n",
    "\n",
    "We consider the full length of the time series."
   ]
  },
  {
   "cell_type": "markdown",
   "metadata": {},
   "source": [
    "<a name=\"thomas_work_full\"></a>\n",
    "### Thomas' work"
   ]
  },
  {
   "cell_type": "markdown",
   "metadata": {},
   "source": [
    "Each sector contains the maximun number of triplets, so the number of triplets is not constant."
   ]
  },
  {
   "cell_type": "code",
   "execution_count": null,
   "metadata": {
    "code_folding": [],
    "scrolled": true
   },
   "outputs": [],
   "source": [
    "# DO NOT RUN IF YOU ALREADY HAVE THE DATA\n",
    "\n",
    "for i in range(len(sectors)):\n",
    "    doinfo_same_sector, doinfo_different_sector = get_do_infos(\n",
    "        sectors[i], binarized_financial_ts\n",
    "    )\n",
    "\n",
    "    np.save(\n",
    "        f\"./results/economic_results/full/do_info/doinfo_same_sector_{sectors[i]}_tw_{tw}.npy\",\n",
    "        doinfo_same_sector,\n",
    "    )\n",
    "\n",
    "    np.save(\n",
    "        f\"./results/economic_results/full/do_info/doinfo_different_sector_{sectors[i]}_tw_{tw}.npy\",\n",
    "        doinfo_different_sector,\n",
    "    )"
   ]
  },
  {
   "cell_type": "code",
   "execution_count": null,
   "metadata": {},
   "outputs": [],
   "source": [
    "# DO NOT RUN IF YOU ALREADY HAVE THE VIOLIN PLOT\n",
    "\n",
    "fig, axs = plt.subplots(3, 3, figsize=(40, 40))\n",
    "for i in range(len(sectors)):\n",
    "    row = i // 3\n",
    "    col = i % 3\n",
    "    doinfo_same_sector = np.load(\n",
    "        f\"./results/economic_results/full/do_info/doinfo_same_sector_{sectors[i]}_tw_{tw}.npy\"\n",
    "    )\n",
    "    doinfo_different_sector = np.load(\n",
    "        f\"./results/economic_results/full/do_info/doinfo_different_sector_{sectors[i]}_tw_{tw}.npy\"\n",
    "    )\n",
    "    parts = axs[row, col].violinplot(doinfo_same_sector, showextrema=False)\n",
    "    for pc in parts[\"bodies\"]:\n",
    "        pc.set_facecolor(\"tab:blue\")\n",
    "        pc.set_edgecolor(\"black\")\n",
    "        pc.set_alpha(0.5)\n",
    "    parts = axs[row, col].violinplot(doinfo_different_sector, showextrema=False)\n",
    "    for pc in parts[\"bodies\"]:\n",
    "        pc.set_facecolor(\"tab:orange\")\n",
    "        pc.set_edgecolor(\"black\")\n",
    "        pc.set_alpha(0.5)\n",
    "    axs[row, col].set_title(sectors[i], size=35)\n",
    "    axs[row, col].set_ylabel(r\"$d\\Omega_3^{tot.}$\", size=37)\n",
    "    axs[row, col].tick_params(axis=\"both\", labelsize=18)\n",
    "    axs[row, col].legend(\n",
    "        handles=[\n",
    "            mpatches.Patch(color=\"tab:blue\", label=\"Same sector\", alpha=0.4),\n",
    "            mpatches.Patch(color=\"tab:orange\", label=\"Different sector\", alpha=0.4),\n",
    "        ],\n",
    "        fontsize=30,\n",
    "    )\n",
    "\n",
    "\n",
    "plt.savefig(\n",
    "    f\"./results/economic_results/full/images/doinfo_random_sectors_tw_{tw}.pdf\",\n",
    "    dpi=600,\n",
    "    bbox_inches=\"tight\",\n",
    ")"
   ]
  },
  {
   "cell_type": "markdown",
   "metadata": {},
   "source": [
    "<a name=\"3_vs_1-2_full\"></a>\n",
    "### 3 vs 1-2"
   ]
  },
  {
   "cell_type": "markdown",
   "metadata": {},
   "source": [
    "In previous work, a triplet from the same sector was compared with a triplet in which one node is from the target sector and the other two are randomly selected from other sectors. Now I would like to compare the triplet from the same sector with a more carefully chosen triplet (1 from the target sector and the other two from tho different chosen sectors).\n",
    "  \n",
    "To ensure that the number of triplets is always the same I take 35, which is the maximum number that all sectors can offer."
   ]
  },
  {
   "cell_type": "code",
   "execution_count": 15,
   "metadata": {},
   "outputs": [
    {
     "data": {
      "text/plain": [
       "['CACI', 'CIEN', 'DBD', 'DDD']"
      ]
     },
     "execution_count": 15,
     "metadata": {},
     "output_type": "execute_result"
    }
   ],
   "source": [
    "target_sector = \"Technology\"\n",
    "list(stock_names[stock_names[\"Sector\"] == target_sector][\"Stock name\"])"
   ]
  },
  {
   "cell_type": "code",
   "execution_count": 16,
   "metadata": {},
   "outputs": [],
   "source": [
    "# I am deleting the data for the Techonolgy sector because there are only a few\n",
    "binarized_financial_ts = binarized_financial_ts.drop(\n",
    "    columns=[\"CACI\", \"CIEN\", \"DBD\", \"DDD\"]\n",
    ")"
   ]
  },
  {
   "cell_type": "code",
   "execution_count": 17,
   "metadata": {},
   "outputs": [],
   "source": [
    "# Usa il metodo .isin() per creare una maschera booleana\n",
    "maschera = stock_names[\"Stock name\"].isin([\"CACI\", \"CIEN\", \"DBD\", \"DDD\"])\n",
    "\n",
    "# Usa la maschera per selezionare solo le righe che non soddisfano la condizione\n",
    "stock_names = stock_names[~maschera]"
   ]
  },
  {
   "cell_type": "code",
   "execution_count": 18,
   "metadata": {},
   "outputs": [
    {
     "data": {
      "text/plain": [
       "['Industrials',\n",
       " 'Basic Materials',\n",
       " 'Financials',\n",
       " 'Consumer Services',\n",
       " 'Health Care',\n",
       " 'Utilities',\n",
       " 'Oil & Gas',\n",
       " 'Consumer Goods']"
      ]
     },
     "execution_count": 18,
     "metadata": {},
     "output_type": "execute_result"
    }
   ],
   "source": [
    "sectors = sectors[:-1]\n",
    "sectors"
   ]
  },
  {
   "cell_type": "code",
   "execution_count": null,
   "metadata": {
    "scrolled": true
   },
   "outputs": [],
   "source": [
    "# DO NOT RUN IF YOU ALREADY HAVE THE DATA\n",
    "\n",
    "for target in sectors:\n",
    "    other_sectors = [sector for sector in sectors if sector != target]\n",
    "    for i, sector in enumerate(other_sectors):\n",
    "\n",
    "        if i == 0:\n",
    "            doinfo_one_sector = get_do_infos_same(target, binarized_financial_ts)\n",
    "            np.save(\n",
    "                f\"./results/economic_results/full/do_info/doinfo_one_sector_{target}_tw_{tw}.npy\",\n",
    "                doinfo_one_sector,\n",
    "            )\n",
    "\n",
    "        doinfo_two_sectors = get_do_infos_two_different(\n",
    "            target, sector, binarized_financial_ts\n",
    "        )\n",
    "        np.save(\n",
    "            f\"./results/economic_results/full/do_info/doinfo_two_sectors_{target}_{sector}_tw_{tw}.npy\",\n",
    "            doinfo_two_sectors,\n",
    "        )"
   ]
  },
  {
   "cell_type": "code",
   "execution_count": null,
   "metadata": {},
   "outputs": [],
   "source": [
    "# DO NOT RUN IF YOU ALREADY HAVE THE VIOLIN PLOTS\n",
    "\n",
    "for target in sectors:\n",
    "    other_sectors = [sector for sector in sectors if sector != target]\n",
    "    fig, axs = plt.subplots(3, 3, figsize=(40, 40))\n",
    "    for i, sector in enumerate(other_sectors):\n",
    "        row = i // 3\n",
    "        col = i % 3\n",
    "        doinfo_one_sector = np.load(\n",
    "            f\"./results/economic_results/full/do_info/doinfo_one_sector_{target}_tw_{tw}.npy\"\n",
    "        )\n",
    "        doinfo_two_sectors = np.load(\n",
    "            f\"./results/economic_results/full/do_info/doinfo_two_sectors_{target}_{sector}_tw_{tw}.npy\"\n",
    "        )\n",
    "        parts = axs[row, col].violinplot(doinfo_one_sector, showextrema=False)\n",
    "        for pc in parts[\"bodies\"]:\n",
    "            pc.set_facecolor(\"tab:blue\")\n",
    "            pc.set_edgecolor(\"black\")\n",
    "            pc.set_alpha(0.5)\n",
    "        parts = axs[row, col].violinplot(doinfo_two_sectors, showextrema=False)\n",
    "        for pc in parts[\"bodies\"]:\n",
    "            pc.set_facecolor(\"tab:orange\")\n",
    "            pc.set_edgecolor(\"black\")\n",
    "            pc.set_alpha(0.5)\n",
    "        title = str(target + \" - \" + sector)\n",
    "        axs[row, col].set_title(title, size=35)\n",
    "        axs[row, col].set_ylabel(r\"$d\\Omega_3^{tot.}$\", size=40)\n",
    "        axs[row, col].tick_params(axis=\"both\", labelsize=18)\n",
    "        label1 = str(\"3 in \" + target)\n",
    "        label2 = str(\"1 in \" + target + \", 2 in \" + sector)\n",
    "        axs[row, col].legend(\n",
    "            handles=[\n",
    "                mpatches.Patch(color=\"tab:blue\", label=label1, alpha=0.4),\n",
    "                mpatches.Patch(color=\"tab:orange\", label=label2, alpha=0.4),\n",
    "            ],\n",
    "            fontsize=25,\n",
    "        )\n",
    "\n",
    "    plt.savefig(\n",
    "        f\"./results/economic_results/full/images/two_sectors/doinfo_two_sectors_{target}_tw_{tw}.pdf\",\n",
    "        dpi=600,\n",
    "        bbox_inches=\"tight\",\n",
    "    )"
   ]
  },
  {
   "cell_type": "markdown",
   "metadata": {},
   "source": [
    "<a name=\"J-S_divergence_full\"></a>\n",
    "#### J-S divergence"
   ]
  },
  {
   "cell_type": "markdown",
   "metadata": {},
   "source": [
    "Let's summarize the difference between the two distributions into a single number, so we can make a comparison."
   ]
  },
  {
   "cell_type": "code",
   "execution_count": null,
   "metadata": {},
   "outputs": [],
   "source": [
    "# The row index indicates the target sector, the column index the other sector\n",
    "df_full = pd.DataFrame(\n",
    "    columns=[\n",
    "        \"Industrials\",\n",
    "        \"Basic Materials\",\n",
    "        \"Financials\",\n",
    "        \"Consumer Services\",\n",
    "        \"Health Care\",\n",
    "        \"Utilities\",\n",
    "        \"Oil & Gas\",\n",
    "        \"Consumer Goods\",\n",
    "    ]\n",
    ")"
   ]
  },
  {
   "cell_type": "code",
   "execution_count": null,
   "metadata": {},
   "outputs": [],
   "source": [
    "# DO NOT RUN IF YOU ALREADY HAVE THE DATAFRAME\n",
    "\n",
    "for target in sectors:\n",
    "    other_sectors = [sector for sector in sectors if sector != target]\n",
    "\n",
    "    for i, sector in enumerate(other_sectors):\n",
    "        doinfo_one_sector = np.load(\n",
    "            f\"./results/economic_results/full/do_info/doinfo_one_sector_{target}_tw_{tw}.npy\"\n",
    "        )\n",
    "        doinfo_two_sectors = np.load(\n",
    "            f\"./results/economic_results/full/do_info/doinfo_two_sectors_{target}_{sector}_tw_{tw}.npy\"\n",
    "        )\n",
    "\n",
    "        df_full.at[target, sector] = JS_div(doinfo_one_sector, doinfo_two_sectors)"
   ]
  },
  {
   "cell_type": "code",
   "execution_count": null,
   "metadata": {},
   "outputs": [],
   "source": [
    "# DO NOT RUN IF YOU ALREADY HAVE THE DATAFRAME\n",
    "\n",
    "df_full.to_csv(\"./results/economic_results/full/result_full.csv\", index=True)\n",
    "df_full"
   ]
  },
  {
   "cell_type": "markdown",
   "metadata": {},
   "source": [
    "<a name=\"3_vs_1-1-1_full\"></a>\n",
    "### 3 vs 1-1-1"
   ]
  },
  {
   "cell_type": "markdown",
   "metadata": {},
   "source": [
    "The triplet from the same sector is compared with a triplet in which each element came from a different sector (one must be the target sector).\n",
    "  \n",
    "To ensure that the number of triplets is always the same I take 35, which is the maximum number that all sectors can offer."
   ]
  },
  {
   "cell_type": "code",
   "execution_count": null,
   "metadata": {
    "scrolled": true
   },
   "outputs": [],
   "source": [
    "# DO NOT RUN IF YOU ALREADY HAVE THE DATA\n",
    "\n",
    "for target in sectors:\n",
    "    other_sectors = [sector for sector in sectors if sector != target]\n",
    "\n",
    "    for i, sector1 in enumerate(other_sectors):\n",
    "        other_sectors2 = [sector for sector in other_sectors if sector != sector1]\n",
    "        for j, sector2 in enumerate(other_sectors2):\n",
    "\n",
    "            doinfo_three_sectors = get_do_infos_three_different(\n",
    "                target, sector1, sector2, binarized_financial_ts\n",
    "            )\n",
    "            np.save(\n",
    "                f\"./results/economic_results/full/do_info/doinfo_three_sectors_{target}_{sector1}_{sector2}_tw_{tw}.npy\",\n",
    "                doinfo_three_sectors,\n",
    "            )"
   ]
  },
  {
   "cell_type": "code",
   "execution_count": null,
   "metadata": {},
   "outputs": [],
   "source": [
    "# DO NOT RUN IF YOU ALREADY HAVE THE VIOLIN PLOTS\n",
    "\n",
    "for target1 in sectors:\n",
    "    for target2 in [sector for sector in sectors if sector != target1]:\n",
    "        other_sectors = [\n",
    "            sector for sector in sectors if sector != target1 and sector != target2\n",
    "        ]\n",
    "\n",
    "        fig, axs = plt.subplots(3, 2, figsize=(40, 40))\n",
    "        for i, sector in enumerate(other_sectors):\n",
    "            row = i // 2\n",
    "            col = i % 2\n",
    "            doinfo_one_sector = np.load(\n",
    "                f\"./results/economic_results/full/do_info/doinfo_one_sector_{target1}_tw_{tw}.npy\"\n",
    "            )\n",
    "            doinfo_three_sectors = np.load(\n",
    "                f\"./results/economic_results/full/do_info/doinfo_three_sectors_{target1}_{target2}_{sector}_tw_{tw}.npy\"\n",
    "            )\n",
    "            parts = axs[row, col].violinplot(doinfo_one_sector, showextrema=False)\n",
    "            for pc in parts[\"bodies\"]:\n",
    "                pc.set_facecolor(\"tab:blue\")\n",
    "                pc.set_edgecolor(\"black\")\n",
    "                pc.set_alpha(0.5)\n",
    "            parts = axs[row, col].violinplot(doinfo_three_sectors, showextrema=False)\n",
    "            for pc in parts[\"bodies\"]:\n",
    "                pc.set_facecolor(\"tab:orange\")\n",
    "                pc.set_edgecolor(\"black\")\n",
    "                pc.set_alpha(0.5)\n",
    "            title = str(target1 + \" - \" + target2 + \" - \" + sector)\n",
    "            axs[row, col].set_title(title, size=40)\n",
    "            axs[row, col].set_ylabel(r\"$d\\Omega_3^{tot.}$\", size=45)\n",
    "            axs[row, col].tick_params(axis=\"both\", labelsize=25)\n",
    "            label1 = str(\"3 in \" + target1)\n",
    "            label2 = str(\"1 in \" + target1 + \", 1 in \" + target2 + \", 1 in \" + sector)\n",
    "            axs[row, col].legend(\n",
    "                handles=[\n",
    "                    mpatches.Patch(color=\"tab:blue\", label=label1, alpha=0.5),\n",
    "                    mpatches.Patch(color=\"tab:orange\", label=label2, alpha=0.5),\n",
    "                ],\n",
    "                fontsize=25,\n",
    "            )\n",
    "\n",
    "        plt.savefig(\n",
    "            f\"./results/economic_results/full/images/three_sectors/doinfo_three_sectors_{target1}_{target2}_tw_{tw}.pdf\",\n",
    "            dpi=600,\n",
    "            bbox_inches=\"tight\",\n",
    "        )"
   ]
  },
  {
   "cell_type": "markdown",
   "metadata": {},
   "source": [
    "<a name=\"half_length\"></a>\n",
    "## Half length"
   ]
  },
  {
   "cell_type": "markdown",
   "metadata": {},
   "source": [
    "I only take half time series, to see if the differences between the distributions decrease."
   ]
  },
  {
   "cell_type": "code",
   "execution_count": null,
   "metadata": {},
   "outputs": [],
   "source": [
    "half_length = int(len(binarized_financial_ts) / 2)\n",
    "binarized_financial_ts_half = binarized_financial_ts[:half_length]\n",
    "binarized_financial_ts_half"
   ]
  },
  {
   "cell_type": "markdown",
   "metadata": {},
   "source": [
    "<a name=\"thomas_work_half\"></a>\n",
    "### Thomas' work"
   ]
  },
  {
   "cell_type": "code",
   "execution_count": null,
   "metadata": {
    "scrolled": true
   },
   "outputs": [],
   "source": [
    "# DO NOT RUN IF YOU ALREADY HAVE THE DATA\n",
    "\n",
    "for i in range(len(sectors)):\n",
    "    doinfo_same_sector, doinfo_different_sector = get_do_infos(\n",
    "        sectors[i], binarized_financial_ts_half\n",
    "    )\n",
    "\n",
    "    np.save(\n",
    "        f\"./results/economic_results/half/do_info/doinfo_same_sector_{sectors[i]}_tw_{tw}.npy\",\n",
    "        doinfo_same_sector,\n",
    "    )\n",
    "\n",
    "    np.save(\n",
    "        f\"./results/economic_results/half/do_info/doinfo_different_sector_{sectors[i]}_tw_{tw}.npy\",\n",
    "        doinfo_different_sector,\n",
    "    )"
   ]
  },
  {
   "cell_type": "code",
   "execution_count": null,
   "metadata": {},
   "outputs": [],
   "source": [
    "# DO NOT RUN IF YOU ALREADY HAVE THE VIOLIN PLOT\n",
    "\n",
    "fig, axs = plt.subplots(3, 3, figsize=(40, 40))\n",
    "for i in range(len(sectors)):\n",
    "    row = i // 3\n",
    "    col = i % 3\n",
    "    doinfo_same_sector = np.load(\n",
    "        f\"./results/economic_results/half/do_info/doinfo_same_sector_{sectors[i]}_tw_{tw}.npy\"\n",
    "    )\n",
    "    doinfo_different_sector = np.load(\n",
    "        f\"./results/economic_results/half/do_info/doinfo_different_sector_{sectors[i]}_tw_{tw}.npy\"\n",
    "    )\n",
    "    parts = axs[row, col].violinplot(doinfo_same_sector, showextrema=False)\n",
    "    for pc in parts[\"bodies\"]:\n",
    "        pc.set_facecolor(\"tab:blue\")\n",
    "        pc.set_edgecolor(\"black\")\n",
    "        pc.set_alpha(0.5)\n",
    "    parts = axs[row, col].violinplot(doinfo_different_sector, showextrema=False)\n",
    "    for pc in parts[\"bodies\"]:\n",
    "        pc.set_facecolor(\"tab:orange\")\n",
    "        pc.set_edgecolor(\"black\")\n",
    "        pc.set_alpha(0.5)\n",
    "    axs[row, col].set_title(sectors[i], size=35)\n",
    "    axs[row, col].set_ylabel(r\"$d\\Omega_3^{tot.}$\", size=37)\n",
    "    axs[row, col].tick_params(axis=\"both\", labelsize=18)\n",
    "    axs[row, col].legend(\n",
    "        handles=[\n",
    "            mpatches.Patch(color=\"tab:blue\", label=\"Same sector\", alpha=0.4),\n",
    "            mpatches.Patch(color=\"tab:orange\", label=\"Different sector\", alpha=0.4),\n",
    "        ],\n",
    "        fontsize=30,\n",
    "    )\n",
    "\n",
    "\n",
    "plt.savefig(\n",
    "    f\"./results/economic_results/half/images/doinfo_random_sectors_tw_{tw}.pdf\",\n",
    "    dpi=600,\n",
    "    bbox_inches=\"tight\",\n",
    ")"
   ]
  },
  {
   "cell_type": "markdown",
   "metadata": {},
   "source": [
    "<a name=\"3_vs_1-2_half\"></a>\n",
    "### 3 vs 1-2\n",
    "\n",
    "!!!! Run the initial part of the full 3 vs 1-2 first, so as to eliminate the stocks relating to technology"
   ]
  },
  {
   "cell_type": "code",
   "execution_count": null,
   "metadata": {
    "scrolled": true
   },
   "outputs": [],
   "source": [
    "# DO NOT RUN IF YOU ALREADY HAVE THE DATA\n",
    "\n",
    "for target in sectors:\n",
    "    other_sectors = [sector for sector in sectors if sector != target]\n",
    "    for i, sector in enumerate(other_sectors):\n",
    "\n",
    "        if i == 0:\n",
    "            doinfo_one_sector = get_do_infos_same(target, binarized_financial_ts_half)\n",
    "            np.save(\n",
    "                f\"./results/economic_results/half/do_info/doinfo_one_sector_{target}_tw_{tw}.npy\",\n",
    "                doinfo_one_sector,\n",
    "            )\n",
    "\n",
    "        doinfo_two_sectors = get_do_infos_two_different(\n",
    "            target, sector, binarized_financial_ts_half\n",
    "        )\n",
    "        np.save(\n",
    "            f\"./results/economic_results/half/do_info/doinfo_two_sectors_{target}_{sector}_tw_{tw}.npy\",\n",
    "            doinfo_two_sectors,\n",
    "        )"
   ]
  },
  {
   "cell_type": "code",
   "execution_count": null,
   "metadata": {},
   "outputs": [],
   "source": [
    "# DO NOT RUN IF YOU ALREADY HAVE THE VIOLIN PLOTS\n",
    "\n",
    "for target in sectors:\n",
    "    other_sectors = [sector for sector in sectors if sector != target]\n",
    "    fig, axs = plt.subplots(3, 3, figsize=(40, 40))\n",
    "    for i, sector in enumerate(other_sectors):\n",
    "        row = i // 3\n",
    "        col = i % 3\n",
    "        doinfo_one_sector = np.load(\n",
    "            f\"./results/economic_results/half/do_info/doinfo_one_sector_{target}_tw_{tw}.npy\"\n",
    "        )\n",
    "        doinfo_two_sectors = np.load(\n",
    "            f\"./results/economic_results/half/do_info/doinfo_two_sectors_{target}_{sector}_tw_{tw}.npy\"\n",
    "        )\n",
    "        parts = axs[row, col].violinplot(doinfo_one_sector, showextrema=False)\n",
    "        for pc in parts[\"bodies\"]:\n",
    "            pc.set_facecolor(\"tab:blue\")\n",
    "            pc.set_edgecolor(\"black\")\n",
    "            pc.set_alpha(0.5)\n",
    "        parts = axs[row, col].violinplot(doinfo_two_sectors, showextrema=False)\n",
    "        for pc in parts[\"bodies\"]:\n",
    "            pc.set_facecolor(\"tab:orange\")\n",
    "            pc.set_edgecolor(\"black\")\n",
    "            pc.set_alpha(0.5)\n",
    "        title = str(target + \" - \" + sector)\n",
    "        axs[row, col].set_title(title, size=35)\n",
    "        axs[row, col].set_ylabel(r\"$d\\Omega_3^{tot.}$\", size=40)\n",
    "        axs[row, col].tick_params(axis=\"both\", labelsize=18)\n",
    "        label1 = str(\"3 in \" + target)\n",
    "        label2 = str(\"1 in \" + target + \", 2 in \" + sector)\n",
    "        axs[row, col].legend(\n",
    "            handles=[\n",
    "                mpatches.Patch(color=\"tab:blue\", label=label1, alpha=0.4),\n",
    "                mpatches.Patch(color=\"tab:orange\", label=label2, alpha=0.4),\n",
    "            ],\n",
    "            fontsize=25,\n",
    "        )\n",
    "\n",
    "    plt.savefig(\n",
    "        f\"./results/economic_results/half/images/two_sectors/doinfo_two_sectors_{target}_tw_{tw}.pdf\",\n",
    "        dpi=600,\n",
    "        bbox_inches=\"tight\",\n",
    "    )"
   ]
  },
  {
   "cell_type": "markdown",
   "metadata": {},
   "source": [
    "<a name=\"J-S_divergence_half\"></a>\n",
    "#### J-S divergence"
   ]
  },
  {
   "cell_type": "code",
   "execution_count": null,
   "metadata": {},
   "outputs": [],
   "source": [
    "# The row index indicates the target sector, the column index the other sector\n",
    "df_half = pd.DataFrame(\n",
    "    columns=[\n",
    "        \"Industrials\",\n",
    "        \"Basic Materials\",\n",
    "        \"Financials\",\n",
    "        \"Consumer Services\",\n",
    "        \"Health Care\",\n",
    "        \"Utilities\",\n",
    "        \"Oil & Gas\",\n",
    "        \"Consumer Goods\",\n",
    "    ]\n",
    ")"
   ]
  },
  {
   "cell_type": "code",
   "execution_count": null,
   "metadata": {},
   "outputs": [],
   "source": [
    "# DO NOT RUN IF YOU ALREADY HAVE THE DATAFRAME\n",
    "\n",
    "for target in sectors:\n",
    "    other_sectors = [sector for sector in sectors if sector != target]\n",
    "\n",
    "    for i, sector in enumerate(other_sectors):\n",
    "        doinfo_one_sector = np.load(\n",
    "            f\"./results/economic_results/half/do_info/doinfo_one_sector_{target}_tw_{tw}.npy\"\n",
    "        )\n",
    "        doinfo_two_sectors = np.load(\n",
    "            f\"./results/economic_results/half/do_info/doinfo_two_sectors_{target}_{sector}_tw_{tw}.npy\"\n",
    "        )\n",
    "\n",
    "        df_half.at[target, sector] = JS_div(doinfo_one_sector, doinfo_two_sectors)"
   ]
  },
  {
   "cell_type": "code",
   "execution_count": null,
   "metadata": {},
   "outputs": [],
   "source": [
    "# DO NOT RUN IF YOU ALREADY HAVE THE DATAFRAME\n",
    "\n",
    "df_half.to_csv(\"./results/economic_results/half/result_full.csv\", index=True)\n",
    "df_half"
   ]
  },
  {
   "cell_type": "markdown",
   "metadata": {},
   "source": [
    "<a name=\"3_vs_1-1-1_half\"></a>\n",
    "### 3 vs 1-1-1"
   ]
  },
  {
   "cell_type": "code",
   "execution_count": null,
   "metadata": {},
   "outputs": [],
   "source": [
    "# DO NOT RUN IF YOU ALREADY HAVE THE DATA\n",
    "\n",
    "for target in sectors:\n",
    "    other_sectors = [sector for sector in sectors if sector != target]\n",
    "\n",
    "    for i, sector1 in enumerate(other_sectors):\n",
    "        other_sectors2 = [sector for sector in other_sectors if sector != sector1]\n",
    "        for j, sector2 in enumerate(other_sectors2):\n",
    "\n",
    "            doinfo_three_sectors = get_do_infos_three_different(\n",
    "                target, sector1, sector2, binarized_financial_ts_half\n",
    "            )\n",
    "            np.save(\n",
    "                f\"./results/economic_results/half/do_info/doinfo_three_sectors_{target}_{sector1}_{sector2}_tw_{tw}.npy\",\n",
    "                doinfo_three_sectors,\n",
    "            )"
   ]
  },
  {
   "cell_type": "code",
   "execution_count": null,
   "metadata": {},
   "outputs": [],
   "source": [
    "# DO NOT RUN IF YOU ALREADY HAVE THE VIOLIN PLOTS\n",
    "\n",
    "for target1 in sectors:\n",
    "    for target2 in [sector for sector in sectors if sector != target1]:\n",
    "        other_sectors = [\n",
    "            sector for sector in sectors if sector != target1 and sector != target2\n",
    "        ]\n",
    "\n",
    "        fig, axs = plt.subplots(3, 2, figsize=(40, 40))\n",
    "        for i, sector in enumerate(other_sectors):\n",
    "            row = i // 2\n",
    "            col = i % 2\n",
    "            doinfo_one_sector = np.load(\n",
    "                f\"./results/economic_results/half/do_info/doinfo_one_sector_{target1}_tw_{tw}.npy\"\n",
    "            )\n",
    "            doinfo_three_sectors = np.load(\n",
    "                f\"./results/economic_results/half/do_info/doinfo_three_sectors_{target1}_{target2}_{sector}_tw_{tw}.npy\"\n",
    "            )\n",
    "            parts = axs[row, col].violinplot(doinfo_one_sector, showextrema=False)\n",
    "            for pc in parts[\"bodies\"]:\n",
    "                pc.set_facecolor(\"tab:blue\")\n",
    "                pc.set_edgecolor(\"black\")\n",
    "                pc.set_alpha(0.5)\n",
    "            parts = axs[row, col].violinplot(doinfo_three_sectors, showextrema=False)\n",
    "            for pc in parts[\"bodies\"]:\n",
    "                pc.set_facecolor(\"tab:orange\")\n",
    "                pc.set_edgecolor(\"black\")\n",
    "                pc.set_alpha(0.5)\n",
    "            title = str(target1 + \" - \" + target2 + \" - \" + sector)\n",
    "            axs[row, col].set_title(title, size=40)\n",
    "            axs[row, col].set_ylabel(r\"$d\\Omega_3^{tot.}$\", size=45)\n",
    "            axs[row, col].tick_params(axis=\"both\", labelsize=25)\n",
    "            label1 = str(\"3 in \" + target1)\n",
    "            label2 = str(\"1 in \" + target1 + \", 1 in \" + target2 + \", 1 in \" + sector)\n",
    "            axs[row, col].legend(\n",
    "                handles=[\n",
    "                    mpatches.Patch(color=\"tab:blue\", label=label1, alpha=0.5),\n",
    "                    mpatches.Patch(color=\"tab:orange\", label=label2, alpha=0.5),\n",
    "                ],\n",
    "                fontsize=25,\n",
    "            )\n",
    "\n",
    "        plt.savefig(\n",
    "            f\"./results/economic_results/half/images/three_sectors/doinfo_three_sectors_{target1}_{target2}_tw_{tw}.pdf\",\n",
    "            dpi=600,\n",
    "            bbox_inches=\"tight\",\n",
    "        )"
   ]
  },
  {
   "cell_type": "markdown",
   "metadata": {},
   "source": [
    "<a name=\"comparison_lengths\"></a>\n",
    "## Comparison different lengths"
   ]
  },
  {
   "cell_type": "markdown",
   "metadata": {},
   "source": [
    "<a name=\"comparison_f_h\"></a>\n",
    "### Comparison full-half"
   ]
  },
  {
   "cell_type": "markdown",
   "metadata": {},
   "source": [
    "In this section I compare the results obtained considering the entire length with those obtained considering only half of it. In each plot a target is considered; on the y-axis there is the JS-divergence (for full length) between the distributions in which the triplet is all in the target and in which one point is in the target and the other two in another sector. On the x axis there is the similar quantity but for half the length."
   ]
  },
  {
   "cell_type": "code",
   "execution_count": 19,
   "metadata": {},
   "outputs": [],
   "source": [
    "df_full = pd.read_csv(\"./results/economic_results/full/result_full.csv\", index_col=0)\n",
    "df_half = pd.read_csv(\"./results/economic_results/half/result_full.csv\", index_col=0)"
   ]
  },
  {
   "cell_type": "code",
   "execution_count": 20,
   "metadata": {},
   "outputs": [
    {
     "data": {
      "text/html": [
       "<div>\n",
       "<style scoped>\n",
       "    .dataframe tbody tr th:only-of-type {\n",
       "        vertical-align: middle;\n",
       "    }\n",
       "\n",
       "    .dataframe tbody tr th {\n",
       "        vertical-align: top;\n",
       "    }\n",
       "\n",
       "    .dataframe thead th {\n",
       "        text-align: right;\n",
       "    }\n",
       "</style>\n",
       "<table border=\"1\" class=\"dataframe\">\n",
       "  <thead>\n",
       "    <tr style=\"text-align: right;\">\n",
       "      <th></th>\n",
       "      <th>Industrials</th>\n",
       "      <th>Basic Materials</th>\n",
       "      <th>Financials</th>\n",
       "      <th>Consumer Services</th>\n",
       "      <th>Health Care</th>\n",
       "      <th>Utilities</th>\n",
       "      <th>Oil &amp; Gas</th>\n",
       "      <th>Consumer Goods</th>\n",
       "    </tr>\n",
       "  </thead>\n",
       "  <tbody>\n",
       "    <tr>\n",
       "      <th>Industrials</th>\n",
       "      <td>NaN</td>\n",
       "      <td>0.122308</td>\n",
       "      <td>0.214089</td>\n",
       "      <td>0.052325</td>\n",
       "      <td>0.091460</td>\n",
       "      <td>0.102860</td>\n",
       "      <td>0.084615</td>\n",
       "      <td>0.219743</td>\n",
       "    </tr>\n",
       "    <tr>\n",
       "      <th>Basic Materials</th>\n",
       "      <td>0.138274</td>\n",
       "      <td>NaN</td>\n",
       "      <td>0.155638</td>\n",
       "      <td>0.044207</td>\n",
       "      <td>0.146545</td>\n",
       "      <td>0.053517</td>\n",
       "      <td>0.081695</td>\n",
       "      <td>0.184968</td>\n",
       "    </tr>\n",
       "    <tr>\n",
       "      <th>Financials</th>\n",
       "      <td>0.297841</td>\n",
       "      <td>0.134393</td>\n",
       "      <td>NaN</td>\n",
       "      <td>0.587818</td>\n",
       "      <td>0.111515</td>\n",
       "      <td>0.014164</td>\n",
       "      <td>0.274718</td>\n",
       "      <td>0.458693</td>\n",
       "    </tr>\n",
       "    <tr>\n",
       "      <th>Consumer Services</th>\n",
       "      <td>0.251773</td>\n",
       "      <td>0.058521</td>\n",
       "      <td>0.158145</td>\n",
       "      <td>NaN</td>\n",
       "      <td>0.095770</td>\n",
       "      <td>0.090858</td>\n",
       "      <td>0.057751</td>\n",
       "      <td>0.215983</td>\n",
       "    </tr>\n",
       "    <tr>\n",
       "      <th>Health Care</th>\n",
       "      <td>0.272321</td>\n",
       "      <td>0.122780</td>\n",
       "      <td>0.293127</td>\n",
       "      <td>0.034621</td>\n",
       "      <td>NaN</td>\n",
       "      <td>0.805321</td>\n",
       "      <td>0.067858</td>\n",
       "      <td>0.565578</td>\n",
       "    </tr>\n",
       "    <tr>\n",
       "      <th>Utilities</th>\n",
       "      <td>0.182089</td>\n",
       "      <td>0.106477</td>\n",
       "      <td>0.047107</td>\n",
       "      <td>0.242159</td>\n",
       "      <td>0.131293</td>\n",
       "      <td>NaN</td>\n",
       "      <td>0.140260</td>\n",
       "      <td>0.091074</td>\n",
       "    </tr>\n",
       "    <tr>\n",
       "      <th>Oil &amp; Gas</th>\n",
       "      <td>0.016285</td>\n",
       "      <td>0.179795</td>\n",
       "      <td>0.207017</td>\n",
       "      <td>0.191269</td>\n",
       "      <td>0.205281</td>\n",
       "      <td>0.014110</td>\n",
       "      <td>NaN</td>\n",
       "      <td>0.212679</td>\n",
       "    </tr>\n",
       "    <tr>\n",
       "      <th>Consumer Goods</th>\n",
       "      <td>0.223213</td>\n",
       "      <td>0.318661</td>\n",
       "      <td>0.111528</td>\n",
       "      <td>0.435974</td>\n",
       "      <td>0.478561</td>\n",
       "      <td>0.519101</td>\n",
       "      <td>0.416441</td>\n",
       "      <td>NaN</td>\n",
       "    </tr>\n",
       "  </tbody>\n",
       "</table>\n",
       "</div>"
      ],
      "text/plain": [
       "                   Industrials  Basic Materials  Financials  \\\n",
       "Industrials                NaN         0.122308    0.214089   \n",
       "Basic Materials       0.138274              NaN    0.155638   \n",
       "Financials            0.297841         0.134393         NaN   \n",
       "Consumer Services     0.251773         0.058521    0.158145   \n",
       "Health Care           0.272321         0.122780    0.293127   \n",
       "Utilities             0.182089         0.106477    0.047107   \n",
       "Oil & Gas             0.016285         0.179795    0.207017   \n",
       "Consumer Goods        0.223213         0.318661    0.111528   \n",
       "\n",
       "                   Consumer Services  Health Care  Utilities  Oil & Gas  \\\n",
       "Industrials                 0.052325     0.091460   0.102860   0.084615   \n",
       "Basic Materials             0.044207     0.146545   0.053517   0.081695   \n",
       "Financials                  0.587818     0.111515   0.014164   0.274718   \n",
       "Consumer Services                NaN     0.095770   0.090858   0.057751   \n",
       "Health Care                 0.034621          NaN   0.805321   0.067858   \n",
       "Utilities                   0.242159     0.131293        NaN   0.140260   \n",
       "Oil & Gas                   0.191269     0.205281   0.014110        NaN   \n",
       "Consumer Goods              0.435974     0.478561   0.519101   0.416441   \n",
       "\n",
       "                   Consumer Goods  \n",
       "Industrials              0.219743  \n",
       "Basic Materials          0.184968  \n",
       "Financials               0.458693  \n",
       "Consumer Services        0.215983  \n",
       "Health Care              0.565578  \n",
       "Utilities                0.091074  \n",
       "Oil & Gas                0.212679  \n",
       "Consumer Goods                NaN  "
      ]
     },
     "execution_count": 20,
     "metadata": {},
     "output_type": "execute_result"
    }
   ],
   "source": [
    "df_full"
   ]
  },
  {
   "cell_type": "code",
   "execution_count": 21,
   "metadata": {},
   "outputs": [
    {
     "data": {
      "text/html": [
       "<div>\n",
       "<style scoped>\n",
       "    .dataframe tbody tr th:only-of-type {\n",
       "        vertical-align: middle;\n",
       "    }\n",
       "\n",
       "    .dataframe tbody tr th {\n",
       "        vertical-align: top;\n",
       "    }\n",
       "\n",
       "    .dataframe thead th {\n",
       "        text-align: right;\n",
       "    }\n",
       "</style>\n",
       "<table border=\"1\" class=\"dataframe\">\n",
       "  <thead>\n",
       "    <tr style=\"text-align: right;\">\n",
       "      <th></th>\n",
       "      <th>Industrials</th>\n",
       "      <th>Basic Materials</th>\n",
       "      <th>Financials</th>\n",
       "      <th>Consumer Services</th>\n",
       "      <th>Health Care</th>\n",
       "      <th>Utilities</th>\n",
       "      <th>Oil &amp; Gas</th>\n",
       "      <th>Consumer Goods</th>\n",
       "    </tr>\n",
       "  </thead>\n",
       "  <tbody>\n",
       "    <tr>\n",
       "      <th>Industrials</th>\n",
       "      <td>NaN</td>\n",
       "      <td>0.269968</td>\n",
       "      <td>0.116018</td>\n",
       "      <td>0.308068</td>\n",
       "      <td>0.371273</td>\n",
       "      <td>0.238282</td>\n",
       "      <td>0.070591</td>\n",
       "      <td>0.311161</td>\n",
       "    </tr>\n",
       "    <tr>\n",
       "      <th>Basic Materials</th>\n",
       "      <td>0.096748</td>\n",
       "      <td>NaN</td>\n",
       "      <td>0.144451</td>\n",
       "      <td>0.070495</td>\n",
       "      <td>0.250676</td>\n",
       "      <td>0.190151</td>\n",
       "      <td>0.094814</td>\n",
       "      <td>0.157143</td>\n",
       "    </tr>\n",
       "    <tr>\n",
       "      <th>Financials</th>\n",
       "      <td>0.056859</td>\n",
       "      <td>0.097640</td>\n",
       "      <td>NaN</td>\n",
       "      <td>0.037793</td>\n",
       "      <td>0.082591</td>\n",
       "      <td>0.283933</td>\n",
       "      <td>0.089403</td>\n",
       "      <td>0.415097</td>\n",
       "    </tr>\n",
       "    <tr>\n",
       "      <th>Consumer Services</th>\n",
       "      <td>0.197348</td>\n",
       "      <td>0.349489</td>\n",
       "      <td>0.143480</td>\n",
       "      <td>NaN</td>\n",
       "      <td>0.139099</td>\n",
       "      <td>0.079083</td>\n",
       "      <td>0.095869</td>\n",
       "      <td>0.136427</td>\n",
       "    </tr>\n",
       "    <tr>\n",
       "      <th>Health Care</th>\n",
       "      <td>0.050651</td>\n",
       "      <td>0.101401</td>\n",
       "      <td>0.076487</td>\n",
       "      <td>0.216035</td>\n",
       "      <td>NaN</td>\n",
       "      <td>0.079241</td>\n",
       "      <td>0.025457</td>\n",
       "      <td>0.109977</td>\n",
       "    </tr>\n",
       "    <tr>\n",
       "      <th>Utilities</th>\n",
       "      <td>0.133270</td>\n",
       "      <td>0.138424</td>\n",
       "      <td>0.166786</td>\n",
       "      <td>0.327488</td>\n",
       "      <td>0.071730</td>\n",
       "      <td>NaN</td>\n",
       "      <td>0.128444</td>\n",
       "      <td>0.167022</td>\n",
       "    </tr>\n",
       "    <tr>\n",
       "      <th>Oil &amp; Gas</th>\n",
       "      <td>0.049689</td>\n",
       "      <td>0.060586</td>\n",
       "      <td>0.137608</td>\n",
       "      <td>0.120026</td>\n",
       "      <td>0.202821</td>\n",
       "      <td>0.087824</td>\n",
       "      <td>NaN</td>\n",
       "      <td>0.129750</td>\n",
       "    </tr>\n",
       "    <tr>\n",
       "      <th>Consumer Goods</th>\n",
       "      <td>0.110282</td>\n",
       "      <td>0.096026</td>\n",
       "      <td>0.186354</td>\n",
       "      <td>0.178672</td>\n",
       "      <td>0.660940</td>\n",
       "      <td>0.397908</td>\n",
       "      <td>0.033815</td>\n",
       "      <td>NaN</td>\n",
       "    </tr>\n",
       "  </tbody>\n",
       "</table>\n",
       "</div>"
      ],
      "text/plain": [
       "                   Industrials  Basic Materials  Financials  \\\n",
       "Industrials                NaN         0.269968    0.116018   \n",
       "Basic Materials       0.096748              NaN    0.144451   \n",
       "Financials            0.056859         0.097640         NaN   \n",
       "Consumer Services     0.197348         0.349489    0.143480   \n",
       "Health Care           0.050651         0.101401    0.076487   \n",
       "Utilities             0.133270         0.138424    0.166786   \n",
       "Oil & Gas             0.049689         0.060586    0.137608   \n",
       "Consumer Goods        0.110282         0.096026    0.186354   \n",
       "\n",
       "                   Consumer Services  Health Care  Utilities  Oil & Gas  \\\n",
       "Industrials                 0.308068     0.371273   0.238282   0.070591   \n",
       "Basic Materials             0.070495     0.250676   0.190151   0.094814   \n",
       "Financials                  0.037793     0.082591   0.283933   0.089403   \n",
       "Consumer Services                NaN     0.139099   0.079083   0.095869   \n",
       "Health Care                 0.216035          NaN   0.079241   0.025457   \n",
       "Utilities                   0.327488     0.071730        NaN   0.128444   \n",
       "Oil & Gas                   0.120026     0.202821   0.087824        NaN   \n",
       "Consumer Goods              0.178672     0.660940   0.397908   0.033815   \n",
       "\n",
       "                   Consumer Goods  \n",
       "Industrials              0.311161  \n",
       "Basic Materials          0.157143  \n",
       "Financials               0.415097  \n",
       "Consumer Services        0.136427  \n",
       "Health Care              0.109977  \n",
       "Utilities                0.167022  \n",
       "Oil & Gas                0.129750  \n",
       "Consumer Goods                NaN  "
      ]
     },
     "execution_count": 21,
     "metadata": {},
     "output_type": "execute_result"
    }
   ],
   "source": [
    "df_half"
   ]
  },
  {
   "cell_type": "code",
   "execution_count": 22,
   "metadata": {},
   "outputs": [],
   "source": [
    "name_rows = df_full.index.tolist()\n",
    "name_columns = df_full.columns.tolist()"
   ]
  },
  {
   "cell_type": "code",
   "execution_count": null,
   "metadata": {},
   "outputs": [],
   "source": [
    "# DO NOT RUN IF YOU ALREADY HAVE THE SCATTER PLOTS\n",
    "\n",
    "for row in name_rows:\n",
    "    columns = [column for column in name_columns if column != row]\n",
    "\n",
    "    x = [df_half.loc[row, column] for column in columns]\n",
    "    y = [df_full.loc[row, column] for column in columns]\n",
    "    \n",
    "    x_values = np.linspace(min(x), max(x), 100)\n",
    "    plt.plot(x_values, x_values, color=\"red\", linewidth=1.5)\n",
    "\n",
    "    plt.scatter(x, y)\n",
    "    plt.xlabel(\"JS-div half length\")\n",
    "    plt.ylabel(\"JS-div full length\")\n",
    "    plt.title(f\"Plot for target = {row}\")\n",
    "    plt.savefig(\n",
    "        f\"./results/economic_results/comparison/images/JS_div_two_sectors_target_{row}.pdf\",\n",
    "        dpi=600,\n",
    "        bbox_inches=\"tight\",\n",
    "    )\n",
    "    plt.show()"
   ]
  },
  {
   "cell_type": "code",
   "execution_count": 25,
   "metadata": {},
   "outputs": [
    {
     "data": {
      "text/html": [
       "<div>\n",
       "<style scoped>\n",
       "    .dataframe tbody tr th:only-of-type {\n",
       "        vertical-align: middle;\n",
       "    }\n",
       "\n",
       "    .dataframe tbody tr th {\n",
       "        vertical-align: top;\n",
       "    }\n",
       "\n",
       "    .dataframe thead th {\n",
       "        text-align: right;\n",
       "    }\n",
       "</style>\n",
       "<table border=\"1\" class=\"dataframe\">\n",
       "  <thead>\n",
       "    <tr style=\"text-align: right;\">\n",
       "      <th></th>\n",
       "      <th>Industrials</th>\n",
       "      <th>Basic Materials</th>\n",
       "      <th>Financials</th>\n",
       "      <th>Consumer Services</th>\n",
       "      <th>Health Care</th>\n",
       "      <th>Utilities</th>\n",
       "      <th>Oil &amp; Gas</th>\n",
       "      <th>Consumer Goods</th>\n",
       "    </tr>\n",
       "  </thead>\n",
       "  <tbody>\n",
       "    <tr>\n",
       "      <th>+</th>\n",
       "      <td>2</td>\n",
       "      <td>3</td>\n",
       "      <td>6</td>\n",
       "      <td>4</td>\n",
       "      <td>6</td>\n",
       "      <td>3</td>\n",
       "      <td>5</td>\n",
       "      <td>5</td>\n",
       "    </tr>\n",
       "    <tr>\n",
       "      <th>-</th>\n",
       "      <td>5</td>\n",
       "      <td>4</td>\n",
       "      <td>1</td>\n",
       "      <td>3</td>\n",
       "      <td>1</td>\n",
       "      <td>4</td>\n",
       "      <td>2</td>\n",
       "      <td>2</td>\n",
       "    </tr>\n",
       "  </tbody>\n",
       "</table>\n",
       "</div>"
      ],
      "text/plain": [
       "   Industrials  Basic Materials  Financials  Consumer Services  Health Care  \\\n",
       "+            2                3           6                  4            6   \n",
       "-            5                4           1                  3            1   \n",
       "\n",
       "   Utilities  Oil & Gas  Consumer Goods  \n",
       "+          3          5               5  \n",
       "-          4          2               2  "
      ]
     },
     "execution_count": 25,
     "metadata": {},
     "output_type": "execute_result"
    }
   ],
   "source": [
    "above_bisector = []\n",
    "below_bisector = []\n",
    "\n",
    "for row in name_rows:\n",
    "    above_count = 0\n",
    "    columns = [column for column in name_columns if column != row]\n",
    "\n",
    "    x = [df_half.loc[row, column] for column in columns]\n",
    "    y = [df_full.loc[row, column] for column in columns]\n",
    "    \n",
    "    for i in range(len(x)):\n",
    "        if x[i] < y[i]:\n",
    "            above_count += 1\n",
    "            \n",
    "    above_bisector.append(above_count)\n",
    "    below_bisector.append(len(x) - above_count)\n",
    "    \n",
    "\n",
    "df_comparison = pd.DataFrame(\n",
    "    [above_bisector, below_bisector], index=[\"+\", \"-\"], columns=name_columns\n",
    ")\n",
    "\n",
    "df_comparison"
   ]
  },
  {
   "cell_type": "markdown",
   "metadata": {},
   "source": [
    "<a name=\"creation_dataset\"></a>\n",
    "### Creation dataset"
   ]
  },
  {
   "cell_type": "markdown",
   "metadata": {},
   "source": [
    "I consider the performance of the JS-div as the length of the TS varies."
   ]
  },
  {
   "cell_type": "markdown",
   "metadata": {},
   "source": [
    "Full length"
   ]
  },
  {
   "cell_type": "code",
   "execution_count": 26,
   "metadata": {},
   "outputs": [],
   "source": [
    "# DO NOT RUN IF YOU ALREADY HAVE THE DATA\n",
    "\n",
    "length = len(binarized_financial_ts)\n",
    "\n",
    "for target in sectors:\n",
    "    other_sectors = [sector for sector in sectors if sector != target]\n",
    "\n",
    "    for i, sector in enumerate(other_sectors):\n",
    "        doinfo_one_sector = np.load(\n",
    "            f\"./results/economic_results/full/do_info/doinfo_one_sector_{target}_tw_{tw}.npy\"\n",
    "        )\n",
    "        np.save(\n",
    "            f\"./results/economic_results/comparison/do_info/one_sector_{target}_length_{length}.npy\",\n",
    "            doinfo_one_sector,\n",
    "        )\n",
    "\n",
    "        doinfo_two_sectors = np.load(\n",
    "            f\"./results/economic_results/full/do_info/doinfo_two_sectors_{target}_{sector}_tw_{tw}.npy\"\n",
    "        )\n",
    "        np.save(\n",
    "            f\"./results/economic_results/comparison/do_info/two_sectors_{target}_{sector}_length_{length}.npy\",\n",
    "            doinfo_two_sectors,\n",
    "        )"
   ]
  },
  {
   "cell_type": "markdown",
   "metadata": {},
   "source": [
    "Half length"
   ]
  },
  {
   "cell_type": "code",
   "execution_count": 27,
   "metadata": {},
   "outputs": [],
   "source": [
    "# DO NOT RUN IF YOU ALREADY HAVE THE DATA\n",
    "\n",
    "length = int(len(binarized_financial_ts) / 2)\n",
    "\n",
    "for target in sectors:\n",
    "    other_sectors = [sector for sector in sectors if sector != target]\n",
    "\n",
    "    for i, sector in enumerate(other_sectors):\n",
    "        doinfo_one_sector = np.load(\n",
    "            f\"./results/economic_results/half/do_info/doinfo_one_sector_{target}_tw_{tw}.npy\"\n",
    "        )\n",
    "        np.save(\n",
    "            f\"./results/economic_results/comparison/do_info/one_sector_{target}_length_{length}.npy\",\n",
    "            doinfo_one_sector,\n",
    "        )\n",
    "\n",
    "        doinfo_two_sectors = np.load(\n",
    "            f\"./results/economic_results/half/do_info/doinfo_two_sectors_{target}_{sector}_tw_{tw}.npy\"\n",
    "        )\n",
    "        np.save(\n",
    "            f\"./results/economic_results/comparison/do_info/two_sectors_{target}_{sector}_length_{length}.npy\",\n",
    "            doinfo_two_sectors,\n",
    "        )"
   ]
  },
  {
   "cell_type": "markdown",
   "metadata": {},
   "source": [
    "Other lengths"
   ]
  },
  {
   "cell_type": "code",
   "execution_count": 28,
   "metadata": {
    "scrolled": true
   },
   "outputs": [
    {
     "name": "stdout",
     "output_type": "stream",
     "text": [
      ">>> Industrials\n",
      "Length target_stocks: 20\n",
      "Length triplets same sector: 35\n"
     ]
    },
    {
     "data": {
      "application/vnd.jupyter.widget-view+json": {
       "model_id": "e3f06281dec4462ca36481526c23eec5",
       "version_major": 2,
       "version_minor": 0
      },
      "text/plain": [
       "  0%|          | 0/35 [00:00<?, ?it/s]"
      ]
     },
     "metadata": {},
     "output_type": "display_data"
    },
    {
     "name": "stdout",
     "output_type": "stream",
     "text": [
      ">>> Industrials - Basic Materials\n",
      "Length another_stocks: 8\n",
      "Length triplets two sectors: 35\n"
     ]
    },
    {
     "data": {
      "application/vnd.jupyter.widget-view+json": {
       "model_id": "2faa823090a04a2a97f754538df4bc8e",
       "version_major": 2,
       "version_minor": 0
      },
      "text/plain": [
       "  0%|          | 0/35 [00:00<?, ?it/s]"
      ]
     },
     "metadata": {},
     "output_type": "display_data"
    },
    {
     "name": "stdout",
     "output_type": "stream",
     "text": [
      ">>> Industrials - Financials\n",
      "Length another_stocks: 38\n",
      "Length triplets two sectors: 35\n"
     ]
    },
    {
     "data": {
      "application/vnd.jupyter.widget-view+json": {
       "model_id": "7e56c12989674b129f548a727300a397",
       "version_major": 2,
       "version_minor": 0
      },
      "text/plain": [
       "  0%|          | 0/35 [00:00<?, ?it/s]"
      ]
     },
     "metadata": {},
     "output_type": "display_data"
    },
    {
     "name": "stdout",
     "output_type": "stream",
     "text": [
      ">>> Industrials - Consumer Services\n",
      "Length another_stocks: 17\n",
      "Length triplets two sectors: 35\n"
     ]
    },
    {
     "data": {
      "application/vnd.jupyter.widget-view+json": {
       "model_id": "2785582f96d44fe199f56ae0cb0921e3",
       "version_major": 2,
       "version_minor": 0
      },
      "text/plain": [
       "  0%|          | 0/35 [00:00<?, ?it/s]"
      ]
     },
     "metadata": {},
     "output_type": "display_data"
    },
    {
     "name": "stdout",
     "output_type": "stream",
     "text": [
      ">>> Industrials - Health Care\n",
      "Length another_stocks: 10\n",
      "Length triplets two sectors: 35\n"
     ]
    },
    {
     "data": {
      "application/vnd.jupyter.widget-view+json": {
       "model_id": "30079f448ff148208966ecbe59d875d7",
       "version_major": 2,
       "version_minor": 0
      },
      "text/plain": [
       "  0%|          | 0/35 [00:00<?, ?it/s]"
      ]
     },
     "metadata": {},
     "output_type": "display_data"
    },
    {
     "name": "stdout",
     "output_type": "stream",
     "text": [
      ">>> Industrials - Utilities\n",
      "Length another_stocks: 7\n",
      "Length triplets two sectors: 35\n"
     ]
    },
    {
     "data": {
      "application/vnd.jupyter.widget-view+json": {
       "model_id": "cbae346c4b4942afb62d47e9796989dc",
       "version_major": 2,
       "version_minor": 0
      },
      "text/plain": [
       "  0%|          | 0/35 [00:00<?, ?it/s]"
      ]
     },
     "metadata": {},
     "output_type": "display_data"
    },
    {
     "name": "stdout",
     "output_type": "stream",
     "text": [
      ">>> Industrials - Oil & Gas\n",
      "Length another_stocks: 7\n",
      "Length triplets two sectors: 35\n"
     ]
    },
    {
     "data": {
      "application/vnd.jupyter.widget-view+json": {
       "model_id": "0655c7eb32904d64a642bea92132d2ad",
       "version_major": 2,
       "version_minor": 0
      },
      "text/plain": [
       "  0%|          | 0/35 [00:00<?, ?it/s]"
      ]
     },
     "metadata": {},
     "output_type": "display_data"
    },
    {
     "name": "stdout",
     "output_type": "stream",
     "text": [
      ">>> Industrials - Consumer Goods\n",
      "Length another_stocks: 8\n",
      "Length triplets two sectors: 35\n"
     ]
    },
    {
     "data": {
      "application/vnd.jupyter.widget-view+json": {
       "model_id": "d2634c57988a4e4eb9cd28ba38e7ce44",
       "version_major": 2,
       "version_minor": 0
      },
      "text/plain": [
       "  0%|          | 0/35 [00:00<?, ?it/s]"
      ]
     },
     "metadata": {},
     "output_type": "display_data"
    },
    {
     "name": "stdout",
     "output_type": "stream",
     "text": [
      ">>> Basic Materials\n",
      "Length target_stocks: 8\n",
      "Length triplets same sector: 35\n"
     ]
    },
    {
     "data": {
      "application/vnd.jupyter.widget-view+json": {
       "model_id": "a3fd197f37294d50b02e94e37f4c9d32",
       "version_major": 2,
       "version_minor": 0
      },
      "text/plain": [
       "  0%|          | 0/35 [00:00<?, ?it/s]"
      ]
     },
     "metadata": {},
     "output_type": "display_data"
    },
    {
     "name": "stdout",
     "output_type": "stream",
     "text": [
      ">>> Basic Materials - Industrials\n",
      "Length another_stocks: 20\n",
      "Length triplets two sectors: 35\n"
     ]
    },
    {
     "data": {
      "application/vnd.jupyter.widget-view+json": {
       "model_id": "a20392c0a6ab4081a219458662f7ba49",
       "version_major": 2,
       "version_minor": 0
      },
      "text/plain": [
       "  0%|          | 0/35 [00:00<?, ?it/s]"
      ]
     },
     "metadata": {},
     "output_type": "display_data"
    },
    {
     "name": "stdout",
     "output_type": "stream",
     "text": [
      ">>> Basic Materials - Financials\n",
      "Length another_stocks: 38\n",
      "Length triplets two sectors: 35\n"
     ]
    },
    {
     "data": {
      "application/vnd.jupyter.widget-view+json": {
       "model_id": "a2c035f42d11498fae9b1aa09c255a02",
       "version_major": 2,
       "version_minor": 0
      },
      "text/plain": [
       "  0%|          | 0/35 [00:00<?, ?it/s]"
      ]
     },
     "metadata": {},
     "output_type": "display_data"
    },
    {
     "name": "stdout",
     "output_type": "stream",
     "text": [
      ">>> Basic Materials - Consumer Services\n",
      "Length another_stocks: 17\n",
      "Length triplets two sectors: 35\n"
     ]
    },
    {
     "data": {
      "application/vnd.jupyter.widget-view+json": {
       "model_id": "1b2bfd3ca5a74691b63a0d43b7c3278d",
       "version_major": 2,
       "version_minor": 0
      },
      "text/plain": [
       "  0%|          | 0/35 [00:00<?, ?it/s]"
      ]
     },
     "metadata": {},
     "output_type": "display_data"
    },
    {
     "name": "stdout",
     "output_type": "stream",
     "text": [
      ">>> Basic Materials - Health Care\n",
      "Length another_stocks: 10\n",
      "Length triplets two sectors: 35\n"
     ]
    },
    {
     "data": {
      "application/vnd.jupyter.widget-view+json": {
       "model_id": "f24d488b323143cd9fd276e013137a01",
       "version_major": 2,
       "version_minor": 0
      },
      "text/plain": [
       "  0%|          | 0/35 [00:00<?, ?it/s]"
      ]
     },
     "metadata": {},
     "output_type": "display_data"
    },
    {
     "name": "stdout",
     "output_type": "stream",
     "text": [
      ">>> Basic Materials - Utilities\n",
      "Length another_stocks: 7\n",
      "Length triplets two sectors: 35\n"
     ]
    },
    {
     "data": {
      "application/vnd.jupyter.widget-view+json": {
       "model_id": "e7c4c3ec3a544d6a83d5e2ef3a9e8e9b",
       "version_major": 2,
       "version_minor": 0
      },
      "text/plain": [
       "  0%|          | 0/35 [00:00<?, ?it/s]"
      ]
     },
     "metadata": {},
     "output_type": "display_data"
    },
    {
     "name": "stdout",
     "output_type": "stream",
     "text": [
      ">>> Basic Materials - Oil & Gas\n",
      "Length another_stocks: 7\n",
      "Length triplets two sectors: 35\n"
     ]
    },
    {
     "data": {
      "application/vnd.jupyter.widget-view+json": {
       "model_id": "98dbcea926fe49ddaa4e689763d55925",
       "version_major": 2,
       "version_minor": 0
      },
      "text/plain": [
       "  0%|          | 0/35 [00:00<?, ?it/s]"
      ]
     },
     "metadata": {},
     "output_type": "display_data"
    },
    {
     "name": "stdout",
     "output_type": "stream",
     "text": [
      ">>> Basic Materials - Consumer Goods\n",
      "Length another_stocks: 8\n",
      "Length triplets two sectors: 35\n"
     ]
    },
    {
     "data": {
      "application/vnd.jupyter.widget-view+json": {
       "model_id": "b97f47274fa04ff782f53d10fc793916",
       "version_major": 2,
       "version_minor": 0
      },
      "text/plain": [
       "  0%|          | 0/35 [00:00<?, ?it/s]"
      ]
     },
     "metadata": {},
     "output_type": "display_data"
    },
    {
     "name": "stdout",
     "output_type": "stream",
     "text": [
      ">>> Financials\n",
      "Length target_stocks: 38\n",
      "Length triplets same sector: 35\n"
     ]
    },
    {
     "data": {
      "application/vnd.jupyter.widget-view+json": {
       "model_id": "1f6b315415c9441685da4015632d529c",
       "version_major": 2,
       "version_minor": 0
      },
      "text/plain": [
       "  0%|          | 0/35 [00:00<?, ?it/s]"
      ]
     },
     "metadata": {},
     "output_type": "display_data"
    },
    {
     "name": "stdout",
     "output_type": "stream",
     "text": [
      ">>> Financials - Industrials\n",
      "Length another_stocks: 20\n",
      "Length triplets two sectors: 35\n"
     ]
    },
    {
     "data": {
      "application/vnd.jupyter.widget-view+json": {
       "model_id": "6e45d5024c3640a48bf5a237c166de09",
       "version_major": 2,
       "version_minor": 0
      },
      "text/plain": [
       "  0%|          | 0/35 [00:00<?, ?it/s]"
      ]
     },
     "metadata": {},
     "output_type": "display_data"
    },
    {
     "name": "stdout",
     "output_type": "stream",
     "text": [
      ">>> Financials - Basic Materials\n",
      "Length another_stocks: 8\n",
      "Length triplets two sectors: 35\n"
     ]
    },
    {
     "data": {
      "application/vnd.jupyter.widget-view+json": {
       "model_id": "a3839bcfa5ca4bc78a013bf75a48d3f1",
       "version_major": 2,
       "version_minor": 0
      },
      "text/plain": [
       "  0%|          | 0/35 [00:00<?, ?it/s]"
      ]
     },
     "metadata": {},
     "output_type": "display_data"
    },
    {
     "name": "stdout",
     "output_type": "stream",
     "text": [
      ">>> Financials - Consumer Services\n",
      "Length another_stocks: 17\n",
      "Length triplets two sectors: 35\n"
     ]
    },
    {
     "data": {
      "application/vnd.jupyter.widget-view+json": {
       "model_id": "146ba615905240d0ac0fd5ba1dba52b0",
       "version_major": 2,
       "version_minor": 0
      },
      "text/plain": [
       "  0%|          | 0/35 [00:00<?, ?it/s]"
      ]
     },
     "metadata": {},
     "output_type": "display_data"
    },
    {
     "name": "stdout",
     "output_type": "stream",
     "text": [
      ">>> Financials - Health Care\n",
      "Length another_stocks: 10\n",
      "Length triplets two sectors: 35\n"
     ]
    },
    {
     "data": {
      "application/vnd.jupyter.widget-view+json": {
       "model_id": "fa480bc58e1349f6b97ab2bbfae068a4",
       "version_major": 2,
       "version_minor": 0
      },
      "text/plain": [
       "  0%|          | 0/35 [00:00<?, ?it/s]"
      ]
     },
     "metadata": {},
     "output_type": "display_data"
    },
    {
     "name": "stdout",
     "output_type": "stream",
     "text": [
      ">>> Financials - Utilities\n",
      "Length another_stocks: 7\n",
      "Length triplets two sectors: 35\n"
     ]
    },
    {
     "data": {
      "application/vnd.jupyter.widget-view+json": {
       "model_id": "9185767dd3a94f4ba5e676a6a3e3d4bb",
       "version_major": 2,
       "version_minor": 0
      },
      "text/plain": [
       "  0%|          | 0/35 [00:00<?, ?it/s]"
      ]
     },
     "metadata": {},
     "output_type": "display_data"
    },
    {
     "name": "stdout",
     "output_type": "stream",
     "text": [
      ">>> Financials - Oil & Gas\n",
      "Length another_stocks: 7\n",
      "Length triplets two sectors: 35\n"
     ]
    },
    {
     "data": {
      "application/vnd.jupyter.widget-view+json": {
       "model_id": "d09145cc897e4452a25b4255ded61b1c",
       "version_major": 2,
       "version_minor": 0
      },
      "text/plain": [
       "  0%|          | 0/35 [00:00<?, ?it/s]"
      ]
     },
     "metadata": {},
     "output_type": "display_data"
    },
    {
     "name": "stdout",
     "output_type": "stream",
     "text": [
      ">>> Financials - Consumer Goods\n",
      "Length another_stocks: 8\n",
      "Length triplets two sectors: 35\n"
     ]
    },
    {
     "data": {
      "application/vnd.jupyter.widget-view+json": {
       "model_id": "7cdc4166f26644f3b2f6096e23768e47",
       "version_major": 2,
       "version_minor": 0
      },
      "text/plain": [
       "  0%|          | 0/35 [00:00<?, ?it/s]"
      ]
     },
     "metadata": {},
     "output_type": "display_data"
    },
    {
     "name": "stdout",
     "output_type": "stream",
     "text": [
      ">>> Consumer Services\n",
      "Length target_stocks: 17\n",
      "Length triplets same sector: 35\n"
     ]
    },
    {
     "data": {
      "application/vnd.jupyter.widget-view+json": {
       "model_id": "d7033b0cbaf04c6dbeea9d42463880b4",
       "version_major": 2,
       "version_minor": 0
      },
      "text/plain": [
       "  0%|          | 0/35 [00:00<?, ?it/s]"
      ]
     },
     "metadata": {},
     "output_type": "display_data"
    },
    {
     "name": "stdout",
     "output_type": "stream",
     "text": [
      ">>> Consumer Services - Industrials\n",
      "Length another_stocks: 20\n",
      "Length triplets two sectors: 35\n"
     ]
    },
    {
     "data": {
      "application/vnd.jupyter.widget-view+json": {
       "model_id": "678c6af98f6a425b97a5520bac2d3272",
       "version_major": 2,
       "version_minor": 0
      },
      "text/plain": [
       "  0%|          | 0/35 [00:00<?, ?it/s]"
      ]
     },
     "metadata": {},
     "output_type": "display_data"
    },
    {
     "name": "stdout",
     "output_type": "stream",
     "text": [
      ">>> Consumer Services - Basic Materials\n",
      "Length another_stocks: 8\n",
      "Length triplets two sectors: 35\n"
     ]
    },
    {
     "data": {
      "application/vnd.jupyter.widget-view+json": {
       "model_id": "f29ba604aba549628a8c671b4acd524b",
       "version_major": 2,
       "version_minor": 0
      },
      "text/plain": [
       "  0%|          | 0/35 [00:00<?, ?it/s]"
      ]
     },
     "metadata": {},
     "output_type": "display_data"
    },
    {
     "name": "stdout",
     "output_type": "stream",
     "text": [
      ">>> Consumer Services - Financials\n",
      "Length another_stocks: 38\n",
      "Length triplets two sectors: 35\n"
     ]
    },
    {
     "data": {
      "application/vnd.jupyter.widget-view+json": {
       "model_id": "766f57e788e943ff997bef0a6f00a6ce",
       "version_major": 2,
       "version_minor": 0
      },
      "text/plain": [
       "  0%|          | 0/35 [00:00<?, ?it/s]"
      ]
     },
     "metadata": {},
     "output_type": "display_data"
    },
    {
     "name": "stdout",
     "output_type": "stream",
     "text": [
      ">>> Consumer Services - Health Care\n",
      "Length another_stocks: 10\n",
      "Length triplets two sectors: 35\n"
     ]
    },
    {
     "data": {
      "application/vnd.jupyter.widget-view+json": {
       "model_id": "57c90c7ef6e94fd1aca6c7221882c836",
       "version_major": 2,
       "version_minor": 0
      },
      "text/plain": [
       "  0%|          | 0/35 [00:00<?, ?it/s]"
      ]
     },
     "metadata": {},
     "output_type": "display_data"
    },
    {
     "name": "stdout",
     "output_type": "stream",
     "text": [
      ">>> Consumer Services - Utilities\n",
      "Length another_stocks: 7\n",
      "Length triplets two sectors: 35\n"
     ]
    },
    {
     "data": {
      "application/vnd.jupyter.widget-view+json": {
       "model_id": "8cd0bca4d1424639be019d79fe525ea5",
       "version_major": 2,
       "version_minor": 0
      },
      "text/plain": [
       "  0%|          | 0/35 [00:00<?, ?it/s]"
      ]
     },
     "metadata": {},
     "output_type": "display_data"
    },
    {
     "name": "stdout",
     "output_type": "stream",
     "text": [
      ">>> Consumer Services - Oil & Gas\n",
      "Length another_stocks: 7\n",
      "Length triplets two sectors: 35\n"
     ]
    },
    {
     "data": {
      "application/vnd.jupyter.widget-view+json": {
       "model_id": "b8dc4f0308874d948da6e49023e094b3",
       "version_major": 2,
       "version_minor": 0
      },
      "text/plain": [
       "  0%|          | 0/35 [00:00<?, ?it/s]"
      ]
     },
     "metadata": {},
     "output_type": "display_data"
    },
    {
     "name": "stdout",
     "output_type": "stream",
     "text": [
      ">>> Consumer Services - Consumer Goods\n",
      "Length another_stocks: 8\n",
      "Length triplets two sectors: 35\n"
     ]
    },
    {
     "data": {
      "application/vnd.jupyter.widget-view+json": {
       "model_id": "31541237f6f84ec5bf7f0b75b452594a",
       "version_major": 2,
       "version_minor": 0
      },
      "text/plain": [
       "  0%|          | 0/35 [00:00<?, ?it/s]"
      ]
     },
     "metadata": {},
     "output_type": "display_data"
    },
    {
     "name": "stdout",
     "output_type": "stream",
     "text": [
      ">>> Health Care\n",
      "Length target_stocks: 10\n",
      "Length triplets same sector: 35\n"
     ]
    },
    {
     "data": {
      "application/vnd.jupyter.widget-view+json": {
       "model_id": "aa583a40fc4a4aaab7f8999dbe5b2c2b",
       "version_major": 2,
       "version_minor": 0
      },
      "text/plain": [
       "  0%|          | 0/35 [00:00<?, ?it/s]"
      ]
     },
     "metadata": {},
     "output_type": "display_data"
    },
    {
     "name": "stdout",
     "output_type": "stream",
     "text": [
      ">>> Health Care - Industrials\n",
      "Length another_stocks: 20\n",
      "Length triplets two sectors: 35\n"
     ]
    },
    {
     "data": {
      "application/vnd.jupyter.widget-view+json": {
       "model_id": "ec5bd4e77a9a462fb8abad02d58e7145",
       "version_major": 2,
       "version_minor": 0
      },
      "text/plain": [
       "  0%|          | 0/35 [00:00<?, ?it/s]"
      ]
     },
     "metadata": {},
     "output_type": "display_data"
    },
    {
     "name": "stdout",
     "output_type": "stream",
     "text": [
      ">>> Health Care - Basic Materials\n",
      "Length another_stocks: 8\n",
      "Length triplets two sectors: 35\n"
     ]
    },
    {
     "data": {
      "application/vnd.jupyter.widget-view+json": {
       "model_id": "1d01b917ca1e45e8bac58f854dd723a7",
       "version_major": 2,
       "version_minor": 0
      },
      "text/plain": [
       "  0%|          | 0/35 [00:00<?, ?it/s]"
      ]
     },
     "metadata": {},
     "output_type": "display_data"
    },
    {
     "name": "stdout",
     "output_type": "stream",
     "text": [
      ">>> Health Care - Financials\n",
      "Length another_stocks: 38\n",
      "Length triplets two sectors: 35\n"
     ]
    },
    {
     "data": {
      "application/vnd.jupyter.widget-view+json": {
       "model_id": "3637b3f6ca1d4eb2a3e0f34d87f9c624",
       "version_major": 2,
       "version_minor": 0
      },
      "text/plain": [
       "  0%|          | 0/35 [00:00<?, ?it/s]"
      ]
     },
     "metadata": {},
     "output_type": "display_data"
    },
    {
     "name": "stdout",
     "output_type": "stream",
     "text": [
      ">>> Health Care - Consumer Services\n",
      "Length another_stocks: 17\n",
      "Length triplets two sectors: 35\n"
     ]
    },
    {
     "data": {
      "application/vnd.jupyter.widget-view+json": {
       "model_id": "f0a7c8a80c14487793ada0cbbac340e5",
       "version_major": 2,
       "version_minor": 0
      },
      "text/plain": [
       "  0%|          | 0/35 [00:00<?, ?it/s]"
      ]
     },
     "metadata": {},
     "output_type": "display_data"
    },
    {
     "name": "stdout",
     "output_type": "stream",
     "text": [
      ">>> Health Care - Utilities\n",
      "Length another_stocks: 7\n",
      "Length triplets two sectors: 35\n"
     ]
    },
    {
     "data": {
      "application/vnd.jupyter.widget-view+json": {
       "model_id": "9fd57867c2fd43b2af426d4a3524b9bb",
       "version_major": 2,
       "version_minor": 0
      },
      "text/plain": [
       "  0%|          | 0/35 [00:00<?, ?it/s]"
      ]
     },
     "metadata": {},
     "output_type": "display_data"
    },
    {
     "name": "stdout",
     "output_type": "stream",
     "text": [
      ">>> Health Care - Oil & Gas\n",
      "Length another_stocks: 7\n",
      "Length triplets two sectors: 35\n"
     ]
    },
    {
     "data": {
      "application/vnd.jupyter.widget-view+json": {
       "model_id": "939b7ab57dd545c0ab5f2d8f20d29c51",
       "version_major": 2,
       "version_minor": 0
      },
      "text/plain": [
       "  0%|          | 0/35 [00:00<?, ?it/s]"
      ]
     },
     "metadata": {},
     "output_type": "display_data"
    },
    {
     "name": "stdout",
     "output_type": "stream",
     "text": [
      ">>> Health Care - Consumer Goods\n",
      "Length another_stocks: 8\n",
      "Length triplets two sectors: 35\n"
     ]
    },
    {
     "data": {
      "application/vnd.jupyter.widget-view+json": {
       "model_id": "1473976e74dd438d8c268960e448e349",
       "version_major": 2,
       "version_minor": 0
      },
      "text/plain": [
       "  0%|          | 0/35 [00:00<?, ?it/s]"
      ]
     },
     "metadata": {},
     "output_type": "display_data"
    },
    {
     "name": "stdout",
     "output_type": "stream",
     "text": [
      ">>> Utilities\n",
      "Length target_stocks: 7\n",
      "Length triplets same sector: 35\n"
     ]
    },
    {
     "data": {
      "application/vnd.jupyter.widget-view+json": {
       "model_id": "0f141a9d6a8b4130a0eb93b8eb9f26dc",
       "version_major": 2,
       "version_minor": 0
      },
      "text/plain": [
       "  0%|          | 0/35 [00:00<?, ?it/s]"
      ]
     },
     "metadata": {},
     "output_type": "display_data"
    },
    {
     "name": "stdout",
     "output_type": "stream",
     "text": [
      ">>> Utilities - Industrials\n",
      "Length another_stocks: 20\n",
      "Length triplets two sectors: 35\n"
     ]
    },
    {
     "data": {
      "application/vnd.jupyter.widget-view+json": {
       "model_id": "8d70296f2b434a478eb85451b1852f6f",
       "version_major": 2,
       "version_minor": 0
      },
      "text/plain": [
       "  0%|          | 0/35 [00:00<?, ?it/s]"
      ]
     },
     "metadata": {},
     "output_type": "display_data"
    },
    {
     "name": "stdout",
     "output_type": "stream",
     "text": [
      ">>> Utilities - Basic Materials\n",
      "Length another_stocks: 8\n",
      "Length triplets two sectors: 35\n"
     ]
    },
    {
     "data": {
      "application/vnd.jupyter.widget-view+json": {
       "model_id": "506ae5a824914d3c809b409e28be07bd",
       "version_major": 2,
       "version_minor": 0
      },
      "text/plain": [
       "  0%|          | 0/35 [00:00<?, ?it/s]"
      ]
     },
     "metadata": {},
     "output_type": "display_data"
    },
    {
     "name": "stdout",
     "output_type": "stream",
     "text": [
      ">>> Utilities - Financials\n",
      "Length another_stocks: 38\n",
      "Length triplets two sectors: 35\n"
     ]
    },
    {
     "data": {
      "application/vnd.jupyter.widget-view+json": {
       "model_id": "8e8006cebebe417eb5aa5b750d59423a",
       "version_major": 2,
       "version_minor": 0
      },
      "text/plain": [
       "  0%|          | 0/35 [00:00<?, ?it/s]"
      ]
     },
     "metadata": {},
     "output_type": "display_data"
    },
    {
     "name": "stdout",
     "output_type": "stream",
     "text": [
      ">>> Utilities - Consumer Services\n",
      "Length another_stocks: 17\n",
      "Length triplets two sectors: 35\n"
     ]
    },
    {
     "data": {
      "application/vnd.jupyter.widget-view+json": {
       "model_id": "52c2b1c9ece746088c909002f087dc1c",
       "version_major": 2,
       "version_minor": 0
      },
      "text/plain": [
       "  0%|          | 0/35 [00:00<?, ?it/s]"
      ]
     },
     "metadata": {},
     "output_type": "display_data"
    },
    {
     "name": "stdout",
     "output_type": "stream",
     "text": [
      ">>> Utilities - Health Care\n",
      "Length another_stocks: 10\n",
      "Length triplets two sectors: 35\n"
     ]
    },
    {
     "data": {
      "application/vnd.jupyter.widget-view+json": {
       "model_id": "838712344d68421999472e7a3beba438",
       "version_major": 2,
       "version_minor": 0
      },
      "text/plain": [
       "  0%|          | 0/35 [00:00<?, ?it/s]"
      ]
     },
     "metadata": {},
     "output_type": "display_data"
    },
    {
     "name": "stdout",
     "output_type": "stream",
     "text": [
      ">>> Utilities - Oil & Gas\n",
      "Length another_stocks: 7\n",
      "Length triplets two sectors: 35\n"
     ]
    },
    {
     "data": {
      "application/vnd.jupyter.widget-view+json": {
       "model_id": "f7c2a7890cab4bcd93ec475377174972",
       "version_major": 2,
       "version_minor": 0
      },
      "text/plain": [
       "  0%|          | 0/35 [00:00<?, ?it/s]"
      ]
     },
     "metadata": {},
     "output_type": "display_data"
    },
    {
     "name": "stdout",
     "output_type": "stream",
     "text": [
      ">>> Utilities - Consumer Goods\n",
      "Length another_stocks: 8\n",
      "Length triplets two sectors: 35\n"
     ]
    },
    {
     "data": {
      "application/vnd.jupyter.widget-view+json": {
       "model_id": "71a18bf138394da09b485b779d9537e5",
       "version_major": 2,
       "version_minor": 0
      },
      "text/plain": [
       "  0%|          | 0/35 [00:00<?, ?it/s]"
      ]
     },
     "metadata": {},
     "output_type": "display_data"
    },
    {
     "name": "stdout",
     "output_type": "stream",
     "text": [
      ">>> Oil & Gas\n",
      "Length target_stocks: 7\n",
      "Length triplets same sector: 35\n"
     ]
    },
    {
     "data": {
      "application/vnd.jupyter.widget-view+json": {
       "model_id": "94c37994c58f473d83f76749f2768c83",
       "version_major": 2,
       "version_minor": 0
      },
      "text/plain": [
       "  0%|          | 0/35 [00:00<?, ?it/s]"
      ]
     },
     "metadata": {},
     "output_type": "display_data"
    },
    {
     "name": "stdout",
     "output_type": "stream",
     "text": [
      ">>> Oil & Gas - Industrials\n",
      "Length another_stocks: 20\n",
      "Length triplets two sectors: 35\n"
     ]
    },
    {
     "data": {
      "application/vnd.jupyter.widget-view+json": {
       "model_id": "ed203e7bde5b4dd6bc07f3a3ad099e1b",
       "version_major": 2,
       "version_minor": 0
      },
      "text/plain": [
       "  0%|          | 0/35 [00:00<?, ?it/s]"
      ]
     },
     "metadata": {},
     "output_type": "display_data"
    },
    {
     "name": "stdout",
     "output_type": "stream",
     "text": [
      ">>> Oil & Gas - Basic Materials\n",
      "Length another_stocks: 8\n",
      "Length triplets two sectors: 35\n"
     ]
    },
    {
     "data": {
      "application/vnd.jupyter.widget-view+json": {
       "model_id": "cd80929e8d364ea1bc684506e9d918e8",
       "version_major": 2,
       "version_minor": 0
      },
      "text/plain": [
       "  0%|          | 0/35 [00:00<?, ?it/s]"
      ]
     },
     "metadata": {},
     "output_type": "display_data"
    },
    {
     "name": "stdout",
     "output_type": "stream",
     "text": [
      ">>> Oil & Gas - Financials\n",
      "Length another_stocks: 38\n",
      "Length triplets two sectors: 35\n"
     ]
    },
    {
     "data": {
      "application/vnd.jupyter.widget-view+json": {
       "model_id": "f30e5368c1744e95ba9b4a1509674170",
       "version_major": 2,
       "version_minor": 0
      },
      "text/plain": [
       "  0%|          | 0/35 [00:00<?, ?it/s]"
      ]
     },
     "metadata": {},
     "output_type": "display_data"
    },
    {
     "name": "stdout",
     "output_type": "stream",
     "text": [
      ">>> Oil & Gas - Consumer Services\n",
      "Length another_stocks: 17\n",
      "Length triplets two sectors: 35\n"
     ]
    },
    {
     "data": {
      "application/vnd.jupyter.widget-view+json": {
       "model_id": "ae8b124d5d694dafba951dbe24b7a6ba",
       "version_major": 2,
       "version_minor": 0
      },
      "text/plain": [
       "  0%|          | 0/35 [00:00<?, ?it/s]"
      ]
     },
     "metadata": {},
     "output_type": "display_data"
    },
    {
     "name": "stdout",
     "output_type": "stream",
     "text": [
      ">>> Oil & Gas - Health Care\n",
      "Length another_stocks: 10\n",
      "Length triplets two sectors: 35\n"
     ]
    },
    {
     "data": {
      "application/vnd.jupyter.widget-view+json": {
       "model_id": "65d95613587f4994ac54c70f026a2bc2",
       "version_major": 2,
       "version_minor": 0
      },
      "text/plain": [
       "  0%|          | 0/35 [00:00<?, ?it/s]"
      ]
     },
     "metadata": {},
     "output_type": "display_data"
    },
    {
     "name": "stdout",
     "output_type": "stream",
     "text": [
      ">>> Oil & Gas - Utilities\n",
      "Length another_stocks: 7\n",
      "Length triplets two sectors: 35\n"
     ]
    },
    {
     "data": {
      "application/vnd.jupyter.widget-view+json": {
       "model_id": "1faea84b5bbd40d8834b77a545989dec",
       "version_major": 2,
       "version_minor": 0
      },
      "text/plain": [
       "  0%|          | 0/35 [00:00<?, ?it/s]"
      ]
     },
     "metadata": {},
     "output_type": "display_data"
    },
    {
     "name": "stdout",
     "output_type": "stream",
     "text": [
      ">>> Oil & Gas - Consumer Goods\n",
      "Length another_stocks: 8\n",
      "Length triplets two sectors: 35\n"
     ]
    },
    {
     "data": {
      "application/vnd.jupyter.widget-view+json": {
       "model_id": "6a2aa275f22b49bba029a4cd896b4c89",
       "version_major": 2,
       "version_minor": 0
      },
      "text/plain": [
       "  0%|          | 0/35 [00:00<?, ?it/s]"
      ]
     },
     "metadata": {},
     "output_type": "display_data"
    },
    {
     "name": "stdout",
     "output_type": "stream",
     "text": [
      ">>> Consumer Goods\n",
      "Length target_stocks: 8\n",
      "Length triplets same sector: 35\n"
     ]
    },
    {
     "data": {
      "application/vnd.jupyter.widget-view+json": {
       "model_id": "86d91e23d94a42ebb46a5e297a6540ba",
       "version_major": 2,
       "version_minor": 0
      },
      "text/plain": [
       "  0%|          | 0/35 [00:00<?, ?it/s]"
      ]
     },
     "metadata": {},
     "output_type": "display_data"
    },
    {
     "name": "stdout",
     "output_type": "stream",
     "text": [
      ">>> Consumer Goods - Industrials\n",
      "Length another_stocks: 20\n",
      "Length triplets two sectors: 35\n"
     ]
    },
    {
     "data": {
      "application/vnd.jupyter.widget-view+json": {
       "model_id": "d302a8155879401485ba7d74f8939c77",
       "version_major": 2,
       "version_minor": 0
      },
      "text/plain": [
       "  0%|          | 0/35 [00:00<?, ?it/s]"
      ]
     },
     "metadata": {},
     "output_type": "display_data"
    },
    {
     "name": "stdout",
     "output_type": "stream",
     "text": [
      ">>> Consumer Goods - Basic Materials\n",
      "Length another_stocks: 8\n",
      "Length triplets two sectors: 35\n"
     ]
    },
    {
     "data": {
      "application/vnd.jupyter.widget-view+json": {
       "model_id": "1dbafa534b5e41a4a55bea3a57882337",
       "version_major": 2,
       "version_minor": 0
      },
      "text/plain": [
       "  0%|          | 0/35 [00:00<?, ?it/s]"
      ]
     },
     "metadata": {},
     "output_type": "display_data"
    },
    {
     "name": "stdout",
     "output_type": "stream",
     "text": [
      ">>> Consumer Goods - Financials\n",
      "Length another_stocks: 38\n",
      "Length triplets two sectors: 35\n"
     ]
    },
    {
     "data": {
      "application/vnd.jupyter.widget-view+json": {
       "model_id": "5e89d244834a45849519b0978bb9b0d3",
       "version_major": 2,
       "version_minor": 0
      },
      "text/plain": [
       "  0%|          | 0/35 [00:00<?, ?it/s]"
      ]
     },
     "metadata": {},
     "output_type": "display_data"
    },
    {
     "name": "stdout",
     "output_type": "stream",
     "text": [
      ">>> Consumer Goods - Consumer Services\n",
      "Length another_stocks: 17\n",
      "Length triplets two sectors: 35\n"
     ]
    },
    {
     "data": {
      "application/vnd.jupyter.widget-view+json": {
       "model_id": "634044f76ff441afa9d3069f7b3fa5f3",
       "version_major": 2,
       "version_minor": 0
      },
      "text/plain": [
       "  0%|          | 0/35 [00:00<?, ?it/s]"
      ]
     },
     "metadata": {},
     "output_type": "display_data"
    },
    {
     "name": "stdout",
     "output_type": "stream",
     "text": [
      ">>> Consumer Goods - Health Care\n",
      "Length another_stocks: 10\n",
      "Length triplets two sectors: 35\n"
     ]
    },
    {
     "data": {
      "application/vnd.jupyter.widget-view+json": {
       "model_id": "d79570d2a2314ab6bdc6c913ea3f248e",
       "version_major": 2,
       "version_minor": 0
      },
      "text/plain": [
       "  0%|          | 0/35 [00:00<?, ?it/s]"
      ]
     },
     "metadata": {},
     "output_type": "display_data"
    },
    {
     "name": "stdout",
     "output_type": "stream",
     "text": [
      ">>> Consumer Goods - Utilities\n",
      "Length another_stocks: 7\n",
      "Length triplets two sectors: 35\n"
     ]
    },
    {
     "data": {
      "application/vnd.jupyter.widget-view+json": {
       "model_id": "f79e9066927241fe8d99d7da4f085e31",
       "version_major": 2,
       "version_minor": 0
      },
      "text/plain": [
       "  0%|          | 0/35 [00:00<?, ?it/s]"
      ]
     },
     "metadata": {},
     "output_type": "display_data"
    },
    {
     "name": "stdout",
     "output_type": "stream",
     "text": [
      ">>> Consumer Goods - Oil & Gas\n",
      "Length another_stocks: 7\n",
      "Length triplets two sectors: 35\n"
     ]
    },
    {
     "data": {
      "application/vnd.jupyter.widget-view+json": {
       "model_id": "e0e59d0d18c4468988c26c1ab78ba9a5",
       "version_major": 2,
       "version_minor": 0
      },
      "text/plain": [
       "  0%|          | 0/35 [00:00<?, ?it/s]"
      ]
     },
     "metadata": {},
     "output_type": "display_data"
    },
    {
     "name": "stdout",
     "output_type": "stream",
     "text": [
      ">>> Industrials\n",
      "Length target_stocks: 20\n",
      "Length triplets same sector: 35\n"
     ]
    },
    {
     "data": {
      "application/vnd.jupyter.widget-view+json": {
       "model_id": "c46bab2e71bb4bd0815288e2d3bf42cc",
       "version_major": 2,
       "version_minor": 0
      },
      "text/plain": [
       "  0%|          | 0/35 [00:00<?, ?it/s]"
      ]
     },
     "metadata": {},
     "output_type": "display_data"
    },
    {
     "name": "stdout",
     "output_type": "stream",
     "text": [
      ">>> Industrials - Basic Materials\n",
      "Length another_stocks: 8\n",
      "Length triplets two sectors: 35\n"
     ]
    },
    {
     "data": {
      "application/vnd.jupyter.widget-view+json": {
       "model_id": "523bf57d77c94bea9393f8c12aea46ba",
       "version_major": 2,
       "version_minor": 0
      },
      "text/plain": [
       "  0%|          | 0/35 [00:00<?, ?it/s]"
      ]
     },
     "metadata": {},
     "output_type": "display_data"
    },
    {
     "name": "stdout",
     "output_type": "stream",
     "text": [
      ">>> Industrials - Financials\n",
      "Length another_stocks: 38\n",
      "Length triplets two sectors: 35\n"
     ]
    },
    {
     "data": {
      "application/vnd.jupyter.widget-view+json": {
       "model_id": "9766df68e4614c02a4b02d5681f83eab",
       "version_major": 2,
       "version_minor": 0
      },
      "text/plain": [
       "  0%|          | 0/35 [00:00<?, ?it/s]"
      ]
     },
     "metadata": {},
     "output_type": "display_data"
    },
    {
     "name": "stdout",
     "output_type": "stream",
     "text": [
      ">>> Industrials - Consumer Services\n",
      "Length another_stocks: 17\n",
      "Length triplets two sectors: 35\n"
     ]
    },
    {
     "data": {
      "application/vnd.jupyter.widget-view+json": {
       "model_id": "1ac9bfceee1c43959d826d7c78c4447b",
       "version_major": 2,
       "version_minor": 0
      },
      "text/plain": [
       "  0%|          | 0/35 [00:00<?, ?it/s]"
      ]
     },
     "metadata": {},
     "output_type": "display_data"
    },
    {
     "name": "stdout",
     "output_type": "stream",
     "text": [
      ">>> Industrials - Health Care\n",
      "Length another_stocks: 10\n",
      "Length triplets two sectors: 35\n"
     ]
    },
    {
     "data": {
      "application/vnd.jupyter.widget-view+json": {
       "model_id": "31a8d8f074524852a813f15737575aaf",
       "version_major": 2,
       "version_minor": 0
      },
      "text/plain": [
       "  0%|          | 0/35 [00:00<?, ?it/s]"
      ]
     },
     "metadata": {},
     "output_type": "display_data"
    },
    {
     "name": "stdout",
     "output_type": "stream",
     "text": [
      ">>> Industrials - Utilities\n",
      "Length another_stocks: 7\n",
      "Length triplets two sectors: 35\n"
     ]
    },
    {
     "data": {
      "application/vnd.jupyter.widget-view+json": {
       "model_id": "462d44a0209947f08a6e5a869e4aec62",
       "version_major": 2,
       "version_minor": 0
      },
      "text/plain": [
       "  0%|          | 0/35 [00:00<?, ?it/s]"
      ]
     },
     "metadata": {},
     "output_type": "display_data"
    },
    {
     "name": "stdout",
     "output_type": "stream",
     "text": [
      ">>> Industrials - Oil & Gas\n",
      "Length another_stocks: 7\n",
      "Length triplets two sectors: 35\n"
     ]
    },
    {
     "data": {
      "application/vnd.jupyter.widget-view+json": {
       "model_id": "4ef83512cd8740268be07d808f4f6b57",
       "version_major": 2,
       "version_minor": 0
      },
      "text/plain": [
       "  0%|          | 0/35 [00:00<?, ?it/s]"
      ]
     },
     "metadata": {},
     "output_type": "display_data"
    },
    {
     "name": "stdout",
     "output_type": "stream",
     "text": [
      ">>> Industrials - Consumer Goods\n",
      "Length another_stocks: 8\n",
      "Length triplets two sectors: 35\n"
     ]
    },
    {
     "data": {
      "application/vnd.jupyter.widget-view+json": {
       "model_id": "a46cd0ad95aa4c5fbf603d3149ac0117",
       "version_major": 2,
       "version_minor": 0
      },
      "text/plain": [
       "  0%|          | 0/35 [00:00<?, ?it/s]"
      ]
     },
     "metadata": {},
     "output_type": "display_data"
    },
    {
     "name": "stdout",
     "output_type": "stream",
     "text": [
      ">>> Basic Materials\n",
      "Length target_stocks: 8\n",
      "Length triplets same sector: 35\n"
     ]
    },
    {
     "data": {
      "application/vnd.jupyter.widget-view+json": {
       "model_id": "385b0c8e20624d21911d63b5f5c44c19",
       "version_major": 2,
       "version_minor": 0
      },
      "text/plain": [
       "  0%|          | 0/35 [00:00<?, ?it/s]"
      ]
     },
     "metadata": {},
     "output_type": "display_data"
    },
    {
     "name": "stdout",
     "output_type": "stream",
     "text": [
      ">>> Basic Materials - Industrials\n",
      "Length another_stocks: 20\n",
      "Length triplets two sectors: 35\n"
     ]
    },
    {
     "data": {
      "application/vnd.jupyter.widget-view+json": {
       "model_id": "06287a6cbdab4a16af87d1c14fd87322",
       "version_major": 2,
       "version_minor": 0
      },
      "text/plain": [
       "  0%|          | 0/35 [00:00<?, ?it/s]"
      ]
     },
     "metadata": {},
     "output_type": "display_data"
    },
    {
     "name": "stdout",
     "output_type": "stream",
     "text": [
      ">>> Basic Materials - Financials\n",
      "Length another_stocks: 38\n",
      "Length triplets two sectors: 35\n"
     ]
    },
    {
     "data": {
      "application/vnd.jupyter.widget-view+json": {
       "model_id": "b93031fc5abd46ec914094c94668cb58",
       "version_major": 2,
       "version_minor": 0
      },
      "text/plain": [
       "  0%|          | 0/35 [00:00<?, ?it/s]"
      ]
     },
     "metadata": {},
     "output_type": "display_data"
    },
    {
     "name": "stdout",
     "output_type": "stream",
     "text": [
      ">>> Basic Materials - Consumer Services\n",
      "Length another_stocks: 17\n",
      "Length triplets two sectors: 35\n"
     ]
    },
    {
     "data": {
      "application/vnd.jupyter.widget-view+json": {
       "model_id": "fdb439b7412141d693a62c51a03bea32",
       "version_major": 2,
       "version_minor": 0
      },
      "text/plain": [
       "  0%|          | 0/35 [00:00<?, ?it/s]"
      ]
     },
     "metadata": {},
     "output_type": "display_data"
    },
    {
     "name": "stdout",
     "output_type": "stream",
     "text": [
      ">>> Basic Materials - Health Care\n",
      "Length another_stocks: 10\n",
      "Length triplets two sectors: 35\n"
     ]
    },
    {
     "data": {
      "application/vnd.jupyter.widget-view+json": {
       "model_id": "cdc257e5b8774ee482ed1997747ba8a4",
       "version_major": 2,
       "version_minor": 0
      },
      "text/plain": [
       "  0%|          | 0/35 [00:00<?, ?it/s]"
      ]
     },
     "metadata": {},
     "output_type": "display_data"
    },
    {
     "name": "stdout",
     "output_type": "stream",
     "text": [
      ">>> Basic Materials - Utilities\n",
      "Length another_stocks: 7\n",
      "Length triplets two sectors: 35\n"
     ]
    },
    {
     "data": {
      "application/vnd.jupyter.widget-view+json": {
       "model_id": "7916ae210bc64a93ac1dabc17e5ac2d5",
       "version_major": 2,
       "version_minor": 0
      },
      "text/plain": [
       "  0%|          | 0/35 [00:00<?, ?it/s]"
      ]
     },
     "metadata": {},
     "output_type": "display_data"
    },
    {
     "name": "stdout",
     "output_type": "stream",
     "text": [
      ">>> Basic Materials - Oil & Gas\n",
      "Length another_stocks: 7\n",
      "Length triplets two sectors: 35\n"
     ]
    },
    {
     "data": {
      "application/vnd.jupyter.widget-view+json": {
       "model_id": "8ada120cd61c484ba6c66f32f52b7cf3",
       "version_major": 2,
       "version_minor": 0
      },
      "text/plain": [
       "  0%|          | 0/35 [00:00<?, ?it/s]"
      ]
     },
     "metadata": {},
     "output_type": "display_data"
    },
    {
     "name": "stdout",
     "output_type": "stream",
     "text": [
      ">>> Basic Materials - Consumer Goods\n",
      "Length another_stocks: 8\n",
      "Length triplets two sectors: 35\n"
     ]
    },
    {
     "data": {
      "application/vnd.jupyter.widget-view+json": {
       "model_id": "4803631ae5424012881d212da1b047c5",
       "version_major": 2,
       "version_minor": 0
      },
      "text/plain": [
       "  0%|          | 0/35 [00:00<?, ?it/s]"
      ]
     },
     "metadata": {},
     "output_type": "display_data"
    },
    {
     "name": "stdout",
     "output_type": "stream",
     "text": [
      ">>> Financials\n",
      "Length target_stocks: 38\n",
      "Length triplets same sector: 35\n"
     ]
    },
    {
     "data": {
      "application/vnd.jupyter.widget-view+json": {
       "model_id": "81fe803d5585498abf5b4e9a2eba52f5",
       "version_major": 2,
       "version_minor": 0
      },
      "text/plain": [
       "  0%|          | 0/35 [00:00<?, ?it/s]"
      ]
     },
     "metadata": {},
     "output_type": "display_data"
    },
    {
     "name": "stdout",
     "output_type": "stream",
     "text": [
      ">>> Financials - Industrials\n",
      "Length another_stocks: 20\n",
      "Length triplets two sectors: 35\n"
     ]
    },
    {
     "data": {
      "application/vnd.jupyter.widget-view+json": {
       "model_id": "c10c08a37b724000b4a61b31ae8d4cb2",
       "version_major": 2,
       "version_minor": 0
      },
      "text/plain": [
       "  0%|          | 0/35 [00:00<?, ?it/s]"
      ]
     },
     "metadata": {},
     "output_type": "display_data"
    },
    {
     "name": "stdout",
     "output_type": "stream",
     "text": [
      ">>> Financials - Basic Materials\n",
      "Length another_stocks: 8\n",
      "Length triplets two sectors: 35\n"
     ]
    },
    {
     "data": {
      "application/vnd.jupyter.widget-view+json": {
       "model_id": "9130c6c8fed94fefad6f829698c621b4",
       "version_major": 2,
       "version_minor": 0
      },
      "text/plain": [
       "  0%|          | 0/35 [00:00<?, ?it/s]"
      ]
     },
     "metadata": {},
     "output_type": "display_data"
    },
    {
     "name": "stdout",
     "output_type": "stream",
     "text": [
      ">>> Financials - Consumer Services\n",
      "Length another_stocks: 17\n",
      "Length triplets two sectors: 35\n"
     ]
    },
    {
     "data": {
      "application/vnd.jupyter.widget-view+json": {
       "model_id": "46d634d6a12a4647b8c53075a11e2917",
       "version_major": 2,
       "version_minor": 0
      },
      "text/plain": [
       "  0%|          | 0/35 [00:00<?, ?it/s]"
      ]
     },
     "metadata": {},
     "output_type": "display_data"
    },
    {
     "name": "stdout",
     "output_type": "stream",
     "text": [
      ">>> Financials - Health Care\n",
      "Length another_stocks: 10\n",
      "Length triplets two sectors: 35\n"
     ]
    },
    {
     "data": {
      "application/vnd.jupyter.widget-view+json": {
       "model_id": "62778da842494b20b0d8924e1c7476ef",
       "version_major": 2,
       "version_minor": 0
      },
      "text/plain": [
       "  0%|          | 0/35 [00:00<?, ?it/s]"
      ]
     },
     "metadata": {},
     "output_type": "display_data"
    },
    {
     "name": "stdout",
     "output_type": "stream",
     "text": [
      ">>> Financials - Utilities\n",
      "Length another_stocks: 7\n",
      "Length triplets two sectors: 35\n"
     ]
    },
    {
     "data": {
      "application/vnd.jupyter.widget-view+json": {
       "model_id": "5dbd38c7e1cb46e4bc05aeddc6513e48",
       "version_major": 2,
       "version_minor": 0
      },
      "text/plain": [
       "  0%|          | 0/35 [00:00<?, ?it/s]"
      ]
     },
     "metadata": {},
     "output_type": "display_data"
    },
    {
     "name": "stdout",
     "output_type": "stream",
     "text": [
      ">>> Financials - Oil & Gas\n",
      "Length another_stocks: 7\n",
      "Length triplets two sectors: 35\n"
     ]
    },
    {
     "data": {
      "application/vnd.jupyter.widget-view+json": {
       "model_id": "ade20e51b8794968a79596c29ed5fefa",
       "version_major": 2,
       "version_minor": 0
      },
      "text/plain": [
       "  0%|          | 0/35 [00:00<?, ?it/s]"
      ]
     },
     "metadata": {},
     "output_type": "display_data"
    },
    {
     "name": "stdout",
     "output_type": "stream",
     "text": [
      ">>> Financials - Consumer Goods\n",
      "Length another_stocks: 8\n",
      "Length triplets two sectors: 35\n"
     ]
    },
    {
     "data": {
      "application/vnd.jupyter.widget-view+json": {
       "model_id": "1b539e844d5b430aad4516fc88246038",
       "version_major": 2,
       "version_minor": 0
      },
      "text/plain": [
       "  0%|          | 0/35 [00:00<?, ?it/s]"
      ]
     },
     "metadata": {},
     "output_type": "display_data"
    },
    {
     "name": "stdout",
     "output_type": "stream",
     "text": [
      ">>> Consumer Services\n",
      "Length target_stocks: 17\n",
      "Length triplets same sector: 35\n"
     ]
    },
    {
     "data": {
      "application/vnd.jupyter.widget-view+json": {
       "model_id": "71fef8ec10fd4d69aac4c84c3df207e2",
       "version_major": 2,
       "version_minor": 0
      },
      "text/plain": [
       "  0%|          | 0/35 [00:00<?, ?it/s]"
      ]
     },
     "metadata": {},
     "output_type": "display_data"
    },
    {
     "name": "stdout",
     "output_type": "stream",
     "text": [
      ">>> Consumer Services - Industrials\n",
      "Length another_stocks: 20\n",
      "Length triplets two sectors: 35\n"
     ]
    },
    {
     "data": {
      "application/vnd.jupyter.widget-view+json": {
       "model_id": "0995a94769d34b9a9ce13c9c1ecb32f1",
       "version_major": 2,
       "version_minor": 0
      },
      "text/plain": [
       "  0%|          | 0/35 [00:00<?, ?it/s]"
      ]
     },
     "metadata": {},
     "output_type": "display_data"
    },
    {
     "name": "stdout",
     "output_type": "stream",
     "text": [
      ">>> Consumer Services - Basic Materials\n",
      "Length another_stocks: 8\n",
      "Length triplets two sectors: 35\n"
     ]
    },
    {
     "data": {
      "application/vnd.jupyter.widget-view+json": {
       "model_id": "12b665d0d3cd4abba7c4098ee33fab87",
       "version_major": 2,
       "version_minor": 0
      },
      "text/plain": [
       "  0%|          | 0/35 [00:00<?, ?it/s]"
      ]
     },
     "metadata": {},
     "output_type": "display_data"
    },
    {
     "name": "stdout",
     "output_type": "stream",
     "text": [
      ">>> Consumer Services - Financials\n",
      "Length another_stocks: 38\n",
      "Length triplets two sectors: 35\n"
     ]
    },
    {
     "data": {
      "application/vnd.jupyter.widget-view+json": {
       "model_id": "f774dd5745014dddbff2abf1009b644c",
       "version_major": 2,
       "version_minor": 0
      },
      "text/plain": [
       "  0%|          | 0/35 [00:00<?, ?it/s]"
      ]
     },
     "metadata": {},
     "output_type": "display_data"
    },
    {
     "name": "stdout",
     "output_type": "stream",
     "text": [
      ">>> Consumer Services - Health Care\n",
      "Length another_stocks: 10\n",
      "Length triplets two sectors: 35\n"
     ]
    },
    {
     "data": {
      "application/vnd.jupyter.widget-view+json": {
       "model_id": "925dc4e95e1d4e8581b70b0e820d9bc1",
       "version_major": 2,
       "version_minor": 0
      },
      "text/plain": [
       "  0%|          | 0/35 [00:00<?, ?it/s]"
      ]
     },
     "metadata": {},
     "output_type": "display_data"
    },
    {
     "name": "stdout",
     "output_type": "stream",
     "text": [
      ">>> Consumer Services - Utilities\n",
      "Length another_stocks: 7\n",
      "Length triplets two sectors: 35\n"
     ]
    },
    {
     "data": {
      "application/vnd.jupyter.widget-view+json": {
       "model_id": "7288e520dcb84d529e6fe0782f3142b4",
       "version_major": 2,
       "version_minor": 0
      },
      "text/plain": [
       "  0%|          | 0/35 [00:00<?, ?it/s]"
      ]
     },
     "metadata": {},
     "output_type": "display_data"
    },
    {
     "name": "stdout",
     "output_type": "stream",
     "text": [
      ">>> Consumer Services - Oil & Gas\n",
      "Length another_stocks: 7\n",
      "Length triplets two sectors: 35\n"
     ]
    },
    {
     "data": {
      "application/vnd.jupyter.widget-view+json": {
       "model_id": "a2b315f138c14de8a22a5c610a1dedcd",
       "version_major": 2,
       "version_minor": 0
      },
      "text/plain": [
       "  0%|          | 0/35 [00:00<?, ?it/s]"
      ]
     },
     "metadata": {},
     "output_type": "display_data"
    },
    {
     "name": "stdout",
     "output_type": "stream",
     "text": [
      ">>> Consumer Services - Consumer Goods\n",
      "Length another_stocks: 8\n",
      "Length triplets two sectors: 35\n"
     ]
    },
    {
     "data": {
      "application/vnd.jupyter.widget-view+json": {
       "model_id": "002b194707e949de91c559ba8a4409c4",
       "version_major": 2,
       "version_minor": 0
      },
      "text/plain": [
       "  0%|          | 0/35 [00:00<?, ?it/s]"
      ]
     },
     "metadata": {},
     "output_type": "display_data"
    },
    {
     "name": "stdout",
     "output_type": "stream",
     "text": [
      ">>> Health Care\n",
      "Length target_stocks: 10\n",
      "Length triplets same sector: 35\n"
     ]
    },
    {
     "data": {
      "application/vnd.jupyter.widget-view+json": {
       "model_id": "2c345cd8f7d44c08bab21a5e1c3b62c3",
       "version_major": 2,
       "version_minor": 0
      },
      "text/plain": [
       "  0%|          | 0/35 [00:00<?, ?it/s]"
      ]
     },
     "metadata": {},
     "output_type": "display_data"
    },
    {
     "name": "stdout",
     "output_type": "stream",
     "text": [
      ">>> Health Care - Industrials\n",
      "Length another_stocks: 20\n",
      "Length triplets two sectors: 35\n"
     ]
    },
    {
     "data": {
      "application/vnd.jupyter.widget-view+json": {
       "model_id": "a5677a4033e8480baca9ff65549ca53b",
       "version_major": 2,
       "version_minor": 0
      },
      "text/plain": [
       "  0%|          | 0/35 [00:00<?, ?it/s]"
      ]
     },
     "metadata": {},
     "output_type": "display_data"
    },
    {
     "name": "stdout",
     "output_type": "stream",
     "text": [
      ">>> Health Care - Basic Materials\n",
      "Length another_stocks: 8\n",
      "Length triplets two sectors: 35\n"
     ]
    },
    {
     "data": {
      "application/vnd.jupyter.widget-view+json": {
       "model_id": "c83fdb312c044e77b969e0fc02c0516b",
       "version_major": 2,
       "version_minor": 0
      },
      "text/plain": [
       "  0%|          | 0/35 [00:00<?, ?it/s]"
      ]
     },
     "metadata": {},
     "output_type": "display_data"
    },
    {
     "name": "stdout",
     "output_type": "stream",
     "text": [
      ">>> Health Care - Financials\n",
      "Length another_stocks: 38\n",
      "Length triplets two sectors: 35\n"
     ]
    },
    {
     "data": {
      "application/vnd.jupyter.widget-view+json": {
       "model_id": "2b3182d86c6548d7b33169a6a9b9511a",
       "version_major": 2,
       "version_minor": 0
      },
      "text/plain": [
       "  0%|          | 0/35 [00:00<?, ?it/s]"
      ]
     },
     "metadata": {},
     "output_type": "display_data"
    },
    {
     "name": "stdout",
     "output_type": "stream",
     "text": [
      ">>> Health Care - Consumer Services\n",
      "Length another_stocks: 17\n",
      "Length triplets two sectors: 35\n"
     ]
    },
    {
     "data": {
      "application/vnd.jupyter.widget-view+json": {
       "model_id": "df764154d3e74b0d8bc5b428db5e1e2e",
       "version_major": 2,
       "version_minor": 0
      },
      "text/plain": [
       "  0%|          | 0/35 [00:00<?, ?it/s]"
      ]
     },
     "metadata": {},
     "output_type": "display_data"
    },
    {
     "name": "stdout",
     "output_type": "stream",
     "text": [
      ">>> Health Care - Utilities\n",
      "Length another_stocks: 7\n",
      "Length triplets two sectors: 35\n"
     ]
    },
    {
     "data": {
      "application/vnd.jupyter.widget-view+json": {
       "model_id": "ce4d58c426674704b86a9fb121eeabc0",
       "version_major": 2,
       "version_minor": 0
      },
      "text/plain": [
       "  0%|          | 0/35 [00:00<?, ?it/s]"
      ]
     },
     "metadata": {},
     "output_type": "display_data"
    },
    {
     "name": "stdout",
     "output_type": "stream",
     "text": [
      ">>> Health Care - Oil & Gas\n",
      "Length another_stocks: 7\n",
      "Length triplets two sectors: 35\n"
     ]
    },
    {
     "data": {
      "application/vnd.jupyter.widget-view+json": {
       "model_id": "42276664a86f4470a41c48c6f691688c",
       "version_major": 2,
       "version_minor": 0
      },
      "text/plain": [
       "  0%|          | 0/35 [00:00<?, ?it/s]"
      ]
     },
     "metadata": {},
     "output_type": "display_data"
    },
    {
     "name": "stdout",
     "output_type": "stream",
     "text": [
      ">>> Health Care - Consumer Goods\n",
      "Length another_stocks: 8\n",
      "Length triplets two sectors: 35\n"
     ]
    },
    {
     "data": {
      "application/vnd.jupyter.widget-view+json": {
       "model_id": "230e2f4a87d94cb1a8b9f8152df55750",
       "version_major": 2,
       "version_minor": 0
      },
      "text/plain": [
       "  0%|          | 0/35 [00:00<?, ?it/s]"
      ]
     },
     "metadata": {},
     "output_type": "display_data"
    },
    {
     "name": "stdout",
     "output_type": "stream",
     "text": [
      ">>> Utilities\n",
      "Length target_stocks: 7\n",
      "Length triplets same sector: 35\n"
     ]
    },
    {
     "data": {
      "application/vnd.jupyter.widget-view+json": {
       "model_id": "60f3f3e86d764acd963346e8f39c7a1e",
       "version_major": 2,
       "version_minor": 0
      },
      "text/plain": [
       "  0%|          | 0/35 [00:00<?, ?it/s]"
      ]
     },
     "metadata": {},
     "output_type": "display_data"
    },
    {
     "name": "stdout",
     "output_type": "stream",
     "text": [
      ">>> Utilities - Industrials\n",
      "Length another_stocks: 20\n",
      "Length triplets two sectors: 35\n"
     ]
    },
    {
     "data": {
      "application/vnd.jupyter.widget-view+json": {
       "model_id": "4472725b691741549bb6fdaf3a705508",
       "version_major": 2,
       "version_minor": 0
      },
      "text/plain": [
       "  0%|          | 0/35 [00:00<?, ?it/s]"
      ]
     },
     "metadata": {},
     "output_type": "display_data"
    },
    {
     "name": "stdout",
     "output_type": "stream",
     "text": [
      ">>> Utilities - Basic Materials\n",
      "Length another_stocks: 8\n",
      "Length triplets two sectors: 35\n"
     ]
    },
    {
     "data": {
      "application/vnd.jupyter.widget-view+json": {
       "model_id": "8a37cac5a97b4a8f9adba8657fa7cd64",
       "version_major": 2,
       "version_minor": 0
      },
      "text/plain": [
       "  0%|          | 0/35 [00:00<?, ?it/s]"
      ]
     },
     "metadata": {},
     "output_type": "display_data"
    },
    {
     "name": "stdout",
     "output_type": "stream",
     "text": [
      ">>> Utilities - Financials\n",
      "Length another_stocks: 38\n",
      "Length triplets two sectors: 35\n"
     ]
    },
    {
     "data": {
      "application/vnd.jupyter.widget-view+json": {
       "model_id": "ba22cf7bb83746419e935a705953368c",
       "version_major": 2,
       "version_minor": 0
      },
      "text/plain": [
       "  0%|          | 0/35 [00:00<?, ?it/s]"
      ]
     },
     "metadata": {},
     "output_type": "display_data"
    },
    {
     "name": "stdout",
     "output_type": "stream",
     "text": [
      ">>> Utilities - Consumer Services\n",
      "Length another_stocks: 17\n",
      "Length triplets two sectors: 35\n"
     ]
    },
    {
     "data": {
      "application/vnd.jupyter.widget-view+json": {
       "model_id": "45af96054eec475bb97e57d79f6e857d",
       "version_major": 2,
       "version_minor": 0
      },
      "text/plain": [
       "  0%|          | 0/35 [00:00<?, ?it/s]"
      ]
     },
     "metadata": {},
     "output_type": "display_data"
    },
    {
     "name": "stdout",
     "output_type": "stream",
     "text": [
      ">>> Utilities - Health Care\n",
      "Length another_stocks: 10\n",
      "Length triplets two sectors: 35\n"
     ]
    },
    {
     "data": {
      "application/vnd.jupyter.widget-view+json": {
       "model_id": "73a11270400f4068b24bee1716d2fae7",
       "version_major": 2,
       "version_minor": 0
      },
      "text/plain": [
       "  0%|          | 0/35 [00:00<?, ?it/s]"
      ]
     },
     "metadata": {},
     "output_type": "display_data"
    },
    {
     "name": "stdout",
     "output_type": "stream",
     "text": [
      ">>> Utilities - Oil & Gas\n",
      "Length another_stocks: 7\n",
      "Length triplets two sectors: 35\n"
     ]
    },
    {
     "data": {
      "application/vnd.jupyter.widget-view+json": {
       "model_id": "4dcfe8159f5e440e99a4a24c099e4e71",
       "version_major": 2,
       "version_minor": 0
      },
      "text/plain": [
       "  0%|          | 0/35 [00:00<?, ?it/s]"
      ]
     },
     "metadata": {},
     "output_type": "display_data"
    },
    {
     "name": "stdout",
     "output_type": "stream",
     "text": [
      ">>> Utilities - Consumer Goods\n",
      "Length another_stocks: 8\n",
      "Length triplets two sectors: 35\n"
     ]
    },
    {
     "data": {
      "application/vnd.jupyter.widget-view+json": {
       "model_id": "f80a1f1899de4fcbba9a085cde533b03",
       "version_major": 2,
       "version_minor": 0
      },
      "text/plain": [
       "  0%|          | 0/35 [00:00<?, ?it/s]"
      ]
     },
     "metadata": {},
     "output_type": "display_data"
    },
    {
     "name": "stdout",
     "output_type": "stream",
     "text": [
      ">>> Oil & Gas\n",
      "Length target_stocks: 7\n",
      "Length triplets same sector: 35\n"
     ]
    },
    {
     "data": {
      "application/vnd.jupyter.widget-view+json": {
       "model_id": "98ee1e96cbee4edcb0873570c97768d9",
       "version_major": 2,
       "version_minor": 0
      },
      "text/plain": [
       "  0%|          | 0/35 [00:00<?, ?it/s]"
      ]
     },
     "metadata": {},
     "output_type": "display_data"
    },
    {
     "name": "stdout",
     "output_type": "stream",
     "text": [
      ">>> Oil & Gas - Industrials\n",
      "Length another_stocks: 20\n",
      "Length triplets two sectors: 35\n"
     ]
    },
    {
     "data": {
      "application/vnd.jupyter.widget-view+json": {
       "model_id": "f6656ebd401e4ef6bf5c47d8e2e7a329",
       "version_major": 2,
       "version_minor": 0
      },
      "text/plain": [
       "  0%|          | 0/35 [00:00<?, ?it/s]"
      ]
     },
     "metadata": {},
     "output_type": "display_data"
    },
    {
     "name": "stdout",
     "output_type": "stream",
     "text": [
      ">>> Oil & Gas - Basic Materials\n",
      "Length another_stocks: 8\n",
      "Length triplets two sectors: 35\n"
     ]
    },
    {
     "data": {
      "application/vnd.jupyter.widget-view+json": {
       "model_id": "4842bea73b3645c68f1162768944ad60",
       "version_major": 2,
       "version_minor": 0
      },
      "text/plain": [
       "  0%|          | 0/35 [00:00<?, ?it/s]"
      ]
     },
     "metadata": {},
     "output_type": "display_data"
    },
    {
     "name": "stdout",
     "output_type": "stream",
     "text": [
      ">>> Oil & Gas - Financials\n",
      "Length another_stocks: 38\n",
      "Length triplets two sectors: 35\n"
     ]
    },
    {
     "data": {
      "application/vnd.jupyter.widget-view+json": {
       "model_id": "38dc0afec4574a4099db6e1c86f0667b",
       "version_major": 2,
       "version_minor": 0
      },
      "text/plain": [
       "  0%|          | 0/35 [00:00<?, ?it/s]"
      ]
     },
     "metadata": {},
     "output_type": "display_data"
    },
    {
     "name": "stdout",
     "output_type": "stream",
     "text": [
      ">>> Oil & Gas - Consumer Services\n",
      "Length another_stocks: 17\n",
      "Length triplets two sectors: 35\n"
     ]
    },
    {
     "data": {
      "application/vnd.jupyter.widget-view+json": {
       "model_id": "2948e8b71645498e8af6cb20a4dd464b",
       "version_major": 2,
       "version_minor": 0
      },
      "text/plain": [
       "  0%|          | 0/35 [00:00<?, ?it/s]"
      ]
     },
     "metadata": {},
     "output_type": "display_data"
    },
    {
     "name": "stdout",
     "output_type": "stream",
     "text": [
      ">>> Oil & Gas - Health Care\n",
      "Length another_stocks: 10\n",
      "Length triplets two sectors: 35\n"
     ]
    },
    {
     "data": {
      "application/vnd.jupyter.widget-view+json": {
       "model_id": "0affa61d517c4f2bac8dc1d5796fe9df",
       "version_major": 2,
       "version_minor": 0
      },
      "text/plain": [
       "  0%|          | 0/35 [00:00<?, ?it/s]"
      ]
     },
     "metadata": {},
     "output_type": "display_data"
    },
    {
     "name": "stdout",
     "output_type": "stream",
     "text": [
      ">>> Oil & Gas - Utilities\n",
      "Length another_stocks: 7\n",
      "Length triplets two sectors: 35\n"
     ]
    },
    {
     "data": {
      "application/vnd.jupyter.widget-view+json": {
       "model_id": "6866589440b9483bb7f6ba24b742463b",
       "version_major": 2,
       "version_minor": 0
      },
      "text/plain": [
       "  0%|          | 0/35 [00:00<?, ?it/s]"
      ]
     },
     "metadata": {},
     "output_type": "display_data"
    },
    {
     "name": "stdout",
     "output_type": "stream",
     "text": [
      ">>> Oil & Gas - Consumer Goods\n",
      "Length another_stocks: 8\n",
      "Length triplets two sectors: 35\n"
     ]
    },
    {
     "data": {
      "application/vnd.jupyter.widget-view+json": {
       "model_id": "95acd3c62a584203963b5c068d7edb0c",
       "version_major": 2,
       "version_minor": 0
      },
      "text/plain": [
       "  0%|          | 0/35 [00:00<?, ?it/s]"
      ]
     },
     "metadata": {},
     "output_type": "display_data"
    },
    {
     "name": "stdout",
     "output_type": "stream",
     "text": [
      ">>> Consumer Goods\n",
      "Length target_stocks: 8\n",
      "Length triplets same sector: 35\n"
     ]
    },
    {
     "data": {
      "application/vnd.jupyter.widget-view+json": {
       "model_id": "291507150d3d4e30a518ba0f0ae8b8d8",
       "version_major": 2,
       "version_minor": 0
      },
      "text/plain": [
       "  0%|          | 0/35 [00:00<?, ?it/s]"
      ]
     },
     "metadata": {},
     "output_type": "display_data"
    },
    {
     "name": "stdout",
     "output_type": "stream",
     "text": [
      ">>> Consumer Goods - Industrials\n",
      "Length another_stocks: 20\n",
      "Length triplets two sectors: 35\n"
     ]
    },
    {
     "data": {
      "application/vnd.jupyter.widget-view+json": {
       "model_id": "a82b08cda8e84b5090a53fb519ce8021",
       "version_major": 2,
       "version_minor": 0
      },
      "text/plain": [
       "  0%|          | 0/35 [00:00<?, ?it/s]"
      ]
     },
     "metadata": {},
     "output_type": "display_data"
    },
    {
     "name": "stdout",
     "output_type": "stream",
     "text": [
      ">>> Consumer Goods - Basic Materials\n",
      "Length another_stocks: 8\n",
      "Length triplets two sectors: 35\n"
     ]
    },
    {
     "data": {
      "application/vnd.jupyter.widget-view+json": {
       "model_id": "a13344265c4a470681655a6bf0f2b558",
       "version_major": 2,
       "version_minor": 0
      },
      "text/plain": [
       "  0%|          | 0/35 [00:00<?, ?it/s]"
      ]
     },
     "metadata": {},
     "output_type": "display_data"
    },
    {
     "name": "stdout",
     "output_type": "stream",
     "text": [
      ">>> Consumer Goods - Financials\n",
      "Length another_stocks: 38\n",
      "Length triplets two sectors: 35\n"
     ]
    },
    {
     "data": {
      "application/vnd.jupyter.widget-view+json": {
       "model_id": "32ed07df8fd44c0fa4d747acc41273d4",
       "version_major": 2,
       "version_minor": 0
      },
      "text/plain": [
       "  0%|          | 0/35 [00:00<?, ?it/s]"
      ]
     },
     "metadata": {},
     "output_type": "display_data"
    },
    {
     "name": "stdout",
     "output_type": "stream",
     "text": [
      ">>> Consumer Goods - Consumer Services\n",
      "Length another_stocks: 17\n",
      "Length triplets two sectors: 35\n"
     ]
    },
    {
     "data": {
      "application/vnd.jupyter.widget-view+json": {
       "model_id": "75100db0d6344d449e5c3bd39083137e",
       "version_major": 2,
       "version_minor": 0
      },
      "text/plain": [
       "  0%|          | 0/35 [00:00<?, ?it/s]"
      ]
     },
     "metadata": {},
     "output_type": "display_data"
    },
    {
     "name": "stdout",
     "output_type": "stream",
     "text": [
      ">>> Consumer Goods - Health Care\n",
      "Length another_stocks: 10\n",
      "Length triplets two sectors: 35\n"
     ]
    },
    {
     "data": {
      "application/vnd.jupyter.widget-view+json": {
       "model_id": "a3610471fc304316b9e02f92ef00003a",
       "version_major": 2,
       "version_minor": 0
      },
      "text/plain": [
       "  0%|          | 0/35 [00:00<?, ?it/s]"
      ]
     },
     "metadata": {},
     "output_type": "display_data"
    },
    {
     "name": "stdout",
     "output_type": "stream",
     "text": [
      ">>> Consumer Goods - Utilities\n",
      "Length another_stocks: 7\n",
      "Length triplets two sectors: 35\n"
     ]
    },
    {
     "data": {
      "application/vnd.jupyter.widget-view+json": {
       "model_id": "42c01351a60b42d2a9051340053a5bc4",
       "version_major": 2,
       "version_minor": 0
      },
      "text/plain": [
       "  0%|          | 0/35 [00:00<?, ?it/s]"
      ]
     },
     "metadata": {},
     "output_type": "display_data"
    },
    {
     "name": "stdout",
     "output_type": "stream",
     "text": [
      ">>> Consumer Goods - Oil & Gas\n",
      "Length another_stocks: 7\n",
      "Length triplets two sectors: 35\n"
     ]
    },
    {
     "data": {
      "application/vnd.jupyter.widget-view+json": {
       "model_id": "bf449361567e4ba4a279fe047ea69f8f",
       "version_major": 2,
       "version_minor": 0
      },
      "text/plain": [
       "  0%|          | 0/35 [00:00<?, ?it/s]"
      ]
     },
     "metadata": {},
     "output_type": "display_data"
    },
    {
     "name": "stdout",
     "output_type": "stream",
     "text": [
      ">>> Industrials\n",
      "Length target_stocks: 20\n",
      "Length triplets same sector: 35\n"
     ]
    },
    {
     "data": {
      "application/vnd.jupyter.widget-view+json": {
       "model_id": "c858a5fc86c14638949dc099dd85a009",
       "version_major": 2,
       "version_minor": 0
      },
      "text/plain": [
       "  0%|          | 0/35 [00:00<?, ?it/s]"
      ]
     },
     "metadata": {},
     "output_type": "display_data"
    },
    {
     "name": "stdout",
     "output_type": "stream",
     "text": [
      ">>> Industrials - Basic Materials\n",
      "Length another_stocks: 8\n",
      "Length triplets two sectors: 35\n"
     ]
    },
    {
     "data": {
      "application/vnd.jupyter.widget-view+json": {
       "model_id": "aac15e1adffd4e9188f8f08fbb3cde60",
       "version_major": 2,
       "version_minor": 0
      },
      "text/plain": [
       "  0%|          | 0/35 [00:00<?, ?it/s]"
      ]
     },
     "metadata": {},
     "output_type": "display_data"
    },
    {
     "name": "stdout",
     "output_type": "stream",
     "text": [
      ">>> Industrials - Financials\n",
      "Length another_stocks: 38\n",
      "Length triplets two sectors: 35\n"
     ]
    },
    {
     "data": {
      "application/vnd.jupyter.widget-view+json": {
       "model_id": "2380064c9a764064b82e82a556e3bb0f",
       "version_major": 2,
       "version_minor": 0
      },
      "text/plain": [
       "  0%|          | 0/35 [00:00<?, ?it/s]"
      ]
     },
     "metadata": {},
     "output_type": "display_data"
    },
    {
     "name": "stdout",
     "output_type": "stream",
     "text": [
      ">>> Industrials - Consumer Services\n",
      "Length another_stocks: 17\n",
      "Length triplets two sectors: 35\n"
     ]
    },
    {
     "data": {
      "application/vnd.jupyter.widget-view+json": {
       "model_id": "6b4bc24d3ed74e0cbb1533fa34bd968f",
       "version_major": 2,
       "version_minor": 0
      },
      "text/plain": [
       "  0%|          | 0/35 [00:00<?, ?it/s]"
      ]
     },
     "metadata": {},
     "output_type": "display_data"
    },
    {
     "name": "stdout",
     "output_type": "stream",
     "text": [
      ">>> Industrials - Health Care\n",
      "Length another_stocks: 10\n",
      "Length triplets two sectors: 35\n"
     ]
    },
    {
     "data": {
      "application/vnd.jupyter.widget-view+json": {
       "model_id": "89d85431b6034d6da8a31bd94bb57627",
       "version_major": 2,
       "version_minor": 0
      },
      "text/plain": [
       "  0%|          | 0/35 [00:00<?, ?it/s]"
      ]
     },
     "metadata": {},
     "output_type": "display_data"
    },
    {
     "name": "stdout",
     "output_type": "stream",
     "text": [
      ">>> Industrials - Utilities\n",
      "Length another_stocks: 7\n",
      "Length triplets two sectors: 35\n"
     ]
    },
    {
     "data": {
      "application/vnd.jupyter.widget-view+json": {
       "model_id": "1b84fbb5deba4ff09e57eafaf7717f55",
       "version_major": 2,
       "version_minor": 0
      },
      "text/plain": [
       "  0%|          | 0/35 [00:00<?, ?it/s]"
      ]
     },
     "metadata": {},
     "output_type": "display_data"
    },
    {
     "name": "stdout",
     "output_type": "stream",
     "text": [
      ">>> Industrials - Oil & Gas\n",
      "Length another_stocks: 7\n",
      "Length triplets two sectors: 35\n"
     ]
    },
    {
     "data": {
      "application/vnd.jupyter.widget-view+json": {
       "model_id": "6dc482dc6b4a45a6811a72f36e9c1447",
       "version_major": 2,
       "version_minor": 0
      },
      "text/plain": [
       "  0%|          | 0/35 [00:00<?, ?it/s]"
      ]
     },
     "metadata": {},
     "output_type": "display_data"
    },
    {
     "name": "stdout",
     "output_type": "stream",
     "text": [
      ">>> Industrials - Consumer Goods\n",
      "Length another_stocks: 8\n",
      "Length triplets two sectors: 35\n"
     ]
    },
    {
     "data": {
      "application/vnd.jupyter.widget-view+json": {
       "model_id": "a64639abec0141fea3b2c10a4b34e692",
       "version_major": 2,
       "version_minor": 0
      },
      "text/plain": [
       "  0%|          | 0/35 [00:00<?, ?it/s]"
      ]
     },
     "metadata": {},
     "output_type": "display_data"
    },
    {
     "name": "stdout",
     "output_type": "stream",
     "text": [
      ">>> Basic Materials\n",
      "Length target_stocks: 8\n",
      "Length triplets same sector: 35\n"
     ]
    },
    {
     "data": {
      "application/vnd.jupyter.widget-view+json": {
       "model_id": "5993bd8947f445778394a58950c0b077",
       "version_major": 2,
       "version_minor": 0
      },
      "text/plain": [
       "  0%|          | 0/35 [00:00<?, ?it/s]"
      ]
     },
     "metadata": {},
     "output_type": "display_data"
    },
    {
     "name": "stdout",
     "output_type": "stream",
     "text": [
      ">>> Basic Materials - Industrials\n",
      "Length another_stocks: 20\n",
      "Length triplets two sectors: 35\n"
     ]
    },
    {
     "data": {
      "application/vnd.jupyter.widget-view+json": {
       "model_id": "cea572ee05744da9896279281be4c5ac",
       "version_major": 2,
       "version_minor": 0
      },
      "text/plain": [
       "  0%|          | 0/35 [00:00<?, ?it/s]"
      ]
     },
     "metadata": {},
     "output_type": "display_data"
    },
    {
     "name": "stdout",
     "output_type": "stream",
     "text": [
      ">>> Basic Materials - Financials\n",
      "Length another_stocks: 38\n",
      "Length triplets two sectors: 35\n"
     ]
    },
    {
     "data": {
      "application/vnd.jupyter.widget-view+json": {
       "model_id": "bbe71d9a40aa4f3bb55b6bfa11c1903b",
       "version_major": 2,
       "version_minor": 0
      },
      "text/plain": [
       "  0%|          | 0/35 [00:00<?, ?it/s]"
      ]
     },
     "metadata": {},
     "output_type": "display_data"
    },
    {
     "name": "stdout",
     "output_type": "stream",
     "text": [
      ">>> Basic Materials - Consumer Services\n",
      "Length another_stocks: 17\n",
      "Length triplets two sectors: 35\n"
     ]
    },
    {
     "data": {
      "application/vnd.jupyter.widget-view+json": {
       "model_id": "5cc41cca8c1d4c018266f87cc2527e0d",
       "version_major": 2,
       "version_minor": 0
      },
      "text/plain": [
       "  0%|          | 0/35 [00:00<?, ?it/s]"
      ]
     },
     "metadata": {},
     "output_type": "display_data"
    },
    {
     "name": "stdout",
     "output_type": "stream",
     "text": [
      ">>> Basic Materials - Health Care\n",
      "Length another_stocks: 10\n",
      "Length triplets two sectors: 35\n"
     ]
    },
    {
     "data": {
      "application/vnd.jupyter.widget-view+json": {
       "model_id": "cab3095496ae41ad99a883dca5ab7c7b",
       "version_major": 2,
       "version_minor": 0
      },
      "text/plain": [
       "  0%|          | 0/35 [00:00<?, ?it/s]"
      ]
     },
     "metadata": {},
     "output_type": "display_data"
    },
    {
     "name": "stdout",
     "output_type": "stream",
     "text": [
      ">>> Basic Materials - Utilities\n",
      "Length another_stocks: 7\n",
      "Length triplets two sectors: 35\n"
     ]
    },
    {
     "data": {
      "application/vnd.jupyter.widget-view+json": {
       "model_id": "56692e4288504aa59393a276d3f43354",
       "version_major": 2,
       "version_minor": 0
      },
      "text/plain": [
       "  0%|          | 0/35 [00:00<?, ?it/s]"
      ]
     },
     "metadata": {},
     "output_type": "display_data"
    },
    {
     "name": "stdout",
     "output_type": "stream",
     "text": [
      ">>> Basic Materials - Oil & Gas\n",
      "Length another_stocks: 7\n",
      "Length triplets two sectors: 35\n"
     ]
    },
    {
     "data": {
      "application/vnd.jupyter.widget-view+json": {
       "model_id": "f20d05c55f7c4f158870f517dc18144d",
       "version_major": 2,
       "version_minor": 0
      },
      "text/plain": [
       "  0%|          | 0/35 [00:00<?, ?it/s]"
      ]
     },
     "metadata": {},
     "output_type": "display_data"
    },
    {
     "name": "stdout",
     "output_type": "stream",
     "text": [
      ">>> Basic Materials - Consumer Goods\n",
      "Length another_stocks: 8\n",
      "Length triplets two sectors: 35\n"
     ]
    },
    {
     "data": {
      "application/vnd.jupyter.widget-view+json": {
       "model_id": "98f4d91b29de4590ac86d4e7f4f7a5c6",
       "version_major": 2,
       "version_minor": 0
      },
      "text/plain": [
       "  0%|          | 0/35 [00:00<?, ?it/s]"
      ]
     },
     "metadata": {},
     "output_type": "display_data"
    },
    {
     "name": "stdout",
     "output_type": "stream",
     "text": [
      ">>> Financials\n",
      "Length target_stocks: 38\n",
      "Length triplets same sector: 35\n"
     ]
    },
    {
     "data": {
      "application/vnd.jupyter.widget-view+json": {
       "model_id": "77becdd239d245cb83c7602f73e9e24c",
       "version_major": 2,
       "version_minor": 0
      },
      "text/plain": [
       "  0%|          | 0/35 [00:00<?, ?it/s]"
      ]
     },
     "metadata": {},
     "output_type": "display_data"
    },
    {
     "name": "stdout",
     "output_type": "stream",
     "text": [
      ">>> Financials - Industrials\n",
      "Length another_stocks: 20\n",
      "Length triplets two sectors: 35\n"
     ]
    },
    {
     "data": {
      "application/vnd.jupyter.widget-view+json": {
       "model_id": "e35fac0494c64fd78da2cbdfe3346b6d",
       "version_major": 2,
       "version_minor": 0
      },
      "text/plain": [
       "  0%|          | 0/35 [00:00<?, ?it/s]"
      ]
     },
     "metadata": {},
     "output_type": "display_data"
    },
    {
     "name": "stdout",
     "output_type": "stream",
     "text": [
      ">>> Financials - Basic Materials\n",
      "Length another_stocks: 8\n",
      "Length triplets two sectors: 35\n"
     ]
    },
    {
     "data": {
      "application/vnd.jupyter.widget-view+json": {
       "model_id": "6631e7e4c3b2468da84eeca70bacc9ee",
       "version_major": 2,
       "version_minor": 0
      },
      "text/plain": [
       "  0%|          | 0/35 [00:00<?, ?it/s]"
      ]
     },
     "metadata": {},
     "output_type": "display_data"
    },
    {
     "name": "stdout",
     "output_type": "stream",
     "text": [
      ">>> Financials - Consumer Services\n",
      "Length another_stocks: 17\n",
      "Length triplets two sectors: 35\n"
     ]
    },
    {
     "data": {
      "application/vnd.jupyter.widget-view+json": {
       "model_id": "cdc4044a5af9430b8c263e693e04afdd",
       "version_major": 2,
       "version_minor": 0
      },
      "text/plain": [
       "  0%|          | 0/35 [00:00<?, ?it/s]"
      ]
     },
     "metadata": {},
     "output_type": "display_data"
    },
    {
     "name": "stdout",
     "output_type": "stream",
     "text": [
      ">>> Financials - Health Care\n",
      "Length another_stocks: 10\n",
      "Length triplets two sectors: 35\n"
     ]
    },
    {
     "data": {
      "application/vnd.jupyter.widget-view+json": {
       "model_id": "712c6d5ac9644f5f841fd6e7a231aaa6",
       "version_major": 2,
       "version_minor": 0
      },
      "text/plain": [
       "  0%|          | 0/35 [00:00<?, ?it/s]"
      ]
     },
     "metadata": {},
     "output_type": "display_data"
    },
    {
     "name": "stdout",
     "output_type": "stream",
     "text": [
      ">>> Financials - Utilities\n",
      "Length another_stocks: 7\n",
      "Length triplets two sectors: 35\n"
     ]
    },
    {
     "data": {
      "application/vnd.jupyter.widget-view+json": {
       "model_id": "6518c154c8384f3893fbcecdd050fad3",
       "version_major": 2,
       "version_minor": 0
      },
      "text/plain": [
       "  0%|          | 0/35 [00:00<?, ?it/s]"
      ]
     },
     "metadata": {},
     "output_type": "display_data"
    },
    {
     "name": "stdout",
     "output_type": "stream",
     "text": [
      ">>> Financials - Oil & Gas\n",
      "Length another_stocks: 7\n",
      "Length triplets two sectors: 35\n"
     ]
    },
    {
     "data": {
      "application/vnd.jupyter.widget-view+json": {
       "model_id": "d42f252a590b44b1bc1c625c9df9fa12",
       "version_major": 2,
       "version_minor": 0
      },
      "text/plain": [
       "  0%|          | 0/35 [00:00<?, ?it/s]"
      ]
     },
     "metadata": {},
     "output_type": "display_data"
    },
    {
     "name": "stdout",
     "output_type": "stream",
     "text": [
      ">>> Financials - Consumer Goods\n",
      "Length another_stocks: 8\n",
      "Length triplets two sectors: 35\n"
     ]
    },
    {
     "data": {
      "application/vnd.jupyter.widget-view+json": {
       "model_id": "b7856af1c49c46ecb5475f9035a88680",
       "version_major": 2,
       "version_minor": 0
      },
      "text/plain": [
       "  0%|          | 0/35 [00:00<?, ?it/s]"
      ]
     },
     "metadata": {},
     "output_type": "display_data"
    },
    {
     "name": "stdout",
     "output_type": "stream",
     "text": [
      ">>> Consumer Services\n",
      "Length target_stocks: 17\n",
      "Length triplets same sector: 35\n"
     ]
    },
    {
     "data": {
      "application/vnd.jupyter.widget-view+json": {
       "model_id": "78a77cba671d41468869991d1c76f781",
       "version_major": 2,
       "version_minor": 0
      },
      "text/plain": [
       "  0%|          | 0/35 [00:00<?, ?it/s]"
      ]
     },
     "metadata": {},
     "output_type": "display_data"
    },
    {
     "name": "stdout",
     "output_type": "stream",
     "text": [
      ">>> Consumer Services - Industrials\n",
      "Length another_stocks: 20\n",
      "Length triplets two sectors: 35\n"
     ]
    },
    {
     "data": {
      "application/vnd.jupyter.widget-view+json": {
       "model_id": "c4b4264d7f964675a6d0e3cdbe9710e9",
       "version_major": 2,
       "version_minor": 0
      },
      "text/plain": [
       "  0%|          | 0/35 [00:00<?, ?it/s]"
      ]
     },
     "metadata": {},
     "output_type": "display_data"
    },
    {
     "name": "stdout",
     "output_type": "stream",
     "text": [
      ">>> Consumer Services - Basic Materials\n",
      "Length another_stocks: 8\n",
      "Length triplets two sectors: 35\n"
     ]
    },
    {
     "data": {
      "application/vnd.jupyter.widget-view+json": {
       "model_id": "49187f6c8bee4ba9b009a27160cfdce6",
       "version_major": 2,
       "version_minor": 0
      },
      "text/plain": [
       "  0%|          | 0/35 [00:00<?, ?it/s]"
      ]
     },
     "metadata": {},
     "output_type": "display_data"
    },
    {
     "name": "stdout",
     "output_type": "stream",
     "text": [
      ">>> Consumer Services - Financials\n",
      "Length another_stocks: 38\n",
      "Length triplets two sectors: 35\n"
     ]
    },
    {
     "data": {
      "application/vnd.jupyter.widget-view+json": {
       "model_id": "21189a6a0a9f44f8ad0bbb1ec90e7f5f",
       "version_major": 2,
       "version_minor": 0
      },
      "text/plain": [
       "  0%|          | 0/35 [00:00<?, ?it/s]"
      ]
     },
     "metadata": {},
     "output_type": "display_data"
    },
    {
     "name": "stdout",
     "output_type": "stream",
     "text": [
      ">>> Consumer Services - Health Care\n",
      "Length another_stocks: 10\n",
      "Length triplets two sectors: 35\n"
     ]
    },
    {
     "data": {
      "application/vnd.jupyter.widget-view+json": {
       "model_id": "7521d3eb53144c34a940462f7794981a",
       "version_major": 2,
       "version_minor": 0
      },
      "text/plain": [
       "  0%|          | 0/35 [00:00<?, ?it/s]"
      ]
     },
     "metadata": {},
     "output_type": "display_data"
    },
    {
     "name": "stdout",
     "output_type": "stream",
     "text": [
      ">>> Consumer Services - Utilities\n",
      "Length another_stocks: 7\n",
      "Length triplets two sectors: 35\n"
     ]
    },
    {
     "data": {
      "application/vnd.jupyter.widget-view+json": {
       "model_id": "2705b88151064d47a6c12a5c81a211b5",
       "version_major": 2,
       "version_minor": 0
      },
      "text/plain": [
       "  0%|          | 0/35 [00:00<?, ?it/s]"
      ]
     },
     "metadata": {},
     "output_type": "display_data"
    },
    {
     "name": "stdout",
     "output_type": "stream",
     "text": [
      ">>> Consumer Services - Oil & Gas\n",
      "Length another_stocks: 7\n",
      "Length triplets two sectors: 35\n"
     ]
    },
    {
     "data": {
      "application/vnd.jupyter.widget-view+json": {
       "model_id": "5b66bb3aef0945ad8f7750cab0ba8cbe",
       "version_major": 2,
       "version_minor": 0
      },
      "text/plain": [
       "  0%|          | 0/35 [00:00<?, ?it/s]"
      ]
     },
     "metadata": {},
     "output_type": "display_data"
    },
    {
     "name": "stdout",
     "output_type": "stream",
     "text": [
      ">>> Consumer Services - Consumer Goods\n",
      "Length another_stocks: 8\n",
      "Length triplets two sectors: 35\n"
     ]
    },
    {
     "data": {
      "application/vnd.jupyter.widget-view+json": {
       "model_id": "d59d43ef59024b2284a00923eb12addd",
       "version_major": 2,
       "version_minor": 0
      },
      "text/plain": [
       "  0%|          | 0/35 [00:00<?, ?it/s]"
      ]
     },
     "metadata": {},
     "output_type": "display_data"
    },
    {
     "name": "stdout",
     "output_type": "stream",
     "text": [
      ">>> Health Care\n",
      "Length target_stocks: 10\n",
      "Length triplets same sector: 35\n"
     ]
    },
    {
     "data": {
      "application/vnd.jupyter.widget-view+json": {
       "model_id": "a3c9094f6fc6494ab8b677f651be7679",
       "version_major": 2,
       "version_minor": 0
      },
      "text/plain": [
       "  0%|          | 0/35 [00:00<?, ?it/s]"
      ]
     },
     "metadata": {},
     "output_type": "display_data"
    },
    {
     "name": "stdout",
     "output_type": "stream",
     "text": [
      ">>> Health Care - Industrials\n",
      "Length another_stocks: 20\n",
      "Length triplets two sectors: 35\n"
     ]
    },
    {
     "data": {
      "application/vnd.jupyter.widget-view+json": {
       "model_id": "984d7fd6d9e142e3902fe7f95d287955",
       "version_major": 2,
       "version_minor": 0
      },
      "text/plain": [
       "  0%|          | 0/35 [00:00<?, ?it/s]"
      ]
     },
     "metadata": {},
     "output_type": "display_data"
    },
    {
     "name": "stdout",
     "output_type": "stream",
     "text": [
      ">>> Health Care - Basic Materials\n",
      "Length another_stocks: 8\n",
      "Length triplets two sectors: 35\n"
     ]
    },
    {
     "data": {
      "application/vnd.jupyter.widget-view+json": {
       "model_id": "f6d8280821df45468a4bfc97c7dfabd3",
       "version_major": 2,
       "version_minor": 0
      },
      "text/plain": [
       "  0%|          | 0/35 [00:00<?, ?it/s]"
      ]
     },
     "metadata": {},
     "output_type": "display_data"
    },
    {
     "name": "stdout",
     "output_type": "stream",
     "text": [
      ">>> Health Care - Financials\n",
      "Length another_stocks: 38\n",
      "Length triplets two sectors: 35\n"
     ]
    },
    {
     "data": {
      "application/vnd.jupyter.widget-view+json": {
       "model_id": "b8cc5475d2414d37b8db916cdfab22c6",
       "version_major": 2,
       "version_minor": 0
      },
      "text/plain": [
       "  0%|          | 0/35 [00:00<?, ?it/s]"
      ]
     },
     "metadata": {},
     "output_type": "display_data"
    },
    {
     "name": "stdout",
     "output_type": "stream",
     "text": [
      ">>> Health Care - Consumer Services\n",
      "Length another_stocks: 17\n",
      "Length triplets two sectors: 35\n"
     ]
    },
    {
     "data": {
      "application/vnd.jupyter.widget-view+json": {
       "model_id": "e1e0b91e3ed747088e59bf5e58ebea28",
       "version_major": 2,
       "version_minor": 0
      },
      "text/plain": [
       "  0%|          | 0/35 [00:00<?, ?it/s]"
      ]
     },
     "metadata": {},
     "output_type": "display_data"
    },
    {
     "name": "stdout",
     "output_type": "stream",
     "text": [
      ">>> Health Care - Utilities\n",
      "Length another_stocks: 7\n",
      "Length triplets two sectors: 35\n"
     ]
    },
    {
     "data": {
      "application/vnd.jupyter.widget-view+json": {
       "model_id": "2b69c0108d2041399637a15da03d8527",
       "version_major": 2,
       "version_minor": 0
      },
      "text/plain": [
       "  0%|          | 0/35 [00:00<?, ?it/s]"
      ]
     },
     "metadata": {},
     "output_type": "display_data"
    },
    {
     "name": "stdout",
     "output_type": "stream",
     "text": [
      ">>> Health Care - Oil & Gas\n",
      "Length another_stocks: 7\n",
      "Length triplets two sectors: 35\n"
     ]
    },
    {
     "data": {
      "application/vnd.jupyter.widget-view+json": {
       "model_id": "3c2ebc5e2b254b938a00ab0e6d27a4ae",
       "version_major": 2,
       "version_minor": 0
      },
      "text/plain": [
       "  0%|          | 0/35 [00:00<?, ?it/s]"
      ]
     },
     "metadata": {},
     "output_type": "display_data"
    },
    {
     "name": "stdout",
     "output_type": "stream",
     "text": [
      ">>> Health Care - Consumer Goods\n",
      "Length another_stocks: 8\n",
      "Length triplets two sectors: 35\n"
     ]
    },
    {
     "data": {
      "application/vnd.jupyter.widget-view+json": {
       "model_id": "1704ec9a79504ee198eb0f1a1a63c126",
       "version_major": 2,
       "version_minor": 0
      },
      "text/plain": [
       "  0%|          | 0/35 [00:00<?, ?it/s]"
      ]
     },
     "metadata": {},
     "output_type": "display_data"
    },
    {
     "name": "stdout",
     "output_type": "stream",
     "text": [
      ">>> Utilities\n",
      "Length target_stocks: 7\n",
      "Length triplets same sector: 35\n"
     ]
    },
    {
     "data": {
      "application/vnd.jupyter.widget-view+json": {
       "model_id": "e118246363f34adc8dcc40ad79a14452",
       "version_major": 2,
       "version_minor": 0
      },
      "text/plain": [
       "  0%|          | 0/35 [00:00<?, ?it/s]"
      ]
     },
     "metadata": {},
     "output_type": "display_data"
    },
    {
     "name": "stdout",
     "output_type": "stream",
     "text": [
      ">>> Utilities - Industrials\n",
      "Length another_stocks: 20\n",
      "Length triplets two sectors: 35\n"
     ]
    },
    {
     "data": {
      "application/vnd.jupyter.widget-view+json": {
       "model_id": "75b26545bffd4d9a8ef26b7455d71c23",
       "version_major": 2,
       "version_minor": 0
      },
      "text/plain": [
       "  0%|          | 0/35 [00:00<?, ?it/s]"
      ]
     },
     "metadata": {},
     "output_type": "display_data"
    },
    {
     "name": "stdout",
     "output_type": "stream",
     "text": [
      ">>> Utilities - Basic Materials\n",
      "Length another_stocks: 8\n",
      "Length triplets two sectors: 35\n"
     ]
    },
    {
     "data": {
      "application/vnd.jupyter.widget-view+json": {
       "model_id": "70e06ae023f444ffa7682adbf578ac99",
       "version_major": 2,
       "version_minor": 0
      },
      "text/plain": [
       "  0%|          | 0/35 [00:00<?, ?it/s]"
      ]
     },
     "metadata": {},
     "output_type": "display_data"
    },
    {
     "name": "stdout",
     "output_type": "stream",
     "text": [
      ">>> Utilities - Financials\n",
      "Length another_stocks: 38\n",
      "Length triplets two sectors: 35\n"
     ]
    },
    {
     "data": {
      "application/vnd.jupyter.widget-view+json": {
       "model_id": "c82e4c124eb5427996b8ca0dbf295903",
       "version_major": 2,
       "version_minor": 0
      },
      "text/plain": [
       "  0%|          | 0/35 [00:00<?, ?it/s]"
      ]
     },
     "metadata": {},
     "output_type": "display_data"
    },
    {
     "name": "stdout",
     "output_type": "stream",
     "text": [
      ">>> Utilities - Consumer Services\n",
      "Length another_stocks: 17\n",
      "Length triplets two sectors: 35\n"
     ]
    },
    {
     "data": {
      "application/vnd.jupyter.widget-view+json": {
       "model_id": "ec35c88629fc463a9d2dfd2bc567283b",
       "version_major": 2,
       "version_minor": 0
      },
      "text/plain": [
       "  0%|          | 0/35 [00:00<?, ?it/s]"
      ]
     },
     "metadata": {},
     "output_type": "display_data"
    },
    {
     "name": "stdout",
     "output_type": "stream",
     "text": [
      ">>> Utilities - Health Care\n",
      "Length another_stocks: 10\n",
      "Length triplets two sectors: 35\n"
     ]
    },
    {
     "data": {
      "application/vnd.jupyter.widget-view+json": {
       "model_id": "84cbfd38a7e74ebe83b4920f6e0c32c0",
       "version_major": 2,
       "version_minor": 0
      },
      "text/plain": [
       "  0%|          | 0/35 [00:00<?, ?it/s]"
      ]
     },
     "metadata": {},
     "output_type": "display_data"
    },
    {
     "name": "stdout",
     "output_type": "stream",
     "text": [
      ">>> Utilities - Oil & Gas\n",
      "Length another_stocks: 7\n",
      "Length triplets two sectors: 35\n"
     ]
    },
    {
     "data": {
      "application/vnd.jupyter.widget-view+json": {
       "model_id": "9943f7edad5c47ddb9c277e6f8f0e4e0",
       "version_major": 2,
       "version_minor": 0
      },
      "text/plain": [
       "  0%|          | 0/35 [00:00<?, ?it/s]"
      ]
     },
     "metadata": {},
     "output_type": "display_data"
    },
    {
     "name": "stdout",
     "output_type": "stream",
     "text": [
      ">>> Utilities - Consumer Goods\n",
      "Length another_stocks: 8\n",
      "Length triplets two sectors: 35\n"
     ]
    },
    {
     "data": {
      "application/vnd.jupyter.widget-view+json": {
       "model_id": "020948317ef4499db24c0a8fe86d5185",
       "version_major": 2,
       "version_minor": 0
      },
      "text/plain": [
       "  0%|          | 0/35 [00:00<?, ?it/s]"
      ]
     },
     "metadata": {},
     "output_type": "display_data"
    },
    {
     "name": "stdout",
     "output_type": "stream",
     "text": [
      ">>> Oil & Gas\n",
      "Length target_stocks: 7\n",
      "Length triplets same sector: 35\n"
     ]
    },
    {
     "data": {
      "application/vnd.jupyter.widget-view+json": {
       "model_id": "3ccacdf75b6645328721b7ef0d77685a",
       "version_major": 2,
       "version_minor": 0
      },
      "text/plain": [
       "  0%|          | 0/35 [00:00<?, ?it/s]"
      ]
     },
     "metadata": {},
     "output_type": "display_data"
    },
    {
     "name": "stdout",
     "output_type": "stream",
     "text": [
      ">>> Oil & Gas - Industrials\n",
      "Length another_stocks: 20\n",
      "Length triplets two sectors: 35\n"
     ]
    },
    {
     "data": {
      "application/vnd.jupyter.widget-view+json": {
       "model_id": "bed1592cfca04bf69974aecac64e40e9",
       "version_major": 2,
       "version_minor": 0
      },
      "text/plain": [
       "  0%|          | 0/35 [00:00<?, ?it/s]"
      ]
     },
     "metadata": {},
     "output_type": "display_data"
    },
    {
     "name": "stdout",
     "output_type": "stream",
     "text": [
      ">>> Oil & Gas - Basic Materials\n",
      "Length another_stocks: 8\n",
      "Length triplets two sectors: 35\n"
     ]
    },
    {
     "data": {
      "application/vnd.jupyter.widget-view+json": {
       "model_id": "e96307e79d524c05989829abc5ee295b",
       "version_major": 2,
       "version_minor": 0
      },
      "text/plain": [
       "  0%|          | 0/35 [00:00<?, ?it/s]"
      ]
     },
     "metadata": {},
     "output_type": "display_data"
    },
    {
     "name": "stdout",
     "output_type": "stream",
     "text": [
      ">>> Oil & Gas - Financials\n",
      "Length another_stocks: 38\n",
      "Length triplets two sectors: 35\n"
     ]
    },
    {
     "data": {
      "application/vnd.jupyter.widget-view+json": {
       "model_id": "55da90fb7c714694ba099ef8bc0a9ccb",
       "version_major": 2,
       "version_minor": 0
      },
      "text/plain": [
       "  0%|          | 0/35 [00:00<?, ?it/s]"
      ]
     },
     "metadata": {},
     "output_type": "display_data"
    },
    {
     "name": "stdout",
     "output_type": "stream",
     "text": [
      ">>> Oil & Gas - Consumer Services\n",
      "Length another_stocks: 17\n",
      "Length triplets two sectors: 35\n"
     ]
    },
    {
     "data": {
      "application/vnd.jupyter.widget-view+json": {
       "model_id": "241c7a662b98484e8b873aba359eddc5",
       "version_major": 2,
       "version_minor": 0
      },
      "text/plain": [
       "  0%|          | 0/35 [00:00<?, ?it/s]"
      ]
     },
     "metadata": {},
     "output_type": "display_data"
    },
    {
     "name": "stdout",
     "output_type": "stream",
     "text": [
      ">>> Oil & Gas - Health Care\n",
      "Length another_stocks: 10\n",
      "Length triplets two sectors: 35\n"
     ]
    },
    {
     "data": {
      "application/vnd.jupyter.widget-view+json": {
       "model_id": "ff2a1a855efb45ed80539d87048521b3",
       "version_major": 2,
       "version_minor": 0
      },
      "text/plain": [
       "  0%|          | 0/35 [00:00<?, ?it/s]"
      ]
     },
     "metadata": {},
     "output_type": "display_data"
    },
    {
     "name": "stdout",
     "output_type": "stream",
     "text": [
      ">>> Oil & Gas - Utilities\n",
      "Length another_stocks: 7\n",
      "Length triplets two sectors: 35\n"
     ]
    },
    {
     "data": {
      "application/vnd.jupyter.widget-view+json": {
       "model_id": "1054f6a343594bc69097c98ca85fec16",
       "version_major": 2,
       "version_minor": 0
      },
      "text/plain": [
       "  0%|          | 0/35 [00:00<?, ?it/s]"
      ]
     },
     "metadata": {},
     "output_type": "display_data"
    },
    {
     "name": "stdout",
     "output_type": "stream",
     "text": [
      ">>> Oil & Gas - Consumer Goods\n",
      "Length another_stocks: 8\n",
      "Length triplets two sectors: 35\n"
     ]
    },
    {
     "data": {
      "application/vnd.jupyter.widget-view+json": {
       "model_id": "36094dcbfe9945539e286ea80866b848",
       "version_major": 2,
       "version_minor": 0
      },
      "text/plain": [
       "  0%|          | 0/35 [00:00<?, ?it/s]"
      ]
     },
     "metadata": {},
     "output_type": "display_data"
    },
    {
     "name": "stdout",
     "output_type": "stream",
     "text": [
      ">>> Consumer Goods\n",
      "Length target_stocks: 8\n",
      "Length triplets same sector: 35\n"
     ]
    },
    {
     "data": {
      "application/vnd.jupyter.widget-view+json": {
       "model_id": "ce6633de05ad4e13a9a5a5fe2e520be8",
       "version_major": 2,
       "version_minor": 0
      },
      "text/plain": [
       "  0%|          | 0/35 [00:00<?, ?it/s]"
      ]
     },
     "metadata": {},
     "output_type": "display_data"
    },
    {
     "name": "stdout",
     "output_type": "stream",
     "text": [
      ">>> Consumer Goods - Industrials\n",
      "Length another_stocks: 20\n",
      "Length triplets two sectors: 35\n"
     ]
    },
    {
     "data": {
      "application/vnd.jupyter.widget-view+json": {
       "model_id": "d226c969e61947baa28e5f452f2a5d71",
       "version_major": 2,
       "version_minor": 0
      },
      "text/plain": [
       "  0%|          | 0/35 [00:00<?, ?it/s]"
      ]
     },
     "metadata": {},
     "output_type": "display_data"
    },
    {
     "name": "stdout",
     "output_type": "stream",
     "text": [
      ">>> Consumer Goods - Basic Materials\n",
      "Length another_stocks: 8\n",
      "Length triplets two sectors: 35\n"
     ]
    },
    {
     "data": {
      "application/vnd.jupyter.widget-view+json": {
       "model_id": "2ad5461af190435989ea0c4f4d67d6fa",
       "version_major": 2,
       "version_minor": 0
      },
      "text/plain": [
       "  0%|          | 0/35 [00:00<?, ?it/s]"
      ]
     },
     "metadata": {},
     "output_type": "display_data"
    },
    {
     "name": "stdout",
     "output_type": "stream",
     "text": [
      ">>> Consumer Goods - Financials\n",
      "Length another_stocks: 38\n",
      "Length triplets two sectors: 35\n"
     ]
    },
    {
     "data": {
      "application/vnd.jupyter.widget-view+json": {
       "model_id": "f921fdb97446477e93a39aa02da8975b",
       "version_major": 2,
       "version_minor": 0
      },
      "text/plain": [
       "  0%|          | 0/35 [00:00<?, ?it/s]"
      ]
     },
     "metadata": {},
     "output_type": "display_data"
    },
    {
     "name": "stdout",
     "output_type": "stream",
     "text": [
      ">>> Consumer Goods - Consumer Services\n",
      "Length another_stocks: 17\n",
      "Length triplets two sectors: 35\n"
     ]
    },
    {
     "data": {
      "application/vnd.jupyter.widget-view+json": {
       "model_id": "8810766d2d124bb78ba91c470f99d911",
       "version_major": 2,
       "version_minor": 0
      },
      "text/plain": [
       "  0%|          | 0/35 [00:00<?, ?it/s]"
      ]
     },
     "metadata": {},
     "output_type": "display_data"
    },
    {
     "name": "stdout",
     "output_type": "stream",
     "text": [
      ">>> Consumer Goods - Health Care\n",
      "Length another_stocks: 10\n",
      "Length triplets two sectors: 35\n"
     ]
    },
    {
     "data": {
      "application/vnd.jupyter.widget-view+json": {
       "model_id": "1dd20436cacd440291a54371c0016e44",
       "version_major": 2,
       "version_minor": 0
      },
      "text/plain": [
       "  0%|          | 0/35 [00:00<?, ?it/s]"
      ]
     },
     "metadata": {},
     "output_type": "display_data"
    },
    {
     "name": "stdout",
     "output_type": "stream",
     "text": [
      ">>> Consumer Goods - Utilities\n",
      "Length another_stocks: 7\n",
      "Length triplets two sectors: 35\n"
     ]
    },
    {
     "data": {
      "application/vnd.jupyter.widget-view+json": {
       "model_id": "2fd72ffb8cc5483c818ed6026423afdc",
       "version_major": 2,
       "version_minor": 0
      },
      "text/plain": [
       "  0%|          | 0/35 [00:00<?, ?it/s]"
      ]
     },
     "metadata": {},
     "output_type": "display_data"
    },
    {
     "name": "stdout",
     "output_type": "stream",
     "text": [
      ">>> Consumer Goods - Oil & Gas\n",
      "Length another_stocks: 7\n",
      "Length triplets two sectors: 35\n"
     ]
    },
    {
     "data": {
      "application/vnd.jupyter.widget-view+json": {
       "model_id": "01332a658e024a23891bb269348a73bc",
       "version_major": 2,
       "version_minor": 0
      },
      "text/plain": [
       "  0%|          | 0/35 [00:00<?, ?it/s]"
      ]
     },
     "metadata": {},
     "output_type": "display_data"
    },
    {
     "name": "stdout",
     "output_type": "stream",
     "text": [
      ">>> Industrials\n",
      "Length target_stocks: 20\n",
      "Length triplets same sector: 35\n"
     ]
    },
    {
     "data": {
      "application/vnd.jupyter.widget-view+json": {
       "model_id": "d9190d52c1624bb2b81548dbf841568d",
       "version_major": 2,
       "version_minor": 0
      },
      "text/plain": [
       "  0%|          | 0/35 [00:00<?, ?it/s]"
      ]
     },
     "metadata": {},
     "output_type": "display_data"
    },
    {
     "name": "stdout",
     "output_type": "stream",
     "text": [
      ">>> Industrials - Basic Materials\n",
      "Length another_stocks: 8\n",
      "Length triplets two sectors: 35\n"
     ]
    },
    {
     "data": {
      "application/vnd.jupyter.widget-view+json": {
       "model_id": "84f852ba4a404c5e980b4ec00512d88a",
       "version_major": 2,
       "version_minor": 0
      },
      "text/plain": [
       "  0%|          | 0/35 [00:00<?, ?it/s]"
      ]
     },
     "metadata": {},
     "output_type": "display_data"
    },
    {
     "name": "stdout",
     "output_type": "stream",
     "text": [
      ">>> Industrials - Financials\n",
      "Length another_stocks: 38\n",
      "Length triplets two sectors: 35\n"
     ]
    },
    {
     "data": {
      "application/vnd.jupyter.widget-view+json": {
       "model_id": "52964f0ad2e84251847282fb01606f62",
       "version_major": 2,
       "version_minor": 0
      },
      "text/plain": [
       "  0%|          | 0/35 [00:00<?, ?it/s]"
      ]
     },
     "metadata": {},
     "output_type": "display_data"
    },
    {
     "name": "stdout",
     "output_type": "stream",
     "text": [
      ">>> Industrials - Consumer Services\n",
      "Length another_stocks: 17\n",
      "Length triplets two sectors: 35\n"
     ]
    },
    {
     "data": {
      "application/vnd.jupyter.widget-view+json": {
       "model_id": "d2a175b410694da4b94fdb68524d7e13",
       "version_major": 2,
       "version_minor": 0
      },
      "text/plain": [
       "  0%|          | 0/35 [00:00<?, ?it/s]"
      ]
     },
     "metadata": {},
     "output_type": "display_data"
    },
    {
     "name": "stdout",
     "output_type": "stream",
     "text": [
      ">>> Industrials - Health Care\n",
      "Length another_stocks: 10\n",
      "Length triplets two sectors: 35\n"
     ]
    },
    {
     "data": {
      "application/vnd.jupyter.widget-view+json": {
       "model_id": "6f4edee6dc344690afdf741e65838739",
       "version_major": 2,
       "version_minor": 0
      },
      "text/plain": [
       "  0%|          | 0/35 [00:00<?, ?it/s]"
      ]
     },
     "metadata": {},
     "output_type": "display_data"
    },
    {
     "name": "stdout",
     "output_type": "stream",
     "text": [
      ">>> Industrials - Utilities\n",
      "Length another_stocks: 7\n",
      "Length triplets two sectors: 35\n"
     ]
    },
    {
     "data": {
      "application/vnd.jupyter.widget-view+json": {
       "model_id": "b7d7915d63154938b463e408172d6a91",
       "version_major": 2,
       "version_minor": 0
      },
      "text/plain": [
       "  0%|          | 0/35 [00:00<?, ?it/s]"
      ]
     },
     "metadata": {},
     "output_type": "display_data"
    },
    {
     "name": "stdout",
     "output_type": "stream",
     "text": [
      ">>> Industrials - Oil & Gas\n",
      "Length another_stocks: 7\n",
      "Length triplets two sectors: 35\n"
     ]
    },
    {
     "data": {
      "application/vnd.jupyter.widget-view+json": {
       "model_id": "3c0c587629d94926ae23fe362cc2a870",
       "version_major": 2,
       "version_minor": 0
      },
      "text/plain": [
       "  0%|          | 0/35 [00:00<?, ?it/s]"
      ]
     },
     "metadata": {},
     "output_type": "display_data"
    },
    {
     "name": "stdout",
     "output_type": "stream",
     "text": [
      ">>> Industrials - Consumer Goods\n",
      "Length another_stocks: 8\n",
      "Length triplets two sectors: 35\n"
     ]
    },
    {
     "data": {
      "application/vnd.jupyter.widget-view+json": {
       "model_id": "b80dc803fb3a464a83d3182fd7c40972",
       "version_major": 2,
       "version_minor": 0
      },
      "text/plain": [
       "  0%|          | 0/35 [00:00<?, ?it/s]"
      ]
     },
     "metadata": {},
     "output_type": "display_data"
    },
    {
     "name": "stdout",
     "output_type": "stream",
     "text": [
      ">>> Basic Materials\n",
      "Length target_stocks: 8\n",
      "Length triplets same sector: 35\n"
     ]
    },
    {
     "data": {
      "application/vnd.jupyter.widget-view+json": {
       "model_id": "0c2b2c92feed4a909590c2c0f7d07a3f",
       "version_major": 2,
       "version_minor": 0
      },
      "text/plain": [
       "  0%|          | 0/35 [00:00<?, ?it/s]"
      ]
     },
     "metadata": {},
     "output_type": "display_data"
    },
    {
     "name": "stdout",
     "output_type": "stream",
     "text": [
      ">>> Basic Materials - Industrials\n",
      "Length another_stocks: 20\n",
      "Length triplets two sectors: 35\n"
     ]
    },
    {
     "data": {
      "application/vnd.jupyter.widget-view+json": {
       "model_id": "5afd32f48643425f979a8de1bc534c99",
       "version_major": 2,
       "version_minor": 0
      },
      "text/plain": [
       "  0%|          | 0/35 [00:00<?, ?it/s]"
      ]
     },
     "metadata": {},
     "output_type": "display_data"
    },
    {
     "name": "stdout",
     "output_type": "stream",
     "text": [
      ">>> Basic Materials - Financials\n",
      "Length another_stocks: 38\n",
      "Length triplets two sectors: 35\n"
     ]
    },
    {
     "data": {
      "application/vnd.jupyter.widget-view+json": {
       "model_id": "5fdb89b0f94f4d4d8242f52793b9fdd8",
       "version_major": 2,
       "version_minor": 0
      },
      "text/plain": [
       "  0%|          | 0/35 [00:00<?, ?it/s]"
      ]
     },
     "metadata": {},
     "output_type": "display_data"
    },
    {
     "name": "stdout",
     "output_type": "stream",
     "text": [
      ">>> Basic Materials - Consumer Services\n",
      "Length another_stocks: 17\n",
      "Length triplets two sectors: 35\n"
     ]
    },
    {
     "data": {
      "application/vnd.jupyter.widget-view+json": {
       "model_id": "6e6b69ef047a4235b43f2adda1a5a21b",
       "version_major": 2,
       "version_minor": 0
      },
      "text/plain": [
       "  0%|          | 0/35 [00:00<?, ?it/s]"
      ]
     },
     "metadata": {},
     "output_type": "display_data"
    },
    {
     "name": "stdout",
     "output_type": "stream",
     "text": [
      ">>> Basic Materials - Health Care\n",
      "Length another_stocks: 10\n",
      "Length triplets two sectors: 35\n"
     ]
    },
    {
     "data": {
      "application/vnd.jupyter.widget-view+json": {
       "model_id": "6471762784b7402b9b863b3870ac129b",
       "version_major": 2,
       "version_minor": 0
      },
      "text/plain": [
       "  0%|          | 0/35 [00:00<?, ?it/s]"
      ]
     },
     "metadata": {},
     "output_type": "display_data"
    },
    {
     "name": "stdout",
     "output_type": "stream",
     "text": [
      ">>> Basic Materials - Utilities\n",
      "Length another_stocks: 7\n",
      "Length triplets two sectors: 35\n"
     ]
    },
    {
     "data": {
      "application/vnd.jupyter.widget-view+json": {
       "model_id": "8bd807da7ec74341a00ec2a6c3bcc4a4",
       "version_major": 2,
       "version_minor": 0
      },
      "text/plain": [
       "  0%|          | 0/35 [00:00<?, ?it/s]"
      ]
     },
     "metadata": {},
     "output_type": "display_data"
    },
    {
     "name": "stdout",
     "output_type": "stream",
     "text": [
      ">>> Basic Materials - Oil & Gas\n",
      "Length another_stocks: 7\n",
      "Length triplets two sectors: 35\n"
     ]
    },
    {
     "data": {
      "application/vnd.jupyter.widget-view+json": {
       "model_id": "3a376c7cc2f742048caad9dae7b0f6e0",
       "version_major": 2,
       "version_minor": 0
      },
      "text/plain": [
       "  0%|          | 0/35 [00:00<?, ?it/s]"
      ]
     },
     "metadata": {},
     "output_type": "display_data"
    },
    {
     "name": "stdout",
     "output_type": "stream",
     "text": [
      ">>> Basic Materials - Consumer Goods\n",
      "Length another_stocks: 8\n",
      "Length triplets two sectors: 35\n"
     ]
    },
    {
     "data": {
      "application/vnd.jupyter.widget-view+json": {
       "model_id": "74c6ebe43b9943a5baa8ecb6fcf64161",
       "version_major": 2,
       "version_minor": 0
      },
      "text/plain": [
       "  0%|          | 0/35 [00:00<?, ?it/s]"
      ]
     },
     "metadata": {},
     "output_type": "display_data"
    },
    {
     "name": "stdout",
     "output_type": "stream",
     "text": [
      ">>> Financials\n",
      "Length target_stocks: 38\n",
      "Length triplets same sector: 35\n"
     ]
    },
    {
     "data": {
      "application/vnd.jupyter.widget-view+json": {
       "model_id": "dc3aa6feb8b84131a5aab9e6a09da73f",
       "version_major": 2,
       "version_minor": 0
      },
      "text/plain": [
       "  0%|          | 0/35 [00:00<?, ?it/s]"
      ]
     },
     "metadata": {},
     "output_type": "display_data"
    },
    {
     "name": "stdout",
     "output_type": "stream",
     "text": [
      ">>> Financials - Industrials\n",
      "Length another_stocks: 20\n",
      "Length triplets two sectors: 35\n"
     ]
    },
    {
     "data": {
      "application/vnd.jupyter.widget-view+json": {
       "model_id": "ceb7afad69cc4439b85df0377684d99d",
       "version_major": 2,
       "version_minor": 0
      },
      "text/plain": [
       "  0%|          | 0/35 [00:00<?, ?it/s]"
      ]
     },
     "metadata": {},
     "output_type": "display_data"
    },
    {
     "name": "stdout",
     "output_type": "stream",
     "text": [
      ">>> Financials - Basic Materials\n",
      "Length another_stocks: 8\n",
      "Length triplets two sectors: 35\n"
     ]
    },
    {
     "data": {
      "application/vnd.jupyter.widget-view+json": {
       "model_id": "89cb997117b343baa078d4ee6b7388f9",
       "version_major": 2,
       "version_minor": 0
      },
      "text/plain": [
       "  0%|          | 0/35 [00:00<?, ?it/s]"
      ]
     },
     "metadata": {},
     "output_type": "display_data"
    },
    {
     "name": "stdout",
     "output_type": "stream",
     "text": [
      ">>> Financials - Consumer Services\n",
      "Length another_stocks: 17\n",
      "Length triplets two sectors: 35\n"
     ]
    },
    {
     "data": {
      "application/vnd.jupyter.widget-view+json": {
       "model_id": "265cff5d5bfd4958961275c03ce34427",
       "version_major": 2,
       "version_minor": 0
      },
      "text/plain": [
       "  0%|          | 0/35 [00:00<?, ?it/s]"
      ]
     },
     "metadata": {},
     "output_type": "display_data"
    },
    {
     "name": "stdout",
     "output_type": "stream",
     "text": [
      ">>> Financials - Health Care\n",
      "Length another_stocks: 10\n",
      "Length triplets two sectors: 35\n"
     ]
    },
    {
     "data": {
      "application/vnd.jupyter.widget-view+json": {
       "model_id": "a876e2763d784127aa4dd9cafb9b53aa",
       "version_major": 2,
       "version_minor": 0
      },
      "text/plain": [
       "  0%|          | 0/35 [00:00<?, ?it/s]"
      ]
     },
     "metadata": {},
     "output_type": "display_data"
    },
    {
     "name": "stdout",
     "output_type": "stream",
     "text": [
      ">>> Financials - Utilities\n",
      "Length another_stocks: 7\n",
      "Length triplets two sectors: 35\n"
     ]
    },
    {
     "data": {
      "application/vnd.jupyter.widget-view+json": {
       "model_id": "3095bd25d63c43158baf3214900a56ba",
       "version_major": 2,
       "version_minor": 0
      },
      "text/plain": [
       "  0%|          | 0/35 [00:00<?, ?it/s]"
      ]
     },
     "metadata": {},
     "output_type": "display_data"
    },
    {
     "name": "stdout",
     "output_type": "stream",
     "text": [
      ">>> Financials - Oil & Gas\n",
      "Length another_stocks: 7\n",
      "Length triplets two sectors: 35\n"
     ]
    },
    {
     "data": {
      "application/vnd.jupyter.widget-view+json": {
       "model_id": "7896269fa4dd41a08c592e8a8d821efb",
       "version_major": 2,
       "version_minor": 0
      },
      "text/plain": [
       "  0%|          | 0/35 [00:00<?, ?it/s]"
      ]
     },
     "metadata": {},
     "output_type": "display_data"
    },
    {
     "name": "stdout",
     "output_type": "stream",
     "text": [
      ">>> Financials - Consumer Goods\n",
      "Length another_stocks: 8\n",
      "Length triplets two sectors: 35\n"
     ]
    },
    {
     "data": {
      "application/vnd.jupyter.widget-view+json": {
       "model_id": "02bc01925fa445808addbadc5f8a07a4",
       "version_major": 2,
       "version_minor": 0
      },
      "text/plain": [
       "  0%|          | 0/35 [00:00<?, ?it/s]"
      ]
     },
     "metadata": {},
     "output_type": "display_data"
    },
    {
     "name": "stdout",
     "output_type": "stream",
     "text": [
      ">>> Consumer Services\n",
      "Length target_stocks: 17\n",
      "Length triplets same sector: 35\n"
     ]
    },
    {
     "data": {
      "application/vnd.jupyter.widget-view+json": {
       "model_id": "082bcdcf37644356bef2e19406f8cac0",
       "version_major": 2,
       "version_minor": 0
      },
      "text/plain": [
       "  0%|          | 0/35 [00:00<?, ?it/s]"
      ]
     },
     "metadata": {},
     "output_type": "display_data"
    },
    {
     "name": "stdout",
     "output_type": "stream",
     "text": [
      ">>> Consumer Services - Industrials\n",
      "Length another_stocks: 20\n",
      "Length triplets two sectors: 35\n"
     ]
    },
    {
     "data": {
      "application/vnd.jupyter.widget-view+json": {
       "model_id": "98ee2c8848e04bdd9b062b9658ab37ce",
       "version_major": 2,
       "version_minor": 0
      },
      "text/plain": [
       "  0%|          | 0/35 [00:00<?, ?it/s]"
      ]
     },
     "metadata": {},
     "output_type": "display_data"
    },
    {
     "name": "stdout",
     "output_type": "stream",
     "text": [
      ">>> Consumer Services - Basic Materials\n",
      "Length another_stocks: 8\n",
      "Length triplets two sectors: 35\n"
     ]
    },
    {
     "data": {
      "application/vnd.jupyter.widget-view+json": {
       "model_id": "549526abc8674ea4a3e188c6eb920958",
       "version_major": 2,
       "version_minor": 0
      },
      "text/plain": [
       "  0%|          | 0/35 [00:00<?, ?it/s]"
      ]
     },
     "metadata": {},
     "output_type": "display_data"
    },
    {
     "name": "stdout",
     "output_type": "stream",
     "text": [
      ">>> Consumer Services - Financials\n",
      "Length another_stocks: 38\n",
      "Length triplets two sectors: 35\n"
     ]
    },
    {
     "data": {
      "application/vnd.jupyter.widget-view+json": {
       "model_id": "a5832955a1aa4a4187e9f18c0f117e67",
       "version_major": 2,
       "version_minor": 0
      },
      "text/plain": [
       "  0%|          | 0/35 [00:00<?, ?it/s]"
      ]
     },
     "metadata": {},
     "output_type": "display_data"
    },
    {
     "name": "stdout",
     "output_type": "stream",
     "text": [
      ">>> Consumer Services - Health Care\n",
      "Length another_stocks: 10\n",
      "Length triplets two sectors: 35\n"
     ]
    },
    {
     "data": {
      "application/vnd.jupyter.widget-view+json": {
       "model_id": "19e482b329fc4717989e860f0686c1f3",
       "version_major": 2,
       "version_minor": 0
      },
      "text/plain": [
       "  0%|          | 0/35 [00:00<?, ?it/s]"
      ]
     },
     "metadata": {},
     "output_type": "display_data"
    },
    {
     "name": "stdout",
     "output_type": "stream",
     "text": [
      ">>> Consumer Services - Utilities\n",
      "Length another_stocks: 7\n",
      "Length triplets two sectors: 35\n"
     ]
    },
    {
     "data": {
      "application/vnd.jupyter.widget-view+json": {
       "model_id": "a39eb3dd7e4045708cbbb28bdcc83e5d",
       "version_major": 2,
       "version_minor": 0
      },
      "text/plain": [
       "  0%|          | 0/35 [00:00<?, ?it/s]"
      ]
     },
     "metadata": {},
     "output_type": "display_data"
    },
    {
     "name": "stdout",
     "output_type": "stream",
     "text": [
      ">>> Consumer Services - Oil & Gas\n",
      "Length another_stocks: 7\n",
      "Length triplets two sectors: 35\n"
     ]
    },
    {
     "data": {
      "application/vnd.jupyter.widget-view+json": {
       "model_id": "f4c1b5b4965549bdaee78ad848e1d8a7",
       "version_major": 2,
       "version_minor": 0
      },
      "text/plain": [
       "  0%|          | 0/35 [00:00<?, ?it/s]"
      ]
     },
     "metadata": {},
     "output_type": "display_data"
    },
    {
     "name": "stdout",
     "output_type": "stream",
     "text": [
      ">>> Consumer Services - Consumer Goods\n",
      "Length another_stocks: 8\n",
      "Length triplets two sectors: 35\n"
     ]
    },
    {
     "data": {
      "application/vnd.jupyter.widget-view+json": {
       "model_id": "b0228f1bf48141a0803280a7bd7370a1",
       "version_major": 2,
       "version_minor": 0
      },
      "text/plain": [
       "  0%|          | 0/35 [00:00<?, ?it/s]"
      ]
     },
     "metadata": {},
     "output_type": "display_data"
    },
    {
     "name": "stdout",
     "output_type": "stream",
     "text": [
      ">>> Health Care\n",
      "Length target_stocks: 10\n",
      "Length triplets same sector: 35\n"
     ]
    },
    {
     "data": {
      "application/vnd.jupyter.widget-view+json": {
       "model_id": "b0f72372b6784cf6aefb405f1d527c95",
       "version_major": 2,
       "version_minor": 0
      },
      "text/plain": [
       "  0%|          | 0/35 [00:00<?, ?it/s]"
      ]
     },
     "metadata": {},
     "output_type": "display_data"
    },
    {
     "name": "stdout",
     "output_type": "stream",
     "text": [
      ">>> Health Care - Industrials\n",
      "Length another_stocks: 20\n",
      "Length triplets two sectors: 35\n"
     ]
    },
    {
     "data": {
      "application/vnd.jupyter.widget-view+json": {
       "model_id": "013648c37c6840e49fbc880c5c409233",
       "version_major": 2,
       "version_minor": 0
      },
      "text/plain": [
       "  0%|          | 0/35 [00:00<?, ?it/s]"
      ]
     },
     "metadata": {},
     "output_type": "display_data"
    },
    {
     "name": "stdout",
     "output_type": "stream",
     "text": [
      ">>> Health Care - Basic Materials\n",
      "Length another_stocks: 8\n",
      "Length triplets two sectors: 35\n"
     ]
    },
    {
     "data": {
      "application/vnd.jupyter.widget-view+json": {
       "model_id": "c50a4d9adbb944a3ad1d74d2ceffda71",
       "version_major": 2,
       "version_minor": 0
      },
      "text/plain": [
       "  0%|          | 0/35 [00:00<?, ?it/s]"
      ]
     },
     "metadata": {},
     "output_type": "display_data"
    },
    {
     "name": "stdout",
     "output_type": "stream",
     "text": [
      ">>> Health Care - Financials\n",
      "Length another_stocks: 38\n",
      "Length triplets two sectors: 35\n"
     ]
    },
    {
     "data": {
      "application/vnd.jupyter.widget-view+json": {
       "model_id": "69ba9a359f5247b489b673b825fc68a8",
       "version_major": 2,
       "version_minor": 0
      },
      "text/plain": [
       "  0%|          | 0/35 [00:00<?, ?it/s]"
      ]
     },
     "metadata": {},
     "output_type": "display_data"
    },
    {
     "name": "stdout",
     "output_type": "stream",
     "text": [
      ">>> Health Care - Consumer Services\n",
      "Length another_stocks: 17\n",
      "Length triplets two sectors: 35\n"
     ]
    },
    {
     "data": {
      "application/vnd.jupyter.widget-view+json": {
       "model_id": "b367ead2eee8476a976fabf3d80e640e",
       "version_major": 2,
       "version_minor": 0
      },
      "text/plain": [
       "  0%|          | 0/35 [00:00<?, ?it/s]"
      ]
     },
     "metadata": {},
     "output_type": "display_data"
    },
    {
     "name": "stdout",
     "output_type": "stream",
     "text": [
      ">>> Health Care - Utilities\n",
      "Length another_stocks: 7\n",
      "Length triplets two sectors: 35\n"
     ]
    },
    {
     "data": {
      "application/vnd.jupyter.widget-view+json": {
       "model_id": "fe8ff05e3b674e49bb5ae4c9aa91ed5e",
       "version_major": 2,
       "version_minor": 0
      },
      "text/plain": [
       "  0%|          | 0/35 [00:00<?, ?it/s]"
      ]
     },
     "metadata": {},
     "output_type": "display_data"
    },
    {
     "name": "stdout",
     "output_type": "stream",
     "text": [
      ">>> Health Care - Oil & Gas\n",
      "Length another_stocks: 7\n",
      "Length triplets two sectors: 35\n"
     ]
    },
    {
     "data": {
      "application/vnd.jupyter.widget-view+json": {
       "model_id": "06c8d75f3b8347d196cfae71d82828a9",
       "version_major": 2,
       "version_minor": 0
      },
      "text/plain": [
       "  0%|          | 0/35 [00:00<?, ?it/s]"
      ]
     },
     "metadata": {},
     "output_type": "display_data"
    },
    {
     "name": "stdout",
     "output_type": "stream",
     "text": [
      ">>> Health Care - Consumer Goods\n",
      "Length another_stocks: 8\n",
      "Length triplets two sectors: 35\n"
     ]
    },
    {
     "data": {
      "application/vnd.jupyter.widget-view+json": {
       "model_id": "255a9b7aa87842c8aea98c78c7f1863e",
       "version_major": 2,
       "version_minor": 0
      },
      "text/plain": [
       "  0%|          | 0/35 [00:00<?, ?it/s]"
      ]
     },
     "metadata": {},
     "output_type": "display_data"
    },
    {
     "name": "stdout",
     "output_type": "stream",
     "text": [
      ">>> Utilities\n",
      "Length target_stocks: 7\n",
      "Length triplets same sector: 35\n"
     ]
    },
    {
     "data": {
      "application/vnd.jupyter.widget-view+json": {
       "model_id": "2e37eea7086f4795bdbf8503bb25923b",
       "version_major": 2,
       "version_minor": 0
      },
      "text/plain": [
       "  0%|          | 0/35 [00:00<?, ?it/s]"
      ]
     },
     "metadata": {},
     "output_type": "display_data"
    },
    {
     "name": "stdout",
     "output_type": "stream",
     "text": [
      ">>> Utilities - Industrials\n",
      "Length another_stocks: 20\n",
      "Length triplets two sectors: 35\n"
     ]
    },
    {
     "data": {
      "application/vnd.jupyter.widget-view+json": {
       "model_id": "ebec5bdfda964387bf9646afbbbed997",
       "version_major": 2,
       "version_minor": 0
      },
      "text/plain": [
       "  0%|          | 0/35 [00:00<?, ?it/s]"
      ]
     },
     "metadata": {},
     "output_type": "display_data"
    },
    {
     "name": "stdout",
     "output_type": "stream",
     "text": [
      ">>> Utilities - Basic Materials\n",
      "Length another_stocks: 8\n",
      "Length triplets two sectors: 35\n"
     ]
    },
    {
     "data": {
      "application/vnd.jupyter.widget-view+json": {
       "model_id": "e7307ba3832e4fdfa0f781a9b56c8bff",
       "version_major": 2,
       "version_minor": 0
      },
      "text/plain": [
       "  0%|          | 0/35 [00:00<?, ?it/s]"
      ]
     },
     "metadata": {},
     "output_type": "display_data"
    },
    {
     "name": "stdout",
     "output_type": "stream",
     "text": [
      ">>> Utilities - Financials\n",
      "Length another_stocks: 38\n",
      "Length triplets two sectors: 35\n"
     ]
    },
    {
     "data": {
      "application/vnd.jupyter.widget-view+json": {
       "model_id": "4620966385dd47a2a7270fe7176eb464",
       "version_major": 2,
       "version_minor": 0
      },
      "text/plain": [
       "  0%|          | 0/35 [00:00<?, ?it/s]"
      ]
     },
     "metadata": {},
     "output_type": "display_data"
    },
    {
     "name": "stdout",
     "output_type": "stream",
     "text": [
      ">>> Utilities - Consumer Services\n",
      "Length another_stocks: 17\n",
      "Length triplets two sectors: 35\n"
     ]
    },
    {
     "data": {
      "application/vnd.jupyter.widget-view+json": {
       "model_id": "6eef229654f247bd9a56ef256d0d5578",
       "version_major": 2,
       "version_minor": 0
      },
      "text/plain": [
       "  0%|          | 0/35 [00:00<?, ?it/s]"
      ]
     },
     "metadata": {},
     "output_type": "display_data"
    },
    {
     "name": "stdout",
     "output_type": "stream",
     "text": [
      ">>> Utilities - Health Care\n",
      "Length another_stocks: 10\n",
      "Length triplets two sectors: 35\n"
     ]
    },
    {
     "data": {
      "application/vnd.jupyter.widget-view+json": {
       "model_id": "8715c06a059b40c7858d1eb623318cf3",
       "version_major": 2,
       "version_minor": 0
      },
      "text/plain": [
       "  0%|          | 0/35 [00:00<?, ?it/s]"
      ]
     },
     "metadata": {},
     "output_type": "display_data"
    },
    {
     "name": "stdout",
     "output_type": "stream",
     "text": [
      ">>> Utilities - Oil & Gas\n",
      "Length another_stocks: 7\n",
      "Length triplets two sectors: 35\n"
     ]
    },
    {
     "data": {
      "application/vnd.jupyter.widget-view+json": {
       "model_id": "ee24a60f53b04cd0b7bdb7b15209d65d",
       "version_major": 2,
       "version_minor": 0
      },
      "text/plain": [
       "  0%|          | 0/35 [00:00<?, ?it/s]"
      ]
     },
     "metadata": {},
     "output_type": "display_data"
    },
    {
     "name": "stdout",
     "output_type": "stream",
     "text": [
      ">>> Utilities - Consumer Goods\n",
      "Length another_stocks: 8\n",
      "Length triplets two sectors: 35\n"
     ]
    },
    {
     "data": {
      "application/vnd.jupyter.widget-view+json": {
       "model_id": "7e2ae928d94a4dd8820ba7841e119c89",
       "version_major": 2,
       "version_minor": 0
      },
      "text/plain": [
       "  0%|          | 0/35 [00:00<?, ?it/s]"
      ]
     },
     "metadata": {},
     "output_type": "display_data"
    },
    {
     "name": "stdout",
     "output_type": "stream",
     "text": [
      ">>> Oil & Gas\n",
      "Length target_stocks: 7\n",
      "Length triplets same sector: 35\n"
     ]
    },
    {
     "data": {
      "application/vnd.jupyter.widget-view+json": {
       "model_id": "74c1aff689f84ec3aff968a9822a2d10",
       "version_major": 2,
       "version_minor": 0
      },
      "text/plain": [
       "  0%|          | 0/35 [00:00<?, ?it/s]"
      ]
     },
     "metadata": {},
     "output_type": "display_data"
    },
    {
     "name": "stdout",
     "output_type": "stream",
     "text": [
      ">>> Oil & Gas - Industrials\n",
      "Length another_stocks: 20\n",
      "Length triplets two sectors: 35\n"
     ]
    },
    {
     "data": {
      "application/vnd.jupyter.widget-view+json": {
       "model_id": "1d6957584971476abb4196b1002adad9",
       "version_major": 2,
       "version_minor": 0
      },
      "text/plain": [
       "  0%|          | 0/35 [00:00<?, ?it/s]"
      ]
     },
     "metadata": {},
     "output_type": "display_data"
    },
    {
     "name": "stdout",
     "output_type": "stream",
     "text": [
      ">>> Oil & Gas - Basic Materials\n",
      "Length another_stocks: 8\n",
      "Length triplets two sectors: 35\n"
     ]
    },
    {
     "data": {
      "application/vnd.jupyter.widget-view+json": {
       "model_id": "c14cd0a6bc6542478f25f8be76b0f14a",
       "version_major": 2,
       "version_minor": 0
      },
      "text/plain": [
       "  0%|          | 0/35 [00:00<?, ?it/s]"
      ]
     },
     "metadata": {},
     "output_type": "display_data"
    },
    {
     "name": "stdout",
     "output_type": "stream",
     "text": [
      ">>> Oil & Gas - Financials\n",
      "Length another_stocks: 38\n",
      "Length triplets two sectors: 35\n"
     ]
    },
    {
     "data": {
      "application/vnd.jupyter.widget-view+json": {
       "model_id": "60aefbba60ae4d4f9146fcadf9d4a08f",
       "version_major": 2,
       "version_minor": 0
      },
      "text/plain": [
       "  0%|          | 0/35 [00:00<?, ?it/s]"
      ]
     },
     "metadata": {},
     "output_type": "display_data"
    },
    {
     "name": "stdout",
     "output_type": "stream",
     "text": [
      ">>> Oil & Gas - Consumer Services\n",
      "Length another_stocks: 17\n",
      "Length triplets two sectors: 35\n"
     ]
    },
    {
     "data": {
      "application/vnd.jupyter.widget-view+json": {
       "model_id": "097c99ac44414429a8c6318bf6be77e7",
       "version_major": 2,
       "version_minor": 0
      },
      "text/plain": [
       "  0%|          | 0/35 [00:00<?, ?it/s]"
      ]
     },
     "metadata": {},
     "output_type": "display_data"
    },
    {
     "name": "stdout",
     "output_type": "stream",
     "text": [
      ">>> Oil & Gas - Health Care\n",
      "Length another_stocks: 10\n",
      "Length triplets two sectors: 35\n"
     ]
    },
    {
     "data": {
      "application/vnd.jupyter.widget-view+json": {
       "model_id": "c6460468388c4edbb366fe46fc50fe73",
       "version_major": 2,
       "version_minor": 0
      },
      "text/plain": [
       "  0%|          | 0/35 [00:00<?, ?it/s]"
      ]
     },
     "metadata": {},
     "output_type": "display_data"
    },
    {
     "name": "stdout",
     "output_type": "stream",
     "text": [
      ">>> Oil & Gas - Utilities\n",
      "Length another_stocks: 7\n",
      "Length triplets two sectors: 35\n"
     ]
    },
    {
     "data": {
      "application/vnd.jupyter.widget-view+json": {
       "model_id": "de15a9f46ee94411967060e9dc368176",
       "version_major": 2,
       "version_minor": 0
      },
      "text/plain": [
       "  0%|          | 0/35 [00:00<?, ?it/s]"
      ]
     },
     "metadata": {},
     "output_type": "display_data"
    },
    {
     "name": "stdout",
     "output_type": "stream",
     "text": [
      ">>> Oil & Gas - Consumer Goods\n",
      "Length another_stocks: 8\n",
      "Length triplets two sectors: 35\n"
     ]
    },
    {
     "data": {
      "application/vnd.jupyter.widget-view+json": {
       "model_id": "611da3f71c44435a815e487f7d38f920",
       "version_major": 2,
       "version_minor": 0
      },
      "text/plain": [
       "  0%|          | 0/35 [00:00<?, ?it/s]"
      ]
     },
     "metadata": {},
     "output_type": "display_data"
    },
    {
     "name": "stdout",
     "output_type": "stream",
     "text": [
      ">>> Consumer Goods\n",
      "Length target_stocks: 8\n",
      "Length triplets same sector: 35\n"
     ]
    },
    {
     "data": {
      "application/vnd.jupyter.widget-view+json": {
       "model_id": "4debc0faf3e348099f25c8016a42b029",
       "version_major": 2,
       "version_minor": 0
      },
      "text/plain": [
       "  0%|          | 0/35 [00:00<?, ?it/s]"
      ]
     },
     "metadata": {},
     "output_type": "display_data"
    },
    {
     "name": "stdout",
     "output_type": "stream",
     "text": [
      ">>> Consumer Goods - Industrials\n",
      "Length another_stocks: 20\n",
      "Length triplets two sectors: 35\n"
     ]
    },
    {
     "data": {
      "application/vnd.jupyter.widget-view+json": {
       "model_id": "8f237f7cef6c48f5be1b99203882a170",
       "version_major": 2,
       "version_minor": 0
      },
      "text/plain": [
       "  0%|          | 0/35 [00:00<?, ?it/s]"
      ]
     },
     "metadata": {},
     "output_type": "display_data"
    },
    {
     "name": "stdout",
     "output_type": "stream",
     "text": [
      ">>> Consumer Goods - Basic Materials\n",
      "Length another_stocks: 8\n",
      "Length triplets two sectors: 35\n"
     ]
    },
    {
     "data": {
      "application/vnd.jupyter.widget-view+json": {
       "model_id": "29c1a938e7dd49e0ad1319d902346a3f",
       "version_major": 2,
       "version_minor": 0
      },
      "text/plain": [
       "  0%|          | 0/35 [00:00<?, ?it/s]"
      ]
     },
     "metadata": {},
     "output_type": "display_data"
    },
    {
     "name": "stdout",
     "output_type": "stream",
     "text": [
      ">>> Consumer Goods - Financials\n",
      "Length another_stocks: 38\n",
      "Length triplets two sectors: 35\n"
     ]
    },
    {
     "data": {
      "application/vnd.jupyter.widget-view+json": {
       "model_id": "d7f7a81391cb476f9efe1b1271574dcd",
       "version_major": 2,
       "version_minor": 0
      },
      "text/plain": [
       "  0%|          | 0/35 [00:00<?, ?it/s]"
      ]
     },
     "metadata": {},
     "output_type": "display_data"
    },
    {
     "name": "stdout",
     "output_type": "stream",
     "text": [
      ">>> Consumer Goods - Consumer Services\n",
      "Length another_stocks: 17\n",
      "Length triplets two sectors: 35\n"
     ]
    },
    {
     "data": {
      "application/vnd.jupyter.widget-view+json": {
       "model_id": "8106dcdb9b4346c288567e8a52608aa7",
       "version_major": 2,
       "version_minor": 0
      },
      "text/plain": [
       "  0%|          | 0/35 [00:00<?, ?it/s]"
      ]
     },
     "metadata": {},
     "output_type": "display_data"
    },
    {
     "name": "stdout",
     "output_type": "stream",
     "text": [
      ">>> Consumer Goods - Health Care\n",
      "Length another_stocks: 10\n",
      "Length triplets two sectors: 35\n"
     ]
    },
    {
     "data": {
      "application/vnd.jupyter.widget-view+json": {
       "model_id": "e52cbdcec93044d09f5a81163233d964",
       "version_major": 2,
       "version_minor": 0
      },
      "text/plain": [
       "  0%|          | 0/35 [00:00<?, ?it/s]"
      ]
     },
     "metadata": {},
     "output_type": "display_data"
    },
    {
     "name": "stdout",
     "output_type": "stream",
     "text": [
      ">>> Consumer Goods - Utilities\n",
      "Length another_stocks: 7\n",
      "Length triplets two sectors: 35\n"
     ]
    },
    {
     "data": {
      "application/vnd.jupyter.widget-view+json": {
       "model_id": "6207360ae30642e4a33484127b05e2ce",
       "version_major": 2,
       "version_minor": 0
      },
      "text/plain": [
       "  0%|          | 0/35 [00:00<?, ?it/s]"
      ]
     },
     "metadata": {},
     "output_type": "display_data"
    },
    {
     "name": "stdout",
     "output_type": "stream",
     "text": [
      ">>> Consumer Goods - Oil & Gas\n",
      "Length another_stocks: 7\n",
      "Length triplets two sectors: 35\n"
     ]
    },
    {
     "data": {
      "application/vnd.jupyter.widget-view+json": {
       "model_id": "57cb6693bdfe460f9cc4960726f6fe98",
       "version_major": 2,
       "version_minor": 0
      },
      "text/plain": [
       "  0%|          | 0/35 [00:00<?, ?it/s]"
      ]
     },
     "metadata": {},
     "output_type": "display_data"
    },
    {
     "name": "stdout",
     "output_type": "stream",
     "text": [
      ">>> Industrials\n",
      "Length target_stocks: 20\n",
      "Length triplets same sector: 35\n"
     ]
    },
    {
     "data": {
      "application/vnd.jupyter.widget-view+json": {
       "model_id": "cdbdda2889c64763a2313fc36bc03e0e",
       "version_major": 2,
       "version_minor": 0
      },
      "text/plain": [
       "  0%|          | 0/35 [00:00<?, ?it/s]"
      ]
     },
     "metadata": {},
     "output_type": "display_data"
    },
    {
     "name": "stdout",
     "output_type": "stream",
     "text": [
      ">>> Industrials - Basic Materials\n",
      "Length another_stocks: 8\n",
      "Length triplets two sectors: 35\n"
     ]
    },
    {
     "data": {
      "application/vnd.jupyter.widget-view+json": {
       "model_id": "a360d767f6fb47618d01d6bbb19287f4",
       "version_major": 2,
       "version_minor": 0
      },
      "text/plain": [
       "  0%|          | 0/35 [00:00<?, ?it/s]"
      ]
     },
     "metadata": {},
     "output_type": "display_data"
    },
    {
     "name": "stdout",
     "output_type": "stream",
     "text": [
      ">>> Industrials - Financials\n",
      "Length another_stocks: 38\n",
      "Length triplets two sectors: 35\n"
     ]
    },
    {
     "data": {
      "application/vnd.jupyter.widget-view+json": {
       "model_id": "0104de08691b41a69bd5f9ee137bb23a",
       "version_major": 2,
       "version_minor": 0
      },
      "text/plain": [
       "  0%|          | 0/35 [00:00<?, ?it/s]"
      ]
     },
     "metadata": {},
     "output_type": "display_data"
    },
    {
     "name": "stdout",
     "output_type": "stream",
     "text": [
      ">>> Industrials - Consumer Services\n",
      "Length another_stocks: 17\n",
      "Length triplets two sectors: 35\n"
     ]
    },
    {
     "data": {
      "application/vnd.jupyter.widget-view+json": {
       "model_id": "ad40a272d2624227902601feb3020e01",
       "version_major": 2,
       "version_minor": 0
      },
      "text/plain": [
       "  0%|          | 0/35 [00:00<?, ?it/s]"
      ]
     },
     "metadata": {},
     "output_type": "display_data"
    },
    {
     "name": "stdout",
     "output_type": "stream",
     "text": [
      ">>> Industrials - Health Care\n",
      "Length another_stocks: 10\n",
      "Length triplets two sectors: 35\n"
     ]
    },
    {
     "data": {
      "application/vnd.jupyter.widget-view+json": {
       "model_id": "b7e3c0c415f9441b830d15bb8bea0300",
       "version_major": 2,
       "version_minor": 0
      },
      "text/plain": [
       "  0%|          | 0/35 [00:00<?, ?it/s]"
      ]
     },
     "metadata": {},
     "output_type": "display_data"
    },
    {
     "name": "stdout",
     "output_type": "stream",
     "text": [
      ">>> Industrials - Utilities\n",
      "Length another_stocks: 7\n",
      "Length triplets two sectors: 35\n"
     ]
    },
    {
     "data": {
      "application/vnd.jupyter.widget-view+json": {
       "model_id": "ec241ea5ad574d4491c3b4bf9e25fd1d",
       "version_major": 2,
       "version_minor": 0
      },
      "text/plain": [
       "  0%|          | 0/35 [00:00<?, ?it/s]"
      ]
     },
     "metadata": {},
     "output_type": "display_data"
    },
    {
     "name": "stdout",
     "output_type": "stream",
     "text": [
      ">>> Industrials - Oil & Gas\n",
      "Length another_stocks: 7\n",
      "Length triplets two sectors: 35\n"
     ]
    },
    {
     "data": {
      "application/vnd.jupyter.widget-view+json": {
       "model_id": "a20f1333e6144153822e7f9db1f33bd5",
       "version_major": 2,
       "version_minor": 0
      },
      "text/plain": [
       "  0%|          | 0/35 [00:00<?, ?it/s]"
      ]
     },
     "metadata": {},
     "output_type": "display_data"
    },
    {
     "name": "stdout",
     "output_type": "stream",
     "text": [
      ">>> Industrials - Consumer Goods\n",
      "Length another_stocks: 8\n",
      "Length triplets two sectors: 35\n"
     ]
    },
    {
     "data": {
      "application/vnd.jupyter.widget-view+json": {
       "model_id": "41fb4dd3922b42e18b28d6e4e3b2a628",
       "version_major": 2,
       "version_minor": 0
      },
      "text/plain": [
       "  0%|          | 0/35 [00:00<?, ?it/s]"
      ]
     },
     "metadata": {},
     "output_type": "display_data"
    },
    {
     "name": "stdout",
     "output_type": "stream",
     "text": [
      ">>> Basic Materials\n",
      "Length target_stocks: 8\n",
      "Length triplets same sector: 35\n"
     ]
    },
    {
     "data": {
      "application/vnd.jupyter.widget-view+json": {
       "model_id": "626a99e5fd5e464580263d5c8e01284a",
       "version_major": 2,
       "version_minor": 0
      },
      "text/plain": [
       "  0%|          | 0/35 [00:00<?, ?it/s]"
      ]
     },
     "metadata": {},
     "output_type": "display_data"
    },
    {
     "name": "stdout",
     "output_type": "stream",
     "text": [
      ">>> Basic Materials - Industrials\n",
      "Length another_stocks: 20\n",
      "Length triplets two sectors: 35\n"
     ]
    },
    {
     "data": {
      "application/vnd.jupyter.widget-view+json": {
       "model_id": "ed4ceff209494ecc8f22e069728bd85a",
       "version_major": 2,
       "version_minor": 0
      },
      "text/plain": [
       "  0%|          | 0/35 [00:00<?, ?it/s]"
      ]
     },
     "metadata": {},
     "output_type": "display_data"
    },
    {
     "name": "stdout",
     "output_type": "stream",
     "text": [
      ">>> Basic Materials - Financials\n",
      "Length another_stocks: 38\n",
      "Length triplets two sectors: 35\n"
     ]
    },
    {
     "data": {
      "application/vnd.jupyter.widget-view+json": {
       "model_id": "ec51b61059e94a02bf93669ea1b25e86",
       "version_major": 2,
       "version_minor": 0
      },
      "text/plain": [
       "  0%|          | 0/35 [00:00<?, ?it/s]"
      ]
     },
     "metadata": {},
     "output_type": "display_data"
    },
    {
     "name": "stdout",
     "output_type": "stream",
     "text": [
      ">>> Basic Materials - Consumer Services\n",
      "Length another_stocks: 17\n",
      "Length triplets two sectors: 35\n"
     ]
    },
    {
     "data": {
      "application/vnd.jupyter.widget-view+json": {
       "model_id": "f8da21e39a1a4beba736ebafade80071",
       "version_major": 2,
       "version_minor": 0
      },
      "text/plain": [
       "  0%|          | 0/35 [00:00<?, ?it/s]"
      ]
     },
     "metadata": {},
     "output_type": "display_data"
    },
    {
     "name": "stdout",
     "output_type": "stream",
     "text": [
      ">>> Basic Materials - Health Care\n",
      "Length another_stocks: 10\n",
      "Length triplets two sectors: 35\n"
     ]
    },
    {
     "data": {
      "application/vnd.jupyter.widget-view+json": {
       "model_id": "e526c06fd0274eddb8cb67269b7bea05",
       "version_major": 2,
       "version_minor": 0
      },
      "text/plain": [
       "  0%|          | 0/35 [00:00<?, ?it/s]"
      ]
     },
     "metadata": {},
     "output_type": "display_data"
    },
    {
     "name": "stdout",
     "output_type": "stream",
     "text": [
      ">>> Basic Materials - Utilities\n",
      "Length another_stocks: 7\n",
      "Length triplets two sectors: 35\n"
     ]
    },
    {
     "data": {
      "application/vnd.jupyter.widget-view+json": {
       "model_id": "2b19a9d9311a477f9662c17399c8c5a0",
       "version_major": 2,
       "version_minor": 0
      },
      "text/plain": [
       "  0%|          | 0/35 [00:00<?, ?it/s]"
      ]
     },
     "metadata": {},
     "output_type": "display_data"
    },
    {
     "name": "stdout",
     "output_type": "stream",
     "text": [
      ">>> Basic Materials - Oil & Gas\n",
      "Length another_stocks: 7\n",
      "Length triplets two sectors: 35\n"
     ]
    },
    {
     "data": {
      "application/vnd.jupyter.widget-view+json": {
       "model_id": "a946006373ca4d7db8dd724c5ec00892",
       "version_major": 2,
       "version_minor": 0
      },
      "text/plain": [
       "  0%|          | 0/35 [00:00<?, ?it/s]"
      ]
     },
     "metadata": {},
     "output_type": "display_data"
    },
    {
     "name": "stdout",
     "output_type": "stream",
     "text": [
      ">>> Basic Materials - Consumer Goods\n",
      "Length another_stocks: 8\n",
      "Length triplets two sectors: 35\n"
     ]
    },
    {
     "data": {
      "application/vnd.jupyter.widget-view+json": {
       "model_id": "e1b4b9b063b643a3afb68c0f92801fbc",
       "version_major": 2,
       "version_minor": 0
      },
      "text/plain": [
       "  0%|          | 0/35 [00:00<?, ?it/s]"
      ]
     },
     "metadata": {},
     "output_type": "display_data"
    },
    {
     "name": "stdout",
     "output_type": "stream",
     "text": [
      ">>> Financials\n",
      "Length target_stocks: 38\n",
      "Length triplets same sector: 35\n"
     ]
    },
    {
     "data": {
      "application/vnd.jupyter.widget-view+json": {
       "model_id": "5d45d645433f40ff9994ff182b035904",
       "version_major": 2,
       "version_minor": 0
      },
      "text/plain": [
       "  0%|          | 0/35 [00:00<?, ?it/s]"
      ]
     },
     "metadata": {},
     "output_type": "display_data"
    },
    {
     "name": "stdout",
     "output_type": "stream",
     "text": [
      ">>> Financials - Industrials\n",
      "Length another_stocks: 20\n",
      "Length triplets two sectors: 35\n"
     ]
    },
    {
     "data": {
      "application/vnd.jupyter.widget-view+json": {
       "model_id": "cdf5bbc6905f4828982faf0c7a562df6",
       "version_major": 2,
       "version_minor": 0
      },
      "text/plain": [
       "  0%|          | 0/35 [00:00<?, ?it/s]"
      ]
     },
     "metadata": {},
     "output_type": "display_data"
    },
    {
     "name": "stdout",
     "output_type": "stream",
     "text": [
      ">>> Financials - Basic Materials\n",
      "Length another_stocks: 8\n",
      "Length triplets two sectors: 35\n"
     ]
    },
    {
     "data": {
      "application/vnd.jupyter.widget-view+json": {
       "model_id": "c98b5f2eb9f340e58b697214663ca62c",
       "version_major": 2,
       "version_minor": 0
      },
      "text/plain": [
       "  0%|          | 0/35 [00:00<?, ?it/s]"
      ]
     },
     "metadata": {},
     "output_type": "display_data"
    },
    {
     "name": "stdout",
     "output_type": "stream",
     "text": [
      ">>> Financials - Consumer Services\n",
      "Length another_stocks: 17\n",
      "Length triplets two sectors: 35\n"
     ]
    },
    {
     "data": {
      "application/vnd.jupyter.widget-view+json": {
       "model_id": "7b91129fc59042df9e4215da1030c27a",
       "version_major": 2,
       "version_minor": 0
      },
      "text/plain": [
       "  0%|          | 0/35 [00:00<?, ?it/s]"
      ]
     },
     "metadata": {},
     "output_type": "display_data"
    },
    {
     "name": "stdout",
     "output_type": "stream",
     "text": [
      ">>> Financials - Health Care\n",
      "Length another_stocks: 10\n",
      "Length triplets two sectors: 35\n"
     ]
    },
    {
     "data": {
      "application/vnd.jupyter.widget-view+json": {
       "model_id": "eb615ea114a0434985bfb457bc7a3a27",
       "version_major": 2,
       "version_minor": 0
      },
      "text/plain": [
       "  0%|          | 0/35 [00:00<?, ?it/s]"
      ]
     },
     "metadata": {},
     "output_type": "display_data"
    },
    {
     "name": "stdout",
     "output_type": "stream",
     "text": [
      ">>> Financials - Utilities\n",
      "Length another_stocks: 7\n",
      "Length triplets two sectors: 35\n"
     ]
    },
    {
     "data": {
      "application/vnd.jupyter.widget-view+json": {
       "model_id": "092bf8c917694dcd921674bf101e5c69",
       "version_major": 2,
       "version_minor": 0
      },
      "text/plain": [
       "  0%|          | 0/35 [00:00<?, ?it/s]"
      ]
     },
     "metadata": {},
     "output_type": "display_data"
    },
    {
     "name": "stdout",
     "output_type": "stream",
     "text": [
      ">>> Financials - Oil & Gas\n",
      "Length another_stocks: 7\n",
      "Length triplets two sectors: 35\n"
     ]
    },
    {
     "data": {
      "application/vnd.jupyter.widget-view+json": {
       "model_id": "18b496e071ea44a18ea8f62956eddbce",
       "version_major": 2,
       "version_minor": 0
      },
      "text/plain": [
       "  0%|          | 0/35 [00:00<?, ?it/s]"
      ]
     },
     "metadata": {},
     "output_type": "display_data"
    },
    {
     "name": "stdout",
     "output_type": "stream",
     "text": [
      ">>> Financials - Consumer Goods\n",
      "Length another_stocks: 8\n",
      "Length triplets two sectors: 35\n"
     ]
    },
    {
     "data": {
      "application/vnd.jupyter.widget-view+json": {
       "model_id": "f69fd7a7845547dab02bc80418328dd6",
       "version_major": 2,
       "version_minor": 0
      },
      "text/plain": [
       "  0%|          | 0/35 [00:00<?, ?it/s]"
      ]
     },
     "metadata": {},
     "output_type": "display_data"
    },
    {
     "name": "stdout",
     "output_type": "stream",
     "text": [
      ">>> Consumer Services\n",
      "Length target_stocks: 17\n",
      "Length triplets same sector: 35\n"
     ]
    },
    {
     "data": {
      "application/vnd.jupyter.widget-view+json": {
       "model_id": "8a727b5f4b5840ffae9d3e5b871ed851",
       "version_major": 2,
       "version_minor": 0
      },
      "text/plain": [
       "  0%|          | 0/35 [00:00<?, ?it/s]"
      ]
     },
     "metadata": {},
     "output_type": "display_data"
    },
    {
     "name": "stdout",
     "output_type": "stream",
     "text": [
      ">>> Consumer Services - Industrials\n",
      "Length another_stocks: 20\n",
      "Length triplets two sectors: 35\n"
     ]
    },
    {
     "data": {
      "application/vnd.jupyter.widget-view+json": {
       "model_id": "4e07fd8e70a94f639a0cd191e9a0656a",
       "version_major": 2,
       "version_minor": 0
      },
      "text/plain": [
       "  0%|          | 0/35 [00:00<?, ?it/s]"
      ]
     },
     "metadata": {},
     "output_type": "display_data"
    },
    {
     "name": "stdout",
     "output_type": "stream",
     "text": [
      ">>> Consumer Services - Basic Materials\n",
      "Length another_stocks: 8\n",
      "Length triplets two sectors: 35\n"
     ]
    },
    {
     "data": {
      "application/vnd.jupyter.widget-view+json": {
       "model_id": "a10a202d0e7f4472b9cca0081006b4a6",
       "version_major": 2,
       "version_minor": 0
      },
      "text/plain": [
       "  0%|          | 0/35 [00:00<?, ?it/s]"
      ]
     },
     "metadata": {},
     "output_type": "display_data"
    },
    {
     "name": "stdout",
     "output_type": "stream",
     "text": [
      ">>> Consumer Services - Financials\n",
      "Length another_stocks: 38\n",
      "Length triplets two sectors: 35\n"
     ]
    },
    {
     "data": {
      "application/vnd.jupyter.widget-view+json": {
       "model_id": "f973481b4c064b629a894a1f1953d03e",
       "version_major": 2,
       "version_minor": 0
      },
      "text/plain": [
       "  0%|          | 0/35 [00:00<?, ?it/s]"
      ]
     },
     "metadata": {},
     "output_type": "display_data"
    },
    {
     "name": "stdout",
     "output_type": "stream",
     "text": [
      ">>> Consumer Services - Health Care\n",
      "Length another_stocks: 10\n",
      "Length triplets two sectors: 35\n"
     ]
    },
    {
     "data": {
      "application/vnd.jupyter.widget-view+json": {
       "model_id": "57c1554a49ba475495090360b46ba855",
       "version_major": 2,
       "version_minor": 0
      },
      "text/plain": [
       "  0%|          | 0/35 [00:00<?, ?it/s]"
      ]
     },
     "metadata": {},
     "output_type": "display_data"
    },
    {
     "name": "stdout",
     "output_type": "stream",
     "text": [
      ">>> Consumer Services - Utilities\n",
      "Length another_stocks: 7\n",
      "Length triplets two sectors: 35\n"
     ]
    },
    {
     "data": {
      "application/vnd.jupyter.widget-view+json": {
       "model_id": "d04e64708f40477887a8a089a0421f27",
       "version_major": 2,
       "version_minor": 0
      },
      "text/plain": [
       "  0%|          | 0/35 [00:00<?, ?it/s]"
      ]
     },
     "metadata": {},
     "output_type": "display_data"
    },
    {
     "name": "stdout",
     "output_type": "stream",
     "text": [
      ">>> Consumer Services - Oil & Gas\n",
      "Length another_stocks: 7\n",
      "Length triplets two sectors: 35\n"
     ]
    },
    {
     "data": {
      "application/vnd.jupyter.widget-view+json": {
       "model_id": "a27814df1ab34355b73a4da7cb093526",
       "version_major": 2,
       "version_minor": 0
      },
      "text/plain": [
       "  0%|          | 0/35 [00:00<?, ?it/s]"
      ]
     },
     "metadata": {},
     "output_type": "display_data"
    },
    {
     "name": "stdout",
     "output_type": "stream",
     "text": [
      ">>> Consumer Services - Consumer Goods\n",
      "Length another_stocks: 8\n",
      "Length triplets two sectors: 35\n"
     ]
    },
    {
     "data": {
      "application/vnd.jupyter.widget-view+json": {
       "model_id": "0cba22a6eb87460cba8475061c5f605a",
       "version_major": 2,
       "version_minor": 0
      },
      "text/plain": [
       "  0%|          | 0/35 [00:00<?, ?it/s]"
      ]
     },
     "metadata": {},
     "output_type": "display_data"
    },
    {
     "name": "stdout",
     "output_type": "stream",
     "text": [
      ">>> Health Care\n",
      "Length target_stocks: 10\n",
      "Length triplets same sector: 35\n"
     ]
    },
    {
     "data": {
      "application/vnd.jupyter.widget-view+json": {
       "model_id": "975d20a5fe884d0fbf02256b8084831b",
       "version_major": 2,
       "version_minor": 0
      },
      "text/plain": [
       "  0%|          | 0/35 [00:00<?, ?it/s]"
      ]
     },
     "metadata": {},
     "output_type": "display_data"
    },
    {
     "name": "stdout",
     "output_type": "stream",
     "text": [
      ">>> Health Care - Industrials\n",
      "Length another_stocks: 20\n",
      "Length triplets two sectors: 35\n"
     ]
    },
    {
     "data": {
      "application/vnd.jupyter.widget-view+json": {
       "model_id": "a5de9b8bdcad422b9fd9643172c90114",
       "version_major": 2,
       "version_minor": 0
      },
      "text/plain": [
       "  0%|          | 0/35 [00:00<?, ?it/s]"
      ]
     },
     "metadata": {},
     "output_type": "display_data"
    },
    {
     "name": "stdout",
     "output_type": "stream",
     "text": [
      ">>> Health Care - Basic Materials\n",
      "Length another_stocks: 8\n",
      "Length triplets two sectors: 35\n"
     ]
    },
    {
     "data": {
      "application/vnd.jupyter.widget-view+json": {
       "model_id": "55ae90c24c60412fb9ccfc40d6ce1e4d",
       "version_major": 2,
       "version_minor": 0
      },
      "text/plain": [
       "  0%|          | 0/35 [00:00<?, ?it/s]"
      ]
     },
     "metadata": {},
     "output_type": "display_data"
    },
    {
     "name": "stdout",
     "output_type": "stream",
     "text": [
      ">>> Health Care - Financials\n",
      "Length another_stocks: 38\n",
      "Length triplets two sectors: 35\n"
     ]
    },
    {
     "data": {
      "application/vnd.jupyter.widget-view+json": {
       "model_id": "828d668a6b65487ca2b67c354a19a52c",
       "version_major": 2,
       "version_minor": 0
      },
      "text/plain": [
       "  0%|          | 0/35 [00:00<?, ?it/s]"
      ]
     },
     "metadata": {},
     "output_type": "display_data"
    },
    {
     "name": "stdout",
     "output_type": "stream",
     "text": [
      ">>> Health Care - Consumer Services\n",
      "Length another_stocks: 17\n",
      "Length triplets two sectors: 35\n"
     ]
    },
    {
     "data": {
      "application/vnd.jupyter.widget-view+json": {
       "model_id": "729b67509c2c411d9c1ba92870e2fbc2",
       "version_major": 2,
       "version_minor": 0
      },
      "text/plain": [
       "  0%|          | 0/35 [00:00<?, ?it/s]"
      ]
     },
     "metadata": {},
     "output_type": "display_data"
    },
    {
     "name": "stdout",
     "output_type": "stream",
     "text": [
      ">>> Health Care - Utilities\n",
      "Length another_stocks: 7\n",
      "Length triplets two sectors: 35\n"
     ]
    },
    {
     "data": {
      "application/vnd.jupyter.widget-view+json": {
       "model_id": "e23319a93eb1468e9b24d5fd42e7fb65",
       "version_major": 2,
       "version_minor": 0
      },
      "text/plain": [
       "  0%|          | 0/35 [00:00<?, ?it/s]"
      ]
     },
     "metadata": {},
     "output_type": "display_data"
    },
    {
     "name": "stdout",
     "output_type": "stream",
     "text": [
      ">>> Health Care - Oil & Gas\n",
      "Length another_stocks: 7\n",
      "Length triplets two sectors: 35\n"
     ]
    },
    {
     "data": {
      "application/vnd.jupyter.widget-view+json": {
       "model_id": "dcaed2fb603a473a9bc4d2f2bc4b92a9",
       "version_major": 2,
       "version_minor": 0
      },
      "text/plain": [
       "  0%|          | 0/35 [00:00<?, ?it/s]"
      ]
     },
     "metadata": {},
     "output_type": "display_data"
    },
    {
     "name": "stdout",
     "output_type": "stream",
     "text": [
      ">>> Health Care - Consumer Goods\n",
      "Length another_stocks: 8\n",
      "Length triplets two sectors: 35\n"
     ]
    },
    {
     "data": {
      "application/vnd.jupyter.widget-view+json": {
       "model_id": "a917b455de1c41d4a70f1760de88977d",
       "version_major": 2,
       "version_minor": 0
      },
      "text/plain": [
       "  0%|          | 0/35 [00:00<?, ?it/s]"
      ]
     },
     "metadata": {},
     "output_type": "display_data"
    },
    {
     "name": "stdout",
     "output_type": "stream",
     "text": [
      ">>> Utilities\n",
      "Length target_stocks: 7\n",
      "Length triplets same sector: 35\n"
     ]
    },
    {
     "data": {
      "application/vnd.jupyter.widget-view+json": {
       "model_id": "55b463599df54a27ab8d487dfae1d4e0",
       "version_major": 2,
       "version_minor": 0
      },
      "text/plain": [
       "  0%|          | 0/35 [00:00<?, ?it/s]"
      ]
     },
     "metadata": {},
     "output_type": "display_data"
    },
    {
     "name": "stdout",
     "output_type": "stream",
     "text": [
      ">>> Utilities - Industrials\n",
      "Length another_stocks: 20\n",
      "Length triplets two sectors: 35\n"
     ]
    },
    {
     "data": {
      "application/vnd.jupyter.widget-view+json": {
       "model_id": "bb64d42be9e44d38bc47fdbdcb8970b5",
       "version_major": 2,
       "version_minor": 0
      },
      "text/plain": [
       "  0%|          | 0/35 [00:00<?, ?it/s]"
      ]
     },
     "metadata": {},
     "output_type": "display_data"
    },
    {
     "name": "stdout",
     "output_type": "stream",
     "text": [
      ">>> Utilities - Basic Materials\n",
      "Length another_stocks: 8\n",
      "Length triplets two sectors: 35\n"
     ]
    },
    {
     "data": {
      "application/vnd.jupyter.widget-view+json": {
       "model_id": "db97a4c129d7490c99e52449839e01e7",
       "version_major": 2,
       "version_minor": 0
      },
      "text/plain": [
       "  0%|          | 0/35 [00:00<?, ?it/s]"
      ]
     },
     "metadata": {},
     "output_type": "display_data"
    },
    {
     "name": "stdout",
     "output_type": "stream",
     "text": [
      ">>> Utilities - Financials\n",
      "Length another_stocks: 38\n",
      "Length triplets two sectors: 35\n"
     ]
    },
    {
     "data": {
      "application/vnd.jupyter.widget-view+json": {
       "model_id": "ca7e48b4e2094c15a3f07fa9561d87f0",
       "version_major": 2,
       "version_minor": 0
      },
      "text/plain": [
       "  0%|          | 0/35 [00:00<?, ?it/s]"
      ]
     },
     "metadata": {},
     "output_type": "display_data"
    },
    {
     "name": "stdout",
     "output_type": "stream",
     "text": [
      ">>> Utilities - Consumer Services\n",
      "Length another_stocks: 17\n",
      "Length triplets two sectors: 35\n"
     ]
    },
    {
     "data": {
      "application/vnd.jupyter.widget-view+json": {
       "model_id": "d494d0bc79fc4dd7bae62504a5988986",
       "version_major": 2,
       "version_minor": 0
      },
      "text/plain": [
       "  0%|          | 0/35 [00:00<?, ?it/s]"
      ]
     },
     "metadata": {},
     "output_type": "display_data"
    },
    {
     "name": "stdout",
     "output_type": "stream",
     "text": [
      ">>> Utilities - Health Care\n",
      "Length another_stocks: 10\n",
      "Length triplets two sectors: 35\n"
     ]
    },
    {
     "data": {
      "application/vnd.jupyter.widget-view+json": {
       "model_id": "3ddaa2229b7344eb8e21a148371c49d4",
       "version_major": 2,
       "version_minor": 0
      },
      "text/plain": [
       "  0%|          | 0/35 [00:00<?, ?it/s]"
      ]
     },
     "metadata": {},
     "output_type": "display_data"
    },
    {
     "name": "stdout",
     "output_type": "stream",
     "text": [
      ">>> Utilities - Oil & Gas\n",
      "Length another_stocks: 7\n",
      "Length triplets two sectors: 35\n"
     ]
    },
    {
     "data": {
      "application/vnd.jupyter.widget-view+json": {
       "model_id": "364e9a8b75de46dda32de449c95c68ec",
       "version_major": 2,
       "version_minor": 0
      },
      "text/plain": [
       "  0%|          | 0/35 [00:00<?, ?it/s]"
      ]
     },
     "metadata": {},
     "output_type": "display_data"
    },
    {
     "name": "stdout",
     "output_type": "stream",
     "text": [
      ">>> Utilities - Consumer Goods\n",
      "Length another_stocks: 8\n",
      "Length triplets two sectors: 35\n"
     ]
    },
    {
     "data": {
      "application/vnd.jupyter.widget-view+json": {
       "model_id": "b315ad059e034039936b71d4c68535d6",
       "version_major": 2,
       "version_minor": 0
      },
      "text/plain": [
       "  0%|          | 0/35 [00:00<?, ?it/s]"
      ]
     },
     "metadata": {},
     "output_type": "display_data"
    },
    {
     "name": "stdout",
     "output_type": "stream",
     "text": [
      ">>> Oil & Gas\n",
      "Length target_stocks: 7\n",
      "Length triplets same sector: 35\n"
     ]
    },
    {
     "data": {
      "application/vnd.jupyter.widget-view+json": {
       "model_id": "9142d8ee1966413fb86a76c969cdfe07",
       "version_major": 2,
       "version_minor": 0
      },
      "text/plain": [
       "  0%|          | 0/35 [00:00<?, ?it/s]"
      ]
     },
     "metadata": {},
     "output_type": "display_data"
    },
    {
     "name": "stdout",
     "output_type": "stream",
     "text": [
      ">>> Oil & Gas - Industrials\n",
      "Length another_stocks: 20\n",
      "Length triplets two sectors: 35\n"
     ]
    },
    {
     "data": {
      "application/vnd.jupyter.widget-view+json": {
       "model_id": "7b3f89e02a0d4fe7a1c40c2a9fbb4d76",
       "version_major": 2,
       "version_minor": 0
      },
      "text/plain": [
       "  0%|          | 0/35 [00:00<?, ?it/s]"
      ]
     },
     "metadata": {},
     "output_type": "display_data"
    },
    {
     "name": "stdout",
     "output_type": "stream",
     "text": [
      ">>> Oil & Gas - Basic Materials\n",
      "Length another_stocks: 8\n",
      "Length triplets two sectors: 35\n"
     ]
    },
    {
     "data": {
      "application/vnd.jupyter.widget-view+json": {
       "model_id": "77f9211690a14c11b9258a71fc23da16",
       "version_major": 2,
       "version_minor": 0
      },
      "text/plain": [
       "  0%|          | 0/35 [00:00<?, ?it/s]"
      ]
     },
     "metadata": {},
     "output_type": "display_data"
    },
    {
     "name": "stdout",
     "output_type": "stream",
     "text": [
      ">>> Oil & Gas - Financials\n",
      "Length another_stocks: 38\n",
      "Length triplets two sectors: 35\n"
     ]
    },
    {
     "data": {
      "application/vnd.jupyter.widget-view+json": {
       "model_id": "c6b4bf5ac69b4e149d476499c744d427",
       "version_major": 2,
       "version_minor": 0
      },
      "text/plain": [
       "  0%|          | 0/35 [00:00<?, ?it/s]"
      ]
     },
     "metadata": {},
     "output_type": "display_data"
    },
    {
     "name": "stdout",
     "output_type": "stream",
     "text": [
      ">>> Oil & Gas - Consumer Services\n",
      "Length another_stocks: 17\n",
      "Length triplets two sectors: 35\n"
     ]
    },
    {
     "data": {
      "application/vnd.jupyter.widget-view+json": {
       "model_id": "9b331bdebfb2400ab77f89dd81286776",
       "version_major": 2,
       "version_minor": 0
      },
      "text/plain": [
       "  0%|          | 0/35 [00:00<?, ?it/s]"
      ]
     },
     "metadata": {},
     "output_type": "display_data"
    },
    {
     "name": "stdout",
     "output_type": "stream",
     "text": [
      ">>> Oil & Gas - Health Care\n",
      "Length another_stocks: 10\n",
      "Length triplets two sectors: 35\n"
     ]
    },
    {
     "data": {
      "application/vnd.jupyter.widget-view+json": {
       "model_id": "4884253de7ac40cca1d75d498fe20459",
       "version_major": 2,
       "version_minor": 0
      },
      "text/plain": [
       "  0%|          | 0/35 [00:00<?, ?it/s]"
      ]
     },
     "metadata": {},
     "output_type": "display_data"
    },
    {
     "name": "stdout",
     "output_type": "stream",
     "text": [
      ">>> Oil & Gas - Utilities\n",
      "Length another_stocks: 7\n",
      "Length triplets two sectors: 35\n"
     ]
    },
    {
     "data": {
      "application/vnd.jupyter.widget-view+json": {
       "model_id": "866be4e7aced4b2aa4f9c7dbb0b3d22b",
       "version_major": 2,
       "version_minor": 0
      },
      "text/plain": [
       "  0%|          | 0/35 [00:00<?, ?it/s]"
      ]
     },
     "metadata": {},
     "output_type": "display_data"
    },
    {
     "name": "stdout",
     "output_type": "stream",
     "text": [
      ">>> Oil & Gas - Consumer Goods\n",
      "Length another_stocks: 8\n",
      "Length triplets two sectors: 35\n"
     ]
    },
    {
     "data": {
      "application/vnd.jupyter.widget-view+json": {
       "model_id": "a69d9f44a6ea4422a9c38a5cbac6d026",
       "version_major": 2,
       "version_minor": 0
      },
      "text/plain": [
       "  0%|          | 0/35 [00:00<?, ?it/s]"
      ]
     },
     "metadata": {},
     "output_type": "display_data"
    },
    {
     "name": "stdout",
     "output_type": "stream",
     "text": [
      ">>> Consumer Goods\n",
      "Length target_stocks: 8\n",
      "Length triplets same sector: 35\n"
     ]
    },
    {
     "data": {
      "application/vnd.jupyter.widget-view+json": {
       "model_id": "8467d3d97ad14778b28293cb1d3684f4",
       "version_major": 2,
       "version_minor": 0
      },
      "text/plain": [
       "  0%|          | 0/35 [00:00<?, ?it/s]"
      ]
     },
     "metadata": {},
     "output_type": "display_data"
    },
    {
     "name": "stdout",
     "output_type": "stream",
     "text": [
      ">>> Consumer Goods - Industrials\n",
      "Length another_stocks: 20\n",
      "Length triplets two sectors: 35\n"
     ]
    },
    {
     "data": {
      "application/vnd.jupyter.widget-view+json": {
       "model_id": "d492cc0af6e340d8b3d292f9d74077e8",
       "version_major": 2,
       "version_minor": 0
      },
      "text/plain": [
       "  0%|          | 0/35 [00:00<?, ?it/s]"
      ]
     },
     "metadata": {},
     "output_type": "display_data"
    },
    {
     "name": "stdout",
     "output_type": "stream",
     "text": [
      ">>> Consumer Goods - Basic Materials\n",
      "Length another_stocks: 8\n",
      "Length triplets two sectors: 35\n"
     ]
    },
    {
     "data": {
      "application/vnd.jupyter.widget-view+json": {
       "model_id": "6b21778a58f94430832f56280bba4558",
       "version_major": 2,
       "version_minor": 0
      },
      "text/plain": [
       "  0%|          | 0/35 [00:00<?, ?it/s]"
      ]
     },
     "metadata": {},
     "output_type": "display_data"
    },
    {
     "name": "stdout",
     "output_type": "stream",
     "text": [
      ">>> Consumer Goods - Financials\n",
      "Length another_stocks: 38\n",
      "Length triplets two sectors: 35\n"
     ]
    },
    {
     "data": {
      "application/vnd.jupyter.widget-view+json": {
       "model_id": "5993b355a77c45e4978e959c42c25a04",
       "version_major": 2,
       "version_minor": 0
      },
      "text/plain": [
       "  0%|          | 0/35 [00:00<?, ?it/s]"
      ]
     },
     "metadata": {},
     "output_type": "display_data"
    },
    {
     "name": "stdout",
     "output_type": "stream",
     "text": [
      ">>> Consumer Goods - Consumer Services\n",
      "Length another_stocks: 17\n",
      "Length triplets two sectors: 35\n"
     ]
    },
    {
     "data": {
      "application/vnd.jupyter.widget-view+json": {
       "model_id": "b2fa0f629dd8427cb31560ad9ad221ba",
       "version_major": 2,
       "version_minor": 0
      },
      "text/plain": [
       "  0%|          | 0/35 [00:00<?, ?it/s]"
      ]
     },
     "metadata": {},
     "output_type": "display_data"
    },
    {
     "name": "stdout",
     "output_type": "stream",
     "text": [
      ">>> Consumer Goods - Health Care\n",
      "Length another_stocks: 10\n",
      "Length triplets two sectors: 35\n"
     ]
    },
    {
     "data": {
      "application/vnd.jupyter.widget-view+json": {
       "model_id": "a3701975710943359179733c82988a2d",
       "version_major": 2,
       "version_minor": 0
      },
      "text/plain": [
       "  0%|          | 0/35 [00:00<?, ?it/s]"
      ]
     },
     "metadata": {},
     "output_type": "display_data"
    },
    {
     "name": "stdout",
     "output_type": "stream",
     "text": [
      ">>> Consumer Goods - Utilities\n",
      "Length another_stocks: 7\n",
      "Length triplets two sectors: 35\n"
     ]
    },
    {
     "data": {
      "application/vnd.jupyter.widget-view+json": {
       "model_id": "3291ab2a47824f93ade55f986d5923d2",
       "version_major": 2,
       "version_minor": 0
      },
      "text/plain": [
       "  0%|          | 0/35 [00:00<?, ?it/s]"
      ]
     },
     "metadata": {},
     "output_type": "display_data"
    },
    {
     "name": "stdout",
     "output_type": "stream",
     "text": [
      ">>> Consumer Goods - Oil & Gas\n",
      "Length another_stocks: 7\n",
      "Length triplets two sectors: 35\n"
     ]
    },
    {
     "data": {
      "application/vnd.jupyter.widget-view+json": {
       "model_id": "b19af306541f4addaaf0f0c44a7d1673",
       "version_major": 2,
       "version_minor": 0
      },
      "text/plain": [
       "  0%|          | 0/35 [00:00<?, ?it/s]"
      ]
     },
     "metadata": {},
     "output_type": "display_data"
    },
    {
     "name": "stdout",
     "output_type": "stream",
     "text": [
      ">>> Industrials\n",
      "Length target_stocks: 20\n",
      "Length triplets same sector: 35\n"
     ]
    },
    {
     "data": {
      "application/vnd.jupyter.widget-view+json": {
       "model_id": "8ed51b4be166438aa261416fc6e6c642",
       "version_major": 2,
       "version_minor": 0
      },
      "text/plain": [
       "  0%|          | 0/35 [00:00<?, ?it/s]"
      ]
     },
     "metadata": {},
     "output_type": "display_data"
    },
    {
     "name": "stdout",
     "output_type": "stream",
     "text": [
      ">>> Industrials - Basic Materials\n",
      "Length another_stocks: 8\n",
      "Length triplets two sectors: 35\n"
     ]
    },
    {
     "data": {
      "application/vnd.jupyter.widget-view+json": {
       "model_id": "6b70a5fca6a74ff3b3458fe4e75df00c",
       "version_major": 2,
       "version_minor": 0
      },
      "text/plain": [
       "  0%|          | 0/35 [00:00<?, ?it/s]"
      ]
     },
     "metadata": {},
     "output_type": "display_data"
    },
    {
     "name": "stdout",
     "output_type": "stream",
     "text": [
      ">>> Industrials - Financials\n",
      "Length another_stocks: 38\n",
      "Length triplets two sectors: 35\n"
     ]
    },
    {
     "data": {
      "application/vnd.jupyter.widget-view+json": {
       "model_id": "f0647fd9b82b4ed99d2015553e940ae9",
       "version_major": 2,
       "version_minor": 0
      },
      "text/plain": [
       "  0%|          | 0/35 [00:00<?, ?it/s]"
      ]
     },
     "metadata": {},
     "output_type": "display_data"
    },
    {
     "name": "stdout",
     "output_type": "stream",
     "text": [
      ">>> Industrials - Consumer Services\n",
      "Length another_stocks: 17\n",
      "Length triplets two sectors: 35\n"
     ]
    },
    {
     "data": {
      "application/vnd.jupyter.widget-view+json": {
       "model_id": "a616207f4a5c4aa0ad732429466eb743",
       "version_major": 2,
       "version_minor": 0
      },
      "text/plain": [
       "  0%|          | 0/35 [00:00<?, ?it/s]"
      ]
     },
     "metadata": {},
     "output_type": "display_data"
    },
    {
     "name": "stdout",
     "output_type": "stream",
     "text": [
      ">>> Industrials - Health Care\n",
      "Length another_stocks: 10\n",
      "Length triplets two sectors: 35\n"
     ]
    },
    {
     "data": {
      "application/vnd.jupyter.widget-view+json": {
       "model_id": "fbeb8771f95f41108260ad490626ed37",
       "version_major": 2,
       "version_minor": 0
      },
      "text/plain": [
       "  0%|          | 0/35 [00:00<?, ?it/s]"
      ]
     },
     "metadata": {},
     "output_type": "display_data"
    },
    {
     "name": "stdout",
     "output_type": "stream",
     "text": [
      ">>> Industrials - Utilities\n",
      "Length another_stocks: 7\n",
      "Length triplets two sectors: 35\n"
     ]
    },
    {
     "data": {
      "application/vnd.jupyter.widget-view+json": {
       "model_id": "62124c3c891448b88f8ffc39e9917b4e",
       "version_major": 2,
       "version_minor": 0
      },
      "text/plain": [
       "  0%|          | 0/35 [00:00<?, ?it/s]"
      ]
     },
     "metadata": {},
     "output_type": "display_data"
    },
    {
     "name": "stdout",
     "output_type": "stream",
     "text": [
      ">>> Industrials - Oil & Gas\n",
      "Length another_stocks: 7\n",
      "Length triplets two sectors: 35\n"
     ]
    },
    {
     "data": {
      "application/vnd.jupyter.widget-view+json": {
       "model_id": "3b9cb1fb98694b58bc5984e724573524",
       "version_major": 2,
       "version_minor": 0
      },
      "text/plain": [
       "  0%|          | 0/35 [00:00<?, ?it/s]"
      ]
     },
     "metadata": {},
     "output_type": "display_data"
    },
    {
     "name": "stdout",
     "output_type": "stream",
     "text": [
      ">>> Industrials - Consumer Goods\n",
      "Length another_stocks: 8\n",
      "Length triplets two sectors: 35\n"
     ]
    },
    {
     "data": {
      "application/vnd.jupyter.widget-view+json": {
       "model_id": "06455c8f3b4941e68a7606a02e703ae5",
       "version_major": 2,
       "version_minor": 0
      },
      "text/plain": [
       "  0%|          | 0/35 [00:00<?, ?it/s]"
      ]
     },
     "metadata": {},
     "output_type": "display_data"
    },
    {
     "name": "stdout",
     "output_type": "stream",
     "text": [
      ">>> Basic Materials\n",
      "Length target_stocks: 8\n",
      "Length triplets same sector: 35\n"
     ]
    },
    {
     "data": {
      "application/vnd.jupyter.widget-view+json": {
       "model_id": "df096099591c495aa1c99bf3f02e90be",
       "version_major": 2,
       "version_minor": 0
      },
      "text/plain": [
       "  0%|          | 0/35 [00:00<?, ?it/s]"
      ]
     },
     "metadata": {},
     "output_type": "display_data"
    },
    {
     "name": "stdout",
     "output_type": "stream",
     "text": [
      ">>> Basic Materials - Industrials\n",
      "Length another_stocks: 20\n",
      "Length triplets two sectors: 35\n"
     ]
    },
    {
     "data": {
      "application/vnd.jupyter.widget-view+json": {
       "model_id": "c1279ed36ab54038ab05044991f72ad9",
       "version_major": 2,
       "version_minor": 0
      },
      "text/plain": [
       "  0%|          | 0/35 [00:00<?, ?it/s]"
      ]
     },
     "metadata": {},
     "output_type": "display_data"
    },
    {
     "name": "stdout",
     "output_type": "stream",
     "text": [
      ">>> Basic Materials - Financials\n",
      "Length another_stocks: 38\n",
      "Length triplets two sectors: 35\n"
     ]
    },
    {
     "data": {
      "application/vnd.jupyter.widget-view+json": {
       "model_id": "ed492a323b7346d9b02ce8ab729ead33",
       "version_major": 2,
       "version_minor": 0
      },
      "text/plain": [
       "  0%|          | 0/35 [00:00<?, ?it/s]"
      ]
     },
     "metadata": {},
     "output_type": "display_data"
    },
    {
     "name": "stdout",
     "output_type": "stream",
     "text": [
      ">>> Basic Materials - Consumer Services\n",
      "Length another_stocks: 17\n",
      "Length triplets two sectors: 35\n"
     ]
    },
    {
     "data": {
      "application/vnd.jupyter.widget-view+json": {
       "model_id": "f9d24475b8b84a4ab64e4c5c42f130d4",
       "version_major": 2,
       "version_minor": 0
      },
      "text/plain": [
       "  0%|          | 0/35 [00:00<?, ?it/s]"
      ]
     },
     "metadata": {},
     "output_type": "display_data"
    },
    {
     "name": "stdout",
     "output_type": "stream",
     "text": [
      ">>> Basic Materials - Health Care\n",
      "Length another_stocks: 10\n",
      "Length triplets two sectors: 35\n"
     ]
    },
    {
     "data": {
      "application/vnd.jupyter.widget-view+json": {
       "model_id": "bbc44af2f09b4e41aa8659aa1083e465",
       "version_major": 2,
       "version_minor": 0
      },
      "text/plain": [
       "  0%|          | 0/35 [00:00<?, ?it/s]"
      ]
     },
     "metadata": {},
     "output_type": "display_data"
    },
    {
     "name": "stdout",
     "output_type": "stream",
     "text": [
      ">>> Basic Materials - Utilities\n",
      "Length another_stocks: 7\n",
      "Length triplets two sectors: 35\n"
     ]
    },
    {
     "data": {
      "application/vnd.jupyter.widget-view+json": {
       "model_id": "a296d221c2554ba68fb58db269d6ff5f",
       "version_major": 2,
       "version_minor": 0
      },
      "text/plain": [
       "  0%|          | 0/35 [00:00<?, ?it/s]"
      ]
     },
     "metadata": {},
     "output_type": "display_data"
    },
    {
     "name": "stdout",
     "output_type": "stream",
     "text": [
      ">>> Basic Materials - Oil & Gas\n",
      "Length another_stocks: 7\n",
      "Length triplets two sectors: 35\n"
     ]
    },
    {
     "data": {
      "application/vnd.jupyter.widget-view+json": {
       "model_id": "6a601b56d9fb4f48a829767321681215",
       "version_major": 2,
       "version_minor": 0
      },
      "text/plain": [
       "  0%|          | 0/35 [00:00<?, ?it/s]"
      ]
     },
     "metadata": {},
     "output_type": "display_data"
    },
    {
     "name": "stdout",
     "output_type": "stream",
     "text": [
      ">>> Basic Materials - Consumer Goods\n",
      "Length another_stocks: 8\n",
      "Length triplets two sectors: 35\n"
     ]
    },
    {
     "data": {
      "application/vnd.jupyter.widget-view+json": {
       "model_id": "a3ecc293240c480984df819bebb434ad",
       "version_major": 2,
       "version_minor": 0
      },
      "text/plain": [
       "  0%|          | 0/35 [00:00<?, ?it/s]"
      ]
     },
     "metadata": {},
     "output_type": "display_data"
    },
    {
     "name": "stdout",
     "output_type": "stream",
     "text": [
      ">>> Financials\n",
      "Length target_stocks: 38\n",
      "Length triplets same sector: 35\n"
     ]
    },
    {
     "data": {
      "application/vnd.jupyter.widget-view+json": {
       "model_id": "7bc20072e07d44a89f4b172835f63a4b",
       "version_major": 2,
       "version_minor": 0
      },
      "text/plain": [
       "  0%|          | 0/35 [00:00<?, ?it/s]"
      ]
     },
     "metadata": {},
     "output_type": "display_data"
    },
    {
     "name": "stdout",
     "output_type": "stream",
     "text": [
      ">>> Financials - Industrials\n",
      "Length another_stocks: 20\n",
      "Length triplets two sectors: 35\n"
     ]
    },
    {
     "data": {
      "application/vnd.jupyter.widget-view+json": {
       "model_id": "8b8b348c75fb4641abc8ed92abd7f59c",
       "version_major": 2,
       "version_minor": 0
      },
      "text/plain": [
       "  0%|          | 0/35 [00:00<?, ?it/s]"
      ]
     },
     "metadata": {},
     "output_type": "display_data"
    },
    {
     "name": "stdout",
     "output_type": "stream",
     "text": [
      ">>> Financials - Basic Materials\n",
      "Length another_stocks: 8\n",
      "Length triplets two sectors: 35\n"
     ]
    },
    {
     "data": {
      "application/vnd.jupyter.widget-view+json": {
       "model_id": "e5d9ce514d0a433ca332fae354e8394b",
       "version_major": 2,
       "version_minor": 0
      },
      "text/plain": [
       "  0%|          | 0/35 [00:00<?, ?it/s]"
      ]
     },
     "metadata": {},
     "output_type": "display_data"
    },
    {
     "name": "stdout",
     "output_type": "stream",
     "text": [
      ">>> Financials - Consumer Services\n",
      "Length another_stocks: 17\n",
      "Length triplets two sectors: 35\n"
     ]
    },
    {
     "data": {
      "application/vnd.jupyter.widget-view+json": {
       "model_id": "7112788c091c41f3a84f4948136ffa10",
       "version_major": 2,
       "version_minor": 0
      },
      "text/plain": [
       "  0%|          | 0/35 [00:00<?, ?it/s]"
      ]
     },
     "metadata": {},
     "output_type": "display_data"
    },
    {
     "name": "stdout",
     "output_type": "stream",
     "text": [
      ">>> Financials - Health Care\n",
      "Length another_stocks: 10\n",
      "Length triplets two sectors: 35\n"
     ]
    },
    {
     "data": {
      "application/vnd.jupyter.widget-view+json": {
       "model_id": "ecf380283d594d11a47662db1def64a6",
       "version_major": 2,
       "version_minor": 0
      },
      "text/plain": [
       "  0%|          | 0/35 [00:00<?, ?it/s]"
      ]
     },
     "metadata": {},
     "output_type": "display_data"
    },
    {
     "name": "stdout",
     "output_type": "stream",
     "text": [
      ">>> Financials - Utilities\n",
      "Length another_stocks: 7\n",
      "Length triplets two sectors: 35\n"
     ]
    },
    {
     "data": {
      "application/vnd.jupyter.widget-view+json": {
       "model_id": "3c18416e49874976891b464fd0dedc8b",
       "version_major": 2,
       "version_minor": 0
      },
      "text/plain": [
       "  0%|          | 0/35 [00:00<?, ?it/s]"
      ]
     },
     "metadata": {},
     "output_type": "display_data"
    },
    {
     "name": "stdout",
     "output_type": "stream",
     "text": [
      ">>> Financials - Oil & Gas\n",
      "Length another_stocks: 7\n",
      "Length triplets two sectors: 35\n"
     ]
    },
    {
     "data": {
      "application/vnd.jupyter.widget-view+json": {
       "model_id": "cc5fe1eb477349c196d505e3f61d357b",
       "version_major": 2,
       "version_minor": 0
      },
      "text/plain": [
       "  0%|          | 0/35 [00:00<?, ?it/s]"
      ]
     },
     "metadata": {},
     "output_type": "display_data"
    },
    {
     "name": "stdout",
     "output_type": "stream",
     "text": [
      ">>> Financials - Consumer Goods\n",
      "Length another_stocks: 8\n",
      "Length triplets two sectors: 35\n"
     ]
    },
    {
     "data": {
      "application/vnd.jupyter.widget-view+json": {
       "model_id": "e2645704dc8c4b93bedafb75484620b7",
       "version_major": 2,
       "version_minor": 0
      },
      "text/plain": [
       "  0%|          | 0/35 [00:00<?, ?it/s]"
      ]
     },
     "metadata": {},
     "output_type": "display_data"
    },
    {
     "name": "stdout",
     "output_type": "stream",
     "text": [
      ">>> Consumer Services\n",
      "Length target_stocks: 17\n",
      "Length triplets same sector: 35\n"
     ]
    },
    {
     "data": {
      "application/vnd.jupyter.widget-view+json": {
       "model_id": "fe1ef1df36d64945a8213c8a9097b508",
       "version_major": 2,
       "version_minor": 0
      },
      "text/plain": [
       "  0%|          | 0/35 [00:00<?, ?it/s]"
      ]
     },
     "metadata": {},
     "output_type": "display_data"
    },
    {
     "name": "stdout",
     "output_type": "stream",
     "text": [
      ">>> Consumer Services - Industrials\n",
      "Length another_stocks: 20\n",
      "Length triplets two sectors: 35\n"
     ]
    },
    {
     "data": {
      "application/vnd.jupyter.widget-view+json": {
       "model_id": "0ea93f44e4434ee9a82a8c92f326fc1f",
       "version_major": 2,
       "version_minor": 0
      },
      "text/plain": [
       "  0%|          | 0/35 [00:00<?, ?it/s]"
      ]
     },
     "metadata": {},
     "output_type": "display_data"
    },
    {
     "name": "stdout",
     "output_type": "stream",
     "text": [
      ">>> Consumer Services - Basic Materials\n",
      "Length another_stocks: 8\n",
      "Length triplets two sectors: 35\n"
     ]
    },
    {
     "data": {
      "application/vnd.jupyter.widget-view+json": {
       "model_id": "d8f3a2c9fd884082bec1b8f2c7d2273c",
       "version_major": 2,
       "version_minor": 0
      },
      "text/plain": [
       "  0%|          | 0/35 [00:00<?, ?it/s]"
      ]
     },
     "metadata": {},
     "output_type": "display_data"
    },
    {
     "name": "stdout",
     "output_type": "stream",
     "text": [
      ">>> Consumer Services - Financials\n",
      "Length another_stocks: 38\n",
      "Length triplets two sectors: 35\n"
     ]
    },
    {
     "data": {
      "application/vnd.jupyter.widget-view+json": {
       "model_id": "0f8146f6407246d0864d05b80a69fd3a",
       "version_major": 2,
       "version_minor": 0
      },
      "text/plain": [
       "  0%|          | 0/35 [00:00<?, ?it/s]"
      ]
     },
     "metadata": {},
     "output_type": "display_data"
    },
    {
     "name": "stdout",
     "output_type": "stream",
     "text": [
      ">>> Consumer Services - Health Care\n",
      "Length another_stocks: 10\n",
      "Length triplets two sectors: 35\n"
     ]
    },
    {
     "data": {
      "application/vnd.jupyter.widget-view+json": {
       "model_id": "1f6a69595edd45e397f60fe948bd5f07",
       "version_major": 2,
       "version_minor": 0
      },
      "text/plain": [
       "  0%|          | 0/35 [00:00<?, ?it/s]"
      ]
     },
     "metadata": {},
     "output_type": "display_data"
    },
    {
     "name": "stdout",
     "output_type": "stream",
     "text": [
      ">>> Consumer Services - Utilities\n",
      "Length another_stocks: 7\n",
      "Length triplets two sectors: 35\n"
     ]
    },
    {
     "data": {
      "application/vnd.jupyter.widget-view+json": {
       "model_id": "9ae09d2a49be462bb261522f184aee42",
       "version_major": 2,
       "version_minor": 0
      },
      "text/plain": [
       "  0%|          | 0/35 [00:00<?, ?it/s]"
      ]
     },
     "metadata": {},
     "output_type": "display_data"
    },
    {
     "name": "stdout",
     "output_type": "stream",
     "text": [
      ">>> Consumer Services - Oil & Gas\n",
      "Length another_stocks: 7\n",
      "Length triplets two sectors: 35\n"
     ]
    },
    {
     "data": {
      "application/vnd.jupyter.widget-view+json": {
       "model_id": "dc69e59afca248f5831acfb2816bf733",
       "version_major": 2,
       "version_minor": 0
      },
      "text/plain": [
       "  0%|          | 0/35 [00:00<?, ?it/s]"
      ]
     },
     "metadata": {},
     "output_type": "display_data"
    },
    {
     "name": "stdout",
     "output_type": "stream",
     "text": [
      ">>> Consumer Services - Consumer Goods\n",
      "Length another_stocks: 8\n",
      "Length triplets two sectors: 35\n"
     ]
    },
    {
     "data": {
      "application/vnd.jupyter.widget-view+json": {
       "model_id": "f73047ecfada49988f747a0d275b185b",
       "version_major": 2,
       "version_minor": 0
      },
      "text/plain": [
       "  0%|          | 0/35 [00:00<?, ?it/s]"
      ]
     },
     "metadata": {},
     "output_type": "display_data"
    },
    {
     "name": "stdout",
     "output_type": "stream",
     "text": [
      ">>> Health Care\n",
      "Length target_stocks: 10\n",
      "Length triplets same sector: 35\n"
     ]
    },
    {
     "data": {
      "application/vnd.jupyter.widget-view+json": {
       "model_id": "97cb3033a0b74a509376d31f197e5d74",
       "version_major": 2,
       "version_minor": 0
      },
      "text/plain": [
       "  0%|          | 0/35 [00:00<?, ?it/s]"
      ]
     },
     "metadata": {},
     "output_type": "display_data"
    },
    {
     "name": "stdout",
     "output_type": "stream",
     "text": [
      ">>> Health Care - Industrials\n",
      "Length another_stocks: 20\n",
      "Length triplets two sectors: 35\n"
     ]
    },
    {
     "data": {
      "application/vnd.jupyter.widget-view+json": {
       "model_id": "01bb3368ae0c4a4682b3c9d226debc77",
       "version_major": 2,
       "version_minor": 0
      },
      "text/plain": [
       "  0%|          | 0/35 [00:00<?, ?it/s]"
      ]
     },
     "metadata": {},
     "output_type": "display_data"
    },
    {
     "name": "stdout",
     "output_type": "stream",
     "text": [
      ">>> Health Care - Basic Materials\n",
      "Length another_stocks: 8\n",
      "Length triplets two sectors: 35\n"
     ]
    },
    {
     "data": {
      "application/vnd.jupyter.widget-view+json": {
       "model_id": "02912369d2684c00973dee2bb610cab6",
       "version_major": 2,
       "version_minor": 0
      },
      "text/plain": [
       "  0%|          | 0/35 [00:00<?, ?it/s]"
      ]
     },
     "metadata": {},
     "output_type": "display_data"
    },
    {
     "name": "stdout",
     "output_type": "stream",
     "text": [
      ">>> Health Care - Financials\n",
      "Length another_stocks: 38\n",
      "Length triplets two sectors: 35\n"
     ]
    },
    {
     "data": {
      "application/vnd.jupyter.widget-view+json": {
       "model_id": "4b0c24da1fa34fbe8b7e7edf7c669654",
       "version_major": 2,
       "version_minor": 0
      },
      "text/plain": [
       "  0%|          | 0/35 [00:00<?, ?it/s]"
      ]
     },
     "metadata": {},
     "output_type": "display_data"
    },
    {
     "name": "stdout",
     "output_type": "stream",
     "text": [
      ">>> Health Care - Consumer Services\n",
      "Length another_stocks: 17\n",
      "Length triplets two sectors: 35\n"
     ]
    },
    {
     "data": {
      "application/vnd.jupyter.widget-view+json": {
       "model_id": "e68971966144453b85241a6cbf8e0986",
       "version_major": 2,
       "version_minor": 0
      },
      "text/plain": [
       "  0%|          | 0/35 [00:00<?, ?it/s]"
      ]
     },
     "metadata": {},
     "output_type": "display_data"
    },
    {
     "name": "stdout",
     "output_type": "stream",
     "text": [
      ">>> Health Care - Utilities\n",
      "Length another_stocks: 7\n",
      "Length triplets two sectors: 35\n"
     ]
    },
    {
     "data": {
      "application/vnd.jupyter.widget-view+json": {
       "model_id": "0517df652a6148d1b0cd07f078eba0e2",
       "version_major": 2,
       "version_minor": 0
      },
      "text/plain": [
       "  0%|          | 0/35 [00:00<?, ?it/s]"
      ]
     },
     "metadata": {},
     "output_type": "display_data"
    },
    {
     "name": "stdout",
     "output_type": "stream",
     "text": [
      ">>> Health Care - Oil & Gas\n",
      "Length another_stocks: 7\n",
      "Length triplets two sectors: 35\n"
     ]
    },
    {
     "data": {
      "application/vnd.jupyter.widget-view+json": {
       "model_id": "3e158360ef4a4e818d5bf5fad0a124d0",
       "version_major": 2,
       "version_minor": 0
      },
      "text/plain": [
       "  0%|          | 0/35 [00:00<?, ?it/s]"
      ]
     },
     "metadata": {},
     "output_type": "display_data"
    },
    {
     "name": "stdout",
     "output_type": "stream",
     "text": [
      ">>> Health Care - Consumer Goods\n",
      "Length another_stocks: 8\n",
      "Length triplets two sectors: 35\n"
     ]
    },
    {
     "data": {
      "application/vnd.jupyter.widget-view+json": {
       "model_id": "34e5d66feabb4561ad47d364d9a8d2d2",
       "version_major": 2,
       "version_minor": 0
      },
      "text/plain": [
       "  0%|          | 0/35 [00:00<?, ?it/s]"
      ]
     },
     "metadata": {},
     "output_type": "display_data"
    },
    {
     "name": "stdout",
     "output_type": "stream",
     "text": [
      ">>> Utilities\n",
      "Length target_stocks: 7\n",
      "Length triplets same sector: 35\n"
     ]
    },
    {
     "data": {
      "application/vnd.jupyter.widget-view+json": {
       "model_id": "fc8c65c28fc64d2a8ff038d926545480",
       "version_major": 2,
       "version_minor": 0
      },
      "text/plain": [
       "  0%|          | 0/35 [00:00<?, ?it/s]"
      ]
     },
     "metadata": {},
     "output_type": "display_data"
    },
    {
     "name": "stdout",
     "output_type": "stream",
     "text": [
      ">>> Utilities - Industrials\n",
      "Length another_stocks: 20\n",
      "Length triplets two sectors: 35\n"
     ]
    },
    {
     "data": {
      "application/vnd.jupyter.widget-view+json": {
       "model_id": "8807417d0dec4ee59fa9307db5128db9",
       "version_major": 2,
       "version_minor": 0
      },
      "text/plain": [
       "  0%|          | 0/35 [00:00<?, ?it/s]"
      ]
     },
     "metadata": {},
     "output_type": "display_data"
    },
    {
     "name": "stdout",
     "output_type": "stream",
     "text": [
      ">>> Utilities - Basic Materials\n",
      "Length another_stocks: 8\n",
      "Length triplets two sectors: 35\n"
     ]
    },
    {
     "data": {
      "application/vnd.jupyter.widget-view+json": {
       "model_id": "61914dec8ece4f7da7224df2fe3bbd79",
       "version_major": 2,
       "version_minor": 0
      },
      "text/plain": [
       "  0%|          | 0/35 [00:00<?, ?it/s]"
      ]
     },
     "metadata": {},
     "output_type": "display_data"
    },
    {
     "name": "stdout",
     "output_type": "stream",
     "text": [
      ">>> Utilities - Financials\n",
      "Length another_stocks: 38\n",
      "Length triplets two sectors: 35\n"
     ]
    },
    {
     "data": {
      "application/vnd.jupyter.widget-view+json": {
       "model_id": "8ed0456eb6e74381a0ae03409ba19454",
       "version_major": 2,
       "version_minor": 0
      },
      "text/plain": [
       "  0%|          | 0/35 [00:00<?, ?it/s]"
      ]
     },
     "metadata": {},
     "output_type": "display_data"
    },
    {
     "name": "stdout",
     "output_type": "stream",
     "text": [
      ">>> Utilities - Consumer Services\n",
      "Length another_stocks: 17\n",
      "Length triplets two sectors: 35\n"
     ]
    },
    {
     "data": {
      "application/vnd.jupyter.widget-view+json": {
       "model_id": "0026862e0c5f4d8a851e4bb5c76738ef",
       "version_major": 2,
       "version_minor": 0
      },
      "text/plain": [
       "  0%|          | 0/35 [00:00<?, ?it/s]"
      ]
     },
     "metadata": {},
     "output_type": "display_data"
    },
    {
     "name": "stdout",
     "output_type": "stream",
     "text": [
      ">>> Utilities - Health Care\n",
      "Length another_stocks: 10\n",
      "Length triplets two sectors: 35\n"
     ]
    },
    {
     "data": {
      "application/vnd.jupyter.widget-view+json": {
       "model_id": "0f06966677bf4da9b3b2710e2cf168df",
       "version_major": 2,
       "version_minor": 0
      },
      "text/plain": [
       "  0%|          | 0/35 [00:00<?, ?it/s]"
      ]
     },
     "metadata": {},
     "output_type": "display_data"
    },
    {
     "name": "stdout",
     "output_type": "stream",
     "text": [
      ">>> Utilities - Oil & Gas\n",
      "Length another_stocks: 7\n",
      "Length triplets two sectors: 35\n"
     ]
    },
    {
     "data": {
      "application/vnd.jupyter.widget-view+json": {
       "model_id": "ecbc21829de44e27a9176df40355af50",
       "version_major": 2,
       "version_minor": 0
      },
      "text/plain": [
       "  0%|          | 0/35 [00:00<?, ?it/s]"
      ]
     },
     "metadata": {},
     "output_type": "display_data"
    },
    {
     "name": "stdout",
     "output_type": "stream",
     "text": [
      ">>> Utilities - Consumer Goods\n",
      "Length another_stocks: 8\n",
      "Length triplets two sectors: 35\n"
     ]
    },
    {
     "data": {
      "application/vnd.jupyter.widget-view+json": {
       "model_id": "20a6324e11a54c449360b0229264bf27",
       "version_major": 2,
       "version_minor": 0
      },
      "text/plain": [
       "  0%|          | 0/35 [00:00<?, ?it/s]"
      ]
     },
     "metadata": {},
     "output_type": "display_data"
    },
    {
     "name": "stdout",
     "output_type": "stream",
     "text": [
      ">>> Oil & Gas\n",
      "Length target_stocks: 7\n",
      "Length triplets same sector: 35\n"
     ]
    },
    {
     "data": {
      "application/vnd.jupyter.widget-view+json": {
       "model_id": "fdb996db47e44c2eb32aa52916c547de",
       "version_major": 2,
       "version_minor": 0
      },
      "text/plain": [
       "  0%|          | 0/35 [00:00<?, ?it/s]"
      ]
     },
     "metadata": {},
     "output_type": "display_data"
    },
    {
     "name": "stdout",
     "output_type": "stream",
     "text": [
      ">>> Oil & Gas - Industrials\n",
      "Length another_stocks: 20\n",
      "Length triplets two sectors: 35\n"
     ]
    },
    {
     "data": {
      "application/vnd.jupyter.widget-view+json": {
       "model_id": "ae8f056ff6764df6bd87424129cdf2d6",
       "version_major": 2,
       "version_minor": 0
      },
      "text/plain": [
       "  0%|          | 0/35 [00:00<?, ?it/s]"
      ]
     },
     "metadata": {},
     "output_type": "display_data"
    },
    {
     "name": "stdout",
     "output_type": "stream",
     "text": [
      ">>> Oil & Gas - Basic Materials\n",
      "Length another_stocks: 8\n",
      "Length triplets two sectors: 35\n"
     ]
    },
    {
     "data": {
      "application/vnd.jupyter.widget-view+json": {
       "model_id": "f1ee6175bd0d4f9d8ff7a5e7a43b4ecc",
       "version_major": 2,
       "version_minor": 0
      },
      "text/plain": [
       "  0%|          | 0/35 [00:00<?, ?it/s]"
      ]
     },
     "metadata": {},
     "output_type": "display_data"
    },
    {
     "name": "stdout",
     "output_type": "stream",
     "text": [
      ">>> Oil & Gas - Financials\n",
      "Length another_stocks: 38\n",
      "Length triplets two sectors: 35\n"
     ]
    },
    {
     "data": {
      "application/vnd.jupyter.widget-view+json": {
       "model_id": "dbbac9b16f8d4eca9b2c8b6ebc2449cc",
       "version_major": 2,
       "version_minor": 0
      },
      "text/plain": [
       "  0%|          | 0/35 [00:00<?, ?it/s]"
      ]
     },
     "metadata": {},
     "output_type": "display_data"
    },
    {
     "name": "stdout",
     "output_type": "stream",
     "text": [
      ">>> Oil & Gas - Consumer Services\n",
      "Length another_stocks: 17\n",
      "Length triplets two sectors: 35\n"
     ]
    },
    {
     "data": {
      "application/vnd.jupyter.widget-view+json": {
       "model_id": "332013e993714a6299a8d1fa9c5580c5",
       "version_major": 2,
       "version_minor": 0
      },
      "text/plain": [
       "  0%|          | 0/35 [00:00<?, ?it/s]"
      ]
     },
     "metadata": {},
     "output_type": "display_data"
    },
    {
     "name": "stdout",
     "output_type": "stream",
     "text": [
      ">>> Oil & Gas - Health Care\n",
      "Length another_stocks: 10\n",
      "Length triplets two sectors: 35\n"
     ]
    },
    {
     "data": {
      "application/vnd.jupyter.widget-view+json": {
       "model_id": "09948f60f02e4437aca402c6b731d6a8",
       "version_major": 2,
       "version_minor": 0
      },
      "text/plain": [
       "  0%|          | 0/35 [00:00<?, ?it/s]"
      ]
     },
     "metadata": {},
     "output_type": "display_data"
    },
    {
     "name": "stdout",
     "output_type": "stream",
     "text": [
      ">>> Oil & Gas - Utilities\n",
      "Length another_stocks: 7\n",
      "Length triplets two sectors: 35\n"
     ]
    },
    {
     "data": {
      "application/vnd.jupyter.widget-view+json": {
       "model_id": "668db1bb152b4f7a98e6baf5151a4a28",
       "version_major": 2,
       "version_minor": 0
      },
      "text/plain": [
       "  0%|          | 0/35 [00:00<?, ?it/s]"
      ]
     },
     "metadata": {},
     "output_type": "display_data"
    },
    {
     "name": "stdout",
     "output_type": "stream",
     "text": [
      ">>> Oil & Gas - Consumer Goods\n",
      "Length another_stocks: 8\n",
      "Length triplets two sectors: 35\n"
     ]
    },
    {
     "data": {
      "application/vnd.jupyter.widget-view+json": {
       "model_id": "81de7ed14ae64884ac370e6599e5ae24",
       "version_major": 2,
       "version_minor": 0
      },
      "text/plain": [
       "  0%|          | 0/35 [00:00<?, ?it/s]"
      ]
     },
     "metadata": {},
     "output_type": "display_data"
    },
    {
     "name": "stdout",
     "output_type": "stream",
     "text": [
      ">>> Consumer Goods\n",
      "Length target_stocks: 8\n",
      "Length triplets same sector: 35\n"
     ]
    },
    {
     "data": {
      "application/vnd.jupyter.widget-view+json": {
       "model_id": "74c989dbf873430dad91e8b05930fc04",
       "version_major": 2,
       "version_minor": 0
      },
      "text/plain": [
       "  0%|          | 0/35 [00:00<?, ?it/s]"
      ]
     },
     "metadata": {},
     "output_type": "display_data"
    },
    {
     "name": "stdout",
     "output_type": "stream",
     "text": [
      ">>> Consumer Goods - Industrials\n",
      "Length another_stocks: 20\n",
      "Length triplets two sectors: 35\n"
     ]
    },
    {
     "data": {
      "application/vnd.jupyter.widget-view+json": {
       "model_id": "87d54e1d6e554dc9979651e60774a5ba",
       "version_major": 2,
       "version_minor": 0
      },
      "text/plain": [
       "  0%|          | 0/35 [00:00<?, ?it/s]"
      ]
     },
     "metadata": {},
     "output_type": "display_data"
    },
    {
     "name": "stdout",
     "output_type": "stream",
     "text": [
      ">>> Consumer Goods - Basic Materials\n",
      "Length another_stocks: 8\n",
      "Length triplets two sectors: 35\n"
     ]
    },
    {
     "data": {
      "application/vnd.jupyter.widget-view+json": {
       "model_id": "18585ebce018461c85875722766d796b",
       "version_major": 2,
       "version_minor": 0
      },
      "text/plain": [
       "  0%|          | 0/35 [00:00<?, ?it/s]"
      ]
     },
     "metadata": {},
     "output_type": "display_data"
    },
    {
     "name": "stdout",
     "output_type": "stream",
     "text": [
      ">>> Consumer Goods - Financials\n",
      "Length another_stocks: 38\n",
      "Length triplets two sectors: 35\n"
     ]
    },
    {
     "data": {
      "application/vnd.jupyter.widget-view+json": {
       "model_id": "8b4ac96531a94256a7b9d6e440d74a5b",
       "version_major": 2,
       "version_minor": 0
      },
      "text/plain": [
       "  0%|          | 0/35 [00:00<?, ?it/s]"
      ]
     },
     "metadata": {},
     "output_type": "display_data"
    },
    {
     "name": "stdout",
     "output_type": "stream",
     "text": [
      ">>> Consumer Goods - Consumer Services\n",
      "Length another_stocks: 17\n",
      "Length triplets two sectors: 35\n"
     ]
    },
    {
     "data": {
      "application/vnd.jupyter.widget-view+json": {
       "model_id": "7a02f1aadede4fae8b741e1440e5fa2f",
       "version_major": 2,
       "version_minor": 0
      },
      "text/plain": [
       "  0%|          | 0/35 [00:00<?, ?it/s]"
      ]
     },
     "metadata": {},
     "output_type": "display_data"
    },
    {
     "name": "stdout",
     "output_type": "stream",
     "text": [
      ">>> Consumer Goods - Health Care\n",
      "Length another_stocks: 10\n",
      "Length triplets two sectors: 35\n"
     ]
    },
    {
     "data": {
      "application/vnd.jupyter.widget-view+json": {
       "model_id": "ed0747e311ed47a6898b01dff8c7835e",
       "version_major": 2,
       "version_minor": 0
      },
      "text/plain": [
       "  0%|          | 0/35 [00:00<?, ?it/s]"
      ]
     },
     "metadata": {},
     "output_type": "display_data"
    },
    {
     "name": "stdout",
     "output_type": "stream",
     "text": [
      ">>> Consumer Goods - Utilities\n",
      "Length another_stocks: 7\n",
      "Length triplets two sectors: 35\n"
     ]
    },
    {
     "data": {
      "application/vnd.jupyter.widget-view+json": {
       "model_id": "55d8e5c31bf642f2bcb6b7f6ccc4c4b4",
       "version_major": 2,
       "version_minor": 0
      },
      "text/plain": [
       "  0%|          | 0/35 [00:00<?, ?it/s]"
      ]
     },
     "metadata": {},
     "output_type": "display_data"
    },
    {
     "name": "stdout",
     "output_type": "stream",
     "text": [
      ">>> Consumer Goods - Oil & Gas\n",
      "Length another_stocks: 7\n",
      "Length triplets two sectors: 35\n"
     ]
    },
    {
     "data": {
      "application/vnd.jupyter.widget-view+json": {
       "model_id": "6e281bed5dff4540a28b2fa88fcb8a2e",
       "version_major": 2,
       "version_minor": 0
      },
      "text/plain": [
       "  0%|          | 0/35 [00:00<?, ?it/s]"
      ]
     },
     "metadata": {},
     "output_type": "display_data"
    },
    {
     "name": "stdout",
     "output_type": "stream",
     "text": [
      ">>> Industrials\n",
      "Length target_stocks: 20\n",
      "Length triplets same sector: 35\n"
     ]
    },
    {
     "data": {
      "application/vnd.jupyter.widget-view+json": {
       "model_id": "f58f758baded460290e215fa2036a536",
       "version_major": 2,
       "version_minor": 0
      },
      "text/plain": [
       "  0%|          | 0/35 [00:00<?, ?it/s]"
      ]
     },
     "metadata": {},
     "output_type": "display_data"
    },
    {
     "name": "stdout",
     "output_type": "stream",
     "text": [
      ">>> Industrials - Basic Materials\n",
      "Length another_stocks: 8\n",
      "Length triplets two sectors: 35\n"
     ]
    },
    {
     "data": {
      "application/vnd.jupyter.widget-view+json": {
       "model_id": "c98a753c49dc4c2d8f2dd834f8500a2d",
       "version_major": 2,
       "version_minor": 0
      },
      "text/plain": [
       "  0%|          | 0/35 [00:00<?, ?it/s]"
      ]
     },
     "metadata": {},
     "output_type": "display_data"
    },
    {
     "name": "stdout",
     "output_type": "stream",
     "text": [
      ">>> Industrials - Financials\n",
      "Length another_stocks: 38\n",
      "Length triplets two sectors: 35\n"
     ]
    },
    {
     "data": {
      "application/vnd.jupyter.widget-view+json": {
       "model_id": "4ba279d4db544935a96f942f7a087e4c",
       "version_major": 2,
       "version_minor": 0
      },
      "text/plain": [
       "  0%|          | 0/35 [00:00<?, ?it/s]"
      ]
     },
     "metadata": {},
     "output_type": "display_data"
    },
    {
     "name": "stdout",
     "output_type": "stream",
     "text": [
      ">>> Industrials - Consumer Services\n",
      "Length another_stocks: 17\n",
      "Length triplets two sectors: 35\n"
     ]
    },
    {
     "data": {
      "application/vnd.jupyter.widget-view+json": {
       "model_id": "36b5e0c539e4476985374c691806bd78",
       "version_major": 2,
       "version_minor": 0
      },
      "text/plain": [
       "  0%|          | 0/35 [00:00<?, ?it/s]"
      ]
     },
     "metadata": {},
     "output_type": "display_data"
    },
    {
     "name": "stdout",
     "output_type": "stream",
     "text": [
      ">>> Industrials - Health Care\n",
      "Length another_stocks: 10\n",
      "Length triplets two sectors: 35\n"
     ]
    },
    {
     "data": {
      "application/vnd.jupyter.widget-view+json": {
       "model_id": "423b490384614e3dad5918ecd9a6e1a2",
       "version_major": 2,
       "version_minor": 0
      },
      "text/plain": [
       "  0%|          | 0/35 [00:00<?, ?it/s]"
      ]
     },
     "metadata": {},
     "output_type": "display_data"
    },
    {
     "name": "stdout",
     "output_type": "stream",
     "text": [
      ">>> Industrials - Utilities\n",
      "Length another_stocks: 7\n",
      "Length triplets two sectors: 35\n"
     ]
    },
    {
     "data": {
      "application/vnd.jupyter.widget-view+json": {
       "model_id": "8d2a56634b7e4170822899217bf45008",
       "version_major": 2,
       "version_minor": 0
      },
      "text/plain": [
       "  0%|          | 0/35 [00:00<?, ?it/s]"
      ]
     },
     "metadata": {},
     "output_type": "display_data"
    },
    {
     "name": "stdout",
     "output_type": "stream",
     "text": [
      ">>> Industrials - Oil & Gas\n",
      "Length another_stocks: 7\n",
      "Length triplets two sectors: 35\n"
     ]
    },
    {
     "data": {
      "application/vnd.jupyter.widget-view+json": {
       "model_id": "30aae4b81072427bb1b813d13ccf1d4f",
       "version_major": 2,
       "version_minor": 0
      },
      "text/plain": [
       "  0%|          | 0/35 [00:00<?, ?it/s]"
      ]
     },
     "metadata": {},
     "output_type": "display_data"
    },
    {
     "name": "stdout",
     "output_type": "stream",
     "text": [
      ">>> Industrials - Consumer Goods\n",
      "Length another_stocks: 8\n",
      "Length triplets two sectors: 35\n"
     ]
    },
    {
     "data": {
      "application/vnd.jupyter.widget-view+json": {
       "model_id": "bd04eca5f79a45ab807bcad8b267913c",
       "version_major": 2,
       "version_minor": 0
      },
      "text/plain": [
       "  0%|          | 0/35 [00:00<?, ?it/s]"
      ]
     },
     "metadata": {},
     "output_type": "display_data"
    },
    {
     "name": "stdout",
     "output_type": "stream",
     "text": [
      ">>> Basic Materials\n",
      "Length target_stocks: 8\n",
      "Length triplets same sector: 35\n"
     ]
    },
    {
     "data": {
      "application/vnd.jupyter.widget-view+json": {
       "model_id": "a83b57c9a1e74e0a93a75e4dff4f23b1",
       "version_major": 2,
       "version_minor": 0
      },
      "text/plain": [
       "  0%|          | 0/35 [00:00<?, ?it/s]"
      ]
     },
     "metadata": {},
     "output_type": "display_data"
    },
    {
     "name": "stdout",
     "output_type": "stream",
     "text": [
      ">>> Basic Materials - Industrials\n",
      "Length another_stocks: 20\n",
      "Length triplets two sectors: 35\n"
     ]
    },
    {
     "data": {
      "application/vnd.jupyter.widget-view+json": {
       "model_id": "fa9e3742d73e48acb1f59ae3855e3835",
       "version_major": 2,
       "version_minor": 0
      },
      "text/plain": [
       "  0%|          | 0/35 [00:00<?, ?it/s]"
      ]
     },
     "metadata": {},
     "output_type": "display_data"
    },
    {
     "name": "stdout",
     "output_type": "stream",
     "text": [
      ">>> Basic Materials - Financials\n",
      "Length another_stocks: 38\n",
      "Length triplets two sectors: 35\n"
     ]
    },
    {
     "data": {
      "application/vnd.jupyter.widget-view+json": {
       "model_id": "7d46faf3d32041db96c695eae8ff3a6b",
       "version_major": 2,
       "version_minor": 0
      },
      "text/plain": [
       "  0%|          | 0/35 [00:00<?, ?it/s]"
      ]
     },
     "metadata": {},
     "output_type": "display_data"
    },
    {
     "name": "stdout",
     "output_type": "stream",
     "text": [
      ">>> Basic Materials - Consumer Services\n",
      "Length another_stocks: 17\n",
      "Length triplets two sectors: 35\n"
     ]
    },
    {
     "data": {
      "application/vnd.jupyter.widget-view+json": {
       "model_id": "12b0899cdf2c4155843d024649208c87",
       "version_major": 2,
       "version_minor": 0
      },
      "text/plain": [
       "  0%|          | 0/35 [00:00<?, ?it/s]"
      ]
     },
     "metadata": {},
     "output_type": "display_data"
    },
    {
     "name": "stdout",
     "output_type": "stream",
     "text": [
      ">>> Basic Materials - Health Care\n",
      "Length another_stocks: 10\n",
      "Length triplets two sectors: 35\n"
     ]
    },
    {
     "data": {
      "application/vnd.jupyter.widget-view+json": {
       "model_id": "da53521dbe2f4dec96a184b15dfa0b0f",
       "version_major": 2,
       "version_minor": 0
      },
      "text/plain": [
       "  0%|          | 0/35 [00:00<?, ?it/s]"
      ]
     },
     "metadata": {},
     "output_type": "display_data"
    },
    {
     "name": "stdout",
     "output_type": "stream",
     "text": [
      ">>> Basic Materials - Utilities\n",
      "Length another_stocks: 7\n",
      "Length triplets two sectors: 35\n"
     ]
    },
    {
     "data": {
      "application/vnd.jupyter.widget-view+json": {
       "model_id": "ca3e79df5e2e413880c895d515445468",
       "version_major": 2,
       "version_minor": 0
      },
      "text/plain": [
       "  0%|          | 0/35 [00:00<?, ?it/s]"
      ]
     },
     "metadata": {},
     "output_type": "display_data"
    },
    {
     "name": "stdout",
     "output_type": "stream",
     "text": [
      ">>> Basic Materials - Oil & Gas\n",
      "Length another_stocks: 7\n",
      "Length triplets two sectors: 35\n"
     ]
    },
    {
     "data": {
      "application/vnd.jupyter.widget-view+json": {
       "model_id": "2b5b8011e87d403a896b45e0a0f976c4",
       "version_major": 2,
       "version_minor": 0
      },
      "text/plain": [
       "  0%|          | 0/35 [00:00<?, ?it/s]"
      ]
     },
     "metadata": {},
     "output_type": "display_data"
    },
    {
     "name": "stdout",
     "output_type": "stream",
     "text": [
      ">>> Basic Materials - Consumer Goods\n",
      "Length another_stocks: 8\n",
      "Length triplets two sectors: 35\n"
     ]
    },
    {
     "data": {
      "application/vnd.jupyter.widget-view+json": {
       "model_id": "0b44b70bc4a7482baa9b2e9f775f70a2",
       "version_major": 2,
       "version_minor": 0
      },
      "text/plain": [
       "  0%|          | 0/35 [00:00<?, ?it/s]"
      ]
     },
     "metadata": {},
     "output_type": "display_data"
    },
    {
     "name": "stdout",
     "output_type": "stream",
     "text": [
      ">>> Financials\n",
      "Length target_stocks: 38\n",
      "Length triplets same sector: 35\n"
     ]
    },
    {
     "data": {
      "application/vnd.jupyter.widget-view+json": {
       "model_id": "c372b59d8f8440df9f91319842b52a04",
       "version_major": 2,
       "version_minor": 0
      },
      "text/plain": [
       "  0%|          | 0/35 [00:00<?, ?it/s]"
      ]
     },
     "metadata": {},
     "output_type": "display_data"
    },
    {
     "name": "stdout",
     "output_type": "stream",
     "text": [
      ">>> Financials - Industrials\n",
      "Length another_stocks: 20\n",
      "Length triplets two sectors: 35\n"
     ]
    },
    {
     "data": {
      "application/vnd.jupyter.widget-view+json": {
       "model_id": "05243f12a8e7449082d02f91e2badce5",
       "version_major": 2,
       "version_minor": 0
      },
      "text/plain": [
       "  0%|          | 0/35 [00:00<?, ?it/s]"
      ]
     },
     "metadata": {},
     "output_type": "display_data"
    },
    {
     "name": "stdout",
     "output_type": "stream",
     "text": [
      ">>> Financials - Basic Materials\n",
      "Length another_stocks: 8\n",
      "Length triplets two sectors: 35\n"
     ]
    },
    {
     "data": {
      "application/vnd.jupyter.widget-view+json": {
       "model_id": "3aa28edaba8e480d9f33ab8326e2c053",
       "version_major": 2,
       "version_minor": 0
      },
      "text/plain": [
       "  0%|          | 0/35 [00:00<?, ?it/s]"
      ]
     },
     "metadata": {},
     "output_type": "display_data"
    },
    {
     "name": "stdout",
     "output_type": "stream",
     "text": [
      ">>> Financials - Consumer Services\n",
      "Length another_stocks: 17\n",
      "Length triplets two sectors: 35\n"
     ]
    },
    {
     "data": {
      "application/vnd.jupyter.widget-view+json": {
       "model_id": "1dd02d253693496394d95b4754189c80",
       "version_major": 2,
       "version_minor": 0
      },
      "text/plain": [
       "  0%|          | 0/35 [00:00<?, ?it/s]"
      ]
     },
     "metadata": {},
     "output_type": "display_data"
    },
    {
     "name": "stdout",
     "output_type": "stream",
     "text": [
      ">>> Financials - Health Care\n",
      "Length another_stocks: 10\n",
      "Length triplets two sectors: 35\n"
     ]
    },
    {
     "data": {
      "application/vnd.jupyter.widget-view+json": {
       "model_id": "a8ecbc21fc4443f289bd4043f8c58546",
       "version_major": 2,
       "version_minor": 0
      },
      "text/plain": [
       "  0%|          | 0/35 [00:00<?, ?it/s]"
      ]
     },
     "metadata": {},
     "output_type": "display_data"
    },
    {
     "name": "stdout",
     "output_type": "stream",
     "text": [
      ">>> Financials - Utilities\n",
      "Length another_stocks: 7\n",
      "Length triplets two sectors: 35\n"
     ]
    },
    {
     "data": {
      "application/vnd.jupyter.widget-view+json": {
       "model_id": "2f32048a9253423ba7fbe40a7d2e4d68",
       "version_major": 2,
       "version_minor": 0
      },
      "text/plain": [
       "  0%|          | 0/35 [00:00<?, ?it/s]"
      ]
     },
     "metadata": {},
     "output_type": "display_data"
    },
    {
     "name": "stdout",
     "output_type": "stream",
     "text": [
      ">>> Financials - Oil & Gas\n",
      "Length another_stocks: 7\n",
      "Length triplets two sectors: 35\n"
     ]
    },
    {
     "data": {
      "application/vnd.jupyter.widget-view+json": {
       "model_id": "4b0ab9b7df384e529844091506debb81",
       "version_major": 2,
       "version_minor": 0
      },
      "text/plain": [
       "  0%|          | 0/35 [00:00<?, ?it/s]"
      ]
     },
     "metadata": {},
     "output_type": "display_data"
    },
    {
     "name": "stdout",
     "output_type": "stream",
     "text": [
      ">>> Financials - Consumer Goods\n",
      "Length another_stocks: 8\n",
      "Length triplets two sectors: 35\n"
     ]
    },
    {
     "data": {
      "application/vnd.jupyter.widget-view+json": {
       "model_id": "d2c7111b90e54837af41954acf41efd7",
       "version_major": 2,
       "version_minor": 0
      },
      "text/plain": [
       "  0%|          | 0/35 [00:00<?, ?it/s]"
      ]
     },
     "metadata": {},
     "output_type": "display_data"
    },
    {
     "name": "stdout",
     "output_type": "stream",
     "text": [
      ">>> Consumer Services\n",
      "Length target_stocks: 17\n",
      "Length triplets same sector: 35\n"
     ]
    },
    {
     "data": {
      "application/vnd.jupyter.widget-view+json": {
       "model_id": "3a1cafbf02984af5a1de9a54befba08e",
       "version_major": 2,
       "version_minor": 0
      },
      "text/plain": [
       "  0%|          | 0/35 [00:00<?, ?it/s]"
      ]
     },
     "metadata": {},
     "output_type": "display_data"
    },
    {
     "name": "stdout",
     "output_type": "stream",
     "text": [
      ">>> Consumer Services - Industrials\n",
      "Length another_stocks: 20\n",
      "Length triplets two sectors: 35\n"
     ]
    },
    {
     "data": {
      "application/vnd.jupyter.widget-view+json": {
       "model_id": "436d894fb4a14d54a4bce635ea7b55f3",
       "version_major": 2,
       "version_minor": 0
      },
      "text/plain": [
       "  0%|          | 0/35 [00:00<?, ?it/s]"
      ]
     },
     "metadata": {},
     "output_type": "display_data"
    },
    {
     "name": "stdout",
     "output_type": "stream",
     "text": [
      ">>> Consumer Services - Basic Materials\n",
      "Length another_stocks: 8\n",
      "Length triplets two sectors: 35\n"
     ]
    },
    {
     "data": {
      "application/vnd.jupyter.widget-view+json": {
       "model_id": "22de5526469f4d519d0c3caadef7f2ab",
       "version_major": 2,
       "version_minor": 0
      },
      "text/plain": [
       "  0%|          | 0/35 [00:00<?, ?it/s]"
      ]
     },
     "metadata": {},
     "output_type": "display_data"
    },
    {
     "name": "stdout",
     "output_type": "stream",
     "text": [
      ">>> Consumer Services - Financials\n",
      "Length another_stocks: 38\n",
      "Length triplets two sectors: 35\n"
     ]
    },
    {
     "data": {
      "application/vnd.jupyter.widget-view+json": {
       "model_id": "3c0ecc9cad5444bbbafad2ececa37886",
       "version_major": 2,
       "version_minor": 0
      },
      "text/plain": [
       "  0%|          | 0/35 [00:00<?, ?it/s]"
      ]
     },
     "metadata": {},
     "output_type": "display_data"
    },
    {
     "name": "stdout",
     "output_type": "stream",
     "text": [
      ">>> Consumer Services - Health Care\n",
      "Length another_stocks: 10\n",
      "Length triplets two sectors: 35\n"
     ]
    },
    {
     "data": {
      "application/vnd.jupyter.widget-view+json": {
       "model_id": "f2532cee45be47648b6cea1618c0893e",
       "version_major": 2,
       "version_minor": 0
      },
      "text/plain": [
       "  0%|          | 0/35 [00:00<?, ?it/s]"
      ]
     },
     "metadata": {},
     "output_type": "display_data"
    },
    {
     "name": "stdout",
     "output_type": "stream",
     "text": [
      ">>> Consumer Services - Utilities\n",
      "Length another_stocks: 7\n",
      "Length triplets two sectors: 35\n"
     ]
    },
    {
     "data": {
      "application/vnd.jupyter.widget-view+json": {
       "model_id": "668218bab1484bfdb3a2a4ac525aa8d9",
       "version_major": 2,
       "version_minor": 0
      },
      "text/plain": [
       "  0%|          | 0/35 [00:00<?, ?it/s]"
      ]
     },
     "metadata": {},
     "output_type": "display_data"
    },
    {
     "name": "stdout",
     "output_type": "stream",
     "text": [
      ">>> Consumer Services - Oil & Gas\n",
      "Length another_stocks: 7\n",
      "Length triplets two sectors: 35\n"
     ]
    },
    {
     "data": {
      "application/vnd.jupyter.widget-view+json": {
       "model_id": "2a74d1e0fbfa49ab911c8db1e509c88e",
       "version_major": 2,
       "version_minor": 0
      },
      "text/plain": [
       "  0%|          | 0/35 [00:00<?, ?it/s]"
      ]
     },
     "metadata": {},
     "output_type": "display_data"
    },
    {
     "name": "stdout",
     "output_type": "stream",
     "text": [
      ">>> Consumer Services - Consumer Goods\n",
      "Length another_stocks: 8\n",
      "Length triplets two sectors: 35\n"
     ]
    },
    {
     "data": {
      "application/vnd.jupyter.widget-view+json": {
       "model_id": "2bb3cb21e3b94bca861e703faf9fe531",
       "version_major": 2,
       "version_minor": 0
      },
      "text/plain": [
       "  0%|          | 0/35 [00:00<?, ?it/s]"
      ]
     },
     "metadata": {},
     "output_type": "display_data"
    },
    {
     "name": "stdout",
     "output_type": "stream",
     "text": [
      ">>> Health Care\n",
      "Length target_stocks: 10\n",
      "Length triplets same sector: 35\n"
     ]
    },
    {
     "data": {
      "application/vnd.jupyter.widget-view+json": {
       "model_id": "2c6944ac9eca4766ac5d6333a285dbd0",
       "version_major": 2,
       "version_minor": 0
      },
      "text/plain": [
       "  0%|          | 0/35 [00:00<?, ?it/s]"
      ]
     },
     "metadata": {},
     "output_type": "display_data"
    },
    {
     "name": "stdout",
     "output_type": "stream",
     "text": [
      ">>> Health Care - Industrials\n",
      "Length another_stocks: 20\n",
      "Length triplets two sectors: 35\n"
     ]
    },
    {
     "data": {
      "application/vnd.jupyter.widget-view+json": {
       "model_id": "6f566409f14644c986beb286ec05b80e",
       "version_major": 2,
       "version_minor": 0
      },
      "text/plain": [
       "  0%|          | 0/35 [00:00<?, ?it/s]"
      ]
     },
     "metadata": {},
     "output_type": "display_data"
    },
    {
     "name": "stdout",
     "output_type": "stream",
     "text": [
      ">>> Health Care - Basic Materials\n",
      "Length another_stocks: 8\n",
      "Length triplets two sectors: 35\n"
     ]
    },
    {
     "data": {
      "application/vnd.jupyter.widget-view+json": {
       "model_id": "d6f083d4d817472f82c8cd3a0df506fb",
       "version_major": 2,
       "version_minor": 0
      },
      "text/plain": [
       "  0%|          | 0/35 [00:00<?, ?it/s]"
      ]
     },
     "metadata": {},
     "output_type": "display_data"
    },
    {
     "name": "stdout",
     "output_type": "stream",
     "text": [
      ">>> Health Care - Financials\n",
      "Length another_stocks: 38\n",
      "Length triplets two sectors: 35\n"
     ]
    },
    {
     "data": {
      "application/vnd.jupyter.widget-view+json": {
       "model_id": "3083458d076f4b24b4e77314dcd3bb92",
       "version_major": 2,
       "version_minor": 0
      },
      "text/plain": [
       "  0%|          | 0/35 [00:00<?, ?it/s]"
      ]
     },
     "metadata": {},
     "output_type": "display_data"
    },
    {
     "name": "stdout",
     "output_type": "stream",
     "text": [
      ">>> Health Care - Consumer Services\n",
      "Length another_stocks: 17\n",
      "Length triplets two sectors: 35\n"
     ]
    },
    {
     "data": {
      "application/vnd.jupyter.widget-view+json": {
       "model_id": "13f8c70b67f44b16acf5ea96560e224e",
       "version_major": 2,
       "version_minor": 0
      },
      "text/plain": [
       "  0%|          | 0/35 [00:00<?, ?it/s]"
      ]
     },
     "metadata": {},
     "output_type": "display_data"
    },
    {
     "name": "stdout",
     "output_type": "stream",
     "text": [
      ">>> Health Care - Utilities\n",
      "Length another_stocks: 7\n",
      "Length triplets two sectors: 35\n"
     ]
    },
    {
     "data": {
      "application/vnd.jupyter.widget-view+json": {
       "model_id": "0fd3c6d44d4344d38de7b3fc6d5a0f5e",
       "version_major": 2,
       "version_minor": 0
      },
      "text/plain": [
       "  0%|          | 0/35 [00:00<?, ?it/s]"
      ]
     },
     "metadata": {},
     "output_type": "display_data"
    },
    {
     "name": "stdout",
     "output_type": "stream",
     "text": [
      ">>> Health Care - Oil & Gas\n",
      "Length another_stocks: 7\n",
      "Length triplets two sectors: 35\n"
     ]
    },
    {
     "data": {
      "application/vnd.jupyter.widget-view+json": {
       "model_id": "b95ea7dc9faa47e896525e738976143f",
       "version_major": 2,
       "version_minor": 0
      },
      "text/plain": [
       "  0%|          | 0/35 [00:00<?, ?it/s]"
      ]
     },
     "metadata": {},
     "output_type": "display_data"
    },
    {
     "name": "stdout",
     "output_type": "stream",
     "text": [
      ">>> Health Care - Consumer Goods\n",
      "Length another_stocks: 8\n",
      "Length triplets two sectors: 35\n"
     ]
    },
    {
     "data": {
      "application/vnd.jupyter.widget-view+json": {
       "model_id": "035907eacdd8441591012b02716ef50f",
       "version_major": 2,
       "version_minor": 0
      },
      "text/plain": [
       "  0%|          | 0/35 [00:00<?, ?it/s]"
      ]
     },
     "metadata": {},
     "output_type": "display_data"
    },
    {
     "name": "stdout",
     "output_type": "stream",
     "text": [
      ">>> Utilities\n",
      "Length target_stocks: 7\n",
      "Length triplets same sector: 35\n"
     ]
    },
    {
     "data": {
      "application/vnd.jupyter.widget-view+json": {
       "model_id": "36b478250b0d4ca0bc3cc7f4d7554e14",
       "version_major": 2,
       "version_minor": 0
      },
      "text/plain": [
       "  0%|          | 0/35 [00:00<?, ?it/s]"
      ]
     },
     "metadata": {},
     "output_type": "display_data"
    },
    {
     "name": "stdout",
     "output_type": "stream",
     "text": [
      ">>> Utilities - Industrials\n",
      "Length another_stocks: 20\n",
      "Length triplets two sectors: 35\n"
     ]
    },
    {
     "data": {
      "application/vnd.jupyter.widget-view+json": {
       "model_id": "d44e5ca2c9fb4d76ac9f2a6012f2eda8",
       "version_major": 2,
       "version_minor": 0
      },
      "text/plain": [
       "  0%|          | 0/35 [00:00<?, ?it/s]"
      ]
     },
     "metadata": {},
     "output_type": "display_data"
    },
    {
     "name": "stdout",
     "output_type": "stream",
     "text": [
      ">>> Utilities - Basic Materials\n",
      "Length another_stocks: 8\n",
      "Length triplets two sectors: 35\n"
     ]
    },
    {
     "data": {
      "application/vnd.jupyter.widget-view+json": {
       "model_id": "ef93487bd2df4c9d9c76de76779e3f10",
       "version_major": 2,
       "version_minor": 0
      },
      "text/plain": [
       "  0%|          | 0/35 [00:00<?, ?it/s]"
      ]
     },
     "metadata": {},
     "output_type": "display_data"
    },
    {
     "name": "stdout",
     "output_type": "stream",
     "text": [
      ">>> Utilities - Financials\n",
      "Length another_stocks: 38\n",
      "Length triplets two sectors: 35\n"
     ]
    },
    {
     "data": {
      "application/vnd.jupyter.widget-view+json": {
       "model_id": "66dfad6abe75499bbe10ab2116db5870",
       "version_major": 2,
       "version_minor": 0
      },
      "text/plain": [
       "  0%|          | 0/35 [00:00<?, ?it/s]"
      ]
     },
     "metadata": {},
     "output_type": "display_data"
    },
    {
     "name": "stdout",
     "output_type": "stream",
     "text": [
      ">>> Utilities - Consumer Services\n",
      "Length another_stocks: 17\n",
      "Length triplets two sectors: 35\n"
     ]
    },
    {
     "data": {
      "application/vnd.jupyter.widget-view+json": {
       "model_id": "a03c81d3a53e489d8cf7b5273263f190",
       "version_major": 2,
       "version_minor": 0
      },
      "text/plain": [
       "  0%|          | 0/35 [00:00<?, ?it/s]"
      ]
     },
     "metadata": {},
     "output_type": "display_data"
    },
    {
     "name": "stdout",
     "output_type": "stream",
     "text": [
      ">>> Utilities - Health Care\n",
      "Length another_stocks: 10\n",
      "Length triplets two sectors: 35\n"
     ]
    },
    {
     "data": {
      "application/vnd.jupyter.widget-view+json": {
       "model_id": "78906c8fc1c54d969bb2e2f388efd460",
       "version_major": 2,
       "version_minor": 0
      },
      "text/plain": [
       "  0%|          | 0/35 [00:00<?, ?it/s]"
      ]
     },
     "metadata": {},
     "output_type": "display_data"
    },
    {
     "name": "stdout",
     "output_type": "stream",
     "text": [
      ">>> Utilities - Oil & Gas\n",
      "Length another_stocks: 7\n",
      "Length triplets two sectors: 35\n"
     ]
    },
    {
     "data": {
      "application/vnd.jupyter.widget-view+json": {
       "model_id": "4f4076fd90464aadbbafcee37228a253",
       "version_major": 2,
       "version_minor": 0
      },
      "text/plain": [
       "  0%|          | 0/35 [00:00<?, ?it/s]"
      ]
     },
     "metadata": {},
     "output_type": "display_data"
    },
    {
     "name": "stdout",
     "output_type": "stream",
     "text": [
      ">>> Utilities - Consumer Goods\n",
      "Length another_stocks: 8\n",
      "Length triplets two sectors: 35\n"
     ]
    },
    {
     "data": {
      "application/vnd.jupyter.widget-view+json": {
       "model_id": "2d20306464e74f5990f58b689e43b6cc",
       "version_major": 2,
       "version_minor": 0
      },
      "text/plain": [
       "  0%|          | 0/35 [00:00<?, ?it/s]"
      ]
     },
     "metadata": {},
     "output_type": "display_data"
    },
    {
     "name": "stdout",
     "output_type": "stream",
     "text": [
      ">>> Oil & Gas\n",
      "Length target_stocks: 7\n",
      "Length triplets same sector: 35\n"
     ]
    },
    {
     "data": {
      "application/vnd.jupyter.widget-view+json": {
       "model_id": "7696908aa0854bbb846b2a5678d4254a",
       "version_major": 2,
       "version_minor": 0
      },
      "text/plain": [
       "  0%|          | 0/35 [00:00<?, ?it/s]"
      ]
     },
     "metadata": {},
     "output_type": "display_data"
    },
    {
     "name": "stdout",
     "output_type": "stream",
     "text": [
      ">>> Oil & Gas - Industrials\n",
      "Length another_stocks: 20\n",
      "Length triplets two sectors: 35\n"
     ]
    },
    {
     "data": {
      "application/vnd.jupyter.widget-view+json": {
       "model_id": "a30e2cc20c4d434aa79780b9c6cbbfdf",
       "version_major": 2,
       "version_minor": 0
      },
      "text/plain": [
       "  0%|          | 0/35 [00:00<?, ?it/s]"
      ]
     },
     "metadata": {},
     "output_type": "display_data"
    },
    {
     "name": "stdout",
     "output_type": "stream",
     "text": [
      ">>> Oil & Gas - Basic Materials\n",
      "Length another_stocks: 8\n",
      "Length triplets two sectors: 35\n"
     ]
    },
    {
     "data": {
      "application/vnd.jupyter.widget-view+json": {
       "model_id": "5f8bcf6bc04c453c9d9c3a720cc0c881",
       "version_major": 2,
       "version_minor": 0
      },
      "text/plain": [
       "  0%|          | 0/35 [00:00<?, ?it/s]"
      ]
     },
     "metadata": {},
     "output_type": "display_data"
    },
    {
     "name": "stdout",
     "output_type": "stream",
     "text": [
      ">>> Oil & Gas - Financials\n",
      "Length another_stocks: 38\n",
      "Length triplets two sectors: 35\n"
     ]
    },
    {
     "data": {
      "application/vnd.jupyter.widget-view+json": {
       "model_id": "0144d19b5fa84b55bf23ef7feb8a0cab",
       "version_major": 2,
       "version_minor": 0
      },
      "text/plain": [
       "  0%|          | 0/35 [00:00<?, ?it/s]"
      ]
     },
     "metadata": {},
     "output_type": "display_data"
    },
    {
     "name": "stdout",
     "output_type": "stream",
     "text": [
      ">>> Oil & Gas - Consumer Services\n",
      "Length another_stocks: 17\n",
      "Length triplets two sectors: 35\n"
     ]
    },
    {
     "data": {
      "application/vnd.jupyter.widget-view+json": {
       "model_id": "af13df68065b410ca584fc5f0b32b74e",
       "version_major": 2,
       "version_minor": 0
      },
      "text/plain": [
       "  0%|          | 0/35 [00:00<?, ?it/s]"
      ]
     },
     "metadata": {},
     "output_type": "display_data"
    },
    {
     "name": "stdout",
     "output_type": "stream",
     "text": [
      ">>> Oil & Gas - Health Care\n",
      "Length another_stocks: 10\n",
      "Length triplets two sectors: 35\n"
     ]
    },
    {
     "data": {
      "application/vnd.jupyter.widget-view+json": {
       "model_id": "9fbf02175cc14cdbba7f0bf4f015e5ff",
       "version_major": 2,
       "version_minor": 0
      },
      "text/plain": [
       "  0%|          | 0/35 [00:00<?, ?it/s]"
      ]
     },
     "metadata": {},
     "output_type": "display_data"
    },
    {
     "name": "stdout",
     "output_type": "stream",
     "text": [
      ">>> Oil & Gas - Utilities\n",
      "Length another_stocks: 7\n",
      "Length triplets two sectors: 35\n"
     ]
    },
    {
     "data": {
      "application/vnd.jupyter.widget-view+json": {
       "model_id": "7ad24fd6d97240a0928116c488043185",
       "version_major": 2,
       "version_minor": 0
      },
      "text/plain": [
       "  0%|          | 0/35 [00:00<?, ?it/s]"
      ]
     },
     "metadata": {},
     "output_type": "display_data"
    },
    {
     "name": "stdout",
     "output_type": "stream",
     "text": [
      ">>> Oil & Gas - Consumer Goods\n",
      "Length another_stocks: 8\n",
      "Length triplets two sectors: 35\n"
     ]
    },
    {
     "data": {
      "application/vnd.jupyter.widget-view+json": {
       "model_id": "f216bd520a754877a43e5ec5e662acb6",
       "version_major": 2,
       "version_minor": 0
      },
      "text/plain": [
       "  0%|          | 0/35 [00:00<?, ?it/s]"
      ]
     },
     "metadata": {},
     "output_type": "display_data"
    },
    {
     "name": "stdout",
     "output_type": "stream",
     "text": [
      ">>> Consumer Goods\n",
      "Length target_stocks: 8\n",
      "Length triplets same sector: 35\n"
     ]
    },
    {
     "data": {
      "application/vnd.jupyter.widget-view+json": {
       "model_id": "0c2d1a875126427f990a4ee7c3b379b8",
       "version_major": 2,
       "version_minor": 0
      },
      "text/plain": [
       "  0%|          | 0/35 [00:00<?, ?it/s]"
      ]
     },
     "metadata": {},
     "output_type": "display_data"
    },
    {
     "name": "stdout",
     "output_type": "stream",
     "text": [
      ">>> Consumer Goods - Industrials\n",
      "Length another_stocks: 20\n",
      "Length triplets two sectors: 35\n"
     ]
    },
    {
     "data": {
      "application/vnd.jupyter.widget-view+json": {
       "model_id": "3727063766a448bf8447f08a2a0a5017",
       "version_major": 2,
       "version_minor": 0
      },
      "text/plain": [
       "  0%|          | 0/35 [00:00<?, ?it/s]"
      ]
     },
     "metadata": {},
     "output_type": "display_data"
    },
    {
     "name": "stdout",
     "output_type": "stream",
     "text": [
      ">>> Consumer Goods - Basic Materials\n",
      "Length another_stocks: 8\n",
      "Length triplets two sectors: 35\n"
     ]
    },
    {
     "data": {
      "application/vnd.jupyter.widget-view+json": {
       "model_id": "447577001ae54ea180aa92d1546115e5",
       "version_major": 2,
       "version_minor": 0
      },
      "text/plain": [
       "  0%|          | 0/35 [00:00<?, ?it/s]"
      ]
     },
     "metadata": {},
     "output_type": "display_data"
    },
    {
     "name": "stdout",
     "output_type": "stream",
     "text": [
      ">>> Consumer Goods - Financials\n",
      "Length another_stocks: 38\n",
      "Length triplets two sectors: 35\n"
     ]
    },
    {
     "data": {
      "application/vnd.jupyter.widget-view+json": {
       "model_id": "ea96077a7a2b475ebb2b5f35e315762f",
       "version_major": 2,
       "version_minor": 0
      },
      "text/plain": [
       "  0%|          | 0/35 [00:00<?, ?it/s]"
      ]
     },
     "metadata": {},
     "output_type": "display_data"
    },
    {
     "name": "stdout",
     "output_type": "stream",
     "text": [
      ">>> Consumer Goods - Consumer Services\n",
      "Length another_stocks: 17\n",
      "Length triplets two sectors: 35\n"
     ]
    },
    {
     "data": {
      "application/vnd.jupyter.widget-view+json": {
       "model_id": "ab40d267b93f4e17baa053aaf000d1eb",
       "version_major": 2,
       "version_minor": 0
      },
      "text/plain": [
       "  0%|          | 0/35 [00:00<?, ?it/s]"
      ]
     },
     "metadata": {},
     "output_type": "display_data"
    },
    {
     "name": "stdout",
     "output_type": "stream",
     "text": [
      ">>> Consumer Goods - Health Care\n",
      "Length another_stocks: 10\n",
      "Length triplets two sectors: 35\n"
     ]
    },
    {
     "data": {
      "application/vnd.jupyter.widget-view+json": {
       "model_id": "47c34698a0d14cbeac51114dbb82ae91",
       "version_major": 2,
       "version_minor": 0
      },
      "text/plain": [
       "  0%|          | 0/35 [00:00<?, ?it/s]"
      ]
     },
     "metadata": {},
     "output_type": "display_data"
    },
    {
     "name": "stdout",
     "output_type": "stream",
     "text": [
      ">>> Consumer Goods - Utilities\n",
      "Length another_stocks: 7\n",
      "Length triplets two sectors: 35\n"
     ]
    },
    {
     "data": {
      "application/vnd.jupyter.widget-view+json": {
       "model_id": "88d422ca05454473833de6720f51d3d4",
       "version_major": 2,
       "version_minor": 0
      },
      "text/plain": [
       "  0%|          | 0/35 [00:00<?, ?it/s]"
      ]
     },
     "metadata": {},
     "output_type": "display_data"
    },
    {
     "name": "stdout",
     "output_type": "stream",
     "text": [
      ">>> Consumer Goods - Oil & Gas\n",
      "Length another_stocks: 7\n",
      "Length triplets two sectors: 35\n"
     ]
    },
    {
     "data": {
      "application/vnd.jupyter.widget-view+json": {
       "model_id": "bef6eda92dc64e2791c120a7a7a019dc",
       "version_major": 2,
       "version_minor": 0
      },
      "text/plain": [
       "  0%|          | 0/35 [00:00<?, ?it/s]"
      ]
     },
     "metadata": {},
     "output_type": "display_data"
    },
    {
     "name": "stdout",
     "output_type": "stream",
     "text": [
      ">>> Industrials\n",
      "Length target_stocks: 20\n",
      "Length triplets same sector: 35\n"
     ]
    },
    {
     "data": {
      "application/vnd.jupyter.widget-view+json": {
       "model_id": "ec2ac77006f94e0985b7fa8289c54adf",
       "version_major": 2,
       "version_minor": 0
      },
      "text/plain": [
       "  0%|          | 0/35 [00:00<?, ?it/s]"
      ]
     },
     "metadata": {},
     "output_type": "display_data"
    },
    {
     "name": "stdout",
     "output_type": "stream",
     "text": [
      ">>> Industrials - Basic Materials\n",
      "Length another_stocks: 8\n",
      "Length triplets two sectors: 35\n"
     ]
    },
    {
     "data": {
      "application/vnd.jupyter.widget-view+json": {
       "model_id": "22473915e79543229b008d2f4a80819e",
       "version_major": 2,
       "version_minor": 0
      },
      "text/plain": [
       "  0%|          | 0/35 [00:00<?, ?it/s]"
      ]
     },
     "metadata": {},
     "output_type": "display_data"
    },
    {
     "name": "stdout",
     "output_type": "stream",
     "text": [
      ">>> Industrials - Financials\n",
      "Length another_stocks: 38\n",
      "Length triplets two sectors: 35\n"
     ]
    },
    {
     "data": {
      "application/vnd.jupyter.widget-view+json": {
       "model_id": "eff021b1a29c48eebe8abf7a64e7b0e1",
       "version_major": 2,
       "version_minor": 0
      },
      "text/plain": [
       "  0%|          | 0/35 [00:00<?, ?it/s]"
      ]
     },
     "metadata": {},
     "output_type": "display_data"
    },
    {
     "name": "stdout",
     "output_type": "stream",
     "text": [
      ">>> Industrials - Consumer Services\n",
      "Length another_stocks: 17\n",
      "Length triplets two sectors: 35\n"
     ]
    },
    {
     "data": {
      "application/vnd.jupyter.widget-view+json": {
       "model_id": "e4dbcf05d56b44a9b678dc0bf8adb8d9",
       "version_major": 2,
       "version_minor": 0
      },
      "text/plain": [
       "  0%|          | 0/35 [00:00<?, ?it/s]"
      ]
     },
     "metadata": {},
     "output_type": "display_data"
    },
    {
     "name": "stdout",
     "output_type": "stream",
     "text": [
      ">>> Industrials - Health Care\n",
      "Length another_stocks: 10\n",
      "Length triplets two sectors: 35\n"
     ]
    },
    {
     "data": {
      "application/vnd.jupyter.widget-view+json": {
       "model_id": "7138211cc93e47fc8fa5ce045cdf0669",
       "version_major": 2,
       "version_minor": 0
      },
      "text/plain": [
       "  0%|          | 0/35 [00:00<?, ?it/s]"
      ]
     },
     "metadata": {},
     "output_type": "display_data"
    },
    {
     "name": "stdout",
     "output_type": "stream",
     "text": [
      ">>> Industrials - Utilities\n",
      "Length another_stocks: 7\n",
      "Length triplets two sectors: 35\n"
     ]
    },
    {
     "data": {
      "application/vnd.jupyter.widget-view+json": {
       "model_id": "e985a5ce4a13443b88c76685e60515c8",
       "version_major": 2,
       "version_minor": 0
      },
      "text/plain": [
       "  0%|          | 0/35 [00:00<?, ?it/s]"
      ]
     },
     "metadata": {},
     "output_type": "display_data"
    },
    {
     "name": "stdout",
     "output_type": "stream",
     "text": [
      ">>> Industrials - Oil & Gas\n",
      "Length another_stocks: 7\n",
      "Length triplets two sectors: 35\n"
     ]
    },
    {
     "data": {
      "application/vnd.jupyter.widget-view+json": {
       "model_id": "a6cce399fe7a424892f5d337a55398d8",
       "version_major": 2,
       "version_minor": 0
      },
      "text/plain": [
       "  0%|          | 0/35 [00:00<?, ?it/s]"
      ]
     },
     "metadata": {},
     "output_type": "display_data"
    },
    {
     "name": "stdout",
     "output_type": "stream",
     "text": [
      ">>> Industrials - Consumer Goods\n",
      "Length another_stocks: 8\n",
      "Length triplets two sectors: 35\n"
     ]
    },
    {
     "data": {
      "application/vnd.jupyter.widget-view+json": {
       "model_id": "b4057065eb774cc2a3ec44170fa9f850",
       "version_major": 2,
       "version_minor": 0
      },
      "text/plain": [
       "  0%|          | 0/35 [00:00<?, ?it/s]"
      ]
     },
     "metadata": {},
     "output_type": "display_data"
    },
    {
     "name": "stdout",
     "output_type": "stream",
     "text": [
      ">>> Basic Materials\n",
      "Length target_stocks: 8\n",
      "Length triplets same sector: 35\n"
     ]
    },
    {
     "data": {
      "application/vnd.jupyter.widget-view+json": {
       "model_id": "4a3d57d0de754ad6b8435c486a4e5b80",
       "version_major": 2,
       "version_minor": 0
      },
      "text/plain": [
       "  0%|          | 0/35 [00:00<?, ?it/s]"
      ]
     },
     "metadata": {},
     "output_type": "display_data"
    },
    {
     "name": "stdout",
     "output_type": "stream",
     "text": [
      ">>> Basic Materials - Industrials\n",
      "Length another_stocks: 20\n",
      "Length triplets two sectors: 35\n"
     ]
    },
    {
     "data": {
      "application/vnd.jupyter.widget-view+json": {
       "model_id": "dca74432df8944f4892ee5911bafcbdf",
       "version_major": 2,
       "version_minor": 0
      },
      "text/plain": [
       "  0%|          | 0/35 [00:00<?, ?it/s]"
      ]
     },
     "metadata": {},
     "output_type": "display_data"
    },
    {
     "name": "stdout",
     "output_type": "stream",
     "text": [
      ">>> Basic Materials - Financials\n",
      "Length another_stocks: 38\n",
      "Length triplets two sectors: 35\n"
     ]
    },
    {
     "data": {
      "application/vnd.jupyter.widget-view+json": {
       "model_id": "5d7192390a434168875dc7d676c809ef",
       "version_major": 2,
       "version_minor": 0
      },
      "text/plain": [
       "  0%|          | 0/35 [00:00<?, ?it/s]"
      ]
     },
     "metadata": {},
     "output_type": "display_data"
    },
    {
     "name": "stdout",
     "output_type": "stream",
     "text": [
      ">>> Basic Materials - Consumer Services\n",
      "Length another_stocks: 17\n",
      "Length triplets two sectors: 35\n"
     ]
    },
    {
     "data": {
      "application/vnd.jupyter.widget-view+json": {
       "model_id": "00ab3e872fef428f8ddb0e9dc7add576",
       "version_major": 2,
       "version_minor": 0
      },
      "text/plain": [
       "  0%|          | 0/35 [00:00<?, ?it/s]"
      ]
     },
     "metadata": {},
     "output_type": "display_data"
    },
    {
     "name": "stdout",
     "output_type": "stream",
     "text": [
      ">>> Basic Materials - Health Care\n",
      "Length another_stocks: 10\n",
      "Length triplets two sectors: 35\n"
     ]
    },
    {
     "data": {
      "application/vnd.jupyter.widget-view+json": {
       "model_id": "b56e5ebf28dd48f59e3b56c0b7bb4748",
       "version_major": 2,
       "version_minor": 0
      },
      "text/plain": [
       "  0%|          | 0/35 [00:00<?, ?it/s]"
      ]
     },
     "metadata": {},
     "output_type": "display_data"
    },
    {
     "name": "stdout",
     "output_type": "stream",
     "text": [
      ">>> Basic Materials - Utilities\n",
      "Length another_stocks: 7\n",
      "Length triplets two sectors: 35\n"
     ]
    },
    {
     "data": {
      "application/vnd.jupyter.widget-view+json": {
       "model_id": "8ab52279f27346a3bad845800216fa42",
       "version_major": 2,
       "version_minor": 0
      },
      "text/plain": [
       "  0%|          | 0/35 [00:00<?, ?it/s]"
      ]
     },
     "metadata": {},
     "output_type": "display_data"
    },
    {
     "name": "stdout",
     "output_type": "stream",
     "text": [
      ">>> Basic Materials - Oil & Gas\n",
      "Length another_stocks: 7\n",
      "Length triplets two sectors: 35\n"
     ]
    },
    {
     "data": {
      "application/vnd.jupyter.widget-view+json": {
       "model_id": "91f591d291bf4a50b0dd804108193dc2",
       "version_major": 2,
       "version_minor": 0
      },
      "text/plain": [
       "  0%|          | 0/35 [00:00<?, ?it/s]"
      ]
     },
     "metadata": {},
     "output_type": "display_data"
    },
    {
     "name": "stdout",
     "output_type": "stream",
     "text": [
      ">>> Basic Materials - Consumer Goods\n",
      "Length another_stocks: 8\n",
      "Length triplets two sectors: 35\n"
     ]
    },
    {
     "data": {
      "application/vnd.jupyter.widget-view+json": {
       "model_id": "f3feced84bf34dcb96edc6776b0ebfb2",
       "version_major": 2,
       "version_minor": 0
      },
      "text/plain": [
       "  0%|          | 0/35 [00:00<?, ?it/s]"
      ]
     },
     "metadata": {},
     "output_type": "display_data"
    },
    {
     "name": "stdout",
     "output_type": "stream",
     "text": [
      ">>> Financials\n",
      "Length target_stocks: 38\n",
      "Length triplets same sector: 35\n"
     ]
    },
    {
     "data": {
      "application/vnd.jupyter.widget-view+json": {
       "model_id": "f5e26a57825e41d5b7c202c740a2298d",
       "version_major": 2,
       "version_minor": 0
      },
      "text/plain": [
       "  0%|          | 0/35 [00:00<?, ?it/s]"
      ]
     },
     "metadata": {},
     "output_type": "display_data"
    },
    {
     "name": "stdout",
     "output_type": "stream",
     "text": [
      ">>> Financials - Industrials\n",
      "Length another_stocks: 20\n",
      "Length triplets two sectors: 35\n"
     ]
    },
    {
     "data": {
      "application/vnd.jupyter.widget-view+json": {
       "model_id": "f2b97bb1e52640df9203a09dc8d449df",
       "version_major": 2,
       "version_minor": 0
      },
      "text/plain": [
       "  0%|          | 0/35 [00:00<?, ?it/s]"
      ]
     },
     "metadata": {},
     "output_type": "display_data"
    },
    {
     "name": "stdout",
     "output_type": "stream",
     "text": [
      ">>> Financials - Basic Materials\n",
      "Length another_stocks: 8\n",
      "Length triplets two sectors: 35\n"
     ]
    },
    {
     "data": {
      "application/vnd.jupyter.widget-view+json": {
       "model_id": "64b4accc4ed74ee2973b93581350f69b",
       "version_major": 2,
       "version_minor": 0
      },
      "text/plain": [
       "  0%|          | 0/35 [00:00<?, ?it/s]"
      ]
     },
     "metadata": {},
     "output_type": "display_data"
    },
    {
     "name": "stdout",
     "output_type": "stream",
     "text": [
      ">>> Financials - Consumer Services\n",
      "Length another_stocks: 17\n",
      "Length triplets two sectors: 35\n"
     ]
    },
    {
     "data": {
      "application/vnd.jupyter.widget-view+json": {
       "model_id": "98e077446bce4032bcfb241a88d4045d",
       "version_major": 2,
       "version_minor": 0
      },
      "text/plain": [
       "  0%|          | 0/35 [00:00<?, ?it/s]"
      ]
     },
     "metadata": {},
     "output_type": "display_data"
    },
    {
     "name": "stdout",
     "output_type": "stream",
     "text": [
      ">>> Financials - Health Care\n",
      "Length another_stocks: 10\n",
      "Length triplets two sectors: 35\n"
     ]
    },
    {
     "data": {
      "application/vnd.jupyter.widget-view+json": {
       "model_id": "32db9d2d33ec4ae38381b157d0af2bf2",
       "version_major": 2,
       "version_minor": 0
      },
      "text/plain": [
       "  0%|          | 0/35 [00:00<?, ?it/s]"
      ]
     },
     "metadata": {},
     "output_type": "display_data"
    },
    {
     "name": "stdout",
     "output_type": "stream",
     "text": [
      ">>> Financials - Utilities\n",
      "Length another_stocks: 7\n",
      "Length triplets two sectors: 35\n"
     ]
    },
    {
     "data": {
      "application/vnd.jupyter.widget-view+json": {
       "model_id": "4c1acc8042c2498980e703645a412f24",
       "version_major": 2,
       "version_minor": 0
      },
      "text/plain": [
       "  0%|          | 0/35 [00:00<?, ?it/s]"
      ]
     },
     "metadata": {},
     "output_type": "display_data"
    },
    {
     "name": "stdout",
     "output_type": "stream",
     "text": [
      ">>> Financials - Oil & Gas\n",
      "Length another_stocks: 7\n",
      "Length triplets two sectors: 35\n"
     ]
    },
    {
     "data": {
      "application/vnd.jupyter.widget-view+json": {
       "model_id": "3c34cb55a07a46e69be4925ae958de0f",
       "version_major": 2,
       "version_minor": 0
      },
      "text/plain": [
       "  0%|          | 0/35 [00:00<?, ?it/s]"
      ]
     },
     "metadata": {},
     "output_type": "display_data"
    },
    {
     "name": "stdout",
     "output_type": "stream",
     "text": [
      ">>> Financials - Consumer Goods\n",
      "Length another_stocks: 8\n",
      "Length triplets two sectors: 35\n"
     ]
    },
    {
     "data": {
      "application/vnd.jupyter.widget-view+json": {
       "model_id": "06f6316c86b74abcbe49c5e27dab3b92",
       "version_major": 2,
       "version_minor": 0
      },
      "text/plain": [
       "  0%|          | 0/35 [00:00<?, ?it/s]"
      ]
     },
     "metadata": {},
     "output_type": "display_data"
    },
    {
     "name": "stdout",
     "output_type": "stream",
     "text": [
      ">>> Consumer Services\n",
      "Length target_stocks: 17\n",
      "Length triplets same sector: 35\n"
     ]
    },
    {
     "data": {
      "application/vnd.jupyter.widget-view+json": {
       "model_id": "249859e2b3134f3ebbf32e69dec4a66b",
       "version_major": 2,
       "version_minor": 0
      },
      "text/plain": [
       "  0%|          | 0/35 [00:00<?, ?it/s]"
      ]
     },
     "metadata": {},
     "output_type": "display_data"
    },
    {
     "name": "stdout",
     "output_type": "stream",
     "text": [
      ">>> Consumer Services - Industrials\n",
      "Length another_stocks: 20\n",
      "Length triplets two sectors: 35\n"
     ]
    },
    {
     "data": {
      "application/vnd.jupyter.widget-view+json": {
       "model_id": "0fc9c06fb58b43a39b5da99aad0a455f",
       "version_major": 2,
       "version_minor": 0
      },
      "text/plain": [
       "  0%|          | 0/35 [00:00<?, ?it/s]"
      ]
     },
     "metadata": {},
     "output_type": "display_data"
    },
    {
     "name": "stdout",
     "output_type": "stream",
     "text": [
      ">>> Consumer Services - Basic Materials\n",
      "Length another_stocks: 8\n",
      "Length triplets two sectors: 35\n"
     ]
    },
    {
     "data": {
      "application/vnd.jupyter.widget-view+json": {
       "model_id": "b377b80a38f2410d86f18a067d6a0e1a",
       "version_major": 2,
       "version_minor": 0
      },
      "text/plain": [
       "  0%|          | 0/35 [00:00<?, ?it/s]"
      ]
     },
     "metadata": {},
     "output_type": "display_data"
    },
    {
     "name": "stdout",
     "output_type": "stream",
     "text": [
      ">>> Consumer Services - Financials\n",
      "Length another_stocks: 38\n",
      "Length triplets two sectors: 35\n"
     ]
    },
    {
     "data": {
      "application/vnd.jupyter.widget-view+json": {
       "model_id": "949008cb314149c9b042a0de0a6140d3",
       "version_major": 2,
       "version_minor": 0
      },
      "text/plain": [
       "  0%|          | 0/35 [00:00<?, ?it/s]"
      ]
     },
     "metadata": {},
     "output_type": "display_data"
    },
    {
     "name": "stdout",
     "output_type": "stream",
     "text": [
      ">>> Consumer Services - Health Care\n",
      "Length another_stocks: 10\n",
      "Length triplets two sectors: 35\n"
     ]
    },
    {
     "data": {
      "application/vnd.jupyter.widget-view+json": {
       "model_id": "3136c1a58c1f41d0b2778cd090e9d531",
       "version_major": 2,
       "version_minor": 0
      },
      "text/plain": [
       "  0%|          | 0/35 [00:00<?, ?it/s]"
      ]
     },
     "metadata": {},
     "output_type": "display_data"
    },
    {
     "name": "stdout",
     "output_type": "stream",
     "text": [
      ">>> Consumer Services - Utilities\n",
      "Length another_stocks: 7\n",
      "Length triplets two sectors: 35\n"
     ]
    },
    {
     "data": {
      "application/vnd.jupyter.widget-view+json": {
       "model_id": "8b249cef19834b7ebd035edd30085e14",
       "version_major": 2,
       "version_minor": 0
      },
      "text/plain": [
       "  0%|          | 0/35 [00:00<?, ?it/s]"
      ]
     },
     "metadata": {},
     "output_type": "display_data"
    },
    {
     "name": "stdout",
     "output_type": "stream",
     "text": [
      ">>> Consumer Services - Oil & Gas\n",
      "Length another_stocks: 7\n",
      "Length triplets two sectors: 35\n"
     ]
    },
    {
     "data": {
      "application/vnd.jupyter.widget-view+json": {
       "model_id": "8f6bdc6e0bbe4e4ebae824e05b6d7079",
       "version_major": 2,
       "version_minor": 0
      },
      "text/plain": [
       "  0%|          | 0/35 [00:00<?, ?it/s]"
      ]
     },
     "metadata": {},
     "output_type": "display_data"
    },
    {
     "name": "stdout",
     "output_type": "stream",
     "text": [
      ">>> Consumer Services - Consumer Goods\n",
      "Length another_stocks: 8\n",
      "Length triplets two sectors: 35\n"
     ]
    },
    {
     "data": {
      "application/vnd.jupyter.widget-view+json": {
       "model_id": "f6fa5aa11a5d49bb89187d612330c095",
       "version_major": 2,
       "version_minor": 0
      },
      "text/plain": [
       "  0%|          | 0/35 [00:00<?, ?it/s]"
      ]
     },
     "metadata": {},
     "output_type": "display_data"
    },
    {
     "name": "stdout",
     "output_type": "stream",
     "text": [
      ">>> Health Care\n",
      "Length target_stocks: 10\n",
      "Length triplets same sector: 35\n"
     ]
    },
    {
     "data": {
      "application/vnd.jupyter.widget-view+json": {
       "model_id": "671591285f51482f9615c384f02a98c1",
       "version_major": 2,
       "version_minor": 0
      },
      "text/plain": [
       "  0%|          | 0/35 [00:00<?, ?it/s]"
      ]
     },
     "metadata": {},
     "output_type": "display_data"
    },
    {
     "name": "stdout",
     "output_type": "stream",
     "text": [
      ">>> Health Care - Industrials\n",
      "Length another_stocks: 20\n",
      "Length triplets two sectors: 35\n"
     ]
    },
    {
     "data": {
      "application/vnd.jupyter.widget-view+json": {
       "model_id": "54b0d0961a194d5e84ebae35a94f3879",
       "version_major": 2,
       "version_minor": 0
      },
      "text/plain": [
       "  0%|          | 0/35 [00:00<?, ?it/s]"
      ]
     },
     "metadata": {},
     "output_type": "display_data"
    },
    {
     "name": "stdout",
     "output_type": "stream",
     "text": [
      ">>> Health Care - Basic Materials\n",
      "Length another_stocks: 8\n",
      "Length triplets two sectors: 35\n"
     ]
    },
    {
     "data": {
      "application/vnd.jupyter.widget-view+json": {
       "model_id": "7892bb1431924d96a89e4def58bb5fc2",
       "version_major": 2,
       "version_minor": 0
      },
      "text/plain": [
       "  0%|          | 0/35 [00:00<?, ?it/s]"
      ]
     },
     "metadata": {},
     "output_type": "display_data"
    },
    {
     "name": "stdout",
     "output_type": "stream",
     "text": [
      ">>> Health Care - Financials\n",
      "Length another_stocks: 38\n",
      "Length triplets two sectors: 35\n"
     ]
    },
    {
     "data": {
      "application/vnd.jupyter.widget-view+json": {
       "model_id": "62a9e0514a1b46a394d99cf199f53941",
       "version_major": 2,
       "version_minor": 0
      },
      "text/plain": [
       "  0%|          | 0/35 [00:00<?, ?it/s]"
      ]
     },
     "metadata": {},
     "output_type": "display_data"
    },
    {
     "name": "stdout",
     "output_type": "stream",
     "text": [
      ">>> Health Care - Consumer Services\n",
      "Length another_stocks: 17\n",
      "Length triplets two sectors: 35\n"
     ]
    },
    {
     "data": {
      "application/vnd.jupyter.widget-view+json": {
       "model_id": "c13a769716404fa3b82b94edd0955676",
       "version_major": 2,
       "version_minor": 0
      },
      "text/plain": [
       "  0%|          | 0/35 [00:00<?, ?it/s]"
      ]
     },
     "metadata": {},
     "output_type": "display_data"
    },
    {
     "name": "stdout",
     "output_type": "stream",
     "text": [
      ">>> Health Care - Utilities\n",
      "Length another_stocks: 7\n",
      "Length triplets two sectors: 35\n"
     ]
    },
    {
     "data": {
      "application/vnd.jupyter.widget-view+json": {
       "model_id": "f2b4ad50e18a4c5dbd4dc181dd203631",
       "version_major": 2,
       "version_minor": 0
      },
      "text/plain": [
       "  0%|          | 0/35 [00:00<?, ?it/s]"
      ]
     },
     "metadata": {},
     "output_type": "display_data"
    },
    {
     "name": "stdout",
     "output_type": "stream",
     "text": [
      ">>> Health Care - Oil & Gas\n",
      "Length another_stocks: 7\n",
      "Length triplets two sectors: 35\n"
     ]
    },
    {
     "data": {
      "application/vnd.jupyter.widget-view+json": {
       "model_id": "5a2f9131dec84d978d3aa6a94cd8d6d2",
       "version_major": 2,
       "version_minor": 0
      },
      "text/plain": [
       "  0%|          | 0/35 [00:00<?, ?it/s]"
      ]
     },
     "metadata": {},
     "output_type": "display_data"
    },
    {
     "name": "stdout",
     "output_type": "stream",
     "text": [
      ">>> Health Care - Consumer Goods\n",
      "Length another_stocks: 8\n",
      "Length triplets two sectors: 35\n"
     ]
    },
    {
     "data": {
      "application/vnd.jupyter.widget-view+json": {
       "model_id": "631c24fd43264b00b2f4778073e028d5",
       "version_major": 2,
       "version_minor": 0
      },
      "text/plain": [
       "  0%|          | 0/35 [00:00<?, ?it/s]"
      ]
     },
     "metadata": {},
     "output_type": "display_data"
    },
    {
     "name": "stdout",
     "output_type": "stream",
     "text": [
      ">>> Utilities\n",
      "Length target_stocks: 7\n",
      "Length triplets same sector: 35\n"
     ]
    },
    {
     "data": {
      "application/vnd.jupyter.widget-view+json": {
       "model_id": "667eefdf39e04e0a84613455438e799e",
       "version_major": 2,
       "version_minor": 0
      },
      "text/plain": [
       "  0%|          | 0/35 [00:00<?, ?it/s]"
      ]
     },
     "metadata": {},
     "output_type": "display_data"
    },
    {
     "name": "stdout",
     "output_type": "stream",
     "text": [
      ">>> Utilities - Industrials\n",
      "Length another_stocks: 20\n",
      "Length triplets two sectors: 35\n"
     ]
    },
    {
     "data": {
      "application/vnd.jupyter.widget-view+json": {
       "model_id": "9efef992349540e3835ba7e8cbfdf05e",
       "version_major": 2,
       "version_minor": 0
      },
      "text/plain": [
       "  0%|          | 0/35 [00:00<?, ?it/s]"
      ]
     },
     "metadata": {},
     "output_type": "display_data"
    },
    {
     "name": "stdout",
     "output_type": "stream",
     "text": [
      ">>> Utilities - Basic Materials\n",
      "Length another_stocks: 8\n",
      "Length triplets two sectors: 35\n"
     ]
    },
    {
     "data": {
      "application/vnd.jupyter.widget-view+json": {
       "model_id": "a865aac267284d93a6a1450332edf4dc",
       "version_major": 2,
       "version_minor": 0
      },
      "text/plain": [
       "  0%|          | 0/35 [00:00<?, ?it/s]"
      ]
     },
     "metadata": {},
     "output_type": "display_data"
    },
    {
     "name": "stdout",
     "output_type": "stream",
     "text": [
      ">>> Utilities - Financials\n",
      "Length another_stocks: 38\n",
      "Length triplets two sectors: 35\n"
     ]
    },
    {
     "data": {
      "application/vnd.jupyter.widget-view+json": {
       "model_id": "5c2d43e02b314c2a9d26c3a722741c6d",
       "version_major": 2,
       "version_minor": 0
      },
      "text/plain": [
       "  0%|          | 0/35 [00:00<?, ?it/s]"
      ]
     },
     "metadata": {},
     "output_type": "display_data"
    },
    {
     "name": "stdout",
     "output_type": "stream",
     "text": [
      ">>> Utilities - Consumer Services\n",
      "Length another_stocks: 17\n",
      "Length triplets two sectors: 35\n"
     ]
    },
    {
     "data": {
      "application/vnd.jupyter.widget-view+json": {
       "model_id": "07228227bb454dc1a989627f934f3bd8",
       "version_major": 2,
       "version_minor": 0
      },
      "text/plain": [
       "  0%|          | 0/35 [00:00<?, ?it/s]"
      ]
     },
     "metadata": {},
     "output_type": "display_data"
    },
    {
     "name": "stdout",
     "output_type": "stream",
     "text": [
      ">>> Utilities - Health Care\n",
      "Length another_stocks: 10\n",
      "Length triplets two sectors: 35\n"
     ]
    },
    {
     "data": {
      "application/vnd.jupyter.widget-view+json": {
       "model_id": "5821ffae2f854c4a97c59ac5156ed715",
       "version_major": 2,
       "version_minor": 0
      },
      "text/plain": [
       "  0%|          | 0/35 [00:00<?, ?it/s]"
      ]
     },
     "metadata": {},
     "output_type": "display_data"
    },
    {
     "name": "stdout",
     "output_type": "stream",
     "text": [
      ">>> Utilities - Oil & Gas\n",
      "Length another_stocks: 7\n",
      "Length triplets two sectors: 35\n"
     ]
    },
    {
     "data": {
      "application/vnd.jupyter.widget-view+json": {
       "model_id": "bebdefcf13cd44b3b0e3530ecb02bd07",
       "version_major": 2,
       "version_minor": 0
      },
      "text/plain": [
       "  0%|          | 0/35 [00:00<?, ?it/s]"
      ]
     },
     "metadata": {},
     "output_type": "display_data"
    },
    {
     "name": "stdout",
     "output_type": "stream",
     "text": [
      ">>> Utilities - Consumer Goods\n",
      "Length another_stocks: 8\n",
      "Length triplets two sectors: 35\n"
     ]
    },
    {
     "data": {
      "application/vnd.jupyter.widget-view+json": {
       "model_id": "c3ec78d7427542f6a1263ccd1e600ac8",
       "version_major": 2,
       "version_minor": 0
      },
      "text/plain": [
       "  0%|          | 0/35 [00:00<?, ?it/s]"
      ]
     },
     "metadata": {},
     "output_type": "display_data"
    },
    {
     "name": "stdout",
     "output_type": "stream",
     "text": [
      ">>> Oil & Gas\n",
      "Length target_stocks: 7\n",
      "Length triplets same sector: 35\n"
     ]
    },
    {
     "data": {
      "application/vnd.jupyter.widget-view+json": {
       "model_id": "2db248f0e8cb4dac9c93015b2e09027c",
       "version_major": 2,
       "version_minor": 0
      },
      "text/plain": [
       "  0%|          | 0/35 [00:00<?, ?it/s]"
      ]
     },
     "metadata": {},
     "output_type": "display_data"
    },
    {
     "name": "stdout",
     "output_type": "stream",
     "text": [
      ">>> Oil & Gas - Industrials\n",
      "Length another_stocks: 20\n",
      "Length triplets two sectors: 35\n"
     ]
    },
    {
     "data": {
      "application/vnd.jupyter.widget-view+json": {
       "model_id": "43c100d313e14f8aa5c79439a94af6ba",
       "version_major": 2,
       "version_minor": 0
      },
      "text/plain": [
       "  0%|          | 0/35 [00:00<?, ?it/s]"
      ]
     },
     "metadata": {},
     "output_type": "display_data"
    },
    {
     "name": "stdout",
     "output_type": "stream",
     "text": [
      ">>> Oil & Gas - Basic Materials\n",
      "Length another_stocks: 8\n",
      "Length triplets two sectors: 35\n"
     ]
    },
    {
     "data": {
      "application/vnd.jupyter.widget-view+json": {
       "model_id": "04f4e998876a46a691385c07a8484222",
       "version_major": 2,
       "version_minor": 0
      },
      "text/plain": [
       "  0%|          | 0/35 [00:00<?, ?it/s]"
      ]
     },
     "metadata": {},
     "output_type": "display_data"
    },
    {
     "name": "stdout",
     "output_type": "stream",
     "text": [
      ">>> Oil & Gas - Financials\n",
      "Length another_stocks: 38\n",
      "Length triplets two sectors: 35\n"
     ]
    },
    {
     "data": {
      "application/vnd.jupyter.widget-view+json": {
       "model_id": "46a5c4638637436ca52fee2345dd4184",
       "version_major": 2,
       "version_minor": 0
      },
      "text/plain": [
       "  0%|          | 0/35 [00:00<?, ?it/s]"
      ]
     },
     "metadata": {},
     "output_type": "display_data"
    },
    {
     "name": "stdout",
     "output_type": "stream",
     "text": [
      ">>> Oil & Gas - Consumer Services\n",
      "Length another_stocks: 17\n",
      "Length triplets two sectors: 35\n"
     ]
    },
    {
     "data": {
      "application/vnd.jupyter.widget-view+json": {
       "model_id": "1b4358ea1fe140c7badef43f46a9b2d1",
       "version_major": 2,
       "version_minor": 0
      },
      "text/plain": [
       "  0%|          | 0/35 [00:00<?, ?it/s]"
      ]
     },
     "metadata": {},
     "output_type": "display_data"
    },
    {
     "name": "stdout",
     "output_type": "stream",
     "text": [
      ">>> Oil & Gas - Health Care\n",
      "Length another_stocks: 10\n",
      "Length triplets two sectors: 35\n"
     ]
    },
    {
     "data": {
      "application/vnd.jupyter.widget-view+json": {
       "model_id": "bf9f7632cebc4a279daf1c612ee9a9a2",
       "version_major": 2,
       "version_minor": 0
      },
      "text/plain": [
       "  0%|          | 0/35 [00:00<?, ?it/s]"
      ]
     },
     "metadata": {},
     "output_type": "display_data"
    },
    {
     "name": "stdout",
     "output_type": "stream",
     "text": [
      ">>> Oil & Gas - Utilities\n",
      "Length another_stocks: 7\n",
      "Length triplets two sectors: 35\n"
     ]
    },
    {
     "data": {
      "application/vnd.jupyter.widget-view+json": {
       "model_id": "74564061ee8a40ecb031fc8f4780f4c6",
       "version_major": 2,
       "version_minor": 0
      },
      "text/plain": [
       "  0%|          | 0/35 [00:00<?, ?it/s]"
      ]
     },
     "metadata": {},
     "output_type": "display_data"
    },
    {
     "name": "stdout",
     "output_type": "stream",
     "text": [
      ">>> Oil & Gas - Consumer Goods\n",
      "Length another_stocks: 8\n",
      "Length triplets two sectors: 35\n"
     ]
    },
    {
     "data": {
      "application/vnd.jupyter.widget-view+json": {
       "model_id": "003140ac2f074ed4b7975bea7c2e79a3",
       "version_major": 2,
       "version_minor": 0
      },
      "text/plain": [
       "  0%|          | 0/35 [00:00<?, ?it/s]"
      ]
     },
     "metadata": {},
     "output_type": "display_data"
    },
    {
     "name": "stdout",
     "output_type": "stream",
     "text": [
      ">>> Consumer Goods\n",
      "Length target_stocks: 8\n",
      "Length triplets same sector: 35\n"
     ]
    },
    {
     "data": {
      "application/vnd.jupyter.widget-view+json": {
       "model_id": "49039b9f241c440b82825d41a5978596",
       "version_major": 2,
       "version_minor": 0
      },
      "text/plain": [
       "  0%|          | 0/35 [00:00<?, ?it/s]"
      ]
     },
     "metadata": {},
     "output_type": "display_data"
    },
    {
     "name": "stdout",
     "output_type": "stream",
     "text": [
      ">>> Consumer Goods - Industrials\n",
      "Length another_stocks: 20\n",
      "Length triplets two sectors: 35\n"
     ]
    },
    {
     "data": {
      "application/vnd.jupyter.widget-view+json": {
       "model_id": "132a10ecdce846d387af97bd06208d9b",
       "version_major": 2,
       "version_minor": 0
      },
      "text/plain": [
       "  0%|          | 0/35 [00:00<?, ?it/s]"
      ]
     },
     "metadata": {},
     "output_type": "display_data"
    },
    {
     "name": "stdout",
     "output_type": "stream",
     "text": [
      ">>> Consumer Goods - Basic Materials\n",
      "Length another_stocks: 8\n",
      "Length triplets two sectors: 35\n"
     ]
    },
    {
     "data": {
      "application/vnd.jupyter.widget-view+json": {
       "model_id": "50aded1e99504e19a5b4e75adebc55cc",
       "version_major": 2,
       "version_minor": 0
      },
      "text/plain": [
       "  0%|          | 0/35 [00:00<?, ?it/s]"
      ]
     },
     "metadata": {},
     "output_type": "display_data"
    },
    {
     "name": "stdout",
     "output_type": "stream",
     "text": [
      ">>> Consumer Goods - Financials\n",
      "Length another_stocks: 38\n",
      "Length triplets two sectors: 35\n"
     ]
    },
    {
     "data": {
      "application/vnd.jupyter.widget-view+json": {
       "model_id": "2d5f3371c7194167ac297fb3391d0081",
       "version_major": 2,
       "version_minor": 0
      },
      "text/plain": [
       "  0%|          | 0/35 [00:00<?, ?it/s]"
      ]
     },
     "metadata": {},
     "output_type": "display_data"
    },
    {
     "name": "stdout",
     "output_type": "stream",
     "text": [
      ">>> Consumer Goods - Consumer Services\n",
      "Length another_stocks: 17\n",
      "Length triplets two sectors: 35\n"
     ]
    },
    {
     "data": {
      "application/vnd.jupyter.widget-view+json": {
       "model_id": "742c75f758b44f8083ffc93ff696af15",
       "version_major": 2,
       "version_minor": 0
      },
      "text/plain": [
       "  0%|          | 0/35 [00:00<?, ?it/s]"
      ]
     },
     "metadata": {},
     "output_type": "display_data"
    },
    {
     "name": "stdout",
     "output_type": "stream",
     "text": [
      ">>> Consumer Goods - Health Care\n",
      "Length another_stocks: 10\n",
      "Length triplets two sectors: 35\n"
     ]
    },
    {
     "data": {
      "application/vnd.jupyter.widget-view+json": {
       "model_id": "79e777626482450b94653b988e360b0b",
       "version_major": 2,
       "version_minor": 0
      },
      "text/plain": [
       "  0%|          | 0/35 [00:00<?, ?it/s]"
      ]
     },
     "metadata": {},
     "output_type": "display_data"
    },
    {
     "name": "stdout",
     "output_type": "stream",
     "text": [
      ">>> Consumer Goods - Utilities\n",
      "Length another_stocks: 7\n",
      "Length triplets two sectors: 35\n"
     ]
    },
    {
     "data": {
      "application/vnd.jupyter.widget-view+json": {
       "model_id": "e9028f4f19fc42cab99aea59de689f64",
       "version_major": 2,
       "version_minor": 0
      },
      "text/plain": [
       "  0%|          | 0/35 [00:00<?, ?it/s]"
      ]
     },
     "metadata": {},
     "output_type": "display_data"
    },
    {
     "name": "stdout",
     "output_type": "stream",
     "text": [
      ">>> Consumer Goods - Oil & Gas\n",
      "Length another_stocks: 7\n",
      "Length triplets two sectors: 35\n"
     ]
    },
    {
     "data": {
      "application/vnd.jupyter.widget-view+json": {
       "model_id": "2a962745d9a247a38135a6fba109cfb8",
       "version_major": 2,
       "version_minor": 0
      },
      "text/plain": [
       "  0%|          | 0/35 [00:00<?, ?it/s]"
      ]
     },
     "metadata": {},
     "output_type": "display_data"
    }
   ],
   "source": [
    "# DO NOT RUN IF YOU ALREADY HAVE THE DATA\n",
    "\n",
    "lengths = [540, 1080, 1620, 2160, 3240, 3780, 4320, 4860]\n",
    "\n",
    "for length in lengths:\n",
    "    for target in sectors:\n",
    "        other_sectors = [sector for sector in sectors if sector != target]\n",
    "        for i, sector in enumerate(other_sectors):\n",
    "\n",
    "            if i == 0:\n",
    "                doinfo_one_sector = get_do_infos_same(\n",
    "                    target, binarized_financial_ts[:length]\n",
    "                )\n",
    "                np.save(\n",
    "                    f\"./results/economic_results/comparison/do_info/one_sector_{target}_length_{length}.npy\",\n",
    "                    doinfo_one_sector,\n",
    "                )\n",
    "\n",
    "            doinfo_two_sectors = get_do_infos_two_different(\n",
    "                target, sector, binarized_financial_ts[:length]\n",
    "            )\n",
    "            np.save(\n",
    "                f\"./results/economic_results/comparison/do_info/two_sectors_{target}_{sector}_length_{length}.npy\",\n",
    "                doinfo_two_sectors,\n",
    "            )"
   ]
  },
  {
   "cell_type": "markdown",
   "metadata": {},
   "source": [
    "<a name=\"comparison_industrials\"></a>\n",
    "#### Comparison Industrials"
   ]
  },
  {
   "cell_type": "code",
   "execution_count": 45,
   "metadata": {},
   "outputs": [],
   "source": [
    "df_industrials = pd.DataFrame(\n",
    "    columns=[\n",
    "        \"Basic Materials\",\n",
    "        \"Financials\",\n",
    "        \"Consumer Services\",\n",
    "        \"Health Care\",\n",
    "        \"Utilities\",\n",
    "        \"Oil & Gas\",\n",
    "        \"Consumer Goods\",\n",
    "    ]\n",
    ")"
   ]
  },
  {
   "cell_type": "code",
   "execution_count": 46,
   "metadata": {},
   "outputs": [],
   "source": [
    "lengths = [\n",
    "    int(len(binarized_financial_ts) * i)\n",
    "    for i in np.linspace(0.1, 1, 10)\n",
    "]"
   ]
  },
  {
   "cell_type": "code",
   "execution_count": 47,
   "metadata": {},
   "outputs": [],
   "source": [
    "# DO NOT RUN IF YOU ALREADY HAVE THE DATAFRAME\n",
    "\n",
    "for length in lengths:\n",
    "    for target in [\"Industrials\"]:\n",
    "        other_sectors = [sector for sector in sectors if sector != target]\n",
    "\n",
    "        for i, sector in enumerate(other_sectors):\n",
    "            doinfo_one_sector = np.load(\n",
    "                f\"./results/economic_results/comparison/do_info/one_sector_{target}_length_{length}.npy\"\n",
    "            )\n",
    "            doinfo_two_sectors = np.load(\n",
    "                f\"./results/economic_results/comparison/do_info/two_sectors_{target}_{sector}_length_{length}.npy\"\n",
    "            )\n",
    "\n",
    "            df_industrials.at[length, sector] = JS_div(doinfo_one_sector, doinfo_two_sectors)\n",
    "            \n",
    "df_industrials.to_csv(\"./results/economic_results/comparison/length_Industrials.csv\", index=True)"
   ]
  },
  {
   "cell_type": "code",
   "execution_count": 48,
   "metadata": {},
   "outputs": [
    {
     "data": {
      "text/html": [
       "<div>\n",
       "<style scoped>\n",
       "    .dataframe tbody tr th:only-of-type {\n",
       "        vertical-align: middle;\n",
       "    }\n",
       "\n",
       "    .dataframe tbody tr th {\n",
       "        vertical-align: top;\n",
       "    }\n",
       "\n",
       "    .dataframe thead th {\n",
       "        text-align: right;\n",
       "    }\n",
       "</style>\n",
       "<table border=\"1\" class=\"dataframe\">\n",
       "  <thead>\n",
       "    <tr style=\"text-align: right;\">\n",
       "      <th></th>\n",
       "      <th>Basic Materials</th>\n",
       "      <th>Financials</th>\n",
       "      <th>Consumer Services</th>\n",
       "      <th>Health Care</th>\n",
       "      <th>Utilities</th>\n",
       "      <th>Oil &amp; Gas</th>\n",
       "      <th>Consumer Goods</th>\n",
       "    </tr>\n",
       "  </thead>\n",
       "  <tbody>\n",
       "    <tr>\n",
       "      <th>540</th>\n",
       "      <td>0.237938</td>\n",
       "      <td>0.290896</td>\n",
       "      <td>0.168913</td>\n",
       "      <td>0.221155</td>\n",
       "      <td>0.129496</td>\n",
       "      <td>0.289258</td>\n",
       "      <td>0.060225</td>\n",
       "    </tr>\n",
       "    <tr>\n",
       "      <th>1080</th>\n",
       "      <td>0.095673</td>\n",
       "      <td>0.026834</td>\n",
       "      <td>0.125723</td>\n",
       "      <td>0.011031</td>\n",
       "      <td>0.104654</td>\n",
       "      <td>0.040729</td>\n",
       "      <td>0.055406</td>\n",
       "    </tr>\n",
       "    <tr>\n",
       "      <th>1620</th>\n",
       "      <td>0.107160</td>\n",
       "      <td>0.141756</td>\n",
       "      <td>0.233492</td>\n",
       "      <td>0.254492</td>\n",
       "      <td>0.636388</td>\n",
       "      <td>0.056553</td>\n",
       "      <td>0.156158</td>\n",
       "    </tr>\n",
       "    <tr>\n",
       "      <th>2160</th>\n",
       "      <td>0.294695</td>\n",
       "      <td>0.197886</td>\n",
       "      <td>0.122706</td>\n",
       "      <td>0.385376</td>\n",
       "      <td>0.205085</td>\n",
       "      <td>0.230528</td>\n",
       "      <td>0.417641</td>\n",
       "    </tr>\n",
       "    <tr>\n",
       "      <th>2700</th>\n",
       "      <td>0.269968</td>\n",
       "      <td>0.116018</td>\n",
       "      <td>0.308068</td>\n",
       "      <td>0.371273</td>\n",
       "      <td>0.238282</td>\n",
       "      <td>0.070591</td>\n",
       "      <td>0.311161</td>\n",
       "    </tr>\n",
       "    <tr>\n",
       "      <th>3240</th>\n",
       "      <td>0.144985</td>\n",
       "      <td>0.199808</td>\n",
       "      <td>0.132998</td>\n",
       "      <td>0.212263</td>\n",
       "      <td>0.058871</td>\n",
       "      <td>0.227055</td>\n",
       "      <td>0.210336</td>\n",
       "    </tr>\n",
       "    <tr>\n",
       "      <th>3780</th>\n",
       "      <td>0.208662</td>\n",
       "      <td>0.041249</td>\n",
       "      <td>0.088355</td>\n",
       "      <td>0.055319</td>\n",
       "      <td>0.148649</td>\n",
       "      <td>0.129300</td>\n",
       "      <td>0.344918</td>\n",
       "    </tr>\n",
       "    <tr>\n",
       "      <th>4320</th>\n",
       "      <td>0.133865</td>\n",
       "      <td>0.080710</td>\n",
       "      <td>0.167774</td>\n",
       "      <td>0.094971</td>\n",
       "      <td>0.056954</td>\n",
       "      <td>0.063473</td>\n",
       "      <td>0.117314</td>\n",
       "    </tr>\n",
       "    <tr>\n",
       "      <th>4860</th>\n",
       "      <td>0.071358</td>\n",
       "      <td>0.187431</td>\n",
       "      <td>0.291538</td>\n",
       "      <td>0.016148</td>\n",
       "      <td>0.084509</td>\n",
       "      <td>0.142853</td>\n",
       "      <td>0.196774</td>\n",
       "    </tr>\n",
       "    <tr>\n",
       "      <th>5400</th>\n",
       "      <td>0.122308</td>\n",
       "      <td>0.214089</td>\n",
       "      <td>0.052325</td>\n",
       "      <td>0.091460</td>\n",
       "      <td>0.102860</td>\n",
       "      <td>0.084615</td>\n",
       "      <td>0.219743</td>\n",
       "    </tr>\n",
       "  </tbody>\n",
       "</table>\n",
       "</div>"
      ],
      "text/plain": [
       "      Basic Materials  Financials  Consumer Services  Health Care  Utilities  \\\n",
       "540          0.237938    0.290896           0.168913     0.221155   0.129496   \n",
       "1080         0.095673    0.026834           0.125723     0.011031   0.104654   \n",
       "1620         0.107160    0.141756           0.233492     0.254492   0.636388   \n",
       "2160         0.294695    0.197886           0.122706     0.385376   0.205085   \n",
       "2700         0.269968    0.116018           0.308068     0.371273   0.238282   \n",
       "3240         0.144985    0.199808           0.132998     0.212263   0.058871   \n",
       "3780         0.208662    0.041249           0.088355     0.055319   0.148649   \n",
       "4320         0.133865    0.080710           0.167774     0.094971   0.056954   \n",
       "4860         0.071358    0.187431           0.291538     0.016148   0.084509   \n",
       "5400         0.122308    0.214089           0.052325     0.091460   0.102860   \n",
       "\n",
       "      Oil & Gas  Consumer Goods  \n",
       "540    0.289258        0.060225  \n",
       "1080   0.040729        0.055406  \n",
       "1620   0.056553        0.156158  \n",
       "2160   0.230528        0.417641  \n",
       "2700   0.070591        0.311161  \n",
       "3240   0.227055        0.210336  \n",
       "3780   0.129300        0.344918  \n",
       "4320   0.063473        0.117314  \n",
       "4860   0.142853        0.196774  \n",
       "5400   0.084615        0.219743  "
      ]
     },
     "execution_count": 48,
     "metadata": {},
     "output_type": "execute_result"
    }
   ],
   "source": [
    "df_industrials = pd.read_csv(\"./results/economic_results/comparison/length_Industrials.csv\", index_col=0)\n",
    "df_industrials"
   ]
  },
  {
   "cell_type": "code",
   "execution_count": null,
   "metadata": {},
   "outputs": [],
   "source": [
    "# DO NOT RUN IF YOU ALREADY HAVE THE PLOT\n",
    "\n",
    "num_rows = len(df_industrials.columns)\n",
    "num_cols = 1\n",
    "\n",
    "fig, axs = plt.subplots(num_rows, num_cols, figsize=(10, 25))\n",
    "\n",
    "for i, column in enumerate(df_industrials.columns):\n",
    "    label = str(f\"{column}\")\n",
    "    axs[i].scatter(df_industrials.index, df_industrials[column], label=label)\n",
    "\n",
    "    axs[i].legend(fontsize=13)\n",
    "    axs[i].set_ylabel(\"JS-div\", fontsize=14)\n",
    "\n",
    "    if i == num_rows - 1:\n",
    "        axs[i].set_xlabel(\"Length\", fontsize=14)\n",
    "\n",
    "fig.suptitle(\"Industrials\", fontsize=22)\n",
    "plt.subplots_adjust(top=0.96)\n",
    "\n",
    "plt.savefig(\n",
    "    f\"./results/economic_results/comparison/images/JS_div_different_lengths_Industrials.pdf\",\n",
    "    dpi=600,\n",
    "    bbox_inches=\"tight\",\n",
    ")\n",
    "\n",
    "plt.show()"
   ]
  },
  {
   "cell_type": "markdown",
   "metadata": {},
   "source": [
    "<a name=\"comparison_basic_materials\"></a>\n",
    "#### Comparison Basic Materials"
   ]
  },
  {
   "cell_type": "code",
   "execution_count": 50,
   "metadata": {},
   "outputs": [],
   "source": [
    "df__basic_materials = pd.DataFrame(\n",
    "    columns=[\n",
    "        \"Industrials\",\n",
    "        \"Financials\",\n",
    "        \"Consumer Services\",\n",
    "        \"Health Care\",\n",
    "        \"Utilities\",\n",
    "        \"Oil & Gas\",\n",
    "        \"Consumer Goods\",\n",
    "    ]\n",
    ")"
   ]
  },
  {
   "cell_type": "code",
   "execution_count": 51,
   "metadata": {},
   "outputs": [],
   "source": [
    "# DO NOT RUN IF YOU ALREADY HAVE THE DATAFRAME\n",
    "\n",
    "for length in lengths:\n",
    "    for target in [\"Basic Materials\"]:\n",
    "        other_sectors = [sector for sector in sectors if sector != target]\n",
    "\n",
    "        for i, sector in enumerate(other_sectors):\n",
    "            doinfo_one_sector = np.load(\n",
    "                f\"./results/economic_results/comparison/do_info/one_sector_{target}_length_{length}.npy\"\n",
    "            )\n",
    "            doinfo_two_sectors = np.load(\n",
    "                f\"./results/economic_results/comparison/do_info/two_sectors_{target}_{sector}_length_{length}.npy\"\n",
    "            )\n",
    "\n",
    "            df__basic_materials.at[length, sector] = JS_div(doinfo_one_sector, doinfo_two_sectors)\n",
    "            \n",
    "df__basic_materials.to_csv(\"./results/economic_results/comparison/length_Basic_Materials.csv\", index=True)"
   ]
  },
  {
   "cell_type": "code",
   "execution_count": 52,
   "metadata": {},
   "outputs": [
    {
     "data": {
      "text/html": [
       "<div>\n",
       "<style scoped>\n",
       "    .dataframe tbody tr th:only-of-type {\n",
       "        vertical-align: middle;\n",
       "    }\n",
       "\n",
       "    .dataframe tbody tr th {\n",
       "        vertical-align: top;\n",
       "    }\n",
       "\n",
       "    .dataframe thead th {\n",
       "        text-align: right;\n",
       "    }\n",
       "</style>\n",
       "<table border=\"1\" class=\"dataframe\">\n",
       "  <thead>\n",
       "    <tr style=\"text-align: right;\">\n",
       "      <th></th>\n",
       "      <th>Industrials</th>\n",
       "      <th>Financials</th>\n",
       "      <th>Consumer Services</th>\n",
       "      <th>Health Care</th>\n",
       "      <th>Utilities</th>\n",
       "      <th>Oil &amp; Gas</th>\n",
       "      <th>Consumer Goods</th>\n",
       "    </tr>\n",
       "  </thead>\n",
       "  <tbody>\n",
       "    <tr>\n",
       "      <th>540</th>\n",
       "      <td>0.081032</td>\n",
       "      <td>0.380973</td>\n",
       "      <td>0.075664</td>\n",
       "      <td>0.335837</td>\n",
       "      <td>0.334225</td>\n",
       "      <td>0.171204</td>\n",
       "      <td>0.021553</td>\n",
       "    </tr>\n",
       "    <tr>\n",
       "      <th>1080</th>\n",
       "      <td>0.138825</td>\n",
       "      <td>0.451077</td>\n",
       "      <td>0.357059</td>\n",
       "      <td>0.175163</td>\n",
       "      <td>0.123425</td>\n",
       "      <td>0.160751</td>\n",
       "      <td>0.308767</td>\n",
       "    </tr>\n",
       "    <tr>\n",
       "      <th>1620</th>\n",
       "      <td>0.191901</td>\n",
       "      <td>0.714645</td>\n",
       "      <td>0.269628</td>\n",
       "      <td>0.450079</td>\n",
       "      <td>0.077709</td>\n",
       "      <td>0.230037</td>\n",
       "      <td>0.206995</td>\n",
       "    </tr>\n",
       "    <tr>\n",
       "      <th>2160</th>\n",
       "      <td>0.084775</td>\n",
       "      <td>0.259075</td>\n",
       "      <td>0.206611</td>\n",
       "      <td>0.214672</td>\n",
       "      <td>0.135764</td>\n",
       "      <td>0.181673</td>\n",
       "      <td>0.126781</td>\n",
       "    </tr>\n",
       "    <tr>\n",
       "      <th>2700</th>\n",
       "      <td>0.096748</td>\n",
       "      <td>0.144451</td>\n",
       "      <td>0.070495</td>\n",
       "      <td>0.250676</td>\n",
       "      <td>0.190151</td>\n",
       "      <td>0.094814</td>\n",
       "      <td>0.157143</td>\n",
       "    </tr>\n",
       "    <tr>\n",
       "      <th>3240</th>\n",
       "      <td>0.057478</td>\n",
       "      <td>0.056536</td>\n",
       "      <td>0.054811</td>\n",
       "      <td>0.060867</td>\n",
       "      <td>0.092053</td>\n",
       "      <td>0.063125</td>\n",
       "      <td>0.060339</td>\n",
       "    </tr>\n",
       "    <tr>\n",
       "      <th>3780</th>\n",
       "      <td>0.106322</td>\n",
       "      <td>0.071975</td>\n",
       "      <td>0.121036</td>\n",
       "      <td>0.106352</td>\n",
       "      <td>0.119284</td>\n",
       "      <td>0.107669</td>\n",
       "      <td>0.183105</td>\n",
       "    </tr>\n",
       "    <tr>\n",
       "      <th>4320</th>\n",
       "      <td>0.081222</td>\n",
       "      <td>0.033977</td>\n",
       "      <td>0.035049</td>\n",
       "      <td>0.089541</td>\n",
       "      <td>0.137927</td>\n",
       "      <td>0.039365</td>\n",
       "      <td>0.168125</td>\n",
       "    </tr>\n",
       "    <tr>\n",
       "      <th>4860</th>\n",
       "      <td>0.067517</td>\n",
       "      <td>0.050158</td>\n",
       "      <td>0.011147</td>\n",
       "      <td>0.129689</td>\n",
       "      <td>0.129594</td>\n",
       "      <td>0.101590</td>\n",
       "      <td>0.201987</td>\n",
       "    </tr>\n",
       "    <tr>\n",
       "      <th>5400</th>\n",
       "      <td>0.138274</td>\n",
       "      <td>0.155638</td>\n",
       "      <td>0.044207</td>\n",
       "      <td>0.146545</td>\n",
       "      <td>0.053517</td>\n",
       "      <td>0.081695</td>\n",
       "      <td>0.184968</td>\n",
       "    </tr>\n",
       "  </tbody>\n",
       "</table>\n",
       "</div>"
      ],
      "text/plain": [
       "      Industrials  Financials  Consumer Services  Health Care  Utilities  \\\n",
       "540      0.081032    0.380973           0.075664     0.335837   0.334225   \n",
       "1080     0.138825    0.451077           0.357059     0.175163   0.123425   \n",
       "1620     0.191901    0.714645           0.269628     0.450079   0.077709   \n",
       "2160     0.084775    0.259075           0.206611     0.214672   0.135764   \n",
       "2700     0.096748    0.144451           0.070495     0.250676   0.190151   \n",
       "3240     0.057478    0.056536           0.054811     0.060867   0.092053   \n",
       "3780     0.106322    0.071975           0.121036     0.106352   0.119284   \n",
       "4320     0.081222    0.033977           0.035049     0.089541   0.137927   \n",
       "4860     0.067517    0.050158           0.011147     0.129689   0.129594   \n",
       "5400     0.138274    0.155638           0.044207     0.146545   0.053517   \n",
       "\n",
       "      Oil & Gas  Consumer Goods  \n",
       "540    0.171204        0.021553  \n",
       "1080   0.160751        0.308767  \n",
       "1620   0.230037        0.206995  \n",
       "2160   0.181673        0.126781  \n",
       "2700   0.094814        0.157143  \n",
       "3240   0.063125        0.060339  \n",
       "3780   0.107669        0.183105  \n",
       "4320   0.039365        0.168125  \n",
       "4860   0.101590        0.201987  \n",
       "5400   0.081695        0.184968  "
      ]
     },
     "execution_count": 52,
     "metadata": {},
     "output_type": "execute_result"
    }
   ],
   "source": [
    "df__basic_materials = pd.read_csv(\"./results/economic_results/comparison/length_Basic_Materials.csv\", index_col=0)\n",
    "df__basic_materials"
   ]
  },
  {
   "cell_type": "code",
   "execution_count": null,
   "metadata": {},
   "outputs": [],
   "source": [
    "# DO NOT RUN IF YOU ALREADY HAVE THE PLOT\n",
    "\n",
    "num_rows = len(df__basic_materials.columns)\n",
    "num_cols = 1\n",
    "\n",
    "fig, axs = plt.subplots(num_rows, num_cols, figsize=(10, 25))\n",
    "\n",
    "for i, column in enumerate(df__basic_materials.columns):\n",
    "    label = str(f\"{column}\")\n",
    "    axs[i].scatter(df__basic_materials.index, df__basic_materials[column], label=label)\n",
    "\n",
    "    axs[i].legend(fontsize=13)\n",
    "    axs[i].set_ylabel(\"JS-div\", fontsize=14)\n",
    "\n",
    "    if i == num_rows - 1:\n",
    "        axs[i].set_xlabel(\"Length\", fontsize=14)\n",
    "\n",
    "fig.suptitle(\"Basic Materials\", fontsize=22)\n",
    "plt.subplots_adjust(top=0.96)\n",
    "\n",
    "plt.savefig(\n",
    "    f\"./results/economic_results/comparison/images/JS_div_different_lengths_Basic_Materials.pdf\",\n",
    "    dpi=600,\n",
    "    bbox_inches=\"tight\",\n",
    ")\n",
    "\n",
    "plt.show()"
   ]
  },
  {
   "cell_type": "markdown",
   "metadata": {},
   "source": [
    "<a name=\"comparison_financials\"></a>\n",
    "#### Comparison Financials"
   ]
  },
  {
   "cell_type": "code",
   "execution_count": 54,
   "metadata": {},
   "outputs": [],
   "source": [
    "df_financials = pd.DataFrame(\n",
    "    columns=[\n",
    "        \"Industrials\",\n",
    "        \"Basic Materials\",\n",
    "        \"Consumer Services\",\n",
    "        \"Health Care\",\n",
    "        \"Utilities\",\n",
    "        \"Oil & Gas\",\n",
    "        \"Consumer Goods\",\n",
    "    ]\n",
    ")"
   ]
  },
  {
   "cell_type": "code",
   "execution_count": 55,
   "metadata": {},
   "outputs": [],
   "source": [
    "# DO NOT RUN IF YOU ALREADY HAVE THE DATAFRAME\n",
    "\n",
    "for length in lengths:\n",
    "    for target in [\"Financials\"]:\n",
    "        other_sectors = [sector for sector in sectors if sector != target]\n",
    "\n",
    "        for i, sector in enumerate(other_sectors):\n",
    "            doinfo_one_sector = np.load(\n",
    "                f\"./results/economic_results/comparison/do_info/one_sector_{target}_length_{length}.npy\"\n",
    "            )\n",
    "            doinfo_two_sectors = np.load(\n",
    "                f\"./results/economic_results/comparison/do_info/two_sectors_{target}_{sector}_length_{length}.npy\"\n",
    "            )\n",
    "\n",
    "            df_financials.at[length, sector] = JS_div(doinfo_one_sector, doinfo_two_sectors)\n",
    "\n",
    "df_financials.to_csv(\"./results/economic_results/comparison/length_Financial.csv\", index=True)"
   ]
  },
  {
   "cell_type": "code",
   "execution_count": 56,
   "metadata": {
    "scrolled": false
   },
   "outputs": [
    {
     "data": {
      "text/html": [
       "<div>\n",
       "<style scoped>\n",
       "    .dataframe tbody tr th:only-of-type {\n",
       "        vertical-align: middle;\n",
       "    }\n",
       "\n",
       "    .dataframe tbody tr th {\n",
       "        vertical-align: top;\n",
       "    }\n",
       "\n",
       "    .dataframe thead th {\n",
       "        text-align: right;\n",
       "    }\n",
       "</style>\n",
       "<table border=\"1\" class=\"dataframe\">\n",
       "  <thead>\n",
       "    <tr style=\"text-align: right;\">\n",
       "      <th></th>\n",
       "      <th>Industrials</th>\n",
       "      <th>Basic Materials</th>\n",
       "      <th>Consumer Services</th>\n",
       "      <th>Health Care</th>\n",
       "      <th>Utilities</th>\n",
       "      <th>Oil &amp; Gas</th>\n",
       "      <th>Consumer Goods</th>\n",
       "    </tr>\n",
       "  </thead>\n",
       "  <tbody>\n",
       "    <tr>\n",
       "      <th>540</th>\n",
       "      <td>0.111597</td>\n",
       "      <td>0.025476</td>\n",
       "      <td>0.257380</td>\n",
       "      <td>0.035097</td>\n",
       "      <td>0.053989</td>\n",
       "      <td>0.107796</td>\n",
       "      <td>0.014552</td>\n",
       "    </tr>\n",
       "    <tr>\n",
       "      <th>1080</th>\n",
       "      <td>0.015624</td>\n",
       "      <td>0.116758</td>\n",
       "      <td>0.178022</td>\n",
       "      <td>0.404487</td>\n",
       "      <td>0.330720</td>\n",
       "      <td>0.078032</td>\n",
       "      <td>0.317233</td>\n",
       "    </tr>\n",
       "    <tr>\n",
       "      <th>1620</th>\n",
       "      <td>0.176130</td>\n",
       "      <td>0.062804</td>\n",
       "      <td>0.171156</td>\n",
       "      <td>0.157000</td>\n",
       "      <td>0.047999</td>\n",
       "      <td>0.043958</td>\n",
       "      <td>0.048653</td>\n",
       "    </tr>\n",
       "    <tr>\n",
       "      <th>2160</th>\n",
       "      <td>0.267727</td>\n",
       "      <td>0.360247</td>\n",
       "      <td>0.112119</td>\n",
       "      <td>0.090785</td>\n",
       "      <td>0.016171</td>\n",
       "      <td>0.198487</td>\n",
       "      <td>0.154970</td>\n",
       "    </tr>\n",
       "    <tr>\n",
       "      <th>2700</th>\n",
       "      <td>0.056859</td>\n",
       "      <td>0.097640</td>\n",
       "      <td>0.037793</td>\n",
       "      <td>0.082591</td>\n",
       "      <td>0.283933</td>\n",
       "      <td>0.089403</td>\n",
       "      <td>0.415097</td>\n",
       "    </tr>\n",
       "    <tr>\n",
       "      <th>3240</th>\n",
       "      <td>0.154243</td>\n",
       "      <td>0.148640</td>\n",
       "      <td>0.215709</td>\n",
       "      <td>0.158072</td>\n",
       "      <td>0.255872</td>\n",
       "      <td>0.878518</td>\n",
       "      <td>0.542141</td>\n",
       "    </tr>\n",
       "    <tr>\n",
       "      <th>3780</th>\n",
       "      <td>0.083985</td>\n",
       "      <td>0.133829</td>\n",
       "      <td>0.322500</td>\n",
       "      <td>0.047333</td>\n",
       "      <td>0.088753</td>\n",
       "      <td>0.146895</td>\n",
       "      <td>0.090804</td>\n",
       "    </tr>\n",
       "    <tr>\n",
       "      <th>4320</th>\n",
       "      <td>0.210367</td>\n",
       "      <td>0.085035</td>\n",
       "      <td>0.048304</td>\n",
       "      <td>0.704780</td>\n",
       "      <td>0.073263</td>\n",
       "      <td>0.205932</td>\n",
       "      <td>0.124943</td>\n",
       "    </tr>\n",
       "    <tr>\n",
       "      <th>4860</th>\n",
       "      <td>0.117822</td>\n",
       "      <td>0.163170</td>\n",
       "      <td>0.298634</td>\n",
       "      <td>0.242723</td>\n",
       "      <td>0.136402</td>\n",
       "      <td>0.228321</td>\n",
       "      <td>0.190445</td>\n",
       "    </tr>\n",
       "    <tr>\n",
       "      <th>5400</th>\n",
       "      <td>0.297841</td>\n",
       "      <td>0.134393</td>\n",
       "      <td>0.587818</td>\n",
       "      <td>0.111515</td>\n",
       "      <td>0.014164</td>\n",
       "      <td>0.274718</td>\n",
       "      <td>0.458693</td>\n",
       "    </tr>\n",
       "  </tbody>\n",
       "</table>\n",
       "</div>"
      ],
      "text/plain": [
       "      Industrials  Basic Materials  Consumer Services  Health Care  Utilities  \\\n",
       "540      0.111597         0.025476           0.257380     0.035097   0.053989   \n",
       "1080     0.015624         0.116758           0.178022     0.404487   0.330720   \n",
       "1620     0.176130         0.062804           0.171156     0.157000   0.047999   \n",
       "2160     0.267727         0.360247           0.112119     0.090785   0.016171   \n",
       "2700     0.056859         0.097640           0.037793     0.082591   0.283933   \n",
       "3240     0.154243         0.148640           0.215709     0.158072   0.255872   \n",
       "3780     0.083985         0.133829           0.322500     0.047333   0.088753   \n",
       "4320     0.210367         0.085035           0.048304     0.704780   0.073263   \n",
       "4860     0.117822         0.163170           0.298634     0.242723   0.136402   \n",
       "5400     0.297841         0.134393           0.587818     0.111515   0.014164   \n",
       "\n",
       "      Oil & Gas  Consumer Goods  \n",
       "540    0.107796        0.014552  \n",
       "1080   0.078032        0.317233  \n",
       "1620   0.043958        0.048653  \n",
       "2160   0.198487        0.154970  \n",
       "2700   0.089403        0.415097  \n",
       "3240   0.878518        0.542141  \n",
       "3780   0.146895        0.090804  \n",
       "4320   0.205932        0.124943  \n",
       "4860   0.228321        0.190445  \n",
       "5400   0.274718        0.458693  "
      ]
     },
     "execution_count": 56,
     "metadata": {},
     "output_type": "execute_result"
    }
   ],
   "source": [
    "df_financials = pd.read_csv(\"./results/economic_results/comparison/length_Financial.csv\", index_col=0)\n",
    "df_financials"
   ]
  },
  {
   "cell_type": "code",
   "execution_count": null,
   "metadata": {
    "scrolled": true
   },
   "outputs": [],
   "source": [
    "# DO NOT RUN IF YOU ALREADY HAVE THE PLOT\n",
    "\n",
    "num_rows = len(df_financials.columns)\n",
    "num_cols = 1\n",
    "\n",
    "fig, axs = plt.subplots(num_rows, num_cols, figsize=(10, 25))\n",
    "\n",
    "for i, column in enumerate(df_financials.columns):\n",
    "    label = str(f\"{column}\")\n",
    "    axs[i].scatter(df_financials.index, df_financials[column], label=label)\n",
    "\n",
    "    axs[i].legend(fontsize=13)\n",
    "    axs[i].set_ylabel(\"JS-div\", fontsize=14)\n",
    "\n",
    "    if i == num_rows - 1:\n",
    "        axs[i].set_xlabel(\"Length\", fontsize=14)\n",
    "\n",
    "fig.suptitle(\"Financials\", fontsize=22)\n",
    "plt.subplots_adjust(top=0.96)\n",
    "\n",
    "plt.savefig(\n",
    "    f\"./results/economic_results/comparison/images/JS_div_different_lengths_Financials.pdf\",\n",
    "    dpi=600,\n",
    "    bbox_inches=\"tight\",\n",
    ")\n",
    "\n",
    "plt.show()"
   ]
  },
  {
   "cell_type": "markdown",
   "metadata": {},
   "source": [
    "<a name=\"comparison_consumer_services\"></a>\n",
    "#### Comparison Consumer Services"
   ]
  },
  {
   "cell_type": "code",
   "execution_count": 58,
   "metadata": {},
   "outputs": [],
   "source": [
    "df_consumer_services = pd.DataFrame(\n",
    "    columns=[\n",
    "        \"Industrials\",\n",
    "        \"Basic Materials\",\n",
    "        \"Financials\",\n",
    "        \"Health Care\",\n",
    "        \"Utilities\",\n",
    "        \"Oil & Gas\",\n",
    "        \"Consumer Goods\",\n",
    "    ]\n",
    ")"
   ]
  },
  {
   "cell_type": "code",
   "execution_count": 59,
   "metadata": {},
   "outputs": [],
   "source": [
    "# DO NOT RUN IF YOU ALREADY HAVE THE DATAFRAME\n",
    "\n",
    "for length in lengths:\n",
    "    for target in [\"Consumer Services\"]:\n",
    "        other_sectors = [sector for sector in sectors if sector != target]\n",
    "\n",
    "        for i, sector in enumerate(other_sectors):\n",
    "            doinfo_one_sector = np.load(\n",
    "                f\"./results/economic_results/comparison/do_info/one_sector_{target}_length_{length}.npy\"\n",
    "            )\n",
    "            doinfo_two_sectors = np.load(\n",
    "                f\"./results/economic_results/comparison/do_info/two_sectors_{target}_{sector}_length_{length}.npy\"\n",
    "            )\n",
    "\n",
    "            df_consumer_services.at[length, sector] = JS_div(doinfo_one_sector, doinfo_two_sectors)\n",
    "            \n",
    "df_consumer_services.to_csv(\"./results/economic_results/comparison/length_Consumer_Services.csv\", index=True)"
   ]
  },
  {
   "cell_type": "code",
   "execution_count": 60,
   "metadata": {},
   "outputs": [
    {
     "data": {
      "text/html": [
       "<div>\n",
       "<style scoped>\n",
       "    .dataframe tbody tr th:only-of-type {\n",
       "        vertical-align: middle;\n",
       "    }\n",
       "\n",
       "    .dataframe tbody tr th {\n",
       "        vertical-align: top;\n",
       "    }\n",
       "\n",
       "    .dataframe thead th {\n",
       "        text-align: right;\n",
       "    }\n",
       "</style>\n",
       "<table border=\"1\" class=\"dataframe\">\n",
       "  <thead>\n",
       "    <tr style=\"text-align: right;\">\n",
       "      <th></th>\n",
       "      <th>Industrials</th>\n",
       "      <th>Basic Materials</th>\n",
       "      <th>Financials</th>\n",
       "      <th>Health Care</th>\n",
       "      <th>Utilities</th>\n",
       "      <th>Oil &amp; Gas</th>\n",
       "      <th>Consumer Goods</th>\n",
       "    </tr>\n",
       "  </thead>\n",
       "  <tbody>\n",
       "    <tr>\n",
       "      <th>540</th>\n",
       "      <td>1.246342</td>\n",
       "      <td>0.179371</td>\n",
       "      <td>0.316239</td>\n",
       "      <td>0.184459</td>\n",
       "      <td>0.588726</td>\n",
       "      <td>0.112430</td>\n",
       "      <td>0.162135</td>\n",
       "    </tr>\n",
       "    <tr>\n",
       "      <th>1080</th>\n",
       "      <td>0.096979</td>\n",
       "      <td>0.613024</td>\n",
       "      <td>0.162935</td>\n",
       "      <td>0.060288</td>\n",
       "      <td>0.021314</td>\n",
       "      <td>0.057559</td>\n",
       "      <td>0.305761</td>\n",
       "    </tr>\n",
       "    <tr>\n",
       "      <th>1620</th>\n",
       "      <td>0.055757</td>\n",
       "      <td>0.082892</td>\n",
       "      <td>0.112827</td>\n",
       "      <td>0.224105</td>\n",
       "      <td>0.112743</td>\n",
       "      <td>0.064794</td>\n",
       "      <td>0.113191</td>\n",
       "    </tr>\n",
       "    <tr>\n",
       "      <th>2160</th>\n",
       "      <td>0.160509</td>\n",
       "      <td>0.036899</td>\n",
       "      <td>0.137742</td>\n",
       "      <td>0.134081</td>\n",
       "      <td>0.070987</td>\n",
       "      <td>0.058460</td>\n",
       "      <td>0.161789</td>\n",
       "    </tr>\n",
       "    <tr>\n",
       "      <th>2700</th>\n",
       "      <td>0.197348</td>\n",
       "      <td>0.349489</td>\n",
       "      <td>0.143480</td>\n",
       "      <td>0.139099</td>\n",
       "      <td>0.079083</td>\n",
       "      <td>0.095869</td>\n",
       "      <td>0.136427</td>\n",
       "    </tr>\n",
       "    <tr>\n",
       "      <th>3240</th>\n",
       "      <td>0.492346</td>\n",
       "      <td>0.875921</td>\n",
       "      <td>0.444437</td>\n",
       "      <td>0.136206</td>\n",
       "      <td>0.062121</td>\n",
       "      <td>0.032191</td>\n",
       "      <td>0.332223</td>\n",
       "    </tr>\n",
       "    <tr>\n",
       "      <th>3780</th>\n",
       "      <td>0.057287</td>\n",
       "      <td>0.085243</td>\n",
       "      <td>0.154287</td>\n",
       "      <td>0.113722</td>\n",
       "      <td>0.169207</td>\n",
       "      <td>0.145915</td>\n",
       "      <td>0.125489</td>\n",
       "    </tr>\n",
       "    <tr>\n",
       "      <th>4320</th>\n",
       "      <td>0.230512</td>\n",
       "      <td>0.146738</td>\n",
       "      <td>0.166253</td>\n",
       "      <td>0.710403</td>\n",
       "      <td>0.037580</td>\n",
       "      <td>0.132394</td>\n",
       "      <td>0.154590</td>\n",
       "    </tr>\n",
       "    <tr>\n",
       "      <th>4860</th>\n",
       "      <td>0.045215</td>\n",
       "      <td>0.117906</td>\n",
       "      <td>0.118461</td>\n",
       "      <td>0.055461</td>\n",
       "      <td>0.191958</td>\n",
       "      <td>0.163717</td>\n",
       "      <td>0.084087</td>\n",
       "    </tr>\n",
       "    <tr>\n",
       "      <th>5400</th>\n",
       "      <td>0.251773</td>\n",
       "      <td>0.058521</td>\n",
       "      <td>0.158145</td>\n",
       "      <td>0.095770</td>\n",
       "      <td>0.090858</td>\n",
       "      <td>0.057751</td>\n",
       "      <td>0.215983</td>\n",
       "    </tr>\n",
       "  </tbody>\n",
       "</table>\n",
       "</div>"
      ],
      "text/plain": [
       "      Industrials  Basic Materials  Financials  Health Care  Utilities  \\\n",
       "540      1.246342         0.179371    0.316239     0.184459   0.588726   \n",
       "1080     0.096979         0.613024    0.162935     0.060288   0.021314   \n",
       "1620     0.055757         0.082892    0.112827     0.224105   0.112743   \n",
       "2160     0.160509         0.036899    0.137742     0.134081   0.070987   \n",
       "2700     0.197348         0.349489    0.143480     0.139099   0.079083   \n",
       "3240     0.492346         0.875921    0.444437     0.136206   0.062121   \n",
       "3780     0.057287         0.085243    0.154287     0.113722   0.169207   \n",
       "4320     0.230512         0.146738    0.166253     0.710403   0.037580   \n",
       "4860     0.045215         0.117906    0.118461     0.055461   0.191958   \n",
       "5400     0.251773         0.058521    0.158145     0.095770   0.090858   \n",
       "\n",
       "      Oil & Gas  Consumer Goods  \n",
       "540    0.112430        0.162135  \n",
       "1080   0.057559        0.305761  \n",
       "1620   0.064794        0.113191  \n",
       "2160   0.058460        0.161789  \n",
       "2700   0.095869        0.136427  \n",
       "3240   0.032191        0.332223  \n",
       "3780   0.145915        0.125489  \n",
       "4320   0.132394        0.154590  \n",
       "4860   0.163717        0.084087  \n",
       "5400   0.057751        0.215983  "
      ]
     },
     "execution_count": 60,
     "metadata": {},
     "output_type": "execute_result"
    }
   ],
   "source": [
    "df_consumer_services = pd.read_csv(\"./results/economic_results/comparison/length_Consumer_Services.csv\", index_col=0)\n",
    "df_consumer_services"
   ]
  },
  {
   "cell_type": "code",
   "execution_count": null,
   "metadata": {},
   "outputs": [],
   "source": [
    "# DO NOT RUN IF YOU ALREADY HAVE THE PLOT\n",
    "\n",
    "num_rows = len(df_consumer_services.columns)\n",
    "num_cols = 1\n",
    "\n",
    "fig, axs = plt.subplots(num_rows, num_cols, figsize=(10, 25))\n",
    "\n",
    "for i, column in enumerate(df_consumer_services.columns):\n",
    "    label = str(f\"{column}\")\n",
    "    axs[i].scatter(df_consumer_services.index, df_consumer_services[column], label=label)\n",
    "\n",
    "    axs[i].legend(fontsize=13)\n",
    "    axs[i].set_ylabel(\"JS-div\", fontsize=14)\n",
    "\n",
    "    if i == num_rows - 1:\n",
    "        axs[i].set_xlabel(\"Length\", fontsize=14)\n",
    "\n",
    "fig.suptitle(\"Consumer Services\", fontsize=22)\n",
    "plt.subplots_adjust(top=0.96)\n",
    "\n",
    "plt.savefig(\n",
    "    f\"./results/economic_results/comparison/images/JS_div_different_lengths_Consumer_Services.pdf\",\n",
    "    dpi=600,\n",
    "    bbox_inches=\"tight\",\n",
    ")\n",
    "\n",
    "plt.show()"
   ]
  },
  {
   "cell_type": "markdown",
   "metadata": {},
   "source": [
    "<a name=\"comparison_health_care\"></a>\n",
    "#### Comparison Health Care"
   ]
  },
  {
   "cell_type": "code",
   "execution_count": 62,
   "metadata": {},
   "outputs": [],
   "source": [
    "df_health_care = pd.DataFrame(\n",
    "    columns=[\n",
    "        \"Industrials\",\n",
    "        \"Basic Materials\",\n",
    "        \"Financials\",\n",
    "        \"Consumer Services\",\n",
    "        \"Utilities\",\n",
    "        \"Oil & Gas\",\n",
    "        \"Consumer Goods\",\n",
    "    ]\n",
    ")"
   ]
  },
  {
   "cell_type": "code",
   "execution_count": 63,
   "metadata": {},
   "outputs": [],
   "source": [
    "# DO NOT RUN IF YOU ALREADY HAVE THE DATAFRAME\n",
    "\n",
    "for length in lengths:\n",
    "    for target in [\"Health Care\"]:\n",
    "        other_sectors = [sector for sector in sectors if sector != target]\n",
    "\n",
    "        for i, sector in enumerate(other_sectors):\n",
    "            doinfo_one_sector = np.load(\n",
    "                f\"./results/economic_results/comparison/do_info/one_sector_{target}_length_{length}.npy\"\n",
    "            )\n",
    "            doinfo_two_sectors = np.load(\n",
    "                f\"./results/economic_results/comparison/do_info/two_sectors_{target}_{sector}_length_{length}.npy\"\n",
    "            )\n",
    "\n",
    "            df_health_care.at[length, sector] = JS_div(doinfo_one_sector, doinfo_two_sectors)\n",
    "            \n",
    "df_health_care.to_csv(\"./results/economic_results/comparison/length_Health_Care.csv\", index=True)"
   ]
  },
  {
   "cell_type": "code",
   "execution_count": 64,
   "metadata": {},
   "outputs": [
    {
     "data": {
      "text/html": [
       "<div>\n",
       "<style scoped>\n",
       "    .dataframe tbody tr th:only-of-type {\n",
       "        vertical-align: middle;\n",
       "    }\n",
       "\n",
       "    .dataframe tbody tr th {\n",
       "        vertical-align: top;\n",
       "    }\n",
       "\n",
       "    .dataframe thead th {\n",
       "        text-align: right;\n",
       "    }\n",
       "</style>\n",
       "<table border=\"1\" class=\"dataframe\">\n",
       "  <thead>\n",
       "    <tr style=\"text-align: right;\">\n",
       "      <th></th>\n",
       "      <th>Industrials</th>\n",
       "      <th>Basic Materials</th>\n",
       "      <th>Financials</th>\n",
       "      <th>Consumer Services</th>\n",
       "      <th>Utilities</th>\n",
       "      <th>Oil &amp; Gas</th>\n",
       "      <th>Consumer Goods</th>\n",
       "    </tr>\n",
       "  </thead>\n",
       "  <tbody>\n",
       "    <tr>\n",
       "      <th>540</th>\n",
       "      <td>0.101304</td>\n",
       "      <td>0.284673</td>\n",
       "      <td>0.104652</td>\n",
       "      <td>0.088483</td>\n",
       "      <td>0.150381</td>\n",
       "      <td>0.194953</td>\n",
       "      <td>0.135158</td>\n",
       "    </tr>\n",
       "    <tr>\n",
       "      <th>1080</th>\n",
       "      <td>0.418981</td>\n",
       "      <td>0.437179</td>\n",
       "      <td>0.016498</td>\n",
       "      <td>0.175799</td>\n",
       "      <td>0.118674</td>\n",
       "      <td>0.132400</td>\n",
       "      <td>0.276593</td>\n",
       "    </tr>\n",
       "    <tr>\n",
       "      <th>1620</th>\n",
       "      <td>0.218921</td>\n",
       "      <td>0.361210</td>\n",
       "      <td>0.308763</td>\n",
       "      <td>0.529758</td>\n",
       "      <td>0.047251</td>\n",
       "      <td>0.325215</td>\n",
       "      <td>0.318497</td>\n",
       "    </tr>\n",
       "    <tr>\n",
       "      <th>2160</th>\n",
       "      <td>0.158084</td>\n",
       "      <td>0.115810</td>\n",
       "      <td>0.382182</td>\n",
       "      <td>0.091618</td>\n",
       "      <td>0.100715</td>\n",
       "      <td>0.037131</td>\n",
       "      <td>0.061156</td>\n",
       "    </tr>\n",
       "    <tr>\n",
       "      <th>2700</th>\n",
       "      <td>0.050651</td>\n",
       "      <td>0.101401</td>\n",
       "      <td>0.076487</td>\n",
       "      <td>0.216035</td>\n",
       "      <td>0.079241</td>\n",
       "      <td>0.025457</td>\n",
       "      <td>0.109977</td>\n",
       "    </tr>\n",
       "    <tr>\n",
       "      <th>3240</th>\n",
       "      <td>0.191300</td>\n",
       "      <td>0.056427</td>\n",
       "      <td>0.165446</td>\n",
       "      <td>0.221082</td>\n",
       "      <td>0.450306</td>\n",
       "      <td>0.032946</td>\n",
       "      <td>0.139740</td>\n",
       "    </tr>\n",
       "    <tr>\n",
       "      <th>3780</th>\n",
       "      <td>0.667763</td>\n",
       "      <td>0.026498</td>\n",
       "      <td>0.247510</td>\n",
       "      <td>0.068005</td>\n",
       "      <td>0.092030</td>\n",
       "      <td>0.199079</td>\n",
       "      <td>0.375863</td>\n",
       "    </tr>\n",
       "    <tr>\n",
       "      <th>4320</th>\n",
       "      <td>0.069693</td>\n",
       "      <td>0.125931</td>\n",
       "      <td>0.040633</td>\n",
       "      <td>0.296324</td>\n",
       "      <td>0.216360</td>\n",
       "      <td>0.143094</td>\n",
       "      <td>0.271087</td>\n",
       "    </tr>\n",
       "    <tr>\n",
       "      <th>4860</th>\n",
       "      <td>0.064865</td>\n",
       "      <td>0.172484</td>\n",
       "      <td>0.085089</td>\n",
       "      <td>0.305929</td>\n",
       "      <td>0.251835</td>\n",
       "      <td>0.421121</td>\n",
       "      <td>0.006832</td>\n",
       "    </tr>\n",
       "    <tr>\n",
       "      <th>5400</th>\n",
       "      <td>0.272321</td>\n",
       "      <td>0.122780</td>\n",
       "      <td>0.293127</td>\n",
       "      <td>0.034621</td>\n",
       "      <td>0.805321</td>\n",
       "      <td>0.067858</td>\n",
       "      <td>0.565578</td>\n",
       "    </tr>\n",
       "  </tbody>\n",
       "</table>\n",
       "</div>"
      ],
      "text/plain": [
       "      Industrials  Basic Materials  Financials  Consumer Services  Utilities  \\\n",
       "540      0.101304         0.284673    0.104652           0.088483   0.150381   \n",
       "1080     0.418981         0.437179    0.016498           0.175799   0.118674   \n",
       "1620     0.218921         0.361210    0.308763           0.529758   0.047251   \n",
       "2160     0.158084         0.115810    0.382182           0.091618   0.100715   \n",
       "2700     0.050651         0.101401    0.076487           0.216035   0.079241   \n",
       "3240     0.191300         0.056427    0.165446           0.221082   0.450306   \n",
       "3780     0.667763         0.026498    0.247510           0.068005   0.092030   \n",
       "4320     0.069693         0.125931    0.040633           0.296324   0.216360   \n",
       "4860     0.064865         0.172484    0.085089           0.305929   0.251835   \n",
       "5400     0.272321         0.122780    0.293127           0.034621   0.805321   \n",
       "\n",
       "      Oil & Gas  Consumer Goods  \n",
       "540    0.194953        0.135158  \n",
       "1080   0.132400        0.276593  \n",
       "1620   0.325215        0.318497  \n",
       "2160   0.037131        0.061156  \n",
       "2700   0.025457        0.109977  \n",
       "3240   0.032946        0.139740  \n",
       "3780   0.199079        0.375863  \n",
       "4320   0.143094        0.271087  \n",
       "4860   0.421121        0.006832  \n",
       "5400   0.067858        0.565578  "
      ]
     },
     "execution_count": 64,
     "metadata": {},
     "output_type": "execute_result"
    }
   ],
   "source": [
    "df_health_care = pd.read_csv(\"./results/economic_results/comparison/length_Health_Care.csv\", index_col=0)\n",
    "df_health_care"
   ]
  },
  {
   "cell_type": "code",
   "execution_count": null,
   "metadata": {},
   "outputs": [],
   "source": [
    "# DO NOT RUN IF YOU ALREADY HAVE THE PLOT\n",
    "\n",
    "num_rows = len(df_health_care.columns)\n",
    "num_cols = 1\n",
    "\n",
    "fig, axs = plt.subplots(num_rows, num_cols, figsize=(10, 25))\n",
    "\n",
    "for i, column in enumerate(df_health_care.columns):\n",
    "    label = str(f\"{column}\")\n",
    "    axs[i].scatter(df_health_care.index, df_health_care[column], label=label)\n",
    "\n",
    "    axs[i].legend(fontsize=13)\n",
    "    axs[i].set_ylabel(\"JS-div\", fontsize=14)\n",
    "\n",
    "    if i == num_rows - 1:\n",
    "        axs[i].set_xlabel(\"Length\", fontsize=14)\n",
    "\n",
    "fig.suptitle(\"Health Care\", fontsize=22)\n",
    "plt.subplots_adjust(top=0.96)\n",
    "\n",
    "plt.savefig(\n",
    "    f\"./results/economic_results/comparison/images/JS_div_different_lengths_Health_Care.pdf\",\n",
    "    dpi=600,\n",
    "    bbox_inches=\"tight\",\n",
    ")\n",
    "\n",
    "plt.show()"
   ]
  },
  {
   "cell_type": "markdown",
   "metadata": {},
   "source": [
    "<a name=\"comparison_utilities\"></a>\n",
    "#### Comparison Utilities"
   ]
  },
  {
   "cell_type": "code",
   "execution_count": 66,
   "metadata": {},
   "outputs": [],
   "source": [
    "df_utilities = pd.DataFrame(\n",
    "    columns=[\n",
    "        \"Industrials\",\n",
    "        \"Basic Materials\",\n",
    "        \"Financials\",\n",
    "        \"Consumer Services\",\n",
    "        \"Health Care\",\n",
    "        \"Oil & Gas\",\n",
    "        \"Consumer Goods\",\n",
    "    ]\n",
    ")"
   ]
  },
  {
   "cell_type": "code",
   "execution_count": 67,
   "metadata": {},
   "outputs": [],
   "source": [
    "# DO NOT RUN IF YOU ALREADY HAVE THE DATAFRAME\n",
    "\n",
    "for length in lengths:\n",
    "    for target in [\"Utilities\"]:\n",
    "        other_sectors = [sector for sector in sectors if sector != target]\n",
    "\n",
    "        for i, sector in enumerate(other_sectors):\n",
    "            doinfo_one_sector = np.load(\n",
    "                f\"./results/economic_results/comparison/do_info/one_sector_{target}_length_{length}.npy\"\n",
    "            )\n",
    "            doinfo_two_sectors = np.load(\n",
    "                f\"./results/economic_results/comparison/do_info/two_sectors_{target}_{sector}_length_{length}.npy\"\n",
    "            )\n",
    "\n",
    "            df_utilities.at[length, sector] = JS_div(doinfo_one_sector, doinfo_two_sectors)\n",
    "            \n",
    "df_utilities.to_csv(\"./results/economic_results/comparison/length_Utilities.csv\", index=True)"
   ]
  },
  {
   "cell_type": "code",
   "execution_count": 68,
   "metadata": {},
   "outputs": [
    {
     "data": {
      "text/html": [
       "<div>\n",
       "<style scoped>\n",
       "    .dataframe tbody tr th:only-of-type {\n",
       "        vertical-align: middle;\n",
       "    }\n",
       "\n",
       "    .dataframe tbody tr th {\n",
       "        vertical-align: top;\n",
       "    }\n",
       "\n",
       "    .dataframe thead th {\n",
       "        text-align: right;\n",
       "    }\n",
       "</style>\n",
       "<table border=\"1\" class=\"dataframe\">\n",
       "  <thead>\n",
       "    <tr style=\"text-align: right;\">\n",
       "      <th></th>\n",
       "      <th>Industrials</th>\n",
       "      <th>Basic Materials</th>\n",
       "      <th>Financials</th>\n",
       "      <th>Consumer Services</th>\n",
       "      <th>Health Care</th>\n",
       "      <th>Oil &amp; Gas</th>\n",
       "      <th>Consumer Goods</th>\n",
       "    </tr>\n",
       "  </thead>\n",
       "  <tbody>\n",
       "    <tr>\n",
       "      <th>540</th>\n",
       "      <td>0.122809</td>\n",
       "      <td>0.175325</td>\n",
       "      <td>0.043810</td>\n",
       "      <td>0.069035</td>\n",
       "      <td>0.244016</td>\n",
       "      <td>0.257514</td>\n",
       "      <td>0.176680</td>\n",
       "    </tr>\n",
       "    <tr>\n",
       "      <th>1080</th>\n",
       "      <td>0.138993</td>\n",
       "      <td>0.353341</td>\n",
       "      <td>0.196876</td>\n",
       "      <td>0.122209</td>\n",
       "      <td>0.041759</td>\n",
       "      <td>0.174350</td>\n",
       "      <td>0.166150</td>\n",
       "    </tr>\n",
       "    <tr>\n",
       "      <th>1620</th>\n",
       "      <td>0.251628</td>\n",
       "      <td>0.263643</td>\n",
       "      <td>0.732662</td>\n",
       "      <td>0.142729</td>\n",
       "      <td>0.262115</td>\n",
       "      <td>0.203304</td>\n",
       "      <td>0.269672</td>\n",
       "    </tr>\n",
       "    <tr>\n",
       "      <th>2160</th>\n",
       "      <td>0.091617</td>\n",
       "      <td>0.158802</td>\n",
       "      <td>0.506709</td>\n",
       "      <td>0.675205</td>\n",
       "      <td>0.204253</td>\n",
       "      <td>0.223722</td>\n",
       "      <td>0.391948</td>\n",
       "    </tr>\n",
       "    <tr>\n",
       "      <th>2700</th>\n",
       "      <td>0.133270</td>\n",
       "      <td>0.138424</td>\n",
       "      <td>0.166786</td>\n",
       "      <td>0.327488</td>\n",
       "      <td>0.071730</td>\n",
       "      <td>0.128444</td>\n",
       "      <td>0.167022</td>\n",
       "    </tr>\n",
       "    <tr>\n",
       "      <th>3240</th>\n",
       "      <td>0.099565</td>\n",
       "      <td>0.114888</td>\n",
       "      <td>0.250475</td>\n",
       "      <td>0.449826</td>\n",
       "      <td>0.216596</td>\n",
       "      <td>0.135650</td>\n",
       "      <td>0.134679</td>\n",
       "    </tr>\n",
       "    <tr>\n",
       "      <th>3780</th>\n",
       "      <td>0.081339</td>\n",
       "      <td>0.310872</td>\n",
       "      <td>0.070804</td>\n",
       "      <td>0.216966</td>\n",
       "      <td>0.322694</td>\n",
       "      <td>0.074584</td>\n",
       "      <td>0.130843</td>\n",
       "    </tr>\n",
       "    <tr>\n",
       "      <th>4320</th>\n",
       "      <td>0.080093</td>\n",
       "      <td>0.242689</td>\n",
       "      <td>0.132279</td>\n",
       "      <td>0.023848</td>\n",
       "      <td>0.097610</td>\n",
       "      <td>0.066710</td>\n",
       "      <td>0.086938</td>\n",
       "    </tr>\n",
       "    <tr>\n",
       "      <th>4860</th>\n",
       "      <td>0.068947</td>\n",
       "      <td>0.292181</td>\n",
       "      <td>0.047773</td>\n",
       "      <td>0.560268</td>\n",
       "      <td>0.231073</td>\n",
       "      <td>0.037077</td>\n",
       "      <td>0.031570</td>\n",
       "    </tr>\n",
       "    <tr>\n",
       "      <th>5400</th>\n",
       "      <td>0.182089</td>\n",
       "      <td>0.106477</td>\n",
       "      <td>0.047107</td>\n",
       "      <td>0.242159</td>\n",
       "      <td>0.131293</td>\n",
       "      <td>0.140260</td>\n",
       "      <td>0.091074</td>\n",
       "    </tr>\n",
       "  </tbody>\n",
       "</table>\n",
       "</div>"
      ],
      "text/plain": [
       "      Industrials  Basic Materials  Financials  Consumer Services  \\\n",
       "540      0.122809         0.175325    0.043810           0.069035   \n",
       "1080     0.138993         0.353341    0.196876           0.122209   \n",
       "1620     0.251628         0.263643    0.732662           0.142729   \n",
       "2160     0.091617         0.158802    0.506709           0.675205   \n",
       "2700     0.133270         0.138424    0.166786           0.327488   \n",
       "3240     0.099565         0.114888    0.250475           0.449826   \n",
       "3780     0.081339         0.310872    0.070804           0.216966   \n",
       "4320     0.080093         0.242689    0.132279           0.023848   \n",
       "4860     0.068947         0.292181    0.047773           0.560268   \n",
       "5400     0.182089         0.106477    0.047107           0.242159   \n",
       "\n",
       "      Health Care  Oil & Gas  Consumer Goods  \n",
       "540      0.244016   0.257514        0.176680  \n",
       "1080     0.041759   0.174350        0.166150  \n",
       "1620     0.262115   0.203304        0.269672  \n",
       "2160     0.204253   0.223722        0.391948  \n",
       "2700     0.071730   0.128444        0.167022  \n",
       "3240     0.216596   0.135650        0.134679  \n",
       "3780     0.322694   0.074584        0.130843  \n",
       "4320     0.097610   0.066710        0.086938  \n",
       "4860     0.231073   0.037077        0.031570  \n",
       "5400     0.131293   0.140260        0.091074  "
      ]
     },
     "execution_count": 68,
     "metadata": {},
     "output_type": "execute_result"
    }
   ],
   "source": [
    "df_utilities = pd.read_csv(\"./results/economic_results/comparison/length_Utilities.csv\", index_col=0)\n",
    "df_utilities"
   ]
  },
  {
   "cell_type": "code",
   "execution_count": null,
   "metadata": {},
   "outputs": [],
   "source": [
    "# DO NOT RUN IF YOU ALREADY HAVE THE PLOT\n",
    "\n",
    "num_rows = len(df_utilities.columns)\n",
    "num_cols = 1\n",
    "\n",
    "fig, axs = plt.subplots(num_rows, num_cols, figsize=(10, 25))\n",
    "\n",
    "for i, column in enumerate(df_utilities.columns):\n",
    "    label = str(f\"{column}\")\n",
    "    axs[i].scatter(df_utilities.index, df_utilities[column], label=label)\n",
    "\n",
    "    axs[i].legend(fontsize=13)\n",
    "    axs[i].set_ylabel(\"JS-div\", fontsize=14)\n",
    "\n",
    "    if i == num_rows - 1:\n",
    "        axs[i].set_xlabel(\"Length\", fontsize=14)\n",
    "\n",
    "fig.suptitle(\"Utilities\", fontsize=22)\n",
    "plt.subplots_adjust(top=0.96)\n",
    "\n",
    "plt.savefig(\n",
    "    f\"./results/economic_results/comparison/images/JS_div_different_lengths_Utilities.pdf\",\n",
    "    dpi=600,\n",
    "    bbox_inches=\"tight\",\n",
    ")\n",
    "\n",
    "plt.show()"
   ]
  },
  {
   "cell_type": "markdown",
   "metadata": {},
   "source": [
    "<a name=\"comparison_oil_gas\"></a>\n",
    "#### Comparison Oil & Gas"
   ]
  },
  {
   "cell_type": "code",
   "execution_count": 70,
   "metadata": {},
   "outputs": [],
   "source": [
    "df_oil_gas = pd.DataFrame(\n",
    "    columns=[\n",
    "        \"Industrials\",\n",
    "        \"Basic Materials\",\n",
    "        \"Financials\",\n",
    "        \"Consumer Services\",\n",
    "        \"Health Care\",\n",
    "        \"Utilities\",\n",
    "        \"Consumer Goods\",\n",
    "    ]\n",
    ")"
   ]
  },
  {
   "cell_type": "code",
   "execution_count": 71,
   "metadata": {},
   "outputs": [],
   "source": [
    "# DO NOT RUN IF YOU ALREADY HAVE THE DATAFRAME\n",
    "\n",
    "for length in lengths:\n",
    "    for target in [\"Oil & Gas\"]:\n",
    "        other_sectors = [sector for sector in sectors if sector != target]\n",
    "\n",
    "        for i, sector in enumerate(other_sectors):\n",
    "            doinfo_one_sector = np.load(\n",
    "                f\"./results/economic_results/comparison/do_info/one_sector_{target}_length_{length}.npy\"\n",
    "            )\n",
    "            doinfo_two_sectors = np.load(\n",
    "                f\"./results/economic_results/comparison/do_info/two_sectors_{target}_{sector}_length_{length}.npy\"\n",
    "            )\n",
    "\n",
    "            df_oil_gas.at[length, sector] = JS_div(doinfo_one_sector, doinfo_two_sectors)\n",
    "            \n",
    "df_oil_gas.to_csv(\"./results/economic_results/comparison/length_Oil_Gas.csv\", index=True)"
   ]
  },
  {
   "cell_type": "code",
   "execution_count": 72,
   "metadata": {},
   "outputs": [
    {
     "data": {
      "text/html": [
       "<div>\n",
       "<style scoped>\n",
       "    .dataframe tbody tr th:only-of-type {\n",
       "        vertical-align: middle;\n",
       "    }\n",
       "\n",
       "    .dataframe tbody tr th {\n",
       "        vertical-align: top;\n",
       "    }\n",
       "\n",
       "    .dataframe thead th {\n",
       "        text-align: right;\n",
       "    }\n",
       "</style>\n",
       "<table border=\"1\" class=\"dataframe\">\n",
       "  <thead>\n",
       "    <tr style=\"text-align: right;\">\n",
       "      <th></th>\n",
       "      <th>Industrials</th>\n",
       "      <th>Basic Materials</th>\n",
       "      <th>Financials</th>\n",
       "      <th>Consumer Services</th>\n",
       "      <th>Health Care</th>\n",
       "      <th>Utilities</th>\n",
       "      <th>Consumer Goods</th>\n",
       "    </tr>\n",
       "  </thead>\n",
       "  <tbody>\n",
       "    <tr>\n",
       "      <th>540</th>\n",
       "      <td>0.394316</td>\n",
       "      <td>0.046468</td>\n",
       "      <td>0.132091</td>\n",
       "      <td>0.211189</td>\n",
       "      <td>0.127168</td>\n",
       "      <td>0.064964</td>\n",
       "      <td>0.107234</td>\n",
       "    </tr>\n",
       "    <tr>\n",
       "      <th>1080</th>\n",
       "      <td>0.368040</td>\n",
       "      <td>0.334635</td>\n",
       "      <td>0.635351</td>\n",
       "      <td>0.277308</td>\n",
       "      <td>0.562990</td>\n",
       "      <td>0.382542</td>\n",
       "      <td>0.239845</td>\n",
       "    </tr>\n",
       "    <tr>\n",
       "      <th>1620</th>\n",
       "      <td>0.507564</td>\n",
       "      <td>0.202385</td>\n",
       "      <td>0.491652</td>\n",
       "      <td>0.392303</td>\n",
       "      <td>0.563466</td>\n",
       "      <td>0.173760</td>\n",
       "      <td>0.191688</td>\n",
       "    </tr>\n",
       "    <tr>\n",
       "      <th>2160</th>\n",
       "      <td>0.210871</td>\n",
       "      <td>0.106405</td>\n",
       "      <td>0.345632</td>\n",
       "      <td>0.111391</td>\n",
       "      <td>0.429586</td>\n",
       "      <td>0.175299</td>\n",
       "      <td>0.509746</td>\n",
       "    </tr>\n",
       "    <tr>\n",
       "      <th>2700</th>\n",
       "      <td>0.049689</td>\n",
       "      <td>0.060586</td>\n",
       "      <td>0.137608</td>\n",
       "      <td>0.120026</td>\n",
       "      <td>0.202821</td>\n",
       "      <td>0.087824</td>\n",
       "      <td>0.129750</td>\n",
       "    </tr>\n",
       "    <tr>\n",
       "      <th>3240</th>\n",
       "      <td>0.158467</td>\n",
       "      <td>0.127956</td>\n",
       "      <td>0.109397</td>\n",
       "      <td>0.108542</td>\n",
       "      <td>0.219105</td>\n",
       "      <td>0.021544</td>\n",
       "      <td>0.173290</td>\n",
       "    </tr>\n",
       "    <tr>\n",
       "      <th>3780</th>\n",
       "      <td>0.119653</td>\n",
       "      <td>0.060483</td>\n",
       "      <td>0.252743</td>\n",
       "      <td>0.225094</td>\n",
       "      <td>0.213778</td>\n",
       "      <td>0.032207</td>\n",
       "      <td>0.266900</td>\n",
       "    </tr>\n",
       "    <tr>\n",
       "      <th>4320</th>\n",
       "      <td>0.061238</td>\n",
       "      <td>0.069340</td>\n",
       "      <td>0.607399</td>\n",
       "      <td>0.038695</td>\n",
       "      <td>0.034413</td>\n",
       "      <td>0.034973</td>\n",
       "      <td>0.038712</td>\n",
       "    </tr>\n",
       "    <tr>\n",
       "      <th>4860</th>\n",
       "      <td>0.031507</td>\n",
       "      <td>0.073589</td>\n",
       "      <td>0.138007</td>\n",
       "      <td>0.107512</td>\n",
       "      <td>0.236796</td>\n",
       "      <td>0.211319</td>\n",
       "      <td>0.265699</td>\n",
       "    </tr>\n",
       "    <tr>\n",
       "      <th>5400</th>\n",
       "      <td>0.016285</td>\n",
       "      <td>0.179795</td>\n",
       "      <td>0.207017</td>\n",
       "      <td>0.191269</td>\n",
       "      <td>0.205281</td>\n",
       "      <td>0.014110</td>\n",
       "      <td>0.212679</td>\n",
       "    </tr>\n",
       "  </tbody>\n",
       "</table>\n",
       "</div>"
      ],
      "text/plain": [
       "      Industrials  Basic Materials  Financials  Consumer Services  \\\n",
       "540      0.394316         0.046468    0.132091           0.211189   \n",
       "1080     0.368040         0.334635    0.635351           0.277308   \n",
       "1620     0.507564         0.202385    0.491652           0.392303   \n",
       "2160     0.210871         0.106405    0.345632           0.111391   \n",
       "2700     0.049689         0.060586    0.137608           0.120026   \n",
       "3240     0.158467         0.127956    0.109397           0.108542   \n",
       "3780     0.119653         0.060483    0.252743           0.225094   \n",
       "4320     0.061238         0.069340    0.607399           0.038695   \n",
       "4860     0.031507         0.073589    0.138007           0.107512   \n",
       "5400     0.016285         0.179795    0.207017           0.191269   \n",
       "\n",
       "      Health Care  Utilities  Consumer Goods  \n",
       "540      0.127168   0.064964        0.107234  \n",
       "1080     0.562990   0.382542        0.239845  \n",
       "1620     0.563466   0.173760        0.191688  \n",
       "2160     0.429586   0.175299        0.509746  \n",
       "2700     0.202821   0.087824        0.129750  \n",
       "3240     0.219105   0.021544        0.173290  \n",
       "3780     0.213778   0.032207        0.266900  \n",
       "4320     0.034413   0.034973        0.038712  \n",
       "4860     0.236796   0.211319        0.265699  \n",
       "5400     0.205281   0.014110        0.212679  "
      ]
     },
     "execution_count": 72,
     "metadata": {},
     "output_type": "execute_result"
    }
   ],
   "source": [
    "df_oil_gas = pd.read_csv(\"./results/economic_results/comparison/length_Oil_Gas.csv\", index_col=0)\n",
    "df_oil_gas"
   ]
  },
  {
   "cell_type": "code",
   "execution_count": null,
   "metadata": {},
   "outputs": [],
   "source": [
    "# DO NOT RUN IF YOU ALREADY HAVE THE PLOT\n",
    "\n",
    "num_rows = len(df_oil_gas.columns)\n",
    "num_cols = 1\n",
    "\n",
    "fig, axs = plt.subplots(num_rows, num_cols, figsize=(10, 25))\n",
    "\n",
    "for i, column in enumerate(df_oil_gas.columns):\n",
    "    label = str(f\"{column}\")\n",
    "    axs[i].scatter(df_oil_gas.index, df_oil_gas[column], label=label)\n",
    "\n",
    "    axs[i].legend(fontsize=13)\n",
    "    axs[i].set_ylabel(\"JS-div\", fontsize=14)\n",
    "\n",
    "    if i == num_rows - 1:\n",
    "        axs[i].set_xlabel(\"Length\", fontsize=14)\n",
    "\n",
    "fig.suptitle(\"Oil & Gas\", fontsize=22)\n",
    "plt.subplots_adjust(top=0.96)\n",
    "\n",
    "plt.savefig(\n",
    "    f\"./results/economic_results/comparison/images/JS_div_different_lengths_Oil_Gas.pdf\",\n",
    "    dpi=600,\n",
    "    bbox_inches=\"tight\",\n",
    ")\n",
    "\n",
    "plt.show()"
   ]
  },
  {
   "cell_type": "markdown",
   "metadata": {},
   "source": [
    "<a name=\"comparison_consumer_goods\"></a>\n",
    "#### Comparison Consumer Goods"
   ]
  },
  {
   "cell_type": "code",
   "execution_count": 74,
   "metadata": {},
   "outputs": [],
   "source": [
    "df_consumer_goods = pd.DataFrame(\n",
    "    columns=[\n",
    "        \"Industrials\",\n",
    "        \"Basic Materials\",\n",
    "        \"Financials\",\n",
    "        \"Consumer Services\",\n",
    "        \"Health Care\",\n",
    "        \"Utilities\",\n",
    "        \"Oil & Gas\",\n",
    "    ]\n",
    ")"
   ]
  },
  {
   "cell_type": "code",
   "execution_count": 75,
   "metadata": {},
   "outputs": [],
   "source": [
    "# DO NOT RUN IF YOU ALREADY HAVE THE DATAFRAME\n",
    "\n",
    "for length in lengths:\n",
    "    for target in [\"Consumer Goods\"]:\n",
    "        other_sectors = [sector for sector in sectors if sector != target]\n",
    "\n",
    "        for i, sector in enumerate(other_sectors):\n",
    "            doinfo_one_sector = np.load(\n",
    "                f\"./results/economic_results/comparison/do_info/one_sector_{target}_length_{length}.npy\"\n",
    "            )\n",
    "            doinfo_two_sectors = np.load(\n",
    "                f\"./results/economic_results/comparison/do_info/two_sectors_{target}_{sector}_length_{length}.npy\"\n",
    "            )\n",
    "\n",
    "            df_consumer_goods.at[length, sector] = JS_div(doinfo_one_sector, doinfo_two_sectors)\n",
    "            \n",
    "df_consumer_goods.to_csv(\"./results/economic_results/comparison/length_Consumer_Goods.csv\", index=True)"
   ]
  },
  {
   "cell_type": "code",
   "execution_count": 76,
   "metadata": {},
   "outputs": [
    {
     "data": {
      "text/html": [
       "<div>\n",
       "<style scoped>\n",
       "    .dataframe tbody tr th:only-of-type {\n",
       "        vertical-align: middle;\n",
       "    }\n",
       "\n",
       "    .dataframe tbody tr th {\n",
       "        vertical-align: top;\n",
       "    }\n",
       "\n",
       "    .dataframe thead th {\n",
       "        text-align: right;\n",
       "    }\n",
       "</style>\n",
       "<table border=\"1\" class=\"dataframe\">\n",
       "  <thead>\n",
       "    <tr style=\"text-align: right;\">\n",
       "      <th></th>\n",
       "      <th>Industrials</th>\n",
       "      <th>Basic Materials</th>\n",
       "      <th>Financials</th>\n",
       "      <th>Consumer Services</th>\n",
       "      <th>Health Care</th>\n",
       "      <th>Utilities</th>\n",
       "      <th>Oil &amp; Gas</th>\n",
       "    </tr>\n",
       "  </thead>\n",
       "  <tbody>\n",
       "    <tr>\n",
       "      <th>540</th>\n",
       "      <td>0.207201</td>\n",
       "      <td>0.012062</td>\n",
       "      <td>0.025494</td>\n",
       "      <td>0.260132</td>\n",
       "      <td>0.219128</td>\n",
       "      <td>0.212006</td>\n",
       "      <td>0.139537</td>\n",
       "    </tr>\n",
       "    <tr>\n",
       "      <th>1080</th>\n",
       "      <td>0.044501</td>\n",
       "      <td>0.150003</td>\n",
       "      <td>0.058690</td>\n",
       "      <td>0.144147</td>\n",
       "      <td>0.098283</td>\n",
       "      <td>0.020416</td>\n",
       "      <td>0.451871</td>\n",
       "    </tr>\n",
       "    <tr>\n",
       "      <th>1620</th>\n",
       "      <td>0.151708</td>\n",
       "      <td>0.182730</td>\n",
       "      <td>0.024641</td>\n",
       "      <td>0.229652</td>\n",
       "      <td>0.187758</td>\n",
       "      <td>0.130214</td>\n",
       "      <td>0.086772</td>\n",
       "    </tr>\n",
       "    <tr>\n",
       "      <th>2160</th>\n",
       "      <td>0.110883</td>\n",
       "      <td>0.323160</td>\n",
       "      <td>0.760029</td>\n",
       "      <td>0.375934</td>\n",
       "      <td>0.555935</td>\n",
       "      <td>0.176890</td>\n",
       "      <td>0.258789</td>\n",
       "    </tr>\n",
       "    <tr>\n",
       "      <th>2700</th>\n",
       "      <td>0.110282</td>\n",
       "      <td>0.096026</td>\n",
       "      <td>0.186354</td>\n",
       "      <td>0.178672</td>\n",
       "      <td>0.660940</td>\n",
       "      <td>0.397908</td>\n",
       "      <td>0.033815</td>\n",
       "    </tr>\n",
       "    <tr>\n",
       "      <th>3240</th>\n",
       "      <td>0.173235</td>\n",
       "      <td>0.070333</td>\n",
       "      <td>1.022119</td>\n",
       "      <td>0.202840</td>\n",
       "      <td>0.343052</td>\n",
       "      <td>0.199805</td>\n",
       "      <td>0.272402</td>\n",
       "    </tr>\n",
       "    <tr>\n",
       "      <th>3780</th>\n",
       "      <td>0.375807</td>\n",
       "      <td>0.078080</td>\n",
       "      <td>0.216999</td>\n",
       "      <td>0.213575</td>\n",
       "      <td>0.233843</td>\n",
       "      <td>0.161653</td>\n",
       "      <td>0.385926</td>\n",
       "    </tr>\n",
       "    <tr>\n",
       "      <th>4320</th>\n",
       "      <td>0.337101</td>\n",
       "      <td>0.168514</td>\n",
       "      <td>0.090697</td>\n",
       "      <td>0.217418</td>\n",
       "      <td>0.210076</td>\n",
       "      <td>0.308004</td>\n",
       "      <td>0.238862</td>\n",
       "    </tr>\n",
       "    <tr>\n",
       "      <th>4860</th>\n",
       "      <td>0.084147</td>\n",
       "      <td>0.135407</td>\n",
       "      <td>0.150417</td>\n",
       "      <td>0.476784</td>\n",
       "      <td>0.817605</td>\n",
       "      <td>0.230180</td>\n",
       "      <td>0.149949</td>\n",
       "    </tr>\n",
       "    <tr>\n",
       "      <th>5400</th>\n",
       "      <td>0.223213</td>\n",
       "      <td>0.318661</td>\n",
       "      <td>0.111528</td>\n",
       "      <td>0.435974</td>\n",
       "      <td>0.478561</td>\n",
       "      <td>0.519101</td>\n",
       "      <td>0.416441</td>\n",
       "    </tr>\n",
       "  </tbody>\n",
       "</table>\n",
       "</div>"
      ],
      "text/plain": [
       "      Industrials  Basic Materials  Financials  Consumer Services  \\\n",
       "540      0.207201         0.012062    0.025494           0.260132   \n",
       "1080     0.044501         0.150003    0.058690           0.144147   \n",
       "1620     0.151708         0.182730    0.024641           0.229652   \n",
       "2160     0.110883         0.323160    0.760029           0.375934   \n",
       "2700     0.110282         0.096026    0.186354           0.178672   \n",
       "3240     0.173235         0.070333    1.022119           0.202840   \n",
       "3780     0.375807         0.078080    0.216999           0.213575   \n",
       "4320     0.337101         0.168514    0.090697           0.217418   \n",
       "4860     0.084147         0.135407    0.150417           0.476784   \n",
       "5400     0.223213         0.318661    0.111528           0.435974   \n",
       "\n",
       "      Health Care  Utilities  Oil & Gas  \n",
       "540      0.219128   0.212006   0.139537  \n",
       "1080     0.098283   0.020416   0.451871  \n",
       "1620     0.187758   0.130214   0.086772  \n",
       "2160     0.555935   0.176890   0.258789  \n",
       "2700     0.660940   0.397908   0.033815  \n",
       "3240     0.343052   0.199805   0.272402  \n",
       "3780     0.233843   0.161653   0.385926  \n",
       "4320     0.210076   0.308004   0.238862  \n",
       "4860     0.817605   0.230180   0.149949  \n",
       "5400     0.478561   0.519101   0.416441  "
      ]
     },
     "execution_count": 76,
     "metadata": {},
     "output_type": "execute_result"
    }
   ],
   "source": [
    "df_consumer_goods = pd.read_csv(\"./results/economic_results/comparison/length_Consumer_Goods.csv\", index_col=0)\n",
    "df_consumer_goods"
   ]
  },
  {
   "cell_type": "code",
   "execution_count": null,
   "metadata": {},
   "outputs": [],
   "source": [
    "# DO NOT RUN IF YOU ALREADY HAVE THE PLOT\n",
    "\n",
    "num_rows = len(df_consumer_goods.columns)\n",
    "num_cols = 1\n",
    "\n",
    "fig, axs = plt.subplots(num_rows, num_cols, figsize=(10, 25))\n",
    "\n",
    "for i, column in enumerate(df_consumer_goods.columns):\n",
    "    label = str(f\"{column}\")\n",
    "    axs[i].scatter(df_consumer_goods.index, df_consumer_goods[column], label=label)\n",
    "\n",
    "    axs[i].legend(fontsize=13)\n",
    "    axs[i].set_ylabel(\"JS-div\", fontsize=14)\n",
    "\n",
    "    if i == num_rows - 1:\n",
    "        axs[i].set_xlabel(\"Length\", fontsize=14)\n",
    "\n",
    "fig.suptitle(\"Consumer Goods\", fontsize=22)\n",
    "plt.subplots_adjust(top=0.96)\n",
    "\n",
    "plt.savefig(\n",
    "    f\"./results/economic_results/comparison/images/JS_div_different_lengths_Consumer_Goods.pdf\",\n",
    "    dpi=600,\n",
    "    bbox_inches=\"tight\",\n",
    ")\n",
    "\n",
    "plt.show()"
   ]
  },
  {
   "cell_type": "code",
   "execution_count": null,
   "metadata": {},
   "outputs": [],
   "source": []
  }
 ],
 "metadata": {
  "kernelspec": {
   "display_name": "Python 3 (ipykernel)",
   "language": "python",
   "name": "python3"
  },
  "language_info": {
   "codemirror_mode": {
    "name": "ipython",
    "version": 3
   },
   "file_extension": ".py",
   "mimetype": "text/x-python",
   "name": "python",
   "nbconvert_exporter": "python",
   "pygments_lexer": "ipython3",
   "version": "3.10.9"
  }
 },
 "nbformat": 4,
 "nbformat_minor": 2
}
