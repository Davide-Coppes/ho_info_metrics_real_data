{
 "cells": [
  {
   "cell_type": "markdown",
   "metadata": {},
   "source": [
    "# Total dynamical O-information"
   ]
  },
  {
   "cell_type": "markdown",
   "metadata": {},
   "source": [
    "## Index\n",
    "\n",
    "1. [Functions](#functions)\n",
    "1. [Load and binarize data](#load_binar_data)\n",
    "1. [Full length](#full_length)\n",
    "    1. [Thomas' work](#thomas_work_full)\n",
    "    1. [3 vs 1-2](#3_vs_1-2_full)\n",
    "        1. [J-S divergence](#J-S_divergence_full)\n",
    "    1. [3 vs 1-1-1](#3_vs_1-1-1_full)\n",
    "1. [Half length](#half_length)\n",
    "    1. [Thomas' work](#thomas_work_half)\n",
    "    1. [3 vs 1-2](#3_vs_1-2_half)\n",
    "        1. [J-S divergence](#J-S_divergence_half)\n",
    "    1. [3 vs 1-1-1](#3_vs_1-1-1_half)\n",
    "1. [Comparison different lengths](#comparison_lengths)\n",
    "    1. [Comparison full-half](#comparison_f_h)\n",
    "    1. [Creation dataset](#creation_dataset)\n",
    "        1. [Comparison Industrials](#comparison_industrials)\n",
    "        1. [Comparison Basic Materials](#comparison_basic_materials)\n",
    "        1. [Comparison Financials](#comparison_financials)\n",
    "        1. [Comparison Consumer Services](#comparison_consumer_services)\n",
    "        1. [Comparison Health Care](#comparison_health_care)\n",
    "        1. [Comparison Utilities](#comparison_utilities)\n",
    "        1. [Comparison Oil & Gas](#comparison_oil_gas)\n",
    "        1. [Comparison Consumer Goods](#comparison_consumer_goods)\n",
    "1. [Heatmaps](#heatmaps)\n",
    "    1. [Matrix](#matrix)\n",
    "    1. [Divided by year](#divided_year)"
   ]
  },
  {
   "cell_type": "markdown",
   "metadata": {},
   "source": [
    "<a name=\"functions\"></a>\n",
    "## Functions"
   ]
  },
  {
   "cell_type": "code",
   "execution_count": null,
   "metadata": {},
   "outputs": [],
   "source": [
    "import numpy as np\n",
    "import pandas as pd\n",
    "import seaborn as sns\n",
    "import matplotlib.pyplot as plt\n",
    "from itertools import combinations\n",
    "from tqdm.auto import tqdm\n",
    "import matplotlib.patches as mpatches\n",
    "import pickle\n",
    "from scipy.special import kl_div\n",
    "from scipy.stats import entropy\n",
    "\n",
    "from ho_info_metrics.metrics import *\n",
    "from ho_info_metrics.utils import *"
   ]
  },
  {
   "cell_type": "code",
   "execution_count": null,
   "metadata": {},
   "outputs": [],
   "source": [
    "def binarize_df(df, window_size):\n",
    "    df = df.drop(columns=[\"Date\"])\n",
    "    for col in df.columns:\n",
    "        if col != \"Date\":\n",
    "            col_values = df[col].values\n",
    "            binarized_values = []\n",
    "            for i in range(len(col_values)):\n",
    "                window_start = max(0, i - window_size + 1)\n",
    "                window_mean = col_values[window_start : i + 1].mean()\n",
    "                binarized_values.append(1 if col_values[i] > window_mean else 0)\n",
    "            df[col] = binarized_values\n",
    "    return df"
   ]
  },
  {
   "cell_type": "code",
   "execution_count": null,
   "metadata": {},
   "outputs": [],
   "source": [
    "def get_do_infos(target_sector, binarized_financial_ts):\n",
    "\n",
    "    print(\">>>\", target_sector)\n",
    "    target_stocks = list(\n",
    "        stock_names[stock_names[\"Sector\"] == target_sector][\"Stock name\"]\n",
    "    )  # tutti gli stock name il cui settore sia il target\n",
    "    print(len(target_stocks))\n",
    "    other_stocks = list(\n",
    "        stock_names[stock_names[\"Sector\"] != target_sector][\"Stock name\"]\n",
    "    )\n",
    "    print(len(other_stocks))\n",
    "\n",
    "    same_sector_triplets = list(combinations(target_stocks, 3))\n",
    "    print(len(same_sector_triplets))\n",
    "    different_sector_triplets = []\n",
    "    while len(different_sector_triplets) != len(same_sector_triplets):\n",
    "        triplet = []\n",
    "        triplet.append(np.random.choice(target_stocks))\n",
    "        triplet.append(np.random.choice(other_stocks))\n",
    "        triplet.append(np.random.choice(other_stocks))\n",
    "        different_sector_triplets.append(triplet)\n",
    "    print(len(different_sector_triplets))\n",
    "\n",
    "    doinfo_same_sector = []\n",
    "    doinfo_different_sector = []\n",
    "    bar_length = len(same_sector_triplets)\n",
    "    with tqdm(total=bar_length) as pbar:\n",
    "        pbar.set_description(\"Same sector triplets\")\n",
    "        for i in range(len(same_sector_triplets)):\n",
    "            X1 = binarized_financial_ts[same_sector_triplets[i][0]].values\n",
    "            X2 = binarized_financial_ts[same_sector_triplets[i][1]].values\n",
    "            X3 = binarized_financial_ts[same_sector_triplets[i][2]].values\n",
    "            X = np.vstack((X1, X2, X3))\n",
    "            doinfo_same_sector.append(\n",
    "                o_information_lagged_all(X, estimator=\"cat_ent\")\n",
    "            )  # calcola la total dynamical o_information della tripletta\n",
    "            pbar.update(1)\n",
    "\n",
    "    bar_length = len(different_sector_triplets)\n",
    "    with tqdm(total=bar_length) as pbar:\n",
    "        for i in range(len(different_sector_triplets)):\n",
    "            X1 = binarized_financial_ts[different_sector_triplets[i][0]].values\n",
    "            X2 = binarized_financial_ts[different_sector_triplets[i][1]].values\n",
    "            X3 = binarized_financial_ts[different_sector_triplets[i][2]].values\n",
    "            X = np.vstack((X1, X2, X3))\n",
    "            doinfo_different_sector.append(\n",
    "                o_information_lagged_all(X, estimator=\"cat_ent\")\n",
    "            )\n",
    "            pbar.update(1)\n",
    "\n",
    "    return (\n",
    "        doinfo_same_sector,\n",
    "        doinfo_different_sector,\n",
    "    )  # ogni termine ritorna un array con la total dynamical o_information per ogni tripletta"
   ]
  },
  {
   "cell_type": "code",
   "execution_count": null,
   "metadata": {},
   "outputs": [],
   "source": [
    "def get_do_infos_same(target_sector, binarized_financial_ts):\n",
    "    \"\"\"Get the total dynamical o_information for the triplets of the target sector\"\"\"\n",
    "\n",
    "    print(\">>>\", target_sector)\n",
    "\n",
    "    target_stocks = list(\n",
    "        stock_names[stock_names[\"Sector\"] == target_sector][\"Stock name\"]\n",
    "    )  # tutti gli stock name il cui settore sia il target\n",
    "    print(\"Length target_stocks:\", len(target_stocks))\n",
    "\n",
    "    # Having removed the Technology sector, each sector can now offer 35 triplets\n",
    "    same_sector_triplets = list(combinations(target_stocks, 3))[:35]\n",
    "    print(\"Length triplets same sector:\", len(same_sector_triplets))\n",
    "\n",
    "    doinfo_one_sector = []\n",
    "    bar_length = len(same_sector_triplets)\n",
    "    with tqdm(total=bar_length) as pbar:\n",
    "        pbar.set_description(\"Same sector\")\n",
    "        for i in range(len(same_sector_triplets)):\n",
    "            X1 = binarized_financial_ts[same_sector_triplets[i][0]].values\n",
    "            X2 = binarized_financial_ts[same_sector_triplets[i][1]].values\n",
    "            X3 = binarized_financial_ts[same_sector_triplets[i][2]].values\n",
    "            X = np.vstack((X1, X2, X3))\n",
    "            doinfo_one_sector.append(\n",
    "                o_information_lagged_all(X, estimator=\"cat_ent\")\n",
    "            )  # calcola la total dynamical o_information della tripletta\n",
    "            pbar.update(1)\n",
    "\n",
    "    return doinfo_one_sector"
   ]
  },
  {
   "cell_type": "code",
   "execution_count": null,
   "metadata": {},
   "outputs": [],
   "source": [
    "def get_do_infos_two_different(target_sector, another_sector, binarized_financial_ts):\n",
    "    \"\"\"Get the total dynamical o_information for the triplets\n",
    "    composed of one node in the target_sector and two in the another_sector\"\"\"\n",
    "\n",
    "    print(\">>>\", target_sector, \"-\", another_sector)\n",
    "\n",
    "    target_stocks = list(\n",
    "        stock_names[stock_names[\"Sector\"] == target_sector][\"Stock name\"]\n",
    "    )\n",
    "    another_stocks = list(\n",
    "        stock_names[stock_names[\"Sector\"] == another_sector][\"Stock name\"]\n",
    "    )\n",
    "    print(\"Length another_stocks:\", len(another_stocks))\n",
    "\n",
    "    # Having removed the Technology sector, each sector can now offer 35 triplets\n",
    "    another_sector_triplets = []\n",
    "    while len(another_sector_triplets) != 35:\n",
    "        triplet = []\n",
    "        triplet.append(np.random.choice(target_stocks))\n",
    "        triplet.append(np.random.choice(another_stocks))\n",
    "        triplet.append(np.random.choice(another_stocks))\n",
    "        another_sector_triplets.append(triplet)\n",
    "    print(\"Length triplets two sectors:\", len(another_sector_triplets))\n",
    "\n",
    "    doinfo_two_sectors = []\n",
    "    bar_length = len(another_sector_triplets)\n",
    "    with tqdm(total=bar_length) as pbar:\n",
    "        pbar.set_description(\"Two sectors\")\n",
    "        for i in range(len(another_sector_triplets)):\n",
    "            X1 = binarized_financial_ts[another_sector_triplets[i][0]].values\n",
    "            X2 = binarized_financial_ts[another_sector_triplets[i][1]].values\n",
    "            X3 = binarized_financial_ts[another_sector_triplets[i][2]].values\n",
    "            X = np.vstack((X1, X2, X3))\n",
    "            doinfo_two_sectors.append(o_information_lagged_all(X, estimator=\"cat_ent\"))\n",
    "            pbar.update(1)\n",
    "\n",
    "    return doinfo_two_sectors"
   ]
  },
  {
   "cell_type": "code",
   "execution_count": null,
   "metadata": {},
   "outputs": [],
   "source": [
    "def get_do_infos_three_different(\n",
    "    target_sector, sector1, sector2, binarized_financial_ts\n",
    "):\n",
    "    \"\"\"Get the total dynamical o_information for the triplets\n",
    "    composed of three nodes in three different sectors\"\"\"\n",
    "\n",
    "    print(\">>>\", target_sector, \"-\", sector1, \"-\", sector2)\n",
    "\n",
    "    target_stocks = list(\n",
    "        stock_names[stock_names[\"Sector\"] == target_sector][\"Stock name\"]\n",
    "    )\n",
    "    stocks1 = list(stock_names[stock_names[\"Sector\"] == sector1][\"Stock name\"])\n",
    "    print(\"Length sector1:\", len(stocks1))\n",
    "    stocks2 = list(stock_names[stock_names[\"Sector\"] == sector2][\"Stock name\"])\n",
    "    print(\"Length sector2:\", len(stocks2))\n",
    "\n",
    "    # Having removed the Technology sector, each sector can now offer 35 triplets\n",
    "    three_sectors_triplets = []\n",
    "    while len(three_sectors_triplets) != 35:\n",
    "        triplet = []\n",
    "        triplet.append(np.random.choice(target_stocks))\n",
    "        triplet.append(np.random.choice(stocks1))\n",
    "        triplet.append(np.random.choice(stocks2))\n",
    "        three_sectors_triplets.append(triplet)\n",
    "    print(\"Length triplets three sectors:\", len(three_sectors_triplets))\n",
    "\n",
    "    doinfo_three_sectors = []\n",
    "    bar_length = len(three_sectors_triplets)\n",
    "    with tqdm(total=bar_length) as pbar:\n",
    "        pbar.set_description(\"Three sectors\")\n",
    "        for i in range(len(three_sectors_triplets)):\n",
    "            X1 = binarized_financial_ts[three_sectors_triplets[i][0]].values\n",
    "            X2 = binarized_financial_ts[three_sectors_triplets[i][1]].values\n",
    "            X3 = binarized_financial_ts[three_sectors_triplets[i][2]].values\n",
    "            X = np.vstack((X1, X2, X3))\n",
    "            doinfo_three_sectors.append(\n",
    "                o_information_lagged_all(X, estimator=\"cat_ent\")\n",
    "            )\n",
    "            pbar.update(1)\n",
    "\n",
    "    return doinfo_three_sectors"
   ]
  },
  {
   "cell_type": "code",
   "execution_count": null,
   "metadata": {},
   "outputs": [],
   "source": [
    "def max_bins(array1, array2, array3):\n",
    "    \"\"\"Return the maximum number of bins so that there is at least one value inside each interval\"\"\"\n",
    "    \n",
    "    bins = 1\n",
    "    cond = True\n",
    "\n",
    "    while cond:\n",
    "        bins += 1\n",
    "        array1_hist, _ = np.histogram(array1, bins=bins)\n",
    "        array2_hist, _ = np.histogram(array2, bins=bins)\n",
    "        array3_hist, _ = np.histogram(array3, bins=bins)\n",
    "\n",
    "        if np.isin(0, array1_hist):\n",
    "            cond = False\n",
    "\n",
    "        elif np.isin(0, array2_hist):\n",
    "            cond = False\n",
    "\n",
    "        elif np.isin(0, array3_hist):\n",
    "            cond = False\n",
    "            \n",
    "    return bins - 1"
   ]
  },
  {
   "cell_type": "code",
   "execution_count": null,
   "metadata": {},
   "outputs": [],
   "source": [
    "def JS_div(array1, array2):\n",
    "    \"\"\"Compute the J-S divergence of two array\"\"\"\n",
    "    \n",
    "    array1_sort = np.sort(array1)\n",
    "    array2_sort = np.sort(array2)\n",
    "\n",
    "    array1_normalized = array1_sort / np.sum(array1_sort)\n",
    "    array2_normalized = array2_sort / np.sum(array2_sort)\n",
    "\n",
    "    average = (array1_normalized + array2_normalized) / 2\n",
    "    average_sort = np.sort(average)\n",
    "    \n",
    "    bins = max_bins(array1_normalized, array2_normalized, average_sort)\n",
    "    \n",
    "    array1_hist, _ = np.histogram(array1_normalized, bins=bins)\n",
    "    array2_hist, _ = np.histogram(array2_normalized, bins=bins)\n",
    "    average_hist, _ = np.histogram(average_sort, bins=bins)\n",
    "    \n",
    "    kl_array1 = entropy(array1_hist, average_hist)\n",
    "    kl_array2 = entropy(array2_hist, average_hist)\n",
    " \n",
    "    return np.sum(kl_array1 + kl_array2) / 2"
   ]
  },
  {
   "cell_type": "markdown",
   "metadata": {},
   "source": [
    "<a name=\"load_binar_data\"></a>\n",
    "## Load and binarize data"
   ]
  },
  {
   "cell_type": "code",
   "execution_count": null,
   "metadata": {},
   "outputs": [],
   "source": [
    "financial_ts = pd.read_csv(\n",
    "    \"data/Economic_data/NYSE_119stocks_2000Jan_2021June_withdates.csv\"\n",
    ")\n",
    "stock_names = pd.read_csv(\n",
    "    \"data/Economic_data/list_stocknames.txt\",\n",
    "    sep=\", \",\n",
    "    names=[\"Index\", \"Stock name\", \"Sector\"],\n",
    ")"
   ]
  },
  {
   "cell_type": "code",
   "execution_count": null,
   "metadata": {},
   "outputs": [],
   "source": [
    "financial_ts"
   ]
  },
  {
   "cell_type": "code",
   "execution_count": null,
   "metadata": {},
   "outputs": [],
   "source": [
    "stock_names"
   ]
  },
  {
   "cell_type": "code",
   "execution_count": null,
   "metadata": {},
   "outputs": [],
   "source": [
    "tw = 7  # time window, originalmente era 2\n",
    "binarized_financial_ts = binarize_df(financial_ts, tw)"
   ]
  },
  {
   "cell_type": "code",
   "execution_count": null,
   "metadata": {},
   "outputs": [],
   "source": [
    "binarized_financial_ts"
   ]
  },
  {
   "cell_type": "code",
   "execution_count": null,
   "metadata": {},
   "outputs": [],
   "source": [
    "sectors = list(stock_names[\"Sector\"].unique())\n",
    "sectors"
   ]
  },
  {
   "cell_type": "markdown",
   "metadata": {},
   "source": [
    "<a name=\"full_length\"></a>\n",
    "## Full length\n",
    "\n",
    "We consider the full length of the time series."
   ]
  },
  {
   "cell_type": "markdown",
   "metadata": {},
   "source": [
    "<a name=\"thomas_work_full\"></a>\n",
    "### Thomas' work"
   ]
  },
  {
   "cell_type": "markdown",
   "metadata": {},
   "source": [
    "Each sector contains the maximun number of triplets, so the number of triplets is not constant."
   ]
  },
  {
   "cell_type": "code",
   "execution_count": null,
   "metadata": {
    "code_folding": [],
    "scrolled": true
   },
   "outputs": [],
   "source": [
    "# DO NOT RUN IF YOU ALREADY HAVE THE DATA\n",
    "\n",
    "for i in range(len(sectors)):\n",
    "    doinfo_same_sector, doinfo_different_sector = get_do_infos(\n",
    "        sectors[i], binarized_financial_ts\n",
    "    )\n",
    "\n",
    "    np.save(\n",
    "        f\"./results/economic_results/full/do_info/doinfo_same_sector_{sectors[i]}_tw_{tw}.npy\",\n",
    "        doinfo_same_sector,\n",
    "    )\n",
    "\n",
    "    np.save(\n",
    "        f\"./results/economic_results/full/do_info/doinfo_different_sector_{sectors[i]}_tw_{tw}.npy\",\n",
    "        doinfo_different_sector,\n",
    "    )"
   ]
  },
  {
   "cell_type": "code",
   "execution_count": null,
   "metadata": {},
   "outputs": [],
   "source": [
    "# DO NOT RUN IF YOU ALREADY HAVE THE VIOLIN PLOT\n",
    "\n",
    "fig, axs = plt.subplots(3, 3, figsize=(40, 40))\n",
    "for i in range(len(sectors)):\n",
    "    row = i // 3\n",
    "    col = i % 3\n",
    "    doinfo_same_sector = np.load(\n",
    "        f\"./results/economic_results/full/do_info/doinfo_same_sector_{sectors[i]}_tw_{tw}.npy\"\n",
    "    )\n",
    "    doinfo_different_sector = np.load(\n",
    "        f\"./results/economic_results/full/do_info/doinfo_different_sector_{sectors[i]}_tw_{tw}.npy\"\n",
    "    )\n",
    "    parts = axs[row, col].violinplot(doinfo_same_sector, showextrema=False)\n",
    "    for pc in parts[\"bodies\"]:\n",
    "        pc.set_facecolor(\"tab:blue\")\n",
    "        pc.set_edgecolor(\"black\")\n",
    "        pc.set_alpha(0.5)\n",
    "    parts = axs[row, col].violinplot(doinfo_different_sector, showextrema=False)\n",
    "    for pc in parts[\"bodies\"]:\n",
    "        pc.set_facecolor(\"tab:orange\")\n",
    "        pc.set_edgecolor(\"black\")\n",
    "        pc.set_alpha(0.5)\n",
    "    axs[row, col].set_title(sectors[i], size=35)\n",
    "    axs[row, col].set_ylabel(r\"$d\\Omega_3^{tot.}$\", size=37)\n",
    "    axs[row, col].tick_params(axis=\"both\", labelsize=18)\n",
    "    axs[row, col].legend(\n",
    "        handles=[\n",
    "            mpatches.Patch(color=\"tab:blue\", label=\"Same sector\", alpha=0.4),\n",
    "            mpatches.Patch(color=\"tab:orange\", label=\"Different sector\", alpha=0.4),\n",
    "        ],\n",
    "        fontsize=30,\n",
    "    )\n",
    "\n",
    "\n",
    "plt.savefig(\n",
    "    f\"./results/economic_results/full/images/doinfo_random_sectors_tw_{tw}.pdf\",\n",
    "    dpi=600,\n",
    "    bbox_inches=\"tight\",\n",
    ")"
   ]
  },
  {
   "cell_type": "markdown",
   "metadata": {},
   "source": [
    "<a name=\"3_vs_1-2_full\"></a>\n",
    "### 3 vs 1-2"
   ]
  },
  {
   "cell_type": "markdown",
   "metadata": {},
   "source": [
    "In previous work, a triplet from the same sector was compared with a triplet in which one node is from the target sector and the other two are randomly selected from other sectors. Now I would like to compare the triplet from the same sector with a more carefully chosen triplet (1 from the target sector and the other two from tho different chosen sectors).\n",
    "  \n",
    "To ensure that the number of triplets is always the same I take 35, which is the maximum number that all sectors can offer."
   ]
  },
  {
   "cell_type": "code",
   "execution_count": null,
   "metadata": {},
   "outputs": [],
   "source": [
    "target_sector = \"Technology\"\n",
    "list(stock_names[stock_names[\"Sector\"] == target_sector][\"Stock name\"])"
   ]
  },
  {
   "cell_type": "code",
   "execution_count": null,
   "metadata": {},
   "outputs": [],
   "source": [
    "# I am deleting the data for the Techonolgy sector because there are only a few\n",
    "binarized_financial_ts = binarized_financial_ts.drop(\n",
    "    columns=[\"CACI\", \"CIEN\", \"DBD\", \"DDD\"]\n",
    ")"
   ]
  },
  {
   "cell_type": "code",
   "execution_count": null,
   "metadata": {},
   "outputs": [],
   "source": [
    "# Usa il metodo .isin() per creare una maschera booleana\n",
    "maschera = stock_names[\"Stock name\"].isin([\"CACI\", \"CIEN\", \"DBD\", \"DDD\"])\n",
    "\n",
    "# Usa la maschera per selezionare solo le righe che non soddisfano la condizione\n",
    "stock_names = stock_names[~maschera]"
   ]
  },
  {
   "cell_type": "code",
   "execution_count": null,
   "metadata": {},
   "outputs": [],
   "source": [
    "sectors = sectors[:-1]\n",
    "sectors"
   ]
  },
  {
   "cell_type": "code",
   "execution_count": null,
   "metadata": {
    "scrolled": true
   },
   "outputs": [],
   "source": [
    "# DO NOT RUN IF YOU ALREADY HAVE THE DATA\n",
    "\n",
    "for target in sectors:\n",
    "    other_sectors = [sector for sector in sectors if sector != target]\n",
    "    for i, sector in enumerate(other_sectors):\n",
    "\n",
    "        if i == 0:\n",
    "            doinfo_one_sector = get_do_infos_same(target, binarized_financial_ts)\n",
    "            np.save(\n",
    "                f\"./results/economic_results/full/do_info/doinfo_one_sector_{target}_tw_{tw}.npy\",\n",
    "                doinfo_one_sector,\n",
    "            )\n",
    "\n",
    "        doinfo_two_sectors = get_do_infos_two_different(\n",
    "            target, sector, binarized_financial_ts\n",
    "        )\n",
    "        np.save(\n",
    "            f\"./results/economic_results/full/do_info/doinfo_two_sectors_{target}_{sector}_tw_{tw}.npy\",\n",
    "            doinfo_two_sectors,\n",
    "        )"
   ]
  },
  {
   "cell_type": "code",
   "execution_count": null,
   "metadata": {},
   "outputs": [],
   "source": [
    "# DO NOT RUN IF YOU ALREADY HAVE THE VIOLIN PLOTS\n",
    "\n",
    "for target in sectors:\n",
    "    other_sectors = [sector for sector in sectors if sector != target]\n",
    "    fig, axs = plt.subplots(3, 3, figsize=(40, 40))\n",
    "    for i, sector in enumerate(other_sectors):\n",
    "        row = i // 3\n",
    "        col = i % 3\n",
    "        doinfo_one_sector = np.load(\n",
    "            f\"./results/economic_results/full/do_info/doinfo_one_sector_{target}_tw_{tw}.npy\"\n",
    "        )\n",
    "        doinfo_two_sectors = np.load(\n",
    "            f\"./results/economic_results/full/do_info/doinfo_two_sectors_{target}_{sector}_tw_{tw}.npy\"\n",
    "        )\n",
    "        parts = axs[row, col].violinplot(doinfo_one_sector, showextrema=False)\n",
    "        for pc in parts[\"bodies\"]:\n",
    "            pc.set_facecolor(\"tab:blue\")\n",
    "            pc.set_edgecolor(\"black\")\n",
    "            pc.set_alpha(0.5)\n",
    "        parts = axs[row, col].violinplot(doinfo_two_sectors, showextrema=False)\n",
    "        for pc in parts[\"bodies\"]:\n",
    "            pc.set_facecolor(\"tab:orange\")\n",
    "            pc.set_edgecolor(\"black\")\n",
    "            pc.set_alpha(0.5)\n",
    "        title = str(target + \" - \" + sector)\n",
    "        axs[row, col].set_title(title, size=35)\n",
    "        axs[row, col].set_ylabel(r\"$d\\Omega_3^{tot.}$\", size=40)\n",
    "        axs[row, col].tick_params(axis=\"both\", labelsize=18)\n",
    "        label1 = str(\"3 in \" + target)\n",
    "        label2 = str(\"1 in \" + target + \", 2 in \" + sector)\n",
    "        axs[row, col].legend(\n",
    "            handles=[\n",
    "                mpatches.Patch(color=\"tab:blue\", label=label1, alpha=0.4),\n",
    "                mpatches.Patch(color=\"tab:orange\", label=label2, alpha=0.4),\n",
    "            ],\n",
    "            fontsize=25,\n",
    "        )\n",
    "\n",
    "    plt.savefig(\n",
    "        f\"./results/economic_results/full/images/two_sectors/doinfo_two_sectors_{target}_tw_{tw}.pdf\",\n",
    "        dpi=600,\n",
    "        bbox_inches=\"tight\",\n",
    "    )"
   ]
  },
  {
   "cell_type": "markdown",
   "metadata": {},
   "source": [
    "<a name=\"J-S_divergence_full\"></a>\n",
    "#### J-S divergence"
   ]
  },
  {
   "cell_type": "markdown",
   "metadata": {},
   "source": [
    "Let's summarize the difference between the two distributions into a single number, so we can make a comparison."
   ]
  },
  {
   "cell_type": "code",
   "execution_count": null,
   "metadata": {},
   "outputs": [],
   "source": [
    "# The row index indicates the target sector, the column index the other sector\n",
    "df_full = pd.DataFrame(\n",
    "    columns=[\n",
    "        \"Industrials\",\n",
    "        \"Basic Materials\",\n",
    "        \"Financials\",\n",
    "        \"Consumer Services\",\n",
    "        \"Health Care\",\n",
    "        \"Utilities\",\n",
    "        \"Oil & Gas\",\n",
    "        \"Consumer Goods\",\n",
    "    ]\n",
    ")"
   ]
  },
  {
   "cell_type": "code",
   "execution_count": null,
   "metadata": {},
   "outputs": [],
   "source": [
    "# DO NOT RUN IF YOU ALREADY HAVE THE DATAFRAME\n",
    "\n",
    "for target in sectors:\n",
    "    other_sectors = [sector for sector in sectors if sector != target]\n",
    "\n",
    "    for i, sector in enumerate(other_sectors):\n",
    "        doinfo_one_sector = np.load(\n",
    "            f\"./results/economic_results/full/do_info/doinfo_one_sector_{target}_tw_{tw}.npy\"\n",
    "        )\n",
    "        doinfo_two_sectors = np.load(\n",
    "            f\"./results/economic_results/full/do_info/doinfo_two_sectors_{target}_{sector}_tw_{tw}.npy\"\n",
    "        )\n",
    "\n",
    "        df_full.at[target, sector] = JS_div(doinfo_one_sector, doinfo_two_sectors)"
   ]
  },
  {
   "cell_type": "code",
   "execution_count": null,
   "metadata": {},
   "outputs": [],
   "source": [
    "# DO NOT RUN IF YOU ALREADY HAVE THE DATAFRAME\n",
    "\n",
    "df_full.to_csv(\"./results/economic_results/full/result_full.csv\", index=True)\n",
    "df_full"
   ]
  },
  {
   "cell_type": "markdown",
   "metadata": {},
   "source": [
    "<a name=\"3_vs_1-1-1_full\"></a>\n",
    "### 3 vs 1-1-1"
   ]
  },
  {
   "cell_type": "markdown",
   "metadata": {},
   "source": [
    "The triplet from the same sector is compared with a triplet in which each element came from a different sector (one must be the target sector).\n",
    "  \n",
    "To ensure that the number of triplets is always the same I take 35, which is the maximum number that all sectors can offer."
   ]
  },
  {
   "cell_type": "code",
   "execution_count": null,
   "metadata": {
    "scrolled": true
   },
   "outputs": [],
   "source": [
    "# DO NOT RUN IF YOU ALREADY HAVE THE DATA\n",
    "\n",
    "for target in sectors:\n",
    "    other_sectors = [sector for sector in sectors if sector != target]\n",
    "\n",
    "    for i, sector1 in enumerate(other_sectors):\n",
    "        other_sectors2 = [sector for sector in other_sectors if sector != sector1]\n",
    "        for j, sector2 in enumerate(other_sectors2):\n",
    "\n",
    "            doinfo_three_sectors = get_do_infos_three_different(\n",
    "                target, sector1, sector2, binarized_financial_ts\n",
    "            )\n",
    "            np.save(\n",
    "                f\"./results/economic_results/full/do_info/doinfo_three_sectors_{target}_{sector1}_{sector2}_tw_{tw}.npy\",\n",
    "                doinfo_three_sectors,\n",
    "            )"
   ]
  },
  {
   "cell_type": "code",
   "execution_count": null,
   "metadata": {},
   "outputs": [],
   "source": [
    "# DO NOT RUN IF YOU ALREADY HAVE THE VIOLIN PLOTS\n",
    "\n",
    "for target1 in sectors:\n",
    "    for target2 in [sector for sector in sectors if sector != target1]:\n",
    "        other_sectors = [\n",
    "            sector for sector in sectors if sector != target1 and sector != target2\n",
    "        ]\n",
    "\n",
    "        fig, axs = plt.subplots(3, 2, figsize=(40, 40))\n",
    "        for i, sector in enumerate(other_sectors):\n",
    "            row = i // 2\n",
    "            col = i % 2\n",
    "            doinfo_one_sector = np.load(\n",
    "                f\"./results/economic_results/full/do_info/doinfo_one_sector_{target1}_tw_{tw}.npy\"\n",
    "            )\n",
    "            doinfo_three_sectors = np.load(\n",
    "                f\"./results/economic_results/full/do_info/doinfo_three_sectors_{target1}_{target2}_{sector}_tw_{tw}.npy\"\n",
    "            )\n",
    "            parts = axs[row, col].violinplot(doinfo_one_sector, showextrema=False)\n",
    "            for pc in parts[\"bodies\"]:\n",
    "                pc.set_facecolor(\"tab:blue\")\n",
    "                pc.set_edgecolor(\"black\")\n",
    "                pc.set_alpha(0.5)\n",
    "            parts = axs[row, col].violinplot(doinfo_three_sectors, showextrema=False)\n",
    "            for pc in parts[\"bodies\"]:\n",
    "                pc.set_facecolor(\"tab:orange\")\n",
    "                pc.set_edgecolor(\"black\")\n",
    "                pc.set_alpha(0.5)\n",
    "            title = str(target1 + \" - \" + target2 + \" - \" + sector)\n",
    "            axs[row, col].set_title(title, size=40)\n",
    "            axs[row, col].set_ylabel(r\"$d\\Omega_3^{tot.}$\", size=45)\n",
    "            axs[row, col].tick_params(axis=\"both\", labelsize=25)\n",
    "            label1 = str(\"3 in \" + target1)\n",
    "            label2 = str(\"1 in \" + target1 + \", 1 in \" + target2 + \", 1 in \" + sector)\n",
    "            axs[row, col].legend(\n",
    "                handles=[\n",
    "                    mpatches.Patch(color=\"tab:blue\", label=label1, alpha=0.5),\n",
    "                    mpatches.Patch(color=\"tab:orange\", label=label2, alpha=0.5),\n",
    "                ],\n",
    "                fontsize=25,\n",
    "            )\n",
    "\n",
    "        plt.savefig(\n",
    "            f\"./results/economic_results/full/images/three_sectors/doinfo_three_sectors_{target1}_{target2}_tw_{tw}.pdf\",\n",
    "            dpi=600,\n",
    "            bbox_inches=\"tight\",\n",
    "        )"
   ]
  },
  {
   "cell_type": "markdown",
   "metadata": {},
   "source": [
    "<a name=\"half_length\"></a>\n",
    "## Half length"
   ]
  },
  {
   "cell_type": "markdown",
   "metadata": {},
   "source": [
    "I only take half time series, to see if the differences between the distributions decrease."
   ]
  },
  {
   "cell_type": "code",
   "execution_count": null,
   "metadata": {},
   "outputs": [],
   "source": [
    "half_length = int(len(binarized_financial_ts) / 2)\n",
    "binarized_financial_ts_half = binarized_financial_ts[:half_length]\n",
    "binarized_financial_ts_half"
   ]
  },
  {
   "cell_type": "markdown",
   "metadata": {},
   "source": [
    "<a name=\"thomas_work_half\"></a>\n",
    "### Thomas' work"
   ]
  },
  {
   "cell_type": "code",
   "execution_count": null,
   "metadata": {
    "scrolled": true
   },
   "outputs": [],
   "source": [
    "# DO NOT RUN IF YOU ALREADY HAVE THE DATA\n",
    "\n",
    "for i in range(len(sectors)):\n",
    "    doinfo_same_sector, doinfo_different_sector = get_do_infos(\n",
    "        sectors[i], binarized_financial_ts_half\n",
    "    )\n",
    "\n",
    "    np.save(\n",
    "        f\"./results/economic_results/half/do_info/doinfo_same_sector_{sectors[i]}_tw_{tw}.npy\",\n",
    "        doinfo_same_sector,\n",
    "    )\n",
    "\n",
    "    np.save(\n",
    "        f\"./results/economic_results/half/do_info/doinfo_different_sector_{sectors[i]}_tw_{tw}.npy\",\n",
    "        doinfo_different_sector,\n",
    "    )"
   ]
  },
  {
   "cell_type": "code",
   "execution_count": null,
   "metadata": {},
   "outputs": [],
   "source": [
    "# DO NOT RUN IF YOU ALREADY HAVE THE VIOLIN PLOT\n",
    "\n",
    "fig, axs = plt.subplots(3, 3, figsize=(40, 40))\n",
    "for i in range(len(sectors)):\n",
    "    row = i // 3\n",
    "    col = i % 3\n",
    "    doinfo_same_sector = np.load(\n",
    "        f\"./results/economic_results/half/do_info/doinfo_same_sector_{sectors[i]}_tw_{tw}.npy\"\n",
    "    )\n",
    "    doinfo_different_sector = np.load(\n",
    "        f\"./results/economic_results/half/do_info/doinfo_different_sector_{sectors[i]}_tw_{tw}.npy\"\n",
    "    )\n",
    "    parts = axs[row, col].violinplot(doinfo_same_sector, showextrema=False)\n",
    "    for pc in parts[\"bodies\"]:\n",
    "        pc.set_facecolor(\"tab:blue\")\n",
    "        pc.set_edgecolor(\"black\")\n",
    "        pc.set_alpha(0.5)\n",
    "    parts = axs[row, col].violinplot(doinfo_different_sector, showextrema=False)\n",
    "    for pc in parts[\"bodies\"]:\n",
    "        pc.set_facecolor(\"tab:orange\")\n",
    "        pc.set_edgecolor(\"black\")\n",
    "        pc.set_alpha(0.5)\n",
    "    axs[row, col].set_title(sectors[i], size=35)\n",
    "    axs[row, col].set_ylabel(r\"$d\\Omega_3^{tot.}$\", size=37)\n",
    "    axs[row, col].tick_params(axis=\"both\", labelsize=18)\n",
    "    axs[row, col].legend(\n",
    "        handles=[\n",
    "            mpatches.Patch(color=\"tab:blue\", label=\"Same sector\", alpha=0.4),\n",
    "            mpatches.Patch(color=\"tab:orange\", label=\"Different sector\", alpha=0.4),\n",
    "        ],\n",
    "        fontsize=30,\n",
    "    )\n",
    "\n",
    "\n",
    "plt.savefig(\n",
    "    f\"./results/economic_results/half/images/doinfo_random_sectors_tw_{tw}.pdf\",\n",
    "    dpi=600,\n",
    "    bbox_inches=\"tight\",\n",
    ")"
   ]
  },
  {
   "cell_type": "markdown",
   "metadata": {},
   "source": [
    "<a name=\"3_vs_1-2_half\"></a>\n",
    "### 3 vs 1-2\n",
    "\n",
    "!!!! Run the initial part of the full 3 vs 1-2 first, so as to eliminate the stocks relating to technology"
   ]
  },
  {
   "cell_type": "code",
   "execution_count": null,
   "metadata": {
    "scrolled": true
   },
   "outputs": [],
   "source": [
    "# DO NOT RUN IF YOU ALREADY HAVE THE DATA\n",
    "\n",
    "for target in sectors:\n",
    "    other_sectors = [sector for sector in sectors if sector != target]\n",
    "    for i, sector in enumerate(other_sectors):\n",
    "\n",
    "        if i == 0:\n",
    "            doinfo_one_sector = get_do_infos_same(target, binarized_financial_ts_half)\n",
    "            np.save(\n",
    "                f\"./results/economic_results/half/do_info/doinfo_one_sector_{target}_tw_{tw}.npy\",\n",
    "                doinfo_one_sector,\n",
    "            )\n",
    "\n",
    "        doinfo_two_sectors = get_do_infos_two_different(\n",
    "            target, sector, binarized_financial_ts_half\n",
    "        )\n",
    "        np.save(\n",
    "            f\"./results/economic_results/half/do_info/doinfo_two_sectors_{target}_{sector}_tw_{tw}.npy\",\n",
    "            doinfo_two_sectors,\n",
    "        )"
   ]
  },
  {
   "cell_type": "code",
   "execution_count": null,
   "metadata": {},
   "outputs": [],
   "source": [
    "# DO NOT RUN IF YOU ALREADY HAVE THE VIOLIN PLOTS\n",
    "\n",
    "for target in sectors:\n",
    "    other_sectors = [sector for sector in sectors if sector != target]\n",
    "    fig, axs = plt.subplots(3, 3, figsize=(40, 40))\n",
    "    for i, sector in enumerate(other_sectors):\n",
    "        row = i // 3\n",
    "        col = i % 3\n",
    "        doinfo_one_sector = np.load(\n",
    "            f\"./results/economic_results/half/do_info/doinfo_one_sector_{target}_tw_{tw}.npy\"\n",
    "        )\n",
    "        doinfo_two_sectors = np.load(\n",
    "            f\"./results/economic_results/half/do_info/doinfo_two_sectors_{target}_{sector}_tw_{tw}.npy\"\n",
    "        )\n",
    "        parts = axs[row, col].violinplot(doinfo_one_sector, showextrema=False)\n",
    "        for pc in parts[\"bodies\"]:\n",
    "            pc.set_facecolor(\"tab:blue\")\n",
    "            pc.set_edgecolor(\"black\")\n",
    "            pc.set_alpha(0.5)\n",
    "        parts = axs[row, col].violinplot(doinfo_two_sectors, showextrema=False)\n",
    "        for pc in parts[\"bodies\"]:\n",
    "            pc.set_facecolor(\"tab:orange\")\n",
    "            pc.set_edgecolor(\"black\")\n",
    "            pc.set_alpha(0.5)\n",
    "        title = str(target + \" - \" + sector)\n",
    "        axs[row, col].set_title(title, size=35)\n",
    "        axs[row, col].set_ylabel(r\"$d\\Omega_3^{tot.}$\", size=40)\n",
    "        axs[row, col].tick_params(axis=\"both\", labelsize=18)\n",
    "        label1 = str(\"3 in \" + target)\n",
    "        label2 = str(\"1 in \" + target + \", 2 in \" + sector)\n",
    "        axs[row, col].legend(\n",
    "            handles=[\n",
    "                mpatches.Patch(color=\"tab:blue\", label=label1, alpha=0.4),\n",
    "                mpatches.Patch(color=\"tab:orange\", label=label2, alpha=0.4),\n",
    "            ],\n",
    "            fontsize=25,\n",
    "        )\n",
    "\n",
    "    plt.savefig(\n",
    "        f\"./results/economic_results/half/images/two_sectors/doinfo_two_sectors_{target}_tw_{tw}.pdf\",\n",
    "        dpi=600,\n",
    "        bbox_inches=\"tight\",\n",
    "    )"
   ]
  },
  {
   "cell_type": "markdown",
   "metadata": {},
   "source": [
    "<a name=\"J-S_divergence_half\"></a>\n",
    "#### J-S divergence"
   ]
  },
  {
   "cell_type": "code",
   "execution_count": null,
   "metadata": {},
   "outputs": [],
   "source": [
    "# The row index indicates the target sector, the column index the other sector\n",
    "df_half = pd.DataFrame(\n",
    "    columns=[\n",
    "        \"Industrials\",\n",
    "        \"Basic Materials\",\n",
    "        \"Financials\",\n",
    "        \"Consumer Services\",\n",
    "        \"Health Care\",\n",
    "        \"Utilities\",\n",
    "        \"Oil & Gas\",\n",
    "        \"Consumer Goods\",\n",
    "    ]\n",
    ")"
   ]
  },
  {
   "cell_type": "code",
   "execution_count": null,
   "metadata": {},
   "outputs": [],
   "source": [
    "# DO NOT RUN IF YOU ALREADY HAVE THE DATAFRAME\n",
    "\n",
    "for target in sectors:\n",
    "    other_sectors = [sector for sector in sectors if sector != target]\n",
    "\n",
    "    for i, sector in enumerate(other_sectors):\n",
    "        doinfo_one_sector = np.load(\n",
    "            f\"./results/economic_results/half/do_info/doinfo_one_sector_{target}_tw_{tw}.npy\"\n",
    "        )\n",
    "        doinfo_two_sectors = np.load(\n",
    "            f\"./results/economic_results/half/do_info/doinfo_two_sectors_{target}_{sector}_tw_{tw}.npy\"\n",
    "        )\n",
    "\n",
    "        df_half.at[target, sector] = JS_div(doinfo_one_sector, doinfo_two_sectors)"
   ]
  },
  {
   "cell_type": "code",
   "execution_count": null,
   "metadata": {},
   "outputs": [],
   "source": [
    "# DO NOT RUN IF YOU ALREADY HAVE THE DATAFRAME\n",
    "\n",
    "df_half.to_csv(\"./results/economic_results/half/result_full.csv\", index=True)\n",
    "df_half"
   ]
  },
  {
   "cell_type": "markdown",
   "metadata": {},
   "source": [
    "<a name=\"3_vs_1-1-1_half\"></a>\n",
    "### 3 vs 1-1-1"
   ]
  },
  {
   "cell_type": "code",
   "execution_count": null,
   "metadata": {},
   "outputs": [],
   "source": [
    "# DO NOT RUN IF YOU ALREADY HAVE THE DATA\n",
    "\n",
    "for target in sectors:\n",
    "    other_sectors = [sector for sector in sectors if sector != target]\n",
    "\n",
    "    for i, sector1 in enumerate(other_sectors):\n",
    "        other_sectors2 = [sector for sector in other_sectors if sector != sector1]\n",
    "        for j, sector2 in enumerate(other_sectors2):\n",
    "\n",
    "            doinfo_three_sectors = get_do_infos_three_different(\n",
    "                target, sector1, sector2, binarized_financial_ts_half\n",
    "            )\n",
    "            np.save(\n",
    "                f\"./results/economic_results/half/do_info/doinfo_three_sectors_{target}_{sector1}_{sector2}_tw_{tw}.npy\",\n",
    "                doinfo_three_sectors,\n",
    "            )"
   ]
  },
  {
   "cell_type": "code",
   "execution_count": null,
   "metadata": {},
   "outputs": [],
   "source": [
    "# DO NOT RUN IF YOU ALREADY HAVE THE VIOLIN PLOTS\n",
    "\n",
    "for target1 in sectors:\n",
    "    for target2 in [sector for sector in sectors if sector != target1]:\n",
    "        other_sectors = [\n",
    "            sector for sector in sectors if sector != target1 and sector != target2\n",
    "        ]\n",
    "\n",
    "        fig, axs = plt.subplots(3, 2, figsize=(40, 40))\n",
    "        for i, sector in enumerate(other_sectors):\n",
    "            row = i // 2\n",
    "            col = i % 2\n",
    "            doinfo_one_sector = np.load(\n",
    "                f\"./results/economic_results/half/do_info/doinfo_one_sector_{target1}_tw_{tw}.npy\"\n",
    "            )\n",
    "            doinfo_three_sectors = np.load(\n",
    "                f\"./results/economic_results/half/do_info/doinfo_three_sectors_{target1}_{target2}_{sector}_tw_{tw}.npy\"\n",
    "            )\n",
    "            parts = axs[row, col].violinplot(doinfo_one_sector, showextrema=False)\n",
    "            for pc in parts[\"bodies\"]:\n",
    "                pc.set_facecolor(\"tab:blue\")\n",
    "                pc.set_edgecolor(\"black\")\n",
    "                pc.set_alpha(0.5)\n",
    "            parts = axs[row, col].violinplot(doinfo_three_sectors, showextrema=False)\n",
    "            for pc in parts[\"bodies\"]:\n",
    "                pc.set_facecolor(\"tab:orange\")\n",
    "                pc.set_edgecolor(\"black\")\n",
    "                pc.set_alpha(0.5)\n",
    "            title = str(target1 + \" - \" + target2 + \" - \" + sector)\n",
    "            axs[row, col].set_title(title, size=40)\n",
    "            axs[row, col].set_ylabel(r\"$d\\Omega_3^{tot.}$\", size=45)\n",
    "            axs[row, col].tick_params(axis=\"both\", labelsize=25)\n",
    "            label1 = str(\"3 in \" + target1)\n",
    "            label2 = str(\"1 in \" + target1 + \", 1 in \" + target2 + \", 1 in \" + sector)\n",
    "            axs[row, col].legend(\n",
    "                handles=[\n",
    "                    mpatches.Patch(color=\"tab:blue\", label=label1, alpha=0.5),\n",
    "                    mpatches.Patch(color=\"tab:orange\", label=label2, alpha=0.5),\n",
    "                ],\n",
    "                fontsize=25,\n",
    "            )\n",
    "\n",
    "        plt.savefig(\n",
    "            f\"./results/economic_results/half/images/three_sectors/doinfo_three_sectors_{target1}_{target2}_tw_{tw}.pdf\",\n",
    "            dpi=600,\n",
    "            bbox_inches=\"tight\",\n",
    "        )"
   ]
  },
  {
   "cell_type": "markdown",
   "metadata": {},
   "source": [
    "<a name=\"comparison_lengths\"></a>\n",
    "## Comparison different lengths"
   ]
  },
  {
   "cell_type": "markdown",
   "metadata": {},
   "source": [
    "<a name=\"comparison_f_h\"></a>\n",
    "### Comparison full-half"
   ]
  },
  {
   "cell_type": "markdown",
   "metadata": {},
   "source": [
    "In this section I compare the results obtained considering the entire length with those obtained considering only half of it. In each plot a target is considered; on the y-axis there is the JS-divergence (for full length) between the distributions in which the triplet is all in the target and in which one point is in the target and the other two in another sector. On the x axis there is the similar quantity but for half the length."
   ]
  },
  {
   "cell_type": "code",
   "execution_count": null,
   "metadata": {},
   "outputs": [],
   "source": [
    "df_full = pd.read_csv(\"./results/economic_results/full/result_full.csv\", index_col=0)\n",
    "df_half = pd.read_csv(\"./results/economic_results/half/result_full.csv\", index_col=0)"
   ]
  },
  {
   "cell_type": "code",
   "execution_count": null,
   "metadata": {},
   "outputs": [],
   "source": [
    "df_full"
   ]
  },
  {
   "cell_type": "code",
   "execution_count": null,
   "metadata": {},
   "outputs": [],
   "source": [
    "df_half"
   ]
  },
  {
   "cell_type": "code",
   "execution_count": null,
   "metadata": {},
   "outputs": [],
   "source": [
    "name_rows = df_full.index.tolist()\n",
    "name_columns = df_full.columns.tolist()"
   ]
  },
  {
   "cell_type": "code",
   "execution_count": null,
   "metadata": {},
   "outputs": [],
   "source": [
    "# DO NOT RUN IF YOU ALREADY HAVE THE SCATTER PLOTS\n",
    "\n",
    "for row in name_rows:\n",
    "    columns = [column for column in name_columns if column != row]\n",
    "\n",
    "    x = [df_half.loc[row, column] for column in columns]\n",
    "    y = [df_full.loc[row, column] for column in columns]\n",
    "    \n",
    "    x_values = np.linspace(min(x), max(x), 100)\n",
    "    plt.plot(x_values, x_values, color=\"red\", linewidth=1.5)\n",
    "\n",
    "    plt.scatter(x, y)\n",
    "    plt.xlabel(\"JS-div half length\")\n",
    "    plt.ylabel(\"JS-div full length\")\n",
    "    plt.title(f\"Plot for target = {row}\")\n",
    "    plt.savefig(\n",
    "        f\"./results/economic_results/comparison/images/JS_div_two_sectors_target_{row}.pdf\",\n",
    "        dpi=600,\n",
    "        bbox_inches=\"tight\",\n",
    "    )\n",
    "    plt.show()"
   ]
  },
  {
   "cell_type": "code",
   "execution_count": null,
   "metadata": {},
   "outputs": [],
   "source": [
    "above_bisector = []\n",
    "below_bisector = []\n",
    "\n",
    "for row in name_rows:\n",
    "    above_count = 0\n",
    "    columns = [column for column in name_columns if column != row]\n",
    "\n",
    "    x = [df_half.loc[row, column] for column in columns]\n",
    "    y = [df_full.loc[row, column] for column in columns]\n",
    "    \n",
    "    for i in range(len(x)):\n",
    "        if x[i] < y[i]:\n",
    "            above_count += 1\n",
    "            \n",
    "    above_bisector.append(above_count)\n",
    "    below_bisector.append(len(x) - above_count)\n",
    "    \n",
    "\n",
    "df_comparison = pd.DataFrame(\n",
    "    [above_bisector, below_bisector], index=[\"+\", \"-\"], columns=name_columns\n",
    ")\n",
    "\n",
    "df_comparison"
   ]
  },
  {
   "cell_type": "markdown",
   "metadata": {},
   "source": [
    "<a name=\"creation_dataset\"></a>\n",
    "### Creation dataset"
   ]
  },
  {
   "cell_type": "markdown",
   "metadata": {},
   "source": [
    "I consider the performance of the JS-div as the length of the TS varies."
   ]
  },
  {
   "cell_type": "markdown",
   "metadata": {},
   "source": [
    "Full length"
   ]
  },
  {
   "cell_type": "code",
   "execution_count": null,
   "metadata": {},
   "outputs": [],
   "source": [
    "# DO NOT RUN IF YOU ALREADY HAVE THE DATA\n",
    "\n",
    "length = len(binarized_financial_ts)\n",
    "\n",
    "for target in sectors:\n",
    "    other_sectors = [sector for sector in sectors if sector != target]\n",
    "\n",
    "    for i, sector in enumerate(other_sectors):\n",
    "        doinfo_one_sector = np.load(\n",
    "            f\"./results/economic_results/full/do_info/doinfo_one_sector_{target}_tw_{tw}.npy\"\n",
    "        )\n",
    "        np.save(\n",
    "            f\"./results/economic_results/comparison/do_info/one_sector_{target}_length_{length}.npy\",\n",
    "            doinfo_one_sector,\n",
    "        )\n",
    "\n",
    "        doinfo_two_sectors = np.load(\n",
    "            f\"./results/economic_results/full/do_info/doinfo_two_sectors_{target}_{sector}_tw_{tw}.npy\"\n",
    "        )\n",
    "        np.save(\n",
    "            f\"./results/economic_results/comparison/do_info/two_sectors_{target}_{sector}_length_{length}.npy\",\n",
    "            doinfo_two_sectors,\n",
    "        )"
   ]
  },
  {
   "cell_type": "markdown",
   "metadata": {},
   "source": [
    "Half length"
   ]
  },
  {
   "cell_type": "code",
   "execution_count": null,
   "metadata": {},
   "outputs": [],
   "source": [
    "# DO NOT RUN IF YOU ALREADY HAVE THE DATA\n",
    "\n",
    "length = int(len(binarized_financial_ts) / 2)\n",
    "\n",
    "for target in sectors:\n",
    "    other_sectors = [sector for sector in sectors if sector != target]\n",
    "\n",
    "    for i, sector in enumerate(other_sectors):\n",
    "        doinfo_one_sector = np.load(\n",
    "            f\"./results/economic_results/half/do_info/doinfo_one_sector_{target}_tw_{tw}.npy\"\n",
    "        )\n",
    "        np.save(\n",
    "            f\"./results/economic_results/comparison/do_info/one_sector_{target}_length_{length}.npy\",\n",
    "            doinfo_one_sector,\n",
    "        )\n",
    "\n",
    "        doinfo_two_sectors = np.load(\n",
    "            f\"./results/economic_results/half/do_info/doinfo_two_sectors_{target}_{sector}_tw_{tw}.npy\"\n",
    "        )\n",
    "        np.save(\n",
    "            f\"./results/economic_results/comparison/do_info/two_sectors_{target}_{sector}_length_{length}.npy\",\n",
    "            doinfo_two_sectors,\n",
    "        )"
   ]
  },
  {
   "cell_type": "markdown",
   "metadata": {},
   "source": [
    "Other lengths"
   ]
  },
  {
   "cell_type": "code",
   "execution_count": null,
   "metadata": {
    "scrolled": true
   },
   "outputs": [],
   "source": [
    "# DO NOT RUN IF YOU ALREADY HAVE THE DATA\n",
    "\n",
    "lengths = [540, 1080, 1620, 2160, 3240, 3780, 4320, 4860]\n",
    "\n",
    "for length in lengths:\n",
    "    for target in sectors:\n",
    "        other_sectors = [sector for sector in sectors if sector != target]\n",
    "        for i, sector in enumerate(other_sectors):\n",
    "\n",
    "            if i == 0:\n",
    "                doinfo_one_sector = get_do_infos_same(\n",
    "                    target, binarized_financial_ts[:length]\n",
    "                )\n",
    "                np.save(\n",
    "                    f\"./results/economic_results/comparison/do_info/one_sector_{target}_length_{length}.npy\",\n",
    "                    doinfo_one_sector,\n",
    "                )\n",
    "\n",
    "            doinfo_two_sectors = get_do_infos_two_different(\n",
    "                target, sector, binarized_financial_ts[:length]\n",
    "            )\n",
    "            np.save(\n",
    "                f\"./results/economic_results/comparison/do_info/two_sectors_{target}_{sector}_length_{length}.npy\",\n",
    "                doinfo_two_sectors,\n",
    "            )"
   ]
  },
  {
   "cell_type": "markdown",
   "metadata": {},
   "source": [
    "<a name=\"comparison_industrials\"></a>\n",
    "#### Comparison Industrials"
   ]
  },
  {
   "cell_type": "code",
   "execution_count": null,
   "metadata": {},
   "outputs": [],
   "source": [
    "df_industrials = pd.DataFrame(\n",
    "    columns=[\n",
    "        \"Basic Materials\",\n",
    "        \"Financials\",\n",
    "        \"Consumer Services\",\n",
    "        \"Health Care\",\n",
    "        \"Utilities\",\n",
    "        \"Oil & Gas\",\n",
    "        \"Consumer Goods\",\n",
    "    ]\n",
    ")"
   ]
  },
  {
   "cell_type": "code",
   "execution_count": null,
   "metadata": {},
   "outputs": [],
   "source": [
    "lengths = [\n",
    "    int(len(binarized_financial_ts) * i)\n",
    "    for i in np.linspace(0.1, 1, 10)\n",
    "]"
   ]
  },
  {
   "cell_type": "code",
   "execution_count": null,
   "metadata": {},
   "outputs": [],
   "source": [
    "# DO NOT RUN IF YOU ALREADY HAVE THE DATAFRAME\n",
    "\n",
    "for length in lengths:\n",
    "    for target in [\"Industrials\"]:\n",
    "        other_sectors = [sector for sector in sectors if sector != target]\n",
    "\n",
    "        for i, sector in enumerate(other_sectors):\n",
    "            doinfo_one_sector = np.load(\n",
    "                f\"./results/economic_results/comparison/do_info/one_sector_{target}_length_{length}.npy\"\n",
    "            )\n",
    "            doinfo_two_sectors = np.load(\n",
    "                f\"./results/economic_results/comparison/do_info/two_sectors_{target}_{sector}_length_{length}.npy\"\n",
    "            )\n",
    "\n",
    "            df_industrials.at[length, sector] = JS_div(doinfo_one_sector, doinfo_two_sectors)\n",
    "            \n",
    "df_industrials.to_csv(\"./results/economic_results/comparison/length_Industrials.csv\", index=True)"
   ]
  },
  {
   "cell_type": "code",
   "execution_count": null,
   "metadata": {},
   "outputs": [],
   "source": [
    "df_industrials = pd.read_csv(\"./results/economic_results/comparison/length_Industrials.csv\", index_col=0)\n",
    "df_industrials"
   ]
  },
  {
   "cell_type": "code",
   "execution_count": null,
   "metadata": {},
   "outputs": [],
   "source": [
    "# DO NOT RUN IF YOU ALREADY HAVE THE PLOT\n",
    "\n",
    "num_rows = len(df_industrials.columns)\n",
    "num_cols = 1\n",
    "\n",
    "fig, axs = plt.subplots(num_rows, num_cols, figsize=(10, 25))\n",
    "\n",
    "for i, column in enumerate(df_industrials.columns):\n",
    "    label = str(f\"{column}\")\n",
    "    axs[i].scatter(df_industrials.index, df_industrials[column], label=label)\n",
    "\n",
    "    axs[i].legend(fontsize=13)\n",
    "    axs[i].set_ylabel(\"JS-div\", fontsize=14)\n",
    "\n",
    "    if i == num_rows - 1:\n",
    "        axs[i].set_xlabel(\"Length\", fontsize=14)\n",
    "\n",
    "fig.suptitle(\"Industrials\", fontsize=22)\n",
    "plt.subplots_adjust(top=0.96)\n",
    "\n",
    "plt.savefig(\n",
    "    f\"./results/economic_results/comparison/images/JS_div_different_lengths_Industrials.pdf\",\n",
    "    dpi=600,\n",
    "    bbox_inches=\"tight\",\n",
    ")\n",
    "\n",
    "plt.show()"
   ]
  },
  {
   "cell_type": "markdown",
   "metadata": {},
   "source": [
    "<a name=\"comparison_basic_materials\"></a>\n",
    "#### Comparison Basic Materials"
   ]
  },
  {
   "cell_type": "code",
   "execution_count": null,
   "metadata": {},
   "outputs": [],
   "source": [
    "df__basic_materials = pd.DataFrame(\n",
    "    columns=[\n",
    "        \"Industrials\",\n",
    "        \"Financials\",\n",
    "        \"Consumer Services\",\n",
    "        \"Health Care\",\n",
    "        \"Utilities\",\n",
    "        \"Oil & Gas\",\n",
    "        \"Consumer Goods\",\n",
    "    ]\n",
    ")"
   ]
  },
  {
   "cell_type": "code",
   "execution_count": null,
   "metadata": {},
   "outputs": [],
   "source": [
    "# DO NOT RUN IF YOU ALREADY HAVE THE DATAFRAME\n",
    "\n",
    "for length in lengths:\n",
    "    for target in [\"Basic Materials\"]:\n",
    "        other_sectors = [sector for sector in sectors if sector != target]\n",
    "\n",
    "        for i, sector in enumerate(other_sectors):\n",
    "            doinfo_one_sector = np.load(\n",
    "                f\"./results/economic_results/comparison/do_info/one_sector_{target}_length_{length}.npy\"\n",
    "            )\n",
    "            doinfo_two_sectors = np.load(\n",
    "                f\"./results/economic_results/comparison/do_info/two_sectors_{target}_{sector}_length_{length}.npy\"\n",
    "            )\n",
    "\n",
    "            df__basic_materials.at[length, sector] = JS_div(doinfo_one_sector, doinfo_two_sectors)\n",
    "            \n",
    "df__basic_materials.to_csv(\"./results/economic_results/comparison/length_Basic_Materials.csv\", index=True)"
   ]
  },
  {
   "cell_type": "code",
   "execution_count": null,
   "metadata": {},
   "outputs": [],
   "source": [
    "df__basic_materials = pd.read_csv(\"./results/economic_results/comparison/length_Basic_Materials.csv\", index_col=0)\n",
    "df__basic_materials"
   ]
  },
  {
   "cell_type": "code",
   "execution_count": null,
   "metadata": {},
   "outputs": [],
   "source": [
    "# DO NOT RUN IF YOU ALREADY HAVE THE PLOT\n",
    "\n",
    "num_rows = len(df__basic_materials.columns)\n",
    "num_cols = 1\n",
    "\n",
    "fig, axs = plt.subplots(num_rows, num_cols, figsize=(10, 25))\n",
    "\n",
    "for i, column in enumerate(df__basic_materials.columns):\n",
    "    label = str(f\"{column}\")\n",
    "    axs[i].scatter(df__basic_materials.index, df__basic_materials[column], label=label)\n",
    "\n",
    "    axs[i].legend(fontsize=13)\n",
    "    axs[i].set_ylabel(\"JS-div\", fontsize=14)\n",
    "\n",
    "    if i == num_rows - 1:\n",
    "        axs[i].set_xlabel(\"Length\", fontsize=14)\n",
    "\n",
    "fig.suptitle(\"Basic Materials\", fontsize=22)\n",
    "plt.subplots_adjust(top=0.96)\n",
    "\n",
    "plt.savefig(\n",
    "    f\"./results/economic_results/comparison/images/JS_div_different_lengths_Basic_Materials.pdf\",\n",
    "    dpi=600,\n",
    "    bbox_inches=\"tight\",\n",
    ")\n",
    "\n",
    "plt.show()"
   ]
  },
  {
   "cell_type": "markdown",
   "metadata": {},
   "source": [
    "<a name=\"comparison_financials\"></a>\n",
    "#### Comparison Financials"
   ]
  },
  {
   "cell_type": "code",
   "execution_count": null,
   "metadata": {},
   "outputs": [],
   "source": [
    "df_financials = pd.DataFrame(\n",
    "    columns=[\n",
    "        \"Industrials\",\n",
    "        \"Basic Materials\",\n",
    "        \"Consumer Services\",\n",
    "        \"Health Care\",\n",
    "        \"Utilities\",\n",
    "        \"Oil & Gas\",\n",
    "        \"Consumer Goods\",\n",
    "    ]\n",
    ")"
   ]
  },
  {
   "cell_type": "code",
   "execution_count": null,
   "metadata": {},
   "outputs": [],
   "source": [
    "# DO NOT RUN IF YOU ALREADY HAVE THE DATAFRAME\n",
    "\n",
    "for length in lengths:\n",
    "    for target in [\"Financials\"]:\n",
    "        other_sectors = [sector for sector in sectors if sector != target]\n",
    "\n",
    "        for i, sector in enumerate(other_sectors):\n",
    "            doinfo_one_sector = np.load(\n",
    "                f\"./results/economic_results/comparison/do_info/one_sector_{target}_length_{length}.npy\"\n",
    "            )\n",
    "            doinfo_two_sectors = np.load(\n",
    "                f\"./results/economic_results/comparison/do_info/two_sectors_{target}_{sector}_length_{length}.npy\"\n",
    "            )\n",
    "\n",
    "            df_financials.at[length, sector] = JS_div(doinfo_one_sector, doinfo_two_sectors)\n",
    "\n",
    "df_financials.to_csv(\"./results/economic_results/comparison/length_Financial.csv\", index=True)"
   ]
  },
  {
   "cell_type": "code",
   "execution_count": null,
   "metadata": {
    "scrolled": false
   },
   "outputs": [],
   "source": [
    "df_financials = pd.read_csv(\"./results/economic_results/comparison/length_Financial.csv\", index_col=0)\n",
    "df_financials"
   ]
  },
  {
   "cell_type": "code",
   "execution_count": null,
   "metadata": {
    "scrolled": true
   },
   "outputs": [],
   "source": [
    "# DO NOT RUN IF YOU ALREADY HAVE THE PLOT\n",
    "\n",
    "num_rows = len(df_financials.columns)\n",
    "num_cols = 1\n",
    "\n",
    "fig, axs = plt.subplots(num_rows, num_cols, figsize=(10, 25))\n",
    "\n",
    "for i, column in enumerate(df_financials.columns):\n",
    "    label = str(f\"{column}\")\n",
    "    axs[i].scatter(df_financials.index, df_financials[column], label=label)\n",
    "\n",
    "    axs[i].legend(fontsize=13)\n",
    "    axs[i].set_ylabel(\"JS-div\", fontsize=14)\n",
    "\n",
    "    if i == num_rows - 1:\n",
    "        axs[i].set_xlabel(\"Length\", fontsize=14)\n",
    "\n",
    "fig.suptitle(\"Financials\", fontsize=22)\n",
    "plt.subplots_adjust(top=0.96)\n",
    "\n",
    "plt.savefig(\n",
    "    f\"./results/economic_results/comparison/images/JS_div_different_lengths_Financials.pdf\",\n",
    "    dpi=600,\n",
    "    bbox_inches=\"tight\",\n",
    ")\n",
    "\n",
    "plt.show()"
   ]
  },
  {
   "cell_type": "markdown",
   "metadata": {},
   "source": [
    "<a name=\"comparison_consumer_services\"></a>\n",
    "#### Comparison Consumer Services"
   ]
  },
  {
   "cell_type": "code",
   "execution_count": null,
   "metadata": {},
   "outputs": [],
   "source": [
    "df_consumer_services = pd.DataFrame(\n",
    "    columns=[\n",
    "        \"Industrials\",\n",
    "        \"Basic Materials\",\n",
    "        \"Financials\",\n",
    "        \"Health Care\",\n",
    "        \"Utilities\",\n",
    "        \"Oil & Gas\",\n",
    "        \"Consumer Goods\",\n",
    "    ]\n",
    ")"
   ]
  },
  {
   "cell_type": "code",
   "execution_count": null,
   "metadata": {},
   "outputs": [],
   "source": [
    "# DO NOT RUN IF YOU ALREADY HAVE THE DATAFRAME\n",
    "\n",
    "for length in lengths:\n",
    "    for target in [\"Consumer Services\"]:\n",
    "        other_sectors = [sector for sector in sectors if sector != target]\n",
    "\n",
    "        for i, sector in enumerate(other_sectors):\n",
    "            doinfo_one_sector = np.load(\n",
    "                f\"./results/economic_results/comparison/do_info/one_sector_{target}_length_{length}.npy\"\n",
    "            )\n",
    "            doinfo_two_sectors = np.load(\n",
    "                f\"./results/economic_results/comparison/do_info/two_sectors_{target}_{sector}_length_{length}.npy\"\n",
    "            )\n",
    "\n",
    "            df_consumer_services.at[length, sector] = JS_div(doinfo_one_sector, doinfo_two_sectors)\n",
    "            \n",
    "df_consumer_services.to_csv(\"./results/economic_results/comparison/length_Consumer_Services.csv\", index=True)"
   ]
  },
  {
   "cell_type": "code",
   "execution_count": null,
   "metadata": {},
   "outputs": [],
   "source": [
    "df_consumer_services = pd.read_csv(\"./results/economic_results/comparison/length_Consumer_Services.csv\", index_col=0)\n",
    "df_consumer_services"
   ]
  },
  {
   "cell_type": "code",
   "execution_count": null,
   "metadata": {},
   "outputs": [],
   "source": [
    "# DO NOT RUN IF YOU ALREADY HAVE THE PLOT\n",
    "\n",
    "num_rows = len(df_consumer_services.columns)\n",
    "num_cols = 1\n",
    "\n",
    "fig, axs = plt.subplots(num_rows, num_cols, figsize=(10, 25))\n",
    "\n",
    "for i, column in enumerate(df_consumer_services.columns):\n",
    "    label = str(f\"{column}\")\n",
    "    axs[i].scatter(df_consumer_services.index, df_consumer_services[column], label=label)\n",
    "\n",
    "    axs[i].legend(fontsize=13)\n",
    "    axs[i].set_ylabel(\"JS-div\", fontsize=14)\n",
    "\n",
    "    if i == num_rows - 1:\n",
    "        axs[i].set_xlabel(\"Length\", fontsize=14)\n",
    "\n",
    "fig.suptitle(\"Consumer Services\", fontsize=22)\n",
    "plt.subplots_adjust(top=0.96)\n",
    "\n",
    "plt.savefig(\n",
    "    f\"./results/economic_results/comparison/images/JS_div_different_lengths_Consumer_Services.pdf\",\n",
    "    dpi=600,\n",
    "    bbox_inches=\"tight\",\n",
    ")\n",
    "\n",
    "plt.show()"
   ]
  },
  {
   "cell_type": "markdown",
   "metadata": {},
   "source": [
    "<a name=\"comparison_health_care\"></a>\n",
    "#### Comparison Health Care"
   ]
  },
  {
   "cell_type": "code",
   "execution_count": null,
   "metadata": {},
   "outputs": [],
   "source": [
    "df_health_care = pd.DataFrame(\n",
    "    columns=[\n",
    "        \"Industrials\",\n",
    "        \"Basic Materials\",\n",
    "        \"Financials\",\n",
    "        \"Consumer Services\",\n",
    "        \"Utilities\",\n",
    "        \"Oil & Gas\",\n",
    "        \"Consumer Goods\",\n",
    "    ]\n",
    ")"
   ]
  },
  {
   "cell_type": "code",
   "execution_count": null,
   "metadata": {},
   "outputs": [],
   "source": [
    "# DO NOT RUN IF YOU ALREADY HAVE THE DATAFRAME\n",
    "\n",
    "for length in lengths:\n",
    "    for target in [\"Health Care\"]:\n",
    "        other_sectors = [sector for sector in sectors if sector != target]\n",
    "\n",
    "        for i, sector in enumerate(other_sectors):\n",
    "            doinfo_one_sector = np.load(\n",
    "                f\"./results/economic_results/comparison/do_info/one_sector_{target}_length_{length}.npy\"\n",
    "            )\n",
    "            doinfo_two_sectors = np.load(\n",
    "                f\"./results/economic_results/comparison/do_info/two_sectors_{target}_{sector}_length_{length}.npy\"\n",
    "            )\n",
    "\n",
    "            df_health_care.at[length, sector] = JS_div(doinfo_one_sector, doinfo_two_sectors)\n",
    "            \n",
    "df_health_care.to_csv(\"./results/economic_results/comparison/length_Health_Care.csv\", index=True)"
   ]
  },
  {
   "cell_type": "code",
   "execution_count": null,
   "metadata": {},
   "outputs": [],
   "source": [
    "df_health_care = pd.read_csv(\"./results/economic_results/comparison/length_Health_Care.csv\", index_col=0)\n",
    "df_health_care"
   ]
  },
  {
   "cell_type": "code",
   "execution_count": null,
   "metadata": {},
   "outputs": [],
   "source": [
    "# DO NOT RUN IF YOU ALREADY HAVE THE PLOT\n",
    "\n",
    "num_rows = len(df_health_care.columns)\n",
    "num_cols = 1\n",
    "\n",
    "fig, axs = plt.subplots(num_rows, num_cols, figsize=(10, 25))\n",
    "\n",
    "for i, column in enumerate(df_health_care.columns):\n",
    "    label = str(f\"{column}\")\n",
    "    axs[i].scatter(df_health_care.index, df_health_care[column], label=label)\n",
    "\n",
    "    axs[i].legend(fontsize=13)\n",
    "    axs[i].set_ylabel(\"JS-div\", fontsize=14)\n",
    "\n",
    "    if i == num_rows - 1:\n",
    "        axs[i].set_xlabel(\"Length\", fontsize=14)\n",
    "\n",
    "fig.suptitle(\"Health Care\", fontsize=22)\n",
    "plt.subplots_adjust(top=0.96)\n",
    "\n",
    "plt.savefig(\n",
    "    f\"./results/economic_results/comparison/images/JS_div_different_lengths_Health_Care.pdf\",\n",
    "    dpi=600,\n",
    "    bbox_inches=\"tight\",\n",
    ")\n",
    "\n",
    "plt.show()"
   ]
  },
  {
   "cell_type": "markdown",
   "metadata": {},
   "source": [
    "<a name=\"comparison_utilities\"></a>\n",
    "#### Comparison Utilities"
   ]
  },
  {
   "cell_type": "code",
   "execution_count": null,
   "metadata": {},
   "outputs": [],
   "source": [
    "df_utilities = pd.DataFrame(\n",
    "    columns=[\n",
    "        \"Industrials\",\n",
    "        \"Basic Materials\",\n",
    "        \"Financials\",\n",
    "        \"Consumer Services\",\n",
    "        \"Health Care\",\n",
    "        \"Oil & Gas\",\n",
    "        \"Consumer Goods\",\n",
    "    ]\n",
    ")"
   ]
  },
  {
   "cell_type": "code",
   "execution_count": null,
   "metadata": {},
   "outputs": [],
   "source": [
    "# DO NOT RUN IF YOU ALREADY HAVE THE DATAFRAME\n",
    "\n",
    "for length in lengths:\n",
    "    for target in [\"Utilities\"]:\n",
    "        other_sectors = [sector for sector in sectors if sector != target]\n",
    "\n",
    "        for i, sector in enumerate(other_sectors):\n",
    "            doinfo_one_sector = np.load(\n",
    "                f\"./results/economic_results/comparison/do_info/one_sector_{target}_length_{length}.npy\"\n",
    "            )\n",
    "            doinfo_two_sectors = np.load(\n",
    "                f\"./results/economic_results/comparison/do_info/two_sectors_{target}_{sector}_length_{length}.npy\"\n",
    "            )\n",
    "\n",
    "            df_utilities.at[length, sector] = JS_div(doinfo_one_sector, doinfo_two_sectors)\n",
    "            \n",
    "df_utilities.to_csv(\"./results/economic_results/comparison/length_Utilities.csv\", index=True)"
   ]
  },
  {
   "cell_type": "code",
   "execution_count": null,
   "metadata": {},
   "outputs": [],
   "source": [
    "df_utilities = pd.read_csv(\"./results/economic_results/comparison/length_Utilities.csv\", index_col=0)\n",
    "df_utilities"
   ]
  },
  {
   "cell_type": "code",
   "execution_count": null,
   "metadata": {},
   "outputs": [],
   "source": [
    "# DO NOT RUN IF YOU ALREADY HAVE THE PLOT\n",
    "\n",
    "num_rows = len(df_utilities.columns)\n",
    "num_cols = 1\n",
    "\n",
    "fig, axs = plt.subplots(num_rows, num_cols, figsize=(10, 25))\n",
    "\n",
    "for i, column in enumerate(df_utilities.columns):\n",
    "    label = str(f\"{column}\")\n",
    "    axs[i].scatter(df_utilities.index, df_utilities[column], label=label)\n",
    "\n",
    "    axs[i].legend(fontsize=13)\n",
    "    axs[i].set_ylabel(\"JS-div\", fontsize=14)\n",
    "\n",
    "    if i == num_rows - 1:\n",
    "        axs[i].set_xlabel(\"Length\", fontsize=14)\n",
    "\n",
    "fig.suptitle(\"Utilities\", fontsize=22)\n",
    "plt.subplots_adjust(top=0.96)\n",
    "\n",
    "plt.savefig(\n",
    "    f\"./results/economic_results/comparison/images/JS_div_different_lengths_Utilities.pdf\",\n",
    "    dpi=600,\n",
    "    bbox_inches=\"tight\",\n",
    ")\n",
    "\n",
    "plt.show()"
   ]
  },
  {
   "cell_type": "markdown",
   "metadata": {},
   "source": [
    "<a name=\"comparison_oil_gas\"></a>\n",
    "#### Comparison Oil & Gas"
   ]
  },
  {
   "cell_type": "code",
   "execution_count": null,
   "metadata": {},
   "outputs": [],
   "source": [
    "df_oil_gas = pd.DataFrame(\n",
    "    columns=[\n",
    "        \"Industrials\",\n",
    "        \"Basic Materials\",\n",
    "        \"Financials\",\n",
    "        \"Consumer Services\",\n",
    "        \"Health Care\",\n",
    "        \"Utilities\",\n",
    "        \"Consumer Goods\",\n",
    "    ]\n",
    ")"
   ]
  },
  {
   "cell_type": "code",
   "execution_count": null,
   "metadata": {},
   "outputs": [],
   "source": [
    "# DO NOT RUN IF YOU ALREADY HAVE THE DATAFRAME\n",
    "\n",
    "for length in lengths:\n",
    "    for target in [\"Oil & Gas\"]:\n",
    "        other_sectors = [sector for sector in sectors if sector != target]\n",
    "\n",
    "        for i, sector in enumerate(other_sectors):\n",
    "            doinfo_one_sector = np.load(\n",
    "                f\"./results/economic_results/comparison/do_info/one_sector_{target}_length_{length}.npy\"\n",
    "            )\n",
    "            doinfo_two_sectors = np.load(\n",
    "                f\"./results/economic_results/comparison/do_info/two_sectors_{target}_{sector}_length_{length}.npy\"\n",
    "            )\n",
    "\n",
    "            df_oil_gas.at[length, sector] = JS_div(doinfo_one_sector, doinfo_two_sectors)\n",
    "            \n",
    "df_oil_gas.to_csv(\"./results/economic_results/comparison/length_Oil_Gas.csv\", index=True)"
   ]
  },
  {
   "cell_type": "code",
   "execution_count": null,
   "metadata": {},
   "outputs": [],
   "source": [
    "df_oil_gas = pd.read_csv(\"./results/economic_results/comparison/length_Oil_Gas.csv\", index_col=0)\n",
    "df_oil_gas"
   ]
  },
  {
   "cell_type": "code",
   "execution_count": null,
   "metadata": {},
   "outputs": [],
   "source": [
    "# DO NOT RUN IF YOU ALREADY HAVE THE PLOT\n",
    "\n",
    "num_rows = len(df_oil_gas.columns)\n",
    "num_cols = 1\n",
    "\n",
    "fig, axs = plt.subplots(num_rows, num_cols, figsize=(10, 25))\n",
    "\n",
    "for i, column in enumerate(df_oil_gas.columns):\n",
    "    label = str(f\"{column}\")\n",
    "    axs[i].scatter(df_oil_gas.index, df_oil_gas[column], label=label)\n",
    "\n",
    "    axs[i].legend(fontsize=13)\n",
    "    axs[i].set_ylabel(\"JS-div\", fontsize=14)\n",
    "\n",
    "    if i == num_rows - 1:\n",
    "        axs[i].set_xlabel(\"Length\", fontsize=14)\n",
    "\n",
    "fig.suptitle(\"Oil & Gas\", fontsize=22)\n",
    "plt.subplots_adjust(top=0.96)\n",
    "\n",
    "plt.savefig(\n",
    "    f\"./results/economic_results/comparison/images/JS_div_different_lengths_Oil_Gas.pdf\",\n",
    "    dpi=600,\n",
    "    bbox_inches=\"tight\",\n",
    ")\n",
    "\n",
    "plt.show()"
   ]
  },
  {
   "cell_type": "markdown",
   "metadata": {},
   "source": [
    "<a name=\"comparison_consumer_goods\"></a>\n",
    "#### Comparison Consumer Goods"
   ]
  },
  {
   "cell_type": "code",
   "execution_count": null,
   "metadata": {},
   "outputs": [],
   "source": [
    "df_consumer_goods = pd.DataFrame(\n",
    "    columns=[\n",
    "        \"Industrials\",\n",
    "        \"Basic Materials\",\n",
    "        \"Financials\",\n",
    "        \"Consumer Services\",\n",
    "        \"Health Care\",\n",
    "        \"Utilities\",\n",
    "        \"Oil & Gas\",\n",
    "    ]\n",
    ")"
   ]
  },
  {
   "cell_type": "code",
   "execution_count": null,
   "metadata": {},
   "outputs": [],
   "source": [
    "# DO NOT RUN IF YOU ALREADY HAVE THE DATAFRAME\n",
    "\n",
    "for length in lengths:\n",
    "    for target in [\"Consumer Goods\"]:\n",
    "        other_sectors = [sector for sector in sectors if sector != target]\n",
    "\n",
    "        for i, sector in enumerate(other_sectors):\n",
    "            doinfo_one_sector = np.load(\n",
    "                f\"./results/economic_results/comparison/do_info/one_sector_{target}_length_{length}.npy\"\n",
    "            )\n",
    "            doinfo_two_sectors = np.load(\n",
    "                f\"./results/economic_results/comparison/do_info/two_sectors_{target}_{sector}_length_{length}.npy\"\n",
    "            )\n",
    "\n",
    "            df_consumer_goods.at[length, sector] = JS_div(doinfo_one_sector, doinfo_two_sectors)\n",
    "            \n",
    "df_consumer_goods.to_csv(\"./results/economic_results/comparison/length_Consumer_Goods.csv\", index=True)"
   ]
  },
  {
   "cell_type": "code",
   "execution_count": null,
   "metadata": {},
   "outputs": [],
   "source": [
    "df_consumer_goods = pd.read_csv(\"./results/economic_results/comparison/length_Consumer_Goods.csv\", index_col=0)\n",
    "df_consumer_goods"
   ]
  },
  {
   "cell_type": "code",
   "execution_count": null,
   "metadata": {},
   "outputs": [],
   "source": [
    "# DO NOT RUN IF YOU ALREADY HAVE THE PLOT\n",
    "\n",
    "num_rows = len(df_consumer_goods.columns)\n",
    "num_cols = 1\n",
    "\n",
    "fig, axs = plt.subplots(num_rows, num_cols, figsize=(10, 25))\n",
    "\n",
    "for i, column in enumerate(df_consumer_goods.columns):\n",
    "    label = str(f\"{column}\")\n",
    "    axs[i].scatter(df_consumer_goods.index, df_consumer_goods[column], label=label)\n",
    "\n",
    "    axs[i].legend(fontsize=13)\n",
    "    axs[i].set_ylabel(\"JS-div\", fontsize=14)\n",
    "\n",
    "    if i == num_rows - 1:\n",
    "        axs[i].set_xlabel(\"Length\", fontsize=14)\n",
    "\n",
    "fig.suptitle(\"Consumer Goods\", fontsize=22)\n",
    "plt.subplots_adjust(top=0.96)\n",
    "\n",
    "plt.savefig(\n",
    "    f\"./results/economic_results/comparison/images/JS_div_different_lengths_Consumer_Goods.pdf\",\n",
    "    dpi=600,\n",
    "    bbox_inches=\"tight\",\n",
    ")\n",
    "\n",
    "plt.show()"
   ]
  },
  {
   "cell_type": "markdown",
   "metadata": {},
   "source": [
    "<a name=\"heatmaps\"></a>\n",
    "## Heatmaps"
   ]
  },
  {
   "cell_type": "markdown",
   "metadata": {},
   "source": [
    "<a name=\"matrix\"></a>\n",
    "### Matrix"
   ]
  },
  {
   "cell_type": "markdown",
   "metadata": {},
   "source": [
    "2 in the source and 1 in the target"
   ]
  },
  {
   "cell_type": "code",
   "execution_count": null,
   "metadata": {},
   "outputs": [],
   "source": [
    "df_matrix_all = pd.DataFrame(\n",
    "    columns=[\n",
    "        \"Industrials\",\n",
    "        \"Basic Materials\",\n",
    "        \"Financials\",\n",
    "        \"Consumer Services\",\n",
    "        \"Health Care\",\n",
    "        \"Utilities\",\n",
    "        \"Oil & Gas\",\n",
    "        \"Consumer Goods\",\n",
    "    ]\n",
    ")"
   ]
  },
  {
   "cell_type": "code",
   "execution_count": null,
   "metadata": {},
   "outputs": [],
   "source": [
    "# DO NOT RUN IF YOU ALREADY HAVE THE DATAFRAME\n",
    "\n",
    "for target in sectors:\n",
    "    for i, sector in enumerate(sectors):\n",
    "        if target == sector:\n",
    "            doinfo_one_sector = np.load(\n",
    "                f\"./results/economic_results/full/do_info/doinfo_one_sector_{target}_tw_{tw}.npy\"\n",
    "            )\n",
    "            df_matrix_all.at[target, sector] = np.mean(doinfo_one_sector)\n",
    "        else:\n",
    "            doinfo_two_sectors = np.load(\n",
    "                f\"./results/economic_results/full/do_info/doinfo_two_sectors_{target}_{sector}_tw_{tw}.npy\"\n",
    "            )\n",
    "            df_matrix_all.at[target, sector] = np.mean(doinfo_two_sectors)\n",
    "            \n",
    "\n",
    "            \n",
    "df_matrix_all.to_csv(\"./results/economic_results/comparison/matrix_2_1_all.csv\", index=True)"
   ]
  },
  {
   "cell_type": "code",
   "execution_count": null,
   "metadata": {},
   "outputs": [],
   "source": [
    "df_matrix_all = pd.read_csv(\"./results/economic_results/comparison/matrix_2_1_all.csv\", index_col=0)\n",
    "df_matrix_all"
   ]
  },
  {
   "cell_type": "code",
   "execution_count": null,
   "metadata": {},
   "outputs": [],
   "source": [
    "sns.heatmap(df_matrix_all)\n",
    "\n",
    "plt.xlabel(\"Source\")\n",
    "plt.ylabel(\"Target\")\n",
    "\n",
    "plt.savefig(\n",
    "    f\"./results/economic_results/comparison/images/heatmap_matrix_all.pdf\",\n",
    "    dpi=600,\n",
    "    bbox_inches=\"tight\",\n",
    ")\n",
    "\n",
    "plt.show()"
   ]
  },
  {
   "cell_type": "markdown",
   "metadata": {},
   "source": [
    "Let's now consider only the 3 more synergistic/redundant for each distribution"
   ]
  },
  {
   "cell_type": "code",
   "execution_count": null,
   "metadata": {},
   "outputs": [],
   "source": [
    "df_matrix_red, df_matrix_syn = df_matrix_all.copy(), df_matrix_all.copy()"
   ]
  },
  {
   "cell_type": "code",
   "execution_count": null,
   "metadata": {},
   "outputs": [],
   "source": [
    "# DO NOT RUN IF YOU ALREADY HAVE THE DATAFRAME\n",
    "\n",
    "for target in sectors:\n",
    "    for i, sector in enumerate(sectors):\n",
    "        if target == sector:\n",
    "            doinfo_one_sector = np.load(\n",
    "                f\"./results/economic_results/full/do_info/doinfo_one_sector_{target}_tw_{tw}.npy\"\n",
    "            )\n",
    "            df_matrix_red.at[target, sector] = np.mean(np.sort(doinfo_one_sector)[-3:])\n",
    "        else:\n",
    "            doinfo_two_sectors = np.load(\n",
    "                f\"./results/economic_results/full/do_info/doinfo_two_sectors_{target}_{sector}_tw_{tw}.npy\"\n",
    "            )\n",
    "            df_matrix_red.at[target, sector] = np.mean(np.sort(doinfo_two_sectors)[-3:])\n",
    "            \n",
    "\n",
    "            \n",
    "df_matrix_red.to_csv(\"./results/economic_results/comparison/matrix_2_1_red.csv\", index=True)"
   ]
  },
  {
   "cell_type": "code",
   "execution_count": null,
   "metadata": {},
   "outputs": [],
   "source": [
    "# DO NOT RUN IF YOU ALREADY HAVE THE DATAFRAME\n",
    "\n",
    "for target in sectors:\n",
    "    for i, sector in enumerate(sectors):\n",
    "        if target == sector:\n",
    "            doinfo_one_sector = np.load(\n",
    "                f\"./results/economic_results/full/do_info/doinfo_one_sector_{target}_tw_{tw}.npy\"\n",
    "            )\n",
    "            df_matrix_syn.at[target, sector] = np.mean(np.sort(doinfo_one_sector)[:3])\n",
    "        else:\n",
    "            doinfo_two_sectors = np.load(\n",
    "                f\"./results/economic_results/full/do_info/doinfo_two_sectors_{target}_{sector}_tw_{tw}.npy\"\n",
    "            )\n",
    "            df_matrix_syn.at[target, sector] = np.mean(np.sort(doinfo_two_sectors)[:3])\n",
    "            \n",
    "\n",
    "            \n",
    "df_matrix_syn.to_csv(\"./results/economic_results/comparison/matrix_2_1_syn.csv\", index=True)"
   ]
  },
  {
   "cell_type": "code",
   "execution_count": null,
   "metadata": {},
   "outputs": [],
   "source": [
    "df_matrix_red = pd.read_csv(\"./results/economic_results/comparison/matrix_2_1_red.csv\", index_col=0)\n",
    "df_matrix_red"
   ]
  },
  {
   "cell_type": "code",
   "execution_count": null,
   "metadata": {},
   "outputs": [],
   "source": [
    "sns.heatmap(df_matrix_red)\n",
    "\n",
    "plt.xlabel(\"Source\")\n",
    "plt.ylabel(\"Target\")\n",
    "\n",
    "plt.savefig(\n",
    "    f\"./results/economic_results/comparison/images/heatmap_matrix_red.pdf\",\n",
    "    dpi=600,\n",
    "    bbox_inches=\"tight\",\n",
    ")\n",
    "\n",
    "plt.show()"
   ]
  },
  {
   "cell_type": "code",
   "execution_count": null,
   "metadata": {},
   "outputs": [],
   "source": [
    "df_matrix_syn = pd.read_csv(\"./results/economic_results/comparison/matrix_2_1_syn.csv\", index_col=0)\n",
    "df_matrix_syn"
   ]
  },
  {
   "cell_type": "code",
   "execution_count": null,
   "metadata": {},
   "outputs": [],
   "source": [
    "sns.heatmap(df_matrix_syn)\n",
    "\n",
    "plt.xlabel(\"Source\")\n",
    "plt.ylabel(\"Target\")\n",
    "\n",
    "plt.savefig(\n",
    "    f\"./results/economic_results/comparison/images/heatmap_matrix_syn.pdf\",\n",
    "    dpi=600,\n",
    "    bbox_inches=\"tight\",\n",
    ")\n",
    "\n",
    "plt.show()"
   ]
  },
  {
   "cell_type": "markdown",
   "metadata": {},
   "source": [
    "<a name=\"divided_year\"></a>\n",
    "### Divided by year"
   ]
  },
  {
   "cell_type": "markdown",
   "metadata": {},
   "source": [
    "Load data"
   ]
  },
  {
   "cell_type": "code",
   "execution_count": null,
   "metadata": {},
   "outputs": [],
   "source": [
    "# I am deleting the data for the Techonolgy sector because there are only a few\n",
    "financial_ts = financial_ts.drop(\n",
    "    columns=[\"CACI\", \"CIEN\", \"DBD\", \"DDD\"]\n",
    ")"
   ]
  },
  {
   "cell_type": "code",
   "execution_count": null,
   "metadata": {},
   "outputs": [],
   "source": [
    "financial_ts[\"Date\"] = pd.to_datetime(financial_ts[\"Date\"])\n",
    "\n",
    "years = financial_ts[\"Date\"].dt.year.unique()[1:]\n",
    "\n",
    "diz_years = {}\n",
    "\n",
    "for year in years:\n",
    "    df_year = financial_ts[financial_ts[\"Date\"].dt.year == year]\n",
    "\n",
    "    diz_years[year] = df_year"
   ]
  },
  {
   "cell_type": "code",
   "execution_count": null,
   "metadata": {},
   "outputs": [],
   "source": [
    "diz_years[2000]"
   ]
  },
  {
   "cell_type": "code",
   "execution_count": null,
   "metadata": {},
   "outputs": [],
   "source": [
    "tw = 7\n",
    "diz_years_bin = {}\n",
    "    \n",
    "for year in years:\n",
    "    diz_years_bin[year] = binarize_df(diz_years[year], tw)"
   ]
  },
  {
   "cell_type": "code",
   "execution_count": null,
   "metadata": {},
   "outputs": [],
   "source": [
    "diz_years_bin[2000]"
   ]
  },
  {
   "cell_type": "code",
   "execution_count": null,
   "metadata": {},
   "outputs": [],
   "source": [
    "# DO NOT RUN IF YOU ALREADY HAVE THE DATA\n",
    "\n",
    "for year in years:\n",
    "    for target in sectors:\n",
    "        other_sectors = [sector for sector in sectors if sector != target]\n",
    "        for i, sector in enumerate(other_sectors):\n",
    "\n",
    "            if i == 0:\n",
    "                doinfo_one_sector = get_do_infos_same(target, diz_years_bin[year])\n",
    "                np.save(\n",
    "                    f\"./results/economic_results/comparison/do_info/years/one_sector_{target}_year_{year}.npy\",\n",
    "                    doinfo_one_sector,\n",
    "                )\n",
    "\n",
    "            doinfo_two_sectors = get_do_infos_two_different(\n",
    "                target, sector, diz_years_bin[year]\n",
    "            )\n",
    "            np.save(\n",
    "                f\"./results/economic_results/comparison/do_info/years/two_sectors_{target}_{sector}_year_{year}.npy\",\n",
    "                doinfo_two_sectors,\n",
    "            )"
   ]
  },
  {
   "cell_type": "code",
   "execution_count": null,
   "metadata": {},
   "outputs": [],
   "source": [
    "df_industrials = pd.DataFrame(columns=years)\n",
    "\n",
    "(\n",
    "    df_basic_materials,\n",
    "    df_financials,\n",
    "    df_consumer_services,\n",
    "    df_health_care,\n",
    "    df_utilities,\n",
    "    df_oli_gas,\n",
    "    df_consumer_goods,\n",
    ") = (\n",
    "    df_industrials.copy(),\n",
    "    df_industrials.copy(),\n",
    "    df_industrials.copy(),\n",
    "    df_industrials.copy(),\n",
    "    df_industrials.copy(),\n",
    "    df_industrials.copy(),\n",
    "    df_industrials.copy(),\n",
    ")"
   ]
  },
  {
   "cell_type": "code",
   "execution_count": null,
   "metadata": {},
   "outputs": [],
   "source": [
    "for year in years:\n",
    "    for target in [\"Industrials\"]:\n",
    "        for i, sector in enumerate(sectors):\n",
    "\n",
    "            if target == sector:\n",
    "                doinfo_one_sector = np.load(\n",
    "                    f\"./results/economic_results/comparison/do_info/years/one_sector_{target}_year_{year}.npy\"\n",
    "                )\n",
    "                df_industrials.at[sector, year] = np.mean(doinfo_one_sector)\n",
    "            else:\n",
    "                doinfo_two_sectors = np.load(\n",
    "                    f\"./results/economic_results/comparison/do_info/years/two_sectors_{target}_{sector}_year_{year}.npy\"\n",
    "                )\n",
    "                df_industrials.at[sector, year] = np.mean(doinfo_two_sectors)\n",
    "                \n",
    "df_industrials.to_csv(\n",
    "    \"./results/economic_results/comparison/years_Industrial.csv\", index=True\n",
    ")"
   ]
  },
  {
   "cell_type": "code",
   "execution_count": null,
   "metadata": {},
   "outputs": [],
   "source": [
    "for year in years:\n",
    "    for target in [\"Basic Materials\"]:\n",
    "        for i, sector in enumerate(sectors):\n",
    "\n",
    "            if target == sector:\n",
    "                doinfo_one_sector = np.load(\n",
    "                    f\"./results/economic_results/comparison/do_info/years/one_sector_{target}_year_{year}.npy\"\n",
    "                )\n",
    "                df_basic_materials.at[sector, year] = np.mean(doinfo_one_sector)\n",
    "            else:\n",
    "                doinfo_two_sectors = np.load(\n",
    "                    f\"./results/economic_results/comparison/do_info/years/two_sectors_{target}_{sector}_year_{year}.npy\"\n",
    "                )\n",
    "                df_basic_materials.at[sector, year] = np.mean(doinfo_two_sectors)\n",
    "                \n",
    "df_basic_materials.to_csv(\n",
    "    \"./results/economic_results/comparison/years_Basic_Materials.csv\", index=True\n",
    ")"
   ]
  },
  {
   "cell_type": "code",
   "execution_count": null,
   "metadata": {},
   "outputs": [],
   "source": [
    "for year in years:\n",
    "    for target in [\"Financials\"]:\n",
    "        for i, sector in enumerate(sectors):\n",
    "\n",
    "            if target == sector:\n",
    "                doinfo_one_sector = np.load(\n",
    "                    f\"./results/economic_results/comparison/do_info/years/one_sector_{target}_year_{year}.npy\"\n",
    "                )\n",
    "                df_financials.at[sector, year] = np.mean(doinfo_one_sector)\n",
    "            else:\n",
    "                doinfo_two_sectors = np.load(\n",
    "                    f\"./results/economic_results/comparison/do_info/years/two_sectors_{target}_{sector}_year_{year}.npy\"\n",
    "                )\n",
    "                df_financials.at[sector, year] = np.mean(doinfo_two_sectors)\n",
    "                \n",
    "df_financials.to_csv(\n",
    "    \"./results/economic_results/comparison/years_Financials.csv\", index=True\n",
    ")"
   ]
  },
  {
   "cell_type": "code",
   "execution_count": null,
   "metadata": {},
   "outputs": [],
   "source": [
    "for year in years:\n",
    "    for target in [\"Consumer Services\"]:\n",
    "        for i, sector in enumerate(sectors):\n",
    "\n",
    "            if target == sector:\n",
    "                doinfo_one_sector = np.load(\n",
    "                    f\"./results/economic_results/comparison/do_info/years/one_sector_{target}_year_{year}.npy\"\n",
    "                )\n",
    "                df_consumer_services.at[sector, year] = np.mean(doinfo_one_sector)\n",
    "            else:\n",
    "                doinfo_two_sectors = np.load(\n",
    "                    f\"./results/economic_results/comparison/do_info/years/two_sectors_{target}_{sector}_year_{year}.npy\"\n",
    "                )\n",
    "                df_consumer_services.at[sector, year] = np.mean(doinfo_two_sectors)\n",
    "                \n",
    "df_consumer_services.to_csv(\n",
    "    \"./results/economic_results/comparison/years_Consumer_Services.csv\", index=True\n",
    ")"
   ]
  },
  {
   "cell_type": "code",
   "execution_count": null,
   "metadata": {},
   "outputs": [],
   "source": [
    "for year in years:\n",
    "    for target in [\"Health Care\"]:\n",
    "        for i, sector in enumerate(sectors):\n",
    "\n",
    "            if target == sector:\n",
    "                doinfo_one_sector = np.load(\n",
    "                    f\"./results/economic_results/comparison/do_info/years/one_sector_{target}_year_{year}.npy\"\n",
    "                )\n",
    "                df_health_care.at[sector, year] = np.mean(doinfo_one_sector)\n",
    "            else:\n",
    "                doinfo_two_sectors = np.load(\n",
    "                    f\"./results/economic_results/comparison/do_info/years/two_sectors_{target}_{sector}_year_{year}.npy\"\n",
    "                )\n",
    "                df_health_care.at[sector, year] = np.mean(doinfo_two_sectors)\n",
    "                \n",
    "df_health_care.to_csv(\n",
    "    \"./results/economic_results/comparison/years_Health_Care.csv\", index=True\n",
    ")"
   ]
  },
  {
   "cell_type": "code",
   "execution_count": null,
   "metadata": {},
   "outputs": [],
   "source": [
    "for year in years:\n",
    "    for target in [\"Utilities\"]:\n",
    "        for i, sector in enumerate(sectors):\n",
    "\n",
    "            if target == sector:\n",
    "                doinfo_one_sector = np.load(\n",
    "                    f\"./results/economic_results/comparison/do_info/years/one_sector_{target}_year_{year}.npy\"\n",
    "                )\n",
    "                df_utilities.at[sector, year] = np.mean(doinfo_one_sector)\n",
    "            else:\n",
    "                doinfo_two_sectors = np.load(\n",
    "                    f\"./results/economic_results/comparison/do_info/years/two_sectors_{target}_{sector}_year_{year}.npy\"\n",
    "                )\n",
    "                df_utilities.at[sector, year] = np.mean(doinfo_two_sectors)\n",
    "                \n",
    "df_utilities.to_csv(\n",
    "    \"./results/economic_results/comparison/years_Utilities.csv\", index=True\n",
    ")"
   ]
  },
  {
   "cell_type": "code",
   "execution_count": null,
   "metadata": {},
   "outputs": [],
   "source": [
    "for year in years:\n",
    "    for target in [\"Oil & Gas\"]:\n",
    "        for i, sector in enumerate(sectors):\n",
    "\n",
    "            if target == sector:\n",
    "                doinfo_one_sector = np.load(\n",
    "                    f\"./results/economic_results/comparison/do_info/years/one_sector_{target}_year_{year}.npy\"\n",
    "                )\n",
    "                df_oli_gas.at[sector, year] = np.mean(doinfo_one_sector)\n",
    "            else:\n",
    "                doinfo_two_sectors = np.load(\n",
    "                    f\"./results/economic_results/comparison/do_info/years/two_sectors_{target}_{sector}_year_{year}.npy\"\n",
    "                )\n",
    "                df_oli_gas.at[sector, year] = np.mean(doinfo_two_sectors)\n",
    "                \n",
    "df_oli_gas.to_csv(\n",
    "    \"./results/economic_results/comparison/years_Oil_Gas.csv\", index=True\n",
    ")"
   ]
  },
  {
   "cell_type": "code",
   "execution_count": null,
   "metadata": {},
   "outputs": [],
   "source": [
    "for year in years:\n",
    "    for target in [\"Consumer Goods\"]:\n",
    "        for i, sector in enumerate(sectors):\n",
    "\n",
    "            if target == sector:\n",
    "                doinfo_one_sector = np.load(\n",
    "                    f\"./results/economic_results/comparison/do_info/years/one_sector_{target}_year_{year}.npy\"\n",
    "                )\n",
    "                df_consumer_goods.at[sector, year] = np.mean(doinfo_one_sector)\n",
    "            else:\n",
    "                doinfo_two_sectors = np.load(\n",
    "                    f\"./results/economic_results/comparison/do_info/years/two_sectors_{target}_{sector}_year_{year}.npy\"\n",
    "                )\n",
    "                df_consumer_goods.at[sector, year] = np.mean(doinfo_two_sectors)\n",
    "                \n",
    "df_consumer_goods.to_csv(\n",
    "    \"./results/economic_results/comparison/years_Consumer_Goods.csv\", index=True\n",
    ")"
   ]
  },
  {
   "cell_type": "code",
   "execution_count": null,
   "metadata": {},
   "outputs": [],
   "source": [
    "df_industrials = pd.read_csv(\"./results/economic_results/comparison/years_Industrial.csv\", index_col=0)\n",
    "df_basic_materials = pd.read_csv(\"./results/economic_results/comparison/years_Basic_Materials.csv\", index_col=0)\n",
    "df_financials = pd.read_csv(\"./results/economic_results/comparison/years_Financials.csv\", index_col=0)\n",
    "df_consumer_services = pd.read_csv(\"./results/economic_results/comparison/years_Consumer_Services.csv\", index_col=0)\n",
    "df_health_care = pd.read_csv(\"./results/economic_results/comparison/years_Health_Care.csv\", index_col=0)\n",
    "df_utilities = pd.read_csv(\"./results/economic_results/comparison/years_Utilities.csv\", index_col=0)\n",
    "df_oli_gas = pd.read_csv(\"./results/economic_results/comparison/years_Oil_Gas.csv\", index_col=0)\n",
    "df_consumer_goods = pd.read_csv(\"./results/economic_results/comparison/years_Consumer_Goods.csv\", index_col=0)"
   ]
  },
  {
   "cell_type": "code",
   "execution_count": null,
   "metadata": {},
   "outputs": [],
   "source": [
    "sns.heatmap(df_industrials)\n",
    "\n",
    "plt.xlabel(\"Year\")\n",
    "plt.ylabel(\"Source\")\n",
    "plt.title(\"1 in Industrials, 2 in source\")\n",
    "\n",
    "plt.savefig(\n",
    "    f\"./results/economic_results/comparison/images/heatmap_years_Industrials.pdf\",\n",
    "    dpi=600,\n",
    "    bbox_inches=\"tight\",\n",
    ")\n",
    "\n",
    "plt.show()"
   ]
  },
  {
   "cell_type": "code",
   "execution_count": null,
   "metadata": {},
   "outputs": [],
   "source": [
    "sns.heatmap(df_basic_materials)\n",
    "\n",
    "plt.xlabel(\"Year\")\n",
    "plt.ylabel(\"Source\")\n",
    "plt.title(\"1 in Basic Materials, 2 in source\")\n",
    "\n",
    "plt.savefig(\n",
    "    f\"./results/economic_results/comparison/images/heatmap_years_Basic_Materials.pdf\",\n",
    "    dpi=600,\n",
    "    bbox_inches=\"tight\",\n",
    ")\n",
    "\n",
    "plt.show()"
   ]
  },
  {
   "cell_type": "code",
   "execution_count": null,
   "metadata": {},
   "outputs": [],
   "source": [
    "sns.heatmap(df_financials)\n",
    "\n",
    "plt.xlabel(\"Year\")\n",
    "plt.ylabel(\"Source\")\n",
    "plt.title(\"1 in Financials, 2 in source\")\n",
    "\n",
    "plt.savefig(\n",
    "    f\"./results/economic_results/comparison/images/heatmap_years_Financials.pdf\",\n",
    "    dpi=600,\n",
    "    bbox_inches=\"tight\",\n",
    ")\n",
    "\n",
    "plt.show()"
   ]
  },
  {
   "cell_type": "code",
   "execution_count": null,
   "metadata": {},
   "outputs": [],
   "source": [
    "sns.heatmap(df_consumer_services)\n",
    "\n",
    "plt.xlabel(\"Year\")\n",
    "plt.ylabel(\"Source\")\n",
    "plt.title(\"1 in Consumer Services, 2 in source\")\n",
    "\n",
    "plt.savefig(\n",
    "    f\"./results/economic_results/comparison/images/heatmap_years_Consumer_Services.pdf\",\n",
    "    dpi=600,\n",
    "    bbox_inches=\"tight\",\n",
    ")\n",
    "\n",
    "plt.show()"
   ]
  },
  {
   "cell_type": "code",
   "execution_count": null,
   "metadata": {},
   "outputs": [],
   "source": [
    "sns.heatmap(df_health_care)\n",
    "\n",
    "plt.xlabel(\"Year\")\n",
    "plt.ylabel(\"Source\")\n",
    "plt.title(\"1 in Health Care, 2 in source\")\n",
    "\n",
    "plt.savefig(\n",
    "    f\"./results/economic_results/comparison/images/heatmap_years_Health_Care.pdf\",\n",
    "    dpi=600,\n",
    "    bbox_inches=\"tight\",\n",
    ")\n",
    "\n",
    "plt.show()"
   ]
  },
  {
   "cell_type": "code",
   "execution_count": null,
   "metadata": {},
   "outputs": [],
   "source": [
    "sns.heatmap(df_utilities)\n",
    "\n",
    "plt.xlabel(\"Year\")\n",
    "plt.ylabel(\"Source\")\n",
    "plt.title(\"1 in Utilities, 2 in source\")\n",
    "\n",
    "plt.savefig(\n",
    "    f\"./results/economic_results/comparison/images/heatmap_years_Utilities.pdf\",\n",
    "    dpi=600,\n",
    "    bbox_inches=\"tight\",\n",
    ")\n",
    "\n",
    "plt.show()"
   ]
  },
  {
   "cell_type": "code",
   "execution_count": null,
   "metadata": {},
   "outputs": [],
   "source": [
    "sns.heatmap(df_oli_gas)\n",
    "\n",
    "plt.xlabel(\"Year\")\n",
    "plt.ylabel(\"Source\")\n",
    "plt.title(\"1 in Oil & Gas, 2 in source\")\n",
    "\n",
    "plt.savefig(\n",
    "    f\"./results/economic_results/comparison/images/heatmap_years_Oil_Gas.pdf\",\n",
    "    dpi=600,\n",
    "    bbox_inches=\"tight\",\n",
    ")\n",
    "\n",
    "plt.show()"
   ]
  },
  {
   "cell_type": "code",
   "execution_count": null,
   "metadata": {},
   "outputs": [],
   "source": [
    "sns.heatmap(df_consumer_goods)\n",
    "\n",
    "plt.xlabel(\"Year\")\n",
    "plt.ylabel(\"Source\")\n",
    "plt.title(\"1 in Consumer Goods, 2 in source\")\n",
    "\n",
    "plt.savefig(\n",
    "    f\"./results/economic_results/comparison/images/heatmap_years_Consumer_Goods.pdf\",\n",
    "    dpi=600,\n",
    "    bbox_inches=\"tight\",\n",
    ")\n",
    "\n",
    "plt.show()"
   ]
  },
  {
   "cell_type": "code",
   "execution_count": null,
   "metadata": {},
   "outputs": [],
   "source": []
  }
 ],
 "metadata": {
  "kernelspec": {
   "display_name": "Python 3 (ipykernel)",
   "language": "python",
   "name": "python3"
  },
  "language_info": {
   "codemirror_mode": {
    "name": "ipython",
    "version": 3
   },
   "file_extension": ".py",
   "mimetype": "text/x-python",
   "name": "python",
   "nbconvert_exporter": "python",
   "pygments_lexer": "ipython3",
   "version": "3.10.9"
  }
 },
 "nbformat": 4,
 "nbformat_minor": 2
}
